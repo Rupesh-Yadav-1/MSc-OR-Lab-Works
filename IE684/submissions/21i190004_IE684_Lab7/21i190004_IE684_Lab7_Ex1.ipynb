{
  "nbformat": 4,
  "nbformat_minor": 0,
  "metadata": {
    "colab": {
      "name": "21i190004_IE684_Lab7_Ex1.ipynb",
      "provenance": [],
      "collapsed_sections": []
    },
    "kernelspec": {
      "name": "python3",
      "display_name": "Python 3"
    },
    "language_info": {
      "name": "python"
    }
  },
  "cells": [
    {
      "cell_type": "code",
      "execution_count": 1,
      "metadata": {
        "id": "FCzGg-XMwgDc"
      },
      "outputs": [],
      "source": [
        "import numpy as np\n",
        "import matplotlib.pyplot as plt\n",
        "import math\n",
        "from timeit import default_timer as timer\n",
        "from matplotlib.axis import Axis\n",
        "from tabulate import tabulate"
      ]
    },
    {
      "cell_type": "code",
      "source": [
        "import numpy as np\n",
        "from sklearn.datasets import load_digits\n",
        "digits = load_digits()\n",
        "#check the shape of digits data\n",
        "print(digits.data.shape)\n",
        "#check the shape of digits target\n",
        "print(digits.target.shape)\n",
        "#let us use the linear regression used in the previous lab\n",
        "N = digits.data.shape[0] #Number of data points\n",
        "d = digits.data.shape[1] #Dimension of data points\n",
        "A = digits.data\n",
        "#In the following code, we create a Nx1 vector of target labels\n",
        "y = 1.0*np.ones([A.shape[0],1])\n",
        "for i in range(digits.target.shape[0]):\n",
        "  y[i] = digits.target[i]"
      ],
      "metadata": {
        "id": "Qw-uruthyBnz",
        "colab": {
          "base_uri": "https://localhost:8080/"
        },
        "outputId": "8d8e2173-8d8b-4671-82eb-3aa824b1edaf"
      },
      "execution_count": 2,
      "outputs": [
        {
          "output_type": "stream",
          "name": "stdout",
          "text": [
            "(1797, 64)\n",
            "(1797,)\n"
          ]
        }
      ]
    },
    {
      "cell_type": "markdown",
      "source": [
        "**Q 1**"
      ],
      "metadata": {
        "id": "knGqEpTakwXG"
      }
    },
    {
      "cell_type": "code",
      "source": [
        "def evalf(x,lamda):\n",
        "  assert type(x) is np.ndarray\n",
        "  fx = np.linalg.norm(np.matmul(A,x) - y)\n",
        "  fx = 0.5*(fx)**2 + 0.5*lamda*np.matmul(x.T,x)\n",
        "\n",
        "  return fx"
      ],
      "metadata": {
        "id": "6K8kXzLlky0x"
      },
      "execution_count": 3,
      "outputs": []
    },
    {
      "cell_type": "code",
      "source": [
        "def evalg(x,lamda):\n",
        "  assert type(x) is np.ndarray\n",
        "\n",
        "  return np.matmul(A.T, np.matmul(A, x) - y) + lamda*x"
      ],
      "metadata": {
        "id": "_2RoziIhlZnR"
      },
      "execution_count": 4,
      "outputs": []
    },
    {
      "cell_type": "code",
      "source": [
        "def evalh(x,lamda):\n",
        "  assert type(x) is np.ndarray\n",
        "\n",
        "  return np.matmul(A.T,A) + lamda*np.identity(64)"
      ],
      "metadata": {
        "id": "Kp8vUB3ds0Rn"
      },
      "execution_count": 5,
      "outputs": []
    },
    {
      "cell_type": "code",
      "source": [
        "def compute_steplength_backtracking_scaled_direction(x, gradf, lamda, direction, alpha_start, rho, gamma):\n",
        "  assert type(x) is np.ndarray\n",
        "  assert type(gradf) is np.ndarray\n",
        "  assert type(direction) is np.ndarray\n",
        "  assert type(alpha_start) is float and alpha_start>=0.\n",
        "  assert type(rho) is float and rho>=0.\n",
        "  assert type(gamma) is float and gamma>=0.\n",
        "  \n",
        "  alpha = alpha_start\n",
        "  while evalf(x+alpha*direction, lamda)>evalf(x, lamda)+gamma*alpha*np.matmul(gradf.T,direction):\n",
        "    alpha=rho*alpha\n",
        "\n",
        "  return alpha"
      ],
      "metadata": {
        "id": "j9wCLciivArR"
      },
      "execution_count": 6,
      "outputs": []
    },
    {
      "cell_type": "code",
      "source": [
        "def find_minimizer_newtons(start_x, tol, lamda, *args):\n",
        "  assert type(start_x) is np.ndarray \n",
        "  assert type(tol) is float and tol>=0 \n",
        "\n",
        "  x = start_x\n",
        "  n = x.shape[0]\n",
        "  g_x = evalg(x, lamda)\n",
        "\n",
        "  x_k_list =[]\n",
        "\n",
        "  alpha_start = args[0]\n",
        "  rho = args[1]\n",
        "  gamma = args[2]\n",
        "\n",
        "  k=0\n",
        "  while (np.linalg.norm(g_x) > tol):\n",
        "    D_k = np.linalg.inv(evalh(x, lamda))\n",
        "    p_k = -np.matmul(D_k, g_x)\n",
        "    step_length = compute_steplength_backtracking_scaled_direction(x, g_x, lamda, p_k, alpha_start, rho, gamma)\n",
        "  \n",
        "    x = np.add(x,np.multiply(step_length,p_k))\n",
        "    x_k_list.append(x)\n",
        "    k += 1 \n",
        "    g_x = evalg(x, lamda)\n",
        "  return x, evalf(x,lamda), k, x_k_list"
      ],
      "metadata": {
        "id": "h73Yk1T2s_If"
      },
      "execution_count": 7,
      "outputs": []
    },
    {
      "cell_type": "code",
      "source": [
        "'''\n",
        "print(\"Using Newton's Method \")\n",
        "print(\"\\nDirect OLSLR:\")\n",
        "minimizer1,fn1,iter1, x_k_list1 = find_minimizer_newtons(np.zeros((64,1)), 1e-5, 0, 0.9, 0.5, 0.5)\n",
        "#we have taken lambda=0 for direct OLSLR\n",
        "print('x* = ',minimizer1)\n",
        "'''"
      ],
      "metadata": {
        "id": "BiuVBoAqR0Ab",
        "colab": {
          "base_uri": "https://localhost:8080/",
          "height": 53
        },
        "outputId": "5cc1626a-802c-4326-a083-b8099f7bb8c4"
      },
      "execution_count": 17,
      "outputs": [
        {
          "output_type": "execute_result",
          "data": {
            "application/vnd.google.colaboratory.intrinsic+json": {
              "type": "string"
            },
            "text/plain": [
              "'\\nprint(\"Using Newton\\'s Method \")\\nprint(\"\\nDirect OLSLR:\")\\nminimizer1,fn1,iter1, x_k_list1 = find_minimizer_newtons(np.zeros((64,1)), 1e-5, 0, 0.9, 0.5, 0.5)\\n#we have taken lambda=0 for direct OLSLR\\nprint(\\'x* = \\',minimizer1)\\n'"
            ]
          },
          "metadata": {},
          "execution_count": 17
        }
      ]
    },
    {
      "cell_type": "markdown",
      "source": [
        "We are getting 'Singular matrix' error while applying Newtons method i.e. inverse of a matrix is not possible to obtain at some iteration."
      ],
      "metadata": {
        "id": "QSpDImmWqekm"
      }
    },
    {
      "cell_type": "code",
      "source": [
        "print(\"Using Newton's Method \")\n",
        "print(\"\\nRegularized OLSLR:\")\n",
        "minimizer1,fn1,iter1, x_k_list1 = find_minimizer_newtons(np.zeros((64,1)), 1e-5, 0.001, 0.9, 0.5, 0.5)\n",
        "\n",
        "print('xf* = ',minimizer1)"
      ],
      "metadata": {
        "colab": {
          "base_uri": "https://localhost:8080/"
        },
        "id": "0lQO6YyAwS6G",
        "outputId": "7e27a739-08c3-494c-e676-50f6a9151a19"
      },
      "execution_count": 9,
      "outputs": [
        {
          "output_type": "stream",
          "name": "stdout",
          "text": [
            "Using Newton's Method \n",
            "\n",
            "Regularized OLSLR:\n",
            "x* =  [[ 0.00000000e+00]\n",
            " [ 9.69076882e-02]\n",
            " [-4.32192762e-03]\n",
            " [-7.75916338e-03]\n",
            " [ 7.49591987e-02]\n",
            " [ 1.13946582e-02]\n",
            " [-2.71293921e-02]\n",
            " [-7.34410664e-03]\n",
            " [ 9.98267907e-01]\n",
            " [-2.88089376e-02]\n",
            " [ 1.18688356e-01]\n",
            " [ 6.60922719e-02]\n",
            " [-5.57075915e-02]\n",
            " [-6.97056149e-02]\n",
            " [ 9.65844014e-02]\n",
            " [ 2.55196013e-01]\n",
            " [-7.29830665e-01]\n",
            " [ 2.42711745e-02]\n",
            " [ 7.73241544e-02]\n",
            " [-2.33008498e-02]\n",
            " [-5.64077619e-02]\n",
            " [ 5.72413971e-02]\n",
            " [-4.88675248e-02]\n",
            " [-2.62555998e-01]\n",
            " [-9.06071169e-01]\n",
            " [-1.49769638e-01]\n",
            " [ 5.64022790e-02]\n",
            " [ 8.96665319e-02]\n",
            " [ 8.39315938e-02]\n",
            " [ 9.85410047e-02]\n",
            " [ 1.69269848e-03]\n",
            " [-2.96649688e+00]\n",
            " [ 0.00000000e+00]\n",
            " [-1.54361470e-01]\n",
            " [-9.32404640e-03]\n",
            " [ 1.39497978e-01]\n",
            " [-3.69237437e-02]\n",
            " [ 5.46111773e-02]\n",
            " [-9.20425586e-03]\n",
            " [ 0.00000000e+00]\n",
            " [ 1.03326506e-01]\n",
            " [ 1.23983484e-01]\n",
            " [-1.37635230e-02]\n",
            " [ 5.40029021e-03]\n",
            " [ 1.31185700e-01]\n",
            " [ 5.49577815e-02]\n",
            " [ 2.24935899e-02]\n",
            " [ 7.48046265e-03]\n",
            " [ 6.17507773e-01]\n",
            " [ 2.44100619e-02]\n",
            " [ 1.42356436e-03]\n",
            " [-6.21114801e-02]\n",
            " [-2.07024631e-01]\n",
            " [-3.38510517e-02]\n",
            " [ 1.05486785e-01]\n",
            " [-1.40336482e-01]\n",
            " [-9.82347827e-01]\n",
            " [-1.14473639e-01]\n",
            " [ 2.10485229e-02]\n",
            " [-4.36083412e-02]\n",
            " [ 1.87372531e-02]\n",
            " [-6.66562217e-02]\n",
            " [ 1.19384465e-02]\n",
            " [-5.27782515e-02]]\n"
          ]
        }
      ]
    },
    {
      "cell_type": "markdown",
      "source": [
        "**Q 2**"
      ],
      "metadata": {
        "id": "OXt0JPs0yw6F"
      }
    },
    {
      "cell_type": "code",
      "source": [
        "#code for BFGS method to find the minimizer\n",
        "def find_minimizer_BFGS(start_x, tol, lamda, B_k, *args):\n",
        "  #Input: start_x is a numpy array of size 2, tol denotes the tolerance and is a positive float value\n",
        "  assert type(start_x) is np.ndarray #do not allow arbitrary arguments \n",
        "  assert type(tol) is float and tol>=0 \n",
        "\n",
        "  n = len(start_x)\n",
        "  x = start_x.reshape((n,1))\n",
        "  g_x = evalg(x, lamda)\n",
        "  x_k_list=[]\n",
        "  #initialization for backtracking line search\n",
        "  alpha_start = args[0]\n",
        "  rho = args[1]\n",
        "  gamma = args[2]\n",
        "\n",
        "  k=0\n",
        "  while (np.linalg.norm(g_x) > tol):\n",
        "    p_k = -np.matmul(B_k, g_x)\n",
        "    step_length = compute_steplength_backtracking_scaled_direction(x, g_x,lamda, p_k, alpha_start, rho, gamma)\n",
        "\n",
        "    x_k = x\n",
        "    s_k = np.multiply(step_length,p_k)\n",
        "    #x = np.add(x, np.multiply(step_length,p_k)) #update x = x + step_length*direction\n",
        "    x = np.add(x, s_k)#s_k = x - x_k\n",
        "    y_k = evalg(x,lamda)-evalg(x_k, lamda)\n",
        "    s_yT = np.matmul(s_k,y_k.T)\n",
        "    y_sT = np.matmul(y_k, s_k.T)\n",
        "    u_k = 1/(np.matmul(y_k.T,s_k))\n",
        "    term_11 = np.subtract(np.identity(n) , u_k*s_yT)\n",
        "    term_13 = np.subtract(np.identity(n) , u_k*y_sT)\n",
        "    B_k = np.matmul(term_11,np.matmul(B_k,term_13)) + u_k*np.matmul(s_k,s_k.T)\n",
        "    \n",
        "    x_k_list.append(x)\n",
        "    k += 1 #increment iteration\n",
        "    g_x = evalg(x, lamda) #compute gradient at new point\n",
        "\n",
        "  return x, evalf(x, lamda), k, x_k_list"
      ],
      "metadata": {
        "id": "hEDQl1_Byj6L"
      },
      "execution_count": 11,
      "outputs": []
    },
    {
      "cell_type": "code",
      "source": [
        "B_k = np.identity(64)/10\n",
        "\n",
        "print(\"Using BFGS Method \")\n",
        "print(\"\\nDirect OLSLR:\")\n",
        "minimizer3,fn3,iter3, x_k_list3 = find_minimizer_BFGS(np.zeros((64,1)), 1e-5, 0, B_k, 0.9, 0.5, 0.5)\n",
        "#we have taken lambda=0 for direct OLSLR\n",
        "print('x* = ',minimizer3)"
      ],
      "metadata": {
        "id": "ezQ8fLgAVOBq",
        "colab": {
          "base_uri": "https://localhost:8080/"
        },
        "outputId": "cede8bfa-7e07-4aab-ed3c-a38a93afbd5b"
      },
      "execution_count": 13,
      "outputs": [
        {
          "output_type": "stream",
          "name": "stdout",
          "text": [
            "Using BFGS Method \n",
            "\n",
            "Direct OLSLR:\n",
            "x* =  [[ 0.00000000e+00]\n",
            " [ 9.69033568e-02]\n",
            " [-4.32277232e-03]\n",
            " [-7.76028320e-03]\n",
            " [ 7.49594380e-02]\n",
            " [ 1.13947198e-02]\n",
            " [-2.71328245e-02]\n",
            " [-7.33176335e-03]\n",
            " [ 9.98337967e-01]\n",
            " [-2.88095538e-02]\n",
            " [ 1.18688288e-01]\n",
            " [ 6.60916265e-02]\n",
            " [-5.57069862e-02]\n",
            " [-6.97063705e-02]\n",
            " [ 9.65876439e-02]\n",
            " [ 2.55182251e-01]\n",
            " [-7.29828605e-01]\n",
            " [ 2.42709916e-02]\n",
            " [ 7.73249597e-02]\n",
            " [-2.33000278e-02]\n",
            " [-5.64086144e-02]\n",
            " [ 5.72426822e-02]\n",
            " [-4.88717684e-02]\n",
            " [-2.62467763e-01]\n",
            " [-9.06562842e-01]\n",
            " [-1.49767791e-01]\n",
            " [ 5.64019538e-02]\n",
            " [ 8.96663590e-02]\n",
            " [ 8.39318159e-02]\n",
            " [ 9.85411936e-02]\n",
            " [ 1.69317613e-03]\n",
            " [-2.96805758e+00]\n",
            " [ 0.00000000e+00]\n",
            " [-1.54362338e-01]\n",
            " [-9.32361205e-03]\n",
            " [ 1.39497628e-01]\n",
            " [-3.69234835e-02]\n",
            " [ 5.46111776e-02]\n",
            " [-9.20505070e-03]\n",
            " [ 0.00000000e+00]\n",
            " [ 1.03279535e-01]\n",
            " [ 1.23983258e-01]\n",
            " [-1.37639605e-02]\n",
            " [ 5.40087816e-03]\n",
            " [ 1.31185107e-01]\n",
            " [ 5.49570758e-02]\n",
            " [ 2.24938237e-02]\n",
            " [ 7.47977909e-03]\n",
            " [ 6.17755029e-01]\n",
            " [ 2.44122357e-02]\n",
            " [ 1.42333038e-03]\n",
            " [-6.21110760e-02]\n",
            " [-2.07025036e-01]\n",
            " [-3.38506004e-02]\n",
            " [ 1.05486736e-01]\n",
            " [-1.40335957e-01]\n",
            " [-9.84169006e-01]\n",
            " [-1.14467153e-01]\n",
            " [ 2.10494893e-02]\n",
            " [-4.36076105e-02]\n",
            " [ 1.87374934e-02]\n",
            " [-6.66567878e-02]\n",
            " [ 1.19382626e-02]\n",
            " [-5.27776612e-02]]\n"
          ]
        }
      ]
    },
    {
      "cell_type": "code",
      "source": [
        "B_k = np.identity(64)/10\n",
        "\n",
        "print(\"Using BFGS Method \")\n",
        "print(\"\\nRegularized OLSLR:\")\n",
        "minimizer4,fn4,iter4, x_k_list4 = find_minimizer_BFGS(np.zeros((64,1)), 1e-5, 0.001, B_k, 0.9, 0.5, 0.5)\n",
        "#we have taken lambda=0 for direct OLSLR\n",
        "print('xf* = ',minimizer4)"
      ],
      "metadata": {
        "colab": {
          "base_uri": "https://localhost:8080/"
        },
        "id": "mywH_epKxUoA",
        "outputId": "87e02709-c89a-4ae3-9a27-3621b5707116"
      },
      "execution_count": 14,
      "outputs": [
        {
          "output_type": "stream",
          "name": "stdout",
          "text": [
            "Using BFGS Method \n",
            "\n",
            "Regularized OLSLR:\n",
            "x* =  [[ 0.00000000e+00]\n",
            " [ 9.69076882e-02]\n",
            " [-4.32192762e-03]\n",
            " [-7.75916339e-03]\n",
            " [ 7.49591987e-02]\n",
            " [ 1.13946582e-02]\n",
            " [-2.71293921e-02]\n",
            " [-7.34410666e-03]\n",
            " [ 9.98267907e-01]\n",
            " [-2.88089376e-02]\n",
            " [ 1.18688356e-01]\n",
            " [ 6.60922719e-02]\n",
            " [-5.57075915e-02]\n",
            " [-6.97056149e-02]\n",
            " [ 9.65844014e-02]\n",
            " [ 2.55196013e-01]\n",
            " [-7.29830662e-01]\n",
            " [ 2.42711745e-02]\n",
            " [ 7.73241544e-02]\n",
            " [-2.33008498e-02]\n",
            " [-5.64077619e-02]\n",
            " [ 5.72413971e-02]\n",
            " [-4.88675248e-02]\n",
            " [-2.62555998e-01]\n",
            " [-9.06071182e-01]\n",
            " [-1.49769638e-01]\n",
            " [ 5.64022790e-02]\n",
            " [ 8.96665319e-02]\n",
            " [ 8.39315938e-02]\n",
            " [ 9.85410047e-02]\n",
            " [ 1.69269848e-03]\n",
            " [-2.96649687e+00]\n",
            " [ 0.00000000e+00]\n",
            " [-1.54361470e-01]\n",
            " [-9.32404638e-03]\n",
            " [ 1.39497978e-01]\n",
            " [-3.69237437e-02]\n",
            " [ 5.46111773e-02]\n",
            " [-9.20425585e-03]\n",
            " [ 0.00000000e+00]\n",
            " [ 1.03326506e-01]\n",
            " [ 1.23983484e-01]\n",
            " [-1.37635230e-02]\n",
            " [ 5.40029022e-03]\n",
            " [ 1.31185700e-01]\n",
            " [ 5.49577815e-02]\n",
            " [ 2.24935899e-02]\n",
            " [ 7.48046267e-03]\n",
            " [ 6.17507773e-01]\n",
            " [ 2.44100619e-02]\n",
            " [ 1.42356436e-03]\n",
            " [-6.21114801e-02]\n",
            " [-2.07024631e-01]\n",
            " [-3.38510517e-02]\n",
            " [ 1.05486785e-01]\n",
            " [-1.40336482e-01]\n",
            " [-9.82347826e-01]\n",
            " [-1.14473639e-01]\n",
            " [ 2.10485230e-02]\n",
            " [-4.36083412e-02]\n",
            " [ 1.87372531e-02]\n",
            " [-6.66562217e-02]\n",
            " [ 1.19384465e-02]\n",
            " [-5.27782515e-02]]\n"
          ]
        }
      ]
    }
  ]
}