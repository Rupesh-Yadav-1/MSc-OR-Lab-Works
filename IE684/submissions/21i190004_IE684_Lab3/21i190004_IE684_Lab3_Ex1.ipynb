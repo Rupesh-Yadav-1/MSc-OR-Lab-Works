{
  "nbformat": 4,
  "nbformat_minor": 0,
  "metadata": {
    "colab": {
      "name": "21i190004_IE684_Lab3_Ex1.ipynb",
      "provenance": [],
      "collapsed_sections": []
    },
    "kernelspec": {
      "name": "python3",
      "display_name": "Python 3"
    }
  },
  "cells": [
    {
      "cell_type": "markdown",
      "metadata": {
        "id": "nVE0Xoa0Q5wE"
      },
      "source": [
        "$\\Large\\textbf{Lab 3.}$ $\\large\\textbf{Exercise 1.}$\n",
        "\n"
      ]
    },
    {
      "cell_type": "markdown",
      "metadata": {
        "id": "YVkab74DJsRL"
      },
      "source": [
        "In the last lab, when we tried to solve certain problems of the form $\\min_{\\mathbf{x} \\in {\\mathbb{R}}^n} f(\\mathbf{x})$ using gradient descent algorithm, we noticed that the algorithm needed a large number of iterations to find the minimizer. Today we will discuss some remedy measures for this issue.  "
      ]
    },
    {
      "cell_type": "markdown",
      "metadata": {
        "id": "b-Meohokl4xP"
      },
      "source": [
        "Consider the problem $\\min_{\\mathbf{x}} f(\\mathbf{x}) = 1500x_1^2 + 4x_1 x_2 +  x_2^2$. "
      ]
    },
    {
      "cell_type": "markdown",
      "metadata": {
        "id": "ZvWjvAgnXxS3"
      },
      "source": [
        "Note that the function $f(\\mathbf{x})$ is twice continuously differentiable. First let us investigate the Hessian $\\nabla^2 f(\\mathbf{x})$ of the function. \n",
        "\n",
        "Note that the Hessian $\\nabla^2 f(\\mathbf{x})$ of the function $f(\\mathbf{x})$ is positive definite. \n",
        "\n",
        "Due to the positive definite nature of the Hessian, we shall find the condition number of the Hessian given by $\\kappa\\left (\\nabla^2 f(\\mathbf{x}) \\right ) = \\frac{\\lambda_{\\max} \\left (\\nabla^2 f(\\mathbf{x}) \\right )}{\\lambda_{\\min} \\left (\\nabla^2 f(\\mathbf{x}) \\right )}$, where $\\lambda_{\\max}(\\mathbf{A})$ denotes the maximum eigen value of matrix $\\mathbf{A}$ and $\\lambda_{\\min}(\\mathbf{A})$ denotes the minimum eigen value of matrix $\\mathbf{A}$.  \n",
        "\n",
        "\n"
      ]
    },
    {
      "cell_type": "markdown",
      "source": [
        "**Q 2**"
      ],
      "metadata": {
        "id": "vidkUjBDzWOP"
      }
    },
    {
      "cell_type": "markdown",
      "metadata": {
        "id": "fLfdgrmxANif"
      },
      "source": [
        "$\\textbf{Question:}$ Write code to find the Hessian matrix of the function $f(\\mathbf{x}) = 1500x_1^2 + 4x_1 x_2 +  x_2^2$ and its condition number. "
      ]
    },
    {
      "cell_type": "code",
      "metadata": {
        "id": "72qwiJ0CDtOX"
      },
      "source": [
        "import numpy as np \n",
        "\n",
        "#method to find Hessian matrix:\n",
        "def evalh(x): \n",
        "  assert type(x) is np.ndarray \n",
        "  assert len(x) == 2\n",
        "\n",
        "  return np.array([[3000, 4],[4,2]])\n",
        "\n",
        "#method to find the condition number of any square matrix: :\n",
        "def find_condition_number(A):\n",
        "  assert type(A) is np.ndarray\n",
        "  assert A.shape[0] == A.shape[1]\n",
        "\n",
        "  return np.linalg.cond(A)"
      ],
      "execution_count": 1,
      "outputs": []
    },
    {
      "cell_type": "code",
      "source": [
        "from numpy.linalg import eig"
      ],
      "metadata": {
        "id": "Cmj-snS_oqAs"
      },
      "execution_count": 2,
      "outputs": []
    },
    {
      "cell_type": "code",
      "source": [
        "K=np.array([[3000,4],[4,2]])\n",
        "w,v=eig(K)\n",
        "print('eigenvalues:',w)\n",
        "print('eigenvectors:',v)\n",
        "w[0]"
      ],
      "metadata": {
        "colab": {
          "base_uri": "https://localhost:8080/"
        },
        "id": "g7mmF8oeoD7F",
        "outputId": "4eb6e53e-a48d-4a55-d445-fad39d066692"
      },
      "execution_count": 3,
      "outputs": [
        {
          "output_type": "stream",
          "name": "stdout",
          "text": [
            "eigenvalues: [3.00000534e+03 1.99466312e+00]\n",
            "eigenvectors: [[ 0.99999911 -0.00133422]\n",
            " [ 0.00133422  0.99999911]]\n"
          ]
        },
        {
          "output_type": "execute_result",
          "data": {
            "text/plain": [
              "3000.0053368817607"
            ]
          },
          "metadata": {},
          "execution_count": 3
        }
      ]
    },
    {
      "cell_type": "markdown",
      "metadata": {
        "id": "g7ivDCuJRP9b"
      },
      "source": [
        "The condition number of the Hessian plays a major role in the progress of the iterates of gradient descent towards the optimal solution point. Typically a large value of the condition number indicates that the problem is $\\textbf{ill-conditioned}$ and hence leads to slow progress of the iterates towards the optimal solution point. Now we shall discuss a method which would help in better $\\textbf{conditioning}$ of the problem and hence would help in speeding up the progress of the iterates towards the optimal solution point. \n",
        "\n",
        "Let us first illustrate an equivalent transformation of the problem $\\min_{\\mathbf{x} \\in {\\mathbb{R}}^n} f(\\mathbf{x})$. Consider the transformation $\\mathbf{x}=\\mathbf{My}$ where $\\mathbf{M}\\in {\\mathbb{R}}^{n \\times n}$ is an invertible matrix and $\\mathbf{y} \\in {\\mathbb{R}}^n$ and consider the equivalent problem $\\min_{\\mathbf{y} \\in {\\mathbb{R}}^n} g(\\mathbf{y}) \\equiv \\min_{\\mathbf{y} \\in {\\mathbb{R}}^n} f(\\mathbf{My})$. \n",
        "\n",
        "$\\textbf{Check:}$ Why are the two problems $\\min_{\\mathbf{x} \\in {\\mathbb{R}}^n} f(\\mathbf{x})$ and $\\min_{\\mathbf{y} \\in {\\mathbb{R}}^n} g(\\mathbf{y})$  equivalent? \n",
        "\n",
        "Note that the gradient $\\nabla_{\\mathbf{y}} g(\\mathbf{y}) = \\mathbf{M}^\\top \\nabla_{\\mathbf{x}} f(\\mathbf{x})$ and the Hessian is $\\nabla^2_{\\mathbf{y}} g(\\mathbf{y}) = \\mathbf{M}^\\top \\nabla^2_{\\mathbf{x}} f(\\mathbf{x}) \\mathbf{M}$. \n",
        "\n",
        "Hence the gradient descent update to solve $\\min_{\\mathbf{y} \\in {\\mathbb{R}}^n} g(\\mathbf{y})$ becomes: \n",
        "\n",
        "\n",
        "\\begin{align}\n",
        "{\\mathbf{y}}^{k+1} &= {\\mathbf{y}}^{k} - \\eta \\nabla_{\\mathbf{y}} g({\\mathbf{y}}^{k}) \\\\\n",
        "\\end{align}\n",
        "\n",
        "Pre-multiplying by $\\mathbf{M}$, we have:\n",
        "\\begin{align}\n",
        "{\\mathbf{M}\\mathbf{y}}^{k+1} &= {\\mathbf{M}\\mathbf{y}}^{k} -  \\eta \\mathbf{M} \\nabla_{\\mathbf{y}} g({\\mathbf{y}}^{k})  \\\\\n",
        "\\implies \\mathbf{x}^{k+1} &= \\mathbf{x}^{k} - \\eta \\mathbf{MM}^\\top \\nabla_{\\mathbf{x}} f({\\mathbf{x}}^{k}) \n",
        "\\end{align}\n",
        "\n",
        "\n",
        "Letting $\\mathbf{D} = \\mathbf{MM}^\\top$, we see that the update is of the form:\n",
        "\\begin{align}\n",
        "\\mathbf{x}^{k+1} &= \\mathbf{x}^{k} - \\eta \\mathbf{D} \\nabla f({\\mathbf{x}}^{k}) \n",
        "\\end{align}\n",
        "\n",
        "Note that the matrix $\\mathbf{D}$ is symmetric and positive definite and hence can be written as $\\mathbf{D} = \\mathbf{B}^2$, where $\\mathbf{B}$ is also symmetric and positive definite. Denoting $\\mathbf{B}= \\mathbf{D}^{\\frac{1}{2}}$, we see that a useful choice for the matrix $\\mathbf{M}$ is $\\mathbf{M} = \\mathbf{B} = \\mathbf{D}^{\\frac{1}{2}}$. \n",
        "\n",
        "The matrix $\\mathbf{D}$ is called a $\\textbf{scaling}$ matrix and helps in scaling the Hessian. We will consider $\\mathbf{D}$ to be a diagonal matrix. Thus it would be useful to find a suitable candidate of the scaling matrix at each iteration which could help in significant progress of the iterates towards the optimal solution. \n",
        "\n",
        "\n"
      ]
    },
    {
      "cell_type": "markdown",
      "metadata": {
        "id": "ZgHGXcTYNXuw"
      },
      "source": [
        "This discussion leads to the following algorithm:\n",
        "\\begin{align}\n",
        "& \\textbf{Input:} \\text{ Starting point $x^0$, Stopping tolerance $\\tau$}  \\\\\n",
        "& \\textbf{Initialize } k=0 \\\\ \n",
        "& \\mathbf{p}^k =-\\nabla f(\\mathbf{x}^k) \\\\ \n",
        "&\\textbf{While } \\| \\mathbf{p}^k \\|_2 > \\tau \\text{ do:}  \\\\   \n",
        "&\\quad \\quad \\text{ Choose a suitable scaling matrix }\\mathbf{D}^k. \\\\ \n",
        "&\\quad \\quad \\eta^k = \\arg\\min_{\\eta\\geq 0} f(\\mathbf{x}^k + \\eta  \\mathbf{D}^k \\mathbf{p}^k) = \\arg\\min_{\\eta\\geq 0} f(\\mathbf{x}^k - \\eta  \\mathbf{D}^k \\nabla f(\\mathbf{x}^k)) \\\\\n",
        "&\\quad \\quad \\mathbf{x}^{k+1} = \\mathbf{x}^k + \\eta^k \\mathbf{D}^k \\mathbf{p}^k = \\mathbf{x}^k - \\eta^k  \\mathbf{D}^k \\nabla f(\\mathbf{x}^k)  \\\\ \n",
        "&\\quad \\quad k = {k+1} \\\\ \n",
        "&\\textbf{End While} \\\\\n",
        "&\\textbf{Output: } \\mathbf{x}^k\n",
        "\\end{align}"
      ]
    },
    {
      "cell_type": "markdown",
      "metadata": {
        "id": "3XvbzQ5LeJ_N"
      },
      "source": [
        "Note that the update step in the modified gradient descent scheme uses a scaled gradient. Thus it becomes important to set up some criteria for choosing the $\\mathbf{D}^k$ matrix in every iteration. In this exercise, we will assume $\\mathbf{D}^k$ to be a diagonal matrix. The following questions will help in designing a suitable $\\mathbf{D}^k$."
      ]
    },
    {
      "cell_type": "markdown",
      "source": [
        "**Q 4**"
      ],
      "metadata": {
        "id": "sD7FhAPwzfOC"
      }
    },
    {
      "cell_type": "markdown",
      "metadata": {
        "id": "kC5h9vGOfLcr"
      },
      "source": [
        "$\\textbf{Question:}$ Based on our discussion on condition number and the derivation of the gradient descent scheme with scaling, can you identify and write down the matrix $\\mathbf{Q}$ whose condition number needs to be analyzed in the new gradient scheme with scaling? "
      ]
    },
    {
      "cell_type": "markdown",
      "metadata": {
        "id": "ZL8skZZIf8yd"
      },
      "source": [
        "$\\textbf{Your Answer:}$\n",
        "\n",
        "As discussed at the begining that the condition number of the hessian of the given function need to be analyzed.\n",
        "So, $\\mathbf{Q}$ is the hessian matrix of $g(y)$. And we know that the hessian is given as $\\nabla^2_{\\mathbf{y}} g(\\mathbf{y}) = \\mathbf{M}^\\top \\nabla^2_{\\mathbf{x}} f(\\mathbf{x}) \\mathbf{M}=\\mathbf{Q}$."
      ]
    },
    {
      "cell_type": "markdown",
      "source": [
        "**Q 5**"
      ],
      "metadata": {
        "id": "QShsInBnzjpi"
      }
    },
    {
      "cell_type": "markdown",
      "metadata": {
        "id": "qrbWd2XigB2N"
      },
      "source": [
        "$\\textbf{Question:}$ Based on the matrix $\\mathbf{Q}$, can you come up with a useful choice for $\\mathbf{D}^k$ (assuming $\\mathbf{D}^k$ to be diagonal)?"
      ]
    },
    {
      "cell_type": "markdown",
      "metadata": {
        "id": "BTIH3LnUgRh6"
      },
      "source": [
        "$\\textbf{Your Answer:}$\n",
        "\n",
        "Our task is to make the condition number of the hessian matrix, $\\nabla^2_{\\mathbf{y}} g(\\mathbf{y})$, to be small. If we can choose $\\mathbf{M}$ such that both the eigenvalues of $\\mathbf{Q}$ becomes equal (In order to make condition number as $1$). And wee know that $\\mathbf{D}$ is assumed as diagonal matrix and $\\mathbf{M} = \\mathbf{D}^{\\frac{1}{2}}$. Hence, $\\mathbf{M}$ is also a diagonal matrix.\n",
        "\n",
        "So, let \\begin{equation} \\ \\mathbf{M} =\n",
        "\\begin{bmatrix}\n",
        "a & 0 \\\\ 0 & b\n",
        "\\end{bmatrix}\n",
        "\\end{equation}\n",
        "Now,\n",
        "\n",
        "$ \\ \\begin{equation}\n",
        "\\begin{split}\n",
        "\\mathbf{M}^\\top \\nabla^2_{\\mathbf{x}} f(\\mathbf{x}) \\mathbf{M} &=\n",
        "\\begin{bmatrix}\n",
        "a & 0 \\\\ 0 & b\n",
        "\\end{bmatrix}\n",
        "\\begin{bmatrix}\n",
        "3000 & 4 \\\\ 4 & 2\n",
        "\\end{bmatrix}\n",
        "\\begin{bmatrix}\n",
        "a & 0 \\\\ 0 & b\n",
        "\\end{bmatrix} \\\\\n",
        "&=\\begin{bmatrix}\n",
        "3000a^2 & 4ab \\\\ 4ab & 2b^2\n",
        "\\end{bmatrix}\n",
        "\\end{split}\n",
        "\\end{equation}$ \\\\\n",
        "and eigenvalues of this matrix will be equal if $3000a^2=2b^2 \\implies a=\\frac{1}{\\sqrt{3000}} \\ and \\ b=\\frac{1}{\\sqrt{2}}$\n",
        "\n",
        "$\\implies \\begin{equation} \\ \\mathbf{M} =\n",
        "\\begin{bmatrix}\n",
        "\\frac{1}{\\sqrt{3000}} & 0 \\\\ 0 & \\frac{1}{\\sqrt{2}}\n",
        "\\end{bmatrix}\n",
        "\\end{equation}$ \\\\\n",
        "\n",
        "Hence, $\\ \\mathbf{D}=\\begin{bmatrix}\n",
        "\\frac{1}{3000} & 0 \\\\ 0 & \\frac{1}{2}\n",
        "\\end{bmatrix} $\n",
        "\n",
        "And also since Hessian is not dependent on $x$ so $\\mathbf{D^k}= \\mathbf{D} \\ \\ ∀ k$"
      ]
    },
    {
      "cell_type": "markdown",
      "metadata": {
        "id": "YDNH0zgxgaPR"
      },
      "source": [
        "Write code to find the matrix $\\mathbf{D}^k$. "
      ]
    },
    {
      "cell_type": "code",
      "metadata": {
        "id": "KJq7tIgIRroP"
      },
      "source": [
        "#The method defines a way to construct D_k matrix used in scaling the gradient in the modified gradient descent scheme\n",
        "def compute_D_k(x):\n",
        "  assert type(x) is np.ndarray\n",
        "  assert len(x) == 2\n",
        "  \n",
        "  return np.array([[1/3000, 0],[0, 1/2]])\n",
        "  "
      ],
      "execution_count": 4,
      "outputs": []
    },
    {
      "cell_type": "code",
      "metadata": {
        "id": "GZjX2IwOR8_X"
      },
      "source": [
        "#Now we will define a Python function which will compute and return the objective function value \n",
        "def evalf(x):  \n",
        "  #Input: x is a numpy array of size 2 \n",
        "  assert type(x) is np.ndarray and len(x) == 2 #do not allow arbitrary arguments \n",
        "  #after checking if the argument is valid, we can compute the objective function value\n",
        "  #compute the function value and return it \n",
        "  return 1500*x[0]**2 + 4*x[0]*x[1] + x[1]**2"
      ],
      "execution_count": 5,
      "outputs": []
    },
    {
      "cell_type": "code",
      "metadata": {
        "id": "6klpwtDra_I8"
      },
      "source": [
        "#Now we will define a Python function which will compute and return the gradient value as a numpy array \n",
        "def evalg(x):  \n",
        "  #Input: x is a numpy array of size 2 \n",
        "  assert type(x) is np.ndarray and len(x) == 2 #do not allow arbitrary arguments \n",
        "  #after checking if the argument is valid, we can compute the gradient value\n",
        "  #compute the gradient value and return it \n",
        "  return np.array([3000*x[0] + 4*x[1], 4*x[0] + 2*x[1]])"
      ],
      "execution_count": 6,
      "outputs": []
    },
    {
      "cell_type": "code",
      "metadata": {
        "id": "f3blM08V0HOl"
      },
      "source": [
        "#Complete the module to compute the steplength by using the closed-form expression\n",
        "def compute_steplength_exact(gradf, A): #add appropriate arguments to the function \n",
        "  assert type(gradf) is np.ndarray and len(gradf) == 2 \n",
        "  assert type(A) is np.ndarray and A.shape[0] == 2 and  A.shape[1] == 2 #allow only a 2x2 array\n",
        "   \n",
        "  a_1 =np.linalg.multi_dot([gradf,gradf])\n",
        "  a_22=np.matmul(np.transpose(gradf),A)\n",
        "  a_2 =np.linalg.multi_dot([a_22,gradf])\n",
        "  step_length=a_1/a_2\n",
        "  \n",
        "  return step_length"
      ],
      "execution_count": 7,
      "outputs": []
    },
    {
      "cell_type": "code",
      "metadata": {
        "id": "PGunDYy6Q21S"
      },
      "source": [
        "#Complete the module to compute the steplength by using the closed-form expression\n",
        "def compute_steplength_backtracking(x, gradf, alpha_start, rho, gamma): #add appropriate arguments to the function \n",
        "  assert type(x) is np.ndarray and len(gradf) == 2 \n",
        "  assert type(gradf) is np.ndarray and len(gradf) == 2 \n",
        "  assert type(alpha_start) is float and alpha_start>=0. \n",
        "  assert type(rho) is float and rho>=0.\n",
        "  assert type(gamma) is float and gamma>=0. \n",
        "  \n",
        "  alpha = alpha_start\n",
        "  pk=-gradf\n",
        "  while evalf(x+alpha*pk)>evalf(x)+gamma*alpha*np.linalg.multi_dot([gradf,pk]):\n",
        "    alpha=rho*alpha\n",
        "  \n",
        "  #print('final step length:',alpha)\n",
        "  return alpha"
      ],
      "execution_count": 8,
      "outputs": []
    },
    {
      "cell_type": "code",
      "metadata": {
        "id": "wqjdHM3eaHYf"
      },
      "source": [
        "def compute_steplength_backtracking_scaled_direction(x, gradf, direction, alpha_start, rho, gamma): #add appropriate arguments to the function \n",
        "  assert type(x) is np.ndarray and len(gradf) == 2 \n",
        "  assert type(gradf) is np.ndarray and len(gradf) == 2 \n",
        "  assert type(direction) is np.ndarray and len(direction) == 2 \n",
        "  assert type(alpha_start) is float and alpha_start>=0. \n",
        "  assert type(rho) is float and rho>=0.\n",
        "  assert type(gamma) is float and gamma>=0. \n",
        "  \n",
        "  \n",
        "  alpha = alpha_start\n",
        "  while evalf(x+alpha*direction)>evalf(x)+gamma*alpha*np.linalg.multi_dot([gradf,direction]):\n",
        "    alpha=rho*alpha\n",
        "\n",
        "  return alpha "
      ],
      "execution_count": 9,
      "outputs": []
    },
    {
      "cell_type": "code",
      "metadata": {
        "id": "GvLRu5s635ph"
      },
      "source": [
        "#line search type \n",
        "EXACT_LINE_SEARCH = 1\n",
        "BACKTRACKING_LINE_SEARCH = 2\n",
        "CONSTANT_STEP_LENGTH = 3\n",
        "BACKTRACKING_LINE_SEARCH_SCALING = 4"
      ],
      "execution_count": 10,
      "outputs": []
    },
    {
      "cell_type": "code",
      "metadata": {
        "id": "kdYW5nldqZU-"
      },
      "source": [
        "#complete the code for gradient descent to find the minimizer\n",
        "def find_minimizer_gd(start_x, tol, line_search_type, *args):\n",
        "  #Input: start_x is a numpy array of size 2, tol denotes the tolerance and is a positive float value\n",
        "  assert type(start_x) is np.ndarray and len(start_x) == 2 #do not allow arbitrary arguments \n",
        "  assert type(tol) is float and tol>=0 \n",
        "  \n",
        "  A = np.array([[3000, 4],[4,2]]) #Hessian\n",
        "  x = start_x\n",
        "  g_x = evalg(x)\n",
        "\n",
        "  #initialization for backtracking line search\n",
        "  if(line_search_type == BACKTRACKING_LINE_SEARCH):\n",
        "    alpha_start = args[0]\n",
        "    rho = args[1]\n",
        "    gamma = args[2]\n",
        "\n",
        "  k = 0\n",
        "\n",
        "  while (np.linalg.norm(g_x) > tol): #continue as long as the norm of gradient is not close to zero upto a tolerance tol\n",
        "  \n",
        "    if line_search_type == EXACT_LINE_SEARCH:\n",
        "      step_length = compute_steplength_exact(g_x, A) #call the new function you wrote to compute the steplength\n",
        "      #raise ValueError('EXACT LINE SEARCH NOT YET IMPLEMENTED')\n",
        "    elif line_search_type == BACKTRACKING_LINE_SEARCH:\n",
        "      step_length = compute_steplength_backtracking(x,g_x, alpha_start,rho, gamma) #call the new function you wrote to compute the steplength\n",
        "      #raise ValueError('BACKTRACKING LINE SEARCH NOT YET IMPLEMENTED')\n",
        "    elif line_search_type == CONSTANT_STEP_LENGTH: #do a gradient descent with constant step length\n",
        "      step_length = 0.1\n",
        "    else:  \n",
        "      raise ValueError('Line search type unknown. Please check!')\n",
        "    \n",
        "    #implement the gradient descent steps here   \n",
        "    x = np.subtract(x, np.multiply(step_length,g_x)) #update x = x - step_length*g_x\n",
        "    k += 1 #increment iteration\n",
        "    g_x = evalg(x) #compute gradient at new point\n",
        "\n",
        "  return x, evalf(x),k"
      ],
      "execution_count": 11,
      "outputs": []
    },
    {
      "cell_type": "code",
      "metadata": {
        "id": "3SCJdqivdpxx"
      },
      "source": [
        "#complete the code for gradient descent with scaling to find the minimizer\n",
        "\n",
        "def find_minimizer_gdscaling(x, tol, line_search_type,*args):\n",
        "  #Input: start_x is a numpy array of size 2, tol denotes the tolerance and is a positive float value\n",
        "  assert type(x) is np.ndarray and len(x) == 2 #do not allow arbitrary arguments \n",
        "  assert type(tol) is float and tol>=0 \n",
        "\n",
        "  g_x = evalg(x)\n",
        "  D_k = compute_D_k(x)\n",
        "  \n",
        "  #initialization for backtracking line search\n",
        "  if(line_search_type == BACKTRACKING_LINE_SEARCH_SCALING):\n",
        "    alpha_start = args[0]\n",
        "    rho = args[1]\n",
        "    gamma = args[2]\n",
        "\n",
        "  k = 0\n",
        "  while (np.linalg.norm(g_x) > tol):\n",
        "    direction = -np.matmul(D_k, g_x)\n",
        "    if line_search_type == BACKTRACKING_LINE_SEARCH_SCALING:\n",
        "      step_length = compute_steplength_backtracking_scaled_direction(x, g_x, direction, alpha_start, rho, gamma)\n",
        "    else:  \n",
        "      raise ValueError('Line search type unknown. Please check!')\n",
        "\n",
        "    #implement the gradient descent steps here   \n",
        "    x = np.add(x, np.multiply(step_length,direction)) #update x = x + step_length*direction\n",
        "    k += 1 #increment iteration\n",
        "    g_x = evalg(x) #compute gradient at new point\n",
        "  return x, evalf(x), k"
      ],
      "execution_count": 12,
      "outputs": []
    },
    {
      "cell_type": "code",
      "metadata": {
        "id": "3hoak3jnHkXd"
      },
      "source": [
        "my_start_x = np.array([1.,4000.])\n",
        "my_tol= 1e-12"
      ],
      "execution_count": 13,
      "outputs": []
    },
    {
      "cell_type": "markdown",
      "source": [
        "**Q 7**"
      ],
      "metadata": {
        "id": "CKR9TPcNzm8P"
      }
    },
    {
      "cell_type": "markdown",
      "source": [
        "$f(x)=1500x_1^2+4x_1x_2+x_2^2$ \\\\\n",
        "\n",
        "$\\frac{df(x)}{dx_1}=3000x_1+4x_2 \\ and \\ \\frac{df(x)}{dx_2}=4x_1+2x_1$\n",
        "\n",
        "Solving, $\\frac{df(x)}{dx_1}=0 \\ and \\ \\frac{df(x)}{dx_2}=0 \\ $ gives $(x_1x_2)=(0,0)$ \\\\\n",
        "Now at $(x_1,x_2)=(0,0)$ \\\\\n",
        "$f_{xx}f_{yy}-f_{xy}^2>0 \\ and \\ f_{xx}>0 \\ and \\ f_{yy}>0$ \\\\\n",
        "Hence, $(0,0)$ is the minimizer of given function and $0$ is the minimum value."
      ],
      "metadata": {
        "id": "Kv6h3wL2zpK6"
      }
    },
    {
      "cell_type": "markdown",
      "source": [
        "**Q 8**"
      ],
      "metadata": {
        "id": "bxum7P6uymTc"
      }
    },
    {
      "cell_type": "code",
      "metadata": {
        "id": "vgu4yasdJEKo",
        "colab": {
          "base_uri": "https://localhost:8080/"
        },
        "outputId": "e44acf3e-9c53-4c2f-9421-0f1fbdeb4105"
      },
      "source": [
        "#check gradient descent with exact line search \n",
        "opt_x,opt_f,iter=find_minimizer_gd(my_start_x,my_tol,EXACT_LINE_SEARCH)\n",
        "print('Gradient Descent algorithm(without scaling) with EXACT LINE SEARCH:')\n",
        "print('Minimizer: ',opt_x)\n",
        "print('Minimum Obj fn Value: ',opt_f)\n",
        "print('No. of iterations taken: ', iter)"
      ],
      "execution_count": 14,
      "outputs": [
        {
          "output_type": "stream",
          "name": "stdout",
          "text": [
            "Gradient Descent algorithm(without scaling) with EXACT LINE SEARCH:\n",
            "Minimizer:  [-7.44595231e-16  4.61544291e-13]\n",
            "Minimum Obj fn Value:  2.12480110780353e-25\n",
            "No. of iterations taken:  14075\n"
          ]
        }
      ]
    },
    {
      "cell_type": "code",
      "metadata": {
        "id": "U0_iOLVoQFYy",
        "colab": {
          "base_uri": "https://localhost:8080/"
        },
        "outputId": "9d1437a1-fcf6-4644-b62d-419b09814bbe"
      },
      "source": [
        "#check gradient descent with backtracking line search \n",
        "alpha_start = 1.\n",
        "rho = 0.5\n",
        "gamma = 0.5\n",
        "\n",
        "opt_x2,opt_f2,iter2=find_minimizer_gd(my_start_x,my_tol,BACKTRACKING_LINE_SEARCH,alpha_start,rho,gamma)\n",
        "print('Gradient Descent algorithm(without scaling) with BACKTRACKING LINE SEARCH:')\n",
        "print('Minimizer: ',opt_x2)\n",
        "print('Minimum Obj fn Value: ',opt_f2)\n",
        "print('No. of iterations taken: ', iter2)"
      ],
      "execution_count": 15,
      "outputs": [
        {
          "output_type": "stream",
          "name": "stdout",
          "text": [
            "Gradient Descent algorithm(without scaling) with BACKTRACKING LINE SEARCH:\n",
            "Minimizer:  [-4.78532202e-16  4.53575301e-13]\n",
            "Minimum Obj fn Value:  2.0520584176089396e-25\n",
            "No. of iterations taken:  21985\n"
          ]
        }
      ]
    },
    {
      "cell_type": "code",
      "metadata": {
        "id": "KpABILpQxPKD",
        "colab": {
          "base_uri": "https://localhost:8080/"
        },
        "outputId": "7db95fb2-18d8-4280-f8bf-597d5e75873f"
      },
      "source": [
        "#check gradient descent with scaling and backtracking line search \n",
        "alpha_start = 1.\n",
        "rho = 0.5\n",
        "gamma = 0.5\n",
        "\n",
        "opt_x3,opt_f3,iter3=find_minimizer_gdscaling(my_start_x,my_tol,BACKTRACKING_LINE_SEARCH_SCALING, alpha_start,rho,gamma)\n",
        "print('Gradient Descent algorithm(with scaling) with BACKTRACKING LINE SEARCH:')\n",
        "print('Minimizer: ',opt_x3)\n",
        "print('Minimum Obj fn Value: ',opt_f3)\n",
        "print('No. of iterations taken: ', iter3)"
      ],
      "execution_count": 16,
      "outputs": [
        {
          "output_type": "stream",
          "name": "stdout",
          "text": [
            "Gradient Descent algorithm(with scaling) with BACKTRACKING LINE SEARCH:\n",
            "Minimizer:  [-2.31674405e-18  9.60515434e-16]\n",
            "Minimum Obj fn Value:  9.217397790469283e-31\n",
            "No. of iterations taken:  16\n"
          ]
        }
      ]
    },
    {
      "cell_type": "markdown",
      "source": [
        "Clearly we can see that in case of \"without scaling\" the number of iterations taken is significantly high than that in case of \"with scaling\".\n",
        "\n",
        "Hence, Gradient descent algorithm with scaling is the improved version. It takes very less time as compared to earlier."
      ],
      "metadata": {
        "id": "x8FMFoNxyPIG"
      }
    },
    {
      "cell_type": "markdown",
      "source": [
        "**Q 9**"
      ],
      "metadata": {
        "id": "QfagZJhM0woW"
      }
    },
    {
      "cell_type": "code",
      "source": [
        "alphas=[1.0,0.9,0.75,0.6,0.5,0.4,0.25,0.1,0.01]"
      ],
      "metadata": {
        "id": "vpN5lu1w0y-1"
      },
      "execution_count": 17,
      "outputs": []
    },
    {
      "cell_type": "code",
      "source": [
        "#code for without scaling\n",
        "x_values_wo_scaling={}\n",
        "obj_values_wo_scaling={}\n",
        "iters_wo_scaling={}\n",
        "\n",
        "for i in alphas:\n",
        "  x_values_wo_scaling[i],obj_values_wo_scaling[i],iters_wo_scaling[i]=find_minimizer_gd(my_start_x,my_tol,BACKTRACKING_LINE_SEARCH, i ,rho,gamma)"
      ],
      "metadata": {
        "id": "4n0FQZzW1LMc"
      },
      "execution_count": 18,
      "outputs": []
    },
    {
      "cell_type": "code",
      "source": [
        "x_values_wo_scaling"
      ],
      "metadata": {
        "colab": {
          "base_uri": "https://localhost:8080/"
        },
        "id": "Cf8zPjAj2htn",
        "outputId": "8b826d93-302e-4ca0-a5da-154801c7b203"
      },
      "execution_count": 19,
      "outputs": [
        {
          "output_type": "execute_result",
          "data": {
            "text/plain": [
              "{0.01: array([-5.80852788e-16,  4.86459735e-13]),\n",
              " 0.1: array([-7.24091328e-16,  4.84454819e-13]),\n",
              " 0.25: array([-4.78532202e-16,  4.53575301e-13]),\n",
              " 0.4: array([-7.24091328e-16,  4.84454819e-13]),\n",
              " 0.5: array([-4.78532202e-16,  4.53575301e-13]),\n",
              " 0.6: array([-6.07554226e-16,  4.94036636e-13]),\n",
              " 0.75: array([-7.18643891e-16,  4.89175378e-13]),\n",
              " 0.9: array([-5.48799355e-16,  4.71515450e-13]),\n",
              " 1.0: array([-4.78532202e-16,  4.53575301e-13])}"
            ]
          },
          "metadata": {},
          "execution_count": 19
        }
      ]
    },
    {
      "cell_type": "code",
      "source": [
        "obj_values_wo_scaling"
      ],
      "metadata": {
        "colab": {
          "base_uri": "https://localhost:8080/"
        },
        "id": "GKcpcumy2k0l",
        "outputId": "ec671f13-a3a7-45f5-fa28-52ec3353b019"
      },
      "execution_count": 20,
      "outputs": [
        {
          "output_type": "execute_result",
          "data": {
            "text/plain": [
              "{0.01: 2.3601891237044125e-25,\n",
              " 0.1: 2.3407977615582728e-25,\n",
              " 0.25: 2.0520584176089396e-25,\n",
              " 0.4: 2.3407977615582728e-25,\n",
              " 0.5: 2.0520584176089396e-25,\n",
              " 0.6: 2.43425264283868e-25,\n",
              " 0.75: 2.386610528547938e-25,\n",
              " 0.9: 2.2174352131747877e-25,\n",
              " 1.0: 2.0520584176089396e-25}"
            ]
          },
          "metadata": {},
          "execution_count": 20
        }
      ]
    },
    {
      "cell_type": "code",
      "source": [
        "iters_wo_scaling"
      ],
      "metadata": {
        "colab": {
          "base_uri": "https://localhost:8080/"
        },
        "id": "N8phAjrK2m-G",
        "outputId": "e844fffd-4b0c-443f-9ca9-6ba0da07e073"
      },
      "execution_count": 21,
      "outputs": [
        {
          "output_type": "execute_result",
          "data": {
            "text/plain": [
              "{0.01: 5509,\n",
              " 0.1: 11362,\n",
              " 0.25: 21985,\n",
              " 0.4: 11362,\n",
              " 0.5: 21985,\n",
              " 0.6: 6887,\n",
              " 0.75: 6750,\n",
              " 0.9: 15941,\n",
              " 1.0: 21985}"
            ]
          },
          "metadata": {},
          "execution_count": 21
        }
      ]
    },
    {
      "cell_type": "code",
      "source": [
        "#code for with scaling\n",
        "x_values_with_scaling={}\n",
        "obj_values_with_scaling={}\n",
        "iters_with_scaling={}\n",
        "\n",
        "for i in alphas:\n",
        "  x_values_with_scaling[i],obj_values_with_scaling[i],iters_with_scaling[i]=find_minimizer_gdscaling(my_start_x,my_tol,BACKTRACKING_LINE_SEARCH_SCALING, i ,rho,gamma)"
      ],
      "metadata": {
        "id": "7A8vDxys29eK"
      },
      "execution_count": 22,
      "outputs": []
    },
    {
      "cell_type": "code",
      "source": [
        "x_values_with_scaling"
      ],
      "metadata": {
        "colab": {
          "base_uri": "https://localhost:8080/"
        },
        "id": "yXZVB3H63LUb",
        "outputId": "067908f8-ecfe-4739-df32-9d83704fef0f"
      },
      "execution_count": 23,
      "outputs": [
        {
          "output_type": "execute_result",
          "data": {
            "text/plain": [
              "{0.01: array([-3.51028779e-16,  1.39670836e-14]),\n",
              " 0.1: array([-3.34815103e-16,  1.32481337e-14]),\n",
              " 0.25: array([-2.68853026e-16,  1.05480788e-14]),\n",
              " 0.4: array([-3.26530890e-16,  1.27315971e-14]),\n",
              " 0.5: array([-2.51144512e-16,  9.75949896e-15]),\n",
              " 0.6: array([-3.37385169e-16,  1.30849588e-14]),\n",
              " 0.75: array([-2.78273450e-16,  1.07784868e-14]),\n",
              " 0.9: array([-1.54825431e-16,  5.99636318e-15]),\n",
              " 1.0: array([-2.31674405e-18,  9.60515434e-16])}"
            ]
          },
          "metadata": {},
          "execution_count": 23
        }
      ]
    },
    {
      "cell_type": "code",
      "source": [
        "obj_values_with_scaling"
      ],
      "metadata": {
        "colab": {
          "base_uri": "https://localhost:8080/"
        },
        "id": "6O0NqAmx3OLg",
        "outputId": "d50ce041-ef84-4361-8190-9018ed686dc3"
      },
      "execution_count": 24,
      "outputs": [
        {
          "output_type": "execute_result",
          "data": {
            "text/plain": [
              "{0.01: 3.602998362211868e-28,\n",
              " 0.1: 3.2592207464795465e-28,\n",
              " 0.25: 2.0834135979657747e-28,\n",
              " 0.4: 3.0539815808527928e-28,\n",
              " 0.5: 1.800539902805011e-28,\n",
              " 0.6: 3.2430059206322154e-28,\n",
              " 0.75: 2.203324807217381e-28,\n",
              " 0.9: 6.819918471923904e-29,\n",
              " 1.0: 9.217397790469283e-31}"
            ]
          },
          "metadata": {},
          "execution_count": 24
        }
      ]
    },
    {
      "cell_type": "code",
      "source": [
        "iters_with_scaling"
      ],
      "metadata": {
        "colab": {
          "base_uri": "https://localhost:8080/"
        },
        "id": "4KlDrAgD3Pju",
        "outputId": "df469d8d-0804-4429-e27f-068a09a62250"
      },
      "execution_count": 25,
      "outputs": [
        {
          "output_type": "execute_result",
          "data": {
            "text/plain": [
              "{0.01: 4146,\n",
              " 0.1: 397,\n",
              " 0.25: 147,\n",
              " 0.4: 83,\n",
              " 0.5: 62,\n",
              " 0.6: 47,\n",
              " 0.75: 32,\n",
              " 0.9: 21,\n",
              " 1.0: 16}"
            ]
          },
          "metadata": {},
          "execution_count": 25
        }
      ]
    },
    {
      "cell_type": "code",
      "source": [
        "import matplotlib.pyplot as plt"
      ],
      "metadata": {
        "id": "Be7o81gG3non"
      },
      "execution_count": 26,
      "outputs": []
    },
    {
      "cell_type": "code",
      "source": [
        "#gradient descent algorithm (with scaling) with backtracking line search\n",
        "#list which contains no of iterations for corrs alpha values in list 'alphas'\n",
        "iters_1=[iters_wo_scaling[i] for i in alphas]\n",
        "\n",
        "#gradient descent algorithm (without scaling) with backtracking line search\n",
        "#list which contains no of iterations for corrs alpha values in list 'alphas'\n",
        "iters_2=[iters_with_scaling[i] for i in alphas]\n",
        "\n",
        "plt.figure(figsize=(7,6))\n",
        "plt.plot(alphas, iters_1,label ='iterations without scaling',color='orange')\n",
        "plt.plot(alphas, iters_2,label ='iterations with scaling',color='green')\n",
        "plt.xlabel(\"Alpha values\",color='b')\n",
        "plt.ylabel('No. of iterations',color='b')\n",
        "plt.title('Alpha Values VS No. of iterations',color='r')\n",
        "plt.legend(loc='upper left')\n",
        "plt.show()"
      ],
      "metadata": {
        "colab": {
          "base_uri": "https://localhost:8080/",
          "height": 404
        },
        "id": "iOt6kGEF3s24",
        "outputId": "6ad9c12f-fe51-4c5b-9dce-ba507237c881"
      },
      "execution_count": 27,
      "outputs": [
        {
          "output_type": "display_data",
          "data": {
            "image/png": "[encoded data removed]",
            "text/plain": [
              "<Figure size 504x432 with 1 Axes>"
            ]
          },
          "metadata": {
            "needs_background": "light"
          }
        }
      ]
    },
    {
      "cell_type": "markdown",
      "source": [
        "Here also  Gradient descent algorithm with scaling takes very less number of iterations as compared to algorithm without scaling. It is hard to choose alpha for BACKTRACKING LINE SEARCH without scaling as the is no proper trend in the above orange curve. While for larger alpha the number of iterations in case of with scaling is lower. "
      ],
      "metadata": {
        "id": "3PzxMuv6xGk7"
      }
    },
    {
      "cell_type": "markdown",
      "source": [
        "**Q 10**"
      ],
      "metadata": {
        "id": "mCALZ4d5KUd4"
      }
    },
    {
      "cell_type": "code",
      "source": [
        "rhos=[0.9, 0.8, 0.75, 0.6, 0.5, 0.4, 0.25, 0.1, 0.01]"
      ],
      "metadata": {
        "id": "2Pd6bGKBKY2T"
      },
      "execution_count": 28,
      "outputs": []
    },
    {
      "cell_type": "code",
      "source": [
        "#code for without scaling\n",
        "x_values_wo_scaling2={}\n",
        "obj_values_wo_scaling2={}\n",
        "iters_wo_scaling2={}\n",
        "\n",
        "for i in rhos:\n",
        "  x_values_wo_scaling2[i],obj_values_wo_scaling2[i],iters_wo_scaling2[i]=find_minimizer_gd(my_start_x,my_tol,BACKTRACKING_LINE_SEARCH,alpha_start,i,gamma)"
      ],
      "metadata": {
        "id": "I59CIzxzKnqj"
      },
      "execution_count": 29,
      "outputs": []
    },
    {
      "cell_type": "code",
      "source": [
        "x_values_wo_scaling2"
      ],
      "metadata": {
        "colab": {
          "base_uri": "https://localhost:8080/"
        },
        "id": "axjEiwl6KxJv",
        "outputId": "ed391737-f18a-4b9b-9854-d2a7761e6e67"
      },
      "execution_count": 30,
      "outputs": [
        {
          "output_type": "execute_result",
          "data": {
            "text/plain": [
              "{0.01: array([-6.03891924e-16,  4.89972672e-13]),\n",
              " 0.1: array([-4.35224428e-16,  4.42644725e-13]),\n",
              " 0.25: array([-5.67128954e-16,  4.70177132e-13]),\n",
              " 0.4: array([-5.16461460e-16,  4.67846629e-13]),\n",
              " 0.5: array([-4.78532202e-16,  4.53575301e-13]),\n",
              " 0.6: array([-7.07691748e-16,  4.70469643e-13]),\n",
              " 0.75: array([-7.15454842e-16,  4.83616543e-13]),\n",
              " 0.8: array([-6.99968590e-16,  4.40149178e-13]),\n",
              " 0.9: array([-6.44686128e-16,  4.90962904e-13])}"
            ]
          },
          "metadata": {},
          "execution_count": 30
        }
      ]
    },
    {
      "cell_type": "code",
      "source": [
        "obj_values_wo_scaling2"
      ],
      "metadata": {
        "colab": {
          "base_uri": "https://localhost:8080/"
        },
        "id": "VDF8U9-NKxht",
        "outputId": "9cd352aa-9631-44d3-9db4-a01be9f07f17"
      },
      "execution_count": 31,
      "outputs": [
        {
          "output_type": "execute_result",
          "data": {
            "text/plain": [
              "{0.01: 2.394366854291179e-25,\n",
              " 0.1: 1.9544788340231146e-25,\n",
              " 0.25: 2.204823842206756e-25,\n",
              " 0.4: 2.1831406770108246e-25,\n",
              " 0.5: 2.0520584176089396e-25,\n",
              " 0.6: 2.2076113616544364e-25,\n",
              " 0.75: 2.332687511412074e-25,\n",
              " 0.8: 1.932338703071826e-25,\n",
              " 0.9: 2.404019351870065e-25}"
            ]
          },
          "metadata": {},
          "execution_count": 31
        }
      ]
    },
    {
      "cell_type": "code",
      "source": [
        "iters_wo_scaling2"
      ],
      "metadata": {
        "colab": {
          "base_uri": "https://localhost:8080/"
        },
        "id": "e3BW_z58KxzK",
        "outputId": "a3197b24-1714-422d-9ee6-d7a446f802c5"
      },
      "execution_count": 32,
      "outputs": [
        {
          "output_type": "execute_result",
          "data": {
            "text/plain": [
              "{0.01: 17463,\n",
              " 0.1: 45435,\n",
              " 0.25: 24570,\n",
              " 0.4: 20049,\n",
              " 0.5: 21985,\n",
              " 0.6: 15834,\n",
              " 0.75: 3135,\n",
              " 0.8: 1471,\n",
              " 0.9: 127}"
            ]
          },
          "metadata": {},
          "execution_count": 32
        }
      ]
    },
    {
      "cell_type": "code",
      "source": [
        "#code for with scaling\n",
        "x_values_with_scaling2={}\n",
        "obj_values_with_scaling2={}\n",
        "iters_with_scaling2={}\n",
        "\n",
        "for i in rhos:\n",
        "  x_values_with_scaling2[i],obj_values_with_scaling2[i],iters_with_scaling2[i]=find_minimizer_gdscaling(my_start_x,my_tol,BACKTRACKING_LINE_SEARCH_SCALING,alpha_start,i,gamma)"
      ],
      "metadata": {
        "id": "-ZL0rNc4KyXt"
      },
      "execution_count": 33,
      "outputs": []
    },
    {
      "cell_type": "code",
      "source": [
        "x_values_with_scaling2"
      ],
      "metadata": {
        "colab": {
          "base_uri": "https://localhost:8080/"
        },
        "id": "X4AITOuMK55f",
        "outputId": "4ea02f0f-f294-4530-dac4-afe201ad8179"
      },
      "execution_count": 34,
      "outputs": [
        {
          "output_type": "execute_result",
          "data": {
            "text/plain": [
              "{0.01: array([-5.88632151e-16,  4.39928337e-13]),\n",
              " 0.1: array([-6.22892805e-16,  4.51919078e-13]),\n",
              " 0.25: array([-6.9534609e-16,  4.5561674e-13]),\n",
              " 0.4: array([-2.10920879e-18,  1.38155681e-15]),\n",
              " 0.5: array([-2.31674405e-18,  9.60515434e-16]),\n",
              " 0.6: array([-2.68496827e-18,  1.53311688e-15]),\n",
              " 0.75: array([-3.59593964e-18,  9.57478862e-16]),\n",
              " 0.8: array([-3.89959677e-18,  7.65599523e-16]),\n",
              " 0.9: array([-1.90920422e-16,  3.38018326e-15])}"
            ]
          },
          "metadata": {},
          "execution_count": 34
        }
      ]
    },
    {
      "cell_type": "code",
      "source": [
        "obj_values_with_scaling2"
      ],
      "metadata": {
        "colab": {
          "base_uri": "https://localhost:8080/"
        },
        "id": "HGBCuyNMK5sX",
        "outputId": "9a725723-3750-4663-bf31-52e7fe747e1c"
      },
      "execution_count": 35,
      "outputs": [
        {
          "output_type": "execute_result",
          "data": {
            "text/plain": [
              "{0.01: 1.9302084997635662e-25,\n",
              " 0.1: 2.0368685744853975e-25,\n",
              " 0.25: 2.0704462793405916e-25,\n",
              " 0.4: 1.903716407388883e-30,\n",
              " 0.5: 9.217397790469283e-31,\n",
              " 0.6: 2.3447954703965872e-30,\n",
              " 0.75: 9.223897999650174e-31,\n",
              " 0.8: 5.970107943515186e-31,\n",
              " 0.9: 6.352016622002106e-29}"
            ]
          },
          "metadata": {},
          "execution_count": 35
        }
      ]
    },
    {
      "cell_type": "code",
      "source": [
        "iters_with_scaling2"
      ],
      "metadata": {
        "colab": {
          "base_uri": "https://localhost:8080/"
        },
        "id": "uAOF8XbbK5kP",
        "outputId": "d3d2267d-820e-4bf8-ded1-06a81dc68930"
      },
      "execution_count": 36,
      "outputs": [
        {
          "output_type": "execute_result",
          "data": {
            "text/plain": [
              "{0.01: 130,\n",
              " 0.1: 23,\n",
              " 0.25: 16,\n",
              " 0.4: 16,\n",
              " 0.5: 16,\n",
              " 0.6: 15,\n",
              " 0.75: 15,\n",
              " 0.8: 15,\n",
              " 0.9: 14}"
            ]
          },
          "metadata": {},
          "execution_count": 36
        }
      ]
    },
    {
      "cell_type": "code",
      "source": [
        "#gradient descent algorithm (with scaling) with backtracking line search\n",
        "#list which contains no of iterations for corrs alpha values in list 'alphas'\n",
        "iters_11=[iters_wo_scaling2[i] for i in rhos]\n",
        "\n",
        "#gradient descent algorithm (without scaling) with backtracking line search\n",
        "#list which contains no of iterations for corrs alpha values in list 'alphas'\n",
        "iters_22=[iters_with_scaling2[i] for i in rhos]\n",
        "\n",
        "plt.figure(figsize=(7,6))\n",
        "plt.plot(alphas, iters_11,label ='iterations without scaling',color='orange')\n",
        "plt.plot(alphas, iters_22,label ='iterations with scaling',color='green')\n",
        "plt.xlabel(\"Alpha values\",color='b')\n",
        "plt.ylabel('No. of iterations',color='b')\n",
        "plt.title('Alpha Values VS No. of iterations',color='r')\n",
        "plt.legend(loc='upper right')\n",
        "plt.show()"
      ],
      "metadata": {
        "colab": {
          "base_uri": "https://localhost:8080/",
          "height": 404
        },
        "id": "_CLltDc0K5U7",
        "outputId": "6686cf8f-26a7-4279-b299-7bb24d7e7a92"
      },
      "execution_count": 37,
      "outputs": [
        {
          "output_type": "display_data",
          "data": {
            "image/png": "[encoded data removed]",
            "text/plain": [
              "<Figure size 504x432 with 1 Axes>"
            ]
          },
          "metadata": {
            "needs_background": "light"
          }
        }
      ]
    },
    {
      "cell_type": "markdown",
      "source": [
        "Clearly Gradient descent algorithm with scaling takes very less number of iterations as compared to that in without scaling. Change in alpha is causing a significant change in the no. of iterations in case of without scaling. While there is negligible change in case of with scaling.\n",
        "\n",
        "The minimizer and minimum fn value is almost same for all alphas in case of without scaling ($x_1$ of order 1e-16 and $x_2$ with order 1e-13 and min fn value of order 1e-25). But even though the tolerence is same, in case of with scaling, minimizers and minimum fn values are of different order for different alpha."
      ],
      "metadata": {
        "id": "DARUtBP01J0B"
      }
    }
  ]
}