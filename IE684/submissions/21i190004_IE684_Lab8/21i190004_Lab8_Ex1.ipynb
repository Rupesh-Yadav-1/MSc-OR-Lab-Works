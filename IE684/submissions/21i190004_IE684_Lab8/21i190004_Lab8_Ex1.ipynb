{
  "nbformat": 4,
  "nbformat_minor": 0,
  "metadata": {
    "colab": {
      "name": "21i190004_Lab8_Ex1.ipynb",
      "provenance": []
    },
    "kernelspec": {
      "name": "python3",
      "display_name": "Python 3"
    },
    "language_info": {
      "name": "python"
    }
  },
  "cells": [
    {
      "cell_type": "code",
      "execution_count": null,
      "metadata": {
        "colab": {
          "base_uri": "https://localhost:8080/"
        },
        "id": "_T1pjjAr9SdI",
        "outputId": "4acdceed-db80-49df-b8d8-2740cae7af5f"
      },
      "outputs": [
        {
          "output_type": "stream",
          "name": "stdout",
          "text": [
            "(150, 4)\n",
            "(150,)\n",
            "[0 1 2]\n",
            "3\n",
            "[ 14  98  75  16 131  56 141  44  29 120  94   5 102  51  78  42  92  66\n",
            "  31  35  90  84  77  40 125  99  33  19  73 146  91 135  69 128 114  48\n",
            "  53  28  54 108 112  17 119 103  58 118  18   4  45  59  39  36 117 139\n",
            " 107 132 126  85 122  95  11 113 123  12   2 104   6 127 110  65  55 144\n",
            " 138  46  62  74 116  93 100  89  10  34  32 124  38  83 111 149  27  23\n",
            "  67   9 130  97 105 145  87 148 109  64  15  82  41  80  52  26  76  43\n",
            "  24 136 121 143  49  21  70   3 142  30 147 106  47 115  13  88   8  81\n",
            "  60   0   1  57  22  61  63   7  86  96  68  50 101  20  25 134  71 129\n",
            "  79 133 137  72 140  37]\n"
          ]
        }
      ],
      "source": [
        "import numpy as np\n",
        "\n",
        "#we will load the iris data from scikit-learn package\n",
        "from sklearn.datasets import load_iris\n",
        "iris = load_iris()\n",
        "#check the shape of iris data\n",
        "print(iris.data.shape)\n",
        "A = iris.data\n",
        "#check the shape of iris target\n",
        "print(iris.target.shape)\n",
        "\n",
        "#How many labels does iris data have?\n",
        "C = len(np.unique(iris.target))\n",
        "print(np.unique(iris.target))\n",
        "print(C)\n",
        "n = iris.data.shape[0] #Number of data points\n",
        "d = iris.data.shape[1] #Dimension of data points\n",
        "\n",
        "#In the following code, we create a nx1 vector of target labels\n",
        "y = 1.0*np.ones([A.shape[0],])\n",
        "for i in range(iris.target.shape[0]):\n",
        "  if iris.target[i] != 1: # Convert class labels that are not 1 into -1\n",
        "    y[i] = -1\n",
        "\n",
        "#Create an index array\n",
        "indexarr = np.arange(n) #index array\n",
        "np.random.seed(1)\n",
        "np.random.shuffle(indexarr) #shuffle the indices\n",
        "\n",
        "print(indexarr) #check indexarr after shuffling\n",
        "#Use the first 80% of indexarr to create the train data and the remaining 20% to create the test data\n",
        "train_data = iris.data[indexarr[:int(0.8*150)]]\n",
        "train_label = y[indexarr[:int(0.8*150)]]\n",
        "test_data = iris.data[indexarr[int(0.8*150):]]\n",
        "test_label = y[indexarr[int(0.8*150):]]"
      ]
    },
    {
      "cell_type": "markdown",
      "source": [
        "Class labels are from the set $\\{0, 1, . . . , C−1\\}$ \\\\\n",
        "Where, $C=3$"
      ],
      "metadata": {
        "id": "tF2ar9OeazQZ"
      }
    },
    {
      "cell_type": "code",
      "source": [
        "def predict(w,x):\n",
        "  return np.sign(np.dot(w,x))"
      ],
      "metadata": {
        "id": "9rADQk_wUX3U"
      },
      "execution_count": null,
      "outputs": []
    },
    {
      "cell_type": "code",
      "source": [
        "def compute_accuracy(data,labels,model_w):\n",
        "  count = 0\n",
        "  for i in range(data.shape[0]):\n",
        "    z = predict(model_w,data[i])\n",
        "    y = labels[i]\n",
        "    if z==y:\n",
        "      count = count+1\n",
        "\n",
        "  return 100*(count/data.shape[0])"
      ],
      "metadata": {
        "id": "O0jOs2XCdHvW"
      },
      "execution_count": null,
      "outputs": []
    },
    {
      "cell_type": "code",
      "source": [
        ""
      ],
      "metadata": {
        "id": "7ywWoG1meQ9K"
      },
      "execution_count": null,
      "outputs": []
    }
  ]
}