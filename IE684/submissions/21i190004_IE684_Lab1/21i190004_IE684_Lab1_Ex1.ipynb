{
  "nbformat": 4,
  "nbformat_minor": 0,
  "metadata": {
    "colab": {
      "name": "21i190004_IE684_Lab1_Ex1.ipynb",
      "provenance": [],
      "collapsed_sections": []
    },
    "kernelspec": {
      "name": "python3",
      "display_name": "Python 3"
    }
  },
  "cells": [
    {
      "cell_type": "markdown",
      "metadata": {
        "id": "nVE0Xoa0Q5wE"
      },
      "source": [
        "$\\large\\textbf{Lab 1 Exercise 1. }$\n",
        "\n",
        "We will start with a procedure which helps to find a minimizer of the function $f(\\mathbf{x})=f(x_1,x_2)= (x_1+100)^2 + (x_2-25)^2$. \n",
        "\n",
        "We will use the following gradient descent type algorithm: \n",
        "\n",
        "\\begin{align}\n",
        "& \\textbf{Input:} \\text{ Starting point $x^0$, Stopping tolerance $\\tau$, Steplength $\\eta$}  \\\\\n",
        "& \\textbf{Initialize } k=0 \\\\ \n",
        "&\\textbf{While } \\| \\nabla f(\\mathbf{x}^k) \\|_2 > \\tau \\text{ do:}  \\\\   \n",
        "&\\quad \\quad \\mathbf{x}^{k+1} \\leftarrow \\mathbf{x}^k - \\eta \\nabla f(\\mathbf{x}^k)  \\\\ \n",
        "&\\quad \\quad k = {k+1} \\\\ \n",
        "&\\textbf{End While} \\\\\n",
        "&\\textbf{Output: } \\mathbf{x}^k\n",
        "\\end{align}\n"
      ]
    },
    {
      "cell_type": "code",
      "metadata": {
        "id": "KJq7tIgIRroP"
      },
      "source": [
        "#numpy package will be used for most of our lab exercises. Please have a look at https://numpy.org/doc/stable/ for numpy documentation\n",
        "#we will first import the numpy package and name it as np\n",
        "import numpy as np \n",
        "#Henceforth, we can lazily use np to denote the much longer numpy !! "
      ],
      "execution_count": null,
      "outputs": []
    },
    {
      "cell_type": "code",
      "metadata": {
        "id": "GZjX2IwOR8_X"
      },
      "source": [
        "#Now we will define a function which will compute and return the function value \n",
        "def evalf(x):  \n",
        "  #Input: x is a numpy array of size 2 \n",
        "  assert type(x) is np.ndarray \n",
        "  assert len(x) == 2 #do not allow arbitrary arguments \n",
        "  #after checking if the argument is valid, we can compute the objective function value\n",
        "  return (x[0]+100)**2 + (x[1]-25)**2\n"
      ],
      "execution_count": null,
      "outputs": []
    },
    {
      "cell_type": "code",
      "metadata": {
        "id": "hu_eWNWHTg64"
      },
      "source": [
        "#check whether you can pass arbitrary arguments to evalf \n",
        "#my_x = [1,3] #Note: my_x is a list of 2 elements, but not a numpy array\n",
        "#print('f(my_x) is:',evalf(my_x))"
      ],
      "execution_count": null,
      "outputs": []
    },
    {
      "cell_type": "code",
      "metadata": {
        "colab": {
          "base_uri": "https://localhost:8080/"
        },
        "id": "JhgbIivdTshs",
        "outputId": "7ef3f03d-f99c-49a7-80a2-30b5d9aec36c"
      },
      "source": [
        "# First we will create a numpy array of size 2\n",
        "my_x = np.array([1,2])\n",
        "print('type of my_x',type(my_x), 'length of my_x:',len(my_x)) #verify if my_x is indeed a numpy array of size 2\n"
      ],
      "execution_count": null,
      "outputs": [
        {
          "output_type": "stream",
          "name": "stdout",
          "text": [
            "type of my_x <class 'numpy.ndarray'> length of my_x: 2\n"
          ]
        }
      ]
    },
    {
      "cell_type": "code",
      "metadata": {
        "id": "o6Iky9aOT78d"
      },
      "source": [
        "#now call evalf (x) with my_x as argument and check if it works\n",
        "#print(evalf(my_x))"
      ],
      "execution_count": null,
      "outputs": []
    },
    {
      "cell_type": "code",
      "metadata": {
        "id": "6klpwtDra_I8"
      },
      "source": [
        "#Now we will define a function which will compute and return the gradient value as a numpy array \n",
        "def evalg(x):  \n",
        "  #Input: x is a numpy array of size 2 \n",
        "  assert type(x) is np.ndarray and len(x) == 2 #do not allow arbitrary arguments \n",
        "  #after checking if the argument is valid, we can compute the gradient value\n",
        "  return np.array([2*(x[0]+100),2*(x[1]-25)])"
      ],
      "execution_count": null,
      "outputs": []
    },
    {
      "cell_type": "code",
      "metadata": {
        "id": "3SCJdqivdpxx"
      },
      "source": [
        "def find_minimizer(start_x, tol, step_length):\n",
        "  #Input: start_x is a numpy array of size 2, tol denotes the tolerance and is a positive float value\n",
        "  assert type(start_x) is np.ndarray and len(start_x) == 2 #do not allow arbitrary arguments \n",
        "  assert type(tol) is float and tol>=0 \n",
        "  assert type(step_length) is float and step_length>=0 \n",
        "  x = start_x\n",
        "  g_x = evalg(x)\n",
        "  k = 0\n",
        "\n",
        "  #we can manage a list to store the function values, might be useful for plotting \n",
        "  fvals = [evalf(x)]\n",
        "  print('iter:',k, ' x:', x, ' f(x):', evalf(x), ' grad at x:', g_x, ' gradient norm:', np.linalg.norm(g_x))\n",
        "\n",
        "  while (np.linalg.norm(g_x) > tol): #continue as long as the norm of gradient is not close to zero upto a tolerance tol\n",
        "    x = np.subtract(x, np.multiply(step_length,g_x)) #update x = x - step_length*g_x\n",
        "    k += 1 #increment iteration\n",
        "    g_x = evalg(x) #compute gradient at new point\n",
        "\n",
        "    #append the current function value to the list containing function values\n",
        "    fvals.append(evalf(x))\n",
        "    print('iter:',k, ' x:', x, ' f(x):', evalf(x), ' grad at x:', g_x, ' gradient norm:', np.linalg.norm(g_x))\n",
        "  return x, fvals \n"
      ],
      "execution_count": null,
      "outputs": []
    },
    {
      "cell_type": "code",
      "metadata": {
        "colab": {
          "base_uri": "https://localhost:8080/"
        },
        "id": "n-kHCkbwe-M4",
        "outputId": "5cef1bc1-26f1-4de3-8624-4b8bc62fd31a"
      },
      "source": [
        "my_start_x = np.array([10,10])\n",
        "my_steplength = 0.1\n",
        "my_tol= 1e-3 #10^{-3} or 0.001\n",
        "opt_x, fvals_ret = find_minimizer(my_start_x, my_tol, my_steplength)\n",
        "print('Optimizer:',opt_x)"
      ],
      "execution_count": null,
      "outputs": [
        {
          "output_type": "stream",
          "name": "stdout",
          "text": [
            "iter: 0  x: [10 10]  f(x): 12325  grad at x: [220 -30]  gradient norm: 222.03603311174518\n",
            "iter: 1  x: [-12.  13.]  f(x): 7888.0  grad at x: [176. -24.]  gradient norm: 177.62882648939615\n",
            "iter: 2  x: [-29.6  15.4]  f(x): 5048.320000000001  grad at x: [140.8 -19.2]  gradient norm: 142.10306119151693\n",
            "iter: 3  x: [-43.68  17.32]  f(x): 3230.9247999999993  grad at x: [112.64 -15.36]  gradient norm: 113.68244895321352\n",
            "iter: 4  x: [-54.944  18.856]  f(x): 2067.791872  grad at x: [ 90.112 -12.288]  gradient norm: 90.94595916257082\n",
            "iter: 5  x: [-63.9552  20.0848]  f(x): 1323.3867980799996  grad at x: [72.0896 -9.8304]  gradient norm: 72.75676733005665\n",
            "iter: 6  x: [-71.16416  21.06784]  f(x): 846.9675507711995  grad at x: [57.67168 -7.86432]  gradient norm: 58.20541386404531\n",
            "iter: 7  x: [-76.931328  21.854272]  f(x): 542.0592324935676  grad at x: [46.137344 -6.291456]  gradient norm: 46.56433109123625\n",
            "iter: 8  x: [-81.5450624  22.4834176]  f(x): 346.9179087958833  grad at x: [36.9098752 -5.0331648]  gradient norm: 37.251464872989\n",
            "iter: 9  x: [-85.23604992  22.98673408]  f(x): 222.0274616293655  grad at x: [29.52790016 -4.02653184]  gradient norm: 29.80117189839121\n",
            "iter: 10  x: [-88.18883994  23.38938726]  f(x): 142.09757544279404  grad at x: [23.62232013 -3.22122547]  gradient norm: 23.840937518712977\n",
            "iter: 11  x: [-90.55107195  23.71150981]  f(x): 90.94244828338809  grad at x: [18.8978561  -2.57698038]  gradient norm: 19.072750014970374\n",
            "iter: 12  x: [-92.44085756  23.96920785]  f(x): 58.20316690136841  grad at x: [15.11828488 -2.0615843 ]  gradient norm: 15.258200011976303\n",
            "iter: 13  x: [-93.95268605  24.17536628]  f(x): 37.25002681687585  grad at x: [12.09462791 -1.64926744]  gradient norm: 12.206560009581054\n",
            "iter: 14  x: [-95.16214884  24.34029302]  f(x): 23.840017162800546  grad at x: [ 9.67570232 -1.31941395]  gradient norm: 9.765248007664843\n",
            "iter: 15  x: [-96.12971907  24.47223442]  f(x): 15.25761098419235  grad at x: [ 7.74056186 -1.05553116]  gradient norm: 7.812198406131874\n",
            "iter: 16  x: [-96.90377526  24.57778753]  f(x): 9.764871029883087  grad at x: [ 6.19244949 -0.84442493]  gradient norm: 6.249758724905495\n",
            "iter: 17  x: [-97.5230202   24.66223003]  f(x): 6.249517459125205  grad at x: [ 4.95395959 -0.67553994]  gradient norm: 4.999806979924407\n",
            "iter: 18  x: [-98.01841616  24.72978402]  f(x): 3.9996911738401533  grad at x: [ 3.96316767 -0.54043196]  gradient norm: 3.999845583939537\n",
            "iter: 19  x: [-98.41473293  24.78382722]  f(x): 2.559802351257707  grad at x: [ 3.17053414 -0.43234556]  gradient norm: 3.199876467151635\n",
            "iter: 20  x: [-98.73178634  24.82706177]  f(x): 1.6382735048049322  grad at x: [ 2.53642731 -0.34587645]  gradient norm: 2.5599011737213075\n",
            "iter: 21  x: [-98.98542908  24.86164942]  f(x): 1.0484950430751447  grad at x: [ 2.02914185 -0.27670116]  gradient norm: 2.0479209389770348\n",
            "iter: 22  x: [-99.18834326  24.88931954]  f(x): 0.6710368275680882  grad at x: [ 1.62331348 -0.22136093]  gradient norm: 1.6383367511816223\n",
            "iter: 23  x: [-99.35067461  24.91145563]  f(x): 0.42946356964356897  grad at x: [ 1.29865078 -0.17708874]  gradient norm: 1.3106694009452864\n",
            "iter: 24  x: [-99.48053969  24.9291645 ]  f(x): 0.27485668457188733  grad at x: [ 1.03892063 -0.14167099]  gradient norm: 1.0485355207562352\n",
            "iter: 25  x: [-99.58443175  24.9433316 ]  f(x): 0.1759082781260078  grad at x: [ 0.8311365 -0.1133368]  gradient norm: 0.8388284166049879\n",
            "iter: 26  x: [-99.6675454   24.95466528]  f(x): 0.11258129800064115  grad at x: [ 0.6649092  -0.09066944]  gradient norm: 0.6710627332839789\n",
            "iter: 27  x: [-99.73403632  24.96373223]  f(x): 0.07205203072040883  grad at x: [ 0.53192736 -0.07253555]  gradient norm: 0.5368501866271775\n",
            "iter: 28  x: [-99.78722906  24.97098578]  f(x): 0.04611329966106277  grad at x: [ 0.42554189 -0.05802844]  gradient norm: 0.4294801493017472\n",
            "iter: 29  x: [-99.82978324  24.97678862]  f(x): 0.02951251178308121  grad at x: [ 0.34043351 -0.04642275]  gradient norm: 0.3435841194414038\n",
            "iter: 30  x: [-99.8638266  24.9814309]  f(x): 0.018888007541173576  grad at x: [ 0.27234681 -0.0371382 ]  gradient norm: 0.2748672955531347\n",
            "iter: 31  x: [-99.89106128  24.98514472]  f(x): 0.01208832482635049  grad at x: [ 0.21787745 -0.02971056]  gradient norm: 0.21989383644250232\n",
            "iter: 32  x: [-99.91284902  24.98811578]  f(x): 0.007736527888864313  grad at x: [ 0.17430196 -0.02376845]  gradient norm: 0.17591506915400185\n",
            "iter: 33  x: [-99.93027922  24.99049262]  f(x): 0.004951377848873557  grad at x: [ 0.13944157 -0.01901476]  gradient norm: 0.14073205532320712\n",
            "iter: 34  x: [-99.94422337  24.9923941 ]  f(x): 0.0031688818232796997  grad at x: [ 0.11155325 -0.01521181]  gradient norm: 0.11258564425857677\n",
            "iter: 35  x: [-99.9553787   24.99391528]  f(x): 0.0020280843668995063  grad at x: [ 0.0892426  -0.01216945]  gradient norm: 0.09006851540687248\n",
            "iter: 36  x: [-99.96430296  24.99513222]  f(x): 0.0012979739948154952  grad at x: [ 0.07139408 -0.00973556]  gradient norm: 0.07205481232549274\n",
            "iter: 37  x: [-99.97144237  24.99610578]  f(x): 0.0008307033566815811  grad at x: [ 0.05711527 -0.00778845]  gradient norm: 0.05764384986038254\n",
            "iter: 38  x: [-99.97715389  24.99688462]  f(x): 0.000531650148276203  grad at x: [ 0.04569221 -0.00623076]  gradient norm: 0.04611507988830565\n",
            "iter: 39  x: [-99.98172312  24.9975077 ]  f(x): 0.000340256094896659  grad at x: [ 0.03655377 -0.0049846 ]  gradient norm: 0.036892063910638505\n",
            "iter: 40  x: [-99.98537849  24.99800616]  f(x): 0.00021776390073393917  grad at x: [ 0.02924302 -0.00398768]  gradient norm: 0.02951365112851605\n",
            "iter: 41  x: [-99.98830279  24.99840493]  f(x): 0.0001393688964697853  grad at x: [ 0.02339441 -0.00319015]  gradient norm: 0.02361092090281828\n",
            "iter: 42  x: [-99.99064223  24.99872394]  f(x): 8.919609374066622e-05  grad at x: [ 0.01871553 -0.00255212]  gradient norm: 0.01888873672225501\n",
            "iter: 43  x: [-99.99251379  24.99897915]  f(x): 5.7085499994068934e-05  grad at x: [ 0.01497242 -0.00204169]  gradient norm: 0.01511098937780964\n",
            "iter: 44  x: [-99.99401103  24.99918332]  f(x): 3.653471999613835e-05  grad at x: [ 0.01197794 -0.00163336]  gradient norm: 0.01208879150223683\n",
            "iter: 45  x: [-99.99520882  24.99934666]  f(x): 2.3382220797474075e-05  grad at x: [ 0.00958235 -0.00130668]  gradient norm: 0.0096710332017782\n",
            "iter: 46  x: [-99.99616706  24.99947733]  f(x): 1.4964621310382665e-05  grad at x: [ 0.00766588 -0.00104535]  gradient norm: 0.007736826561422368\n",
            "iter: 47  x: [-99.99693365  24.99958186]  f(x): 9.577357638678578e-06  grad at x: [ 0.0061327  -0.00083628]  gradient norm: 0.006189461249148775\n",
            "iter: 48  x: [-99.99754692  24.99966549]  f(x): 6.129508888739396e-06  grad at x: [ 0.00490616 -0.00066902]  gradient norm: 0.004951568999313004\n",
            "iter: 49  x: [-99.99803753  24.99973239]  f(x): 3.922885688770902e-06  grad at x: [ 0.00392493 -0.00053522]  gradient norm: 0.003961255199439138\n",
            "iter: 50  x: [-99.99843003  24.99978591]  f(x): 2.5106468407952244e-06  grad at x: [ 0.00313994 -0.00042817]  gradient norm: 0.003169004159539854\n",
            "iter: 51  x: [-99.99874402  24.99982873]  f(x): 1.6068139781229793e-06  grad at x: [ 0.00251196 -0.00034254]  gradient norm: 0.002535203327642956\n",
            "iter: 52  x: [-99.99899522  24.99986298]  f(x): 1.0283609459933846e-06  grad at x: [ 0.00200956 -0.00027403]  gradient norm: 0.0020281626621091167\n",
            "iter: 53  x: [-99.99919617  24.99989039]  f(x): 6.581510054452161e-07  grad at x: [ 0.00160765 -0.00021923]  gradient norm: 0.0016225301296989418\n",
            "iter: 54  x: [-99.99935694  24.99991231]  f(x): 4.212166434776276e-07  grad at x: [ 0.00128612 -0.00017538]  gradient norm: 0.001298024103747889\n",
            "iter: 55  x: [-99.99948555  24.99992985]  f(x): 2.6957865182860594e-07  grad at x: [ 0.0010289 -0.0001403]  gradient norm: 0.0010384192830039433\n",
            "iter: 56  x: [-99.99958844  24.99994388]  f(x): 1.7253033717248775e-07  grad at x: [ 0.00082312 -0.00011224]  gradient norm: 0.0008307354264084029\n",
            "Optimizer: [-99.99958844  24.99994388]\n"
          ]
        }
      ]
    },
    {
      "cell_type": "markdown",
      "source": [
        "**Q 2** \\\\\n",
        "minimizer is $(x_1,x_2)=(-100,25)$ \\\\\n",
        "and minimum function value is 0.\n",
        "\n",
        "We can find this with basic calculus and the optimizer in above code also seems to be converging to theoritical optimizer."
      ],
      "metadata": {
        "id": "f1lk8RRpYxXw"
      }
    },
    {
      "cell_type": "code",
      "metadata": {
        "id": "Ft_3BxMzfREx",
        "colab": {
          "base_uri": "https://localhost:8080/",
          "height": 279
        },
        "outputId": "f8461e27-a9af-4404-f7f5-d9ded4ad5fae"
      },
      "source": [
        "#we will plot the function values and check the behavior\n",
        "import matplotlib.pyplot as plt #package useful for plotting\n",
        "plt.plot(fvals_ret)\n",
        "plt.xlabel('Iterations')\n",
        "plt.ylabel('f(x)')\n",
        "plt.show()"
      ],
      "execution_count": null,
      "outputs": [
        {
          "output_type": "display_data",
          "data": {
            "image/png": "[encoded data removed]",
            "text/plain": [
              "<Figure size 432x288 with 1 Axes>"
            ]
          },
          "metadata": {
            "needs_background": "light"
          }
        }
      ]
    },
    {
      "cell_type": "markdown",
      "source": [
        "**Q 3**"
      ],
      "metadata": {
        "id": "yEAvZh-ZZu4g"
      }
    },
    {
      "cell_type": "code",
      "source": [
        "def find_minimizer2(start_x, tol, step_length):\n",
        "  #Input: start_x is a numpy array of size 2, tol denotes the tolerance and is a positive float value\n",
        "  assert type(start_x) is np.ndarray and len(start_x) == 2 #do not allow arbitrary arguments \n",
        "  assert type(tol) is float and tol>=0 \n",
        "  assert type(step_length) is float and step_length>=0 \n",
        "  x = start_x\n",
        "  g_x = evalg(x)\n",
        "  k = 0\n",
        "\n",
        "  #we can manage a list to store the function values, might be useful for plotting \n",
        "  #fvals = [evalf(x)]\n",
        "  #print('iter:',k, ' x:', x, ' f(x):', evalf(x), ' grad at x:', g_x, ' gradient norm:', np.linalg.norm(g_x))\n",
        "\n",
        "  while (np.linalg.norm(g_x) > tol): #continue as long as the norm of gradient is not close to zero upto a tolerance tol\n",
        "    x = np.subtract(x, np.multiply(step_length,g_x)) #update x = x - step_length*g_x\n",
        "    k += 1 #increment iteration\n",
        "    g_x = evalg(x) #compute gradient at new point\n",
        "\n",
        "    #append the current function value to the list containing function values\n",
        "    #fvals.append(evalf(x))\n",
        "    #print('iter:',k, ' x:', x, ' f(x):', evalf(x), ' grad at x:', g_x, ' gradient norm:', np.linalg.norm(g_x))\n",
        "  return x, evalf(x), k  #in this modified fn we are also returning no. of iterations taken"
      ],
      "metadata": {
        "id": "rfAPCfEpawMy"
      },
      "execution_count": null,
      "outputs": []
    },
    {
      "cell_type": "code",
      "metadata": {
        "id": "E6_yk3_CaBYJ"
      },
      "source": [
        "final_minimizers={}\n",
        "final_obj_values={}\n",
        "num_of_iter={}\n",
        "\n",
        "for p in range(10):\n",
        "  final_minimizers[p+1],final_obj_values[p+1],num_of_iter[p+1]=find_minimizer2(np.array([10,10]), 10**(-(p+1)), 0.1)"
      ],
      "execution_count": null,
      "outputs": []
    },
    {
      "cell_type": "code",
      "source": [
        "final_minimizers"
      ],
      "metadata": {
        "colab": {
          "base_uri": "https://localhost:8080/"
        },
        "id": "MrazrReheUCf",
        "outputId": "14263fb7-5f65-413d-d843-90a667fcd2af"
      },
      "execution_count": null,
      "outputs": [
        {
          "output_type": "execute_result",
          "data": {
            "text/plain": [
              "{1: array([-99.9553787 ,  24.99391528]),\n",
              " 2: array([-99.99520882,  24.99934666]),\n",
              " 3: array([-99.99958844,  24.99994388]),\n",
              " 4: array([-99.99995581,  24.99999397]),\n",
              " 5: array([-99.99999526,  24.99999935]),\n",
              " 6: array([-99.99999959,  24.99999994]),\n",
              " 7: array([-99.99999996,  24.99999999]),\n",
              " 8: array([-100.,   25.]),\n",
              " 9: array([-100.,   25.]),\n",
              " 10: array([-100.,   25.])}"
            ]
          },
          "metadata": {},
          "execution_count": 35
        }
      ]
    },
    {
      "cell_type": "code",
      "source": [
        "final_obj_values"
      ],
      "metadata": {
        "colab": {
          "base_uri": "https://localhost:8080/"
        },
        "id": "RpFDoY_Zek8s",
        "outputId": "ccbc5ddc-8578-4077-e553-fc6f051b608c"
      },
      "execution_count": null,
      "outputs": [
        {
          "output_type": "execute_result",
          "data": {
            "text/plain": [
              "{1: 0.0020280843668995063,\n",
              " 2: 2.3382220797474075e-05,\n",
              " 3: 1.7253033717248775e-07,\n",
              " 4: 1.989139359193299e-09,\n",
              " 5: 2.293321544605827e-11,\n",
              " 6: 1.6921726745458407e-13,\n",
              " 7: 1.950942200128245e-15,\n",
              " 8: 2.249273021138356e-17,\n",
              " 9: 1.6597088735501767e-19,\n",
              " 10: 1.9135732950098918e-21}"
            ]
          },
          "metadata": {},
          "execution_count": 36
        }
      ]
    },
    {
      "cell_type": "code",
      "source": [
        "num_of_iter"
      ],
      "metadata": {
        "colab": {
          "base_uri": "https://localhost:8080/"
        },
        "id": "CooXA5KleoYF",
        "outputId": "c2ebb35b-2b60-4897-9fc6-2f337f1ccba9"
      },
      "execution_count": null,
      "outputs": [
        {
          "output_type": "execute_result",
          "data": {
            "text/plain": [
              "{1: 35, 2: 45, 3: 56, 4: 66, 5: 76, 6: 87, 7: 97, 8: 107, 9: 118, 10: 128}"
            ]
          },
          "metadata": {},
          "execution_count": 37
        }
      ]
    },
    {
      "cell_type": "code",
      "source": [
        "import matplotlib.pyplot as plt\n",
        "\n",
        "#making a list for tolerance values\n",
        "tol_values=[]\n",
        "for i in range(10):\n",
        "  tol_values.append(10**(-(i+1)))\n",
        "\n",
        "#list for number of iterations for respective\n",
        "#tolerance values in tol_values list\n",
        "iters=[num_of_iter[i+1] for i in range(10)]\n",
        "\n",
        "plt.plot(tol_values, iters)\n",
        "# naming the x axis\n",
        "plt.xlabel('tolerance values')\n",
        "# naming the y axis\n",
        "plt.ylabel('no. of iterations')\n",
        "plt.show()"
      ],
      "metadata": {
        "colab": {
          "base_uri": "https://localhost:8080/",
          "height": 279
        },
        "id": "krmCMsMcfbmK",
        "outputId": "fe6f10cf-7e9a-4102-e5ac-eedd939a0230"
      },
      "execution_count": null,
      "outputs": [
        {
          "output_type": "display_data",
          "data": {
            "image/png": "[encoded data removed]",
            "text/plain": [
              "<Figure size 432x288 with 1 Axes>"
            ]
          },
          "metadata": {
            "needs_background": "light"
          }
        }
      ]
    },
    {
      "cell_type": "markdown",
      "source": [
        "From the above plot we can easily conclude that as the tolerance value decreases the no. of iterations increases.\n",
        "\n",
        "Decreasing the tolerance value the minimizer are getting more accurate and converging to integer and same is with the objective function values also."
      ],
      "metadata": {
        "id": "KDZ4wR-5hwbO"
      }
    },
    {
      "cell_type": "markdown",
      "source": [
        "**Q 4**"
      ],
      "metadata": {
        "id": "Wzl3JXbcineX"
      }
    },
    {
      "cell_type": "code",
      "source": [
        "step_len_values=[0.0001,0.001,0.01,0.1,0.2,0.4,0.5,0.6,0.7,0.8,0.9]\n",
        "\n",
        "final_minimizers_2={}\n",
        "final_obj_values_2={}\n",
        "num_of_iter_2={}\n",
        "\n",
        "for i in step_len_values:\n",
        "  final_minimizers_2[i],final_obj_values_2[i],num_of_iter_2[i]=find_minimizer2(np.array([10,10]), 10**(-5), i)"
      ],
      "metadata": {
        "id": "OycFj2lNiq2n"
      },
      "execution_count": null,
      "outputs": []
    },
    {
      "cell_type": "code",
      "source": [
        "final_minimizers_2"
      ],
      "metadata": {
        "colab": {
          "base_uri": "https://localhost:8080/"
        },
        "id": "Cs9LvGWGjmh5",
        "outputId": "892ca683-bdc8-4fc8-e458-b931f77affad"
      },
      "execution_count": null,
      "outputs": [
        {
          "output_type": "execute_result",
          "data": {
            "text/plain": [
              "{0.0001: array([-99.99999505,  24.99999932]),\n",
              " 0.001: array([-99.99999505,  24.99999933]),\n",
              " 0.01: array([-99.99999512,  24.99999933]),\n",
              " 0.1: array([-99.99999526,  24.99999935]),\n",
              " 0.2: array([-99.99999685,  24.99999957]),\n",
              " 0.4: array([-99.99999775,  24.99999969]),\n",
              " 0.5: array([-100.,   25.]),\n",
              " 0.6: array([-100.00000225,   25.00000031]),\n",
              " 0.7: array([-100.00000302,   25.00000041]),\n",
              " 0.8: array([-99.99999685,  24.99999957]),\n",
              " 0.9: array([-99.99999526,  24.99999935])}"
            ]
          },
          "metadata": {},
          "execution_count": 46
        }
      ]
    },
    {
      "cell_type": "code",
      "source": [
        "final_obj_values_2"
      ],
      "metadata": {
        "colab": {
          "base_uri": "https://localhost:8080/"
        },
        "id": "9PMiPVFmju5z",
        "outputId": "3016eb87-8bc6-41c6-849e-2aaefc0cee93"
      },
      "execution_count": null,
      "outputs": [
        {
          "output_type": "execute_result",
          "data": {
            "text/plain": [
              "{0.0001: 2.49936770204995e-11,\n",
              " 0.001: 2.494219709847674e-11,\n",
              " 0.01: 2.4304673044883465e-11,\n",
              " 0.1: 2.293321544605827e-11,\n",
              " 0.2: 1.011747066175869e-11,\n",
              " 0.4: 5.169479687800271e-12,\n",
              " 0.5: 0.0,\n",
              " 0.6: 5.169479687800271e-12,\n",
              " 0.7: 9.312506683476372e-12,\n",
              " 0.8: 1.011747066175869e-11,\n",
              " 0.9: 2.293321544605827e-11}"
            ]
          },
          "metadata": {},
          "execution_count": 47
        }
      ]
    },
    {
      "cell_type": "code",
      "source": [
        "num_of_iter_2"
      ],
      "metadata": {
        "colab": {
          "base_uri": "https://localhost:8080/"
        },
        "id": "tEchf3J8jxSZ",
        "outputId": "4895e652-370d-4976-a1a7-09c83950bee7"
      },
      "execution_count": null,
      "outputs": [
        {
          "output_type": "execute_result",
          "data": {
            "text/plain": [
              "{0.0001: 84571,\n",
              " 0.001: 8450,\n",
              " 0.01: 838,\n",
              " 0.1: 76,\n",
              " 0.2: 34,\n",
              " 0.4: 11,\n",
              " 0.5: 1,\n",
              " 0.6: 11,\n",
              " 0.7: 19,\n",
              " 0.8: 34,\n",
              " 0.9: 76}"
            ]
          },
          "metadata": {},
          "execution_count": 48
        }
      ]
    },
    {
      "cell_type": "code",
      "source": [
        "#list for number of iterations for respective\n",
        "#step length values in step_len_values list\n",
        "iters_2=[num_of_iter_2[i] for i in step_len_values]\n",
        "\n",
        "plt.plot(step_len_values, iters_2)\n",
        "# naming the x axis\n",
        "plt.xlabel('step length values')\n",
        "# naming the y axis\n",
        "plt.ylabel('no. of iterations')\n",
        "plt.show()"
      ],
      "metadata": {
        "colab": {
          "base_uri": "https://localhost:8080/",
          "height": 279
        },
        "id": "uf-eljDTkBT6",
        "outputId": "2632b105-7334-4a39-d28a-044e58312cf3"
      },
      "execution_count": null,
      "outputs": [
        {
          "output_type": "display_data",
          "data": {
            "image/png": "[encoded data removed]",
            "text/plain": [
              "<Figure size 432x288 with 1 Axes>"
            ]
          },
          "metadata": {
            "needs_background": "light"
          }
        }
      ]
    },
    {
      "cell_type": "markdown",
      "source": [
        "From the plot we can say that the no. of iterations are very huge for step length values less than 0.01. Which increses the calculation time. So, it is not good to take step length values lesser than 0.01, we can say that the ideal step length value is 0.5 . \n",
        "\n",
        "We are getting almost same minimizers and objective function values for all step length values because the termination of algorithm depends only upon the tolerance value, which is same for all step length values. With exception in case of step length value=0.5 because in this case the algorithm terminates only after single iteration."
      ],
      "metadata": {
        "id": "F6Tg0Czzkwpr"
      }
    },
    {
      "cell_type": "markdown",
      "source": [
        "**Q 5**"
      ],
      "metadata": {
        "id": "9kg7cBJPrWzX"
      }
    },
    {
      "cell_type": "code",
      "source": [
        "start_points=[(10000,10000),(500,0),(0,1000),(1,1),(-500,-2)]"
      ],
      "metadata": {
        "id": "WIohYhkZrYo-"
      },
      "execution_count": null,
      "outputs": []
    },
    {
      "cell_type": "code",
      "source": [
        "final_minimizers_3={}\n",
        "final_obj_values_3={}\n",
        "num_of_iter_3={}\n",
        "\n",
        "for i in start_points:\n",
        "  final_minimizers_3[i],final_obj_values_3[i],num_of_iter_3[i]=find_minimizer2(np.array(list(i)), 10**(-5), 0.1)"
      ],
      "metadata": {
        "id": "CYOS7Rx9r1Fj"
      },
      "execution_count": null,
      "outputs": []
    },
    {
      "cell_type": "code",
      "source": [
        "final_minimizers_3"
      ],
      "metadata": {
        "colab": {
          "base_uri": "https://localhost:8080/"
        },
        "id": "ybZEFvRcv9aH",
        "outputId": "78811ab0-de82-4ecb-d545-305f4272809f"
      },
      "execution_count": null,
      "outputs": [
        {
          "output_type": "execute_result",
          "data": {
            "text/plain": [
              "{(-500, -2): array([-100.00000452,   24.99999969]),\n",
              " (0, 1000): array([-99.99999954,  25.00000452]),\n",
              " (1, 1): array([-99.99999564,  24.99999896]),\n",
              " (500, 0): array([-99.99999566,  24.99999982]),\n",
              " (10000, 10000): array([-99.99999679,  25.00000317])}"
            ]
          },
          "metadata": {},
          "execution_count": 78
        }
      ]
    },
    {
      "cell_type": "code",
      "source": [
        "final_obj_values_3"
      ],
      "metadata": {
        "colab": {
          "base_uri": "https://localhost:8080/"
        },
        "id": "i4CWKayQv-7H",
        "outputId": "6890f33e-c27c-4713-ee43-cf5da092e81f"
      },
      "execution_count": null,
      "outputs": [
        {
          "output_type": "execute_result",
          "data": {
            "text/plain": [
              "{(-500, -2): 2.055190630073527e-11,\n",
              " (0, 1000): 2.060780080476227e-11,\n",
              " (1, 1): 2.0052840841640608e-11,\n",
              " (500, 0): 1.888746375147865e-11,\n",
              " (10000, 10000): 2.0414342669998657e-11}"
            ]
          },
          "metadata": {},
          "execution_count": 79
        }
      ]
    },
    {
      "cell_type": "code",
      "source": [
        "num_of_iter_3"
      ],
      "metadata": {
        "colab": {
          "base_uri": "https://localhost:8080/"
        },
        "id": "kfodDyVNv_gz",
        "outputId": "52c63098-0fa9-4694-fbf6-58b5e4a365c9"
      },
      "execution_count": null,
      "outputs": [
        {
          "output_type": "execute_result",
          "data": {
            "text/plain": [
              "{(-500, -2): 82, (0, 1000): 86, (1, 1): 76, (500, 0): 84, (10000, 10000): 98}"
            ]
          },
          "metadata": {},
          "execution_count": 80
        }
      ]
    },
    {
      "cell_type": "code",
      "source": [
        "from tabulate import tabulate\n",
        "\n",
        "table = [(i,final_minimizers_3[i],final_obj_values_3[i],num_of_iter_3[i]) for i in start_points]\n",
        "print(tabulate(table, headers=[\"starting point\",\"final minimizer\", \"final obj fn value\", \"no. of iterations\"]))"
      ],
      "metadata": {
        "colab": {
          "base_uri": "https://localhost:8080/"
        },
        "id": "1OaYDZqZweS8",
        "outputId": "c6cd4f3c-e743-4d22-a088-9c3f34879144"
      },
      "execution_count": null,
      "outputs": [
        {
          "output_type": "stream",
          "name": "stdout",
          "text": [
            "starting point    final minimizer                  final obj fn value    no. of iterations\n",
            "----------------  -----------------------------  --------------------  -------------------\n",
            "(10000, 10000)    [-99.99999679  25.00000317]             2.04143e-11                   98\n",
            "(500, 0)          [-99.99999566  24.99999982]             1.88875e-11                   84\n",
            "(0, 1000)         [-99.99999954  25.00000452]             2.06078e-11                   86\n",
            "(1, 1)            [-99.99999564  24.99999896]             2.00528e-11                   76\n",
            "(-500, -2)        [-100.00000452   24.99999969]           2.05519e-11                   82\n"
          ]
        }
      ]
    },
    {
      "cell_type": "markdown",
      "source": [
        "From above table we can observe that the starting points are not affecting our results. For starting point with huge difference we are getting almost the same results."
      ],
      "metadata": {
        "id": "nAhCNE2CyrCR"
      }
    }
  ]
}