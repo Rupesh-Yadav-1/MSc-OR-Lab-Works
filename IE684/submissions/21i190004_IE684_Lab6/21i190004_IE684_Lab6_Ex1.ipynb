{
  "nbformat": 4,
  "nbformat_minor": 0,
  "metadata": {
    "colab": {
      "name": "21i190004_IE684_Lab6_Ex1.ipynb",
      "provenance": [],
      "collapsed_sections": []
    },
    "kernelspec": {
      "name": "python3",
      "display_name": "Python 3"
    },
    "language_info": {
      "name": "python"
    }
  },
  "cells": [
    {
      "cell_type": "code",
      "execution_count": null,
      "metadata": {
        "id": "FCzGg-XMwgDc"
      },
      "outputs": [],
      "source": [
        "import numpy as np\n",
        "import matplotlib.pyplot as plt\n",
        "import math\n",
        "from timeit import default_timer as timer"
      ]
    },
    {
      "cell_type": "code",
      "source": [
        "np.random.seed(1000)\n",
        "A = np.random.randn(1000,10)"
      ],
      "metadata": {
        "id": "Qw-uruthyBnz"
      },
      "execution_count": null,
      "outputs": []
    },
    {
      "cell_type": "code",
      "source": [
        "x_bar = np.zeros(10)\n",
        "x_bar = x_bar.reshape(10,1)\n",
        "\n",
        "np.random.seed(10)\n",
        "\n",
        "for i in range(0,10,2):\n",
        "  x_bar[i] = np.random.uniform(-i-2,-i-1)\n",
        "for j in range(1,10,2):\n",
        "  x_bar[j] = np.random.uniform(j+1,j+2)"
      ],
      "metadata": {
        "id": "VuiceD8PyXon"
      },
      "execution_count": null,
      "outputs": []
    },
    {
      "cell_type": "code",
      "source": [
        "np.random.seed(1000)\n",
        "ep = np.random.randn(1000,1)"
      ],
      "metadata": {
        "id": "4GTFwEVIytuU"
      },
      "execution_count": null,
      "outputs": []
    },
    {
      "cell_type": "code",
      "source": [
        "y = np.matmul(A,x_bar) + ep"
      ],
      "metadata": {
        "id": "ERuMDYJQy7SP"
      },
      "execution_count": null,
      "outputs": []
    },
    {
      "cell_type": "markdown",
      "source": [
        "**Q 1**"
      ],
      "metadata": {
        "id": "knGqEpTakwXG"
      }
    },
    {
      "cell_type": "code",
      "source": [
        "def evalf(x):  \n",
        "  assert type(x) is np.ndarray   \n",
        "  fx = np.linalg.norm(np.matmul(A,x) - y)\n",
        "  fx = 0.5*(fx)**2\n",
        "\n",
        "  return fx"
      ],
      "metadata": {
        "id": "6K8kXzLlky0x"
      },
      "execution_count": null,
      "outputs": []
    },
    {
      "cell_type": "code",
      "source": [
        "evalf(np.zeros(10))"
      ],
      "metadata": {
        "colab": {
          "base_uri": "https://localhost:8080/"
        },
        "id": "3YWWNYsWlRX8",
        "outputId": "e16bddc7-0c00-4712-d815-ce7d89a01919"
      },
      "execution_count": null,
      "outputs": [
        {
          "output_type": "execute_result",
          "data": {
            "text/plain": [
              "241240397.2062964"
            ]
          },
          "metadata": {},
          "execution_count": 7
        }
      ]
    },
    {
      "cell_type": "code",
      "source": [
        "def evalg(x):\n",
        "  assert type(x) is np.ndarray\n",
        "\n",
        "  return np.matmul(A.T, np.matmul(A, x) - y)"
      ],
      "metadata": {
        "id": "_2RoziIhlZnR"
      },
      "execution_count": null,
      "outputs": []
    },
    {
      "cell_type": "code",
      "source": [
        "def evalh(x):\n",
        "  assert type(x) is np.ndarray\n",
        "\n",
        "  return np.matmul(A.T,A)"
      ],
      "metadata": {
        "id": "Kp8vUB3ds0Rn"
      },
      "execution_count": null,
      "outputs": []
    },
    {
      "cell_type": "code",
      "source": [
        "def compute_steplength_backtracking_scaled_direction(x, gradf, direction, alpha_start, rho, gamma):\n",
        "  assert type(x) is np.ndarray\n",
        "  assert type(gradf) is np.ndarray\n",
        "  assert type(direction) is np.ndarray\n",
        "  assert type(alpha_start) is float and alpha_start>=0.\n",
        "  assert type(rho) is float and rho>=0.\n",
        "  assert type(gamma) is float and gamma>=0.\n",
        "  \n",
        "  alpha = alpha_start\n",
        "  while evalf(x+alpha*direction)>evalf(x)+gamma*alpha*np.matmul(gradf.T,direction):\n",
        "    alpha=rho*alpha\n",
        "\n",
        "  return alpha"
      ],
      "metadata": {
        "id": "j9wCLciivArR"
      },
      "execution_count": null,
      "outputs": []
    },
    {
      "cell_type": "code",
      "source": [
        "def find_minimizer_newtons(start_x, tol, *args):\n",
        "  assert type(start_x) is np.ndarray \n",
        "  assert type(tol) is float and tol>=0 \n",
        "\n",
        "  x = start_x\n",
        "  n = x.shape[0]\n",
        "  g_x = evalg(x)\n",
        "\n",
        "  x_k_list =[]\n",
        "\n",
        "  alpha_start = args[0]\n",
        "  rho = args[1]\n",
        "  gamma = args[2]\n",
        "\n",
        "  k=0\n",
        "  while (np.linalg.norm(g_x) > tol):\n",
        "    D_k = np.linalg.inv(evalh(x))\n",
        "    p_k = -np.matmul(D_k, g_x)\n",
        "    step_length = compute_steplength_backtracking_scaled_direction(x, g_x, p_k, alpha_start, rho, gamma)\n",
        "  \n",
        "    x = np.add(x,np.multiply(step_length,p_k))\n",
        "    x_k_list.append(x)\n",
        "    k += 1 \n",
        "    g_x = evalg(x)\n",
        "  return x, evalf(x), k, x_k_list"
      ],
      "metadata": {
        "id": "h73Yk1T2s_If"
      },
      "execution_count": null,
      "outputs": []
    },
    {
      "cell_type": "code",
      "source": [
        "time_start1 = timer()\n",
        "minimizer1,fn1,iter1, x_k_list1 = find_minimizer_newtons(np.zeros(10).reshape(10,1), 1e-5, 0.99, 0.5, 0.5)\n",
        "time_end1   = timer()"
      ],
      "metadata": {
        "id": "6zfB1Alfv2cp"
      },
      "execution_count": null,
      "outputs": []
    },
    {
      "cell_type": "code",
      "source": [
        "print('x* = ',minimizer1)\n",
        "print()\n",
        "print('x_bar = ',x_bar)"
      ],
      "metadata": {
        "colab": {
          "base_uri": "https://localhost:8080/"
        },
        "id": "lXZOynT1yFoR",
        "outputId": "cdcc8a02-0783-4478-cda4-56f40336ece9"
      },
      "execution_count": null,
      "outputs": [
        {
          "output_type": "stream",
          "name": "stdout",
          "text": [
            "x* =  [[-1.2499482 ]\n",
            " [ 2.2508644 ]\n",
            " [-3.96509013]\n",
            " [ 4.20044946]\n",
            " [-5.30747951]\n",
            " [ 6.75406566]\n",
            " [-7.25964815]\n",
            " [ 8.19990441]\n",
            " [-9.46332624]\n",
            " [10.16898387]]\n",
            "\n",
            "x_bar =  [[-1.22867936]\n",
            " [ 2.22479665]\n",
            " [-3.97924805]\n",
            " [ 4.19806286]\n",
            " [-5.36635177]\n",
            " [ 6.76053071]\n",
            " [-7.25119612]\n",
            " [ 8.16911084]\n",
            " [-9.50149299]\n",
            " [10.08833981]]\n"
          ]
        }
      ]
    },
    {
      "cell_type": "code",
      "source": [
        "lg = [math.log(np.linalg.norm(x_k_list1[i]-minimizer1)) for i in range(iter1-1)]\n",
        "\n",
        "plt.plot([k+1 for k in range(iter1-1)], lg)\n",
        "plt.xlabel('Iterations')\n",
        "plt.ylabel('log(||x_k-x*||)')\n",
        "plt.show()"
      ],
      "metadata": {
        "colab": {
          "base_uri": "https://localhost:8080/",
          "height": 279
        },
        "id": "8vg6OI5d0f35",
        "outputId": "62226c48-cce7-418f-fee5-a5681ad4e67f"
      },
      "execution_count": null,
      "outputs": [
        {
          "output_type": "display_data",
          "data": {
            "image/png": "[encoded data removed]",
            "text/plain": [
              "<Figure size 432x288 with 1 Axes>"
            ]
          },
          "metadata": {
            "needs_background": "light"
          }
        }
      ]
    },
    {
      "cell_type": "code",
      "source": [
        "lg_f =[math.log(abs(evalf(x_k_list1[i]) - evalf(minimizer1))) for i in range(iter1-1)]\n",
        "\n",
        "plt.plot([k+1 for k in range(iter1-1)], lg_f)\n",
        "plt.xlabel('Iterations')\n",
        "plt.ylabel('log(||f(x_k)-f(x*)||)')\n",
        "plt.show()"
      ],
      "metadata": {
        "colab": {
          "base_uri": "https://localhost:8080/",
          "height": 279
        },
        "id": "yuXkERamE9da",
        "outputId": "92197760-f39c-4873-8211-c2c703a660c6"
      },
      "execution_count": null,
      "outputs": [
        {
          "output_type": "display_data",
          "data": {
            "image/png": "[encoded data removed]",
            "text/plain": [
              "<Figure size 432x288 with 1 Axes>"
            ]
          },
          "metadata": {
            "needs_background": "light"
          }
        }
      ]
    },
    {
      "cell_type": "markdown",
      "source": [
        "$\\frac{||x^{k+1} − x^∗||}{||x^k − x^∗||}≤ r$\n",
        "\n",
        "Taking log both sides we get $log(||x^{k+1} − x^∗||)-log(||x^{k} − x^∗||) < log(r)$, where 0<r<1. \n",
        "\n",
        "The convergence rate for both is Q-Linear as the $log(||x^k - x^*||)$ is decreasing linearly wrt k and we can always get an 0<r<1 for all -ve numbers k s.t log(r) >= k "
      ],
      "metadata": {
        "id": "ci4k2PlY6fq4"
      }
    },
    {
      "cell_type": "markdown",
      "source": [
        "**Q 3**"
      ],
      "metadata": {
        "id": "OXt0JPs0yw6F"
      }
    },
    {
      "cell_type": "code",
      "source": [
        "#code for BFGS method to find the minimizer\n",
        "def find_minimizer_BFGS(start_x, tol, B_k, *args):\n",
        "  #Input: start_x is a numpy array of size 2, tol denotes the tolerance and is a positive float value\n",
        "  assert type(start_x) is np.ndarray #do not allow arbitrary arguments \n",
        "  assert type(tol) is float and tol>=0 \n",
        "\n",
        "  n = len(start_x)\n",
        "  x = start_x.reshape((n,1))\n",
        "  g_x = evalg(x)\n",
        "  x_k_list=[]\n",
        "  #initialization for backtracking line search\n",
        "  alpha_start = args[0]\n",
        "  rho = args[1]\n",
        "  gamma = args[2]\n",
        "\n",
        "  k=0\n",
        "  while (np.linalg.norm(g_x) > tol):\n",
        "    p_k = -np.matmul(B_k, g_x)\n",
        "    step_length = compute_steplength_backtracking_scaled_direction(x, g_x, p_k, alpha_start, rho, gamma)\n",
        "\n",
        "    x_k = x\n",
        "    s_k = np.multiply(step_length,p_k)\n",
        "    #x = np.add(x, np.multiply(step_length,p_k)) #update x = x + step_length*direction\n",
        "    x = np.add(x, s_k)#s_k = x - x_k\n",
        "    y_k = evalg(x)-evalg(x_k)\n",
        "    s_yT = np.matmul(s_k,y_k.T)\n",
        "    y_sT = np.matmul(y_k, s_k.T)\n",
        "    u_k = 1/(np.matmul(y_k.T,s_k))\n",
        "    term_11 = np.subtract(np.identity(n) , u_k*s_yT)\n",
        "    term_13 = np.subtract(np.identity(n) , u_k*y_sT)\n",
        "    B_k = np.matmul(term_11,np.matmul(B_k,term_13)) + u_k*np.matmul(s_k,s_k.T)\n",
        "    \n",
        "    x_k_list.append(x)\n",
        "    k += 1 #increment iteration\n",
        "    g_x = evalg(x) #compute gradient at new point\n",
        "\n",
        "  return x, evalf(x), k, x_k_list"
      ],
      "metadata": {
        "id": "hEDQl1_Byj6L"
      },
      "execution_count": null,
      "outputs": []
    },
    {
      "cell_type": "code",
      "source": [
        "B_k = np.identity(10)/10\n",
        "\n",
        "time_start2 = timer()\n",
        "minimizer2,fn2,iter2,x_k_list2 = find_minimizer_BFGS(np.zeros(10).reshape(10,1), 1e-5, B_k, 0.99, 0.5, 0.5)\n",
        "time_end2   = timer()"
      ],
      "metadata": {
        "id": "TxKjcjlLy79h"
      },
      "execution_count": null,
      "outputs": []
    },
    {
      "cell_type": "code",
      "source": [
        "print('x* = ',minimizer2)\n",
        "print()\n",
        "print('x_bar = ',x_bar)"
      ],
      "metadata": {
        "colab": {
          "base_uri": "https://localhost:8080/"
        },
        "id": "6ZUawq0mzDGj",
        "outputId": "80661e97-5faa-47f3-b96e-abb989a06462"
      },
      "execution_count": null,
      "outputs": [
        {
          "output_type": "stream",
          "name": "stdout",
          "text": [
            "x* =  [[-1.2499482 ]\n",
            " [ 2.2508644 ]\n",
            " [-3.96509013]\n",
            " [ 4.20044946]\n",
            " [-5.30747951]\n",
            " [ 6.75406566]\n",
            " [-7.25964814]\n",
            " [ 8.1999044 ]\n",
            " [-9.46332624]\n",
            " [10.16898386]]\n",
            "\n",
            "x_bar =  [[-1.22867936]\n",
            " [ 2.22479665]\n",
            " [-3.97924805]\n",
            " [ 4.19806286]\n",
            " [-5.36635177]\n",
            " [ 6.76053071]\n",
            " [-7.25119612]\n",
            " [ 8.16911084]\n",
            " [-9.50149299]\n",
            " [10.08833981]]\n"
          ]
        }
      ]
    },
    {
      "cell_type": "code",
      "source": [
        "lg2 = [math.log(np.linalg.norm(x_k_list2[i]-minimizer2)) for i in range(iter2-2)]\n",
        "plt.plot([k+1 for k in range(iter2-2)], lg2)\n",
        "plt.xlabel('Iterations')\n",
        "plt.ylabel('log||x_k-x*||')\n",
        "plt.show()"
      ],
      "metadata": {
        "colab": {
          "base_uri": "https://localhost:8080/",
          "height": 279
        },
        "id": "uwAUxtJkzrHd",
        "outputId": "7b5b4962-98dc-4d71-e988-e1a721bbdadb"
      },
      "execution_count": null,
      "outputs": [
        {
          "output_type": "display_data",
          "data": {
            "image/png": "[encoded data removed]",
            "text/plain": [
              "<Figure size 432x288 with 1 Axes>"
            ]
          },
          "metadata": {
            "needs_background": "light"
          }
        }
      ]
    },
    {
      "cell_type": "code",
      "source": [
        "lg_f2 =[math.log(abs(evalf(x_k_list2[i]) - evalf(minimizer2))) for i in range(iter2-2)]\n",
        "\n",
        "plt.plot([k+1 for k in range(iter2-2)], lg_f2)\n",
        "plt.xlabel('Iterations')\n",
        "plt.ylabel('log(||f(x_k)-f(x*)||)')\n",
        "plt.show()"
      ],
      "metadata": {
        "colab": {
          "base_uri": "https://localhost:8080/",
          "height": 282
        },
        "id": "57pGNKbXCkFm",
        "outputId": "450c51ad-5b92-4127-d259-1965417caefb"
      },
      "execution_count": null,
      "outputs": [
        {
          "output_type": "display_data",
          "data": {
            "image/png": "[encoded data removed]",
            "text/plain": [
              "<Figure size 432x288 with 1 Axes>"
            ]
          },
          "metadata": {
            "needs_background": "light"
          }
        }
      ]
    },
    {
      "cell_type": "markdown",
      "source": [
        "Here, the convergence rate for both is Q-linear as ln(||x_k+1 - x* ||) - ln(x_k- x*) is negative and there exists c in (0,1) for all negative numbers k s.t. ln(c) >= k."
      ],
      "metadata": {
        "id": "yoHTKGkD7Gsd"
      }
    },
    {
      "cell_type": "markdown",
      "source": [
        "**Q 4**"
      ],
      "metadata": {
        "id": "bl2gptLuLkP9"
      }
    },
    {
      "cell_type": "code",
      "source": [
        "print(\"Time taken by Newtons method:\",time_end1-time_start1)\n",
        "print(\"Time taken by BFGS Method:\",time_end2-time_start2)"
      ],
      "metadata": {
        "colab": {
          "base_uri": "https://localhost:8080/"
        },
        "id": "8fyHZi3LGxoK",
        "outputId": "50dafeb3-bfa9-4709-944d-062daa9a51da"
      },
      "execution_count": null,
      "outputs": [
        {
          "output_type": "stream",
          "name": "stdout",
          "text": [
            "Time taken by Newtons method: 0.008353252998858807\n",
            "Time taken by BFGS Method: 0.01809835299900442\n"
          ]
        }
      ]
    },
    {
      "cell_type": "markdown",
      "source": [
        "here, BFGS is taking more time as compared to Newtons method."
      ],
      "metadata": {
        "id": "0J3jOVED85Od"
      }
    }
  ]
}