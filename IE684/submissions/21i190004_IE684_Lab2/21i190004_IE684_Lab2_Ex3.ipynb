{
  "nbformat": 4,
  "nbformat_minor": 0,
  "metadata": {
    "colab": {
      "name": "21i190004_IE684_Lab2_Ex3.ipynb",
      "provenance": []
    },
    "kernelspec": {
      "name": "python3",
      "display_name": "Python 3"
    },
    "language_info": {
      "name": "python"
    }
  },
  "cells": [
    {
      "cell_type": "code",
      "execution_count": 1,
      "metadata": {
        "id": "Js0IwCV8XNE5"
      },
      "outputs": [],
      "source": [
        "import numpy as np"
      ]
    },
    {
      "cell_type": "code",
      "source": [
        "import matplotlib.pyplot as plt"
      ],
      "metadata": {
        "id": "VagNKhl9zCnu"
      },
      "execution_count": 14,
      "outputs": []
    },
    {
      "cell_type": "code",
      "source": [
        "def evalf(x):  \n",
        "  #Input: x is a numpy array of size 2\n",
        "  assert type(x) is np.ndarray and len(x) == 2 #do not allow arbitrary arguments\n",
        "  #arr=np.array([(1/(8^i))*((x[i-1]-2^i)^2) for i in range(1,4)])\n",
        "  #return np.sum(arr)\n",
        "  return 512*(x[1]-x[0]**2)**2+(4-x[0])**2"
      ],
      "metadata": {
        "id": "p0yqnGe1XTo_"
      },
      "execution_count": 2,
      "outputs": []
    },
    {
      "cell_type": "code",
      "source": [
        "def evalg(x):  \n",
        "  #Input: x is a numpy array of size 2\n",
        "  assert type(x) is np.ndarray and len(x) == 2 #do not allow arbitrary arguments \n",
        "  \n",
        "  return np.array([-2048*x[0]*(x[1]-x[0]**2)-2*(4-x[0]), 1024*(x[1]-x[0]**2)])"
      ],
      "metadata": {
        "id": "zdOtNbSVmH8R"
      },
      "execution_count": 3,
      "outputs": []
    },
    {
      "cell_type": "code",
      "source": [
        "#Complete the module to compute the steplength by using the backtracking line search\n",
        "def compute_steplength_backtracking(x, gradf, alpha_start, rho, gamma): #add appropriate arguments to the function \n",
        "  assert type(x) is np.ndarray and len(x) == 2 \n",
        "  assert type(gradf) is np.ndarray and len(gradf) == 2 \n",
        "  \n",
        "  alpha = alpha_start\n",
        "  pk=-gradf\n",
        "  #print('x: ',x)\n",
        "  while evalf(x+alpha*pk)>evalf(x)+gamma*alpha*np.linalg.multi_dot([gradf,pk]):\n",
        "    alpha=rho*alpha\n",
        "\n",
        "  #print('final step length:',alpha)\n",
        "  return alpha"
      ],
      "metadata": {
        "id": "8PNNR5o7-5IR"
      },
      "execution_count": 4,
      "outputs": []
    },
    {
      "cell_type": "markdown",
      "source": [
        "**Q 1**"
      ],
      "metadata": {
        "id": "Nd_RtkAfEbwN"
      }
    },
    {
      "cell_type": "markdown",
      "source": [
        "Differentiating function wrt to $x_1$ and equating to $0$ gives $x_1=4$ and similarly differentiating function wrt $x_2$ and equating to $0$ gives $x_2=16$. So, $(x_1,x_2)=(4,16)$ can be point of minimum or point of maxmimum. Now since function value at this point is $0$ and function is sum of two square terms hence function will be always greater than or equal to zero. Hence, $(4,16)$ is minimizer and $0$ is the minimum function value."
      ],
      "metadata": {
        "id": "gNwfzaJJsCgr"
      }
    },
    {
      "cell_type": "markdown",
      "source": [
        "**Q 2**"
      ],
      "metadata": {
        "id": "r-EbYtiGEgv-"
      }
    },
    {
      "cell_type": "markdown",
      "source": [
        "We cannot find close form solution for this function because the given function cannot be expressed in the form $\\mathbf{x}^\\top \\mathbf{A} \\mathbf{x} + 2 \\mathbf{b}^\\top \\mathbf{x} + c$, where $\\mathbf{x}\\in {\\mathbb{R}}^2$, $\\mathbf{A}$ is a symmetric matrix of size $2 \\times 2$, $\\mathbf{b}\\in{\\mathbb{R}}^2$ and $c\\in\\mathbb{R}$. "
      ],
      "metadata": {
        "id": "BfO0DZu3Fdys"
      }
    },
    {
      "cell_type": "code",
      "source": [
        "def find_minimizer_bls(start_x,tol,alpha_s,rho_s,gamma_s):\n",
        "  #Input: start_x is a numpy array of size 2, tol denotes the tolerance and is a positive float value\n",
        "  assert type(start_x) is np.ndarray and len(start_x) == 2 #do not allow arbitrary arguments\n",
        "  assert type(tol) is float and tol>=0 \n",
        "  x = start_x\n",
        "  g_x = evalg(x)\n",
        "  k = 0\n",
        "\n",
        "  #alpha_s=alpha\n",
        "  #rho_s=rho\n",
        "  #gamma_s=gamma\n",
        "  #we can manage a list to store the function values, might be useful for plotting \n",
        "  #fvals = [evalf(x)]\n",
        "  #print('iter:',k, ' x:', x, ' f(x):', evalf(x), ' grad at x:', g_x, ' gradient norm:', np.linalg.norm(g_x))\n",
        "\n",
        "  while (np.linalg.norm(g_x) > tol): #continue as long as the norm of gradient is not close to zero upto a tolerance tol\n",
        "    step_length = compute_steplength_backtracking(x,g_x, alpha_s,rho_s,gamma_s)\n",
        "    x = np.subtract(x, np.multiply(step_length,g_x)) #update x = x - step_length*g_x\n",
        "    k += 1 #increment iteration\n",
        "    g_x = evalg(x) #compute gradient at new point\n",
        "\n",
        "    #append the current function value to the list containing function values\n",
        "    #fvals.append(evalf(x))\n",
        "    #print('iter:',k, ' x:', x, ' f(x):', evalf(x), ' grad at x:', g_x, ' gradient norm:', np.linalg.norm(g_x))\n",
        "  print('For alpha = ',alpha_s)\n",
        "  print('Number of iterations taken is: ', k,' Minimizer is: ', x)\n",
        "  return x, evalf(x),k"
      ],
      "metadata": {
        "id": "VoGbGlEE_AA7"
      },
      "execution_count": 5,
      "outputs": []
    },
    {
      "cell_type": "markdown",
      "source": [
        "**Q 5**"
      ],
      "metadata": {
        "id": "jvt0S7z1Ei6O"
      }
    },
    {
      "cell_type": "code",
      "source": [
        "start_x=np.array([4,4], dtype='double')\n",
        "tol=1e-5\n",
        "gamma=0.5\n",
        "rho=0.5\n",
        "alpha=[1,0.9,0.75,0.6,0.5,0.4,0.25,0.1,0.01]"
      ],
      "metadata": {
        "id": "Pk3mlWdn7XHO"
      },
      "execution_count": 6,
      "outputs": []
    },
    {
      "cell_type": "code",
      "source": [
        "minimizer_values={}\n",
        "fun_obj_values={}\n",
        "no_of_iters={}\n",
        "\n",
        "for i in alpha:\n",
        "  minimizer_values[i],fun_obj_values[i],no_of_iters[i]=find_minimizer_bls(start_x,tol,i,rho,gamma)"
      ],
      "metadata": {
        "id": "ghVTMEzv-_R7",
        "colab": {
          "base_uri": "https://localhost:8080/"
        },
        "outputId": "776384f1-a753-434c-98da-8a0afa844eff"
      },
      "execution_count": 7,
      "outputs": [
        {
          "output_type": "stream",
          "name": "stdout",
          "text": [
            "For alpha =  1\n",
            "Number of iterations taken is:  937301  Minimizer is:  [ 3.99995979 15.99967832]\n",
            "For alpha =  0.9\n",
            "Number of iterations taken is:  2579228  Minimizer is:  [ 3.99995989 15.9996791 ]\n",
            "For alpha =  0.75\n",
            "Number of iterations taken is:  7941373  Minimizer is:  [ 3.99996173 15.99969379]\n",
            "For alpha =  0.6\n",
            "Number of iterations taken is:  3937558  Minimizer is:  [ 3.99996036 15.99968288]\n",
            "For alpha =  0.5\n",
            "Number of iterations taken is:  937301  Minimizer is:  [ 3.99995979 15.99967832]\n",
            "For alpha =  0.4\n",
            "Number of iterations taken is:  6067322  Minimizer is:  [ 3.99996081 15.99968647]\n",
            "For alpha =  0.25\n",
            "Number of iterations taken is:  937339  Minimizer is:  [ 3.99995977 15.99967814]\n",
            "For alpha =  0.1\n",
            "Number of iterations taken is:  6067322  Minimizer is:  [ 3.99996081 15.99968647]\n",
            "For alpha =  0.01\n",
            "Number of iterations taken is:  5309493  Minimizer is:  [ 3.99996079 15.99968629]\n"
          ]
        }
      ]
    },
    {
      "cell_type": "code",
      "source": [
        "iters=[no_of_iters[i] for i in alpha] #list which contains no of iterations and it will be used to plot the required curve\n",
        "\n",
        "plt.plot(alpha, iters)\n",
        "# naming the x axis\n",
        "plt.xlabel('alpha values')\n",
        "# naming the y axis\n",
        "plt.ylabel('no. of iterations')\n",
        "plt.show()"
      ],
      "metadata": {
        "colab": {
          "base_uri": "https://localhost:8080/",
          "height": 290
        },
        "id": "tfIYYGexy7qm",
        "outputId": "f9dc64cf-705e-45de-e678-2b689dcf4a63"
      },
      "execution_count": 15,
      "outputs": [
        {
          "output_type": "display_data",
          "data": {
            "image/png": "[encoded data removed]",
            "text/plain": [
              "<Figure size 432x288 with 1 Axes>"
            ]
          },
          "metadata": {
            "needs_background": "light"
          }
        }
      ]
    },
    {
      "cell_type": "markdown",
      "source": [
        "There is no proper trend in the number of iteration with respect to the value of alpha. It is difficult to guess that for which alpha number of iterations will be less.\n",
        "\n",
        "Also as it is taking a very long time, it took more than two hours, to get solution so we should use other methods to solve this."
      ],
      "metadata": {
        "id": "KCe7Eil2GCuV"
      }
    },
    {
      "cell_type": "markdown",
      "source": [
        "**Q 6**"
      ],
      "metadata": {
        "id": "pZM_fJkwEQ0r"
      }
    },
    {
      "cell_type": "code",
      "source": [
        "def find_minimizer_bls_6(start_x,tol,alpha_s,rho_s,gamma_s):\n",
        "  #Input: start_x is a numpy array of size 2, tol denotes the tolerance and is a positive float value\n",
        "  assert type(start_x) is np.ndarray and len(start_x) == 2 #do not allow arbitrary arguments\n",
        "  assert type(tol) is float and tol>=0 \n",
        "  x = start_x\n",
        "  g_x = evalg(x)\n",
        "  k = 0\n",
        "\n",
        "\n",
        "  while (np.linalg.norm(g_x) > tol): #continue as long as the norm of gradient is not close to zero upto a tolerance tol\n",
        "    step_length = compute_steplength_backtracking(x,g_x, alpha_s,rho_s,gamma_s)\n",
        "    x = np.subtract(x, np.multiply(step_length,g_x)) #update x = x - step_length*g_x\n",
        "    k += 1 #increment iteration\n",
        "    g_x = evalg(x) #compute gradient at new point\n",
        "\n",
        "  print('For rho = ',rho_s)\n",
        "  print('Number of iterations taken is: ', k,' Minimizer is: ', x)\n",
        "  return x, evalf(x),k"
      ],
      "metadata": {
        "id": "Sv7KFkxDXenm"
      },
      "execution_count": 11,
      "outputs": []
    },
    {
      "cell_type": "code",
      "source": [
        "gamma=0.5\n",
        "rhoo=[0.9, 0.75, 0.6, 0.5, 0.4, 0.25, 0.1, 0.01]\n",
        "alph=1"
      ],
      "metadata": {
        "id": "9yNPddECAOlm"
      },
      "execution_count": 8,
      "outputs": []
    },
    {
      "cell_type": "code",
      "source": [
        "minimizer_values_6={}\n",
        "fun_obj_values_6={}\n",
        "no_of_iters_6={}\n",
        "\n",
        "for i in rhoo:\n",
        "  minimizer_values_6[i],fun_obj_values_6[i],no_of_iters_6[i]=find_minimizer_bls_6(start_x,tol,alph,i,gamma)"
      ],
      "metadata": {
        "id": "311EBdAHEnqn",
        "colab": {
          "base_uri": "https://localhost:8080/"
        },
        "outputId": "e75ed5fd-94a8-4489-98a9-c6c1712495be"
      },
      "execution_count": 12,
      "outputs": [
        {
          "output_type": "stream",
          "name": "stdout",
          "text": [
            "For rho =  0.9\n",
            "Number of iterations taken is:  1671540  Minimizer is:  [ 3.99995994 15.9996795 ]\n",
            "For rho =  0.75\n",
            "Number of iterations taken is:  3707435  Minimizer is:  [ 3.99996092 15.99968734]\n",
            "For rho =  0.6\n",
            "Number of iterations taken is:  4416822  Minimizer is:  [ 3.99996039 15.99968312]\n",
            "For rho =  0.5\n",
            "Number of iterations taken is:  937301  Minimizer is:  [ 3.99995979 15.99967832]\n",
            "For rho =  0.4\n",
            "Number of iterations taken is:  3037943  Minimizer is:  [ 3.99996027 15.99968219]\n",
            "For rho =  0.25\n",
            "Number of iterations taken is:  921362  Minimizer is:  [ 3.99995989 15.9996791 ]\n",
            "For rho =  0.1\n",
            "Number of iterations taken is:  7341010  Minimizer is:  [ 3.99996009 15.99968072]\n",
            "For rho =  0.01\n",
            "Number of iterations taken is:  68205871  Minimizer is:  [ 3.99996248 15.99969985]\n"
          ]
        }
      ]
    },
    {
      "cell_type": "code",
      "source": [
        "iters=[no_of_iters_6[i] for i in rhoo] #list which contains no of iterations and it will be used to plot the required curve\n",
        "\n",
        "plt.plot(rhoo, iters)\n",
        "# naming the x axis\n",
        "plt.xlabel('rho values')\n",
        "# naming the y axis\n",
        "plt.ylabel('no. of iterations')\n",
        "plt.show()"
      ],
      "metadata": {
        "colab": {
          "base_uri": "https://localhost:8080/",
          "height": 290
        },
        "id": "AXa2MC2qyffp",
        "outputId": "6396dc8a-5dea-4cb1-8d36-112c904b23a2"
      },
      "execution_count": 17,
      "outputs": [
        {
          "output_type": "display_data",
          "data": {
            "image/png": "[encoded data removed]",
            "text/plain": [
              "<Figure size 432x288 with 1 Axes>"
            ]
          },
          "metadata": {
            "needs_background": "light"
          }
        }
      ]
    },
    {
      "cell_type": "markdown",
      "source": [
        "Unlike in previous case here we can see a trend that for rho value very close to 0 i.e less than 0.1 it takes very large no. of itertions as compared to that of other rho values.\n",
        "\n",
        "Here also it took very large amount of time. So, we need to find another algorithms to solve this."
      ],
      "metadata": {
        "id": "kL2nHr0VGtdP"
      }
    }
  ]
}