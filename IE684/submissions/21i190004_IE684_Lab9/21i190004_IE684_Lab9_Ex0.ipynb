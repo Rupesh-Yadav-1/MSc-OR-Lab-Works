{
  "nbformat": 4,
  "nbformat_minor": 0,
  "metadata": {
    "colab": {
      "name": "21i190004_IE684_Lab9_Ex0.ipynb",
      "provenance": [],
      "collapsed_sections": []
    },
    "kernelspec": {
      "name": "python3",
      "display_name": "Python 3"
    },
    "language_info": {
      "name": "python"
    }
  },
  "cells": [
    {
      "cell_type": "code",
      "execution_count": 1,
      "metadata": {
        "id": "rCe1mTQUj1oc"
      },
      "outputs": [],
      "source": [
        "import numpy as np\n",
        "import matplotlib.pyplot as plt\n",
        "from tabulate import tabulate\n",
        "from scipy import optimize"
      ]
    },
    {
      "cell_type": "code",
      "source": [
        "#we will load the iris data from scikit-learn package\n",
        "from sklearn.datasets import load_wine\n",
        "wine = load_wine()\n",
        "#check the shape of iris data\n",
        "print(wine.data.shape)\n",
        "A = wine.data\n",
        "#check the shape of iris target\n",
        "print(wine.target.shape)\n",
        "\n",
        "#How many labels does iris data have?\n",
        "C = len(np.unique(wine.target))\n",
        "print(np.unique(wine.target))\n",
        "print(C)\n",
        "n = wine.data.shape[0] #Number of data points\n",
        "d = wine.data.shape[1] #Dimension of data points\n",
        "\n",
        "#In the following code, we create a nx1 vector of target labels\n",
        "y = 1.0*np.ones([A.shape[0],])\n",
        "for i in range(wine.target.shape[0]):\n",
        "  if wine.target[i] != 1: # Convert class labels that are not 1 into -1\n",
        "    y[i] = -1\n",
        "\n",
        "#Create an index array\n",
        "indexarr = np.arange(n) #index array\n",
        "np.random.seed(10)\n",
        "np.random.shuffle(indexarr) #shuffle the indices\n",
        "\n",
        "print(indexarr) #check indexarr after shuffling\n",
        "#Use the first 80% of indexarr to create the train data and the remaining 20% to create the test data\n",
        "train_data = wine.data[indexarr[:int(0.8*150)]]\n",
        "train_label = y[indexarr[:int(0.8*150)]]\n",
        "test_data = wine.data[indexarr[int(0.8*150):]]\n",
        "test_label = y[indexarr[int(0.8*150):]]"
      ],
      "metadata": {
        "colab": {
          "base_uri": "https://localhost:8080/"
        },
        "id": "OIfq11S8kA4w",
        "outputId": "fd5f3ac6-0dfe-4b89-9cc5-3e9c694aaa67"
      },
      "execution_count": 2,
      "outputs": [
        {
          "output_type": "stream",
          "name": "stdout",
          "text": [
            "(178, 13)\n",
            "(178,)\n",
            "[0 1 2]\n",
            "3\n",
            "[ 69 103  20 116  56  97 117  39 172  10  19  66  55  61 102  59  83  78\n",
            " 110 163   1 160  47  49  67 136  68 133  60  76 171 170  70 168 124  26\n",
            "  95  91  24 109 121  21 176  63  58  99 144  81  87  43 150 120 138  35\n",
            " 174  82   2 114 153  38  52 142 177 146 148 101  80  72 145  98  41  32\n",
            " 105  48  25  53  90 149  51  14 162  29   3  23 131 166  37 167 165  45\n",
            " 111 134  42  79 143 155 119 147  12 127  22  85   6 106 112 135 132 104\n",
            "  34 152 108  50 169 130 129   4   5  44 128  96  84 154  28  75   7  46\n",
            "  17  11 158  71 118 137 175  74  94 151  93  18  27  36  57  31  65 140\n",
            "  89  30  86  92 141 126  13  77 159 161  33  62 122 107  88  54 139 100\n",
            "  16 115 164  40   0  73   8 173 157 156 123 113  64  15 125   9]\n"
          ]
        }
      ]
    },
    {
      "cell_type": "code",
      "source": [
        "def predict(w,x):\n",
        "  return np.sign(np.dot(w,x))\n",
        "\n",
        "def compute_accuracy(data,labels,model_w):\n",
        "  count = 0\n",
        "  for i in range(data.shape[0]):\n",
        "    z = predict(model_w,data[i])\n",
        "    y = labels[i]\n",
        "    if z==y:\n",
        "      count = count+1\n",
        "\n",
        "  return 100*(count/data.shape[0])"
      ],
      "metadata": {
        "id": "1DEYc0lRkOB7"
      },
      "execution_count": 3,
      "outputs": []
    },
    {
      "cell_type": "markdown",
      "source": [
        "$$ \\large{f_i(w) = \\frac{\\lambda}{2n} \\sum_{j=1}^{d}w_j^2 + \\frac{1}{n} L(y_i,w^Tx_i)} $$ \\\\\n",
        "\n",
        "And we will solve the following costrained optimization problem $$min \\ \\sum_if_i(w) \\\\\n",
        "s.t. \\ w \\in C$$"
      ],
      "metadata": {
        "id": "7nqJtAKGk9UW"
      }
    }
  ]
}