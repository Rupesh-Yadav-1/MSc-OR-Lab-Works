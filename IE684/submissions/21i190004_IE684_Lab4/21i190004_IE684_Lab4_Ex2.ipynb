{
  "cells": [
    {
      "cell_type": "markdown",
      "source": [
        "$\\large\\textbf{Consider the function :}$ \\\\\n",
        "\\begin{align}\n",
        "\\mathbf{q(x)} = \\sqrt{x_1^2 + 4} + \\sqrt{x_2^2 + 4} \n",
        "  \\\\\n",
        "\\end{align}"
      ],
      "metadata": {
        "id": "hyZy5yKjOoS6"
      }
    },
    {
      "cell_type": "code",
      "execution_count": 1,
      "metadata": {
        "id": "gznWv4EYobKe"
      },
      "outputs": [],
      "source": [
        "import numpy as np"
      ]
    },
    {
      "cell_type": "code",
      "execution_count": 2,
      "metadata": {
        "id": "ZoTNwIHcpJkp"
      },
      "outputs": [],
      "source": [
        "#Now we will define a Python function which will compute and return the objective function value \n",
        "def evalf(x): \n",
        "  #Input: x is a numpy array of size 2\n",
        "  assert type(x) is np.ndarray and len(x) == 2 #do not allow arbitrary arguments \n",
        "\n",
        "  return (np.sqrt((x[0]**2)+4)+np.sqrt((x[1]**2)+4))"
      ]
    },
    {
      "cell_type": "code",
      "execution_count": 3,
      "metadata": {
        "id": "O1iTOs4BpZwv"
      },
      "outputs": [],
      "source": [
        "#Now we will define a Python function which will compute and return the gradient value as a numpy array \n",
        "def evalg(x):  \n",
        "  #Input: x is a numpy array of size 2 \n",
        "  assert type(x) is np.ndarray and len(x) == 2 #do not allow arbitrary arguments \n",
        "\n",
        "  return np.array([x[0]/np.sqrt(x[0]**2+4), x[1]/np.sqrt(x[1]**2+4)])"
      ]
    },
    {
      "cell_type": "code",
      "execution_count": 4,
      "metadata": {
        "id": "G1l7gsROpxxI"
      },
      "outputs": [],
      "source": [
        "#method to find Hessian matrix:\n",
        "def evalh(x): \n",
        "  assert type(x) is np.ndarray \n",
        "  assert len(x) == 2\n",
        "\n",
        "  return np.array([[4/(x[0]**2+4)**(3/2), 0],[0, 4/(x[1]**2+4)**(3/2)]])"
      ]
    },
    {
      "cell_type": "code",
      "execution_count": 5,
      "metadata": {
        "id": "ziuAEesIr7li"
      },
      "outputs": [],
      "source": [
        "#method to find inverse of Hessian matrix:\n",
        "def evalh_inv(x):\n",
        "  assert type(x) is np.ndarray \n",
        "  assert len(x) == 2\n",
        "\n",
        "  return np.linalg.inv(evalh(x))"
      ]
    },
    {
      "cell_type": "code",
      "execution_count": 6,
      "metadata": {
        "id": "GR8xwmye2MHI"
      },
      "outputs": [],
      "source": [
        "#Complete the module to compute the steplength by backtracking without scaling\n",
        "def compute_steplength_backtracking(x, gradf, alpha_start, rho, gamma):\n",
        "  assert type(x) is np.ndarray and len(gradf) == 2 \n",
        "  assert type(gradf) is np.ndarray and len(gradf) == 2 \n",
        "  assert type(alpha_start) is float and alpha_start>=0. \n",
        "  assert type(rho) is float and rho>=0.\n",
        "  assert type(gamma) is float and gamma>=0. \n",
        "  \n",
        "  alpha = alpha_start\n",
        "  pk=-gradf\n",
        "  while evalf(x+alpha*pk)>evalf(x)+gamma*alpha*np.linalg.multi_dot([gradf,pk]):\n",
        "    alpha=rho*alpha\n",
        "  \n",
        "  return alpha"
      ]
    },
    {
      "cell_type": "code",
      "execution_count": 7,
      "metadata": {
        "id": "Gyu10EVes4M5"
      },
      "outputs": [],
      "source": [
        "def compute_steplength_backtracking_scaled_direction(x, gradf, direction, alpha_start, rho, gamma):\n",
        "  assert type(x) is np.ndarray and len(gradf) == 2 \n",
        "  assert type(gradf) is np.ndarray and len(gradf) == 2 \n",
        "  assert type(direction) is np.ndarray and len(direction) == 2 \n",
        "  assert type(alpha_start) is float and alpha_start>=0. \n",
        "  assert type(rho) is float and rho>=0.\n",
        "  assert type(gamma) is float and gamma>=0. \n",
        "  \n",
        "  alpha = alpha_start\n",
        "  while evalf(x+alpha*direction)>evalf(x)+gamma*alpha*np.linalg.multi_dot([gradf,direction]):\n",
        "    alpha=rho*alpha\n",
        "\n",
        "  return alpha"
      ]
    },
    {
      "cell_type": "code",
      "execution_count": 8,
      "metadata": {
        "id": "TJ8qsFCDw5Uf"
      },
      "outputs": [],
      "source": [
        "#line search type\n",
        "NEWTONS_CONSTANT_STEP_LENGTH = 1\n",
        "NEWTONS_BACKTRACKING_LINE_SEARCH = 2\n",
        "WITHOUT_SCALING_BACKTRACKING_LINE_SEARCH = 3"
      ]
    },
    {
      "cell_type": "code",
      "execution_count": 9,
      "metadata": {
        "id": "Jtth9FTNAkVR"
      },
      "outputs": [],
      "source": [
        "#code for Newtons method with scaling to find the minimizer\n",
        "\n",
        "def find_minimizer_newtons(x, tol, line_search_type, *args):\n",
        "  #Input: start_x is a numpy array of size 2, tol denotes the tolerance and is a positive float value\n",
        "  assert type(x) is np.ndarray and len(x) == 2 #do not allow arbitrary arguments \n",
        "  assert type(tol) is float and tol>=0 \n",
        "\n",
        "  g_x = evalg(x)\n",
        "  \n",
        "  #initialization for backtracking line search\n",
        "  if(line_search_type == NEWTONS_BACKTRACKING_LINE_SEARCH):\n",
        "    alpha_start = args[0]\n",
        "    rho = args[1]\n",
        "    gamma = args[2]\n",
        "\n",
        "\n",
        "  if line_search_type == NEWTONS_CONSTANT_STEP_LENGTH:\n",
        "    k=0\n",
        "    while (np.linalg.norm(g_x) > tol):\n",
        "      D_k = evalh_inv(x)\n",
        "      direction = -np.matmul(D_k, g_x)\n",
        "      step_length = 1.0\n",
        "      #implement the gradient descent steps here   \n",
        "      x = np.add(x, np.multiply(step_length,direction)) #update x = x + step_length*direction\n",
        "      k += 1 #increment iteration\n",
        "      g_x = evalg(x) #compute gradient at new point\n",
        "\n",
        "  elif line_search_type == NEWTONS_BACKTRACKING_LINE_SEARCH:\n",
        "    k=0\n",
        "    while (np.linalg.norm(g_x) > tol):\n",
        "      D_k = evalh_inv(x)\n",
        "      direction = -np.matmul(D_k, g_x)\n",
        "      step_length = compute_steplength_backtracking_scaled_direction(x, g_x, direction, alpha_start, rho, gamma)\n",
        "      #implement the gradient descent steps here   \n",
        "      x = np.add(x, np.multiply(step_length,direction)) #update x = x + step_length*direction\n",
        "      k += 1 #increment iteration\n",
        "      g_x = evalg(x) #compute gradient at new point\n",
        "\n",
        "  else:\n",
        "      raise ValueError('Line search type unknown. Please check!')\n",
        "\n",
        "  return x, evalf(x), k"
      ]
    },
    {
      "cell_type": "markdown",
      "source": [
        "**Q 2**"
      ],
      "metadata": {
        "id": "TUtv4aqX3v4O"
      }
    },
    {
      "cell_type": "code",
      "execution_count": 10,
      "metadata": {
        "id": "1p1Kr1qb78-S"
      },
      "outputs": [],
      "source": [
        "my_start_x = np.array([2.0,2.0])\n",
        "my_tol= 1e-9\n",
        "\n",
        "alpha_start = 1.0\n",
        "rho = 0.5\n",
        "gamma = 0.5"
      ]
    },
    {
      "cell_type": "code",
      "execution_count": 11,
      "metadata": {
        "colab": {
          "base_uri": "https://localhost:8080/",
          "height": 414
        },
        "id": "CphhdiMP8E-b",
        "outputId": "41002bce-bb0b-4076-fd44-68bd422d15b6"
      },
      "outputs": [
        {
          "output_type": "error",
          "ename": "KeyboardInterrupt",
          "evalue": "ignored",
          "traceback": [
            "\u001b[0;31m---------------------------------------------------------------------------\u001b[0m",
            "\u001b[0;31mKeyboardInterrupt\u001b[0m                         Traceback (most recent call last)",
            "\u001b[0;32m<ipython-input-11-c82e97239c49>\u001b[0m in \u001b[0;36m<module>\u001b[0;34m()\u001b[0m\n\u001b[0;32m----> 1\u001b[0;31m \u001b[0mmin_x1\u001b[0m\u001b[0;34m,\u001b[0m\u001b[0mmin_obj1\u001b[0m\u001b[0;34m,\u001b[0m\u001b[0miters1\u001b[0m\u001b[0;34m=\u001b[0m\u001b[0mfind_minimizer_newtons\u001b[0m\u001b[0;34m(\u001b[0m\u001b[0mmy_start_x\u001b[0m\u001b[0;34m,\u001b[0m \u001b[0mmy_tol\u001b[0m\u001b[0;34m,\u001b[0m \u001b[0mNEWTONS_CONSTANT_STEP_LENGTH\u001b[0m\u001b[0;34m)\u001b[0m\u001b[0;34m\u001b[0m\u001b[0;34m\u001b[0m\u001b[0m\n\u001b[0m\u001b[1;32m      2\u001b[0m \u001b[0mprint\u001b[0m\u001b[0;34m(\u001b[0m\u001b[0;34m'For Newtons method with constant steplength(=1) :'\u001b[0m\u001b[0;34m)\u001b[0m\u001b[0;34m\u001b[0m\u001b[0;34m\u001b[0m\u001b[0m\n\u001b[1;32m      3\u001b[0m \u001b[0mprint\u001b[0m\u001b[0;34m(\u001b[0m\u001b[0;34m)\u001b[0m\u001b[0;34m\u001b[0m\u001b[0;34m\u001b[0m\u001b[0m\n\u001b[1;32m      4\u001b[0m \u001b[0mprint\u001b[0m\u001b[0;34m(\u001b[0m\u001b[0;34m'Minimizer value: '\u001b[0m\u001b[0;34m,\u001b[0m\u001b[0mmin_x1\u001b[0m\u001b[0;34m)\u001b[0m\u001b[0;34m\u001b[0m\u001b[0;34m\u001b[0m\u001b[0m\n\u001b[1;32m      5\u001b[0m \u001b[0mprint\u001b[0m\u001b[0;34m(\u001b[0m\u001b[0;34m'Minimum obj fn value: '\u001b[0m\u001b[0;34m,\u001b[0m\u001b[0mmin_obj1\u001b[0m\u001b[0;34m)\u001b[0m\u001b[0;34m\u001b[0m\u001b[0;34m\u001b[0m\u001b[0m\n",
            "\u001b[0;32m<ipython-input-9-ce234646d8f1>\u001b[0m in \u001b[0;36mfind_minimizer_newtons\u001b[0;34m(x, tol, line_search_type, *args)\u001b[0m\n\u001b[1;32m     18\u001b[0m     \u001b[0mk\u001b[0m\u001b[0;34m=\u001b[0m\u001b[0;36m0\u001b[0m\u001b[0;34m\u001b[0m\u001b[0;34m\u001b[0m\u001b[0m\n\u001b[1;32m     19\u001b[0m     \u001b[0;32mwhile\u001b[0m \u001b[0;34m(\u001b[0m\u001b[0mnp\u001b[0m\u001b[0;34m.\u001b[0m\u001b[0mlinalg\u001b[0m\u001b[0;34m.\u001b[0m\u001b[0mnorm\u001b[0m\u001b[0;34m(\u001b[0m\u001b[0mg_x\u001b[0m\u001b[0;34m)\u001b[0m \u001b[0;34m>\u001b[0m \u001b[0mtol\u001b[0m\u001b[0;34m)\u001b[0m\u001b[0;34m:\u001b[0m\u001b[0;34m\u001b[0m\u001b[0;34m\u001b[0m\u001b[0m\n\u001b[0;32m---> 20\u001b[0;31m       \u001b[0mD_k\u001b[0m \u001b[0;34m=\u001b[0m \u001b[0mevalh_inv\u001b[0m\u001b[0;34m(\u001b[0m\u001b[0mx\u001b[0m\u001b[0;34m)\u001b[0m\u001b[0;34m\u001b[0m\u001b[0;34m\u001b[0m\u001b[0m\n\u001b[0m\u001b[1;32m     21\u001b[0m       \u001b[0mdirection\u001b[0m \u001b[0;34m=\u001b[0m \u001b[0;34m-\u001b[0m\u001b[0mnp\u001b[0m\u001b[0;34m.\u001b[0m\u001b[0mmatmul\u001b[0m\u001b[0;34m(\u001b[0m\u001b[0mD_k\u001b[0m\u001b[0;34m,\u001b[0m \u001b[0mg_x\u001b[0m\u001b[0;34m)\u001b[0m\u001b[0;34m\u001b[0m\u001b[0;34m\u001b[0m\u001b[0m\n\u001b[1;32m     22\u001b[0m       \u001b[0mstep_length\u001b[0m \u001b[0;34m=\u001b[0m \u001b[0;36m1.0\u001b[0m\u001b[0;34m\u001b[0m\u001b[0;34m\u001b[0m\u001b[0m\n",
            "\u001b[0;32m<ipython-input-5-f8d4787ead95>\u001b[0m in \u001b[0;36mevalh_inv\u001b[0;34m(x)\u001b[0m\n\u001b[1;32m      4\u001b[0m   \u001b[0;32massert\u001b[0m \u001b[0mlen\u001b[0m\u001b[0;34m(\u001b[0m\u001b[0mx\u001b[0m\u001b[0;34m)\u001b[0m \u001b[0;34m==\u001b[0m \u001b[0;36m2\u001b[0m\u001b[0;34m\u001b[0m\u001b[0;34m\u001b[0m\u001b[0m\n\u001b[1;32m      5\u001b[0m \u001b[0;34m\u001b[0m\u001b[0m\n\u001b[0;32m----> 6\u001b[0;31m   \u001b[0;32mreturn\u001b[0m \u001b[0mnp\u001b[0m\u001b[0;34m.\u001b[0m\u001b[0mlinalg\u001b[0m\u001b[0;34m.\u001b[0m\u001b[0minv\u001b[0m\u001b[0;34m(\u001b[0m\u001b[0mevalh\u001b[0m\u001b[0;34m(\u001b[0m\u001b[0mx\u001b[0m\u001b[0;34m)\u001b[0m\u001b[0;34m)\u001b[0m\u001b[0;34m\u001b[0m\u001b[0;34m\u001b[0m\u001b[0m\n\u001b[0m",
            "\u001b[0;32m<__array_function__ internals>\u001b[0m in \u001b[0;36minv\u001b[0;34m(*args, **kwargs)\u001b[0m\n",
            "\u001b[0;32m/usr/local/lib/python3.7/dist-packages/numpy/linalg/linalg.py\u001b[0m in \u001b[0;36minv\u001b[0;34m(a)\u001b[0m\n\u001b[1;32m    544\u001b[0m     \u001b[0msignature\u001b[0m \u001b[0;34m=\u001b[0m \u001b[0;34m'D->D'\u001b[0m \u001b[0;32mif\u001b[0m \u001b[0misComplexType\u001b[0m\u001b[0;34m(\u001b[0m\u001b[0mt\u001b[0m\u001b[0;34m)\u001b[0m \u001b[0;32melse\u001b[0m \u001b[0;34m'd->d'\u001b[0m\u001b[0;34m\u001b[0m\u001b[0;34m\u001b[0m\u001b[0m\n\u001b[1;32m    545\u001b[0m     \u001b[0mextobj\u001b[0m \u001b[0;34m=\u001b[0m \u001b[0mget_linalg_error_extobj\u001b[0m\u001b[0;34m(\u001b[0m\u001b[0m_raise_linalgerror_singular\u001b[0m\u001b[0;34m)\u001b[0m\u001b[0;34m\u001b[0m\u001b[0;34m\u001b[0m\u001b[0m\n\u001b[0;32m--> 546\u001b[0;31m     \u001b[0mainv\u001b[0m \u001b[0;34m=\u001b[0m \u001b[0m_umath_linalg\u001b[0m\u001b[0;34m.\u001b[0m\u001b[0minv\u001b[0m\u001b[0;34m(\u001b[0m\u001b[0ma\u001b[0m\u001b[0;34m,\u001b[0m \u001b[0msignature\u001b[0m\u001b[0;34m=\u001b[0m\u001b[0msignature\u001b[0m\u001b[0;34m,\u001b[0m \u001b[0mextobj\u001b[0m\u001b[0;34m=\u001b[0m\u001b[0mextobj\u001b[0m\u001b[0;34m)\u001b[0m\u001b[0;34m\u001b[0m\u001b[0;34m\u001b[0m\u001b[0m\n\u001b[0m\u001b[1;32m    547\u001b[0m     \u001b[0;32mreturn\u001b[0m \u001b[0mwrap\u001b[0m\u001b[0;34m(\u001b[0m\u001b[0mainv\u001b[0m\u001b[0;34m.\u001b[0m\u001b[0mastype\u001b[0m\u001b[0;34m(\u001b[0m\u001b[0mresult_t\u001b[0m\u001b[0;34m,\u001b[0m \u001b[0mcopy\u001b[0m\u001b[0;34m=\u001b[0m\u001b[0;32mFalse\u001b[0m\u001b[0;34m)\u001b[0m\u001b[0;34m)\u001b[0m\u001b[0;34m\u001b[0m\u001b[0;34m\u001b[0m\u001b[0m\n\u001b[1;32m    548\u001b[0m \u001b[0;34m\u001b[0m\u001b[0m\n",
            "\u001b[0;31mKeyboardInterrupt\u001b[0m: "
          ]
        }
      ],
      "source": [
        "min_x1,min_obj1,iters1=find_minimizer_newtons(my_start_x, my_tol, NEWTONS_CONSTANT_STEP_LENGTH)\n",
        "print('For Newtons method with constant steplength(=1) :')\n",
        "print()\n",
        "print('Minimizer value: ',min_x1)\n",
        "print('Minimum obj fn value: ',min_obj1)\n",
        "print('Total number of iterations: ',iters1)"
      ]
    },
    {
      "cell_type": "code",
      "execution_count": 12,
      "metadata": {
        "colab": {
          "base_uri": "https://localhost:8080/"
        },
        "id": "C_lnus-7AFEi",
        "outputId": "84e16f91-5cb2-45e8-d3a9-042969de9aa6"
      },
      "outputs": [
        {
          "output_type": "stream",
          "name": "stdout",
          "text": [
            "For Newtons method with backtracking line search :\n",
            "\n",
            "Minimizer value:  [0. 0.]\n",
            "Minimum obj fn value:  4.0\n",
            "Total number of iterations:  1\n"
          ]
        }
      ],
      "source": [
        "min_x2,min_obj2,iters2=find_minimizer_newtons(my_start_x, my_tol, NEWTONS_BACKTRACKING_LINE_SEARCH, alpha_start,rho,gamma)\n",
        "print('For Newtons method with backtracking line search :')\n",
        "print()\n",
        "print('Minimizer value: ',min_x2)\n",
        "print('Minimum obj fn value: ',min_obj2)\n",
        "print('Total number of iterations: ',iters2)"
      ]
    },
    {
      "cell_type": "markdown",
      "source": [
        "In **Newtons method with constant steplength(=1)** the program is not terminating because after first iteration we are getting $ \\  x^1=(2,2)$ and after two iterations $x^2=(-2,-2)$ and again after three iteration $x^3=(2,2)$ and this trend is repeating. Hence, we are unable to converge to optimal value using steplength=1.\n",
        "\n",
        "While with **Newtons method with backtracking line search** we are getting optimal soution in a single iteration."
      ],
      "metadata": {
        "id": "pvmgb1DDVssz"
      }
    },
    {
      "cell_type": "markdown",
      "metadata": {
        "id": "gHbOSfv52AFY"
      },
      "source": [
        "**Q 3**"
      ]
    },
    {
      "cell_type": "code",
      "execution_count": 13,
      "metadata": {
        "id": "1ep6rrKH3zfc"
      },
      "outputs": [],
      "source": [
        "def find_minimizer_gd_wo_scaling(start_x, tol, line_search_type, *args): \n",
        "    assert type(start_x) is np.ndarray and len(start_x) == 2 \n",
        "    assert type(tol) is float and tol>=0 \n",
        "    x = start_x\n",
        "    g_x = evalg(x)\n",
        "    if(line_search_type == WITHOUT_SCALING_BACKTRACKING_LINE_SEARCH):\n",
        "        alpha_start = args[0]\n",
        "        rho = args[1]\n",
        "        gamma = args[2]\n",
        "    k = 0\n",
        "    while (np.linalg.norm(g_x) > tol): \n",
        "        if line_search_type == WITHOUT_SCALING_BACKTRACKING_LINE_SEARCH:\n",
        "            step_length = compute_steplength_backtracking(x,g_x, alpha_start,rho, gamma) \n",
        "        else:  \n",
        "            raise ValueError('Line search type unknown. Please check!')   \n",
        "        x = np.subtract(x, np.multiply(step_length,g_x))\n",
        "        k += 1 \n",
        "        g_x = evalg(x) \n",
        "    return x,evalf(x),k"
      ]
    },
    {
      "cell_type": "code",
      "execution_count": 14,
      "metadata": {
        "colab": {
          "base_uri": "https://localhost:8080/"
        },
        "id": "zVv-iOuN73C5",
        "outputId": "f573f340-b38a-459f-9271-752d8afbb556"
      },
      "outputs": [
        {
          "output_type": "stream",
          "name": "stdout",
          "text": [
            "For Gradient Descent Algorithm with Backtracking line search without scaling :\n",
            "\n",
            "Minimizer value:  [7.62525638e-10 7.62525638e-10]\n",
            "Minimum obj fn value:  4.0\n",
            "Total number of iterations:  32\n"
          ]
        }
      ],
      "source": [
        "min_x3,min_obj3,iters3=find_minimizer_gd_wo_scaling(my_start_x, my_tol,WITHOUT_SCALING_BACKTRACKING_LINE_SEARCH, alpha_start,rho,gamma)\n",
        "print('For Gradient Descent Algorithm with Backtracking line search without scaling :')\n",
        "print()\n",
        "print('Minimizer value: ',min_x3)\n",
        "print('Minimum obj fn value: ',min_obj3)\n",
        "print('Total number of iterations: ',iters3)"
      ]
    },
    {
      "cell_type": "markdown",
      "source": [
        "Newtons method using backtracking line search is more efficient because we are getting optimal solution in a single iteration only while in Gradient descent without scaling we needed 32 iterations."
      ],
      "metadata": {
        "id": "cWOuLQfHXhBc"
      }
    },
    {
      "cell_type": "markdown",
      "metadata": {
        "id": "TqwG9hDrC5Kw"
      },
      "source": [
        "**Q 4**"
      ]
    },
    {
      "cell_type": "code",
      "source": [
        "my_start_x1 = np.array([8.,8.])\n",
        "my_tol= 1e-9\n",
        "\n",
        "alpha_start = 1.0\n",
        "rho = 0.5\n",
        "gamma = 0.5"
      ],
      "metadata": {
        "id": "qOhKBG9j39V-"
      },
      "execution_count": 15,
      "outputs": []
    },
    {
      "cell_type": "code",
      "source": [
        "min_x4,min_obj4,iters4=find_minimizer_newtons(my_start_x1, my_tol, NEWTONS_CONSTANT_STEP_LENGTH)\n",
        "print('For Newtons method with constant steplength(=1) :')\n",
        "print()\n",
        "print('Minimizer value: ',min_x4)\n",
        "print('Minimum obj fn value: ',min_obj4)\n",
        "print('Total number of iterations: ',iters4)"
      ],
      "metadata": {
        "colab": {
          "base_uri": "https://localhost:8080/",
          "height": 779
        },
        "id": "kKz5Zhih4IWt",
        "outputId": "6b74912d-408f-45c7-bada-2845c5593711"
      },
      "execution_count": 16,
      "outputs": [
        {
          "output_type": "stream",
          "name": "stderr",
          "text": [
            "/usr/local/lib/python3.7/dist-packages/ipykernel_launcher.py:6: RuntimeWarning: overflow encountered in double_scalars\n",
            "  \n"
          ]
        },
        {
          "output_type": "error",
          "ename": "LinAlgError",
          "evalue": "ignored",
          "traceback": [
            "\u001b[0;31m---------------------------------------------------------------------------\u001b[0m",
            "\u001b[0;31mLinAlgError\u001b[0m                               Traceback (most recent call last)",
            "\u001b[0;32m<ipython-input-16-fd16629427fe>\u001b[0m in \u001b[0;36m<module>\u001b[0;34m()\u001b[0m\n\u001b[0;32m----> 1\u001b[0;31m \u001b[0mmin_x4\u001b[0m\u001b[0;34m,\u001b[0m\u001b[0mmin_obj4\u001b[0m\u001b[0;34m,\u001b[0m\u001b[0miters4\u001b[0m\u001b[0;34m=\u001b[0m\u001b[0mfind_minimizer_newtons\u001b[0m\u001b[0;34m(\u001b[0m\u001b[0mmy_start_x1\u001b[0m\u001b[0;34m,\u001b[0m \u001b[0mmy_tol\u001b[0m\u001b[0;34m,\u001b[0m \u001b[0mNEWTONS_CONSTANT_STEP_LENGTH\u001b[0m\u001b[0;34m)\u001b[0m\u001b[0;34m\u001b[0m\u001b[0;34m\u001b[0m\u001b[0m\n\u001b[0m\u001b[1;32m      2\u001b[0m \u001b[0mprint\u001b[0m\u001b[0;34m(\u001b[0m\u001b[0;34m'For Newtons method with constant steplength(=1) :'\u001b[0m\u001b[0;34m)\u001b[0m\u001b[0;34m\u001b[0m\u001b[0;34m\u001b[0m\u001b[0m\n\u001b[1;32m      3\u001b[0m \u001b[0mprint\u001b[0m\u001b[0;34m(\u001b[0m\u001b[0;34m)\u001b[0m\u001b[0;34m\u001b[0m\u001b[0;34m\u001b[0m\u001b[0m\n\u001b[1;32m      4\u001b[0m \u001b[0mprint\u001b[0m\u001b[0;34m(\u001b[0m\u001b[0;34m'Minimizer value: '\u001b[0m\u001b[0;34m,\u001b[0m\u001b[0mmin_x4\u001b[0m\u001b[0;34m)\u001b[0m\u001b[0;34m\u001b[0m\u001b[0;34m\u001b[0m\u001b[0m\n\u001b[1;32m      5\u001b[0m \u001b[0mprint\u001b[0m\u001b[0;34m(\u001b[0m\u001b[0;34m'Minimum obj fn value: '\u001b[0m\u001b[0;34m,\u001b[0m\u001b[0mmin_obj4\u001b[0m\u001b[0;34m)\u001b[0m\u001b[0;34m\u001b[0m\u001b[0;34m\u001b[0m\u001b[0m\n",
            "\u001b[0;32m<ipython-input-9-ce234646d8f1>\u001b[0m in \u001b[0;36mfind_minimizer_newtons\u001b[0;34m(x, tol, line_search_type, *args)\u001b[0m\n\u001b[1;32m     18\u001b[0m     \u001b[0mk\u001b[0m\u001b[0;34m=\u001b[0m\u001b[0;36m0\u001b[0m\u001b[0;34m\u001b[0m\u001b[0;34m\u001b[0m\u001b[0m\n\u001b[1;32m     19\u001b[0m     \u001b[0;32mwhile\u001b[0m \u001b[0;34m(\u001b[0m\u001b[0mnp\u001b[0m\u001b[0;34m.\u001b[0m\u001b[0mlinalg\u001b[0m\u001b[0;34m.\u001b[0m\u001b[0mnorm\u001b[0m\u001b[0;34m(\u001b[0m\u001b[0mg_x\u001b[0m\u001b[0;34m)\u001b[0m \u001b[0;34m>\u001b[0m \u001b[0mtol\u001b[0m\u001b[0;34m)\u001b[0m\u001b[0;34m:\u001b[0m\u001b[0;34m\u001b[0m\u001b[0;34m\u001b[0m\u001b[0m\n\u001b[0;32m---> 20\u001b[0;31m       \u001b[0mD_k\u001b[0m \u001b[0;34m=\u001b[0m \u001b[0mevalh_inv\u001b[0m\u001b[0;34m(\u001b[0m\u001b[0mx\u001b[0m\u001b[0;34m)\u001b[0m\u001b[0;34m\u001b[0m\u001b[0;34m\u001b[0m\u001b[0m\n\u001b[0m\u001b[1;32m     21\u001b[0m       \u001b[0mdirection\u001b[0m \u001b[0;34m=\u001b[0m \u001b[0;34m-\u001b[0m\u001b[0mnp\u001b[0m\u001b[0;34m.\u001b[0m\u001b[0mmatmul\u001b[0m\u001b[0;34m(\u001b[0m\u001b[0mD_k\u001b[0m\u001b[0;34m,\u001b[0m \u001b[0mg_x\u001b[0m\u001b[0;34m)\u001b[0m\u001b[0;34m\u001b[0m\u001b[0;34m\u001b[0m\u001b[0m\n\u001b[1;32m     22\u001b[0m       \u001b[0mstep_length\u001b[0m \u001b[0;34m=\u001b[0m \u001b[0;36m1.0\u001b[0m\u001b[0;34m\u001b[0m\u001b[0;34m\u001b[0m\u001b[0m\n",
            "\u001b[0;32m<ipython-input-5-f8d4787ead95>\u001b[0m in \u001b[0;36mevalh_inv\u001b[0;34m(x)\u001b[0m\n\u001b[1;32m      4\u001b[0m   \u001b[0;32massert\u001b[0m \u001b[0mlen\u001b[0m\u001b[0;34m(\u001b[0m\u001b[0mx\u001b[0m\u001b[0;34m)\u001b[0m \u001b[0;34m==\u001b[0m \u001b[0;36m2\u001b[0m\u001b[0;34m\u001b[0m\u001b[0;34m\u001b[0m\u001b[0m\n\u001b[1;32m      5\u001b[0m \u001b[0;34m\u001b[0m\u001b[0m\n\u001b[0;32m----> 6\u001b[0;31m   \u001b[0;32mreturn\u001b[0m \u001b[0mnp\u001b[0m\u001b[0;34m.\u001b[0m\u001b[0mlinalg\u001b[0m\u001b[0;34m.\u001b[0m\u001b[0minv\u001b[0m\u001b[0;34m(\u001b[0m\u001b[0mevalh\u001b[0m\u001b[0;34m(\u001b[0m\u001b[0mx\u001b[0m\u001b[0;34m)\u001b[0m\u001b[0;34m)\u001b[0m\u001b[0;34m\u001b[0m\u001b[0;34m\u001b[0m\u001b[0m\n\u001b[0m",
            "\u001b[0;32m<__array_function__ internals>\u001b[0m in \u001b[0;36minv\u001b[0;34m(*args, **kwargs)\u001b[0m\n",
            "\u001b[0;32m/usr/local/lib/python3.7/dist-packages/numpy/linalg/linalg.py\u001b[0m in \u001b[0;36minv\u001b[0;34m(a)\u001b[0m\n\u001b[1;32m    544\u001b[0m     \u001b[0msignature\u001b[0m \u001b[0;34m=\u001b[0m \u001b[0;34m'D->D'\u001b[0m \u001b[0;32mif\u001b[0m \u001b[0misComplexType\u001b[0m\u001b[0;34m(\u001b[0m\u001b[0mt\u001b[0m\u001b[0;34m)\u001b[0m \u001b[0;32melse\u001b[0m \u001b[0;34m'd->d'\u001b[0m\u001b[0;34m\u001b[0m\u001b[0;34m\u001b[0m\u001b[0m\n\u001b[1;32m    545\u001b[0m     \u001b[0mextobj\u001b[0m \u001b[0;34m=\u001b[0m \u001b[0mget_linalg_error_extobj\u001b[0m\u001b[0;34m(\u001b[0m\u001b[0m_raise_linalgerror_singular\u001b[0m\u001b[0;34m)\u001b[0m\u001b[0;34m\u001b[0m\u001b[0;34m\u001b[0m\u001b[0m\n\u001b[0;32m--> 546\u001b[0;31m     \u001b[0mainv\u001b[0m \u001b[0;34m=\u001b[0m \u001b[0m_umath_linalg\u001b[0m\u001b[0;34m.\u001b[0m\u001b[0minv\u001b[0m\u001b[0;34m(\u001b[0m\u001b[0ma\u001b[0m\u001b[0;34m,\u001b[0m \u001b[0msignature\u001b[0m\u001b[0;34m=\u001b[0m\u001b[0msignature\u001b[0m\u001b[0;34m,\u001b[0m \u001b[0mextobj\u001b[0m\u001b[0;34m=\u001b[0m\u001b[0mextobj\u001b[0m\u001b[0;34m)\u001b[0m\u001b[0;34m\u001b[0m\u001b[0;34m\u001b[0m\u001b[0m\n\u001b[0m\u001b[1;32m    547\u001b[0m     \u001b[0;32mreturn\u001b[0m \u001b[0mwrap\u001b[0m\u001b[0;34m(\u001b[0m\u001b[0mainv\u001b[0m\u001b[0;34m.\u001b[0m\u001b[0mastype\u001b[0m\u001b[0;34m(\u001b[0m\u001b[0mresult_t\u001b[0m\u001b[0;34m,\u001b[0m \u001b[0mcopy\u001b[0m\u001b[0;34m=\u001b[0m\u001b[0;32mFalse\u001b[0m\u001b[0;34m)\u001b[0m\u001b[0;34m)\u001b[0m\u001b[0;34m\u001b[0m\u001b[0;34m\u001b[0m\u001b[0m\n\u001b[1;32m    548\u001b[0m \u001b[0;34m\u001b[0m\u001b[0m\n",
            "\u001b[0;32m/usr/local/lib/python3.7/dist-packages/numpy/linalg/linalg.py\u001b[0m in \u001b[0;36m_raise_linalgerror_singular\u001b[0;34m(err, flag)\u001b[0m\n\u001b[1;32m     86\u001b[0m \u001b[0;34m\u001b[0m\u001b[0m\n\u001b[1;32m     87\u001b[0m \u001b[0;32mdef\u001b[0m \u001b[0m_raise_linalgerror_singular\u001b[0m\u001b[0;34m(\u001b[0m\u001b[0merr\u001b[0m\u001b[0;34m,\u001b[0m \u001b[0mflag\u001b[0m\u001b[0;34m)\u001b[0m\u001b[0;34m:\u001b[0m\u001b[0;34m\u001b[0m\u001b[0;34m\u001b[0m\u001b[0m\n\u001b[0;32m---> 88\u001b[0;31m     \u001b[0;32mraise\u001b[0m \u001b[0mLinAlgError\u001b[0m\u001b[0;34m(\u001b[0m\u001b[0;34m\"Singular matrix\"\u001b[0m\u001b[0;34m)\u001b[0m\u001b[0;34m\u001b[0m\u001b[0;34m\u001b[0m\u001b[0m\n\u001b[0m\u001b[1;32m     89\u001b[0m \u001b[0;34m\u001b[0m\u001b[0m\n\u001b[1;32m     90\u001b[0m \u001b[0;32mdef\u001b[0m \u001b[0m_raise_linalgerror_nonposdef\u001b[0m\u001b[0;34m(\u001b[0m\u001b[0merr\u001b[0m\u001b[0;34m,\u001b[0m \u001b[0mflag\u001b[0m\u001b[0;34m)\u001b[0m\u001b[0;34m:\u001b[0m\u001b[0;34m\u001b[0m\u001b[0;34m\u001b[0m\u001b[0m\n",
            "\u001b[0;31mLinAlgError\u001b[0m: Singular matrix"
          ]
        }
      ]
    },
    {
      "cell_type": "code",
      "source": [
        "min_x5,min_obj5,iters5=find_minimizer_newtons(my_start_x1, my_tol, NEWTONS_BACKTRACKING_LINE_SEARCH, alpha_start,rho,gamma)\n",
        "print('For Newtons method with backtracking line search :')\n",
        "print()\n",
        "print('Minimizer value: ',min_x5)\n",
        "print('Minimum obj fn value: ',min_obj5)\n",
        "print('Total number of iterations: ',iters5)"
      ],
      "metadata": {
        "colab": {
          "base_uri": "https://localhost:8080/"
        },
        "id": "BhiLx7fd4I6e",
        "outputId": "35f92d1e-1647-4fb9-8a5d-661eda871c19"
      },
      "execution_count": 17,
      "outputs": [
        {
          "output_type": "stream",
          "name": "stdout",
          "text": [
            "For Newtons method with backtracking line search :\n",
            "\n",
            "Minimizer value:  [2.83764947e-12 2.83764947e-12]\n",
            "Minimum obj fn value:  4.0\n",
            "Total number of iterations:  13\n"
          ]
        }
      ]
    },
    {
      "cell_type": "markdown",
      "source": [
        "In Newtons method with constant step length we are getting \"Singular matrix\" error because at a step the Hessian metrix has determinant=0. Hence, its inverse is not possible. So, the update step is not possible to be executed.\n",
        "\n",
        "While in Newtons method with backtracking line search we are getting optimal solution in 13 iterations.\n",
        "We can also say that it is not a better idea to take the step length manually instead use backtracking line search to get step length at each iteration."
      ],
      "metadata": {
        "id": "45FQrF1GYDpi"
      }
    },
    {
      "cell_type": "markdown",
      "source": [
        "**Q 5**"
      ],
      "metadata": {
        "id": "ykskwKeXCMvP"
      }
    },
    {
      "cell_type": "code",
      "source": [
        "min_x6,min_obj6,iters6=find_minimizer_gd_wo_scaling(my_start_x1, my_tol,WITHOUT_SCALING_BACKTRACKING_LINE_SEARCH, alpha_start,rho,gamma)\n",
        "print('For Gradient Descent Algorithm with Backtracking line search without scaling :')\n",
        "print()\n",
        "print('Minimizer value: ',min_x6)\n",
        "print('Minimum obj fn value: ',min_obj6)\n",
        "print('Total number of iterations: ',iters6)"
      ],
      "metadata": {
        "colab": {
          "base_uri": "https://localhost:8080/"
        },
        "id": "y-jzaRnsCNBS",
        "outputId": "3d028a4e-d020-4f1a-8440-a4ddafe69b24"
      },
      "execution_count": 18,
      "outputs": [
        {
          "output_type": "stream",
          "name": "stdout",
          "text": [
            "For Gradient Descent Algorithm with Backtracking line search without scaling :\n",
            "\n",
            "Minimizer value:  [8.3177047e-10 8.3177047e-10]\n",
            "Minimum obj fn value:  4.0\n",
            "Total number of iterations:  39\n"
          ]
        }
      ]
    },
    {
      "cell_type": "markdown",
      "source": [
        "In gradient descent algorithm with backtracking line search without scaling we are getting optimal solution in 39 iterations which is more than that of newtons method with backtracking line search. So, from here also we can say that Newtons method is a more efficient than other."
      ],
      "metadata": {
        "id": "7vwohySQZ2cc"
      }
    }
  ],
  "metadata": {
    "colab": {
      "name": "21i190004_IE684_Lab4_Ex2.ipynb",
      "provenance": [],
      "collapsed_sections": []
    },
    "kernelspec": {
      "display_name": "Python 3",
      "name": "python3"
    },
    "language_info": {
      "name": "python"
    }
  },
  "nbformat": 4,
  "nbformat_minor": 0
}