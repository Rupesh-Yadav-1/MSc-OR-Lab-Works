{
  "nbformat": 4,
  "nbformat_minor": 0,
  "metadata": {
    "colab": {
      "name": "21i190004_Week5.ipynb",
      "provenance": [],
      "collapsed_sections": []
    },
    "kernelspec": {
      "name": "python3",
      "display_name": "Python 3"
    },
    "language_info": {
      "name": "python"
    }
  },
  "cells": [
    {
      "cell_type": "code",
      "metadata": {
        "id": "KtrVpMOtxI9d"
      },
      "source": [
        "f1=open('lab7w.txt','w')\n",
        "f1.write(\"Course Name : IE509\")\n",
        "f1.write(\"\\n       Computer Programming and Algorithms\\n\")\n",
        "f1.write(\"Language : Python\")\n",
        "f1.close()"
      ],
      "execution_count": 1,
      "outputs": []
    },
    {
      "cell_type": "code",
      "metadata": {
        "colab": {
          "base_uri": "https://localhost:8080/"
        },
        "id": "6ssful-tyd1g",
        "outputId": "9abd5f57-2667-4965-8f44-07969985e948"
      },
      "source": [
        "num=input('Enter a number for which you want padovan sequence: ')\n",
        "n=int(num)\n",
        "\n",
        "f2=open('padovan_'+num+'.txt','w')\n",
        "mylist=[]\n",
        "if n<3:\n",
        "  i=0\n",
        "  while i<=n:\n",
        "    mylist.append(1)\n",
        "    i=i+1\n",
        "else:\n",
        "  i=0\n",
        "  while i<3:\n",
        "    mylist.append(1)\n",
        "    i=i+1\n",
        "  j=3\n",
        "  while j<=n:\n",
        "    mylist.append(mylist[j-2]+mylist[j-3])\n",
        "    j=j+1\n",
        "\n",
        "i=0\n",
        "while i<=n:\n",
        "  mylist[i]=str(mylist[i])\n",
        "  i=i+1\n",
        "\n",
        "for string in mylist:\n",
        "  f2.write(string)\n",
        "  f2.write('\\n')\n",
        "\n",
        "f2.close()"
      ],
      "execution_count": 2,
      "outputs": [
        {
          "name": "stdout",
          "output_type": "stream",
          "text": [
            "Enter a number for which you want padovan sequence: 50\n"
          ]
        }
      ]
    },
    {
      "cell_type": "code",
      "metadata": {
        "colab": {
          "base_uri": "https://localhost:8080/"
        },
        "id": "BG-zeflMDcx2",
        "outputId": "b19e9242-6d2e-4c55-bc7b-5b48a2fb26a0"
      },
      "source": [
        "f3=open('padovan_'+num+'.txt','r')\n",
        "flines=f3.readlines()\n",
        "f3.close()\n",
        "numlist=[]\n",
        "for num in flines:\n",
        "  numlist.append(int(num))\n",
        "numlist\n",
        "print('(a). The number of lines is: ',len(numlist))\n",
        "\n",
        "i=0\n",
        "k=0\n",
        "while i<=n:\n",
        "  if numlist[i]%3==0:\n",
        "    k=k+1\n",
        "  i=i+1\n",
        "print('(b). ',k,' numbers are divisible by 3.')\n",
        "\n",
        "list2=list(numlist)\n",
        "i=0\n",
        "while i<=n:\n",
        "  j=2\n",
        "  k=0\n",
        "  if numlist[i]==1:\n",
        "    list2[i]=1\n",
        "  else:\n",
        "    while j<=numlist[i]/2:\n",
        "      if numlist[i]%j==0:\n",
        "        k=1\n",
        "      j=j+1\n",
        "    if k==0:\n",
        "      list2[i]=1\n",
        "    elif k==1:\n",
        "      list2[i]=0\n",
        "  i=i+1\n",
        "print(list2)\n",
        "print('(c). ',sum(list2),' of them are prime numbers')\n"
      ],
      "execution_count": 4,
      "outputs": [
        {
          "output_type": "stream",
          "name": "stdout",
          "text": [
            "(a). The number of lines is:  51\n",
            "(b).  15  numbers are divisible by 3.\n",
            "[1, 1, 1, 1, 1, 1, 0, 1, 1, 0, 0, 0, 0, 0, 1, 0, 0, 0, 0, 1, 0, 0, 0, 0, 0, 0, 0, 0, 0, 0, 1, 0, 0, 0, 0, 0, 0, 1, 0, 0, 0, 0, 0, 0, 0, 0, 0, 0, 0, 0, 0]\n",
            "(c).  12  of them are prime numbers\n"
          ]
        }
      ]
    },
    {
      "cell_type": "code",
      "metadata": {
        "colab": {
          "base_uri": "https://localhost:8080/"
        },
        "id": "m5XZ65_dEwzR",
        "outputId": "37f9749f-e20f-4e8d-8e47-cb076104cbf1"
      },
      "source": [
        "num=input('Enter no. of elements in your array: ')\n",
        "n=int(num)\n",
        "i=0\n",
        "A=[]\n",
        "print('Input elements of your array one by one and press enter after giving each element')\n",
        "while i<n:\n",
        "  A.append(int(input()))\n",
        "  i=i+1\n",
        "print('The original array is : ')\n",
        "print(A)\n",
        "\n",
        "for i in range(n):\n",
        "  x = A[i]\n",
        "  j = i\n",
        "  while j>0 and A[j-1] > x:\n",
        "    A[j] = A[j-1]\n",
        "    j = j-1\n",
        "    A[j] = x\n",
        "print('The sorted array is :')\n",
        "print(A)"
      ],
      "execution_count": 5,
      "outputs": [
        {
          "output_type": "stream",
          "name": "stdout",
          "text": [
            "Enter no. of elements in your array: 5\n",
            "Input elements of your array one by one and press enter after giving each element\n",
            "15\n",
            "2\n",
            "75\n",
            "9\n",
            "45\n",
            "The original array is : \n",
            "[15, 2, 75, 9, 45]\n",
            "The sorted array is :\n",
            "[2, 9, 15, 45, 75]\n"
          ]
        }
      ]
    },
    {
      "cell_type": "code",
      "metadata": {
        "colab": {
          "base_uri": "https://localhost:8080/"
        },
        "id": "0SSXOri7Ey6o",
        "outputId": "3cbb9f43-c194-4f21-f83d-efb89e8f68a2"
      },
      "source": [
        "f5=open('numbers.txt','r')\n",
        "flines=f5.readlines()\n",
        "f3.close()\n",
        "list5=[]\n",
        "for num in flines:\n",
        "  list5.append(int(num))\n",
        "f5.close()\n",
        "\n",
        "print('The original array is : ')\n",
        "print(list5)\n",
        "\n",
        "list5.sort()\n",
        "print('The sorted array is :')\n",
        "print(list5)"
      ],
      "execution_count": 7,
      "outputs": [
        {
          "output_type": "stream",
          "name": "stdout",
          "text": [
            "The original array is : \n",
            "[12, 23, 90, 45, 24, 24, 35, 56, 8, 22, 79, 15]\n",
            "The sorted array is :\n",
            "[8, 12, 15, 22, 23, 24, 24, 35, 45, 56, 79, 90]\n"
          ]
        }
      ]
    },
    {
      "cell_type": "code",
      "metadata": {
        "id": "F3nX_fYfQ5re"
      },
      "source": [
        ""
      ],
      "execution_count": null,
      "outputs": []
    }
  ]
}