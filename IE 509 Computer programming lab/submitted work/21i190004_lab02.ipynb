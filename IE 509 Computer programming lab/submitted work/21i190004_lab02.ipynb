{
  "nbformat": 4,
  "nbformat_minor": 0,
  "metadata": {
    "colab": {
      "name": "21i190004_lab02.ipynb",
      "provenance": [],
      "collapsed_sections": []
    },
    "kernelspec": {
      "name": "python3",
      "display_name": "Python 3"
    },
    "language_info": {
      "name": "python"
    }
  },
  "cells": [
    {
      "cell_type": "code",
      "metadata": {
        "colab": {
          "base_uri": "https://localhost:8080/"
        },
        "id": "xMF6EXfKURnn",
        "outputId": "40419925-3e56-4821-b144-13f941d85ba5"
      },
      "source": [
        "x = input('Enter a number:')\n",
        "y = input('Enter another number:')\n",
        "numx = float(x)\n",
        "numy = float(y)\n",
        "print('We are going to check wheather smaller number divides the greater number or not')\n",
        "if numx < numy:\n",
        "  if numy%numx == 0:\n",
        "    print('The smaller no.', x,'is a divisor of the bigger no.',y)\n",
        "  else:\n",
        "    print('The smaller no.', x,'is not a divisor of the bigger no.',y)\n",
        "elif numx > numy:\n",
        "  if numx%numy == 0:\n",
        "    print('The smaller no.', y,'is a divisor of the bigger no.',x)\n",
        "  else:\n",
        "    print('The smaller no.', y,'is not a divisor of the bigger no.',x)\n",
        "else:\n",
        "  print('Both numbers are equal')"
      ],
      "execution_count": 1,
      "outputs": [
        {
          "output_type": "stream",
          "text": [
            "Enter a number:45\n",
            "Enter another number:9\n",
            "We are going to check wheather smaller number divides the greater number or not\n",
            "The smaller no. 9 is a divisor of the bigger no. 45\n"
          ],
          "name": "stdout"
        }
      ]
    },
    {
      "cell_type": "code",
      "metadata": {
        "colab": {
          "base_uri": "https://localhost:8080/"
        },
        "id": "DaLCwZmWXNQN",
        "outputId": "ba3b6533-bbab-4043-fbff-3adde3be8dd2"
      },
      "source": [
        "x = input('Enter a number:')\n",
        "y = input('Enter another number:')\n",
        "z = input('Enter another number:')\n",
        "numx = float(x)\n",
        "numy = float(y)\n",
        "numz = float(z)\n",
        "if numx <= numy:\n",
        "    if numx <= numz:\n",
        "      print(x, 'is the smallest no. among all three')\n",
        "    else:\n",
        "      print(z, 'is the smallest no. among all three')\n",
        "else:\n",
        "    if numy <= numz:\n",
        "      print(y, 'is the smallest no. among all three')\n",
        "    else:\n",
        "      print(z, 'is the smallest no. among all three')"
      ],
      "execution_count": 2,
      "outputs": [
        {
          "output_type": "stream",
          "text": [
            "Enter a number:12\n",
            "Enter another number:5\n",
            "Enter another number:23\n",
            "5 is the smallest no. among all three\n"
          ],
          "name": "stdout"
        }
      ]
    },
    {
      "cell_type": "code",
      "metadata": {
        "colab": {
          "base_uri": "https://localhost:8080/"
        },
        "id": "Xun89iRJZcz9",
        "outputId": "449e1bb6-216e-49c4-fe86-e933124ba923"
      },
      "source": [
        "print('Enter only Y and N, Y for Yes and N for No')\n",
        "ans1 = input('Are you married?')\n",
        "Y = 'Y'\n",
        "N = 'N'\n",
        "if ans1 == Y:\n",
        "  ans2 = input('Do you have childred?')\n",
        "  if ans2 == Y:\n",
        "    ans3 = input('Is child male?')\n",
        "    if ans3 == Y:\n",
        "      n=5\n",
        "    else:\n",
        "      n=2\n",
        "  else:\n",
        "    n=6\n",
        "else:\n",
        "  ans4 = input('Do you have childred?')\n",
        "  if ans4 == Y:\n",
        "    ans5 = input('Is child male?')\n",
        "    if ans5 == Y:\n",
        "      n=1\n",
        "    else:\n",
        "      n=3\n",
        "  else:\n",
        "    n=4\n",
        "print('You have to proceed to room number',n)"
      ],
      "execution_count": 20,
      "outputs": [
        {
          "output_type": "stream",
          "text": [
            "Enter only Y and N, Y for Yes and N for No\n",
            "Are you married?Y\n",
            "Do you have childred?Y\n",
            "Is child male?Y\n",
            "You have to proceed to room number 5\n"
          ],
          "name": "stdout"
        }
      ]
    },
    {
      "cell_type": "code",
      "metadata": {
        "colab": {
          "base_uri": "https://localhost:8080/"
        },
        "id": "TEzEqHgLeKSc",
        "outputId": "978c1995-9137-4be6-f79d-3c12427a455a"
      },
      "source": [
        "print ('consider the general form of a quadratic equation ax^2 + bx +c')\n",
        "print('give inputs a,b,c for a quadratic equation corrosponding to above general form')\n",
        "a = input('Enter value of \"a\":')\n",
        "b = input('Enter value of \"b\":')\n",
        "c = input('Enter value of \"c\":')\n",
        "a = float(a)\n",
        "b = float(b)\n",
        "c = float(c)\n",
        "d = b*b - 4*a*c\n",
        "if d >= 0:\n",
        "  x1 = (-b + d**(1/2))/(2*a)\n",
        "  x2 = (-b - d**(1/2))/(2*a)\n",
        "  print('one root is', x1,'other root is', x2)\n",
        "else:\n",
        "  print('one root is', -b/(2*a) ,'+',((-d)**(1/2))/(2*a),'i')\n",
        "  print('other root is', -b/(2*a) ,'-',((-d)**(1/2))/(2*a),'i')"
      ],
      "execution_count": 26,
      "outputs": [
        {
          "output_type": "stream",
          "text": [
            "consider the general form of a quadratic equation ax^2 + bx +c\n",
            "give inputs a,b,c for a quadratic equation corrosponding to above general form\n",
            "Enter value of \"a\":1\n",
            "Enter value of \"b\":0\n",
            "Enter value of \"c\":-36\n",
            "one root is 6.0 other root is -6.0\n"
          ],
          "name": "stdout"
        }
      ]
    }
  ]
}