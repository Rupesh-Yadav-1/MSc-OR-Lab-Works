{
  "nbformat": 4,
  "nbformat_minor": 0,
  "metadata": {
    "colab": {
      "name": "21i190004_Week10.ipynb",
      "provenance": [],
      "collapsed_sections": []
    },
    "kernelspec": {
      "name": "python3",
      "display_name": "Python 3"
    },
    "language_info": {
      "name": "python"
    }
  },
  "cells": [
    {
      "cell_type": "markdown",
      "metadata": {
        "id": "83auyq0Ldy0C"
      },
      "source": [
        "**Q1**"
      ]
    },
    {
      "cell_type": "code",
      "metadata": {
        "id": "LRydwBvAaUu-"
      },
      "source": [
        "def cost(A,n): #A is the list of order of matrices, and n(<no. of matrices) is value upto which user wants to find c(1,n)\n",
        "  m=[]\n",
        "  u=0\n",
        "  while u < len(A):\n",
        "    if u==0:\n",
        "      m.append(A[u][0])\n",
        "    m.append(A[u][1])\n",
        "    u=u+1\n",
        "\n",
        "  def c(i,j):\n",
        "    if i==j:\n",
        "      return 0\n",
        "    d=[]\n",
        "    p=i\n",
        "    while p<j:\n",
        "      d.append(c(i,p)+c(p+1,j)+m[i-1]*m[p]*m[j])\n",
        "      p=p+1\n",
        "    return min(d)\n",
        "  return c(1,n)"
      ],
      "execution_count": 1,
      "outputs": []
    },
    {
      "cell_type": "code",
      "metadata": {
        "colab": {
          "base_uri": "https://localhost:8080/"
        },
        "id": "nNKSbS_-a1O3",
        "outputId": "d83636de-9ed3-47fd-f242-7efd4f98b70c"
      },
      "source": [
        "cost([[50,20],[20,1],[1,10],[10,100]],4)"
      ],
      "execution_count": 2,
      "outputs": [
        {
          "output_type": "execute_result",
          "data": {
            "text/plain": [
              "7000"
            ]
          },
          "metadata": {},
          "execution_count": 2
        }
      ]
    },
    {
      "cell_type": "markdown",
      "metadata": {
        "id": "iXuvOvNxelIP"
      },
      "source": [
        "**Q2**"
      ]
    },
    {
      "cell_type": "code",
      "metadata": {
        "id": "FF_hDNAfDtXX"
      },
      "source": [
        "def opt_ord_parenth(A,n): #A is the list of order of matrices, and n(<no. of matrices) is value upto which user wants to find c(1,n)\n",
        "  m=[]\n",
        "  u=0\n",
        "  while u < len(A):\n",
        "    if u==0:\n",
        "      m.append(A[u][0])\n",
        "    m.append(A[u][1])\n",
        "    u=u+1\n",
        "\n",
        "  def c(i,j):\n",
        "    if i==j:\n",
        "      return 0,[0]\n",
        "    else:\n",
        "      d=[]\n",
        "      p=i\n",
        "      while p<j:\n",
        "        d.append(c(i,p)[0]+c(p+1,j)[0]+m[i-1]*m[p]*m[j])\n",
        "        p=p+1\n",
        "    return min(d),d\n",
        "\n",
        "  def paran(i,j):\n",
        "    k=list(c(i,j)[1]).index(c(i,j)[0])+i\n",
        "    if i==j:\n",
        "      print('A['+str(i)+']',end='')\n",
        "      return\n",
        "    else:\n",
        "      print('(',end='')\n",
        "      paran(i,k)\n",
        "      paran(k+1,j)\n",
        "      print(')',end='')\n",
        "  \n",
        "  return paran(1,n)"
      ],
      "execution_count": 3,
      "outputs": []
    },
    {
      "cell_type": "code",
      "metadata": {
        "colab": {
          "base_uri": "https://localhost:8080/"
        },
        "id": "-L5XsCqKELqI",
        "outputId": "7f41e8b9-0ba9-4d3b-f378-ed95dbe87551"
      },
      "source": [
        "opt_ord_parenth([[50,20],[20,1],[1,10],[10,100]],4)"
      ],
      "execution_count": 4,
      "outputs": [
        {
          "output_type": "stream",
          "name": "stdout",
          "text": [
            "((A[1]A[2])(A[3]A[4]))"
          ]
        }
      ]
    }
  ]
}