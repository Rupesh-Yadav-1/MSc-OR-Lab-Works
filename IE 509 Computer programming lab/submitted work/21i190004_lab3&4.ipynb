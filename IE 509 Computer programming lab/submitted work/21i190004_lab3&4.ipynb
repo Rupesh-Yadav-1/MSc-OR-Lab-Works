{
  "nbformat": 4,
  "nbformat_minor": 0,
  "metadata": {
    "colab": {
      "name": "21i190004_lab3&4.ipynb",
      "provenance": [],
      "collapsed_sections": []
    },
    "kernelspec": {
      "name": "python3",
      "display_name": "Python 3"
    },
    "language_info": {
      "name": "python"
    }
  },
  "cells": [
    {
      "cell_type": "markdown",
      "metadata": {
        "id": "HqoqVV9O6pTS"
      },
      "source": [
        "**Lab 3**"
      ]
    },
    {
      "cell_type": "code",
      "metadata": {
        "colab": {
          "base_uri": "https://localhost:8080/"
        },
        "id": "KWrbMzbYo2_H",
        "outputId": "0f6ece76-2919-4ed0-ffb9-d28cc227d803"
      },
      "source": [
        "n=input('Enter any number:')\n",
        "num=int(n)\n",
        "sum=0\n",
        "i=4\n",
        "while i <= num-1:\n",
        "  sum=sum + i**2\n",
        "  i=i+2\n",
        "print('The sum of squares of even numbers between 2 to ',n,'(excluding 2 and', n, ') is ', sum)"
      ],
      "execution_count": 1,
      "outputs": [
        {
          "output_type": "stream",
          "text": [
            "Enter any number:10\n",
            "The sum of squares of even numbers between 2 to  10 (excluding 2 and 10 ) is  116\n"
          ],
          "name": "stdout"
        }
      ]
    },
    {
      "cell_type": "code",
      "metadata": {
        "colab": {
          "base_uri": "https://localhost:8080/"
        },
        "id": "ZOfNshq7qHLR",
        "outputId": "20088f9b-5726-45fb-f7ab-939c9f1b6dc6"
      },
      "source": [
        "n=input('Enter any positive integer:')\n",
        "num=int(n)\n",
        "i=0\n",
        "while num > 1:\n",
        "  num = num/2\n",
        "  i=i+1\n",
        "print(i,'times the number',n,'is divisible by 2 before it is less than or equal to 1')"
      ],
      "execution_count": 2,
      "outputs": [
        {
          "output_type": "stream",
          "text": [
            "Enter any positive integer:33\n",
            "6 times the number 33 is divisible by 2 before it is less than or equal to 1\n"
          ],
          "name": "stdout"
        }
      ]
    },
    {
      "cell_type": "code",
      "metadata": {
        "colab": {
          "base_uri": "https://localhost:8080/"
        },
        "id": "f-nknqMwttz6",
        "outputId": "8430d3a4-7bac-40d3-bc20-214b5927e80e"
      },
      "source": [
        "no=input('Enter any number between -1 and 1 excluding -1 and 1:')\n",
        "x=float(no)\n",
        "n=0\n",
        "LHS=1\n",
        "RHS=1/(1-x)\n",
        "\n",
        "#since every term of of the LHS series is positive and RHS is the limit of the series.\n",
        "#Hence we can say that RHS > LHS. hence abs(LHS-RHS) can be replaced with RHS-LHS without loss of generality.\n",
        "\n",
        "while RHS-LHS >= 0.01 or RHS-LHS <= -0.01:\n",
        "  n=n+1\n",
        "  LHS=LHS+ x**n\n",
        "  print('S',n, abs(RHS-LHS))\n",
        "print(n,'is the value of n for which given inequality holds')\n"
      ],
      "execution_count": 3,
      "outputs": [
        {
          "output_type": "stream",
          "text": [
            "Enter any number between -1 and 1 excluding -1 and 1:-0.5\n",
            "S 1 0.16666666666666663\n",
            "S 2 0.08333333333333337\n",
            "S 3 0.04166666666666663\n",
            "S 4 0.02083333333333337\n",
            "S 5 0.01041666666666663\n",
            "S 6 0.00520833333333337\n",
            "6 is the value of n for which given inequality holds\n"
          ],
          "name": "stdout"
        }
      ]
    },
    {
      "cell_type": "code",
      "metadata": {
        "colab": {
          "base_uri": "https://localhost:8080/"
        },
        "id": "uPkmxOLoxkEe",
        "outputId": "63d3b78f-ec17-42b2-f1a8-b37c4e4b85ed"
      },
      "source": [
        "n=input('Enter any positive integer:')\n",
        "num=int(n)\n",
        "i=2\n",
        "k=0\n",
        "while i <= num/2:\n",
        "  if num%i == 0:\n",
        "    i=i+1\n",
        "    k=k+1\n",
        "  else:\n",
        "    i=i+1\n",
        "    k=k\n",
        "if k==0:\n",
        "  print('Given number  is a prime number')\n",
        "else:\n",
        "  print('Given number  is not a prime number')"
      ],
      "execution_count": 4,
      "outputs": [
        {
          "output_type": "stream",
          "text": [
            "Enter any positive integer:157\n",
            "Given number  is a prime number\n"
          ],
          "name": "stdout"
        }
      ]
    },
    {
      "cell_type": "code",
      "metadata": {
        "colab": {
          "base_uri": "https://localhost:8080/"
        },
        "id": "yCyCs8T82xmf",
        "outputId": "ef4ef8c1-e717-4fd0-b691-1720debf2f8a"
      },
      "source": [
        "for i in range(1,14):\n",
        "  for j in range(1,11):\n",
        "    print(i*j,' ', end='')\n",
        "  print()"
      ],
      "execution_count": 5,
      "outputs": [
        {
          "output_type": "stream",
          "text": [
            "1  2  3  4  5  6  7  8  9  10  \n",
            "2  4  6  8  10  12  14  16  18  20  \n",
            "3  6  9  12  15  18  21  24  27  30  \n",
            "4  8  12  16  20  24  28  32  36  40  \n",
            "5  10  15  20  25  30  35  40  45  50  \n",
            "6  12  18  24  30  36  42  48  54  60  \n",
            "7  14  21  28  35  42  49  56  63  70  \n",
            "8  16  24  32  40  48  56  64  72  80  \n",
            "9  18  27  36  45  54  63  72  81  90  \n",
            "10  20  30  40  50  60  70  80  90  100  \n",
            "11  22  33  44  55  66  77  88  99  110  \n",
            "12  24  36  48  60  72  84  96  108  120  \n",
            "13  26  39  52  65  78  91  104  117  130  \n"
          ],
          "name": "stdout"
        }
      ]
    },
    {
      "cell_type": "code",
      "metadata": {
        "colab": {
          "base_uri": "https://localhost:8080/"
        },
        "id": "1Q9bMCKd4ZL1",
        "outputId": "ec1ca878-b3b6-473f-f50c-4626b05d86ab"
      },
      "source": [
        "print('The numbers between 100 and 500 which are divisible by 11 but not by 2 are as follows:')\n",
        "for i in range(100,500):\n",
        "  if i%11 == 0:\n",
        "    if i%2 != 0:\n",
        "      print(i,' ')"
      ],
      "execution_count": 6,
      "outputs": [
        {
          "output_type": "stream",
          "text": [
            "The numbers between 100 and 500 which are divisible by 11 but not by 2 are as follows:\n",
            "121  \n",
            "143  \n",
            "165  \n",
            "187  \n",
            "209  \n",
            "231  \n",
            "253  \n",
            "275  \n",
            "297  \n",
            "319  \n",
            "341  \n",
            "363  \n",
            "385  \n",
            "407  \n",
            "429  \n",
            "451  \n",
            "473  \n",
            "495  \n"
          ],
          "name": "stdout"
        }
      ]
    },
    {
      "cell_type": "markdown",
      "metadata": {
        "id": "P_z1Pv1d61GB"
      },
      "source": [
        "**Lab 4**"
      ]
    },
    {
      "cell_type": "code",
      "metadata": {
        "id": "H56GkU7Q65AL",
        "colab": {
          "base_uri": "https://localhost:8080/"
        },
        "outputId": "b0feeaa8-507e-4eeb-92c4-1ea15f6bb890"
      },
      "source": [
        "mystr = input('Enter the string which you want to be displayed backward: ')\n",
        "length = len(mystr)\n",
        "i = length-1\n",
        "print('The backward displayed string is: ')\n",
        "while i >= 0:\n",
        "  print(mystr[i],end='')\n",
        "  i=i-1 "
      ],
      "execution_count": 7,
      "outputs": [
        {
          "output_type": "stream",
          "text": [
            "Enter the string which you want to be displayed backward: my name is rupesh yadav\n",
            "The backward displayed string is: \n",
            "vaday hsepur si eman ym"
          ],
          "name": "stdout"
        }
      ]
    },
    {
      "cell_type": "code",
      "metadata": {
        "id": "r8pM5Blv64tg",
        "colab": {
          "base_uri": "https://localhost:8080/"
        },
        "outputId": "fb5d8a31-da3d-42b6-a54f-73e561838922"
      },
      "source": [
        "string = input('Input a string: ')\n",
        "ch = input('Enter the character to be checked: ')\n",
        "length = len(string)\n",
        "i = 0\n",
        "k = 0\n",
        "while i <= length-1:\n",
        "  if ch == string[i]:\n",
        "    k=k+1\n",
        "  i = i+1\n",
        "print('The number of occurence of given character',ch,'in the given string is ', k)"
      ],
      "execution_count": 8,
      "outputs": [
        {
          "output_type": "stream",
          "text": [
            "Input a string: my name is rupesh yadav\n",
            "Enter the character to be checked: a\n",
            "The number of occurence of given character a in the given string is  3\n"
          ],
          "name": "stdout"
        }
      ]
    },
    {
      "cell_type": "code",
      "metadata": {
        "colab": {
          "base_uri": "https://localhost:8080/"
        },
        "id": "t_gCoilg6EfS",
        "outputId": "477e8af2-1bf9-4e25-95ef-2983dcd9ce7d"
      },
      "source": [
        "string1 = input('Input first string: ')\n",
        "string2 = input('Input second string: ')\n",
        "if string2 in string1:\n",
        "  print('Yes! The second string is in first string.')\n",
        "else:\n",
        "  print('No! The second string is not in first string.')"
      ],
      "execution_count": 9,
      "outputs": [
        {
          "output_type": "stream",
          "text": [
            "Input first string: my name is rupesh yadav\n",
            "Input second string: name\n",
            "Yes! The second string is in first string.\n"
          ],
          "name": "stdout"
        }
      ]
    },
    {
      "cell_type": "code",
      "metadata": {
        "colab": {
          "base_uri": "https://localhost:8080/",
          "height": 103
        },
        "id": "WyIBE1Gf6eFQ",
        "outputId": "502d1393-1a7a-4a2e-e28a-25c4e5e50bc3"
      },
      "source": [
        "str1 = input('Input a string: ')\n",
        "str2 = input('Input a string which is in first entered string : ')\n",
        "str3 = input('Input another string which is in first entered string: ')\n",
        "start = str1.find(str2)\n",
        "stop = str1.find(str3)\n",
        "print('The substring of string1 from position of string2 to string3 is as follows: ')\n",
        "str1[start:stop]"
      ],
      "execution_count": 10,
      "outputs": [
        {
          "output_type": "stream",
          "text": [
            "Input a string: my name is rupesh yadav\n",
            "Input a string which is in first entered string : name\n",
            "Input another string which is in first entered string: yadav\n",
            "The substring of string1 from position of string2 to string3 is as follows: \n"
          ],
          "name": "stdout"
        },
        {
          "output_type": "execute_result",
          "data": {
            "application/vnd.google.colaboratory.intrinsic+json": {
              "type": "string"
            },
            "text/plain": [
              "'name is rupesh '"
            ]
          },
          "metadata": {
            "tags": []
          },
          "execution_count": 10
        }
      ]
    },
    {
      "cell_type": "code",
      "metadata": {
        "colab": {
          "base_uri": "https://localhost:8080/"
        },
        "id": "Tw715OfG9c7Z",
        "outputId": "026f8569-62d9-4237-c190-e52c9eb21dd7"
      },
      "source": [
        "string = input('Enter the string which is to be checked if palindrome or not: ')\n",
        "i=0\n",
        "length=len(string)\n",
        "while i<(length-1)/2:\n",
        "  if string[i]==string[length-1-i]:\n",
        "    i=i+1\n",
        "  else:\n",
        "    i=length\n",
        "if i<length:\n",
        "  print('Entered string is a palindrome.')\n",
        "elif i==length:\n",
        "  print('Entered string is not a palindrome.')\n"
      ],
      "execution_count": 11,
      "outputs": [
        {
          "output_type": "stream",
          "text": [
            "Enter the string which is to be checked if palindrome or not: malayalam\n",
            "Entered string is a palindrome.\n"
          ],
          "name": "stdout"
        }
      ]
    },
    {
      "cell_type": "code",
      "metadata": {
        "colab": {
          "base_uri": "https://localhost:8080/"
        },
        "id": "1uR70IsTANBB",
        "outputId": "8d44a02b-062e-4a72-fb05-b0cae5c48c3e"
      },
      "source": [
        "mystr=input('Enter a string: ')\n",
        "i=0\n",
        "length=len(mystr)\n",
        "print('Displaying all odd characters in upper case: ')\n",
        "while i<length:\n",
        "  if i%2==0:\n",
        "    print(mystr[i].upper(),end='')\n",
        "  else:\n",
        "    print(mystr[i],end='')\n",
        "  i=i+1\n",
        "print()\n",
        "k=0\n",
        "print('Displaying all even characters in upper case: ')\n",
        "while k<length:\n",
        "  if k%2==0:\n",
        "    print(mystr[k],end='')\n",
        "  else:\n",
        "    print(mystr[k].upper(),end='')\n",
        "  k=k+1"
      ],
      "execution_count": 12,
      "outputs": [
        {
          "output_type": "stream",
          "text": [
            "Enter a string: rupeshyadav\n",
            "Displaying all odd characters in upper case: \n",
            "RuPeShYaDaV\n",
            "Displaying all even characters in upper case: \n",
            "rUpEsHyAdAv"
          ],
          "name": "stdout"
        }
      ]
    },
    {
      "cell_type": "code",
      "metadata": {
        "colab": {
          "base_uri": "https://localhost:8080/"
        },
        "id": "yW18br3kElEo",
        "outputId": "8818893c-8e26-431d-fde2-879218ed7fcc"
      },
      "source": [
        "string=input('Enter a string/paragraph: ')\n",
        "length=len(string)\n",
        "i=0\n",
        "k=0\n",
        "\n",
        "#It is obvious that number of words in a paragraph is just one more than number of spaces\n",
        "\n",
        "while i<length:\n",
        "  if ' ' == string[i]:\n",
        "    k=k+1\n",
        "    i=i+1\n",
        "  else:\n",
        "    i=i+1\n",
        "print('The number of words are: ',k+1)\n",
        "\n",
        "print('The number of characters including spaces are: ',length)\n",
        "\n",
        "#The number of characters without spaces is just the difference of numbers of total characters and number of spaces\n",
        "\n",
        "print('The number of characters excluding spaces are: ', length-k)"
      ],
      "execution_count": 13,
      "outputs": [
        {
          "output_type": "stream",
          "text": [
            "Enter a string/paragraph: my name is rupesh yadav\n",
            "The number of words are:  5\n",
            "The number of characters including spaces are:  23\n",
            "The number of characters excluding spaces are:  19\n"
          ],
          "name": "stdout"
        }
      ]
    }
  ]
}