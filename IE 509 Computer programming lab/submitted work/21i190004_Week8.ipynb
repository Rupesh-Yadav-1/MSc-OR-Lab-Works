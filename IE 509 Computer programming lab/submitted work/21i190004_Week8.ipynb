{
  "nbformat": 4,
  "nbformat_minor": 0,
  "metadata": {
    "colab": {
      "name": "21i190004_Week8.ipynb",
      "provenance": [],
      "collapsed_sections": []
    },
    "kernelspec": {
      "name": "python3",
      "display_name": "Python 3"
    },
    "language_info": {
      "name": "python"
    }
  },
  "cells": [
    {
      "cell_type": "code",
      "metadata": {
        "colab": {
          "base_uri": "https://localhost:8080/"
        },
        "id": "ZVk91twgl0ht",
        "outputId": "b8c7db76-a6be-4bf3-d1d8-eb3c31044931"
      },
      "source": [
        "def fun1():\n",
        "  year=int(input('Enter year: '))\n",
        "  if year%100==0:\n",
        "    if year%400==0:\n",
        "      print('The year ',year,' is a leap year')\n",
        "    else:\n",
        "      if year%4==0:\n",
        "        print('The year ',year,' is not a leap year')\n",
        "      else:\n",
        "        print('The year ',year,' is not a leap year')\n",
        "  else:\n",
        "    if year%4==0:\n",
        "        print('The year ',year,' is a leap year')\n",
        "    else:\n",
        "        print('The year ',year,' is not a leap year')\n",
        "\n",
        "fun1()"
      ],
      "execution_count": null,
      "outputs": [
        {
          "output_type": "stream",
          "name": "stdout",
          "text": [
            "Enter year: 1800\n",
            "The year  1800  is not a leap year\n"
          ]
        }
      ]
    },
    {
      "cell_type": "code",
      "metadata": {
        "colab": {
          "base_uri": "https://localhost:8080/",
          "height": 35
        },
        "id": "RhTt2iY4tRyW",
        "outputId": "5798a945-7190-408d-ba7f-53b1c30ff0cc"
      },
      "source": [
        "def fun2(word,shift):\n",
        "  #list1=['a','b','c','d','e','f','g','h','i','j','k','l','m','n','o','p','q','r','s','t','u','v','w','x','y','z']\n",
        "  alp='abcdefghijklmnopqrstuvwxyz'\n",
        "  w=list(word)\n",
        "  st=''\n",
        "  for char in w:\n",
        "    if shift < 26- alp.find(char):\n",
        "      st = st + alp[alp.find(char)+shift]\n",
        "    else:\n",
        "      st = st + alp[(alp.find(char)+shift)%25 - 1]\n",
        "  \n",
        "  return st\n",
        "\n",
        "fun2('axz',3)"
      ],
      "execution_count": null,
      "outputs": [
        {
          "output_type": "execute_result",
          "data": {
            "application/vnd.google.colaboratory.intrinsic+json": {
              "type": "string"
            },
            "text/plain": [
              "'dac'"
            ]
          },
          "metadata": {},
          "execution_count": 25
        }
      ]
    },
    {
      "cell_type": "code",
      "metadata": {
        "id": "hk1BUCVi2yT7",
        "colab": {
          "base_uri": "https://localhost:8080/"
        },
        "outputId": "d6a865dd-07d5-4d89-8cdd-290b0e55cc85"
      },
      "source": [
        "def fun3(a,x0,e):\n",
        "  x=[x0]\n",
        "  i=0\n",
        "  x.append(0.5*(x[i]+a/x[i]))\n",
        "  while abs(x[i]-x[i+1])>=e:\n",
        "    x.append(0.5*(x[i+1]+a/x[i+1]))\n",
        "    i=i+1\n",
        "\n",
        "  print(x[i+1],' is the approximated square root.')\n",
        "  print(len(x)-1,' is the number of iterations it took.')\n",
        "\n",
        "fun3(49,2,.001)"
      ],
      "execution_count": 76,
      "outputs": [
        {
          "output_type": "stream",
          "name": "stdout",
          "text": [
            "7.0  is the approximated square root.\n",
            "6  is the number of iterations it took.\n"
          ]
        }
      ]
    },
    {
      "cell_type": "code",
      "metadata": {
        "colab": {
          "base_uri": "https://localhost:8080/",
          "height": 296
        },
        "id": "ZiCLMOT6acku",
        "outputId": "5404d04c-abcd-42cd-e46f-900cfe78dd60"
      },
      "source": [
        "import numpy as np\n",
        "import matplotlib.pyplot as plt\n",
        "\n",
        "def fun4(a,x0,e):\n",
        "  x=[x0]\n",
        "  i=0\n",
        "  x.append(0.5*(x[i]+a/x[i]))\n",
        "  while abs(x[i]-x[i+1])>=e:\n",
        "    x.append(0.5*(x[i+1]+a/x[i+1]))\n",
        "    i=i+1\n",
        "  \n",
        "  return i+1\n",
        "\n",
        "iter=[]\n",
        "e=[0.15,0.1,0.05,0.001,0.0001]\n",
        "for num in e:\n",
        "  iter.append(fun4(49,2,num))\n",
        "\n",
        "plt.plot(e,iter,'ro')\n",
        "plt.xlabel('epsilon')\n",
        "plt.ylabel('No. of iteration')\n",
        "plt.show"
      ],
      "execution_count": 33,
      "outputs": [
        {
          "output_type": "execute_result",
          "data": {
            "text/plain": [
              "<function matplotlib.pyplot.show>"
            ]
          },
          "metadata": {},
          "execution_count": 33
        },
        {
          "output_type": "display_data",
          "data": {
            "image/png": "[encoded data removed]",
            "text/plain": [
              "<Figure size 432x288 with 1 Axes>"
            ]
          },
          "metadata": {
            "needs_background": "light"
          }
        }
      ]
    },
    {
      "cell_type": "markdown",
      "metadata": {
        "id": "i0LDwwtZYC-v"
      },
      "source": [
        "increasing value of epsilon decreases(monotonicaly) the no. of iterations."
      ]
    },
    {
      "cell_type": "code",
      "metadata": {
        "colab": {
          "base_uri": "https://localhost:8080/"
        },
        "id": "MMmv0fv2iJu_",
        "outputId": "ba64513f-649d-47a2-f705-135f96a9cde4"
      },
      "source": [
        "def fuzzy_time(t):\n",
        "  hour=10*int(t[0])+int(t[1])\n",
        "  min=10*int(t[3])+int(t[4])\n",
        "  \n",
        "  if 0<= min <= 15:\n",
        "    i=0\n",
        "    k=0\n",
        "    min1=min\n",
        "    min2=min\n",
        "    while min1>=0:\n",
        "      min1=min1-1\n",
        "      i=i+1\n",
        "    while min2<=15:\n",
        "      min2=min2+1\n",
        "      k=k+1\n",
        "    if i<k:\n",
        "      min=0\n",
        "    else:\n",
        "      min=15\n",
        "\n",
        "  elif 15< min <= 30:\n",
        "    i=0\n",
        "    k=0\n",
        "    min1=min\n",
        "    min2=min\n",
        "    while min1>=15:\n",
        "      min1=min1-1\n",
        "      i=i+1\n",
        "    while min2<=30:\n",
        "      min2=min2+1\n",
        "      k=k+1\n",
        "    if i<k:\n",
        "      min=15\n",
        "    else:\n",
        "      min=30\n",
        "  \n",
        "  elif 30< min <= 45:\n",
        "    i=0\n",
        "    k=0\n",
        "    min1=min\n",
        "    min2=min\n",
        "    while min1>=30:\n",
        "      min1=min1-1\n",
        "      i=i+1\n",
        "    while min2<=45:\n",
        "      min2=min2+1\n",
        "      k=k+1\n",
        "    if i<k:\n",
        "      min=30\n",
        "    else:\n",
        "      min=45\n",
        "\n",
        "  elif 45< min <= 60:\n",
        "    i=0\n",
        "    k=0\n",
        "    min1=min\n",
        "    min2=min\n",
        "    while min1>=45:\n",
        "      min1=min1-1\n",
        "      i=i+1\n",
        "    while min2<=60:\n",
        "      min2=min2+1\n",
        "      k=k+1\n",
        "    if i<k:\n",
        "      min=45\n",
        "    else:\n",
        "      min=0\n",
        "      hour=hour+1\n",
        "\n",
        "\n",
        "  print(hour,':',min)\n",
        "\n",
        "fuzzy_time(\"12:55\")"
      ],
      "execution_count": 38,
      "outputs": [
        {
          "output_type": "stream",
          "name": "stdout",
          "text": [
            "13 : 0\n"
          ]
        }
      ]
    },
    {
      "cell_type": "code",
      "metadata": {
        "colab": {
          "base_uri": "https://localhost:8080/"
        },
        "id": "3gPJffQZsu98",
        "outputId": "30d9a83b-e724-4c1f-d43a-d5f89aa44b51"
      },
      "source": [
        "def fun5(list1):\n",
        "  import statistics\n",
        "  print('Median is ',statistics.median(list1))\n",
        "\n",
        "fun5([1, 2, 3, 4, 5, 6, 7, 8, 9, 10])"
      ],
      "execution_count": 51,
      "outputs": [
        {
          "output_type": "stream",
          "name": "stdout",
          "text": [
            "Median is  5.5\n"
          ]
        }
      ]
    },
    {
      "cell_type": "code",
      "metadata": {
        "colab": {
          "base_uri": "https://localhost:8080/"
        },
        "id": "--H5mP5XxFvK",
        "outputId": "ff6be859-4851-4dc2-edc2-b8bc3a179c4c"
      },
      "source": [
        "def prime_list(n):\n",
        "  k=2\n",
        "  plist=[]\n",
        "  while len(plist) < n:\n",
        "    p=0\n",
        "    q=1\n",
        "    while q <= k/2:\n",
        "      if k%q==0:\n",
        "        p=p+1\n",
        "      q=q+1\n",
        "    if p==1:\n",
        "      plist.append(k)\n",
        "    k=k+1\n",
        "  \n",
        "  print(plist)\n",
        "\n",
        "prime_list(11)"
      ],
      "execution_count": 75,
      "outputs": [
        {
          "output_type": "stream",
          "name": "stdout",
          "text": [
            "[2, 3, 5, 7, 11, 13, 17, 19, 23, 29, 31]\n"
          ]
        }
      ]
    }
  ]
}