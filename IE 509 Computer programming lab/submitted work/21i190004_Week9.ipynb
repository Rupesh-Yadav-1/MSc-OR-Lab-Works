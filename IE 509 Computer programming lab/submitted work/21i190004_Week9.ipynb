{
  "nbformat": 4,
  "nbformat_minor": 0,
  "metadata": {
    "colab": {
      "name": "21i190004_Week9.ipynb",
      "provenance": [],
      "collapsed_sections": []
    },
    "kernelspec": {
      "name": "python3",
      "display_name": "Python 3"
    },
    "language_info": {
      "name": "python"
    }
  },
  "cells": [
    {
      "cell_type": "code",
      "metadata": {
        "id": "C9CllwSVWNh5"
      },
      "source": [
        "L1=[i for i in range(1,100,2)]\n",
        "\n",
        "L2=[7*i for i in range(1,14)]\n",
        "\n",
        "import numpy as np\n",
        "L3=[i for i in np.linspace(5,20,50)] #We can change interval as per use\n",
        "\n",
        "list4=[8,7,11,23,45,6,12,17]\n",
        "prob=[i/sum(list4) for i in list4]"
      ],
      "execution_count": 1,
      "outputs": []
    },
    {
      "cell_type": "code",
      "metadata": {
        "colab": {
          "base_uri": "https://localhost:8080/"
        },
        "id": "hKCZL0-DWiTe",
        "outputId": "eb53877a-200a-4277-c1ee-d0c913e7b156"
      },
      "source": [
        "def get_month(date_list):\n",
        "  m_list=[]\n",
        "  for date in date_list:\n",
        "    if int(date.split('-')[1])==1:\n",
        "      m_list.append('January')\n",
        "    elif int(date.split('-')[1])==2:\n",
        "      m_list.append('February')\n",
        "    elif int(date.split('-')[1])==3:\n",
        "      m_list.append('March')\n",
        "    elif int(date.split('-')[1])==4:\n",
        "      m_list.append('April')\n",
        "    elif int(date.split('-')[1])==5:\n",
        "      m_list.append('May')\n",
        "    elif int(date.split('-')[1])==6:\n",
        "      m_list.append('June')\n",
        "    elif int(date.split('-')[1])==7:\n",
        "      m_list.append('July')\n",
        "    elif int(date.split('-')[1])==8:\n",
        "      m_list.append('August')\n",
        "    elif int(date.split('-')[1])==9:\n",
        "      m_list.append('September')\n",
        "    elif int(date.split('-')[1])==10:\n",
        "      m_list.append('october')\n",
        "    elif int(date.split('-')[1])==11:\n",
        "      m_list.append('November')\n",
        "    elif int(date.split('-')[1])==12:\n",
        "      m_list.append('December')\n",
        "  return m_list\n",
        "\n",
        "a=['06-08-2003','09-12-2015']\n",
        "get_month(a)"
      ],
      "execution_count": 2,
      "outputs": [
        {
          "output_type": "execute_result",
          "data": {
            "text/plain": [
              "['August', 'December']"
            ]
          },
          "metadata": {},
          "execution_count": 2
        }
      ]
    },
    {
      "cell_type": "code",
      "metadata": {
        "id": "S-6oYSqc2WnC"
      },
      "source": [
        "from numpy import mean\n",
        "fin1 = open('scores2_new.csv', 'w+')\n",
        "fin2 = open('scores2.csv', 'r')\n",
        "\n",
        "fin1.readline()\n",
        "fin2.readline()\n",
        "\n",
        "fin1.write('Student' + ',' + 'Test1' + ',' + 'Test2' + ',' + 'Test3' + ',' + 'Test4' + ',' + 'weighted Marks' + '\\n')\n",
        "\n",
        "lines = fin2.readlines()\n",
        "for line in lines:\n",
        "  mylist = line.split(',')\n",
        "  fin1.write(line.strip('\\n')+','+str(0.15*float(mylist[1])+0.15*float(mylist[2])+0.30*float(mylist[3])+0.40*float(mylist[4]))+ '\\n')\n",
        "\n",
        "\n",
        "fin2.close()\n",
        "fin1.close()\n",
        "\n",
        "fin = open('scores2_new.csv', 'r+')\n",
        "\n",
        "fin.readline()\n",
        "\n",
        "exam1 = []\n",
        "exam2 = []\n",
        "exam3 = []\n",
        "exam4 = []\n",
        "exam5 = []\n",
        "\n",
        "lines2 = fin.readlines()\n",
        "for line in lines2:\n",
        "  mylist = line.split(',')\n",
        "  exam1.append(float(mylist[1]))\n",
        "  exam2.append(float(mylist[2]))\n",
        "  exam3.append(float(mylist[3]))\n",
        "  exam4.append(float(mylist[4]))\n",
        "  exam5.append(float(mylist[5]))\n",
        "fin.write('Min, '+ str(min(exam1)) + ', '+ str(min(exam2))+','+ str(min(exam3)) + ', '+ str(min(exam4))+ ', '+ str(min(exam5))+'\\n')\n",
        "fin.write('Max, '+ str(max(exam1)) + ', '+ str(max(exam2))+','+ str(max(exam3)) + ', '+ str(max(exam4))+ ', '+ str(max(exam5))+'\\n')\n",
        "fin.write('Mean, '+ str(mean(exam1)) + ', '+ str(mean(exam2))+', '+ str(mean(exam3))+', '+ str(mean(exam4))+ ', '+ str(mean(exam5))+'\\n')\n",
        "\n",
        "fin.close()"
      ],
      "execution_count": 3,
      "outputs": []
    },
    {
      "cell_type": "code",
      "metadata": {
        "id": "BPHBzc_C2eSH"
      },
      "source": [
        "fin4=open('q_values.csv','w')\n",
        "fin5=open('d_values.csv','r')\n",
        "\n",
        "my_list1=fin5.readline().split(',')\n",
        "my_list=[]\n",
        "for k in my_list1:\n",
        "  my_list.append(float(k))\n",
        "\n",
        "List4=[((10/3)*i)**(1/2) for i in my_list]\n",
        "list4=np.round_(List4,decimals=2)\n",
        "\n",
        "for j in range(len(my_list)):\n",
        "  fin4.write(str(list4[j])+',')\n",
        "\n",
        "fin5.close()\n",
        "fin4.close()"
      ],
      "execution_count": 4,
      "outputs": []
    },
    {
      "cell_type": "code",
      "metadata": {
        "colab": {
          "base_uri": "https://localhost:8080/"
        },
        "id": "ZlBjWIU9KPIJ",
        "outputId": "bf5753e8-3578-42a5-b6bc-f6f72efb6e6d"
      },
      "source": [
        "def pascal(n):\n",
        "  def lisst(n):\n",
        "    if n==1:\n",
        "      return [1]\n",
        "    elif n==2:\n",
        "      return [1,1]\n",
        "    else:\n",
        "      mlist=[]\n",
        "      i=0\n",
        "      while i<n:\n",
        "        if i==0:\n",
        "          mlist.append(1)\n",
        "          i=i+1\n",
        "        elif i<n-1:\n",
        "          mlist.append(lisst(n-1)[i-1]+lisst(n-1)[i])\n",
        "          i=i+1\n",
        "        else:\n",
        "          mlist.append(1)\n",
        "          i=i+1\n",
        "      return mlist\n",
        "  return lisst(n)\n",
        "\n",
        "print(pascal(5))\n",
        "print()\n",
        "\n",
        "\n",
        "for j in [1,2,3,4]:\n",
        "  p=0\n",
        "  while p<4-j:\n",
        "    print(end=\" \")\n",
        "    p=p+1\n",
        "  for k in pascal(j):\n",
        "    print(str(k),end=' ')\n",
        "  print('\\n')"
      ],
      "execution_count": 5,
      "outputs": [
        {
          "output_type": "stream",
          "name": "stdout",
          "text": [
            "[1, 4, 6, 4, 1]\n",
            "\n",
            "   1 \n",
            "\n",
            "  1 1 \n",
            "\n",
            " 1 2 1 \n",
            "\n",
            "1 3 3 1 \n",
            "\n"
          ]
        }
      ]
    },
    {
      "cell_type": "code",
      "metadata": {
        "id": "JPI43VBGvLnW"
      },
      "source": [
        ""
      ],
      "execution_count": 5,
      "outputs": []
    }
  ]
}