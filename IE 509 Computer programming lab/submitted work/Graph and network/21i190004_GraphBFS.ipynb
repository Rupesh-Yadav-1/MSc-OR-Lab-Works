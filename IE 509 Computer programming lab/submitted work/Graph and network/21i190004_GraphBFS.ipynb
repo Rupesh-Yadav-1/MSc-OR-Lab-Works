{
  "nbformat": 4,
  "nbformat_minor": 0,
  "metadata": {
    "colab": {
      "name": "21i190004 GraphBFS.ipynb",
      "provenance": [],
      "collapsed_sections": []
    },
    "kernelspec": {
      "name": "python3",
      "display_name": "Python 3"
    },
    "language_info": {
      "name": "python"
    }
  },
  "cells": [
    {
      "cell_type": "markdown",
      "metadata": {
        "id": "D68gAAjEDOj7"
      },
      "source": [
        "# Graphs Algorithms\n",
        "This notebook will explain the basic Graph Algorithms, **Breadth First Search (BFS)**\n",
        "\n",
        "Note: Notebook to be accompanied with the presentation on Graph Algorithms\n"
      ]
    },
    {
      "cell_type": "markdown",
      "metadata": {
        "id": "5iu2EAKMDn1l"
      },
      "source": [
        "**Define Graph**: Let's define the graph in Python using dictionaries. The *key* of the dictionary will be the vertices, and the *value* for each key (vertex) is the list of all the connected vertices.  We can code the example given in slides as follows (type the code in the below cell)\n",
        "```\n",
        "graph = {\n",
        "  'a' : ['b', 'e'],\n",
        "  'b' : ['a', 'f'],\n",
        "  'c' : ['d', 'f', 'g'],\n",
        "  'd' : ['c', 'h'],\n",
        "  'e' : ['a'],\n",
        "  'f' : ['b', 'c', 'g'],\n",
        "  'g' : ['c', 'f', 'h'],\n",
        "  'h' : ['d', 'g']\n",
        "}\n",
        "```"
      ]
    },
    {
      "cell_type": "code",
      "metadata": {
        "colab": {
          "base_uri": "https://localhost:8080/"
        },
        "id": "17_tTbMNKUx2",
        "outputId": "b88174b8-54a1-4a81-9198-8d65fc835c9d"
      },
      "source": [
        "# Create the dictionary with graph elements\n",
        "graph = {\n",
        "  'a' : ['b', 'e'],\n",
        "  'b' : ['a', 'f'],\n",
        "  'c' : ['d', 'f', 'g'],\n",
        "  'd' : ['c', 'h'],\n",
        "  'e' : ['a'],\n",
        "  'f' : ['b', 'c', 'g'],\n",
        "  'g' : ['c', 'f', 'h'],\n",
        "  'h' : ['d', 'g']\n",
        "}\n",
        "\n",
        "# Print the graph \t\t \n",
        "print(graph)"
      ],
      "execution_count": 1,
      "outputs": [
        {
          "output_type": "stream",
          "name": "stdout",
          "text": [
            "{'a': ['b', 'e'], 'b': ['a', 'f'], 'c': ['d', 'f', 'g'], 'd': ['c', 'h'], 'e': ['a'], 'f': ['b', 'c', 'g'], 'g': ['c', 'f', 'h'], 'h': ['d', 'g']}\n"
          ]
        }
      ]
    },
    {
      "cell_type": "markdown",
      "metadata": {
        "id": "e_4wYAOpON3k"
      },
      "source": [
        "## Breadth First Search (BFS)\n",
        "\n",
        "Given a graph G and a source vertex s, BFS systematically explores  edges of G to discover every vertex reachable from s. BFS computes the distance (smallest number of edges) from s to every reachable vertex. It also produces a “breadth-first” tree with root node s.  Refer the algorithm disucssed in slides to understand the code below.\n",
        "\n",
        "It uses the following data structures:\n",
        "* color[v] : store color of vertex v to indicate discover/ exploration\n",
        "* pre[v]: stores the immediate precessor of vertex v\n",
        "* distance[v]: records the distance of v from given source vertex\n"
      ]
    },
    {
      "cell_type": "code",
      "metadata": {
        "colab": {
          "base_uri": "https://localhost:8080/"
        },
        "id": "NwhyJK1gPSdD",
        "outputId": "a2e372f4-ab44-4a31-c773-1c221fc699b7"
      },
      "source": [
        "#BFS\n",
        "def myBFS(G, start):\n",
        "  vertices = list(G.keys())\n",
        "  color = {v:\"white\" for v in vertices}\n",
        "  distance = {v:-1 for v in vertices} #instead of Infinity we use -1\n",
        "  pre = {v:\"Null\" for v in vertices}  #immediate predecessor\n",
        "\n",
        "  queue = []\n",
        "  distance[start] = 0\n",
        "  queue.append(start)\n",
        "  \n",
        "  while (len(queue)>0):\n",
        "    u = queue.pop(0)\n",
        "    for v in G[u]:\n",
        "      if color[v]==\"white\":\n",
        "        color[v] = \"grey\"\n",
        "        distance[v] = distance[u]+1\n",
        "        pre[v] = u\n",
        "        queue.append(v)\n",
        "    color[u] = \"black\"\n",
        "\n",
        "  return distance, pre\n",
        "\n",
        "startnode = \"b\"\n",
        "distances, predecessors = myBFS(graph, startnode)\n",
        "print('Distances from start vertex \"', startnode, '\" are as follows:', distances)\n",
        "print('Immediate predecessors: ', predecessors)"
      ],
      "execution_count": 2,
      "outputs": [
        {
          "output_type": "stream",
          "name": "stdout",
          "text": [
            "Distances from start vertex \" b \" are as follows: {'a': 1, 'b': 0, 'c': 2, 'd': 3, 'e': 2, 'f': 1, 'g': 2, 'h': 3}\n",
            "Immediate predecessors:  {'a': 'b', 'b': 'Null', 'c': 'f', 'd': 'c', 'e': 'a', 'f': 'b', 'g': 'f', 'h': 'g'}\n"
          ]
        }
      ]
    },
    {
      "cell_type": "markdown",
      "metadata": {
        "id": "rUI_4jfocL4G"
      },
      "source": [
        "###To Do\n",
        "\n",
        "1. Write a code-snippet to print the shortest path from given starting node to all the other nodes.  Your code can directly use ```distances``` and ```predecessors``` computed earlier.   \n",
        "For above example it should output:\n",
        "* Path to a in 1 step as b-a\n",
        "* Path to b in 0 step as b\n",
        "* Path to c in 2 step as b-f-c\n",
        "* Path to d in 3 step as b-f-c-d\n",
        "* Path to e in 2 step as b-a-e\n",
        "* Path to f in 1 step as b-f\n",
        "* Path to g in 2 step as b-f-g\n",
        "* Path to h in 3 step as b-f-g-h\n",
        "\n",
        "\n",
        "2. Enter the given directed graph (see slides), and call BFS with source node “a”. Compute and display the shortest path from “a” to all the other nodes\n"
      ]
    },
    {
      "cell_type": "code",
      "metadata": {
        "colab": {
          "base_uri": "https://localhost:8080/"
        },
        "id": "KNaZZ45nBAF0",
        "outputId": "a8a5947d-6198-4309-bdc4-500d5a29097a"
      },
      "source": [
        "vertices = list(graph.keys())\n",
        "for i in vertices:\n",
        "  if distances[i]== -1:\n",
        "    print('No possible path from b to',i)\n",
        "  else:\n",
        "    u=i\n",
        "    mystr=u\n",
        "    while u != 'b':\n",
        "      mystr=predecessors[u]+'-'+mystr\n",
        "      u=predecessors[u]\n",
        "    print('Path to',i,'in',distances[i],'step as',mystr)"
      ],
      "execution_count": 4,
      "outputs": [
        {
          "output_type": "stream",
          "name": "stdout",
          "text": [
            "Path to a in 1 step as b-a\n",
            "Path to b in 0 step as b\n",
            "Path to c in 2 step as b-f-c\n",
            "Path to d in 3 step as b-f-c-d\n",
            "Path to e in 2 step as b-a-e\n",
            "Path to f in 1 step as b-f\n",
            "Path to g in 2 step as b-f-g\n",
            "Path to h in 3 step as b-f-g-h\n"
          ]
        }
      ]
    },
    {
      "cell_type": "code",
      "metadata": {
        "id": "4bioHh245r_R"
      },
      "source": [
        "Graph = {'a':['b','d'],'b':['d','e'],'c':['a','d','b'],'d':['e'],'e':['e']}"
      ],
      "execution_count": 5,
      "outputs": []
    },
    {
      "cell_type": "code",
      "metadata": {
        "id": "Mv8FehFZC9CW"
      },
      "source": [
        "distances2, predecessors2 = myBFS(Graph, 'a')"
      ],
      "execution_count": 6,
      "outputs": []
    },
    {
      "cell_type": "code",
      "metadata": {
        "colab": {
          "base_uri": "https://localhost:8080/"
        },
        "id": "XvT7v4s5Crzx",
        "outputId": "5633c249-36c6-4a5f-9441-ab9325cb1520"
      },
      "source": [
        "verticess = list(Graph.keys())\n",
        "for i in verticess:\n",
        "  if distances2[i]== -1:\n",
        "    print('No possible path from a to',i)\n",
        "  else:\n",
        "    u=i\n",
        "    mystr=u\n",
        "    while u != 'a':\n",
        "      mystr=predecessors2[u]+'-'+mystr\n",
        "      u=predecessors2[u]\n",
        "    print('Path to',i,'in',distances2[i],'step as',mystr)"
      ],
      "execution_count": 7,
      "outputs": [
        {
          "output_type": "stream",
          "name": "stdout",
          "text": [
            "Path to a in 0 step as a\n",
            "Path to b in 1 step as a-b\n",
            "No possible path from a to c\n",
            "Path to d in 1 step as a-d\n",
            "Path to e in 2 step as a-b-e\n"
          ]
        }
      ]
    }
  ]
}