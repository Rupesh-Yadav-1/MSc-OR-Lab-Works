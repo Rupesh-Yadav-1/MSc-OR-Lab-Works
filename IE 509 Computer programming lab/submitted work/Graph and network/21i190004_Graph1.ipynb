{
  "nbformat": 4,
  "nbformat_minor": 0,
  "metadata": {
    "colab": {
      "name": "21i190004 Graph1.ipynb",
      "provenance": [],
      "collapsed_sections": []
    },
    "kernelspec": {
      "name": "python3",
      "display_name": "Python 3"
    },
    "language_info": {
      "name": "python"
    }
  },
  "cells": [
    {
      "cell_type": "markdown",
      "metadata": {
        "id": "D68gAAjEDOj7"
      },
      "source": [
        "# Graphs and Networks\n",
        "This notebook will explain the basics of representing and working with Graphs and Networks (to be accompanied with the presentation on Graph Algorithms)\n"
      ]
    },
    {
      "cell_type": "markdown",
      "metadata": {
        "id": "5iu2EAKMDn1l"
      },
      "source": [
        "**Define Graph**: Let's define the graph in Python using dictionaries. The *key* of the dictionary will be the vertices, and the *value* for each key (vertex) is the list of all the connected vertices.  We can code the example given in slides as follows (type the code in the below cell)\n",
        "```\n",
        "graph = {\n",
        "  'a' : ['b', 'e'],\n",
        "  'b' : ['a', 'f'],\n",
        "  'c' : ['d', 'f', 'g'],\n",
        "  'd' : ['c', 'h'],\n",
        "  'e' : ['a'],\n",
        "  'f' : ['b', 'c', 'g'],\n",
        "  'g' : ['c', 'f', 'h'],\n",
        "  'h' : ['d', 'g']\n",
        "}\n",
        "```"
      ]
    },
    {
      "cell_type": "code",
      "metadata": {
        "id": "17_tTbMNKUx2",
        "colab": {
          "base_uri": "https://localhost:8080/"
        },
        "outputId": "53b8cc42-7dfd-4de7-afcb-ca559a123221"
      },
      "source": [
        "# Create the dictionary with graph elements\n",
        "graph = { 'a' : ['b', 'e'],  'b' : ['a', 'f'],  'c' : ['d', 'f', 'g'],  'd' : ['c', 'h'],  'e' : ['a'], 'f' : ['b', 'c', 'g'],'g' : ['c', 'f', 'h'], 'h' : ['d', 'g']}\n",
        "\n",
        "\n",
        "# Print the graph \t\t \n",
        "print(graph)"
      ],
      "execution_count": null,
      "outputs": [
        {
          "output_type": "stream",
          "name": "stdout",
          "text": [
            "{'a': ['b', 'e'], 'b': ['a', 'f'], 'c': ['d', 'f', 'g'], 'd': ['c', 'h'], 'e': ['a'], 'f': ['b', 'c', 'g'], 'g': ['c', 'f', 'h'], 'h': ['d', 'g']}\n"
          ]
        }
      ]
    },
    {
      "cell_type": "markdown",
      "metadata": {
        "id": "zIyA7Q_0ZqWI"
      },
      "source": [
        "**Display the vertices**"
      ]
    },
    {
      "cell_type": "code",
      "metadata": {
        "id": "iSgxcZLSLRWD",
        "colab": {
          "base_uri": "https://localhost:8080/"
        },
        "outputId": "a22e2ec7-b3c2-42b3-d7a1-f031b054c8dc"
      },
      "source": [
        "# To print graph vertices, simply print the keys\n",
        "print(list(graph.keys()))"
      ],
      "execution_count": null,
      "outputs": [
        {
          "output_type": "stream",
          "name": "stdout",
          "text": [
            "['a', 'b', 'c', 'd', 'e', 'f', 'g', 'h']\n"
          ]
        }
      ]
    },
    {
      "cell_type": "markdown",
      "metadata": {
        "id": "sJa_RpYfF2So"
      },
      "source": [
        "**Display the edges** A common task may be to display the edges"
      ]
    },
    {
      "cell_type": "code",
      "metadata": {
        "id": "S9ihoqNJMTM8",
        "colab": {
          "base_uri": "https://localhost:8080/"
        },
        "outputId": "69163853-f1e4-4286-ce5b-8b146a1b313e"
      },
      "source": [
        "# Display all edges\n",
        "edges=[]\n",
        "vertices = list(graph.keys())\n",
        "print(vertices)\n",
        "for v in vertices:\n",
        "  for u in graph[v]:\n",
        "      edges.append({v, u})\n",
        "\n",
        "print(edges)"
      ],
      "execution_count": null,
      "outputs": [
        {
          "output_type": "stream",
          "name": "stdout",
          "text": [
            "['a', 'b', 'c', 'd', 'e', 'f', 'g', 'h']\n",
            "[{'b', 'a'}, {'e', 'a'}, {'b', 'a'}, {'b', 'f'}, {'d', 'c'}, {'f', 'c'}, {'c', 'g'}, {'d', 'c'}, {'d', 'h'}, {'e', 'a'}, {'f', 'b'}, {'f', 'c'}, {'f', 'g'}, {'c', 'g'}, {'f', 'g'}, {'g', 'h'}, {'d', 'h'}, {'g', 'h'}]\n"
          ]
        }
      ]
    },
    {
      "cell_type": "markdown",
      "metadata": {
        "id": "ETCpc6haI5l6"
      },
      "source": [
        "In the above code, each edge may be counted twice. Suppose we want to display without duplicates, we can insert an if condition inside the inner-for loop which will check if the ```{u, v}``` edge is not in ```edges``` then will append the it to ```edges```.\n",
        "\n",
        "Write the updated code below"
      ]
    },
    {
      "cell_type": "code",
      "metadata": {
        "id": "7GLbFK98JgJB",
        "colab": {
          "base_uri": "https://localhost:8080/"
        },
        "outputId": "d0b56da2-d37c-4c39-99b4-a47a97d49ae9"
      },
      "source": [
        "# Udpated code to Display all edges without duplicate entries\n",
        "\n",
        "# Display all edges\n",
        "edges=[]\n",
        "vertices = list(graph.keys())\n",
        "print(vertices)\n",
        "for v in vertices:\n",
        "  for u in graph[v]:\n",
        "    if {u,v} not in edges:\n",
        "      edges.append({v, u})\n",
        "\n",
        "print(edges)\n"
      ],
      "execution_count": null,
      "outputs": [
        {
          "output_type": "stream",
          "name": "stdout",
          "text": [
            "['a', 'b', 'c', 'd', 'e', 'f', 'g', 'h']\n",
            "[{'b', 'a'}, {'e', 'a'}, {'b', 'f'}, {'d', 'c'}, {'f', 'c'}, {'c', 'g'}, {'d', 'h'}, {'f', 'g'}, {'g', 'h'}]\n"
          ]
        }
      ]
    },
    {
      "cell_type": "markdown",
      "metadata": {
        "id": "po2jAtDjJ92r"
      },
      "source": [
        "**Add a new vertex** This can be done by adding a new key to the ```graph``` dictionary"
      ]
    },
    {
      "cell_type": "code",
      "metadata": {
        "id": "hkzUQtU3OYaC",
        "colab": {
          "base_uri": "https://localhost:8080/"
        },
        "outputId": "1f8a35a6-545a-411f-d5ad-4142136b1035"
      },
      "source": [
        "#Add new vertex as a function\n",
        "def addVertex(G, v):\n",
        "  if v not in G:\n",
        "    G[v]=[]\n",
        "\n",
        "addVertex(graph, 'j')\n",
        "print(graph)\n"
      ],
      "execution_count": null,
      "outputs": [
        {
          "output_type": "stream",
          "name": "stdout",
          "text": [
            "{'a': ['b', 'e'], 'b': ['a', 'f'], 'c': ['d', 'f', 'g'], 'd': ['c', 'h'], 'e': ['a'], 'f': ['b', 'c', 'g'], 'g': ['c', 'f', 'h'], 'h': ['d', 'g'], 'j': []}\n"
          ]
        }
      ]
    },
    {
      "cell_type": "markdown",
      "metadata": {
        "id": "4F1tBCHFaAIF"
      },
      "source": [
        "**Add a new edge** This is done by updating the adjacency list (values) of the vertices (key)"
      ]
    },
    {
      "cell_type": "code",
      "metadata": {
        "id": "K35mZWQPOZum",
        "colab": {
          "base_uri": "https://localhost:8080/"
        },
        "outputId": "2f6e8a3f-bea3-4c83-9516-9e091ebd9262"
      },
      "source": [
        "#Add an edge\n",
        "def addEdge(G, newedge):\n",
        "  vrtx1, vrtx2 = newedge\n",
        "  print(vrtx1, vrtx2)\n",
        "  if vrtx1 not in G:\n",
        "    G[vrtx1] = [vrtx2]\n",
        "  else:\n",
        "    G[vrtx1].append(vrtx2)\n",
        "\n",
        "  #Since it is a undirected graphs we can update the Adjacency list of vertex2 also. We should not do this for directed graphs\n",
        "  if vrtx2 not in G:\n",
        "    G[vrtx2] = [vrtx1]\n",
        "  else:\n",
        "    G[vrtx2].append(vrtx1)\n",
        "\n",
        "addEdge(graph, {'a', 'h'})\n",
        "print(graph)"
      ],
      "execution_count": null,
      "outputs": [
        {
          "output_type": "stream",
          "name": "stdout",
          "text": [
            "a h\n",
            "{'a': ['b', 'e', 'h'], 'b': ['a', 'f'], 'c': ['d', 'f', 'g'], 'd': ['c', 'h'], 'e': ['a'], 'f': ['b', 'c', 'g'], 'g': ['c', 'f', 'h'], 'h': ['d', 'g', 'a'], 'j': []}\n"
          ]
        }
      ]
    },
    {
      "cell_type": "markdown",
      "metadata": {
        "id": "0mu11uuCNMhV"
      },
      "source": [
        "**TO DO** \n",
        "\n",
        "Write a program to **find an edge**. That is, the program should take a graph and an edge as input, and check if it is present or not."
      ]
    },
    {
      "cell_type": "code",
      "metadata": {
        "id": "G6_qvtinO05z",
        "colab": {
          "base_uri": "https://localhost:8080/"
        },
        "outputId": "4744cf41-a8a1-4faf-a0de-cbc1915fa41c"
      },
      "source": [
        "#HW: Find an edge\n",
        "\n",
        "def fn(G,edg):\n",
        "  v1,v2=edg\n",
        "  if v1 in G:\n",
        "    if v2 in G[v1]:\n",
        "      print('given edge is present')\n",
        "    else:\n",
        "      print('given edge is not present')\n",
        "  else:\n",
        "    print('given edge is not present')\n",
        "\n",
        "fn(graph,{'a','e'})"
      ],
      "execution_count": null,
      "outputs": [
        {
          "output_type": "stream",
          "name": "stdout",
          "text": [
            "given edge is present\n"
          ]
        }
      ]
    },
    {
      "cell_type": "code",
      "metadata": {
        "id": "r_JxZ3luPvWU",
        "colab": {
          "base_uri": "https://localhost:8080/"
        },
        "outputId": "c0ffe232-e52b-41e3-b70d-2084eac39383"
      },
      "source": [
        "fn(graph,{'a','f'})"
      ],
      "execution_count": null,
      "outputs": [
        {
          "output_type": "stream",
          "name": "stdout",
          "text": [
            "given edge is not present\n"
          ]
        }
      ]
    }
  ]
}