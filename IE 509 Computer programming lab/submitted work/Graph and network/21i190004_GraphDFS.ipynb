{
  "nbformat": 4,
  "nbformat_minor": 0,
  "metadata": {
    "colab": {
      "name": "21i190004 GraphDFS.ipynb",
      "provenance": [],
      "collapsed_sections": []
    },
    "kernelspec": {
      "name": "python3",
      "display_name": "Python 3"
    },
    "language_info": {
      "name": "python"
    }
  },
  "cells": [
    {
      "cell_type": "markdown",
      "metadata": {
        "id": "D68gAAjEDOj7"
      },
      "source": [
        "# Graphs Algorithms\n",
        "This notebook will explain the basic Graph Alorithms **Depth First Search (DFS)**\n",
        "\n",
        "Note: Notebook to be accompanied with the presentation on Graph Algorithms)\n"
      ]
    },
    {
      "cell_type": "markdown",
      "metadata": {
        "id": "5iu2EAKMDn1l"
      },
      "source": [
        "**Define Graph**: Let's define the graph in Python using dictionaries. The *key* of the dictionary will be the vertices, and the *value* for each key (vertex) is the list of all the connected vertices.  We can code the example given in slides as follows (type the code in the below cell)\n",
        "```\n",
        "graph = {\n",
        "  'm' : ['q', 'r'],\n",
        "  'n' : ['m', 'o'],\n",
        "  'o' : [],\n",
        "  'p' : ['o', 's', 't'],\n",
        "  'q' : ['n', 'r'],\n",
        "  'r' : ['n'],\n",
        "  's' : ['r'],\n",
        "  't' : ['s', 't']\n",
        "}\n",
        "```"
      ]
    },
    {
      "cell_type": "code",
      "metadata": {
        "colab": {
          "base_uri": "https://localhost:8080/"
        },
        "id": "17_tTbMNKUx2",
        "outputId": "f0efbbe0-f779-40c9-e68a-8522185cdba6"
      },
      "source": [
        "# Create the dictionary with graph elements\n",
        "graph = {\n",
        "  'm' : ['q', 'r'],\n",
        "  'n' : ['m', 'o'],\n",
        "  'o' : [],\n",
        "  'p' : ['o', 's', 't'],\n",
        "  'q' : ['n', 'r'],\n",
        "  'r' : ['n'],\n",
        "  's' : ['r'],\n",
        "  't' : ['s', 't']\n",
        "}\n",
        "\n",
        "# Print the graph \t\t \n",
        "print(graph)"
      ],
      "execution_count": null,
      "outputs": [
        {
          "output_type": "stream",
          "name": "stdout",
          "text": [
            "{'m': ['q', 'r'], 'n': ['m', 'o'], 'o': [], 'p': ['o', 's', 't'], 'q': ['n', 'r'], 'r': ['n'], 's': ['r'], 't': ['s', 't']}\n"
          ]
        }
      ]
    },
    {
      "cell_type": "markdown",
      "metadata": {
        "id": "m0aBIB61QI2I"
      },
      "source": [
        "## Depth First Search\n",
        "\n",
        "Depth First Search (DFS) is another strategy for exploring a graph. Edges are explored out of the most recently discovered vertex v that still has unexplored edges.  When all of v’s edges have been explored, backtrack to the vertex from which v was discovered. The process is then continued until all reachable vertices from current source vertex are discovered.  Repeat the search procedure for other undiscovered vertices, if any.\n",
        "\n",
        "It uses the following data structures:\n",
        "* color[v] : store color of vertex v to indicate discover/ exploration\n",
        "* pre[v]: stores the immediate precessor of vertex v\n",
        "* d[v]: records timestamp when v is discovered, i.e. Vertex v made gray\n",
        "* f[v]: records timestamp when search has finished examining v’s adjacency list , i.e. Vertex v made black\n",
        "\n",
        "Note that there are TWO functions; and the above data structures are defined as ```global``` to permit their use in the functions directly."
      ]
    },
    {
      "cell_type": "code",
      "metadata": {
        "id": "UwvTlKBNZnKr",
        "colab": {
          "base_uri": "https://localhost:8080/"
        },
        "outputId": "f1e51e62-16ba-46b6-81d9-ad2bb71a102d"
      },
      "source": [
        "vertices = list(graph.keys())\n",
        "color = {v:\"white\" for v in vertices}\n",
        "pre = {v:\"Null\" for v in vertices}\n",
        "time = 0\n",
        "d = {v:-1 for v in vertices}\n",
        "f = {v:-1 for v in vertices}\n",
        "  \n",
        "def myDFS(G):\n",
        "  for u in vertices:\n",
        "    if color[u]=='white':\n",
        "      DFSVisit(G, u)\n",
        "\n",
        "def DFSVisit(G, u):\n",
        "  global color\n",
        "  global time\n",
        "  global d\n",
        "  global f\n",
        "  global pre\n",
        "\n",
        "  color[u] = \"grey\"\n",
        "  time = time+1\n",
        "  d[u] = time\n",
        "  print(\"(\", u, end=\" \")\n",
        "  for v in G[u]:\n",
        "    if color[v]=='white':\n",
        "      pre[v]=u\n",
        "      DFSVisit(G, v)\n",
        "  color[u]='black'\n",
        "  time=time+1\n",
        "  f[u]=time\n",
        "  print(u, \")\", end=\" \")\n",
        "  \n",
        "\n",
        "myDFS(graph)"
      ],
      "execution_count": null,
      "outputs": [
        {
          "output_type": "stream",
          "name": "stdout",
          "text": [
            "( m ( q ( n ( o o ) n ) ( r r ) q ) m ) ( p ( s s ) ( t t ) p ) "
          ]
        }
      ]
    },
    {
      "cell_type": "markdown",
      "metadata": {
        "id": "4or2KZGigPDE"
      },
      "source": [
        "###To Do\n",
        "\n",
        "1. Write a code snippet to classify the edges (tree edge/ back edge/ forward edge/ cross edge). You can modify the above DFS to do the above (make a copy of the code and modify that). \n",
        "\n",
        "For above example it should output (can be different sequence also):\n",
        "* Edge m-q is Tree edge\n",
        "* Edge q-n is Tree edge\n",
        "* Edge n-m is Back edge\n",
        "* Edge n-o is Tree edge\n",
        "* Edge q-r is Tree edge\n",
        "* Edge r-n is Cross edge\n",
        "* ..etc\n",
        "\n",
        "\n",
        "2. Run DFS program for the undirected graph example used in the BFS.\n",
        "\n"
      ]
    },
    {
      "cell_type": "code",
      "metadata": {
        "id": "lQl08ofncY9W",
        "colab": {
          "base_uri": "https://localhost:8080/"
        },
        "outputId": "1c68b961-0c04-4c6b-82d9-11dc6a376e0f"
      },
      "source": [
        "vertices = list(graph.keys())\n",
        "color = {v:\"white\" for v in vertices}\n",
        "pre = {v:\"Null\" for v in vertices}\n",
        "time = 0\n",
        "d = {v:-1 for v in vertices}\n",
        "f = {v:-1 for v in vertices}\n",
        "dicte=dict()\n",
        "  \n",
        "def myfn(G):\n",
        "  for u in vertices:\n",
        "    if color[u]=='white':\n",
        "      DFS(G, u)\n",
        "  for u in vertices:\n",
        "    for v in G[u]:\n",
        "      print('Edge',u,'-',v,'is',dicte[u,v])\n",
        "\n",
        "def DFS(G, u):\n",
        "  global color\n",
        "  global time\n",
        "  global d\n",
        "  global f\n",
        "  global pre\n",
        "  global dicte\n",
        "\n",
        "  color[u] = \"grey\"\n",
        "  time = time+1\n",
        "  d[u] = time\n",
        "  #print(\"(\", u, end=\" \")\n",
        "  for v in G[u]:\n",
        "    if color[v]=='white':\n",
        "      dicte[u,v]='Tree edge'\n",
        "      pre[v]=u\n",
        "      DFS(G, v)\n",
        "    elif color[v]=='grey':\n",
        "      dicte[u,v]='Back edge'\n",
        "    elif color[v]=='black':\n",
        "      i=0\n",
        "      p=u\n",
        "      q=v\n",
        "      while pre[q]!= 'Null':\n",
        "        if pre[q]==p:\n",
        "          i=1\n",
        "          break\n",
        "        q=pre[q]\n",
        "      if i==1:\n",
        "        dicte[u,v]='Forward edge'\n",
        "      else:\n",
        "        dicte[u,v]='cross edge'\n",
        "\n",
        "  color[u]='black'\n",
        "  time=time+1\n",
        "  f[u]=time\n",
        "  #print(u, \")\", end=\" \")\n",
        "  \n",
        "myfn(graph)"
      ],
      "execution_count": null,
      "outputs": [
        {
          "output_type": "stream",
          "name": "stdout",
          "text": [
            "Edge m - q is Tree edge\n",
            "Edge m - r is Forward edge\n",
            "Edge n - m is Back edge\n",
            "Edge n - o is Tree edge\n",
            "Edge p - o is cross edge\n",
            "Edge p - s is Tree edge\n",
            "Edge p - t is Tree edge\n",
            "Edge q - n is Tree edge\n",
            "Edge q - r is Tree edge\n",
            "Edge r - n is cross edge\n",
            "Edge s - r is cross edge\n",
            "Edge t - s is cross edge\n",
            "Edge t - t is Back edge\n"
          ]
        }
      ]
    },
    {
      "cell_type": "code",
      "metadata": {
        "id": "yNEYispln3Uy"
      },
      "source": [
        "graph2 = {\n",
        "  'a' : ['b', 'e'],\n",
        "  'b' : ['a', 'f'],\n",
        "  'c' : ['d', 'f', 'g'],\n",
        "  'd' : ['c', 'h'],\n",
        "  'e' : ['a'],\n",
        "  'f' : ['b', 'c', 'g'],\n",
        "  'g' : ['c', 'f', 'h'],\n",
        "  'h' : ['d', 'g']\n",
        "}"
      ],
      "execution_count": null,
      "outputs": []
    },
    {
      "cell_type": "code",
      "metadata": {
        "colab": {
          "base_uri": "https://localhost:8080/"
        },
        "id": "0g4T_L-5tDcC",
        "outputId": "7680507b-2a54-4340-cda3-9eec68638ace"
      },
      "source": [
        "vertices = list(graph2.keys())\n",
        "color = {v:\"white\" for v in vertices}\n",
        "pre = {v:\"Null\" for v in vertices}\n",
        "time = 0\n",
        "d = {v:-1 for v in vertices}\n",
        "f = {v:-1 for v in vertices}\n",
        "\n",
        "myDFS(graph2)"
      ],
      "execution_count": null,
      "outputs": [
        {
          "output_type": "stream",
          "name": "stdout",
          "text": [
            "( a ( b ( f ( c ( d ( h ( g g ) h ) d ) c ) f ) b ) ( e e ) a ) "
          ]
        }
      ]
    }
  ]
}