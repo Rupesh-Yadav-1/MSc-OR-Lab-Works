{
  "nbformat": 4,
  "nbformat_minor": 0,
  "metadata": {
    "colab": {
      "name": "21i190004_lab5&6.ipynb",
      "provenance": [],
      "collapsed_sections": []
    },
    "kernelspec": {
      "name": "python3",
      "display_name": "Python 3"
    },
    "language_info": {
      "name": "python"
    }
  },
  "cells": [
    {
      "cell_type": "markdown",
      "metadata": {
        "id": "HbTUvXj4ooOo"
      },
      "source": [
        "# Lab 5"
      ]
    },
    {
      "cell_type": "markdown",
      "metadata": {
        "id": "e11U0J4E3IZb"
      },
      "source": [
        "Each Que is done in a single and in same order of given ques"
      ]
    },
    {
      "cell_type": "code",
      "metadata": {
        "colab": {
          "base_uri": "https://localhost:8080/"
        },
        "id": "gOFVFTe_ogR_",
        "outputId": "1beb5460-e8ed-4f8f-8853-44161f461dac"
      },
      "source": [
        "lol=input('Input no. of elements in your list: ')\n",
        "l=int(lol)\n",
        "alist=[]\n",
        "k=0\n",
        "while k<l:\n",
        "  alist.append(int(input('Press enter after giving elements of your list one by one: ')))\n",
        "  k=k+1\n",
        "\n",
        "i=0\n",
        "p=0\n",
        "for i in range(len(alist)):\n",
        "  if alist[i]>0:\n",
        "    i=i+1\n",
        "    p=p+1\n",
        "  else:\n",
        "    i=i+1\n",
        "\n",
        "j=0\n",
        "n=0\n",
        "for j in range(len(alist)):\n",
        "  if alist[j]<0:\n",
        "    j=j+1\n",
        "    n=n+1\n",
        "  else:\n",
        "    j=j+1\n",
        "\n",
        "print('The number of positive numbers is :',p)\n",
        "print('The number of negative numbers is :',n)"
      ],
      "execution_count": 1,
      "outputs": [
        {
          "output_type": "stream",
          "text": [
            "Input no. of elements in your list: 10\n",
            "Press enter after giving elements of your list one by one: 3\n",
            "Press enter after giving elements of your list one by one: -4\n",
            "Press enter after giving elements of your list one by one: -6\n",
            "Press enter after giving elements of your list one by one: 9\n",
            "Press enter after giving elements of your list one by one: 0\n",
            "Press enter after giving elements of your list one by one: 7\n",
            "Press enter after giving elements of your list one by one: 2\n",
            "Press enter after giving elements of your list one by one: 10\n",
            "Press enter after giving elements of your list one by one: -2\n",
            "Press enter after giving elements of your list one by one: -1\n",
            "The number of positive numbers is : 5\n",
            "The number of negative numbers is : 4\n"
          ],
          "name": "stdout"
        }
      ]
    },
    {
      "cell_type": "code",
      "metadata": {
        "colab": {
          "base_uri": "https://localhost:8080/"
        },
        "id": "2WdlbleWqZBM",
        "outputId": "7ea83ac3-9ff6-46c6-9382-fd8c2c3fa572"
      },
      "source": [
        "lol2=input('Input no. of elements in your list: ')\n",
        "l2=int(lol2)\n",
        "blist=[]\n",
        "k=0\n",
        "while k<l2:\n",
        "  blist.append(int(input('Press enter after giving elements of your list one by one: ')))\n",
        "  k=k+1\n",
        "print('Given list is :',blist)\n",
        "\n",
        "i=1\n",
        "while i<l2:\n",
        "  blist[i]=blist[i-1]+blist[i]\n",
        "  i=i+1\n",
        "\n",
        "print('Required list is :',blist)"
      ],
      "execution_count": 2,
      "outputs": [
        {
          "output_type": "stream",
          "text": [
            "Input no. of elements in your list: 10\n",
            "Press enter after giving elements of your list one by one: 3\n",
            "Press enter after giving elements of your list one by one: 4\n",
            "Press enter after giving elements of your list one by one: 6\n",
            "Press enter after giving elements of your list one by one: 9\n",
            "Press enter after giving elements of your list one by one: 0\n",
            "Press enter after giving elements of your list one by one: 7\n",
            "Press enter after giving elements of your list one by one: 2\n",
            "Press enter after giving elements of your list one by one: 10\n",
            "Press enter after giving elements of your list one by one: 2\n",
            "Press enter after giving elements of your list one by one: 1\n",
            "Given list is : [3, 4, 6, 9, 0, 7, 2, 10, 2, 1]\n",
            "Required list is : [3, 7, 13, 22, 22, 29, 31, 41, 43, 44]\n"
          ],
          "name": "stdout"
        }
      ]
    },
    {
      "cell_type": "code",
      "metadata": {
        "colab": {
          "base_uri": "https://localhost:8080/"
        },
        "id": "f9ZmlUY1wuaB",
        "outputId": "5e62f204-5b1c-434d-da29-449d21ec0fd9"
      },
      "source": [
        "lol3=input('Input no. of elements in your list: ')\n",
        "l3=int(lol3)\n",
        "alist=[]\n",
        "k=0\n",
        "while k<l3:\n",
        "  alist.append(int(input('Press enter after giving elements of your list one by one: ')))\n",
        "  k=k+1\n",
        "\n",
        "i=0\n",
        "p=0\n",
        "plist=[]\n",
        "for i in range(len(alist)):\n",
        "  if alist[i]>0:\n",
        "    plist.append(alist[i])\n",
        "    i=i+1\n",
        "  else:\n",
        "    i=i+1\n",
        "\n",
        "j=0\n",
        "n=0\n",
        "nlist=[]\n",
        "for j in range(len(alist)):\n",
        "  if alist[j]<0:\n",
        "    nlist.append(alist[j])\n",
        "    j=j+1\n",
        "  else:\n",
        "    j=j+1\n",
        "\n",
        "print('The list of positive numbers is :',plist)\n",
        "print('The list of negative numbers is :',nlist)"
      ],
      "execution_count": 3,
      "outputs": [
        {
          "output_type": "stream",
          "text": [
            "Input no. of elements in your list: 10\n",
            "Press enter after giving elements of your list one by one: 3\n",
            "Press enter after giving elements of your list one by one: -4\n",
            "Press enter after giving elements of your list one by one: -6\n",
            "Press enter after giving elements of your list one by one: 9\n",
            "Press enter after giving elements of your list one by one: 0\n",
            "Press enter after giving elements of your list one by one: 7\n",
            "Press enter after giving elements of your list one by one: 2\n",
            "Press enter after giving elements of your list one by one: 10\n",
            "Press enter after giving elements of your list one by one: -2\n",
            "Press enter after giving elements of your list one by one: -1\n",
            "The list of positive numbers is : [3, 9, 7, 2, 10]\n",
            "The list of negative numbers is : [-4, -6, -2, -1]\n"
          ],
          "name": "stdout"
        }
      ]
    },
    {
      "cell_type": "code",
      "metadata": {
        "colab": {
          "base_uri": "https://localhost:8080/"
        },
        "id": "UDiS2lF1yUKI",
        "outputId": "9de6da27-d26d-482f-8c15-81c092a4ec4b"
      },
      "source": [
        "lol4=input('Input no. of elements in your list: ')\n",
        "l4=int(lol4)\n",
        "alist=[]\n",
        "k=0\n",
        "while k<l4:\n",
        "  alist.append(int(input('Press enter after giving elements of your list one by one: ')))\n",
        "  k=k+1\n",
        "\n",
        "i=0\n",
        "blist=[]\n",
        "while i<l4:\n",
        "  blist.append(alist[i])\n",
        "  blist.append(alist[i])\n",
        "  i=i+1\n",
        "\n",
        "print('the required list is :',blist)"
      ],
      "execution_count": 4,
      "outputs": [
        {
          "output_type": "stream",
          "text": [
            "Input no. of elements in your list: 3\n",
            "Press enter after giving elements of your list one by one: 2\n",
            "Press enter after giving elements of your list one by one: 3\n",
            "Press enter after giving elements of your list one by one: 1\n",
            "the required list is : [2, 2, 3, 3, 1, 1]\n"
          ],
          "name": "stdout"
        }
      ]
    },
    {
      "cell_type": "code",
      "metadata": {
        "colab": {
          "base_uri": "https://localhost:8080/"
        },
        "id": "KGr2Ilk7z4xG",
        "outputId": "8f4a9b35-dff7-49b4-f3f2-3e08b18b79af"
      },
      "source": [
        "alist=[]\n",
        "print('Enter 5 numbers one by one.')\n",
        "num1=input('Enter 1st number :')\n",
        "n1=int(num1)\n",
        "alist.append(n1)\n",
        "\n",
        "num2=input('Enter 2nd number :')\n",
        "n2=int(num2)\n",
        "alist.append(n2)\n",
        "\n",
        "num3=input('Enter 3rd number :')\n",
        "n3=int(num3)\n",
        "alist.append(n3)\n",
        "\n",
        "num4=input('Enter 4th number :')\n",
        "n4=int(num4)\n",
        "alist.append(n4)\n",
        "\n",
        "num5=input('Enter 5th number :')\n",
        "n5=int(num5)\n",
        "alist.append(n5)\n",
        "\n",
        "print('The list of given numbers is :',alist)\n",
        "print('The maximum of given numbers is :',max(alist))\n",
        "print('The minimum of given numbers is :',min(alist))\n",
        "print('The sum of given numbers is :',sum(alist))"
      ],
      "execution_count": 5,
      "outputs": [
        {
          "output_type": "stream",
          "text": [
            "Enter 5 numbers one by one.\n",
            "Enter 1st number :1\n",
            "Enter 2nd number :2\n",
            "Enter 3rd number :3\n",
            "Enter 4th number :4\n",
            "Enter 5th number :5\n",
            "The list of given numbers is : [1, 2, 3, 4, 5]\n",
            "The maximum of given numbers is : 5\n",
            "The minimum of given numbers is : 1\n",
            "The sum of given numbers is : 15\n"
          ],
          "name": "stdout"
        }
      ]
    },
    {
      "cell_type": "markdown",
      "metadata": {
        "id": "OAjIclRP3DgD"
      },
      "source": [
        "# Lab 6"
      ]
    },
    {
      "cell_type": "code",
      "metadata": {
        "colab": {
          "base_uri": "https://localhost:8080/"
        },
        "id": "5wCySxP73q26",
        "outputId": "a9fc3a72-c0a9-49fd-e52f-fcf5d8972753"
      },
      "source": [
        "A=[2,4,7,53,11,1]\n",
        "B=[23,17,4,35,11,99,2]\n",
        "C=A\n",
        "for i in range(len(B)):\n",
        "  if (B[i] not in A):\n",
        "    C.append(B[i])\n",
        "print(\"Union of A and B=\",C)\n",
        "\n",
        "D=[]\n",
        "for i in range(len(B)):\n",
        "  if (B[i] in A):\n",
        "    D.append(B[i])\n",
        "print(\"intersection of A and B=\",D)\n",
        "\n",
        "E=[]\n",
        "for i in range(len(A)):\n",
        "  if (A[i] not in B):\n",
        "    E.append(A[i])\n",
        "print(\"A-B=\",E)\n",
        "\n",
        "A=[2,4,7,53,11,1]\n",
        "B=[23,17,4,35,11,99,2]\n",
        "F=[]\n",
        "for i in range(len(B)):\n",
        "  if (B[i] not in A):\n",
        "    F.append(B[i])\n",
        "\n",
        "print(\"B-A=\",F)"
      ],
      "execution_count": 17,
      "outputs": [
        {
          "output_type": "stream",
          "text": [
            "Union of A and B= [2, 4, 7, 53, 11, 1, 23, 17, 35, 99]\n",
            "intersection of A and B= [23, 17, 4, 35, 11, 99, 2]\n",
            "A-B= [7, 53, 1]\n",
            "B-A= [23, 17, 35, 99]\n"
          ],
          "name": "stdout"
        }
      ]
    },
    {
      "cell_type": "code",
      "metadata": {
        "colab": {
          "base_uri": "https://localhost:8080/"
        },
        "id": "Xvh-4BZz4KEF",
        "outputId": "f20bfcaa-d003-42b5-c157-034636f7ff54"
      },
      "source": [
        "A1=[2,4,7,53,11,1]\n",
        "A=set(A1)\n",
        "print(A)\n",
        "B1=[23,17,4,35,11,99,2]\n",
        "B=set(B1)\n",
        "print(B)\n",
        "print(\"Union of A and B=\",A|B)\n",
        "print(\"intersection of A and B=\",A&B)\n",
        "print(\"A-B=\",A-B)\n",
        "print(\"B-A=\",B-A)"
      ],
      "execution_count": 9,
      "outputs": [
        {
          "output_type": "stream",
          "text": [
            "{1, 2, 4, 7, 11, 53}\n",
            "{2, 35, 4, 99, 11, 17, 23}\n",
            "Union of A and B= {1, 2, 35, 4, 99, 7, 11, 17, 53, 23}\n",
            "intersection of A and B= {2, 11, 4}\n",
            "A-B= {1, 53, 7}\n",
            "B-A= {99, 17, 35, 23}\n"
          ],
          "name": "stdout"
        }
      ]
    },
    {
      "cell_type": "code",
      "metadata": {
        "colab": {
          "base_uri": "https://localhost:8080/"
        },
        "id": "_zuP2Xp65jSf",
        "outputId": "accee4fd-7c5e-4389-d903-4c1076e76436"
      },
      "source": [
        "students=dict()\n",
        "students['20i190001']='Ram'\n",
        "students['20i190002']='Laxman'\n",
        "students['20i190003']='Sita'\n",
        "\n",
        "rn=input('Give Roll no. :')\n",
        "print(students[rn])"
      ],
      "execution_count": 19,
      "outputs": [
        {
          "output_type": "stream",
          "text": [
            "Give Roll no. :20i190002\n",
            "Laxman\n"
          ],
          "name": "stdout"
        }
      ]
    },
    {
      "cell_type": "code",
      "metadata": {
        "colab": {
          "base_uri": "https://localhost:8080/"
        },
        "id": "1E-BKM-b7vFL",
        "outputId": "08ce1f97-3e2b-43a4-e4a9-ba9a0094b2da"
      },
      "source": [
        "grades=dict()\n",
        "grades['AA']='Excellent'\n",
        "grades['AB']='Very good'\n",
        "grades['BB']='Good'\n",
        "grades['BC']='Average'\n",
        "grades['CC']='Satisfactory'\n",
        "grades['CD']='Pass'\n",
        "grades['DD']='Just Pass'\n",
        "grades['FR']='Fail'\n",
        "\n",
        "g=input('input grade code : ')\n",
        "print(grades[g])"
      ],
      "execution_count": 20,
      "outputs": [
        {
          "output_type": "stream",
          "text": [
            "input grade code : BB\n",
            "Good\n"
          ],
          "name": "stdout"
        }
      ]
    },
    {
      "cell_type": "code",
      "metadata": {
        "colab": {
          "base_uri": "https://localhost:8080/"
        },
        "id": "p1ULWqyaAoZh",
        "outputId": "4a2ce912-6a00-4495-eeb4-c6d1377c2a96"
      },
      "source": [
        "mystr=input('Enter a string : ')\n",
        "mystr_s=set(mystr)\n",
        "B1=[]\n",
        "B=set(B1)\n",
        "\n",
        "al_in_mystr=mystr_s|B  #Stores which characters are in mystr ignoring their no. of appearance\n",
        "print(al_in_mystr)\n",
        "alist=list(al_in_mystr)\n",
        "print(alist)\n",
        "\n",
        "mydict=dict()\n",
        "for i in range(len(al_in_mystr)):\n",
        "  mydict[alist[i]]=0\n",
        "\n",
        "j=0\n",
        "while j<len(al_in_mystr):\n",
        "  for i in range(len(mystr)):\n",
        "    if mystr[i]==alist[j]:\n",
        "      mydict[alist[j]]=mydict[alist[j]]+1\n",
        "  j=j+1\n",
        "\n",
        "print('The following dictionary shows the number of occurence of each character in a string.')\n",
        "print(mydict)"
      ],
      "execution_count": 28,
      "outputs": [
        {
          "output_type": "stream",
          "text": [
            "Enter a string : i study operations research\n",
            "{' ', 's', 'e', 'n', 'r', 'c', 'd', 'u', 'p', 'h', 'o', 't', 'y', 'i', 'a'}\n",
            "[' ', 's', 'e', 'n', 'r', 'c', 'd', 'u', 'p', 'h', 'o', 't', 'y', 'i', 'a']\n",
            "The following dictionary shows the number of occurence of each character in a string.\n",
            "{' ': 3, 's': 3, 'e': 3, 'n': 1, 'r': 3, 'c': 1, 'd': 1, 'u': 1, 'p': 1, 'h': 1, 'o': 2, 't': 2, 'y': 1, 'i': 2, 'a': 2}\n"
          ],
          "name": "stdout"
        }
      ]
    },
    {
      "cell_type": "markdown",
      "metadata": {
        "id": "p3ZnNnAMIoGh"
      },
      "source": [
        "**Different part of E6 are done in different cells, following the order**"
      ]
    },
    {
      "cell_type": "code",
      "metadata": {
        "colab": {
          "base_uri": "https://localhost:8080/"
        },
        "id": "TOVY6VV3AzNf",
        "outputId": "d2151934-14b5-42e5-ab13-f93cfbd2e309"
      },
      "source": [
        "dict1=dict()\n",
        "dict1['SS']='Sriram Singh'\n",
        "dict1['JA']='Joseph G. Abraham'\n",
        "dict1['RM']='Ranjith Maheshwary'\n",
        "dict1['BP']='Bahadur Prasas'\n",
        "dict1['TL']='Tintu Luka'\n",
        "dict1['PS']='Preeja Sreedharan'\n",
        "dict1['PU']='P.T Usha'\n",
        "dict1['MS']='Milkha Singh'\n",
        "\n",
        "list1=['MS','MS','PU','MS','SS','PS','SS','RM','BP','MS','SS','RM','MS','MS','PU','BP','PS','BP','PS','MS']\n",
        "print(len(list1))\n",
        "\n",
        "for i in range(len(list1)):\n",
        "  print(dict1[list1[i]],' won the race on ',i,'th day')"
      ],
      "execution_count": 36,
      "outputs": [
        {
          "output_type": "stream",
          "text": [
            "20\n",
            "Milkha Singh  won the race on  0 th day\n",
            "Milkha Singh  won the race on  1 th day\n",
            "P.T Usha  won the race on  2 th day\n",
            "Milkha Singh  won the race on  3 th day\n",
            "Sriram Singh  won the race on  4 th day\n",
            "Preeja Sreedharan  won the race on  5 th day\n",
            "Sriram Singh  won the race on  6 th day\n",
            "Ranjith Maheshwary  won the race on  7 th day\n",
            "Bahadur Prasas  won the race on  8 th day\n",
            "Milkha Singh  won the race on  9 th day\n",
            "Sriram Singh  won the race on  10 th day\n",
            "Ranjith Maheshwary  won the race on  11 th day\n",
            "Milkha Singh  won the race on  12 th day\n",
            "Milkha Singh  won the race on  13 th day\n",
            "P.T Usha  won the race on  14 th day\n",
            "Bahadur Prasas  won the race on  15 th day\n",
            "Preeja Sreedharan  won the race on  16 th day\n",
            "Bahadur Prasas  won the race on  17 th day\n",
            "Preeja Sreedharan  won the race on  18 th day\n",
            "Milkha Singh  won the race on  19 th day\n"
          ],
          "name": "stdout"
        }
      ]
    },
    {
      "cell_type": "code",
      "metadata": {
        "colab": {
          "base_uri": "https://localhost:8080/"
        },
        "id": "NCtm_7YgFcQb",
        "outputId": "440fb71b-93ba-4503-db1d-4e8df2e7a425"
      },
      "source": [
        "k1=input('Enter any day from 1 to 20: ')\n",
        "k=int(k1)\n",
        "print(dict1[list1[k-1]],' won the race on ',k,'th day')"
      ],
      "execution_count": 40,
      "outputs": [
        {
          "output_type": "stream",
          "text": [
            "Enter any day from 1 to 20: 12\n",
            "Ranjith Maheshwary  won the race on  12 th day\n"
          ],
          "name": "stdout"
        }
      ]
    },
    {
      "cell_type": "code",
      "metadata": {
        "colab": {
          "base_uri": "https://localhost:8080/"
        },
        "id": "mDJKvWgdK_88",
        "outputId": "15a827f9-6969-43a2-98d9-8b09b18a36a9"
      },
      "source": [
        "list2=set(list1)\n",
        "B1=[]\n",
        "B=set(B1)\n",
        "C1=list2|B\n",
        "print(C1)\n",
        "\n",
        "C=list(C1)\n",
        "print(C)\n",
        "\n",
        "print('Following players won the race atleast once:')\n",
        "for i in range(len(C)):\n",
        "  print(dict1[C[i]])"
      ],
      "execution_count": 54,
      "outputs": [
        {
          "output_type": "stream",
          "text": [
            "{'SS', 'RM', 'MS', 'PU', 'PS', 'BP'}\n",
            "['SS', 'RM', 'MS', 'PU', 'PS', 'BP']\n",
            "Following players the race atleast once:\n",
            "Sriram Singh\n",
            "Ranjith Maheshwary\n",
            "Milkha Singh\n",
            "P.T Usha\n",
            "Preeja Sreedharan\n",
            "Bahadur Prasas\n"
          ],
          "name": "stdout"
        }
      ]
    },
    {
      "cell_type": "code",
      "metadata": {
        "colab": {
          "base_uri": "https://localhost:8080/"
        },
        "id": "lwq9emdRPHBc",
        "outputId": "cfc6fa7a-ff1b-4274-ffda-029aae87363d"
      },
      "source": [
        "S1=set(dict1.keys())\n",
        "print(S1)\n",
        "\n",
        "L2=list(S1-C1)\n",
        "print('Following players did not win the race atleast once:')\n",
        "for i in range(len(L2)):\n",
        "  print(dict1[L2[i]])"
      ],
      "execution_count": 66,
      "outputs": [
        {
          "output_type": "stream",
          "text": [
            "{'RM', 'MS', 'PU', 'PS', 'SS', 'TL', 'JA', 'BP'}\n",
            "Following players did not win the race atleast once:\n",
            "Joseph G. Abraham\n",
            "Tintu Luka\n"
          ],
          "name": "stdout"
        }
      ]
    },
    {
      "cell_type": "code",
      "metadata": {
        "colab": {
          "base_uri": "https://localhost:8080/"
        },
        "id": "k-fRG89cNY72",
        "outputId": "231381e5-a9c9-487c-8514-0362c038ad74"
      },
      "source": [
        "for i in range(len(C)):\n",
        "  print('Number of times ',dict1[C[i]],' won is: ',list1.count(C[i]))\n",
        "\n",
        "for i in range(len(L2)):\n",
        "  print('Number of times ',dict1[L2[i]],' won is: ',list1.count(L2[i]))"
      ],
      "execution_count": 67,
      "outputs": [
        {
          "output_type": "stream",
          "text": [
            "Number of times  Sriram Singh  won is:  3\n",
            "Number of times  Ranjith Maheshwary  won is:  2\n",
            "Number of times  Milkha Singh  won is:  7\n",
            "Number of times  P.T Usha  won is:  2\n",
            "Number of times  Preeja Sreedharan  won is:  3\n",
            "Number of times  Bahadur Prasas  won is:  3\n",
            "Number of times  Joseph G. Abraham  won is:  0\n",
            "Number of times  Tintu Luka  won is:  0\n"
          ],
          "name": "stdout"
        }
      ]
    },
    {
      "cell_type": "code",
      "metadata": {
        "id": "5Yr1KGyhR6UJ"
      },
      "source": [
        ""
      ],
      "execution_count": null,
      "outputs": []
    }
  ]
}