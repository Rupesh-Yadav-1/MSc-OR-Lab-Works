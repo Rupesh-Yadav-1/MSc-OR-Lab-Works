{
  "nbformat": 4,
  "nbformat_minor": 0,
  "metadata": {
    "colab": {
      "name": "21i190004-lab01.ipynb",
      "provenance": [],
      "collapsed_sections": []
    },
    "kernelspec": {
      "name": "python3",
      "display_name": "Python 3"
    },
    "language_info": {
      "name": "python"
    }
  },
  "cells": [
    {
      "cell_type": "code",
      "metadata": {
        "colab": {
          "base_uri": "https://localhost:8080/"
        },
        "id": "aEkU3Afca9jg",
        "outputId": "b872f587-0db4-4b5c-a87f-7adf1b2c5d37"
      },
      "source": [
        "length= 15\n",
        "width=7.0\n",
        "myshape=' rectangle'\n",
        "print(\"we are showing the expression followed by output and then the type of the value\")\n",
        "print(\"length/3                               \", length/3, type(length/3))\n",
        "print(\"width/2                                \", width/2, type(width/2))\n",
        "print(\"length/3.0                             \", length/3.0, type(length/3.0))\n",
        "print(\"length/width                           \", length/width, type(length/width))\n",
        "\n",
        "x= (width+length)/length > length/width\n",
        "\n",
        "print(\"(width+length)/length > length/width   \", x, type(x))\n",
        "print(\"myshape + myshape                     \", myshape+myshape, type(myshape+myshape))\n",
        "print(\"myshape*3                             \", myshape*3, type(myshape*3))"
      ],
      "execution_count": 8,
      "outputs": [
        {
          "output_type": "stream",
          "text": [
            "we are showing the expression followed by output and then the type of the value\n",
            "length/3                                5.0 <class 'float'>\n",
            "width/2                                 3.5 <class 'float'>\n",
            "length/3.0                              5.0 <class 'float'>\n",
            "length/width                            2.142857142857143 <class 'float'>\n",
            "(width+length)/length > length/width    False <class 'bool'>\n",
            "myshape + myshape                       rectangle rectangle <class 'str'>\n",
            "myshape*3                               rectangle rectangle rectangle <class 'str'>\n"
          ],
          "name": "stdout"
        }
      ]
    },
    {
      "cell_type": "code",
      "metadata": {
        "colab": {
          "base_uri": "https://localhost:8080/"
        },
        "id": "62VXGPO1cS-O",
        "outputId": "dd45ffde-d1b2-47fc-9626-e1fc95b60646"
      },
      "source": [
        "pi=3.1415926\n",
        "1/(2*pi)"
      ],
      "execution_count": 9,
      "outputs": [
        {
          "output_type": "execute_result",
          "data": {
            "text/plain": [
              "0.15915494580678602"
            ]
          },
          "metadata": {
            "tags": []
          },
          "execution_count": 9
        }
      ]
    },
    {
      "cell_type": "code",
      "metadata": {
        "colab": {
          "base_uri": "https://localhost:8080/"
        },
        "id": "XaBRy3H5cvVx",
        "outputId": "fbcb0c64-fcbb-44ba-bfeb-8a79e8ab4dbb"
      },
      "source": [
        "a= 6\n",
        "b= -17\n",
        "c= 12\n",
        "x1= (-b+(b*b-4*a*c)**(0.5))/(2*a)\n",
        "x2= (-b-(b*b-4*a*c)**(0.5))/(2*a)\n",
        "print(\"One root of the given quadratic equation is \", x1)\n",
        "print(\"and the other root is\", x2)"
      ],
      "execution_count": 10,
      "outputs": [
        {
          "output_type": "stream",
          "text": [
            "One root of the given quadratic equation is  1.5\n",
            "and the other root is 1.3333333333333333\n"
          ],
          "name": "stdout"
        }
      ]
    },
    {
      "cell_type": "code",
      "metadata": {
        "colab": {
          "base_uri": "https://localhost:8080/"
        },
        "id": "7OqUnReadpaA",
        "outputId": "b59eacbf-a681-4b8b-e5df-010265e1f69f"
      },
      "source": [
        "distance= 10\n",
        "ttakeninsec= 43*60 + 30\n",
        "ttakeninhr= 43.5/60\n",
        "avtime= ttakeninsec/distance\n",
        "avspeed= distance/ttakeninhr\n",
        "print(\"My average time per km is \",avtime//60 ,\"minutes\", avtime%60, \"seconds\")\n",
        "print(\"My average speed in km per hour is \",avspeed)"
      ],
      "execution_count": 11,
      "outputs": [
        {
          "output_type": "stream",
          "text": [
            "My average time per km is  4.0 minutes 21.0 seconds\n",
            "My average speed in km per hour is  13.793103448275863\n"
          ],
          "name": "stdout"
        }
      ]
    }
  ]
}