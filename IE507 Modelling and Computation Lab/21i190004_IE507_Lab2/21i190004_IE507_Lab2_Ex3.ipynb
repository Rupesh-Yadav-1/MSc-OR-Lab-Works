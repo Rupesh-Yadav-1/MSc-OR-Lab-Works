{
  "nbformat": 4,
  "nbformat_minor": 0,
  "metadata": {
    "colab": {
      "name": "21i190004_IE507_Lab2_Ex3.ipynb",
      "provenance": [],
      "collapsed_sections": []
    },
    "kernelspec": {
      "name": "python3",
      "display_name": "Python 3"
    },
    "language_info": {
      "name": "python"
    }
  },
  "cells": [
    {
      "cell_type": "markdown",
      "metadata": {
        "id": "YzP-AAAc9SHx"
      },
      "source": [
        "**Ex 3 part 1**"
      ]
    },
    {
      "cell_type": "markdown",
      "metadata": {
        "id": "e8S5vuaHGSZU"
      },
      "source": [
        "Let $x_i 's$ be the amount(in tonns) of alloys A-i's used from the in house stock and $y_i's$ be the amount of alloys A-i's used from market respectively. So, our objective is to minimize the cost of production. \\\\\n",
        "Hence the required LPP is \\\\\n",
        "\n",
        "$\n",
        "\\min \\ 35 x_1 + 50 x_2 + 58 x_3 + 60 x_4 +44x_5+39x_6+45x_7+55x_8+35x_9+40x_{10} + 72 y_1 + 95 y_2 + 110 y_3 + 125 y_4 +88y_5+74y_6+95y_7+110y_8+60y_9+84y_{10} \\\\\n",
        "$\n",
        "\n",
        " s.t.\n",
        " \n",
        "$\n",
        "0.20 (x_1+y_1) + 0.20 (x_2+y_2) + 0.25 (x_3+y_3) + 0.15 (x_4+y_4) +0.10(x_5+y_5)+0.25(x_6+y_6)-0.15(x_7+y_7)+0.20(x_8+y_8)+0.05(x_9+y_9)-0.20(x_{10}+y_{10}) = 0 \\\\\n",
        "$\n",
        "$\n",
        "0.35 (x_1+y_1) + 0.30 (x_2+y_2) + 0.30 (x_3+y_3) + 0.15 (x_4+y_4) +0.10(x_5+y_5)+0.10(x_6+y_6)-0.05(x_7+y_7)-0.10(x_8+y_8)-0.15(x_9+y_9)-0.15(x_{10}+y_{10}) = 0 \\\\\n",
        "$\n",
        "$\n",
        "0.15(x_1+y_1) + 0.10 (x_2+y_2) + 0.05 (x_3+y_3) + 0 (x_4+y_4) +0(x_5+y_5)-0.15(x_6+y_6)+0.10(x_7+y_7)-0.30(x_8+y_8)+0.20(x_9+y_9)+0.05(x_{10}+y_{10}) = 0 \\\\\n",
        "$\n",
        "$\n",
        " (x_1+y_1) +  (x_2+y_2) +  (x_3+y_3) +  (x_4+y_4) +(x_5+y_5)+(x_6+y_6)+(x_7+y_7)+(x_8+y_8)+(x_9+y_9)+(x_{10}+y_{10}) = 450 \\\\\n",
        " x_1 \\leq 12 , x_2 \\leq 9,  x_3 \\leq 16,  x_4 \\leq 25, x_5\\leq 4,x_6\\leq 5,x_7\\leq 10,x_8 \\leq 13,x_9 \\leq 0,x_{10} \\leq 6 \\\\\n",
        " x_i \\geq 0 , i=1,..,10 \\\\\n",
        " y_i \\geq 0 , i=1,..,10 \\\\\n",
        "$ \n",
        "\n",
        "\n"
      ]
    },
    {
      "cell_type": "code",
      "metadata": {
        "id": "1wu4WI1dGQxa",
        "colab": {
          "base_uri": "https://localhost:8080/"
        },
        "outputId": "ab268180-87bc-406b-d1ee-82563d165ad4"
      },
      "source": [
        "!pip install -q pyomo\n",
        "from pyomo.environ import *\n",
        "import numpy as np"
      ],
      "execution_count": 1,
      "outputs": [
        {
          "output_type": "stream",
          "text": [
            "\u001b[K     |████████████████████████████████| 8.9 MB 4.8 MB/s \n",
            "\u001b[K     |████████████████████████████████| 49 kB 5.7 MB/s \n",
            "\u001b[?25h"
          ],
          "name": "stdout"
        }
      ]
    },
    {
      "cell_type": "code",
      "metadata": {
        "id": "loPlZAG_M-2T"
      },
      "source": [
        "model = ConcreteModel()"
      ],
      "execution_count": 2,
      "outputs": []
    },
    {
      "cell_type": "code",
      "metadata": {
        "id": "v4kisY-1M_TA"
      },
      "source": [
        "N = 20\n",
        "M = 4"
      ],
      "execution_count": 3,
      "outputs": []
    },
    {
      "cell_type": "code",
      "metadata": {
        "id": "DFMV5JkLM_rh"
      },
      "source": [
        "obj_coef_c = np.array([35,50, 58, 60,44, 39,45,55, 35, 40,72,95,110,125,88,74,95,115,60,84])"
      ],
      "execution_count": 4,
      "outputs": []
    },
    {
      "cell_type": "code",
      "metadata": {
        "id": "0SGeG6MeNERC"
      },
      "source": [
        "constr_coef_A = np.array([[0.20,0.20,0.25,0.15,0.10,0.25,-0.15,0.20,0.05,-0.20,0.20,0.20,0.25,0.15,0.10,0.25,-0.15,0.20,0.05,-0.20],[0.35,0.30,0.30,0.15,0.10,0.10,-0.05,-0.10,-0.15,-0.15,0.35,0.30,0.30,0.15,0.10,0.10,-0.05,-0.10,-0.15,-0.15],[0.15,0.10,0.05,0,0,-0.15,0.10,-0.30,-0.20,0.05,0.15,0.10,0.05,0,0,-0.15,0.10,-0.30,-0.20,0.05],[1,1,1,1,1,1,1,1,1,1,1,1,1,1,1,1,1,1,1,1]])"
      ],
      "execution_count": 5,
      "outputs": []
    },
    {
      "cell_type": "code",
      "metadata": {
        "id": "RDsWlV3WNF_7"
      },
      "source": [
        "constr_rhs_b = np.array([0,0,0,450])"
      ],
      "execution_count": 6,
      "outputs": []
    },
    {
      "cell_type": "code",
      "metadata": {
        "id": "vj5K0vkBNIsL"
      },
      "source": [
        "lower_bound = np.array([0,0,0,0,0,0,0,0,0,0,0,0,0,0,0,0,0,0,0,0])\n",
        "upper_bound = np.array([12,9,16,25,4,5,10,13,0,6,450,450,450,450,450,450,450,450,450,450])\n",
        "#obviously y_i's are bounded above by one as total demand is 450 "
      ],
      "execution_count": 7,
      "outputs": []
    },
    {
      "cell_type": "code",
      "metadata": {
        "id": "jWNOY9yCPZw1"
      },
      "source": [
        "col_indices = np.arange(N)\n",
        "row_indices = np.arange(M)"
      ],
      "execution_count": 8,
      "outputs": []
    },
    {
      "cell_type": "code",
      "metadata": {
        "id": "98upc7-HPdwJ"
      },
      "source": [
        "model.x = Var(col_indices)\n",
        "#consider y[1] as x[11], y[2] as x[12], and similarly"
      ],
      "execution_count": 9,
      "outputs": []
    },
    {
      "cell_type": "code",
      "metadata": {
        "id": "E5PUELNtPeC3"
      },
      "source": [
        "model.constraints = ConstraintList()"
      ],
      "execution_count": 10,
      "outputs": []
    },
    {
      "cell_type": "code",
      "metadata": {
        "id": "FugpSVr1PeU-"
      },
      "source": [
        "for i in row_indices:\n",
        "  model.constraints.add(sum(constr_coef_A[i,j]*model.x[j] for j in col_indices) == constr_rhs_b[i])"
      ],
      "execution_count": 11,
      "outputs": []
    },
    {
      "cell_type": "code",
      "metadata": {
        "id": "n3_rS3s3PkGX"
      },
      "source": [
        "for j in col_indices:\n",
        "  model.x[j].setlb(lower_bound[j])\n",
        "  model.x[j].setub(upper_bound[j])"
      ],
      "execution_count": 12,
      "outputs": []
    },
    {
      "cell_type": "code",
      "metadata": {
        "id": "FYTwGN8MPmH9"
      },
      "source": [
        "model.objective = Objective(expr = sum(obj_coef_c[j]*model.x[j] for j in col_indices), sense=minimize)"
      ],
      "execution_count": 13,
      "outputs": []
    },
    {
      "cell_type": "code",
      "metadata": {
        "colab": {
          "base_uri": "https://localhost:8080/"
        },
        "id": "VYlqazAAPoqJ",
        "outputId": "794059ff-9f28-4d9c-ef93-2cd716e96203"
      },
      "source": [
        "model.pprint()"
      ],
      "execution_count": 14,
      "outputs": [
        {
          "output_type": "stream",
          "text": [
            "2 Set Declarations\n",
            "    constraints_index : Size=1, Index=None, Ordered=Insertion\n",
            "        Key  : Dimen : Domain : Size : Members\n",
            "        None :     1 :    Any :    4 : {1, 2, 3, 4}\n",
            "    x_index : Size=1, Index=None, Ordered=False\n",
            "        Key  : Dimen : Domain : Size : Members\n",
            "        None :     1 :    Any :   20 : {0, 1, 2, 3, 4, 5, 6, 7, 8, 9, 10, 11, 12, 13, 14, 15, 16, 17, 18, 19}\n",
            "\n",
            "1 Var Declarations\n",
            "    x : Size=20, Index=x_index\n",
            "        Key : Lower : Value : Upper : Fixed : Stale : Domain\n",
            "          0 :     0 :  None :    12 : False :  True :  Reals\n",
            "          1 :     0 :  None :     9 : False :  True :  Reals\n",
            "          2 :     0 :  None :    16 : False :  True :  Reals\n",
            "          3 :     0 :  None :    25 : False :  True :  Reals\n",
            "          4 :     0 :  None :     4 : False :  True :  Reals\n",
            "          5 :     0 :  None :     5 : False :  True :  Reals\n",
            "          6 :     0 :  None :    10 : False :  True :  Reals\n",
            "          7 :     0 :  None :    13 : False :  True :  Reals\n",
            "          8 :     0 :  None :     0 : False :  True :  Reals\n",
            "          9 :     0 :  None :     6 : False :  True :  Reals\n",
            "         10 :     0 :  None :   450 : False :  True :  Reals\n",
            "         11 :     0 :  None :   450 : False :  True :  Reals\n",
            "         12 :     0 :  None :   450 : False :  True :  Reals\n",
            "         13 :     0 :  None :   450 : False :  True :  Reals\n",
            "         14 :     0 :  None :   450 : False :  True :  Reals\n",
            "         15 :     0 :  None :   450 : False :  True :  Reals\n",
            "         16 :     0 :  None :   450 : False :  True :  Reals\n",
            "         17 :     0 :  None :   450 : False :  True :  Reals\n",
            "         18 :     0 :  None :   450 : False :  True :  Reals\n",
            "         19 :     0 :  None :   450 : False :  True :  Reals\n",
            "\n",
            "1 Objective Declarations\n",
            "    objective : Size=1, Index=None, Active=True\n",
            "        Key  : Active : Sense    : Expression\n",
            "        None :   True : minimize : 35*x[0] + 50*x[1] + 58*x[2] + 60*x[3] + 44*x[4] + 39*x[5] + 45*x[6] + 55*x[7] + 35*x[8] + 40*x[9] + 72*x[10] + 95*x[11] + 110*x[12] + 125*x[13] + 88*x[14] + 74*x[15] + 95*x[16] + 115*x[17] + 60*x[18] + 84*x[19]\n",
            "\n",
            "1 Constraint Declarations\n",
            "    constraints : Size=4, Index=constraints_index, Active=True\n",
            "        Key : Lower : Body                                                                                                                                                                                                                                          : Upper : Active\n",
            "          1 :   0.0 : 0.2*x[0] + 0.2*x[1] + 0.25*x[2] + 0.15*x[3] + 0.1*x[4] + 0.25*x[5] - 0.15*x[6] + 0.2*x[7] + 0.05*x[8] - 0.2*x[9] + 0.2*x[10] + 0.2*x[11] + 0.25*x[12] + 0.15*x[13] + 0.1*x[14] + 0.25*x[15] - 0.15*x[16] + 0.2*x[17] + 0.05*x[18] - 0.2*x[19] :   0.0 :   True\n",
            "          2 :   0.0 : 0.35*x[0] + 0.3*x[1] + 0.3*x[2] + 0.15*x[3] + 0.1*x[4] + 0.1*x[5] - 0.05*x[6] - 0.1*x[7] - 0.15*x[8] - 0.15*x[9] + 0.35*x[10] + 0.3*x[11] + 0.3*x[12] + 0.15*x[13] + 0.1*x[14] + 0.1*x[15] - 0.05*x[16] - 0.1*x[17] - 0.15*x[18] - 0.15*x[19] :   0.0 :   True\n",
            "          3 :   0.0 :                                                 0.15*x[0] + 0.1*x[1] + 0.05*x[2] - 0.15*x[5] + 0.1*x[6] - 0.3*x[7] - 0.2*x[8] + 0.05*x[9] + 0.15*x[10] + 0.1*x[11] + 0.05*x[12] - 0.15*x[15] + 0.1*x[16] - 0.3*x[17] - 0.2*x[18] + 0.05*x[19] :   0.0 :   True\n",
            "          4 : 450.0 :                                                                                           x[0] + x[1] + x[2] + x[3] + x[4] + x[5] + x[6] + x[7] + x[8] + x[9] + x[10] + x[11] + x[12] + x[13] + x[14] + x[15] + x[16] + x[17] + x[18] + x[19] : 450.0 :   True\n",
            "\n",
            "5 Declarations: x_index x constraints_index constraints objective\n"
          ],
          "name": "stdout"
        }
      ]
    },
    {
      "cell_type": "code",
      "metadata": {
        "colab": {
          "base_uri": "https://localhost:8080/"
        },
        "id": "m6y4ffSrQSQV",
        "outputId": "cb9e288e-3caa-4ad2-d50b-ea61a802836a"
      },
      "source": [
        "!apt-get install -y -qq glpk-utils\n",
        "SolverFactory('glpk', executable='/usr/bin/glpsol').solve(model).write()"
      ],
      "execution_count": 15,
      "outputs": [
        {
          "output_type": "stream",
          "text": [
            "Selecting previously unselected package libsuitesparseconfig5:amd64.\n",
            "(Reading database ... 160837 files and directories currently installed.)\n",
            "Preparing to unpack .../libsuitesparseconfig5_1%3a5.1.2-2_amd64.deb ...\n",
            "Unpacking libsuitesparseconfig5:amd64 (1:5.1.2-2) ...\n",
            "Selecting previously unselected package libamd2:amd64.\n",
            "Preparing to unpack .../libamd2_1%3a5.1.2-2_amd64.deb ...\n",
            "Unpacking libamd2:amd64 (1:5.1.2-2) ...\n",
            "Selecting previously unselected package libcolamd2:amd64.\n",
            "Preparing to unpack .../libcolamd2_1%3a5.1.2-2_amd64.deb ...\n",
            "Unpacking libcolamd2:amd64 (1:5.1.2-2) ...\n",
            "Selecting previously unselected package libglpk40:amd64.\n",
            "Preparing to unpack .../libglpk40_4.65-1_amd64.deb ...\n",
            "Unpacking libglpk40:amd64 (4.65-1) ...\n",
            "Selecting previously unselected package glpk-utils.\n",
            "Preparing to unpack .../glpk-utils_4.65-1_amd64.deb ...\n",
            "Unpacking glpk-utils (4.65-1) ...\n",
            "Setting up libsuitesparseconfig5:amd64 (1:5.1.2-2) ...\n",
            "Setting up libcolamd2:amd64 (1:5.1.2-2) ...\n",
            "Setting up libamd2:amd64 (1:5.1.2-2) ...\n",
            "Setting up libglpk40:amd64 (4.65-1) ...\n",
            "Setting up glpk-utils (4.65-1) ...\n",
            "Processing triggers for libc-bin (2.27-3ubuntu1.2) ...\n",
            "/sbin/ldconfig.real: /usr/local/lib/python3.7/dist-packages/ideep4py/lib/libmkldnn.so.0 is not a symbolic link\n",
            "\n",
            "Processing triggers for man-db (2.8.3-2ubuntu0.1) ...\n",
            "# ==========================================================\n",
            "# = Solver Results                                         =\n",
            "# ==========================================================\n",
            "# ----------------------------------------------------------\n",
            "#   Problem Information\n",
            "# ----------------------------------------------------------\n",
            "Problem: \n",
            "- Name: unknown\n",
            "  Lower bound: 31013.4\n",
            "  Upper bound: 31013.4\n",
            "  Number of objectives: 1\n",
            "  Number of constraints: 5\n",
            "  Number of variables: 21\n",
            "  Number of nonzeros: 77\n",
            "  Sense: minimize\n",
            "# ----------------------------------------------------------\n",
            "#   Solver Information\n",
            "# ----------------------------------------------------------\n",
            "Solver: \n",
            "- Status: ok\n",
            "  Termination condition: optimal\n",
            "  Statistics: \n",
            "    Branch and bound: \n",
            "      Number of bounded subproblems: 0\n",
            "      Number of created subproblems: 0\n",
            "  Error rc: 0\n",
            "  Time: 0.010517358779907227\n",
            "# ----------------------------------------------------------\n",
            "#   Solution Information\n",
            "# ----------------------------------------------------------\n",
            "Solution: \n",
            "- number of solutions: 0\n",
            "  number of solutions displayed: 0\n"
          ],
          "name": "stdout"
        }
      ]
    },
    {
      "cell_type": "markdown",
      "metadata": {
        "id": "76OBke-79Znk"
      },
      "source": [
        "**Ex 3 part 3**"
      ]
    },
    {
      "cell_type": "code",
      "metadata": {
        "colab": {
          "base_uri": "https://localhost:8080/"
        },
        "id": "LyO6mhPuQmjy",
        "outputId": "073b6fca-7d28-4b10-8301-b971bbd7555e"
      },
      "source": [
        "# display solution\n",
        "print('\\noptimal value of Cost = ', model.objective())\n",
        "\n",
        "print('\\nValue of Decision Variables at optimal solutions')\n",
        "for i in col_indices:\n",
        "  print('x[',i,'] = ', model.x[i].value)\n",
        "\n",
        "print('\\nConstraints')\n",
        "model.constraints.display()"
      ],
      "execution_count": 16,
      "outputs": [
        {
          "output_type": "stream",
          "text": [
            "\n",
            "optimal value of Cost =  31013.4\n",
            "\n",
            "Value of Decision Variables at optimal solutions\n",
            "x[ 0 ] =  12.0\n",
            "x[ 1 ] =  9.0\n",
            "x[ 2 ] =  16.0\n",
            "x[ 3 ] =  25.0\n",
            "x[ 4 ] =  4.0\n",
            "x[ 5 ] =  5.0\n",
            "x[ 6 ] =  10.0\n",
            "x[ 7 ] =  0.0\n",
            "x[ 8 ] =  0.0\n",
            "x[ 9 ] =  6.0\n",
            "x[ 10 ] =  79.0\n",
            "x[ 11 ] =  0.0\n",
            "x[ 12 ] =  0.0\n",
            "x[ 13 ] =  0.0\n",
            "x[ 14 ] =  0.0\n",
            "x[ 15 ] =  0.0\n",
            "x[ 16 ] =  0.0\n",
            "x[ 17 ] =  0.0\n",
            "x[ 18 ] =  120.4\n",
            "x[ 19 ] =  163.6\n",
            "\n",
            "Constraints\n",
            "constraints : Size=4\n",
            "    Key : Lower : Body                   : Upper\n",
            "      1 :   0.0 :                    0.0 :   0.0\n",
            "      2 :   0.0 :  3.552713678800501e-15 :   0.0\n",
            "      3 :   0.0 : -3.552713678800501e-15 :   0.0\n",
            "      4 : 450.0 :                  450.0 : 450.0\n"
          ],
          "name": "stdout"
        }
      ]
    },
    {
      "cell_type": "markdown",
      "metadata": {
        "id": "yilj8lJ69dXP"
      },
      "source": [
        "**Ex 3 part 4**"
      ]
    },
    {
      "cell_type": "markdown",
      "metadata": {
        "id": "ynwUfVmI9wK6"
      },
      "source": [
        "Among the alloys that need to be bought from the market, \\\\\n",
        "A-10 , A-9 , A-1 are ranked high in terms of quantity and A-2 , A-3 , A-4 are ranked low"
      ]
    },
    {
      "cell_type": "markdown",
      "metadata": {
        "id": "dY_fGiRB-rQ3"
      },
      "source": [
        "**Ex 3 part 5**"
      ]
    },
    {
      "cell_type": "markdown",
      "metadata": {
        "id": "PT_maMPm-x_G"
      },
      "source": [
        "Yes, every present stock except A-8 is completely utilized because all the $ x_i's $ except $x_7$ are getting their upper bound (upper bound denotes their amount of availability in house stock) in optimal solution."
      ]
    },
    {
      "cell_type": "markdown",
      "metadata": {
        "id": "SuATv3fr-wVm"
      },
      "source": [
        "**Ex 3 part 6**"
      ]
    },
    {
      "cell_type": "markdown",
      "metadata": {
        "id": "QcocGc4M-y02"
      },
      "source": [
        "yes, alloys A-2, A-3, A-4, A-5, A-6, A-7, A-8 need not be acquired from market. whereas alloys A-1, A-9, A-10 needs to be acquired from market as only their corrosponding value of $ x_{10}, x_{18}, x_{19} $ are positive(not zero) (which denotes the amount of those alloy which need to be bought from market)"
      ]
    }
  ]
}