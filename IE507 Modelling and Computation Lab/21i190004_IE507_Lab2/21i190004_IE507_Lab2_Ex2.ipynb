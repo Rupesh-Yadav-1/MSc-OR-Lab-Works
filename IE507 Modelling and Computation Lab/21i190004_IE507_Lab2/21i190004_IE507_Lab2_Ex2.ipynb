{
  "nbformat": 4,
  "nbformat_minor": 0,
  "metadata": {
    "colab": {
      "name": "21i190004_IE507_Lab2_Ex2.ipynb",
      "provenance": [],
      "collapsed_sections": []
    },
    "kernelspec": {
      "name": "python3",
      "display_name": "Python 3"
    },
    "language_info": {
      "name": "python"
    }
  },
  "cells": [
    {
      "cell_type": "code",
      "metadata": {
        "id": "UkSCuS8AgKjh"
      },
      "source": [
        "!pip install -q pyomo\n",
        "from pyomo.environ import *\n",
        "import numpy as np"
      ],
      "execution_count": 1,
      "outputs": []
    },
    {
      "cell_type": "code",
      "metadata": {
        "id": "P8eHRB2chuKK"
      },
      "source": [
        "model = ConcreteModel()"
      ],
      "execution_count": 2,
      "outputs": []
    },
    {
      "cell_type": "code",
      "metadata": {
        "id": "Byi7TJY1hxeK"
      },
      "source": [
        "N = 10\n",
        "M = 4"
      ],
      "execution_count": 3,
      "outputs": []
    },
    {
      "cell_type": "code",
      "metadata": {
        "id": "gPyRJb_NiKCr"
      },
      "source": [
        "obj_coef_c = np.array([-9.6,-2.85, 41.5, 33.05,-0.75, 20.5,-0.35,-31.02, 50.65, 6.125])"
      ],
      "execution_count": 4,
      "outputs": []
    },
    {
      "cell_type": "code",
      "metadata": {
        "id": "Zjy5TRNPj59Y"
      },
      "source": [
        "constr_coef_A = np.array([[0,1,-2,0,1,-2,0,1,1,-1],[-1,1,-3,2.5,0,1.4,0,-2,1,-1.5],[-0.45,4.78,-2,-3.22,-1.3,1,-1,0,0,0.25],[1,0,0,0,1,1,0,2,3,0]])"
      ],
      "execution_count": 5,
      "outputs": []
    },
    {
      "cell_type": "code",
      "metadata": {
        "id": "mO8yybBRlCPg"
      },
      "source": [
        "constr_rhs_b = np.array([35.4,47.9,41.43,22.7])"
      ],
      "execution_count": 6,
      "outputs": []
    },
    {
      "cell_type": "code",
      "metadata": {
        "id": "30hG6XyElUWH"
      },
      "source": [
        "lower_bound = np.array([-np.inf,-np.inf,0,0,-67,0,-23,-5,6,1])\n",
        "upper_bound = np.array([4,np.inf,np.inf,2,20,55,23,15,np.inf,np.inf])"
      ],
      "execution_count": 7,
      "outputs": []
    },
    {
      "cell_type": "code",
      "metadata": {
        "colab": {
          "base_uri": "https://localhost:8080/"
        },
        "id": "jZz71YIDmmDW",
        "outputId": "8a4126f2-8555-4d2e-ea7b-04d5d176c2cb"
      },
      "source": [
        "col_indices = np.arange(N)\n",
        "print(col_indices)"
      ],
      "execution_count": 8,
      "outputs": [
        {
          "output_type": "stream",
          "text": [
            "[0 1 2 3 4 5 6 7 8 9]\n"
          ],
          "name": "stdout"
        }
      ]
    },
    {
      "cell_type": "code",
      "metadata": {
        "colab": {
          "base_uri": "https://localhost:8080/"
        },
        "id": "nA6tO9iWmRTV",
        "outputId": "1b90dd13-108f-4a85-cbca-404a7bbac923"
      },
      "source": [
        "row_indices = np.arange(M)\n",
        "print(row_indices)"
      ],
      "execution_count": 9,
      "outputs": [
        {
          "output_type": "stream",
          "text": [
            "[0 1 2 3]\n"
          ],
          "name": "stdout"
        }
      ]
    },
    {
      "cell_type": "code",
      "metadata": {
        "id": "3tW4YLQmmzz2"
      },
      "source": [
        "model.x = Var(col_indices)"
      ],
      "execution_count": 10,
      "outputs": []
    },
    {
      "cell_type": "code",
      "metadata": {
        "id": "7BwZbDIDm401"
      },
      "source": [
        "model.constraints = ConstraintList()"
      ],
      "execution_count": 11,
      "outputs": []
    },
    {
      "cell_type": "code",
      "metadata": {
        "colab": {
          "base_uri": "https://localhost:8080/"
        },
        "id": "Pa3Dgd5iqLFT",
        "outputId": "acbfc9d7-b5cf-4f53-e12e-b5d53e8d6c6f"
      },
      "source": [
        "constr_coef_A[2,3]"
      ],
      "execution_count": 12,
      "outputs": [
        {
          "output_type": "execute_result",
          "data": {
            "text/plain": [
              "-3.22"
            ]
          },
          "metadata": {
            "tags": []
          },
          "execution_count": 12
        }
      ]
    },
    {
      "cell_type": "code",
      "metadata": {
        "id": "X52RNEeSm9nf"
      },
      "source": [
        "for i in row_indices:\n",
        "  model.constraints.add(sum(constr_coef_A[i,j]*model.x[j] for j in col_indices) <= constr_rhs_b[i])"
      ],
      "execution_count": 13,
      "outputs": []
    },
    {
      "cell_type": "code",
      "metadata": {
        "id": "tUd-Z_QJosiE"
      },
      "source": [
        "for j in col_indices:\n",
        "  model.x[j].setlb(lower_bound[j])\n",
        "  model.x[j].setub(upper_bound[j])"
      ],
      "execution_count": 14,
      "outputs": []
    },
    {
      "cell_type": "code",
      "metadata": {
        "id": "fxHDEfpoo2qN"
      },
      "source": [
        "model.objective = Objective(expr = sum(obj_coef_c[j]*model.x[j] for j in col_indices), sense=minimize)"
      ],
      "execution_count": 15,
      "outputs": []
    },
    {
      "cell_type": "code",
      "metadata": {
        "colab": {
          "base_uri": "https://localhost:8080/"
        },
        "id": "pX5wGZgDsR9I",
        "outputId": "7a5ff911-8972-4b5b-f7e9-907d3c23f582"
      },
      "source": [
        "model.pprint()"
      ],
      "execution_count": 16,
      "outputs": [
        {
          "output_type": "stream",
          "text": [
            "2 Set Declarations\n",
            "    constraints_index : Size=1, Index=None, Ordered=Insertion\n",
            "        Key  : Dimen : Domain : Size : Members\n",
            "        None :     1 :    Any :    4 : {1, 2, 3, 4}\n",
            "    x_index : Size=1, Index=None, Ordered=False\n",
            "        Key  : Dimen : Domain : Size : Members\n",
            "        None :     1 :    Any :   10 : {0, 1, 2, 3, 4, 5, 6, 7, 8, 9}\n",
            "\n",
            "1 Var Declarations\n",
            "    x : Size=10, Index=x_index\n",
            "        Key : Lower : Value : Upper : Fixed : Stale : Domain\n",
            "          0 :  -inf :  None :   4.0 : False :  True :  Reals\n",
            "          1 :  -inf :  None :   inf : False :  True :  Reals\n",
            "          2 :   0.0 :  None :   inf : False :  True :  Reals\n",
            "          3 :   0.0 :  None :   2.0 : False :  True :  Reals\n",
            "          4 : -67.0 :  None :  20.0 : False :  True :  Reals\n",
            "          5 :   0.0 :  None :  55.0 : False :  True :  Reals\n",
            "          6 : -23.0 :  None :  23.0 : False :  True :  Reals\n",
            "          7 :  -5.0 :  None :  15.0 : False :  True :  Reals\n",
            "          8 :   6.0 :  None :   inf : False :  True :  Reals\n",
            "          9 :   1.0 :  None :   inf : False :  True :  Reals\n",
            "\n",
            "1 Objective Declarations\n",
            "    objective : Size=1, Index=None, Active=True\n",
            "        Key  : Active : Sense    : Expression\n",
            "        None :   True : minimize : -9.6*x[0] - 2.85*x[1] + 41.5*x[2] + 33.05*x[3] - 0.75*x[4] + 20.5*x[5] - 0.35*x[6] - 31.02*x[7] + 50.65*x[8] + 6.125*x[9]\n",
            "\n",
            "1 Constraint Declarations\n",
            "    constraints : Size=4, Index=constraints_index, Active=True\n",
            "        Key : Lower : Body                                                                               : Upper : Active\n",
            "          1 :  -Inf :                             x[1] - 2.0*x[2] + x[4] - 2.0*x[5] + x[7] + x[8] - x[9] :  35.4 :   True\n",
            "          2 :  -Inf :        - x[0] + x[1] - 3.0*x[2] + 2.5*x[3] + 1.4*x[5] - 2.0*x[7] + x[8] - 1.5*x[9] :  47.9 :   True\n",
            "          3 :  -Inf : -0.45*x[0] + 4.78*x[1] - 2.0*x[2] - 3.22*x[3] - 1.3*x[4] + x[5] - x[6] + 0.25*x[9] : 41.43 :   True\n",
            "          4 :  -Inf :                                           x[0] + x[4] + x[5] + 2.0*x[7] + 3.0*x[8] :  22.7 :   True\n",
            "\n",
            "5 Declarations: x_index x constraints_index constraints objective\n"
          ],
          "name": "stdout"
        }
      ]
    },
    {
      "cell_type": "code",
      "metadata": {
        "id": "kHx2BE0ts_zt"
      },
      "source": [
        "!apt-get install -y -qq glpk-utils"
      ],
      "execution_count": 17,
      "outputs": []
    },
    {
      "cell_type": "code",
      "metadata": {
        "colab": {
          "base_uri": "https://localhost:8080/"
        },
        "id": "mghFs4letAdI",
        "outputId": "1f3c0a37-be3a-42f9-e2ae-c60e343b19fa"
      },
      "source": [
        "SolverFactory('glpk', executable='/usr/bin/glpsol').solve(model).write()"
      ],
      "execution_count": 18,
      "outputs": [
        {
          "output_type": "stream",
          "text": [
            "# ==========================================================\n",
            "# = Solver Results                                         =\n",
            "# ==========================================================\n",
            "# ----------------------------------------------------------\n",
            "#   Problem Information\n",
            "# ----------------------------------------------------------\n",
            "Problem: \n",
            "- Name: unknown\n",
            "  Lower bound: -196.378974895398\n",
            "  Upper bound: -196.378974895398\n",
            "  Number of objectives: 1\n",
            "  Number of constraints: 5\n",
            "  Number of variables: 11\n",
            "  Number of nonzeros: 29\n",
            "  Sense: minimize\n",
            "# ----------------------------------------------------------\n",
            "#   Solver Information\n",
            "# ----------------------------------------------------------\n",
            "Solver: \n",
            "- Status: ok\n",
            "  Termination condition: optimal\n",
            "  Statistics: \n",
            "    Branch and bound: \n",
            "      Number of bounded subproblems: 0\n",
            "      Number of created subproblems: 0\n",
            "  Error rc: 0\n",
            "  Time: 0.011955022811889648\n",
            "# ----------------------------------------------------------\n",
            "#   Solution Information\n",
            "# ----------------------------------------------------------\n",
            "Solution: \n",
            "- number of solutions: 0\n",
            "  number of solutions displayed: 0\n"
          ],
          "name": "stdout"
        }
      ]
    },
    {
      "cell_type": "markdown",
      "metadata": {
        "id": "qbY9RvaWysAn"
      },
      "source": [
        "**Ans of Ex 2 part 1**"
      ]
    },
    {
      "cell_type": "code",
      "metadata": {
        "colab": {
          "base_uri": "https://localhost:8080/"
        },
        "id": "jz4yrmtitFTN",
        "outputId": "e5297268-44bf-494a-ba6b-bd4edf92032e"
      },
      "source": [
        "print('After minimization of the objection function sub to given constraints ' )\n",
        "print('\\nThe optimal value of the Objective function is = ', model.objective())\n",
        "\n",
        "print('\\nThe optimal value of Decision Variables are as follows')\n",
        "for i in col_indices:\n",
        "  print('x[',i,'] = ', model.x[i].value)"
      ],
      "execution_count": 19,
      "outputs": [
        {
          "output_type": "stream",
          "text": [
            "After minimization of the objection function sub to given constraints \n",
            "\n",
            "The optimal value of the Objective function is =  -196.3789748953975\n",
            "\n",
            "The optimal value of Decision Variables are as follows\n",
            "x[ 0 ] =  4.0\n",
            "x[ 1 ] =  5.8347280334728\n",
            "x[ 2 ] =  0.0\n",
            "x[ 3 ] =  0.0\n",
            "x[ 4 ] =  -29.3\n",
            "x[ 5 ] =  0.0\n",
            "x[ 6 ] =  23.0\n",
            "x[ 7 ] =  15.0\n",
            "x[ 8 ] =  6.0\n",
            "x[ 9 ] =  1.0\n"
          ],
          "name": "stdout"
        }
      ]
    },
    {
      "cell_type": "markdown",
      "metadata": {
        "id": "qEqYImkV7ziw"
      },
      "source": [
        " **Minimizing objective function after droping constraint 1**"
      ]
    },
    {
      "cell_type": "code",
      "metadata": {
        "id": "jHo6rt378B4o"
      },
      "source": [
        "model1 = ConcreteModel()\n",
        "N = 10\n",
        "M1 = 3\n",
        "obj_coef_c = np.array([-9.6,-2.85, 41.5, 33.05,-0.75, 20.5,-0.35,-31.02, 50.65, 6.125])\n",
        "constr_coef_A1 = np.array([[-1,1,-3,2.5,0,1.4,0,-2,1,-1.5],[-0.45,4.78,-2,-3.22,-1.3,1,-1,0,0,0.25],[1,0,0,0,1,1,0,2,3,0]])\n",
        "constr_rhs_b1 = np.array([47.9,41.43,22.7])\n",
        "lower_bound = np.array([-np.inf,-np.inf,0,0,-67,0,-23,-5,6,1])\n",
        "upper_bound = np.array([4,np.inf,np.inf,2,20,55,23,15,np.inf,np.inf])\n",
        "col_indices = np.arange(N)\n",
        "row_indices = np.arange(M1)\n",
        "model1.x = Var(col_indices)\n",
        "model1.constraints = ConstraintList()"
      ],
      "execution_count": 21,
      "outputs": []
    },
    {
      "cell_type": "code",
      "metadata": {
        "id": "w8Mtfyne8ENE"
      },
      "source": [
        "for i in row_indices:\n",
        "  model1.constraints.add(sum(constr_coef_A1[i,j]*model1.x[j] for j in col_indices) <= constr_rhs_b1[i])"
      ],
      "execution_count": 22,
      "outputs": []
    },
    {
      "cell_type": "code",
      "metadata": {
        "id": "RuKjVeQs8E7L"
      },
      "source": [
        "for j in col_indices:\n",
        "  model1.x[j].setlb(lower_bound[j])\n",
        "  model1.x[j].setub(upper_bound[j])"
      ],
      "execution_count": 23,
      "outputs": []
    },
    {
      "cell_type": "code",
      "metadata": {
        "colab": {
          "base_uri": "https://localhost:8080/"
        },
        "id": "HxoH-QAZ8H_d",
        "outputId": "8c15c79a-2137-4815-afe5-99cc4ceadb48"
      },
      "source": [
        "model1.objective = Objective(expr = sum(obj_coef_c[j]*model1.x[j] for j in col_indices), sense=minimize)\n",
        "model1.pprint()"
      ],
      "execution_count": 24,
      "outputs": [
        {
          "output_type": "stream",
          "text": [
            "2 Set Declarations\n",
            "    constraints_index : Size=1, Index=None, Ordered=Insertion\n",
            "        Key  : Dimen : Domain : Size : Members\n",
            "        None :     1 :    Any :    3 : {1, 2, 3}\n",
            "    x_index : Size=1, Index=None, Ordered=False\n",
            "        Key  : Dimen : Domain : Size : Members\n",
            "        None :     1 :    Any :   10 : {0, 1, 2, 3, 4, 5, 6, 7, 8, 9}\n",
            "\n",
            "1 Var Declarations\n",
            "    x : Size=10, Index=x_index\n",
            "        Key : Lower : Value : Upper : Fixed : Stale : Domain\n",
            "          0 :  -inf :  None :   4.0 : False :  True :  Reals\n",
            "          1 :  -inf :  None :   inf : False :  True :  Reals\n",
            "          2 :   0.0 :  None :   inf : False :  True :  Reals\n",
            "          3 :   0.0 :  None :   2.0 : False :  True :  Reals\n",
            "          4 : -67.0 :  None :  20.0 : False :  True :  Reals\n",
            "          5 :   0.0 :  None :  55.0 : False :  True :  Reals\n",
            "          6 : -23.0 :  None :  23.0 : False :  True :  Reals\n",
            "          7 :  -5.0 :  None :  15.0 : False :  True :  Reals\n",
            "          8 :   6.0 :  None :   inf : False :  True :  Reals\n",
            "          9 :   1.0 :  None :   inf : False :  True :  Reals\n",
            "\n",
            "1 Objective Declarations\n",
            "    objective : Size=1, Index=None, Active=True\n",
            "        Key  : Active : Sense    : Expression\n",
            "        None :   True : minimize : -9.6*x[0] - 2.85*x[1] + 41.5*x[2] + 33.05*x[3] - 0.75*x[4] + 20.5*x[5] - 0.35*x[6] - 31.02*x[7] + 50.65*x[8] + 6.125*x[9]\n",
            "\n",
            "1 Constraint Declarations\n",
            "    constraints : Size=3, Index=constraints_index, Active=True\n",
            "        Key : Lower : Body                                                                               : Upper : Active\n",
            "          1 :  -Inf :        - x[0] + x[1] - 3.0*x[2] + 2.5*x[3] + 1.4*x[5] - 2.0*x[7] + x[8] - 1.5*x[9] :  47.9 :   True\n",
            "          2 :  -Inf : -0.45*x[0] + 4.78*x[1] - 2.0*x[2] - 3.22*x[3] - 1.3*x[4] + x[5] - x[6] + 0.25*x[9] : 41.43 :   True\n",
            "          3 :  -Inf :                                           x[0] + x[4] + x[5] + 2.0*x[7] + 3.0*x[8] :  22.7 :   True\n",
            "\n",
            "5 Declarations: x_index x constraints_index constraints objective\n"
          ],
          "name": "stdout"
        }
      ]
    },
    {
      "cell_type": "code",
      "metadata": {
        "colab": {
          "base_uri": "https://localhost:8080/"
        },
        "id": "yrPU3eIM8KZH",
        "outputId": "54d9ecb2-636d-46b7-f870-da0c9256bd97"
      },
      "source": [
        "!apt-get install -y -qq glpk-utils\n",
        "SolverFactory('glpk', executable='/usr/bin/glpsol').solve(model1).write()"
      ],
      "execution_count": 25,
      "outputs": [
        {
          "output_type": "stream",
          "text": [
            "# ==========================================================\n",
            "# = Solver Results                                         =\n",
            "# ==========================================================\n",
            "# ----------------------------------------------------------\n",
            "#   Problem Information\n",
            "# ----------------------------------------------------------\n",
            "Problem: \n",
            "- Name: unknown\n",
            "  Lower bound: -196.378974895398\n",
            "  Upper bound: -196.378974895398\n",
            "  Number of objectives: 1\n",
            "  Number of constraints: 4\n",
            "  Number of variables: 11\n",
            "  Number of nonzeros: 22\n",
            "  Sense: minimize\n",
            "# ----------------------------------------------------------\n",
            "#   Solver Information\n",
            "# ----------------------------------------------------------\n",
            "Solver: \n",
            "- Status: ok\n",
            "  Termination condition: optimal\n",
            "  Statistics: \n",
            "    Branch and bound: \n",
            "      Number of bounded subproblems: 0\n",
            "      Number of created subproblems: 0\n",
            "  Error rc: 0\n",
            "  Time: 0.012362957000732422\n",
            "# ----------------------------------------------------------\n",
            "#   Solution Information\n",
            "# ----------------------------------------------------------\n",
            "Solution: \n",
            "- number of solutions: 0\n",
            "  number of solutions displayed: 0\n"
          ],
          "name": "stdout"
        }
      ]
    },
    {
      "cell_type": "markdown",
      "metadata": {
        "id": "WZJ3jTaf9CBY"
      },
      "source": [
        " **Minimizing objective function after droping constraint 2**"
      ]
    },
    {
      "cell_type": "code",
      "metadata": {
        "colab": {
          "base_uri": "https://localhost:8080/"
        },
        "id": "T3iwrMOy9DkY",
        "outputId": "4e2d82a1-3900-4a5f-e0b1-846bb68e2140"
      },
      "source": [
        "model2 = ConcreteModel()\n",
        "N = 10\n",
        "M2 = 3\n",
        "obj_coef_c = np.array([-9.6,-2.85, 41.5, 33.05,-0.75, 20.5,-0.35,-31.02, 50.65, 6.125])\n",
        "constr_coef_A2 = np.array([[0,1,-2,0,1,-2,0,1,1,-1],[-0.45,4.78,-2,-3.22,-1.3,1,-1,0,0,0.25],[1,0,0,0,1,1,0,2,3,0]])\n",
        "constr_rhs_b2 = np.array([35.4,41.43,22.7])\n",
        "lower_bound = np.array([-np.inf,-np.inf,0,0,-67,0,-23,-5,6,1])\n",
        "upper_bound = np.array([4,np.inf,np.inf,2,20,55,23,15,np.inf,np.inf])\n",
        "col_indices = np.arange(N)\n",
        "row_indices = np.arange(M2)\n",
        "model2.x = Var(col_indices)\n",
        "model2.constraints = ConstraintList()\n",
        "for i in row_indices:\n",
        "  model2.constraints.add(sum(constr_coef_A2[i,j]*model2.x[j] for j in col_indices) <= constr_rhs_b2[i])\n",
        "\n",
        "for j in col_indices:\n",
        "  model2.x[j].setlb(lower_bound[j])\n",
        "  model2.x[j].setub(upper_bound[j])\n",
        "\n",
        "model2.objective = Objective(expr = sum(obj_coef_c[j]*model2.x[j] for j in col_indices), sense=minimize)\n",
        "model2.pprint()\n",
        "\n",
        "SolverFactory('glpk', executable='/usr/bin/glpsol').solve(model2).write()"
      ],
      "execution_count": 26,
      "outputs": [
        {
          "output_type": "stream",
          "text": [
            "2 Set Declarations\n",
            "    constraints_index : Size=1, Index=None, Ordered=Insertion\n",
            "        Key  : Dimen : Domain : Size : Members\n",
            "        None :     1 :    Any :    3 : {1, 2, 3}\n",
            "    x_index : Size=1, Index=None, Ordered=False\n",
            "        Key  : Dimen : Domain : Size : Members\n",
            "        None :     1 :    Any :   10 : {0, 1, 2, 3, 4, 5, 6, 7, 8, 9}\n",
            "\n",
            "1 Var Declarations\n",
            "    x : Size=10, Index=x_index\n",
            "        Key : Lower : Value : Upper : Fixed : Stale : Domain\n",
            "          0 :  -inf :  None :   4.0 : False :  True :  Reals\n",
            "          1 :  -inf :  None :   inf : False :  True :  Reals\n",
            "          2 :   0.0 :  None :   inf : False :  True :  Reals\n",
            "          3 :   0.0 :  None :   2.0 : False :  True :  Reals\n",
            "          4 : -67.0 :  None :  20.0 : False :  True :  Reals\n",
            "          5 :   0.0 :  None :  55.0 : False :  True :  Reals\n",
            "          6 : -23.0 :  None :  23.0 : False :  True :  Reals\n",
            "          7 :  -5.0 :  None :  15.0 : False :  True :  Reals\n",
            "          8 :   6.0 :  None :   inf : False :  True :  Reals\n",
            "          9 :   1.0 :  None :   inf : False :  True :  Reals\n",
            "\n",
            "1 Objective Declarations\n",
            "    objective : Size=1, Index=None, Active=True\n",
            "        Key  : Active : Sense    : Expression\n",
            "        None :   True : minimize : -9.6*x[0] - 2.85*x[1] + 41.5*x[2] + 33.05*x[3] - 0.75*x[4] + 20.5*x[5] - 0.35*x[6] - 31.02*x[7] + 50.65*x[8] + 6.125*x[9]\n",
            "\n",
            "1 Constraint Declarations\n",
            "    constraints : Size=3, Index=constraints_index, Active=True\n",
            "        Key : Lower : Body                                                                               : Upper : Active\n",
            "          1 :  -Inf :                             x[1] - 2.0*x[2] + x[4] - 2.0*x[5] + x[7] + x[8] - x[9] :  35.4 :   True\n",
            "          2 :  -Inf : -0.45*x[0] + 4.78*x[1] - 2.0*x[2] - 3.22*x[3] - 1.3*x[4] + x[5] - x[6] + 0.25*x[9] : 41.43 :   True\n",
            "          3 :  -Inf :                                           x[0] + x[4] + x[5] + 2.0*x[7] + 3.0*x[8] :  22.7 :   True\n",
            "\n",
            "5 Declarations: x_index x constraints_index constraints objective\n",
            "# ==========================================================\n",
            "# = Solver Results                                         =\n",
            "# ==========================================================\n",
            "# ----------------------------------------------------------\n",
            "#   Problem Information\n",
            "# ----------------------------------------------------------\n",
            "Problem: \n",
            "- Name: unknown\n",
            "  Lower bound: -196.378974895398\n",
            "  Upper bound: -196.378974895398\n",
            "  Number of objectives: 1\n",
            "  Number of constraints: 4\n",
            "  Number of variables: 11\n",
            "  Number of nonzeros: 21\n",
            "  Sense: minimize\n",
            "# ----------------------------------------------------------\n",
            "#   Solver Information\n",
            "# ----------------------------------------------------------\n",
            "Solver: \n",
            "- Status: ok\n",
            "  Termination condition: optimal\n",
            "  Statistics: \n",
            "    Branch and bound: \n",
            "      Number of bounded subproblems: 0\n",
            "      Number of created subproblems: 0\n",
            "  Error rc: 0\n",
            "  Time: 0.026082992553710938\n",
            "# ----------------------------------------------------------\n",
            "#   Solution Information\n",
            "# ----------------------------------------------------------\n",
            "Solution: \n",
            "- number of solutions: 0\n",
            "  number of solutions displayed: 0\n"
          ],
          "name": "stdout"
        }
      ]
    },
    {
      "cell_type": "markdown",
      "metadata": {
        "id": "x4zFAAkg96B0"
      },
      "source": [
        " **Minimizing objective function after droping constraint 3**"
      ]
    },
    {
      "cell_type": "code",
      "metadata": {
        "colab": {
          "base_uri": "https://localhost:8080/"
        },
        "id": "MVju6f8W90nV",
        "outputId": "297ce243-e05c-4aad-9d91-d9842c3cfab1"
      },
      "source": [
        "model3 = ConcreteModel()\n",
        "N = 10\n",
        "M3 = 3\n",
        "obj_coef_c = np.array([-9.6,-2.85, 41.5, 33.05,-0.75, 20.5,-0.35,-31.02, 50.65, 6.125])\n",
        "constr_coef_A3 = np.array([[0,1,-2,0,1,-2,0,1,1,-1],[-1,1,-3,2.5,0,1.4,0,-2,1,-1.5],[1,0,0,0,1,1,0,2,3,0]])\n",
        "constr_rhs_b3 = np.array([35.4,47.9,22.7])\n",
        "lower_bound = np.array([-np.inf,-np.inf,0,0,-67,0,-23,-5,6,1])\n",
        "upper_bound = np.array([4,np.inf,np.inf,2,20,55,23,15,np.inf,np.inf])\n",
        "col_indices = np.arange(N)\n",
        "row_indices = np.arange(M3)\n",
        "model3.x = Var(col_indices)\n",
        "model3.constraints = ConstraintList()\n",
        "for i in row_indices:\n",
        "  model3.constraints.add(sum(constr_coef_A3[i,j]*model3.x[j] for j in col_indices) <= constr_rhs_b3[i])\n",
        "\n",
        "for j in col_indices:\n",
        "  model3.x[j].setlb(lower_bound[j])\n",
        "  model3.x[j].setub(upper_bound[j])\n",
        "\n",
        "model3.objective = Objective(expr = sum(obj_coef_c[j]*model3.x[j] for j in col_indices), sense=minimize)\n",
        "model3.pprint()\n",
        "\n",
        "SolverFactory('glpk', executable='/usr/bin/glpsol').solve(model3).write()"
      ],
      "execution_count": 27,
      "outputs": [
        {
          "output_type": "stream",
          "text": [
            "2 Set Declarations\n",
            "    constraints_index : Size=1, Index=None, Ordered=Insertion\n",
            "        Key  : Dimen : Domain : Size : Members\n",
            "        None :     1 :    Any :    3 : {1, 2, 3}\n",
            "    x_index : Size=1, Index=None, Ordered=False\n",
            "        Key  : Dimen : Domain : Size : Members\n",
            "        None :     1 :    Any :   10 : {0, 1, 2, 3, 4, 5, 6, 7, 8, 9}\n",
            "\n",
            "1 Var Declarations\n",
            "    x : Size=10, Index=x_index\n",
            "        Key : Lower : Value : Upper : Fixed : Stale : Domain\n",
            "          0 :  -inf :  None :   4.0 : False :  True :  Reals\n",
            "          1 :  -inf :  None :   inf : False :  True :  Reals\n",
            "          2 :   0.0 :  None :   inf : False :  True :  Reals\n",
            "          3 :   0.0 :  None :   2.0 : False :  True :  Reals\n",
            "          4 : -67.0 :  None :  20.0 : False :  True :  Reals\n",
            "          5 :   0.0 :  None :  55.0 : False :  True :  Reals\n",
            "          6 : -23.0 :  None :  23.0 : False :  True :  Reals\n",
            "          7 :  -5.0 :  None :  15.0 : False :  True :  Reals\n",
            "          8 :   6.0 :  None :   inf : False :  True :  Reals\n",
            "          9 :   1.0 :  None :   inf : False :  True :  Reals\n",
            "\n",
            "1 Objective Declarations\n",
            "    objective : Size=1, Index=None, Active=True\n",
            "        Key  : Active : Sense    : Expression\n",
            "        None :   True : minimize : -9.6*x[0] - 2.85*x[1] + 41.5*x[2] + 33.05*x[3] - 0.75*x[4] + 20.5*x[5] - 0.35*x[6] - 31.02*x[7] + 50.65*x[8] + 6.125*x[9]\n",
            "\n",
            "1 Constraint Declarations\n",
            "    constraints : Size=3, Index=constraints_index, Active=True\n",
            "        Key : Lower : Body                                                                        : Upper : Active\n",
            "          1 :  -Inf :                      x[1] - 2.0*x[2] + x[4] - 2.0*x[5] + x[7] + x[8] - x[9] :  35.4 :   True\n",
            "          2 :  -Inf : - x[0] + x[1] - 3.0*x[2] + 2.5*x[3] + 1.4*x[5] - 2.0*x[7] + x[8] - 1.5*x[9] :  47.9 :   True\n",
            "          3 :  -Inf :                                    x[0] + x[4] + x[5] + 2.0*x[7] + 3.0*x[8] :  22.7 :   True\n",
            "\n",
            "5 Declarations: x_index x constraints_index constraints objective\n",
            "# ==========================================================\n",
            "# = Solver Results                                         =\n",
            "# ==========================================================\n",
            "# ----------------------------------------------------------\n",
            "#   Problem Information\n",
            "# ----------------------------------------------------------\n",
            "Problem: \n",
            "- Name: unknown\n",
            "  Lower bound: -375.815\n",
            "  Upper bound: -375.815\n",
            "  Number of objectives: 1\n",
            "  Number of constraints: 4\n",
            "  Number of variables: 11\n",
            "  Number of nonzeros: 21\n",
            "  Sense: minimize\n",
            "# ----------------------------------------------------------\n",
            "#   Solver Information\n",
            "# ----------------------------------------------------------\n",
            "Solver: \n",
            "- Status: ok\n",
            "  Termination condition: optimal\n",
            "  Statistics: \n",
            "    Branch and bound: \n",
            "      Number of bounded subproblems: 0\n",
            "      Number of created subproblems: 0\n",
            "  Error rc: 0\n",
            "  Time: 0.02516460418701172\n",
            "# ----------------------------------------------------------\n",
            "#   Solution Information\n",
            "# ----------------------------------------------------------\n",
            "Solution: \n",
            "- number of solutions: 0\n",
            "  number of solutions displayed: 0\n"
          ],
          "name": "stdout"
        }
      ]
    },
    {
      "cell_type": "markdown",
      "metadata": {
        "id": "gAb2jhYY98et"
      },
      "source": [
        " **Minimizing objective function after droping constraint 4**"
      ]
    },
    {
      "cell_type": "code",
      "metadata": {
        "colab": {
          "base_uri": "https://localhost:8080/"
        },
        "id": "kY-p1zwq97Tl",
        "outputId": "b67cbeef-867e-4498-fca5-4fad099cca67"
      },
      "source": [
        "model4 = ConcreteModel()\n",
        "N = 10\n",
        "M4 = 3\n",
        "obj_coef_c = np.array([-9.6,-2.85, 41.5, 33.05,-0.75, 20.5,-0.35,-31.02, 50.65, 6.125])\n",
        "constr_coef_A4 = np.array([[0,1,-2,0,1,-2,0,1,1,-1],[-1,1,-3,2.5,0,1.4,0,-2,1,-1.5],[-0.45,4.78,-2,-3.22,-1.3,1,-1,0,0,0.25]])\n",
        "constr_rhs_b4 = np.array([35.4,47.9,41.43])\n",
        "lower_bound = np.array([-np.inf,-np.inf,0,0,-67,0,-23,-5,6,1])\n",
        "upper_bound = np.array([4,np.inf,np.inf,2,20,55,23,15,np.inf,np.inf])\n",
        "col_indices = np.arange(N)\n",
        "row_indices = np.arange(M4)\n",
        "model4.x = Var(col_indices)\n",
        "model4.constraints = ConstraintList()\n",
        "for i in row_indices:\n",
        "  model4.constraints.add(sum(constr_coef_A4[i,j]*model4.x[j] for j in col_indices) <= constr_rhs_b4[i])\n",
        "\n",
        "for j in col_indices:\n",
        "  model4.x[j].setlb(lower_bound[j])\n",
        "  model4.x[j].setub(upper_bound[j])\n",
        "\n",
        "model4.objective = Objective(expr = sum(obj_coef_c[j]*model4.x[j] for j in col_indices), sense=minimize)\n",
        "model4.pprint()\n",
        "\n",
        "SolverFactory('glpk', executable='/usr/bin/glpsol').solve(model4).write()"
      ],
      "execution_count": 29,
      "outputs": [
        {
          "output_type": "stream",
          "text": [
            "2 Set Declarations\n",
            "    constraints_index : Size=1, Index=None, Ordered=Insertion\n",
            "        Key  : Dimen : Domain : Size : Members\n",
            "        None :     1 :    Any :    3 : {1, 2, 3}\n",
            "    x_index : Size=1, Index=None, Ordered=False\n",
            "        Key  : Dimen : Domain : Size : Members\n",
            "        None :     1 :    Any :   10 : {0, 1, 2, 3, 4, 5, 6, 7, 8, 9}\n",
            "\n",
            "1 Var Declarations\n",
            "    x : Size=10, Index=x_index\n",
            "        Key : Lower : Value : Upper : Fixed : Stale : Domain\n",
            "          0 :  -inf :  None :   4.0 : False :  True :  Reals\n",
            "          1 :  -inf :  None :   inf : False :  True :  Reals\n",
            "          2 :   0.0 :  None :   inf : False :  True :  Reals\n",
            "          3 :   0.0 :  None :   2.0 : False :  True :  Reals\n",
            "          4 : -67.0 :  None :  20.0 : False :  True :  Reals\n",
            "          5 :   0.0 :  None :  55.0 : False :  True :  Reals\n",
            "          6 : -23.0 :  None :  23.0 : False :  True :  Reals\n",
            "          7 :  -5.0 :  None :  15.0 : False :  True :  Reals\n",
            "          8 :   6.0 :  None :   inf : False :  True :  Reals\n",
            "          9 :   1.0 :  None :   inf : False :  True :  Reals\n",
            "\n",
            "1 Objective Declarations\n",
            "    objective : Size=1, Index=None, Active=True\n",
            "        Key  : Active : Sense    : Expression\n",
            "        None :   True : minimize : -9.6*x[0] - 2.85*x[1] + 41.5*x[2] + 33.05*x[3] - 0.75*x[4] + 20.5*x[5] - 0.35*x[6] - 31.02*x[7] + 50.65*x[8] + 6.125*x[9]\n",
            "\n",
            "1 Constraint Declarations\n",
            "    constraints : Size=3, Index=constraints_index, Active=True\n",
            "        Key : Lower : Body                                                                               : Upper : Active\n",
            "          1 :  -Inf :                             x[1] - 2.0*x[2] + x[4] - 2.0*x[5] + x[7] + x[8] - x[9] :  35.4 :   True\n",
            "          2 :  -Inf :        - x[0] + x[1] - 3.0*x[2] + 2.5*x[3] + 1.4*x[5] - 2.0*x[7] + x[8] - 1.5*x[9] :  47.9 :   True\n",
            "          3 :  -Inf : -0.45*x[0] + 4.78*x[1] - 2.0*x[2] - 3.22*x[3] - 1.3*x[4] + x[5] - x[6] + 0.25*x[9] : 41.43 :   True\n",
            "\n",
            "5 Declarations: x_index x constraints_index constraints objective\n",
            "# ==========================================================\n",
            "# = Solver Results                                         =\n",
            "# ==========================================================\n",
            "# ----------------------------------------------------------\n",
            "#   Problem Information\n",
            "# ----------------------------------------------------------\n",
            "Problem: \n",
            "- Name: unknown\n",
            "  Lower bound: -242.978947368421\n",
            "  Upper bound: -242.978947368421\n",
            "  Number of objectives: 1\n",
            "  Number of constraints: 4\n",
            "  Number of variables: 11\n",
            "  Number of nonzeros: 24\n",
            "  Sense: minimize\n",
            "# ----------------------------------------------------------\n",
            "#   Solver Information\n",
            "# ----------------------------------------------------------\n",
            "Solver: \n",
            "- Status: ok\n",
            "  Termination condition: optimal\n",
            "  Statistics: \n",
            "    Branch and bound: \n",
            "      Number of bounded subproblems: 0\n",
            "      Number of created subproblems: 0\n",
            "  Error rc: 0\n",
            "  Time: 0.011689901351928711\n",
            "# ----------------------------------------------------------\n",
            "#   Solution Information\n",
            "# ----------------------------------------------------------\n",
            "Solution: \n",
            "- number of solutions: 0\n",
            "  number of solutions displayed: 0\n"
          ],
          "name": "stdout"
        }
      ]
    },
    {
      "cell_type": "markdown",
      "metadata": {
        "id": "JfjDDi5K-36y"
      },
      "source": [
        "**Ans of Ex 2 part 2** \\\\\n",
        "Since the optimal value of objective function after droping constraint 1 is same as when constraint 1 was included.\n",
        "Hence **constraint** **1** **is** **inactive** in part 1 of exercise 2\n",
        "\n",
        "Since the optimal value of objective function after droping constraint 2 is same as when constraint 2 was included.\n",
        "Hence **constraint** **2** **is** **inactive** in part 1 of exercise 2\n",
        "\n",
        "Since the optimal value of objective function after droping constraint 3 is less than that of when constraint 3 was included.\n",
        "Hence **constraint** **3** **is** **active** in part 1 of exercise 2\n",
        "\n",
        "Since the optimal value of objective function after droping constraint 4 is less than that of when constraint 4 was included.\n",
        "Hence **constraint** **4** **is** **active** in part 1 of exercise 2"
      ]
    }
  ]
}