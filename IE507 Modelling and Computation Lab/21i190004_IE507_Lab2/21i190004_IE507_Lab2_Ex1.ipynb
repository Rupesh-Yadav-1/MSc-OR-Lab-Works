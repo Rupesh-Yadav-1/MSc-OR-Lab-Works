{
  "nbformat": 4,
  "nbformat_minor": 0,
  "metadata": {
    "colab": {
      "name": "21i190004_IE507_Lab2_Ex1.ipynb",
      "provenance": [],
      "collapsed_sections": []
    },
    "kernelspec": {
      "name": "python3",
      "display_name": "Python 3"
    },
    "language_info": {
      "name": "python"
    }
  },
  "cells": [
    {
      "cell_type": "code",
      "metadata": {
        "colab": {
          "base_uri": "https://localhost:8080/"
        },
        "id": "1lAYgagUXxJ5",
        "outputId": "33f44cdd-1f8e-444b-9a33-7ce2c552b89e"
      },
      "source": [
        "!pip install -q pyomo"
      ],
      "execution_count": 1,
      "outputs": [
        {
          "output_type": "stream",
          "text": [
            "\u001b[K     |████████████████████████████████| 8.9 MB 5.2 MB/s \n",
            "\u001b[K     |████████████████████████████████| 49 kB 4.3 MB/s \n",
            "\u001b[?25h"
          ],
          "name": "stdout"
        }
      ]
    },
    {
      "cell_type": "code",
      "metadata": {
        "id": "_LQt4dI5YSTb"
      },
      "source": [
        "from pyomo.environ import *"
      ],
      "execution_count": 2,
      "outputs": []
    },
    {
      "cell_type": "code",
      "metadata": {
        "id": "yGnb2V96YcJM"
      },
      "source": [
        "import numpy as np"
      ],
      "execution_count": 3,
      "outputs": []
    },
    {
      "cell_type": "code",
      "metadata": {
        "id": "EjMBsa7ZYc44"
      },
      "source": [
        "model = ConcreteModel()"
      ],
      "execution_count": 4,
      "outputs": []
    },
    {
      "cell_type": "code",
      "metadata": {
        "id": "M6AbpUzrYoIP"
      },
      "source": [
        "N = 12"
      ],
      "execution_count": 5,
      "outputs": []
    },
    {
      "cell_type": "code",
      "metadata": {
        "id": "7787snHKYsVI"
      },
      "source": [
        "obj_coef_c = np.array([-8.1, 10.15, 30.5, 50.05,0.05, 80.5,-0.25,-31.02, 50.65, 0.725,-0.8, 100.6])"
      ],
      "execution_count": 6,
      "outputs": []
    },
    {
      "cell_type": "code",
      "metadata": {
        "id": "UV7rK_3cYxb5"
      },
      "source": [
        "constr2_coef_w = np.array([0,1.6,-2.02,0, 1.01, -2.005, 0, 1.39,1,-1.214,0,-5.32])\n",
        "\n",
        "constr1_rhs_b1 = 161.2\n",
        "constr2_rhs_b2 = 54.6"
      ],
      "execution_count": 7,
      "outputs": []
    },
    {
      "cell_type": "code",
      "metadata": {
        "id": "fu5cMKViahP4"
      },
      "source": [
        "lower_bound = np.array([-np.inf,1,0,0,7,0, -np.inf, -np.inf,1,1, -5, 2])\n",
        "upper_bound = np.array([4,3, np.inf,2,10,np.inf,13,20,np.inf,21,5,60])"
      ],
      "execution_count": 8,
      "outputs": []
    },
    {
      "cell_type": "code",
      "metadata": {
        "colab": {
          "base_uri": "https://localhost:8080/"
        },
        "id": "k-0uILTabPrU",
        "outputId": "b7af7a6a-ee9e-4267-f2d6-81e9f717878c"
      },
      "source": [
        "col_indices = np.arange(N)\n",
        "print(col_indices)"
      ],
      "execution_count": 9,
      "outputs": [
        {
          "output_type": "stream",
          "text": [
            "[ 0  1  2  3  4  5  6  7  8  9 10 11]\n"
          ],
          "name": "stdout"
        }
      ]
    },
    {
      "cell_type": "code",
      "metadata": {
        "id": "alxWAdR9bTe4"
      },
      "source": [
        "model.x = Var(col_indices)\n",
        "model.constraints = ConstraintList()"
      ],
      "execution_count": 10,
      "outputs": []
    },
    {
      "cell_type": "code",
      "metadata": {
        "colab": {
          "base_uri": "https://localhost:8080/"
        },
        "id": "jaQL_tJcbWFI",
        "outputId": "20805d8a-b685-4782-f0ca-30505bee96e8"
      },
      "source": [
        "model.constraints.add(sum(model.x[j] for j in col_indices) <= constr1_rhs_b1)"
      ],
      "execution_count": 11,
      "outputs": [
        {
          "output_type": "execute_result",
          "data": {
            "text/plain": [
              "<pyomo.core.base.constraint._GeneralConstraintData at 0x7fee2fba0750>"
            ]
          },
          "metadata": {
            "tags": []
          },
          "execution_count": 11
        }
      ]
    },
    {
      "cell_type": "code",
      "metadata": {
        "colab": {
          "base_uri": "https://localhost:8080/"
        },
        "id": "jIP7_t3XblN2",
        "outputId": "1727e6e8-936b-4b38-baf1-0f2223dc03ef"
      },
      "source": [
        "model.constraints.add(sum(constr2_coef_w[j]*model.x[j] for j in col_indices) <= constr2_rhs_b2)"
      ],
      "execution_count": 14,
      "outputs": [
        {
          "output_type": "execute_result",
          "data": {
            "text/plain": [
              "<pyomo.core.base.constraint._GeneralConstraintData at 0x7fee2fba0830>"
            ]
          },
          "metadata": {
            "tags": []
          },
          "execution_count": 14
        }
      ]
    },
    {
      "cell_type": "code",
      "metadata": {
        "colab": {
          "base_uri": "https://localhost:8080/"
        },
        "id": "b8CunDeKczMk",
        "outputId": "fc5bf921-8cb6-4738-8323-f2051450647e"
      },
      "source": [
        "model.constraints.add(sum(constr2_coef_w[j]*model.x[j] for j in col_indices) >= constr2_rhs_b2)"
      ],
      "execution_count": 15,
      "outputs": [
        {
          "output_type": "execute_result",
          "data": {
            "text/plain": [
              "<pyomo.core.base.constraint._GeneralConstraintData at 0x7fee2fb4b8a0>"
            ]
          },
          "metadata": {
            "tags": []
          },
          "execution_count": 15
        }
      ]
    },
    {
      "cell_type": "code",
      "metadata": {
        "id": "5a8vGNuhbxbA"
      },
      "source": [
        "for j in col_indices:\n",
        "  model.x[j].setlb(lower_bound[j])\n",
        "  model.x[j].setub(upper_bound[j])"
      ],
      "execution_count": 16,
      "outputs": []
    },
    {
      "cell_type": "code",
      "metadata": {
        "id": "nd-MTRiVcH9_"
      },
      "source": [
        "model.objective = Objective(expr = sum(obj_coef_c[j]*model.x[j] for j in col_indices), sense=minimize)"
      ],
      "execution_count": 17,
      "outputs": []
    },
    {
      "cell_type": "code",
      "metadata": {
        "colab": {
          "base_uri": "https://localhost:8080/"
        },
        "id": "nmasCTwOcVU8",
        "outputId": "e803dca3-737f-42d9-de97-43eb69de61e8"
      },
      "source": [
        "model.pprint()"
      ],
      "execution_count": 18,
      "outputs": [
        {
          "output_type": "stream",
          "text": [
            "2 Set Declarations\n",
            "    constraints_index : Size=1, Index=None, Ordered=Insertion\n",
            "        Key  : Dimen : Domain : Size : Members\n",
            "        None :     1 :    Any :    3 : {1, 2, 3}\n",
            "    x_index : Size=1, Index=None, Ordered=False\n",
            "        Key  : Dimen : Domain : Size : Members\n",
            "        None :     1 :    Any :   12 : {0, 1, 2, 3, 4, 5, 6, 7, 8, 9, 10, 11}\n",
            "\n",
            "1 Var Declarations\n",
            "    x : Size=12, Index=x_index\n",
            "        Key : Lower : Value : Upper : Fixed : Stale : Domain\n",
            "          0 :  -inf :  None :   4.0 : False :  True :  Reals\n",
            "          1 :   1.0 :  None :   3.0 : False :  True :  Reals\n",
            "          2 :   0.0 :  None :   inf : False :  True :  Reals\n",
            "          3 :   0.0 :  None :   2.0 : False :  True :  Reals\n",
            "          4 :   7.0 :  None :  10.0 : False :  True :  Reals\n",
            "          5 :   0.0 :  None :   inf : False :  True :  Reals\n",
            "          6 :  -inf :  None :  13.0 : False :  True :  Reals\n",
            "          7 :  -inf :  None :  20.0 : False :  True :  Reals\n",
            "          8 :   1.0 :  None :   inf : False :  True :  Reals\n",
            "          9 :   1.0 :  None :  21.0 : False :  True :  Reals\n",
            "         10 :  -5.0 :  None :   5.0 : False :  True :  Reals\n",
            "         11 :   2.0 :  None :  60.0 : False :  True :  Reals\n",
            "\n",
            "1 Objective Declarations\n",
            "    objective : Size=1, Index=None, Active=True\n",
            "        Key  : Active : Sense    : Expression\n",
            "        None :   True : minimize : -8.1*x[0] + 10.15*x[1] + 30.5*x[2] + 50.05*x[3] + 0.05*x[4] + 80.5*x[5] - 0.25*x[6] - 31.02*x[7] + 50.65*x[8] + 0.725*x[9] - 0.8*x[10] + 100.6*x[11]\n",
            "\n",
            "1 Constraint Declarations\n",
            "    constraints : Size=3, Index=constraints_index, Active=True\n",
            "        Key : Lower : Body                                                                                       : Upper : Active\n",
            "          1 :  -Inf :        x[0] + x[1] + x[2] + x[3] + x[4] + x[5] + x[6] + x[7] + x[8] + x[9] + x[10] + x[11] : 161.2 :   True\n",
            "          2 :  -Inf : 1.6*x[1] - 2.02*x[2] + 1.01*x[4] - 2.005*x[5] + 1.39*x[7] + x[8] - 1.214*x[9] - 5.32*x[11] :  54.6 :   True\n",
            "          3 :  54.6 : 1.6*x[1] - 2.02*x[2] + 1.01*x[4] - 2.005*x[5] + 1.39*x[7] + x[8] - 1.214*x[9] - 5.32*x[11] :  +Inf :   True\n",
            "\n",
            "5 Declarations: x_index x constraints_index constraints objective\n"
          ],
          "name": "stdout"
        }
      ]
    },
    {
      "cell_type": "code",
      "metadata": {
        "colab": {
          "base_uri": "https://localhost:8080/"
        },
        "id": "lOSWfRDrcV--",
        "outputId": "87d40924-ab5d-4afa-e8a8-11b7b8c08afb"
      },
      "source": [
        "!apt-get install -y -qq glpk-utils"
      ],
      "execution_count": 19,
      "outputs": [
        {
          "output_type": "stream",
          "text": [
            "Selecting previously unselected package libsuitesparseconfig5:amd64.\n",
            "(Reading database ... 160837 files and directories currently installed.)\n",
            "Preparing to unpack .../libsuitesparseconfig5_1%3a5.1.2-2_amd64.deb ...\n",
            "Unpacking libsuitesparseconfig5:amd64 (1:5.1.2-2) ...\n",
            "Selecting previously unselected package libamd2:amd64.\n",
            "Preparing to unpack .../libamd2_1%3a5.1.2-2_amd64.deb ...\n",
            "Unpacking libamd2:amd64 (1:5.1.2-2) ...\n",
            "Selecting previously unselected package libcolamd2:amd64.\n",
            "Preparing to unpack .../libcolamd2_1%3a5.1.2-2_amd64.deb ...\n",
            "Unpacking libcolamd2:amd64 (1:5.1.2-2) ...\n",
            "Selecting previously unselected package libglpk40:amd64.\n",
            "Preparing to unpack .../libglpk40_4.65-1_amd64.deb ...\n",
            "Unpacking libglpk40:amd64 (4.65-1) ...\n",
            "Selecting previously unselected package glpk-utils.\n",
            "Preparing to unpack .../glpk-utils_4.65-1_amd64.deb ...\n",
            "Unpacking glpk-utils (4.65-1) ...\n",
            "Setting up libsuitesparseconfig5:amd64 (1:5.1.2-2) ...\n",
            "Setting up libcolamd2:amd64 (1:5.1.2-2) ...\n",
            "Setting up libamd2:amd64 (1:5.1.2-2) ...\n",
            "Setting up libglpk40:amd64 (4.65-1) ...\n",
            "Setting up glpk-utils (4.65-1) ...\n",
            "Processing triggers for libc-bin (2.27-3ubuntu1.2) ...\n",
            "/sbin/ldconfig.real: /usr/local/lib/python3.7/dist-packages/ideep4py/lib/libmkldnn.so.0 is not a symbolic link\n",
            "\n",
            "Processing triggers for man-db (2.8.3-2ubuntu0.1) ...\n"
          ],
          "name": "stdout"
        }
      ]
    },
    {
      "cell_type": "code",
      "metadata": {
        "colab": {
          "base_uri": "https://localhost:8080/"
        },
        "id": "At8ikXeddVgu",
        "outputId": "e86efe32-53e6-42fe-e45e-73d3ccf693b7"
      },
      "source": [
        "SolverFactory('glpk', executable='/usr/bin/glpsol').solve(model).write()"
      ],
      "execution_count": 20,
      "outputs": [
        {
          "output_type": "stream",
          "text": [
            "# ==========================================================\n",
            "# = Solver Results                                         =\n",
            "# ==========================================================\n",
            "# ----------------------------------------------------------\n",
            "#   Problem Information\n",
            "# ----------------------------------------------------------\n",
            "Problem: \n",
            "- Name: unknown\n",
            "  Lower bound: 775.965100000001\n",
            "  Upper bound: 775.965100000001\n",
            "  Number of objectives: 1\n",
            "  Number of constraints: 4\n",
            "  Number of variables: 13\n",
            "  Number of nonzeros: 29\n",
            "  Sense: minimize\n",
            "# ----------------------------------------------------------\n",
            "#   Solver Information\n",
            "# ----------------------------------------------------------\n",
            "Solver: \n",
            "- Status: ok\n",
            "  Termination condition: optimal\n",
            "  Statistics: \n",
            "    Branch and bound: \n",
            "      Number of bounded subproblems: 0\n",
            "      Number of created subproblems: 0\n",
            "  Error rc: 0\n",
            "  Time: 0.01738429069519043\n",
            "# ----------------------------------------------------------\n",
            "#   Solution Information\n",
            "# ----------------------------------------------------------\n",
            "Solution: \n",
            "- number of solutions: 0\n",
            "  number of solutions displayed: 0\n"
          ],
          "name": "stdout"
        }
      ]
    },
    {
      "cell_type": "markdown",
      "metadata": {
        "id": "pNyk5TwEeg-Y"
      },
      "source": [
        "**Ans of Ex 1**"
      ]
    },
    {
      "cell_type": "code",
      "metadata": {
        "colab": {
          "base_uri": "https://localhost:8080/"
        },
        "id": "cPk4_1hbdarh",
        "outputId": "5e99d0c9-579b-4f95-83b7-958236c83e08"
      },
      "source": [
        "print('After minimization of the objection function sb to given constraints ' )\n",
        "print('\\nThe optimal value of the Objective function is = ', model.objective())\n",
        "\n",
        "print('\\nThe optimal value of Decision Variables are as follows')\n",
        "for i in col_indices:\n",
        "  print('x[',i,'] = ', model.x[i].value)"
      ],
      "execution_count": 23,
      "outputs": [
        {
          "output_type": "stream",
          "text": [
            "After minimization of the objection function sb to given constraints \n",
            "\n",
            "The optimal value of the Objective function is =  775.9651000000001\n",
            "\n",
            "The optimal value of Decision Variables are as follows\n",
            "x[ 0 ] =  4.0\n",
            "x[ 1 ] =  3.0\n",
            "x[ 2 ] =  0.0\n",
            "x[ 3 ] =  0.0\n",
            "x[ 4 ] =  10.0\n",
            "x[ 5 ] =  0.0\n",
            "x[ 6 ] =  13.0\n",
            "x[ 7 ] =  20.0\n",
            "x[ 8 ] =  23.754\n",
            "x[ 9 ] =  1.0\n",
            "x[ 10 ] =  5.0\n",
            "x[ 11 ] =  2.0\n"
          ],
          "name": "stdout"
        }
      ]
    },
    {
      "cell_type": "code",
      "metadata": {
        "id": "Ag71UkvkeK0g"
      },
      "source": [
        ""
      ],
      "execution_count": null,
      "outputs": []
    }
  ]
}