{
  "nbformat": 4,
  "nbformat_minor": 0,
  "metadata": {
    "colab": {
      "name": "21i190004_IE507_Lab5_Ex2.ipynb",
      "provenance": [],
      "collapsed_sections": []
    },
    "kernelspec": {
      "name": "python3",
      "display_name": "Python 3"
    },
    "language_info": {
      "name": "python"
    }
  },
  "cells": [
    {
      "cell_type": "code",
      "metadata": {
        "id": "AFvq_zz_xEu1"
      },
      "source": [
        " !pip install -q pyomo"
      ],
      "execution_count": 1,
      "outputs": []
    },
    {
      "cell_type": "code",
      "metadata": {
        "id": "kp3x3bY1xiqu"
      },
      "source": [
        "from pyomo.environ import *"
      ],
      "execution_count": 2,
      "outputs": []
    },
    {
      "cell_type": "code",
      "metadata": {
        "id": "D1ZDAws2xkOV"
      },
      "source": [
        "import numpy as np"
      ],
      "execution_count": 3,
      "outputs": []
    },
    {
      "cell_type": "markdown",
      "metadata": {
        "id": "SUlwAkFF-wW8"
      },
      "source": [
        "**Ex 2 part 1**"
      ]
    },
    {
      "cell_type": "markdown",
      "metadata": {
        "id": "6_heiuODxms2"
      },
      "source": [
        "let $x_{ij}$ be the decision variable where \\\\\n",
        "$x_{ij}$=1, if factory i is located at location j and 0, else. i and j $\\in \\{1,2,3,4,5,6,7,8,9,10,11,12 \\}$.\n",
        "Let $c_{ij}$ denote the setup cost of factory i at location j.\\\\\n",
        "The required optimization problem is as follows \\\\\n",
        "$\\text{min} \\sum_{i=1}^{12}\\sum_{j=1}^{12}c_{ij}x_{ij}\\\\\n",
        "  \\text{s.t} \\sum_{i=1}^{12}x_{ij}=1 \\  \\forall j\\\\\n",
        "  \\sum_{j=1}^{12}x_{ij}=1 \\ \\forall i\\\\\n",
        "  x_{ij}\\in\\{0,1\\}\\ \\forall\\  i,j\\in\\{1,2,...,12\\}$"
      ]
    },
    {
      "cell_type": "code",
      "metadata": {
        "id": "jkXsJIayzk2v"
      },
      "source": [
        "coef=np.loadtxt('lab5_ex2.txt', delimiter=',')"
      ],
      "execution_count": 4,
      "outputs": []
    },
    {
      "cell_type": "code",
      "metadata": {
        "colab": {
          "base_uri": "https://localhost:8080/"
        },
        "id": "YTk24juMzojn",
        "outputId": "73682241-8b29-4617-875a-35e61c5345df"
      },
      "source": [
        "print(coef)"
      ],
      "execution_count": 5,
      "outputs": [
        {
          "output_type": "stream",
          "name": "stdout",
          "text": [
            "[[22. 22. 19. 22. 22. 24. 18. 17. 21. 23. 19. 21.]\n",
            " [18. 12. 18. 19. 22. 21. 17. 20. 16. 17. 17. 24.]\n",
            " [19. 21. 17. 19. 17. 19. 24. 16. 18. 16. 20. 24.]\n",
            " [18. 24. 20. 21. 21. 21. 22. 19. 18. 21. 23. 23.]\n",
            " [23. 20. 19. 18. 20. 23. 22. 25. 24. 19. 21. 23.]\n",
            " [24. 16. 15. 16. 24. 21. 23. 21. 20. 20. 22. 19.]\n",
            " [22. 22. 21. 23. 18. 17. 16. 19. 24. 20. 20. 23.]\n",
            " [23. 17. 17. 17. 22. 24. 23. 20. 22. 19. 23. 21.]\n",
            " [21. 22. 21. 24. 20. 23. 19. 18. 23. 15. 25. 21.]\n",
            " [19. 19. 18. 19. 26. 24. 19. 17. 18. 20. 21. 20.]\n",
            " [20. 22. 23. 20. 22. 20. 20. 19. 17. 19. 20. 24.]\n",
            " [21. 25. 21. 19. 21. 19. 18. 16. 22. 24. 25. 24.]]\n"
          ]
        }
      ]
    },
    {
      "cell_type": "code",
      "metadata": {
        "colab": {
          "base_uri": "https://localhost:8080/"
        },
        "id": "-XYonqqYzqTg",
        "outputId": "d3abc432-3f74-4b69-e3bb-9707f637a1c7"
      },
      "source": [
        "coef.shape"
      ],
      "execution_count": 6,
      "outputs": [
        {
          "output_type": "execute_result",
          "data": {
            "text/plain": [
              "(12, 12)"
            ]
          },
          "metadata": {},
          "execution_count": 6
        }
      ]
    },
    {
      "cell_type": "code",
      "metadata": {
        "id": "pkavrr0QztUB"
      },
      "source": [
        "model_lab5_ex2=ConcreteModel()"
      ],
      "execution_count": 7,
      "outputs": []
    },
    {
      "cell_type": "code",
      "metadata": {
        "id": "1X45PPWYzzF1"
      },
      "source": [
        "M=12\n",
        "N=12"
      ],
      "execution_count": 8,
      "outputs": []
    },
    {
      "cell_type": "code",
      "metadata": {
        "id": "Xz1gKfZFz5Hw"
      },
      "source": [
        "row_indices=np.arange(M)\n",
        "col_indices=np.arange(N)"
      ],
      "execution_count": 9,
      "outputs": []
    },
    {
      "cell_type": "code",
      "metadata": {
        "id": "dLSRqy7u6BVG"
      },
      "source": [
        "model_lab5_ex2.x=Var(col_indices,row_indices,domain=Binary)"
      ],
      "execution_count": 10,
      "outputs": []
    },
    {
      "cell_type": "code",
      "metadata": {
        "id": "cyKz7HXlz7ME"
      },
      "source": [
        "#objective function is\n",
        "model_lab5_ex2.objective=Objective(expr=sum(model_lab5_ex2.x[i,j]*coef[i,j] for j in col_indices for i in row_indices),sense=minimize)"
      ],
      "execution_count": 11,
      "outputs": []
    },
    {
      "cell_type": "code",
      "metadata": {
        "id": "Jyj_KtnL0GBU"
      },
      "source": [
        "model_lab5_ex2.constraints=ConstraintList()"
      ],
      "execution_count": 12,
      "outputs": []
    },
    {
      "cell_type": "code",
      "metadata": {
        "id": "S1Gy7Q9k0Gw_"
      },
      "source": [
        "#adding constraints to constraint list\n",
        "for i in row_indices:\n",
        "  model_lab5_ex2.constraints.add(sum(model_lab5_ex2.x[i,j] for j in col_indices)==1)\n",
        "\n",
        "for j in col_indices:\n",
        "  model_lab5_ex2.constraints.add(sum(model_lab5_ex2.x[i,j] for i in row_indices)==1)"
      ],
      "execution_count": 13,
      "outputs": []
    },
    {
      "cell_type": "code",
      "metadata": {
        "colab": {
          "base_uri": "https://localhost:8080/"
        },
        "id": "gNw9TSuE0OHK",
        "outputId": "e0c17d4c-b4a7-4ec4-9dce-44bceb68f504"
      },
      "source": [
        "model_lab5_ex2.pprint()"
      ],
      "execution_count": 14,
      "outputs": [
        {
          "output_type": "stream",
          "name": "stdout",
          "text": [
            "4 Set Declarations\n",
            "    constraints_index : Size=1, Index=None, Ordered=Insertion\n",
            "        Key  : Dimen : Domain : Size : Members\n",
            "        None :     1 :    Any :   24 : {1, 2, 3, 4, 5, 6, 7, 8, 9, 10, 11, 12, 13, 14, 15, 16, 17, 18, 19, 20, 21, 22, 23, 24}\n",
            "    x_index : Size=1, Index=None, Ordered=False\n",
            "        Key  : Dimen : Domain              : Size : Members\n",
            "        None :     2 : x_index_0*x_index_1 :  144 : {(0, 0), (0, 1), (0, 2), (0, 3), (0, 4), (0, 5), (0, 6), (0, 7), (0, 8), (0, 9), (0, 10), (0, 11), (1, 0), (1, 1), (1, 2), (1, 3), (1, 4), (1, 5), (1, 6), (1, 7), (1, 8), (1, 9), (1, 10), (1, 11), (2, 0), (2, 1), (2, 2), (2, 3), (2, 4), (2, 5), (2, 6), (2, 7), (2, 8), (2, 9), (2, 10), (2, 11), (3, 0), (3, 1), (3, 2), (3, 3), (3, 4), (3, 5), (3, 6), (3, 7), (3, 8), (3, 9), (3, 10), (3, 11), (4, 0), (4, 1), (4, 2), (4, 3), (4, 4), (4, 5), (4, 6), (4, 7), (4, 8), (4, 9), (4, 10), (4, 11), (5, 0), (5, 1), (5, 2), (5, 3), (5, 4), (5, 5), (5, 6), (5, 7), (5, 8), (5, 9), (5, 10), (5, 11), (6, 0), (6, 1), (6, 2), (6, 3), (6, 4), (6, 5), (6, 6), (6, 7), (6, 8), (6, 9), (6, 10), (6, 11), (7, 0), (7, 1), (7, 2), (7, 3), (7, 4), (7, 5), (7, 6), (7, 7), (7, 8), (7, 9), (7, 10), (7, 11), (8, 0), (8, 1), (8, 2), (8, 3), (8, 4), (8, 5), (8, 6), (8, 7), (8, 8), (8, 9), (8, 10), (8, 11), (9, 0), (9, 1), (9, 2), (9, 3), (9, 4), (9, 5), (9, 6), (9, 7), (9, 8), (9, 9), (9, 10), (9, 11), (10, 0), (10, 1), (10, 2), (10, 3), (10, 4), (10, 5), (10, 6), (10, 7), (10, 8), (10, 9), (10, 10), (10, 11), (11, 0), (11, 1), (11, 2), (11, 3), (11, 4), (11, 5), (11, 6), (11, 7), (11, 8), (11, 9), (11, 10), (11, 11)}\n",
            "    x_index_0 : Size=1, Index=None, Ordered=False\n",
            "        Key  : Dimen : Domain : Size : Members\n",
            "        None :     1 :    Any :   12 : {0, 1, 2, 3, 4, 5, 6, 7, 8, 9, 10, 11}\n",
            "    x_index_1 : Size=1, Index=None, Ordered=False\n",
            "        Key  : Dimen : Domain : Size : Members\n",
            "        None :     1 :    Any :   12 : {0, 1, 2, 3, 4, 5, 6, 7, 8, 9, 10, 11}\n",
            "\n",
            "1 Var Declarations\n",
            "    x : Size=144, Index=x_index\n",
            "        Key      : Lower : Value : Upper : Fixed : Stale : Domain\n",
            "          (0, 0) :     0 :  None :     1 : False :  True : Binary\n",
            "          (0, 1) :     0 :  None :     1 : False :  True : Binary\n",
            "          (0, 2) :     0 :  None :     1 : False :  True : Binary\n",
            "          (0, 3) :     0 :  None :     1 : False :  True : Binary\n",
            "          (0, 4) :     0 :  None :     1 : False :  True : Binary\n",
            "          (0, 5) :     0 :  None :     1 : False :  True : Binary\n",
            "          (0, 6) :     0 :  None :     1 : False :  True : Binary\n",
            "          (0, 7) :     0 :  None :     1 : False :  True : Binary\n",
            "          (0, 8) :     0 :  None :     1 : False :  True : Binary\n",
            "          (0, 9) :     0 :  None :     1 : False :  True : Binary\n",
            "         (0, 10) :     0 :  None :     1 : False :  True : Binary\n",
            "         (0, 11) :     0 :  None :     1 : False :  True : Binary\n",
            "          (1, 0) :     0 :  None :     1 : False :  True : Binary\n",
            "          (1, 1) :     0 :  None :     1 : False :  True : Binary\n",
            "          (1, 2) :     0 :  None :     1 : False :  True : Binary\n",
            "          (1, 3) :     0 :  None :     1 : False :  True : Binary\n",
            "          (1, 4) :     0 :  None :     1 : False :  True : Binary\n",
            "          (1, 5) :     0 :  None :     1 : False :  True : Binary\n",
            "          (1, 6) :     0 :  None :     1 : False :  True : Binary\n",
            "          (1, 7) :     0 :  None :     1 : False :  True : Binary\n",
            "          (1, 8) :     0 :  None :     1 : False :  True : Binary\n",
            "          (1, 9) :     0 :  None :     1 : False :  True : Binary\n",
            "         (1, 10) :     0 :  None :     1 : False :  True : Binary\n",
            "         (1, 11) :     0 :  None :     1 : False :  True : Binary\n",
            "          (2, 0) :     0 :  None :     1 : False :  True : Binary\n",
            "          (2, 1) :     0 :  None :     1 : False :  True : Binary\n",
            "          (2, 2) :     0 :  None :     1 : False :  True : Binary\n",
            "          (2, 3) :     0 :  None :     1 : False :  True : Binary\n",
            "          (2, 4) :     0 :  None :     1 : False :  True : Binary\n",
            "          (2, 5) :     0 :  None :     1 : False :  True : Binary\n",
            "          (2, 6) :     0 :  None :     1 : False :  True : Binary\n",
            "          (2, 7) :     0 :  None :     1 : False :  True : Binary\n",
            "          (2, 8) :     0 :  None :     1 : False :  True : Binary\n",
            "          (2, 9) :     0 :  None :     1 : False :  True : Binary\n",
            "         (2, 10) :     0 :  None :     1 : False :  True : Binary\n",
            "         (2, 11) :     0 :  None :     1 : False :  True : Binary\n",
            "          (3, 0) :     0 :  None :     1 : False :  True : Binary\n",
            "          (3, 1) :     0 :  None :     1 : False :  True : Binary\n",
            "          (3, 2) :     0 :  None :     1 : False :  True : Binary\n",
            "          (3, 3) :     0 :  None :     1 : False :  True : Binary\n",
            "          (3, 4) :     0 :  None :     1 : False :  True : Binary\n",
            "          (3, 5) :     0 :  None :     1 : False :  True : Binary\n",
            "          (3, 6) :     0 :  None :     1 : False :  True : Binary\n",
            "          (3, 7) :     0 :  None :     1 : False :  True : Binary\n",
            "          (3, 8) :     0 :  None :     1 : False :  True : Binary\n",
            "          (3, 9) :     0 :  None :     1 : False :  True : Binary\n",
            "         (3, 10) :     0 :  None :     1 : False :  True : Binary\n",
            "         (3, 11) :     0 :  None :     1 : False :  True : Binary\n",
            "          (4, 0) :     0 :  None :     1 : False :  True : Binary\n",
            "          (4, 1) :     0 :  None :     1 : False :  True : Binary\n",
            "          (4, 2) :     0 :  None :     1 : False :  True : Binary\n",
            "          (4, 3) :     0 :  None :     1 : False :  True : Binary\n",
            "          (4, 4) :     0 :  None :     1 : False :  True : Binary\n",
            "          (4, 5) :     0 :  None :     1 : False :  True : Binary\n",
            "          (4, 6) :     0 :  None :     1 : False :  True : Binary\n",
            "          (4, 7) :     0 :  None :     1 : False :  True : Binary\n",
            "          (4, 8) :     0 :  None :     1 : False :  True : Binary\n",
            "          (4, 9) :     0 :  None :     1 : False :  True : Binary\n",
            "         (4, 10) :     0 :  None :     1 : False :  True : Binary\n",
            "         (4, 11) :     0 :  None :     1 : False :  True : Binary\n",
            "          (5, 0) :     0 :  None :     1 : False :  True : Binary\n",
            "          (5, 1) :     0 :  None :     1 : False :  True : Binary\n",
            "          (5, 2) :     0 :  None :     1 : False :  True : Binary\n",
            "          (5, 3) :     0 :  None :     1 : False :  True : Binary\n",
            "          (5, 4) :     0 :  None :     1 : False :  True : Binary\n",
            "          (5, 5) :     0 :  None :     1 : False :  True : Binary\n",
            "          (5, 6) :     0 :  None :     1 : False :  True : Binary\n",
            "          (5, 7) :     0 :  None :     1 : False :  True : Binary\n",
            "          (5, 8) :     0 :  None :     1 : False :  True : Binary\n",
            "          (5, 9) :     0 :  None :     1 : False :  True : Binary\n",
            "         (5, 10) :     0 :  None :     1 : False :  True : Binary\n",
            "         (5, 11) :     0 :  None :     1 : False :  True : Binary\n",
            "          (6, 0) :     0 :  None :     1 : False :  True : Binary\n",
            "          (6, 1) :     0 :  None :     1 : False :  True : Binary\n",
            "          (6, 2) :     0 :  None :     1 : False :  True : Binary\n",
            "          (6, 3) :     0 :  None :     1 : False :  True : Binary\n",
            "          (6, 4) :     0 :  None :     1 : False :  True : Binary\n",
            "          (6, 5) :     0 :  None :     1 : False :  True : Binary\n",
            "          (6, 6) :     0 :  None :     1 : False :  True : Binary\n",
            "          (6, 7) :     0 :  None :     1 : False :  True : Binary\n",
            "          (6, 8) :     0 :  None :     1 : False :  True : Binary\n",
            "          (6, 9) :     0 :  None :     1 : False :  True : Binary\n",
            "         (6, 10) :     0 :  None :     1 : False :  True : Binary\n",
            "         (6, 11) :     0 :  None :     1 : False :  True : Binary\n",
            "          (7, 0) :     0 :  None :     1 : False :  True : Binary\n",
            "          (7, 1) :     0 :  None :     1 : False :  True : Binary\n",
            "          (7, 2) :     0 :  None :     1 : False :  True : Binary\n",
            "          (7, 3) :     0 :  None :     1 : False :  True : Binary\n",
            "          (7, 4) :     0 :  None :     1 : False :  True : Binary\n",
            "          (7, 5) :     0 :  None :     1 : False :  True : Binary\n",
            "          (7, 6) :     0 :  None :     1 : False :  True : Binary\n",
            "          (7, 7) :     0 :  None :     1 : False :  True : Binary\n",
            "          (7, 8) :     0 :  None :     1 : False :  True : Binary\n",
            "          (7, 9) :     0 :  None :     1 : False :  True : Binary\n",
            "         (7, 10) :     0 :  None :     1 : False :  True : Binary\n",
            "         (7, 11) :     0 :  None :     1 : False :  True : Binary\n",
            "          (8, 0) :     0 :  None :     1 : False :  True : Binary\n",
            "          (8, 1) :     0 :  None :     1 : False :  True : Binary\n",
            "          (8, 2) :     0 :  None :     1 : False :  True : Binary\n",
            "          (8, 3) :     0 :  None :     1 : False :  True : Binary\n",
            "          (8, 4) :     0 :  None :     1 : False :  True : Binary\n",
            "          (8, 5) :     0 :  None :     1 : False :  True : Binary\n",
            "          (8, 6) :     0 :  None :     1 : False :  True : Binary\n",
            "          (8, 7) :     0 :  None :     1 : False :  True : Binary\n",
            "          (8, 8) :     0 :  None :     1 : False :  True : Binary\n",
            "          (8, 9) :     0 :  None :     1 : False :  True : Binary\n",
            "         (8, 10) :     0 :  None :     1 : False :  True : Binary\n",
            "         (8, 11) :     0 :  None :     1 : False :  True : Binary\n",
            "          (9, 0) :     0 :  None :     1 : False :  True : Binary\n",
            "          (9, 1) :     0 :  None :     1 : False :  True : Binary\n",
            "          (9, 2) :     0 :  None :     1 : False :  True : Binary\n",
            "          (9, 3) :     0 :  None :     1 : False :  True : Binary\n",
            "          (9, 4) :     0 :  None :     1 : False :  True : Binary\n",
            "          (9, 5) :     0 :  None :     1 : False :  True : Binary\n",
            "          (9, 6) :     0 :  None :     1 : False :  True : Binary\n",
            "          (9, 7) :     0 :  None :     1 : False :  True : Binary\n",
            "          (9, 8) :     0 :  None :     1 : False :  True : Binary\n",
            "          (9, 9) :     0 :  None :     1 : False :  True : Binary\n",
            "         (9, 10) :     0 :  None :     1 : False :  True : Binary\n",
            "         (9, 11) :     0 :  None :     1 : False :  True : Binary\n",
            "         (10, 0) :     0 :  None :     1 : False :  True : Binary\n",
            "         (10, 1) :     0 :  None :     1 : False :  True : Binary\n",
            "         (10, 2) :     0 :  None :     1 : False :  True : Binary\n",
            "         (10, 3) :     0 :  None :     1 : False :  True : Binary\n",
            "         (10, 4) :     0 :  None :     1 : False :  True : Binary\n",
            "         (10, 5) :     0 :  None :     1 : False :  True : Binary\n",
            "         (10, 6) :     0 :  None :     1 : False :  True : Binary\n",
            "         (10, 7) :     0 :  None :     1 : False :  True : Binary\n",
            "         (10, 8) :     0 :  None :     1 : False :  True : Binary\n",
            "         (10, 9) :     0 :  None :     1 : False :  True : Binary\n",
            "        (10, 10) :     0 :  None :     1 : False :  True : Binary\n",
            "        (10, 11) :     0 :  None :     1 : False :  True : Binary\n",
            "         (11, 0) :     0 :  None :     1 : False :  True : Binary\n",
            "         (11, 1) :     0 :  None :     1 : False :  True : Binary\n",
            "         (11, 2) :     0 :  None :     1 : False :  True : Binary\n",
            "         (11, 3) :     0 :  None :     1 : False :  True : Binary\n",
            "         (11, 4) :     0 :  None :     1 : False :  True : Binary\n",
            "         (11, 5) :     0 :  None :     1 : False :  True : Binary\n",
            "         (11, 6) :     0 :  None :     1 : False :  True : Binary\n",
            "         (11, 7) :     0 :  None :     1 : False :  True : Binary\n",
            "         (11, 8) :     0 :  None :     1 : False :  True : Binary\n",
            "         (11, 9) :     0 :  None :     1 : False :  True : Binary\n",
            "        (11, 10) :     0 :  None :     1 : False :  True : Binary\n",
            "        (11, 11) :     0 :  None :     1 : False :  True : Binary\n",
            "\n",
            "1 Objective Declarations\n",
            "    objective : Size=1, Index=None, Active=True\n",
            "        Key  : Active : Sense    : Expression\n",
            "        None :   True : minimize : 22.0*x[0,0] + 18.0*x[1,0] + 19.0*x[2,0] + 18.0*x[3,0] + 23.0*x[4,0] + 24.0*x[5,0] + 22.0*x[6,0] + 23.0*x[7,0] + 21.0*x[8,0] + 19.0*x[9,0] + 20.0*x[10,0] + 21.0*x[11,0] + 22.0*x[0,1] + 12.0*x[1,1] + 21.0*x[2,1] + 24.0*x[3,1] + 20.0*x[4,1] + 16.0*x[5,1] + 22.0*x[6,1] + 17.0*x[7,1] + 22.0*x[8,1] + 19.0*x[9,1] + 22.0*x[10,1] + 25.0*x[11,1] + 19.0*x[0,2] + 18.0*x[1,2] + 17.0*x[2,2] + 20.0*x[3,2] + 19.0*x[4,2] + 15.0*x[5,2] + 21.0*x[6,2] + 17.0*x[7,2] + 21.0*x[8,2] + 18.0*x[9,2] + 23.0*x[10,2] + 21.0*x[11,2] + 22.0*x[0,3] + 19.0*x[1,3] + 19.0*x[2,3] + 21.0*x[3,3] + 18.0*x[4,3] + 16.0*x[5,3] + 23.0*x[6,3] + 17.0*x[7,3] + 24.0*x[8,3] + 19.0*x[9,3] + 20.0*x[10,3] + 19.0*x[11,3] + 22.0*x[0,4] + 22.0*x[1,4] + 17.0*x[2,4] + 21.0*x[3,4] + 20.0*x[4,4] + 24.0*x[5,4] + 18.0*x[6,4] + 22.0*x[7,4] + 20.0*x[8,4] + 26.0*x[9,4] + 22.0*x[10,4] + 21.0*x[11,4] + 24.0*x[0,5] + 21.0*x[1,5] + 19.0*x[2,5] + 21.0*x[3,5] + 23.0*x[4,5] + 21.0*x[5,5] + 17.0*x[6,5] + 24.0*x[7,5] + 23.0*x[8,5] + 24.0*x[9,5] + 20.0*x[10,5] + 19.0*x[11,5] + 18.0*x[0,6] + 17.0*x[1,6] + 24.0*x[2,6] + 22.0*x[3,6] + 22.0*x[4,6] + 23.0*x[5,6] + 16.0*x[6,6] + 23.0*x[7,6] + 19.0*x[8,6] + 19.0*x[9,6] + 20.0*x[10,6] + 18.0*x[11,6] + 17.0*x[0,7] + 20.0*x[1,7] + 16.0*x[2,7] + 19.0*x[3,7] + 25.0*x[4,7] + 21.0*x[5,7] + 19.0*x[6,7] + 20.0*x[7,7] + 18.0*x[8,7] + 17.0*x[9,7] + 19.0*x[10,7] + 16.0*x[11,7] + 21.0*x[0,8] + 16.0*x[1,8] + 18.0*x[2,8] + 18.0*x[3,8] + 24.0*x[4,8] + 20.0*x[5,8] + 24.0*x[6,8] + 22.0*x[7,8] + 23.0*x[8,8] + 18.0*x[9,8] + 17.0*x[10,8] + 22.0*x[11,8] + 23.0*x[0,9] + 17.0*x[1,9] + 16.0*x[2,9] + 21.0*x[3,9] + 19.0*x[4,9] + 20.0*x[5,9] + 20.0*x[6,9] + 19.0*x[7,9] + 15.0*x[8,9] + 20.0*x[9,9] + 19.0*x[10,9] + 24.0*x[11,9] + 19.0*x[0,10] + 17.0*x[1,10] + 20.0*x[2,10] + 23.0*x[3,10] + 21.0*x[4,10] + 22.0*x[5,10] + 20.0*x[6,10] + 23.0*x[7,10] + 25.0*x[8,10] + 21.0*x[9,10] + 20.0*x[10,10] + 25.0*x[11,10] + 21.0*x[0,11] + 24.0*x[1,11] + 24.0*x[2,11] + 23.0*x[3,11] + 23.0*x[4,11] + 19.0*x[5,11] + 23.0*x[6,11] + 21.0*x[7,11] + 21.0*x[8,11] + 20.0*x[9,11] + 24.0*x[10,11] + 24.0*x[11,11]\n",
            "\n",
            "1 Constraint Declarations\n",
            "    constraints : Size=24, Index=constraints_index, Active=True\n",
            "        Key : Lower : Body                                                                                                                    : Upper : Active\n",
            "          1 :   1.0 :             x[0,0] + x[0,1] + x[0,2] + x[0,3] + x[0,4] + x[0,5] + x[0,6] + x[0,7] + x[0,8] + x[0,9] + x[0,10] + x[0,11] :   1.0 :   True\n",
            "          2 :   1.0 :             x[1,0] + x[1,1] + x[1,2] + x[1,3] + x[1,4] + x[1,5] + x[1,6] + x[1,7] + x[1,8] + x[1,9] + x[1,10] + x[1,11] :   1.0 :   True\n",
            "          3 :   1.0 :             x[2,0] + x[2,1] + x[2,2] + x[2,3] + x[2,4] + x[2,5] + x[2,6] + x[2,7] + x[2,8] + x[2,9] + x[2,10] + x[2,11] :   1.0 :   True\n",
            "          4 :   1.0 :             x[3,0] + x[3,1] + x[3,2] + x[3,3] + x[3,4] + x[3,5] + x[3,6] + x[3,7] + x[3,8] + x[3,9] + x[3,10] + x[3,11] :   1.0 :   True\n",
            "          5 :   1.0 :             x[4,0] + x[4,1] + x[4,2] + x[4,3] + x[4,4] + x[4,5] + x[4,6] + x[4,7] + x[4,8] + x[4,9] + x[4,10] + x[4,11] :   1.0 :   True\n",
            "          6 :   1.0 :             x[5,0] + x[5,1] + x[5,2] + x[5,3] + x[5,4] + x[5,5] + x[5,6] + x[5,7] + x[5,8] + x[5,9] + x[5,10] + x[5,11] :   1.0 :   True\n",
            "          7 :   1.0 :             x[6,0] + x[6,1] + x[6,2] + x[6,3] + x[6,4] + x[6,5] + x[6,6] + x[6,7] + x[6,8] + x[6,9] + x[6,10] + x[6,11] :   1.0 :   True\n",
            "          8 :   1.0 :             x[7,0] + x[7,1] + x[7,2] + x[7,3] + x[7,4] + x[7,5] + x[7,6] + x[7,7] + x[7,8] + x[7,9] + x[7,10] + x[7,11] :   1.0 :   True\n",
            "          9 :   1.0 :             x[8,0] + x[8,1] + x[8,2] + x[8,3] + x[8,4] + x[8,5] + x[8,6] + x[8,7] + x[8,8] + x[8,9] + x[8,10] + x[8,11] :   1.0 :   True\n",
            "         10 :   1.0 :             x[9,0] + x[9,1] + x[9,2] + x[9,3] + x[9,4] + x[9,5] + x[9,6] + x[9,7] + x[9,8] + x[9,9] + x[9,10] + x[9,11] :   1.0 :   True\n",
            "         11 :   1.0 : x[10,0] + x[10,1] + x[10,2] + x[10,3] + x[10,4] + x[10,5] + x[10,6] + x[10,7] + x[10,8] + x[10,9] + x[10,10] + x[10,11] :   1.0 :   True\n",
            "         12 :   1.0 : x[11,0] + x[11,1] + x[11,2] + x[11,3] + x[11,4] + x[11,5] + x[11,6] + x[11,7] + x[11,8] + x[11,9] + x[11,10] + x[11,11] :   1.0 :   True\n",
            "         13 :   1.0 :             x[0,0] + x[1,0] + x[2,0] + x[3,0] + x[4,0] + x[5,0] + x[6,0] + x[7,0] + x[8,0] + x[9,0] + x[10,0] + x[11,0] :   1.0 :   True\n",
            "         14 :   1.0 :             x[0,1] + x[1,1] + x[2,1] + x[3,1] + x[4,1] + x[5,1] + x[6,1] + x[7,1] + x[8,1] + x[9,1] + x[10,1] + x[11,1] :   1.0 :   True\n",
            "         15 :   1.0 :             x[0,2] + x[1,2] + x[2,2] + x[3,2] + x[4,2] + x[5,2] + x[6,2] + x[7,2] + x[8,2] + x[9,2] + x[10,2] + x[11,2] :   1.0 :   True\n",
            "         16 :   1.0 :             x[0,3] + x[1,3] + x[2,3] + x[3,3] + x[4,3] + x[5,3] + x[6,3] + x[7,3] + x[8,3] + x[9,3] + x[10,3] + x[11,3] :   1.0 :   True\n",
            "         17 :   1.0 :             x[0,4] + x[1,4] + x[2,4] + x[3,4] + x[4,4] + x[5,4] + x[6,4] + x[7,4] + x[8,4] + x[9,4] + x[10,4] + x[11,4] :   1.0 :   True\n",
            "         18 :   1.0 :             x[0,5] + x[1,5] + x[2,5] + x[3,5] + x[4,5] + x[5,5] + x[6,5] + x[7,5] + x[8,5] + x[9,5] + x[10,5] + x[11,5] :   1.0 :   True\n",
            "         19 :   1.0 :             x[0,6] + x[1,6] + x[2,6] + x[3,6] + x[4,6] + x[5,6] + x[6,6] + x[7,6] + x[8,6] + x[9,6] + x[10,6] + x[11,6] :   1.0 :   True\n",
            "         20 :   1.0 :             x[0,7] + x[1,7] + x[2,7] + x[3,7] + x[4,7] + x[5,7] + x[6,7] + x[7,7] + x[8,7] + x[9,7] + x[10,7] + x[11,7] :   1.0 :   True\n",
            "         21 :   1.0 :             x[0,8] + x[1,8] + x[2,8] + x[3,8] + x[4,8] + x[5,8] + x[6,8] + x[7,8] + x[8,8] + x[9,8] + x[10,8] + x[11,8] :   1.0 :   True\n",
            "         22 :   1.0 :             x[0,9] + x[1,9] + x[2,9] + x[3,9] + x[4,9] + x[5,9] + x[6,9] + x[7,9] + x[8,9] + x[9,9] + x[10,9] + x[11,9] :   1.0 :   True\n",
            "         23 :   1.0 : x[0,10] + x[1,10] + x[2,10] + x[3,10] + x[4,10] + x[5,10] + x[6,10] + x[7,10] + x[8,10] + x[9,10] + x[10,10] + x[11,10] :   1.0 :   True\n",
            "         24 :   1.0 : x[0,11] + x[1,11] + x[2,11] + x[3,11] + x[4,11] + x[5,11] + x[6,11] + x[7,11] + x[8,11] + x[9,11] + x[10,11] + x[11,11] :   1.0 :   True\n",
            "\n",
            "7 Declarations: x_index_0 x_index_1 x_index x objective constraints_index constraints\n"
          ]
        }
      ]
    },
    {
      "cell_type": "code",
      "metadata": {
        "id": "cMNrAkwD6I35"
      },
      "source": [
        "!apt-get install -y -qq coinor-cbc"
      ],
      "execution_count": 15,
      "outputs": []
    },
    {
      "cell_type": "code",
      "metadata": {
        "id": "6fLcemtd6W1o"
      },
      "source": [
        "opt_cbc=SolverFactory('cbc')"
      ],
      "execution_count": 16,
      "outputs": []
    },
    {
      "cell_type": "code",
      "metadata": {
        "colab": {
          "base_uri": "https://localhost:8080/"
        },
        "id": "u4G1klUf6dr1",
        "outputId": "17916188-80e4-475b-855e-a504c8f6bf8f"
      },
      "source": [
        "result = opt_cbc.solve(model_lab5_ex2)\n",
        "print('Solver status:', result.solver.status)\n",
        "print('Solver termination condition:',result.solver.termination_condition)"
      ],
      "execution_count": 17,
      "outputs": [
        {
          "output_type": "stream",
          "name": "stdout",
          "text": [
            "Solver status: ok\n",
            "Solver termination condition: optimal\n"
          ]
        }
      ]
    },
    {
      "cell_type": "markdown",
      "metadata": {
        "id": "imwTb6nh-3G7"
      },
      "source": [
        "**Ex 2 part 8**"
      ]
    },
    {
      "cell_type": "code",
      "metadata": {
        "colab": {
          "base_uri": "https://localhost:8080/"
        },
        "id": "NailbpR46eGO",
        "outputId": "eceb0bef-c21b-4950-a437-3b9653520477"
      },
      "source": [
        "# display solution\n",
        "print('\\nObjective = ', model_lab5_ex2.objective())\n",
        "\n",
        "print('\\nLocate factories in following ways')\n",
        "for i in row_indices:\n",
        "  for j in col_indices:\n",
        "    if model_lab5_ex2.x[i,j].value==1:\n",
        "      print('factory ',i+1,' will be located at location ',j+1)"
      ],
      "execution_count": 18,
      "outputs": [
        {
          "output_type": "stream",
          "name": "stdout",
          "text": [
            "\n",
            "Objective =  203.0\n",
            "\n",
            "Locate factories in following ways\n",
            "factory  1  will be located at location  7\n",
            "factory  2  will be located at location  2\n",
            "factory  3  will be located at location  5\n",
            "factory  4  will be located at location  1\n",
            "factory  5  will be located at location  11\n",
            "factory  6  will be located at location  3\n",
            "factory  7  will be located at location  6\n",
            "factory  8  will be located at location  4\n",
            "factory  9  will be located at location  10\n",
            "factory  10  will be located at location  12\n",
            "factory  11  will be located at location  9\n",
            "factory  12  will be located at location  8\n"
          ]
        }
      ]
    },
    {
      "cell_type": "markdown",
      "metadata": {
        "id": "9CDHFy637pk3"
      },
      "source": [
        "**Ex 2 part 9**"
      ]
    },
    {
      "cell_type": "code",
      "metadata": {
        "id": "sTStI91a7JSe"
      },
      "source": [
        "#changing domain of variables to reals\n",
        "model_lab5_ex2.x.domain=Reals"
      ],
      "execution_count": 19,
      "outputs": []
    },
    {
      "cell_type": "code",
      "metadata": {
        "id": "xkzcAtxu7yFJ"
      },
      "source": [
        "#setting lower and upper bound\n",
        "for i in row_indices:\n",
        "  for j in col_indices:\n",
        "    model_lab5_ex2.x[i,j].setlb(0)\n",
        "    model_lab5_ex2.x[i,j].setub(1)"
      ],
      "execution_count": 20,
      "outputs": []
    },
    {
      "cell_type": "code",
      "metadata": {
        "colab": {
          "base_uri": "https://localhost:8080/"
        },
        "id": "2p4NFIM88HZf",
        "outputId": "1df7bfba-570e-45df-cc3a-3b3d1dd884d6"
      },
      "source": [
        "model_lab5_ex2.pprint()"
      ],
      "execution_count": 21,
      "outputs": [
        {
          "output_type": "stream",
          "name": "stdout",
          "text": [
            "4 Set Declarations\n",
            "    constraints_index : Size=1, Index=None, Ordered=Insertion\n",
            "        Key  : Dimen : Domain : Size : Members\n",
            "        None :     1 :    Any :   24 : {1, 2, 3, 4, 5, 6, 7, 8, 9, 10, 11, 12, 13, 14, 15, 16, 17, 18, 19, 20, 21, 22, 23, 24}\n",
            "    x_index : Size=1, Index=None, Ordered=False\n",
            "        Key  : Dimen : Domain              : Size : Members\n",
            "        None :     2 : x_index_0*x_index_1 :  144 : {(0, 0), (0, 1), (0, 2), (0, 3), (0, 4), (0, 5), (0, 6), (0, 7), (0, 8), (0, 9), (0, 10), (0, 11), (1, 0), (1, 1), (1, 2), (1, 3), (1, 4), (1, 5), (1, 6), (1, 7), (1, 8), (1, 9), (1, 10), (1, 11), (2, 0), (2, 1), (2, 2), (2, 3), (2, 4), (2, 5), (2, 6), (2, 7), (2, 8), (2, 9), (2, 10), (2, 11), (3, 0), (3, 1), (3, 2), (3, 3), (3, 4), (3, 5), (3, 6), (3, 7), (3, 8), (3, 9), (3, 10), (3, 11), (4, 0), (4, 1), (4, 2), (4, 3), (4, 4), (4, 5), (4, 6), (4, 7), (4, 8), (4, 9), (4, 10), (4, 11), (5, 0), (5, 1), (5, 2), (5, 3), (5, 4), (5, 5), (5, 6), (5, 7), (5, 8), (5, 9), (5, 10), (5, 11), (6, 0), (6, 1), (6, 2), (6, 3), (6, 4), (6, 5), (6, 6), (6, 7), (6, 8), (6, 9), (6, 10), (6, 11), (7, 0), (7, 1), (7, 2), (7, 3), (7, 4), (7, 5), (7, 6), (7, 7), (7, 8), (7, 9), (7, 10), (7, 11), (8, 0), (8, 1), (8, 2), (8, 3), (8, 4), (8, 5), (8, 6), (8, 7), (8, 8), (8, 9), (8, 10), (8, 11), (9, 0), (9, 1), (9, 2), (9, 3), (9, 4), (9, 5), (9, 6), (9, 7), (9, 8), (9, 9), (9, 10), (9, 11), (10, 0), (10, 1), (10, 2), (10, 3), (10, 4), (10, 5), (10, 6), (10, 7), (10, 8), (10, 9), (10, 10), (10, 11), (11, 0), (11, 1), (11, 2), (11, 3), (11, 4), (11, 5), (11, 6), (11, 7), (11, 8), (11, 9), (11, 10), (11, 11)}\n",
            "    x_index_0 : Size=1, Index=None, Ordered=False\n",
            "        Key  : Dimen : Domain : Size : Members\n",
            "        None :     1 :    Any :   12 : {0, 1, 2, 3, 4, 5, 6, 7, 8, 9, 10, 11}\n",
            "    x_index_1 : Size=1, Index=None, Ordered=False\n",
            "        Key  : Dimen : Domain : Size : Members\n",
            "        None :     1 :    Any :   12 : {0, 1, 2, 3, 4, 5, 6, 7, 8, 9, 10, 11}\n",
            "\n",
            "1 Var Declarations\n",
            "    x : Size=144, Index=x_index\n",
            "        Key      : Lower : Value : Upper : Fixed : Stale : Domain\n",
            "          (0, 0) :     0 :   0.0 :     1 : False : False :  Reals\n",
            "          (0, 1) :     0 :   0.0 :     1 : False : False :  Reals\n",
            "          (0, 2) :     0 :   0.0 :     1 : False : False :  Reals\n",
            "          (0, 3) :     0 :   0.0 :     1 : False : False :  Reals\n",
            "          (0, 4) :     0 :   0.0 :     1 : False : False :  Reals\n",
            "          (0, 5) :     0 :   0.0 :     1 : False : False :  Reals\n",
            "          (0, 6) :     0 :   1.0 :     1 : False : False :  Reals\n",
            "          (0, 7) :     0 :   0.0 :     1 : False : False :  Reals\n",
            "          (0, 8) :     0 :   0.0 :     1 : False : False :  Reals\n",
            "          (0, 9) :     0 :   0.0 :     1 : False : False :  Reals\n",
            "         (0, 10) :     0 :   0.0 :     1 : False : False :  Reals\n",
            "         (0, 11) :     0 :   0.0 :     1 : False : False :  Reals\n",
            "          (1, 0) :     0 :   0.0 :     1 : False : False :  Reals\n",
            "          (1, 1) :     0 :   1.0 :     1 : False : False :  Reals\n",
            "          (1, 2) :     0 :   0.0 :     1 : False : False :  Reals\n",
            "          (1, 3) :     0 :   0.0 :     1 : False : False :  Reals\n",
            "          (1, 4) :     0 :   0.0 :     1 : False : False :  Reals\n",
            "          (1, 5) :     0 :   0.0 :     1 : False : False :  Reals\n",
            "          (1, 6) :     0 :   0.0 :     1 : False : False :  Reals\n",
            "          (1, 7) :     0 :   0.0 :     1 : False : False :  Reals\n",
            "          (1, 8) :     0 :   0.0 :     1 : False : False :  Reals\n",
            "          (1, 9) :     0 :   0.0 :     1 : False : False :  Reals\n",
            "         (1, 10) :     0 :   0.0 :     1 : False : False :  Reals\n",
            "         (1, 11) :     0 :   0.0 :     1 : False : False :  Reals\n",
            "          (2, 0) :     0 :   0.0 :     1 : False : False :  Reals\n",
            "          (2, 1) :     0 :   0.0 :     1 : False : False :  Reals\n",
            "          (2, 2) :     0 :   0.0 :     1 : False : False :  Reals\n",
            "          (2, 3) :     0 :   0.0 :     1 : False : False :  Reals\n",
            "          (2, 4) :     0 :   1.0 :     1 : False : False :  Reals\n",
            "          (2, 5) :     0 :   0.0 :     1 : False : False :  Reals\n",
            "          (2, 6) :     0 :   0.0 :     1 : False : False :  Reals\n",
            "          (2, 7) :     0 :   0.0 :     1 : False : False :  Reals\n",
            "          (2, 8) :     0 :   0.0 :     1 : False : False :  Reals\n",
            "          (2, 9) :     0 :   0.0 :     1 : False : False :  Reals\n",
            "         (2, 10) :     0 :   0.0 :     1 : False : False :  Reals\n",
            "         (2, 11) :     0 :   0.0 :     1 : False : False :  Reals\n",
            "          (3, 0) :     0 :   1.0 :     1 : False : False :  Reals\n",
            "          (3, 1) :     0 :   0.0 :     1 : False : False :  Reals\n",
            "          (3, 2) :     0 :   0.0 :     1 : False : False :  Reals\n",
            "          (3, 3) :     0 :   0.0 :     1 : False : False :  Reals\n",
            "          (3, 4) :     0 :   0.0 :     1 : False : False :  Reals\n",
            "          (3, 5) :     0 :   0.0 :     1 : False : False :  Reals\n",
            "          (3, 6) :     0 :   0.0 :     1 : False : False :  Reals\n",
            "          (3, 7) :     0 :   0.0 :     1 : False : False :  Reals\n",
            "          (3, 8) :     0 :   0.0 :     1 : False : False :  Reals\n",
            "          (3, 9) :     0 :   0.0 :     1 : False : False :  Reals\n",
            "         (3, 10) :     0 :   0.0 :     1 : False : False :  Reals\n",
            "         (3, 11) :     0 :   0.0 :     1 : False : False :  Reals\n",
            "          (4, 0) :     0 :   0.0 :     1 : False : False :  Reals\n",
            "          (4, 1) :     0 :   0.0 :     1 : False : False :  Reals\n",
            "          (4, 2) :     0 :   0.0 :     1 : False : False :  Reals\n",
            "          (4, 3) :     0 :   0.0 :     1 : False : False :  Reals\n",
            "          (4, 4) :     0 :   0.0 :     1 : False : False :  Reals\n",
            "          (4, 5) :     0 :   0.0 :     1 : False : False :  Reals\n",
            "          (4, 6) :     0 :   0.0 :     1 : False : False :  Reals\n",
            "          (4, 7) :     0 :   0.0 :     1 : False : False :  Reals\n",
            "          (4, 8) :     0 :   0.0 :     1 : False : False :  Reals\n",
            "          (4, 9) :     0 :   0.0 :     1 : False : False :  Reals\n",
            "         (4, 10) :     0 :   1.0 :     1 : False : False :  Reals\n",
            "         (4, 11) :     0 :   0.0 :     1 : False : False :  Reals\n",
            "          (5, 0) :     0 :   0.0 :     1 : False : False :  Reals\n",
            "          (5, 1) :     0 :   0.0 :     1 : False : False :  Reals\n",
            "          (5, 2) :     0 :   1.0 :     1 : False : False :  Reals\n",
            "          (5, 3) :     0 :   0.0 :     1 : False : False :  Reals\n",
            "          (5, 4) :     0 :   0.0 :     1 : False : False :  Reals\n",
            "          (5, 5) :     0 :   0.0 :     1 : False : False :  Reals\n",
            "          (5, 6) :     0 :   0.0 :     1 : False : False :  Reals\n",
            "          (5, 7) :     0 :   0.0 :     1 : False : False :  Reals\n",
            "          (5, 8) :     0 :   0.0 :     1 : False : False :  Reals\n",
            "          (5, 9) :     0 :   0.0 :     1 : False : False :  Reals\n",
            "         (5, 10) :     0 :   0.0 :     1 : False : False :  Reals\n",
            "         (5, 11) :     0 :   0.0 :     1 : False : False :  Reals\n",
            "          (6, 0) :     0 :   0.0 :     1 : False : False :  Reals\n",
            "          (6, 1) :     0 :   0.0 :     1 : False : False :  Reals\n",
            "          (6, 2) :     0 :   0.0 :     1 : False : False :  Reals\n",
            "          (6, 3) :     0 :   0.0 :     1 : False : False :  Reals\n",
            "          (6, 4) :     0 :   0.0 :     1 : False : False :  Reals\n",
            "          (6, 5) :     0 :   1.0 :     1 : False : False :  Reals\n",
            "          (6, 6) :     0 :   0.0 :     1 : False : False :  Reals\n",
            "          (6, 7) :     0 :   0.0 :     1 : False : False :  Reals\n",
            "          (6, 8) :     0 :   0.0 :     1 : False : False :  Reals\n",
            "          (6, 9) :     0 :   0.0 :     1 : False : False :  Reals\n",
            "         (6, 10) :     0 :   0.0 :     1 : False : False :  Reals\n",
            "         (6, 11) :     0 :   0.0 :     1 : False : False :  Reals\n",
            "          (7, 0) :     0 :   0.0 :     1 : False : False :  Reals\n",
            "          (7, 1) :     0 :   0.0 :     1 : False : False :  Reals\n",
            "          (7, 2) :     0 :   0.0 :     1 : False : False :  Reals\n",
            "          (7, 3) :     0 :   1.0 :     1 : False : False :  Reals\n",
            "          (7, 4) :     0 :   0.0 :     1 : False : False :  Reals\n",
            "          (7, 5) :     0 :   0.0 :     1 : False : False :  Reals\n",
            "          (7, 6) :     0 :   0.0 :     1 : False : False :  Reals\n",
            "          (7, 7) :     0 :   0.0 :     1 : False : False :  Reals\n",
            "          (7, 8) :     0 :   0.0 :     1 : False : False :  Reals\n",
            "          (7, 9) :     0 :   0.0 :     1 : False : False :  Reals\n",
            "         (7, 10) :     0 :   0.0 :     1 : False : False :  Reals\n",
            "         (7, 11) :     0 :   0.0 :     1 : False : False :  Reals\n",
            "          (8, 0) :     0 :   0.0 :     1 : False : False :  Reals\n",
            "          (8, 1) :     0 :   0.0 :     1 : False : False :  Reals\n",
            "          (8, 2) :     0 :   0.0 :     1 : False : False :  Reals\n",
            "          (8, 3) :     0 :   0.0 :     1 : False : False :  Reals\n",
            "          (8, 4) :     0 :   0.0 :     1 : False : False :  Reals\n",
            "          (8, 5) :     0 :   0.0 :     1 : False : False :  Reals\n",
            "          (8, 6) :     0 :   0.0 :     1 : False : False :  Reals\n",
            "          (8, 7) :     0 :   0.0 :     1 : False : False :  Reals\n",
            "          (8, 8) :     0 :   0.0 :     1 : False : False :  Reals\n",
            "          (8, 9) :     0 :   1.0 :     1 : False : False :  Reals\n",
            "         (8, 10) :     0 :   0.0 :     1 : False : False :  Reals\n",
            "         (8, 11) :     0 :   0.0 :     1 : False : False :  Reals\n",
            "          (9, 0) :     0 :   0.0 :     1 : False : False :  Reals\n",
            "          (9, 1) :     0 :   0.0 :     1 : False : False :  Reals\n",
            "          (9, 2) :     0 :   0.0 :     1 : False : False :  Reals\n",
            "          (9, 3) :     0 :   0.0 :     1 : False : False :  Reals\n",
            "          (9, 4) :     0 :   0.0 :     1 : False : False :  Reals\n",
            "          (9, 5) :     0 :   0.0 :     1 : False : False :  Reals\n",
            "          (9, 6) :     0 :   0.0 :     1 : False : False :  Reals\n",
            "          (9, 7) :     0 :   0.0 :     1 : False : False :  Reals\n",
            "          (9, 8) :     0 :   0.0 :     1 : False : False :  Reals\n",
            "          (9, 9) :     0 :   0.0 :     1 : False : False :  Reals\n",
            "         (9, 10) :     0 :   0.0 :     1 : False : False :  Reals\n",
            "         (9, 11) :     0 :   1.0 :     1 : False : False :  Reals\n",
            "         (10, 0) :     0 :   0.0 :     1 : False : False :  Reals\n",
            "         (10, 1) :     0 :   0.0 :     1 : False : False :  Reals\n",
            "         (10, 2) :     0 :   0.0 :     1 : False : False :  Reals\n",
            "         (10, 3) :     0 :   0.0 :     1 : False : False :  Reals\n",
            "         (10, 4) :     0 :   0.0 :     1 : False : False :  Reals\n",
            "         (10, 5) :     0 :   0.0 :     1 : False : False :  Reals\n",
            "         (10, 6) :     0 :   0.0 :     1 : False : False :  Reals\n",
            "         (10, 7) :     0 :   0.0 :     1 : False : False :  Reals\n",
            "         (10, 8) :     0 :   1.0 :     1 : False : False :  Reals\n",
            "         (10, 9) :     0 :   0.0 :     1 : False : False :  Reals\n",
            "        (10, 10) :     0 :   0.0 :     1 : False : False :  Reals\n",
            "        (10, 11) :     0 :   0.0 :     1 : False : False :  Reals\n",
            "         (11, 0) :     0 :   0.0 :     1 : False : False :  Reals\n",
            "         (11, 1) :     0 :   0.0 :     1 : False : False :  Reals\n",
            "         (11, 2) :     0 :   0.0 :     1 : False : False :  Reals\n",
            "         (11, 3) :     0 :   0.0 :     1 : False : False :  Reals\n",
            "         (11, 4) :     0 :   0.0 :     1 : False : False :  Reals\n",
            "         (11, 5) :     0 :   0.0 :     1 : False : False :  Reals\n",
            "         (11, 6) :     0 :   0.0 :     1 : False : False :  Reals\n",
            "         (11, 7) :     0 :   1.0 :     1 : False : False :  Reals\n",
            "         (11, 8) :     0 :   0.0 :     1 : False : False :  Reals\n",
            "         (11, 9) :     0 :   0.0 :     1 : False : False :  Reals\n",
            "        (11, 10) :     0 :   0.0 :     1 : False : False :  Reals\n",
            "        (11, 11) :     0 :   0.0 :     1 : False : False :  Reals\n",
            "\n",
            "1 Objective Declarations\n",
            "    objective : Size=1, Index=None, Active=True\n",
            "        Key  : Active : Sense    : Expression\n",
            "        None :   True : minimize : 22.0*x[0,0] + 18.0*x[1,0] + 19.0*x[2,0] + 18.0*x[3,0] + 23.0*x[4,0] + 24.0*x[5,0] + 22.0*x[6,0] + 23.0*x[7,0] + 21.0*x[8,0] + 19.0*x[9,0] + 20.0*x[10,0] + 21.0*x[11,0] + 22.0*x[0,1] + 12.0*x[1,1] + 21.0*x[2,1] + 24.0*x[3,1] + 20.0*x[4,1] + 16.0*x[5,1] + 22.0*x[6,1] + 17.0*x[7,1] + 22.0*x[8,1] + 19.0*x[9,1] + 22.0*x[10,1] + 25.0*x[11,1] + 19.0*x[0,2] + 18.0*x[1,2] + 17.0*x[2,2] + 20.0*x[3,2] + 19.0*x[4,2] + 15.0*x[5,2] + 21.0*x[6,2] + 17.0*x[7,2] + 21.0*x[8,2] + 18.0*x[9,2] + 23.0*x[10,2] + 21.0*x[11,2] + 22.0*x[0,3] + 19.0*x[1,3] + 19.0*x[2,3] + 21.0*x[3,3] + 18.0*x[4,3] + 16.0*x[5,3] + 23.0*x[6,3] + 17.0*x[7,3] + 24.0*x[8,3] + 19.0*x[9,3] + 20.0*x[10,3] + 19.0*x[11,3] + 22.0*x[0,4] + 22.0*x[1,4] + 17.0*x[2,4] + 21.0*x[3,4] + 20.0*x[4,4] + 24.0*x[5,4] + 18.0*x[6,4] + 22.0*x[7,4] + 20.0*x[8,4] + 26.0*x[9,4] + 22.0*x[10,4] + 21.0*x[11,4] + 24.0*x[0,5] + 21.0*x[1,5] + 19.0*x[2,5] + 21.0*x[3,5] + 23.0*x[4,5] + 21.0*x[5,5] + 17.0*x[6,5] + 24.0*x[7,5] + 23.0*x[8,5] + 24.0*x[9,5] + 20.0*x[10,5] + 19.0*x[11,5] + 18.0*x[0,6] + 17.0*x[1,6] + 24.0*x[2,6] + 22.0*x[3,6] + 22.0*x[4,6] + 23.0*x[5,6] + 16.0*x[6,6] + 23.0*x[7,6] + 19.0*x[8,6] + 19.0*x[9,6] + 20.0*x[10,6] + 18.0*x[11,6] + 17.0*x[0,7] + 20.0*x[1,7] + 16.0*x[2,7] + 19.0*x[3,7] + 25.0*x[4,7] + 21.0*x[5,7] + 19.0*x[6,7] + 20.0*x[7,7] + 18.0*x[8,7] + 17.0*x[9,7] + 19.0*x[10,7] + 16.0*x[11,7] + 21.0*x[0,8] + 16.0*x[1,8] + 18.0*x[2,8] + 18.0*x[3,8] + 24.0*x[4,8] + 20.0*x[5,8] + 24.0*x[6,8] + 22.0*x[7,8] + 23.0*x[8,8] + 18.0*x[9,8] + 17.0*x[10,8] + 22.0*x[11,8] + 23.0*x[0,9] + 17.0*x[1,9] + 16.0*x[2,9] + 21.0*x[3,9] + 19.0*x[4,9] + 20.0*x[5,9] + 20.0*x[6,9] + 19.0*x[7,9] + 15.0*x[8,9] + 20.0*x[9,9] + 19.0*x[10,9] + 24.0*x[11,9] + 19.0*x[0,10] + 17.0*x[1,10] + 20.0*x[2,10] + 23.0*x[3,10] + 21.0*x[4,10] + 22.0*x[5,10] + 20.0*x[6,10] + 23.0*x[7,10] + 25.0*x[8,10] + 21.0*x[9,10] + 20.0*x[10,10] + 25.0*x[11,10] + 21.0*x[0,11] + 24.0*x[1,11] + 24.0*x[2,11] + 23.0*x[3,11] + 23.0*x[4,11] + 19.0*x[5,11] + 23.0*x[6,11] + 21.0*x[7,11] + 21.0*x[8,11] + 20.0*x[9,11] + 24.0*x[10,11] + 24.0*x[11,11]\n",
            "\n",
            "1 Constraint Declarations\n",
            "    constraints : Size=24, Index=constraints_index, Active=True\n",
            "        Key : Lower : Body                                                                                                                    : Upper : Active\n",
            "          1 :   1.0 :             x[0,0] + x[0,1] + x[0,2] + x[0,3] + x[0,4] + x[0,5] + x[0,6] + x[0,7] + x[0,8] + x[0,9] + x[0,10] + x[0,11] :   1.0 :   True\n",
            "          2 :   1.0 :             x[1,0] + x[1,1] + x[1,2] + x[1,3] + x[1,4] + x[1,5] + x[1,6] + x[1,7] + x[1,8] + x[1,9] + x[1,10] + x[1,11] :   1.0 :   True\n",
            "          3 :   1.0 :             x[2,0] + x[2,1] + x[2,2] + x[2,3] + x[2,4] + x[2,5] + x[2,6] + x[2,7] + x[2,8] + x[2,9] + x[2,10] + x[2,11] :   1.0 :   True\n",
            "          4 :   1.0 :             x[3,0] + x[3,1] + x[3,2] + x[3,3] + x[3,4] + x[3,5] + x[3,6] + x[3,7] + x[3,8] + x[3,9] + x[3,10] + x[3,11] :   1.0 :   True\n",
            "          5 :   1.0 :             x[4,0] + x[4,1] + x[4,2] + x[4,3] + x[4,4] + x[4,5] + x[4,6] + x[4,7] + x[4,8] + x[4,9] + x[4,10] + x[4,11] :   1.0 :   True\n",
            "          6 :   1.0 :             x[5,0] + x[5,1] + x[5,2] + x[5,3] + x[5,4] + x[5,5] + x[5,6] + x[5,7] + x[5,8] + x[5,9] + x[5,10] + x[5,11] :   1.0 :   True\n",
            "          7 :   1.0 :             x[6,0] + x[6,1] + x[6,2] + x[6,3] + x[6,4] + x[6,5] + x[6,6] + x[6,7] + x[6,8] + x[6,9] + x[6,10] + x[6,11] :   1.0 :   True\n",
            "          8 :   1.0 :             x[7,0] + x[7,1] + x[7,2] + x[7,3] + x[7,4] + x[7,5] + x[7,6] + x[7,7] + x[7,8] + x[7,9] + x[7,10] + x[7,11] :   1.0 :   True\n",
            "          9 :   1.0 :             x[8,0] + x[8,1] + x[8,2] + x[8,3] + x[8,4] + x[8,5] + x[8,6] + x[8,7] + x[8,8] + x[8,9] + x[8,10] + x[8,11] :   1.0 :   True\n",
            "         10 :   1.0 :             x[9,0] + x[9,1] + x[9,2] + x[9,3] + x[9,4] + x[9,5] + x[9,6] + x[9,7] + x[9,8] + x[9,9] + x[9,10] + x[9,11] :   1.0 :   True\n",
            "         11 :   1.0 : x[10,0] + x[10,1] + x[10,2] + x[10,3] + x[10,4] + x[10,5] + x[10,6] + x[10,7] + x[10,8] + x[10,9] + x[10,10] + x[10,11] :   1.0 :   True\n",
            "         12 :   1.0 : x[11,0] + x[11,1] + x[11,2] + x[11,3] + x[11,4] + x[11,5] + x[11,6] + x[11,7] + x[11,8] + x[11,9] + x[11,10] + x[11,11] :   1.0 :   True\n",
            "         13 :   1.0 :             x[0,0] + x[1,0] + x[2,0] + x[3,0] + x[4,0] + x[5,0] + x[6,0] + x[7,0] + x[8,0] + x[9,0] + x[10,0] + x[11,0] :   1.0 :   True\n",
            "         14 :   1.0 :             x[0,1] + x[1,1] + x[2,1] + x[3,1] + x[4,1] + x[5,1] + x[6,1] + x[7,1] + x[8,1] + x[9,1] + x[10,1] + x[11,1] :   1.0 :   True\n",
            "         15 :   1.0 :             x[0,2] + x[1,2] + x[2,2] + x[3,2] + x[4,2] + x[5,2] + x[6,2] + x[7,2] + x[8,2] + x[9,2] + x[10,2] + x[11,2] :   1.0 :   True\n",
            "         16 :   1.0 :             x[0,3] + x[1,3] + x[2,3] + x[3,3] + x[4,3] + x[5,3] + x[6,3] + x[7,3] + x[8,3] + x[9,3] + x[10,3] + x[11,3] :   1.0 :   True\n",
            "         17 :   1.0 :             x[0,4] + x[1,4] + x[2,4] + x[3,4] + x[4,4] + x[5,4] + x[6,4] + x[7,4] + x[8,4] + x[9,4] + x[10,4] + x[11,4] :   1.0 :   True\n",
            "         18 :   1.0 :             x[0,5] + x[1,5] + x[2,5] + x[3,5] + x[4,5] + x[5,5] + x[6,5] + x[7,5] + x[8,5] + x[9,5] + x[10,5] + x[11,5] :   1.0 :   True\n",
            "         19 :   1.0 :             x[0,6] + x[1,6] + x[2,6] + x[3,6] + x[4,6] + x[5,6] + x[6,6] + x[7,6] + x[8,6] + x[9,6] + x[10,6] + x[11,6] :   1.0 :   True\n",
            "         20 :   1.0 :             x[0,7] + x[1,7] + x[2,7] + x[3,7] + x[4,7] + x[5,7] + x[6,7] + x[7,7] + x[8,7] + x[9,7] + x[10,7] + x[11,7] :   1.0 :   True\n",
            "         21 :   1.0 :             x[0,8] + x[1,8] + x[2,8] + x[3,8] + x[4,8] + x[5,8] + x[6,8] + x[7,8] + x[8,8] + x[9,8] + x[10,8] + x[11,8] :   1.0 :   True\n",
            "         22 :   1.0 :             x[0,9] + x[1,9] + x[2,9] + x[3,9] + x[4,9] + x[5,9] + x[6,9] + x[7,9] + x[8,9] + x[9,9] + x[10,9] + x[11,9] :   1.0 :   True\n",
            "         23 :   1.0 : x[0,10] + x[1,10] + x[2,10] + x[3,10] + x[4,10] + x[5,10] + x[6,10] + x[7,10] + x[8,10] + x[9,10] + x[10,10] + x[11,10] :   1.0 :   True\n",
            "         24 :   1.0 : x[0,11] + x[1,11] + x[2,11] + x[3,11] + x[4,11] + x[5,11] + x[6,11] + x[7,11] + x[8,11] + x[9,11] + x[10,11] + x[11,11] :   1.0 :   True\n",
            "\n",
            "7 Declarations: x_index_0 x_index_1 x_index x objective constraints_index constraints\n"
          ]
        }
      ]
    },
    {
      "cell_type": "code",
      "metadata": {
        "colab": {
          "base_uri": "https://localhost:8080/"
        },
        "id": "WU6M4r1v8Kn_",
        "outputId": "9125cb4c-adf4-4ac8-a46c-77370aebc94f"
      },
      "source": [
        "result = opt_cbc.solve(model_lab5_ex2)\n",
        "print('Solver status:', result.solver.status)\n",
        "print('Solver termination condition:',result.solver.termination_condition)"
      ],
      "execution_count": 22,
      "outputs": [
        {
          "output_type": "stream",
          "name": "stdout",
          "text": [
            "Solver status: ok\n",
            "Solver termination condition: optimal\n"
          ]
        }
      ]
    },
    {
      "cell_type": "code",
      "metadata": {
        "colab": {
          "base_uri": "https://localhost:8080/"
        },
        "id": "iY-FA1WL8YO5",
        "outputId": "32fe9cc6-6d16-42b4-d6c9-94530bd18cc9"
      },
      "source": [
        "# display solution\n",
        "print('\\nObjective = ', model_lab5_ex2.objective())\n",
        "\n",
        "print('\\nWe will have to locate factories as follows')\n",
        "for i in row_indices:\n",
        "  for j in col_indices:\n",
        "    if model_lab5_ex2.x[i,j].value==1:\n",
        "      print('factory ',i+1,' will be located at location ',j+1,' with x[',i+1,',',j+1,']','=',model_lab5_ex2.x[i,j].value)"
      ],
      "execution_count": 23,
      "outputs": [
        {
          "output_type": "stream",
          "name": "stdout",
          "text": [
            "\n",
            "Objective =  203.0\n",
            "\n",
            "We will have to locate factories as follows\n",
            "factory  1  will be located at location  7  with x[ 1 , 7 ] = 1.0\n",
            "factory  2  will be located at location  2  with x[ 2 , 2 ] = 1.0\n",
            "factory  3  will be located at location  5  with x[ 3 , 5 ] = 1.0\n",
            "factory  4  will be located at location  1  with x[ 4 , 1 ] = 1.0\n",
            "factory  5  will be located at location  11  with x[ 5 , 11 ] = 1.0\n",
            "factory  6  will be located at location  3  with x[ 6 , 3 ] = 1.0\n",
            "factory  7  will be located at location  6  with x[ 7 , 6 ] = 1.0\n",
            "factory  8  will be located at location  4  with x[ 8 , 4 ] = 1.0\n",
            "factory  9  will be located at location  10  with x[ 9 , 10 ] = 1.0\n",
            "factory  10  will be located at location  12  with x[ 10 , 12 ] = 1.0\n",
            "factory  11  will be located at location  9  with x[ 11 , 9 ] = 1.0\n",
            "factory  12  will be located at location  8  with x[ 12 , 8 ] = 1.0\n"
          ]
        }
      ]
    },
    {
      "cell_type": "markdown",
      "metadata": {
        "id": "2ZmLZZeW9Q-p"
      },
      "source": [
        "**Ex 2 part 10**"
      ]
    },
    {
      "cell_type": "markdown",
      "metadata": {
        "id": "Sz2PawPP9RfC"
      },
      "source": [
        "Yes, the optimal cost for both problem are same and also the variables values are still integers. This is because in order to achieve optimal values the variables automaticaly achieves extreme value i.e. either 0 or 1."
      ]
    },
    {
      "cell_type": "markdown",
      "metadata": {
        "id": "HCbAuWNU_DyW"
      },
      "source": [
        "**Ex 2 part 12**"
      ]
    },
    {
      "cell_type": "markdown",
      "metadata": {
        "id": "m8aKi8wq9Sm8"
      },
      "source": [
        "We can simply add new constraints as follows \\\\\n",
        "$x_{1,3}=0\\\\x_{9,5}=0\\\\x_{5,10}=0$"
      ]
    },
    {
      "cell_type": "code",
      "metadata": {
        "colab": {
          "base_uri": "https://localhost:8080/"
        },
        "id": "ZnCB-wRD-GKD",
        "outputId": "69f5d6b5-8a48-410f-d264-2b892d647818"
      },
      "source": [
        "model_lab5_ex2.constraints.add(expr=model_lab5_ex2.x[1,3]==0)\n",
        "model_lab5_ex2.constraints.add(expr=model_lab5_ex2.x[9,5]==0)\n",
        "model_lab5_ex2.constraints.add(expr=model_lab5_ex2.x[5,10]==0)"
      ],
      "execution_count": 24,
      "outputs": [
        {
          "output_type": "execute_result",
          "data": {
            "text/plain": [
              "<pyomo.core.base.constraint._GeneralConstraintData at 0x7fcd2fa1c8a0>"
            ]
          },
          "metadata": {},
          "execution_count": 24
        }
      ]
    },
    {
      "cell_type": "code",
      "metadata": {
        "id": "hq3ZDHe7-Gpe"
      },
      "source": [
        "model_lab5_ex2.x.domain=Binary"
      ],
      "execution_count": 25,
      "outputs": []
    },
    {
      "cell_type": "code",
      "metadata": {
        "colab": {
          "base_uri": "https://localhost:8080/"
        },
        "id": "96M-ABq1-Ian",
        "outputId": "b76ed7e9-76cf-4a42-cc30-18132c7c3ac6"
      },
      "source": [
        "model_lab5_ex2.pprint()"
      ],
      "execution_count": 26,
      "outputs": [
        {
          "output_type": "stream",
          "name": "stdout",
          "text": [
            "4 Set Declarations\n",
            "    constraints_index : Size=1, Index=None, Ordered=Insertion\n",
            "        Key  : Dimen : Domain : Size : Members\n",
            "        None :     1 :    Any :   27 : {1, 2, 3, 4, 5, 6, 7, 8, 9, 10, 11, 12, 13, 14, 15, 16, 17, 18, 19, 20, 21, 22, 23, 24, 25, 26, 27}\n",
            "    x_index : Size=1, Index=None, Ordered=False\n",
            "        Key  : Dimen : Domain              : Size : Members\n",
            "        None :     2 : x_index_0*x_index_1 :  144 : {(0, 0), (0, 1), (0, 2), (0, 3), (0, 4), (0, 5), (0, 6), (0, 7), (0, 8), (0, 9), (0, 10), (0, 11), (1, 0), (1, 1), (1, 2), (1, 3), (1, 4), (1, 5), (1, 6), (1, 7), (1, 8), (1, 9), (1, 10), (1, 11), (2, 0), (2, 1), (2, 2), (2, 3), (2, 4), (2, 5), (2, 6), (2, 7), (2, 8), (2, 9), (2, 10), (2, 11), (3, 0), (3, 1), (3, 2), (3, 3), (3, 4), (3, 5), (3, 6), (3, 7), (3, 8), (3, 9), (3, 10), (3, 11), (4, 0), (4, 1), (4, 2), (4, 3), (4, 4), (4, 5), (4, 6), (4, 7), (4, 8), (4, 9), (4, 10), (4, 11), (5, 0), (5, 1), (5, 2), (5, 3), (5, 4), (5, 5), (5, 6), (5, 7), (5, 8), (5, 9), (5, 10), (5, 11), (6, 0), (6, 1), (6, 2), (6, 3), (6, 4), (6, 5), (6, 6), (6, 7), (6, 8), (6, 9), (6, 10), (6, 11), (7, 0), (7, 1), (7, 2), (7, 3), (7, 4), (7, 5), (7, 6), (7, 7), (7, 8), (7, 9), (7, 10), (7, 11), (8, 0), (8, 1), (8, 2), (8, 3), (8, 4), (8, 5), (8, 6), (8, 7), (8, 8), (8, 9), (8, 10), (8, 11), (9, 0), (9, 1), (9, 2), (9, 3), (9, 4), (9, 5), (9, 6), (9, 7), (9, 8), (9, 9), (9, 10), (9, 11), (10, 0), (10, 1), (10, 2), (10, 3), (10, 4), (10, 5), (10, 6), (10, 7), (10, 8), (10, 9), (10, 10), (10, 11), (11, 0), (11, 1), (11, 2), (11, 3), (11, 4), (11, 5), (11, 6), (11, 7), (11, 8), (11, 9), (11, 10), (11, 11)}\n",
            "    x_index_0 : Size=1, Index=None, Ordered=False\n",
            "        Key  : Dimen : Domain : Size : Members\n",
            "        None :     1 :    Any :   12 : {0, 1, 2, 3, 4, 5, 6, 7, 8, 9, 10, 11}\n",
            "    x_index_1 : Size=1, Index=None, Ordered=False\n",
            "        Key  : Dimen : Domain : Size : Members\n",
            "        None :     1 :    Any :   12 : {0, 1, 2, 3, 4, 5, 6, 7, 8, 9, 10, 11}\n",
            "\n",
            "1 Var Declarations\n",
            "    x : Size=144, Index=x_index\n",
            "        Key      : Lower : Value : Upper : Fixed : Stale : Domain\n",
            "          (0, 0) :     0 :   0.0 :     1 : False : False : Binary\n",
            "          (0, 1) :     0 :   0.0 :     1 : False : False : Binary\n",
            "          (0, 2) :     0 :   0.0 :     1 : False : False : Binary\n",
            "          (0, 3) :     0 :   0.0 :     1 : False : False : Binary\n",
            "          (0, 4) :     0 :   0.0 :     1 : False : False : Binary\n",
            "          (0, 5) :     0 :   0.0 :     1 : False : False : Binary\n",
            "          (0, 6) :     0 :   1.0 :     1 : False : False : Binary\n",
            "          (0, 7) :     0 :   0.0 :     1 : False : False : Binary\n",
            "          (0, 8) :     0 :   0.0 :     1 : False : False : Binary\n",
            "          (0, 9) :     0 :   0.0 :     1 : False : False : Binary\n",
            "         (0, 10) :     0 :   0.0 :     1 : False : False : Binary\n",
            "         (0, 11) :     0 :   0.0 :     1 : False : False : Binary\n",
            "          (1, 0) :     0 :   0.0 :     1 : False : False : Binary\n",
            "          (1, 1) :     0 :   1.0 :     1 : False : False : Binary\n",
            "          (1, 2) :     0 :   0.0 :     1 : False : False : Binary\n",
            "          (1, 3) :     0 :   0.0 :     1 : False : False : Binary\n",
            "          (1, 4) :     0 :   0.0 :     1 : False : False : Binary\n",
            "          (1, 5) :     0 :   0.0 :     1 : False : False : Binary\n",
            "          (1, 6) :     0 :   0.0 :     1 : False : False : Binary\n",
            "          (1, 7) :     0 :   0.0 :     1 : False : False : Binary\n",
            "          (1, 8) :     0 :   0.0 :     1 : False : False : Binary\n",
            "          (1, 9) :     0 :   0.0 :     1 : False : False : Binary\n",
            "         (1, 10) :     0 :   0.0 :     1 : False : False : Binary\n",
            "         (1, 11) :     0 :   0.0 :     1 : False : False : Binary\n",
            "          (2, 0) :     0 :   0.0 :     1 : False : False : Binary\n",
            "          (2, 1) :     0 :   0.0 :     1 : False : False : Binary\n",
            "          (2, 2) :     0 :   0.0 :     1 : False : False : Binary\n",
            "          (2, 3) :     0 :   0.0 :     1 : False : False : Binary\n",
            "          (2, 4) :     0 :   1.0 :     1 : False : False : Binary\n",
            "          (2, 5) :     0 :   0.0 :     1 : False : False : Binary\n",
            "          (2, 6) :     0 :   0.0 :     1 : False : False : Binary\n",
            "          (2, 7) :     0 :   0.0 :     1 : False : False : Binary\n",
            "          (2, 8) :     0 :   0.0 :     1 : False : False : Binary\n",
            "          (2, 9) :     0 :   0.0 :     1 : False : False : Binary\n",
            "         (2, 10) :     0 :   0.0 :     1 : False : False : Binary\n",
            "         (2, 11) :     0 :   0.0 :     1 : False : False : Binary\n",
            "          (3, 0) :     0 :   1.0 :     1 : False : False : Binary\n",
            "          (3, 1) :     0 :   0.0 :     1 : False : False : Binary\n",
            "          (3, 2) :     0 :   0.0 :     1 : False : False : Binary\n",
            "          (3, 3) :     0 :   0.0 :     1 : False : False : Binary\n",
            "          (3, 4) :     0 :   0.0 :     1 : False : False : Binary\n",
            "          (3, 5) :     0 :   0.0 :     1 : False : False : Binary\n",
            "          (3, 6) :     0 :   0.0 :     1 : False : False : Binary\n",
            "          (3, 7) :     0 :   0.0 :     1 : False : False : Binary\n",
            "          (3, 8) :     0 :   0.0 :     1 : False : False : Binary\n",
            "          (3, 9) :     0 :   0.0 :     1 : False : False : Binary\n",
            "         (3, 10) :     0 :   0.0 :     1 : False : False : Binary\n",
            "         (3, 11) :     0 :   0.0 :     1 : False : False : Binary\n",
            "          (4, 0) :     0 :   0.0 :     1 : False : False : Binary\n",
            "          (4, 1) :     0 :   0.0 :     1 : False : False : Binary\n",
            "          (4, 2) :     0 :   0.0 :     1 : False : False : Binary\n",
            "          (4, 3) :     0 :   0.0 :     1 : False : False : Binary\n",
            "          (4, 4) :     0 :   0.0 :     1 : False : False : Binary\n",
            "          (4, 5) :     0 :   0.0 :     1 : False : False : Binary\n",
            "          (4, 6) :     0 :   0.0 :     1 : False : False : Binary\n",
            "          (4, 7) :     0 :   0.0 :     1 : False : False : Binary\n",
            "          (4, 8) :     0 :   0.0 :     1 : False : False : Binary\n",
            "          (4, 9) :     0 :   0.0 :     1 : False : False : Binary\n",
            "         (4, 10) :     0 :   1.0 :     1 : False : False : Binary\n",
            "         (4, 11) :     0 :   0.0 :     1 : False : False : Binary\n",
            "          (5, 0) :     0 :   0.0 :     1 : False : False : Binary\n",
            "          (5, 1) :     0 :   0.0 :     1 : False : False : Binary\n",
            "          (5, 2) :     0 :   1.0 :     1 : False : False : Binary\n",
            "          (5, 3) :     0 :   0.0 :     1 : False : False : Binary\n",
            "          (5, 4) :     0 :   0.0 :     1 : False : False : Binary\n",
            "          (5, 5) :     0 :   0.0 :     1 : False : False : Binary\n",
            "          (5, 6) :     0 :   0.0 :     1 : False : False : Binary\n",
            "          (5, 7) :     0 :   0.0 :     1 : False : False : Binary\n",
            "          (5, 8) :     0 :   0.0 :     1 : False : False : Binary\n",
            "          (5, 9) :     0 :   0.0 :     1 : False : False : Binary\n",
            "         (5, 10) :     0 :   0.0 :     1 : False : False : Binary\n",
            "         (5, 11) :     0 :   0.0 :     1 : False : False : Binary\n",
            "          (6, 0) :     0 :   0.0 :     1 : False : False : Binary\n",
            "          (6, 1) :     0 :   0.0 :     1 : False : False : Binary\n",
            "          (6, 2) :     0 :   0.0 :     1 : False : False : Binary\n",
            "          (6, 3) :     0 :   0.0 :     1 : False : False : Binary\n",
            "          (6, 4) :     0 :   0.0 :     1 : False : False : Binary\n",
            "          (6, 5) :     0 :   1.0 :     1 : False : False : Binary\n",
            "          (6, 6) :     0 :   0.0 :     1 : False : False : Binary\n",
            "          (6, 7) :     0 :   0.0 :     1 : False : False : Binary\n",
            "          (6, 8) :     0 :   0.0 :     1 : False : False : Binary\n",
            "          (6, 9) :     0 :   0.0 :     1 : False : False : Binary\n",
            "         (6, 10) :     0 :   0.0 :     1 : False : False : Binary\n",
            "         (6, 11) :     0 :   0.0 :     1 : False : False : Binary\n",
            "          (7, 0) :     0 :   0.0 :     1 : False : False : Binary\n",
            "          (7, 1) :     0 :   0.0 :     1 : False : False : Binary\n",
            "          (7, 2) :     0 :   0.0 :     1 : False : False : Binary\n",
            "          (7, 3) :     0 :   1.0 :     1 : False : False : Binary\n",
            "          (7, 4) :     0 :   0.0 :     1 : False : False : Binary\n",
            "          (7, 5) :     0 :   0.0 :     1 : False : False : Binary\n",
            "          (7, 6) :     0 :   0.0 :     1 : False : False : Binary\n",
            "          (7, 7) :     0 :   0.0 :     1 : False : False : Binary\n",
            "          (7, 8) :     0 :   0.0 :     1 : False : False : Binary\n",
            "          (7, 9) :     0 :   0.0 :     1 : False : False : Binary\n",
            "         (7, 10) :     0 :   0.0 :     1 : False : False : Binary\n",
            "         (7, 11) :     0 :   0.0 :     1 : False : False : Binary\n",
            "          (8, 0) :     0 :   0.0 :     1 : False : False : Binary\n",
            "          (8, 1) :     0 :   0.0 :     1 : False : False : Binary\n",
            "          (8, 2) :     0 :   0.0 :     1 : False : False : Binary\n",
            "          (8, 3) :     0 :   0.0 :     1 : False : False : Binary\n",
            "          (8, 4) :     0 :   0.0 :     1 : False : False : Binary\n",
            "          (8, 5) :     0 :   0.0 :     1 : False : False : Binary\n",
            "          (8, 6) :     0 :   0.0 :     1 : False : False : Binary\n",
            "          (8, 7) :     0 :   0.0 :     1 : False : False : Binary\n",
            "          (8, 8) :     0 :   0.0 :     1 : False : False : Binary\n",
            "          (8, 9) :     0 :   1.0 :     1 : False : False : Binary\n",
            "         (8, 10) :     0 :   0.0 :     1 : False : False : Binary\n",
            "         (8, 11) :     0 :   0.0 :     1 : False : False : Binary\n",
            "          (9, 0) :     0 :   0.0 :     1 : False : False : Binary\n",
            "          (9, 1) :     0 :   0.0 :     1 : False : False : Binary\n",
            "          (9, 2) :     0 :   0.0 :     1 : False : False : Binary\n",
            "          (9, 3) :     0 :   0.0 :     1 : False : False : Binary\n",
            "          (9, 4) :     0 :   0.0 :     1 : False : False : Binary\n",
            "          (9, 5) :     0 :   0.0 :     1 : False : False : Binary\n",
            "          (9, 6) :     0 :   0.0 :     1 : False : False : Binary\n",
            "          (9, 7) :     0 :   0.0 :     1 : False : False : Binary\n",
            "          (9, 8) :     0 :   0.0 :     1 : False : False : Binary\n",
            "          (9, 9) :     0 :   0.0 :     1 : False : False : Binary\n",
            "         (9, 10) :     0 :   0.0 :     1 : False : False : Binary\n",
            "         (9, 11) :     0 :   1.0 :     1 : False : False : Binary\n",
            "         (10, 0) :     0 :   0.0 :     1 : False : False : Binary\n",
            "         (10, 1) :     0 :   0.0 :     1 : False : False : Binary\n",
            "         (10, 2) :     0 :   0.0 :     1 : False : False : Binary\n",
            "         (10, 3) :     0 :   0.0 :     1 : False : False : Binary\n",
            "         (10, 4) :     0 :   0.0 :     1 : False : False : Binary\n",
            "         (10, 5) :     0 :   0.0 :     1 : False : False : Binary\n",
            "         (10, 6) :     0 :   0.0 :     1 : False : False : Binary\n",
            "         (10, 7) :     0 :   0.0 :     1 : False : False : Binary\n",
            "         (10, 8) :     0 :   1.0 :     1 : False : False : Binary\n",
            "         (10, 9) :     0 :   0.0 :     1 : False : False : Binary\n",
            "        (10, 10) :     0 :   0.0 :     1 : False : False : Binary\n",
            "        (10, 11) :     0 :   0.0 :     1 : False : False : Binary\n",
            "         (11, 0) :     0 :   0.0 :     1 : False : False : Binary\n",
            "         (11, 1) :     0 :   0.0 :     1 : False : False : Binary\n",
            "         (11, 2) :     0 :   0.0 :     1 : False : False : Binary\n",
            "         (11, 3) :     0 :   0.0 :     1 : False : False : Binary\n",
            "         (11, 4) :     0 :   0.0 :     1 : False : False : Binary\n",
            "         (11, 5) :     0 :   0.0 :     1 : False : False : Binary\n",
            "         (11, 6) :     0 :   0.0 :     1 : False : False : Binary\n",
            "         (11, 7) :     0 :   1.0 :     1 : False : False : Binary\n",
            "         (11, 8) :     0 :   0.0 :     1 : False : False : Binary\n",
            "         (11, 9) :     0 :   0.0 :     1 : False : False : Binary\n",
            "        (11, 10) :     0 :   0.0 :     1 : False : False : Binary\n",
            "        (11, 11) :     0 :   0.0 :     1 : False : False : Binary\n",
            "\n",
            "1 Objective Declarations\n",
            "    objective : Size=1, Index=None, Active=True\n",
            "        Key  : Active : Sense    : Expression\n",
            "        None :   True : minimize : 22.0*x[0,0] + 18.0*x[1,0] + 19.0*x[2,0] + 18.0*x[3,0] + 23.0*x[4,0] + 24.0*x[5,0] + 22.0*x[6,0] + 23.0*x[7,0] + 21.0*x[8,0] + 19.0*x[9,0] + 20.0*x[10,0] + 21.0*x[11,0] + 22.0*x[0,1] + 12.0*x[1,1] + 21.0*x[2,1] + 24.0*x[3,1] + 20.0*x[4,1] + 16.0*x[5,1] + 22.0*x[6,1] + 17.0*x[7,1] + 22.0*x[8,1] + 19.0*x[9,1] + 22.0*x[10,1] + 25.0*x[11,1] + 19.0*x[0,2] + 18.0*x[1,2] + 17.0*x[2,2] + 20.0*x[3,2] + 19.0*x[4,2] + 15.0*x[5,2] + 21.0*x[6,2] + 17.0*x[7,2] + 21.0*x[8,2] + 18.0*x[9,2] + 23.0*x[10,2] + 21.0*x[11,2] + 22.0*x[0,3] + 19.0*x[1,3] + 19.0*x[2,3] + 21.0*x[3,3] + 18.0*x[4,3] + 16.0*x[5,3] + 23.0*x[6,3] + 17.0*x[7,3] + 24.0*x[8,3] + 19.0*x[9,3] + 20.0*x[10,3] + 19.0*x[11,3] + 22.0*x[0,4] + 22.0*x[1,4] + 17.0*x[2,4] + 21.0*x[3,4] + 20.0*x[4,4] + 24.0*x[5,4] + 18.0*x[6,4] + 22.0*x[7,4] + 20.0*x[8,4] + 26.0*x[9,4] + 22.0*x[10,4] + 21.0*x[11,4] + 24.0*x[0,5] + 21.0*x[1,5] + 19.0*x[2,5] + 21.0*x[3,5] + 23.0*x[4,5] + 21.0*x[5,5] + 17.0*x[6,5] + 24.0*x[7,5] + 23.0*x[8,5] + 24.0*x[9,5] + 20.0*x[10,5] + 19.0*x[11,5] + 18.0*x[0,6] + 17.0*x[1,6] + 24.0*x[2,6] + 22.0*x[3,6] + 22.0*x[4,6] + 23.0*x[5,6] + 16.0*x[6,6] + 23.0*x[7,6] + 19.0*x[8,6] + 19.0*x[9,6] + 20.0*x[10,6] + 18.0*x[11,6] + 17.0*x[0,7] + 20.0*x[1,7] + 16.0*x[2,7] + 19.0*x[3,7] + 25.0*x[4,7] + 21.0*x[5,7] + 19.0*x[6,7] + 20.0*x[7,7] + 18.0*x[8,7] + 17.0*x[9,7] + 19.0*x[10,7] + 16.0*x[11,7] + 21.0*x[0,8] + 16.0*x[1,8] + 18.0*x[2,8] + 18.0*x[3,8] + 24.0*x[4,8] + 20.0*x[5,8] + 24.0*x[6,8] + 22.0*x[7,8] + 23.0*x[8,8] + 18.0*x[9,8] + 17.0*x[10,8] + 22.0*x[11,8] + 23.0*x[0,9] + 17.0*x[1,9] + 16.0*x[2,9] + 21.0*x[3,9] + 19.0*x[4,9] + 20.0*x[5,9] + 20.0*x[6,9] + 19.0*x[7,9] + 15.0*x[8,9] + 20.0*x[9,9] + 19.0*x[10,9] + 24.0*x[11,9] + 19.0*x[0,10] + 17.0*x[1,10] + 20.0*x[2,10] + 23.0*x[3,10] + 21.0*x[4,10] + 22.0*x[5,10] + 20.0*x[6,10] + 23.0*x[7,10] + 25.0*x[8,10] + 21.0*x[9,10] + 20.0*x[10,10] + 25.0*x[11,10] + 21.0*x[0,11] + 24.0*x[1,11] + 24.0*x[2,11] + 23.0*x[3,11] + 23.0*x[4,11] + 19.0*x[5,11] + 23.0*x[6,11] + 21.0*x[7,11] + 21.0*x[8,11] + 20.0*x[9,11] + 24.0*x[10,11] + 24.0*x[11,11]\n",
            "\n",
            "1 Constraint Declarations\n",
            "    constraints : Size=27, Index=constraints_index, Active=True\n",
            "        Key : Lower : Body                                                                                                                    : Upper : Active\n",
            "          1 :   1.0 :             x[0,0] + x[0,1] + x[0,2] + x[0,3] + x[0,4] + x[0,5] + x[0,6] + x[0,7] + x[0,8] + x[0,9] + x[0,10] + x[0,11] :   1.0 :   True\n",
            "          2 :   1.0 :             x[1,0] + x[1,1] + x[1,2] + x[1,3] + x[1,4] + x[1,5] + x[1,6] + x[1,7] + x[1,8] + x[1,9] + x[1,10] + x[1,11] :   1.0 :   True\n",
            "          3 :   1.0 :             x[2,0] + x[2,1] + x[2,2] + x[2,3] + x[2,4] + x[2,5] + x[2,6] + x[2,7] + x[2,8] + x[2,9] + x[2,10] + x[2,11] :   1.0 :   True\n",
            "          4 :   1.0 :             x[3,0] + x[3,1] + x[3,2] + x[3,3] + x[3,4] + x[3,5] + x[3,6] + x[3,7] + x[3,8] + x[3,9] + x[3,10] + x[3,11] :   1.0 :   True\n",
            "          5 :   1.0 :             x[4,0] + x[4,1] + x[4,2] + x[4,3] + x[4,4] + x[4,5] + x[4,6] + x[4,7] + x[4,8] + x[4,9] + x[4,10] + x[4,11] :   1.0 :   True\n",
            "          6 :   1.0 :             x[5,0] + x[5,1] + x[5,2] + x[5,3] + x[5,4] + x[5,5] + x[5,6] + x[5,7] + x[5,8] + x[5,9] + x[5,10] + x[5,11] :   1.0 :   True\n",
            "          7 :   1.0 :             x[6,0] + x[6,1] + x[6,2] + x[6,3] + x[6,4] + x[6,5] + x[6,6] + x[6,7] + x[6,8] + x[6,9] + x[6,10] + x[6,11] :   1.0 :   True\n",
            "          8 :   1.0 :             x[7,0] + x[7,1] + x[7,2] + x[7,3] + x[7,4] + x[7,5] + x[7,6] + x[7,7] + x[7,8] + x[7,9] + x[7,10] + x[7,11] :   1.0 :   True\n",
            "          9 :   1.0 :             x[8,0] + x[8,1] + x[8,2] + x[8,3] + x[8,4] + x[8,5] + x[8,6] + x[8,7] + x[8,8] + x[8,9] + x[8,10] + x[8,11] :   1.0 :   True\n",
            "         10 :   1.0 :             x[9,0] + x[9,1] + x[9,2] + x[9,3] + x[9,4] + x[9,5] + x[9,6] + x[9,7] + x[9,8] + x[9,9] + x[9,10] + x[9,11] :   1.0 :   True\n",
            "         11 :   1.0 : x[10,0] + x[10,1] + x[10,2] + x[10,3] + x[10,4] + x[10,5] + x[10,6] + x[10,7] + x[10,8] + x[10,9] + x[10,10] + x[10,11] :   1.0 :   True\n",
            "         12 :   1.0 : x[11,0] + x[11,1] + x[11,2] + x[11,3] + x[11,4] + x[11,5] + x[11,6] + x[11,7] + x[11,8] + x[11,9] + x[11,10] + x[11,11] :   1.0 :   True\n",
            "         13 :   1.0 :             x[0,0] + x[1,0] + x[2,0] + x[3,0] + x[4,0] + x[5,0] + x[6,0] + x[7,0] + x[8,0] + x[9,0] + x[10,0] + x[11,0] :   1.0 :   True\n",
            "         14 :   1.0 :             x[0,1] + x[1,1] + x[2,1] + x[3,1] + x[4,1] + x[5,1] + x[6,1] + x[7,1] + x[8,1] + x[9,1] + x[10,1] + x[11,1] :   1.0 :   True\n",
            "         15 :   1.0 :             x[0,2] + x[1,2] + x[2,2] + x[3,2] + x[4,2] + x[5,2] + x[6,2] + x[7,2] + x[8,2] + x[9,2] + x[10,2] + x[11,2] :   1.0 :   True\n",
            "         16 :   1.0 :             x[0,3] + x[1,3] + x[2,3] + x[3,3] + x[4,3] + x[5,3] + x[6,3] + x[7,3] + x[8,3] + x[9,3] + x[10,3] + x[11,3] :   1.0 :   True\n",
            "         17 :   1.0 :             x[0,4] + x[1,4] + x[2,4] + x[3,4] + x[4,4] + x[5,4] + x[6,4] + x[7,4] + x[8,4] + x[9,4] + x[10,4] + x[11,4] :   1.0 :   True\n",
            "         18 :   1.0 :             x[0,5] + x[1,5] + x[2,5] + x[3,5] + x[4,5] + x[5,5] + x[6,5] + x[7,5] + x[8,5] + x[9,5] + x[10,5] + x[11,5] :   1.0 :   True\n",
            "         19 :   1.0 :             x[0,6] + x[1,6] + x[2,6] + x[3,6] + x[4,6] + x[5,6] + x[6,6] + x[7,6] + x[8,6] + x[9,6] + x[10,6] + x[11,6] :   1.0 :   True\n",
            "         20 :   1.0 :             x[0,7] + x[1,7] + x[2,7] + x[3,7] + x[4,7] + x[5,7] + x[6,7] + x[7,7] + x[8,7] + x[9,7] + x[10,7] + x[11,7] :   1.0 :   True\n",
            "         21 :   1.0 :             x[0,8] + x[1,8] + x[2,8] + x[3,8] + x[4,8] + x[5,8] + x[6,8] + x[7,8] + x[8,8] + x[9,8] + x[10,8] + x[11,8] :   1.0 :   True\n",
            "         22 :   1.0 :             x[0,9] + x[1,9] + x[2,9] + x[3,9] + x[4,9] + x[5,9] + x[6,9] + x[7,9] + x[8,9] + x[9,9] + x[10,9] + x[11,9] :   1.0 :   True\n",
            "         23 :   1.0 : x[0,10] + x[1,10] + x[2,10] + x[3,10] + x[4,10] + x[5,10] + x[6,10] + x[7,10] + x[8,10] + x[9,10] + x[10,10] + x[11,10] :   1.0 :   True\n",
            "         24 :   1.0 : x[0,11] + x[1,11] + x[2,11] + x[3,11] + x[4,11] + x[5,11] + x[6,11] + x[7,11] + x[8,11] + x[9,11] + x[10,11] + x[11,11] :   1.0 :   True\n",
            "         25 :   0.0 :                                                                                                                  x[1,3] :   0.0 :   True\n",
            "         26 :   0.0 :                                                                                                                  x[9,5] :   0.0 :   True\n",
            "         27 :   0.0 :                                                                                                                 x[5,10] :   0.0 :   True\n",
            "\n",
            "7 Declarations: x_index_0 x_index_1 x_index x objective constraints_index constraints\n"
          ]
        }
      ]
    },
    {
      "cell_type": "code",
      "metadata": {
        "colab": {
          "base_uri": "https://localhost:8080/"
        },
        "id": "c1I50LWj-RY-",
        "outputId": "26720b5a-94b7-4cfc-de7b-b8414ca594b3"
      },
      "source": [
        "result = opt_cbc.solve(model_lab5_ex2)\n",
        "print('Solver status:', result.solver.status)\n",
        "print('Solver termination condition:',result.solver.termination_condition)"
      ],
      "execution_count": 27,
      "outputs": [
        {
          "output_type": "stream",
          "name": "stdout",
          "text": [
            "Solver status: ok\n",
            "Solver termination condition: optimal\n"
          ]
        }
      ]
    },
    {
      "cell_type": "code",
      "metadata": {
        "colab": {
          "base_uri": "https://localhost:8080/"
        },
        "id": "Xt-YusiM-SAT",
        "outputId": "dfca4ae9-a5b6-4068-8f41-d437f5ab557d"
      },
      "source": [
        "# display solution\n",
        "print('\\nObjective = ', model_lab5_ex2.objective())\n",
        "\n",
        "print('\\nDecisions to be made')\n",
        "for i in row_indices:\n",
        "  for j in col_indices:\n",
        "    if model_lab5_ex2.x[i,j].value==1:\n",
        "      print('factory ',i+1,' will be located at location ',j+1)"
      ],
      "execution_count": 28,
      "outputs": [
        {
          "output_type": "stream",
          "name": "stdout",
          "text": [
            "\n",
            "Objective =  203.0\n",
            "\n",
            "Decisions to be made\n",
            "factory  1  will be located at location  7\n",
            "factory  2  will be located at location  2\n",
            "factory  3  will be located at location  5\n",
            "factory  4  will be located at location  1\n",
            "factory  5  will be located at location  11\n",
            "factory  6  will be located at location  3\n",
            "factory  7  will be located at location  6\n",
            "factory  8  will be located at location  4\n",
            "factory  9  will be located at location  10\n",
            "factory  10  will be located at location  12\n",
            "factory  11  will be located at location  9\n",
            "factory  12  will be located at location  8\n"
          ]
        }
      ]
    },
    {
      "cell_type": "markdown",
      "metadata": {
        "id": "FPP8ACF0_rw3"
      },
      "source": [
        "The optimal cost and solution is still same as in 1st problem as the newly introduced 3 constraints were already covered previously. So, they did not made any impact on the optimal solution.  "
      ]
    }
  ]
}