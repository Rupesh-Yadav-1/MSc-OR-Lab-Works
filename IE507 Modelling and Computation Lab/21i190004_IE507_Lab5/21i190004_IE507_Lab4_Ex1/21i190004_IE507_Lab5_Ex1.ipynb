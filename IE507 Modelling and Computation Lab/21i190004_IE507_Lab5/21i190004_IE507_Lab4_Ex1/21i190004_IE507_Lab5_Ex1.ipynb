{
  "nbformat": 4,
  "nbformat_minor": 0,
  "metadata": {
    "colab": {
      "name": "21i190004_IE507_Lab5_Ex1.ipynb",
      "provenance": [],
      "collapsed_sections": []
    },
    "kernelspec": {
      "name": "python3",
      "display_name": "Python 3"
    },
    "language_info": {
      "name": "python"
    }
  },
  "cells": [
    {
      "cell_type": "code",
      "metadata": {
        "id": "kOdgPacmfhUK"
      },
      "source": [
        "!pip install -q pyomo"
      ],
      "execution_count": 1,
      "outputs": []
    },
    {
      "cell_type": "code",
      "metadata": {
        "id": "Bq-KoNf2gnM3"
      },
      "source": [
        "from pyomo.environ import * "
      ],
      "execution_count": 2,
      "outputs": []
    },
    {
      "cell_type": "code",
      "metadata": {
        "id": "e-pJ24pygo1j"
      },
      "source": [
        "import numpy as np"
      ],
      "execution_count": 3,
      "outputs": []
    },
    {
      "cell_type": "markdown",
      "metadata": {
        "id": "i9L9noTIZFcp"
      },
      "source": [
        "**Ex 1 part 1**"
      ]
    },
    {
      "cell_type": "markdown",
      "metadata": {
        "id": "mZH2YH7_grVL"
      },
      "source": [
        "Let $x_{ij}$ be the decision variable denoting the number of WMUs to be transported from warehouse $i$ to market $j$. Where $i$ takes values from set $\\{1,2,3,4,5,6,7,8\\}$ corresponding to warehouses at Ahmedabad, Bengaluru, Chennai, Delhi, Kolkata, Lucknow, Mumbai, Hyderabad respectively and $j$ takes values from set $\\{1,2,3,4,5,6,7,8\\}$ corresponding to markets at Hassan, Jodhpur, Trichy, Simla, vijayawada, Dibrugarh, Raipur, Agartala respectively.\n",
        "\n",
        "It is clear that the the sum $\\sum_{j=1}^{8} x_{ij}$ for all $i's$ denotes the number of WMUs transported from warehouse $i$. Similarly, $\\sum_{i=1}^{8} x_{ij}$ for all $j's$ denotes no. of WMUs received at market $j$.\n",
        "\n",
        "Hence, the corresponding linear program is,\n",
        "\n",
        "Minimize $\\sum_{i,j=1}^{8} C[i,j] x_{ij}$ \\\\\n",
        "Sub. to. \\\\\n",
        "$\\sum_{j=1}^{8} x_{ij} \\leq S_i  (\\text{ available stock at warehouse i}) \\  \\forall i \\\\\n",
        "\\sum_{i=1}^{8} x_{ij} \\leq D_i  (\\text{ Demand at market j}) \\  \\forall j \\\\\n",
        "And \\ x_{ij} \\ are \\ nonnegative \\  integers $"
      ]
    },
    {
      "cell_type": "code",
      "metadata": {
        "id": "SRajD6_8gqmh"
      },
      "source": [
        "import pandas as pd"
      ],
      "execution_count": 4,
      "outputs": []
    },
    {
      "cell_type": "code",
      "metadata": {
        "id": "uhufzRolct3N"
      },
      "source": [
        "data_csvfile = pd.read_csv('lab5_ex1.csv')"
      ],
      "execution_count": 5,
      "outputs": []
    },
    {
      "cell_type": "code",
      "metadata": {
        "colab": {
          "base_uri": "https://localhost:8080/"
        },
        "id": "p6yzM5Z6czBJ",
        "outputId": "ff24ac9e-7099-4774-b3a6-1816d7f01937"
      },
      "source": [
        "data_csvfile.index"
      ],
      "execution_count": 6,
      "outputs": [
        {
          "output_type": "execute_result",
          "data": {
            "text/plain": [
              "RangeIndex(start=0, stop=9, step=1)"
            ]
          },
          "metadata": {},
          "execution_count": 6
        }
      ]
    },
    {
      "cell_type": "code",
      "metadata": {
        "colab": {
          "base_uri": "https://localhost:8080/"
        },
        "id": "eMWJ8QNtc05Z",
        "outputId": "ac4fb665-1a72-4a1d-ff52-7392572c0d2d"
      },
      "source": [
        "print('num rows:', len(data_csvfile.index))"
      ],
      "execution_count": 7,
      "outputs": [
        {
          "output_type": "stream",
          "name": "stdout",
          "text": [
            "num rows: 9\n"
          ]
        }
      ]
    },
    {
      "cell_type": "code",
      "metadata": {
        "colab": {
          "base_uri": "https://localhost:8080/"
        },
        "id": "IGuk8eePc2tm",
        "outputId": "67879b84-67eb-4df2-8ee9-52b90bf57fb7"
      },
      "source": [
        "print(data_csvfile.iloc[0,:]) # it displays cost of transportation from various warehouse to market at Ahmedabad"
      ],
      "execution_count": 8,
      "outputs": [
        {
          "output_type": "stream",
          "name": "stdout",
          "text": [
            "Warehouse-Market    Ahmedabad\n",
            "Hassan                    627\n",
            "Jodhpur                   617\n",
            "Trichy                   1270\n",
            "Simla                    2072\n",
            "Vijaywada                1415\n",
            "Dibrugarh                2943\n",
            "Raipur                   1064\n",
            "Agartala                 4265\n",
            "Stocks                    185\n",
            "Name: 0, dtype: object\n"
          ]
        }
      ]
    },
    {
      "cell_type": "code",
      "metadata": {
        "colab": {
          "base_uri": "https://localhost:8080/"
        },
        "id": "qnMTzBzxdJKe",
        "outputId": "e48d813f-477b-4074-c897-a8fdf60dc283"
      },
      "source": [
        "data_csvfile.columns"
      ],
      "execution_count": 9,
      "outputs": [
        {
          "output_type": "execute_result",
          "data": {
            "text/plain": [
              "Index(['Warehouse-Market', 'Hassan', 'Jodhpur', 'Trichy', 'Simla', 'Vijaywada',\n",
              "       'Dibrugarh', 'Raipur', 'Agartala', 'Stocks'],\n",
              "      dtype='object')"
            ]
          },
          "metadata": {},
          "execution_count": 9
        }
      ]
    },
    {
      "cell_type": "code",
      "metadata": {
        "colab": {
          "base_uri": "https://localhost:8080/"
        },
        "id": "LeIWtLEadKmz",
        "outputId": "46424a65-a563-4653-bb03-20b295b2667e"
      },
      "source": [
        "print('num  columns: ',len(data_csvfile.columns))"
      ],
      "execution_count": 10,
      "outputs": [
        {
          "output_type": "stream",
          "name": "stdout",
          "text": [
            "num  columns:  10\n"
          ]
        }
      ]
    },
    {
      "cell_type": "code",
      "metadata": {
        "colab": {
          "base_uri": "https://localhost:8080/"
        },
        "id": "3KR1WpEbdOaH",
        "outputId": "c5034ccc-127d-45c6-9bf2-3f274985cbde"
      },
      "source": [
        "print(data_csvfile.iloc[:,1]) #it displays column content corresponding to Ahmedabad"
      ],
      "execution_count": 11,
      "outputs": [
        {
          "output_type": "stream",
          "name": "stdout",
          "text": [
            "0     627\n",
            "1     159\n",
            "2     609\n",
            "3    2143\n",
            "4    2742\n",
            "5    2053\n",
            "6     656\n",
            "7     195\n",
            "8     175\n",
            "Name: Hassan, dtype: int64\n"
          ]
        }
      ]
    },
    {
      "cell_type": "code",
      "metadata": {
        "id": "3ADMddbGdTjh"
      },
      "source": [
        "# create a model\n",
        "model_lab5_ex1 = ConcreteModel()"
      ],
      "execution_count": 12,
      "outputs": []
    },
    {
      "cell_type": "code",
      "metadata": {
        "colab": {
          "base_uri": "https://localhost:8080/"
        },
        "id": "-03_F0r_dWuv",
        "outputId": "3593bc2f-cf75-46cf-a409-0a5d5e9919fc"
      },
      "source": [
        "# we can set certain values using python variables\n",
        "M = len(data_csvfile.index)-1 #we declare a Python variable M denoting the number of warehouses \n",
        "print('num of warehouses: ',M)"
      ],
      "execution_count": 13,
      "outputs": [
        {
          "output_type": "stream",
          "name": "stdout",
          "text": [
            "num of warehouses:  8\n"
          ]
        }
      ]
    },
    {
      "cell_type": "code",
      "metadata": {
        "colab": {
          "base_uri": "https://localhost:8080/"
        },
        "id": "OdmAgv5kdjXd",
        "outputId": "ef4797ce-8c5a-4146-fe9f-36bc86ba9050"
      },
      "source": [
        "N = len(data_csvfile.columns)-2 #we declare a Python variable N denoting the number of markets\n",
        "print('num of markets: ',N)"
      ],
      "execution_count": 14,
      "outputs": [
        {
          "output_type": "stream",
          "name": "stdout",
          "text": [
            "num of markets:  8\n"
          ]
        }
      ]
    },
    {
      "cell_type": "code",
      "metadata": {
        "colab": {
          "base_uri": "https://localhost:8080/"
        },
        "id": "M0BbzduldrlE",
        "outputId": "fb00521d-7774-42f4-c648-e70a6fa93762"
      },
      "source": [
        "row_indices = range(M)\n",
        "col_indices = range(N)\n",
        "\n",
        "print(row_indices)\n",
        "print(col_indices)"
      ],
      "execution_count": 15,
      "outputs": [
        {
          "output_type": "stream",
          "name": "stdout",
          "text": [
            "range(0, 8)\n",
            "range(0, 8)\n"
          ]
        }
      ]
    },
    {
      "cell_type": "code",
      "metadata": {
        "colab": {
          "base_uri": "https://localhost:8080/"
        },
        "id": "QV4BhFQodwyw",
        "outputId": "ef40e147-0ea3-4bca-973e-b3d62fe46a31"
      },
      "source": [
        "#to get the contents of costs alone from the file we use the following\n",
        "for row_idx in row_indices:\n",
        "  for col_idx in col_indices:\n",
        "    print('cost[',row_idx,'][',col_idx+1,']:',data_csvfile.iloc[row_idx, col_idx+1])"
      ],
      "execution_count": 16,
      "outputs": [
        {
          "output_type": "stream",
          "name": "stdout",
          "text": [
            "cost[ 0 ][ 1 ]: 627\n",
            "cost[ 0 ][ 2 ]: 617\n",
            "cost[ 0 ][ 3 ]: 1270\n",
            "cost[ 0 ][ 4 ]: 2072\n",
            "cost[ 0 ][ 5 ]: 1415\n",
            "cost[ 0 ][ 6 ]: 2943\n",
            "cost[ 0 ][ 7 ]: 1064\n",
            "cost[ 0 ][ 8 ]: 4265\n",
            "cost[ 1 ][ 1 ]: 159\n",
            "cost[ 1 ][ 2 ]: 1432\n",
            "cost[ 1 ][ 3 ]: 351\n",
            "cost[ 1 ][ 4 ]: 3372\n",
            "cost[ 1 ][ 5 ]: 237\n",
            "cost[ 1 ][ 6 ]: 3373\n",
            "cost[ 1 ][ 7 ]: 1456\n",
            "cost[ 1 ][ 8 ]: 5059\n",
            "cost[ 2 ][ 1 ]: 609\n",
            "cost[ 2 ][ 2 ]: 1943\n",
            "cost[ 2 ][ 3 ]: 77\n",
            "cost[ 2 ][ 4 ]: 3365\n",
            "cost[ 2 ][ 5 ]: 298\n",
            "cost[ 2 ][ 6 ]: 3021\n",
            "cost[ 2 ][ 7 ]: 1484\n",
            "cost[ 2 ][ 8 ]: 4803\n",
            "cost[ 3 ][ 1 ]: 2143\n",
            "cost[ 3 ][ 2 ]: 671\n",
            "cost[ 3 ][ 3 ]: 3876\n",
            "cost[ 3 ][ 4 ]: 537\n",
            "cost[ 3 ][ 5 ]: 1902\n",
            "cost[ 3 ][ 6 ]: 1941\n",
            "cost[ 3 ][ 7 ]: 1682\n",
            "cost[ 3 ][ 8 ]: 3348\n",
            "cost[ 4 ][ 1 ]: 2742\n",
            "cost[ 4 ][ 2 ]: 2089\n",
            "cost[ 4 ][ 3 ]: 1931\n",
            "cost[ 4 ][ 4 ]: 2199\n",
            "cost[ 4 ][ 5 ]: 1226\n",
            "cost[ 4 ][ 6 ]: 739\n",
            "cost[ 4 ][ 7 ]: 691\n",
            "cost[ 4 ][ 8 ]: 1128\n",
            "cost[ 5 ][ 1 ]: 2053\n",
            "cost[ 5 ][ 2 ]: 860\n",
            "cost[ 5 ][ 3 ]: 2995\n",
            "cost[ 5 ][ 4 ]: 68\n",
            "cost[ 5 ][ 5 ]: 2069\n",
            "cost[ 5 ][ 6 ]: 2065\n",
            "cost[ 5 ][ 7 ]: 993\n",
            "cost[ 5 ][ 8 ]: 3342\n",
            "cost[ 6 ][ 1 ]: 656\n",
            "cost[ 6 ][ 2 ]: 817\n",
            "cost[ 6 ][ 3 ]: 1245\n",
            "cost[ 6 ][ 4 ]: 2141\n",
            "cost[ 6 ][ 5 ]: 1534\n",
            "cost[ 6 ][ 6 ]: 3351\n",
            "cost[ 6 ][ 7 ]: 1137\n",
            "cost[ 6 ][ 8 ]: 3887\n",
            "cost[ 7 ][ 1 ]: 195\n",
            "cost[ 7 ][ 2 ]: 1862\n",
            "cost[ 7 ][ 3 ]: 1331\n",
            "cost[ 7 ][ 4 ]: 2921\n",
            "cost[ 7 ][ 5 ]: 402\n",
            "cost[ 7 ][ 6 ]: 2825\n",
            "cost[ 7 ][ 7 ]: 563\n",
            "cost[ 7 ][ 8 ]: 4441\n"
          ]
        }
      ]
    },
    {
      "cell_type": "code",
      "metadata": {
        "id": "aiSRHRgQdzP7"
      },
      "source": [
        "#declare the decision variables in the model\n",
        "model_lab5_ex1.x = Var(row_indices, col_indices, domain= NonNegativeIntegers)"
      ],
      "execution_count": 17,
      "outputs": []
    },
    {
      "cell_type": "code",
      "metadata": {
        "id": "iSOaHUp4d37n"
      },
      "source": [
        "model_lab5_ex1.objective = Objective(expr=sum(data_csvfile.iloc[i,j+1]*model_lab5_ex1.x[i,j] for i in row_indices for j in col_indices),sense=minimize)"
      ],
      "execution_count": 18,
      "outputs": []
    },
    {
      "cell_type": "code",
      "metadata": {
        "id": "lVJO_U2Kd55q"
      },
      "source": [
        "model_lab5_ex1.constraints = ConstraintList()"
      ],
      "execution_count": 19,
      "outputs": []
    },
    {
      "cell_type": "code",
      "metadata": {
        "colab": {
          "base_uri": "https://localhost:8080/"
        },
        "id": "E36rvNjMd8Qm",
        "outputId": "1d8a8bec-221c-4c0f-d361-43a441b4a532"
      },
      "source": [
        "print(data_csvfile.iloc[:8,N+1])"
      ],
      "execution_count": 20,
      "outputs": [
        {
          "output_type": "stream",
          "name": "stdout",
          "text": [
            "0    185\n",
            "1    350\n",
            "2    405\n",
            "3    280\n",
            "4    105\n",
            "5     75\n",
            "6    425\n",
            "7    270\n",
            "Name: Stocks, dtype: int64\n"
          ]
        }
      ]
    },
    {
      "cell_type": "code",
      "metadata": {
        "colab": {
          "base_uri": "https://localhost:8080/"
        },
        "id": "KCB5gxdTeBg8",
        "outputId": "b8fe4a2e-5c18-45c7-d66f-a69fca9fa03f"
      },
      "source": [
        "print(data_csvfile.iloc[M,1:N+1])"
      ],
      "execution_count": 21,
      "outputs": [
        {
          "output_type": "stream",
          "name": "stdout",
          "text": [
            "Hassan       175\n",
            "Jodhpur      400\n",
            "Trichy       550\n",
            "Simla         70\n",
            "Vijaywada    650\n",
            "Dibrugarh    100\n",
            "Raipur        65\n",
            "Agartala      85\n",
            "Name: 8, dtype: object\n"
          ]
        }
      ]
    },
    {
      "cell_type": "code",
      "metadata": {
        "id": "jvJJJFu0gYyC"
      },
      "source": [
        "#stock constraints for warehouses\n",
        "for i in row_indices:\n",
        "  model_lab5_ex1.constraints.add(expr=sum(model_lab5_ex1.x[i,j] for j in col_indices) <= data_csvfile.iloc[i,9]) \n"
      ],
      "execution_count": 22,
      "outputs": []
    },
    {
      "cell_type": "code",
      "metadata": {
        "id": "e2P240XihBRC"
      },
      "source": [
        "#demand constraint for markets\n",
        "for j in col_indices:\n",
        "  model_lab5_ex1.constraints.add(expr=sum(model_lab5_ex1.x[i,j] for i in row_indices) == data_csvfile.iloc[M,j+1])\n"
      ],
      "execution_count": 23,
      "outputs": []
    },
    {
      "cell_type": "code",
      "metadata": {
        "colab": {
          "base_uri": "https://localhost:8080/"
        },
        "id": "fwnUf7N-jjbV",
        "outputId": "d3c1d20c-df70-4d12-be2c-4eaa78573a2c"
      },
      "source": [
        "model_lab5_ex1.pprint()"
      ],
      "execution_count": 24,
      "outputs": [
        {
          "output_type": "stream",
          "name": "stdout",
          "text": [
            "4 Set Declarations\n",
            "    constraints_index : Size=1, Index=None, Ordered=Insertion\n",
            "        Key  : Dimen : Domain : Size : Members\n",
            "        None :     1 :    Any :   16 : {1, 2, 3, 4, 5, 6, 7, 8, 9, 10, 11, 12, 13, 14, 15, 16}\n",
            "    x_index : Size=1, Index=None, Ordered=False\n",
            "        Key  : Dimen : Domain              : Size : Members\n",
            "        None :     2 : x_index_0*x_index_1 :   64 : {(0, 0), (0, 1), (0, 2), (0, 3), (0, 4), (0, 5), (0, 6), (0, 7), (1, 0), (1, 1), (1, 2), (1, 3), (1, 4), (1, 5), (1, 6), (1, 7), (2, 0), (2, 1), (2, 2), (2, 3), (2, 4), (2, 5), (2, 6), (2, 7), (3, 0), (3, 1), (3, 2), (3, 3), (3, 4), (3, 5), (3, 6), (3, 7), (4, 0), (4, 1), (4, 2), (4, 3), (4, 4), (4, 5), (4, 6), (4, 7), (5, 0), (5, 1), (5, 2), (5, 3), (5, 4), (5, 5), (5, 6), (5, 7), (6, 0), (6, 1), (6, 2), (6, 3), (6, 4), (6, 5), (6, 6), (6, 7), (7, 0), (7, 1), (7, 2), (7, 3), (7, 4), (7, 5), (7, 6), (7, 7)}\n",
            "    x_index_0 : Size=1, Index=None, Ordered=False\n",
            "        Key  : Dimen : Domain : Size : Members\n",
            "        None :     1 :    Any :    8 : {0, 1, 2, 3, 4, 5, 6, 7}\n",
            "    x_index_1 : Size=1, Index=None, Ordered=False\n",
            "        Key  : Dimen : Domain : Size : Members\n",
            "        None :     1 :    Any :    8 : {0, 1, 2, 3, 4, 5, 6, 7}\n",
            "\n",
            "1 Var Declarations\n",
            "    x : Size=64, Index=x_index\n",
            "        Key    : Lower : Value : Upper : Fixed : Stale : Domain\n",
            "        (0, 0) :     0 :  None :  None : False :  True : NonNegativeIntegers\n",
            "        (0, 1) :     0 :  None :  None : False :  True : NonNegativeIntegers\n",
            "        (0, 2) :     0 :  None :  None : False :  True : NonNegativeIntegers\n",
            "        (0, 3) :     0 :  None :  None : False :  True : NonNegativeIntegers\n",
            "        (0, 4) :     0 :  None :  None : False :  True : NonNegativeIntegers\n",
            "        (0, 5) :     0 :  None :  None : False :  True : NonNegativeIntegers\n",
            "        (0, 6) :     0 :  None :  None : False :  True : NonNegativeIntegers\n",
            "        (0, 7) :     0 :  None :  None : False :  True : NonNegativeIntegers\n",
            "        (1, 0) :     0 :  None :  None : False :  True : NonNegativeIntegers\n",
            "        (1, 1) :     0 :  None :  None : False :  True : NonNegativeIntegers\n",
            "        (1, 2) :     0 :  None :  None : False :  True : NonNegativeIntegers\n",
            "        (1, 3) :     0 :  None :  None : False :  True : NonNegativeIntegers\n",
            "        (1, 4) :     0 :  None :  None : False :  True : NonNegativeIntegers\n",
            "        (1, 5) :     0 :  None :  None : False :  True : NonNegativeIntegers\n",
            "        (1, 6) :     0 :  None :  None : False :  True : NonNegativeIntegers\n",
            "        (1, 7) :     0 :  None :  None : False :  True : NonNegativeIntegers\n",
            "        (2, 0) :     0 :  None :  None : False :  True : NonNegativeIntegers\n",
            "        (2, 1) :     0 :  None :  None : False :  True : NonNegativeIntegers\n",
            "        (2, 2) :     0 :  None :  None : False :  True : NonNegativeIntegers\n",
            "        (2, 3) :     0 :  None :  None : False :  True : NonNegativeIntegers\n",
            "        (2, 4) :     0 :  None :  None : False :  True : NonNegativeIntegers\n",
            "        (2, 5) :     0 :  None :  None : False :  True : NonNegativeIntegers\n",
            "        (2, 6) :     0 :  None :  None : False :  True : NonNegativeIntegers\n",
            "        (2, 7) :     0 :  None :  None : False :  True : NonNegativeIntegers\n",
            "        (3, 0) :     0 :  None :  None : False :  True : NonNegativeIntegers\n",
            "        (3, 1) :     0 :  None :  None : False :  True : NonNegativeIntegers\n",
            "        (3, 2) :     0 :  None :  None : False :  True : NonNegativeIntegers\n",
            "        (3, 3) :     0 :  None :  None : False :  True : NonNegativeIntegers\n",
            "        (3, 4) :     0 :  None :  None : False :  True : NonNegativeIntegers\n",
            "        (3, 5) :     0 :  None :  None : False :  True : NonNegativeIntegers\n",
            "        (3, 6) :     0 :  None :  None : False :  True : NonNegativeIntegers\n",
            "        (3, 7) :     0 :  None :  None : False :  True : NonNegativeIntegers\n",
            "        (4, 0) :     0 :  None :  None : False :  True : NonNegativeIntegers\n",
            "        (4, 1) :     0 :  None :  None : False :  True : NonNegativeIntegers\n",
            "        (4, 2) :     0 :  None :  None : False :  True : NonNegativeIntegers\n",
            "        (4, 3) :     0 :  None :  None : False :  True : NonNegativeIntegers\n",
            "        (4, 4) :     0 :  None :  None : False :  True : NonNegativeIntegers\n",
            "        (4, 5) :     0 :  None :  None : False :  True : NonNegativeIntegers\n",
            "        (4, 6) :     0 :  None :  None : False :  True : NonNegativeIntegers\n",
            "        (4, 7) :     0 :  None :  None : False :  True : NonNegativeIntegers\n",
            "        (5, 0) :     0 :  None :  None : False :  True : NonNegativeIntegers\n",
            "        (5, 1) :     0 :  None :  None : False :  True : NonNegativeIntegers\n",
            "        (5, 2) :     0 :  None :  None : False :  True : NonNegativeIntegers\n",
            "        (5, 3) :     0 :  None :  None : False :  True : NonNegativeIntegers\n",
            "        (5, 4) :     0 :  None :  None : False :  True : NonNegativeIntegers\n",
            "        (5, 5) :     0 :  None :  None : False :  True : NonNegativeIntegers\n",
            "        (5, 6) :     0 :  None :  None : False :  True : NonNegativeIntegers\n",
            "        (5, 7) :     0 :  None :  None : False :  True : NonNegativeIntegers\n",
            "        (6, 0) :     0 :  None :  None : False :  True : NonNegativeIntegers\n",
            "        (6, 1) :     0 :  None :  None : False :  True : NonNegativeIntegers\n",
            "        (6, 2) :     0 :  None :  None : False :  True : NonNegativeIntegers\n",
            "        (6, 3) :     0 :  None :  None : False :  True : NonNegativeIntegers\n",
            "        (6, 4) :     0 :  None :  None : False :  True : NonNegativeIntegers\n",
            "        (6, 5) :     0 :  None :  None : False :  True : NonNegativeIntegers\n",
            "        (6, 6) :     0 :  None :  None : False :  True : NonNegativeIntegers\n",
            "        (6, 7) :     0 :  None :  None : False :  True : NonNegativeIntegers\n",
            "        (7, 0) :     0 :  None :  None : False :  True : NonNegativeIntegers\n",
            "        (7, 1) :     0 :  None :  None : False :  True : NonNegativeIntegers\n",
            "        (7, 2) :     0 :  None :  None : False :  True : NonNegativeIntegers\n",
            "        (7, 3) :     0 :  None :  None : False :  True : NonNegativeIntegers\n",
            "        (7, 4) :     0 :  None :  None : False :  True : NonNegativeIntegers\n",
            "        (7, 5) :     0 :  None :  None : False :  True : NonNegativeIntegers\n",
            "        (7, 6) :     0 :  None :  None : False :  True : NonNegativeIntegers\n",
            "        (7, 7) :     0 :  None :  None : False :  True : NonNegativeIntegers\n",
            "\n",
            "1 Objective Declarations\n",
            "    objective : Size=1, Index=None, Active=True\n",
            "        Key  : Active : Sense    : Expression\n",
            "        None :   True : minimize : 627*x[0,0] + 617*x[0,1] + 1270*x[0,2] + 2072*x[0,3] + 1415*x[0,4] + 2943*x[0,5] + 1064*x[0,6] + 4265*x[0,7] + 159*x[1,0] + 1432*x[1,1] + 351*x[1,2] + 3372*x[1,3] + 237*x[1,4] + 3373*x[1,5] + 1456*x[1,6] + 5059*x[1,7] + 609*x[2,0] + 1943*x[2,1] + 77*x[2,2] + 3365*x[2,3] + 298*x[2,4] + 3021*x[2,5] + 1484*x[2,6] + 4803*x[2,7] + 2143*x[3,0] + 671*x[3,1] + 3876*x[3,2] + 537*x[3,3] + 1902*x[3,4] + 1941*x[3,5] + 1682*x[3,6] + 3348*x[3,7] + 2742*x[4,0] + 2089*x[4,1] + 1931*x[4,2] + 2199*x[4,3] + 1226*x[4,4] + 739*x[4,5] + 691*x[4,6] + 1128*x[4,7] + 2053*x[5,0] + 860*x[5,1] + 2995*x[5,2] + 68*x[5,3] + 2069*x[5,4] + 2065*x[5,5] + 993*x[5,6] + 3342*x[5,7] + 656*x[6,0] + 817*x[6,1] + 1245*x[6,2] + 2141*x[6,3] + 1534*x[6,4] + 3351*x[6,5] + 1137*x[6,6] + 3887*x[6,7] + 195*x[7,0] + 1862*x[7,1] + 1331*x[7,2] + 2921*x[7,3] + 402*x[7,4] + 2825*x[7,5] + 563*x[7,6] + 4441*x[7,7]\n",
            "\n",
            "1 Constraint Declarations\n",
            "    constraints : Size=16, Index=constraints_index, Active=True\n",
            "        Key : Lower : Body                                                                  : Upper : Active\n",
            "          1 :  -Inf : x[0,0] + x[0,1] + x[0,2] + x[0,3] + x[0,4] + x[0,5] + x[0,6] + x[0,7] : 185.0 :   True\n",
            "          2 :  -Inf : x[1,0] + x[1,1] + x[1,2] + x[1,3] + x[1,4] + x[1,5] + x[1,6] + x[1,7] : 350.0 :   True\n",
            "          3 :  -Inf : x[2,0] + x[2,1] + x[2,2] + x[2,3] + x[2,4] + x[2,5] + x[2,6] + x[2,7] : 405.0 :   True\n",
            "          4 :  -Inf : x[3,0] + x[3,1] + x[3,2] + x[3,3] + x[3,4] + x[3,5] + x[3,6] + x[3,7] : 280.0 :   True\n",
            "          5 :  -Inf : x[4,0] + x[4,1] + x[4,2] + x[4,3] + x[4,4] + x[4,5] + x[4,6] + x[4,7] : 105.0 :   True\n",
            "          6 :  -Inf : x[5,0] + x[5,1] + x[5,2] + x[5,3] + x[5,4] + x[5,5] + x[5,6] + x[5,7] :  75.0 :   True\n",
            "          7 :  -Inf : x[6,0] + x[6,1] + x[6,2] + x[6,3] + x[6,4] + x[6,5] + x[6,6] + x[6,7] : 425.0 :   True\n",
            "          8 :  -Inf : x[7,0] + x[7,1] + x[7,2] + x[7,3] + x[7,4] + x[7,5] + x[7,6] + x[7,7] : 270.0 :   True\n",
            "          9 : 175.0 : x[0,0] + x[1,0] + x[2,0] + x[3,0] + x[4,0] + x[5,0] + x[6,0] + x[7,0] : 175.0 :   True\n",
            "         10 : 400.0 : x[0,1] + x[1,1] + x[2,1] + x[3,1] + x[4,1] + x[5,1] + x[6,1] + x[7,1] : 400.0 :   True\n",
            "         11 : 550.0 : x[0,2] + x[1,2] + x[2,2] + x[3,2] + x[4,2] + x[5,2] + x[6,2] + x[7,2] : 550.0 :   True\n",
            "         12 :  70.0 : x[0,3] + x[1,3] + x[2,3] + x[3,3] + x[4,3] + x[5,3] + x[6,3] + x[7,3] :  70.0 :   True\n",
            "         13 : 650.0 : x[0,4] + x[1,4] + x[2,4] + x[3,4] + x[4,4] + x[5,4] + x[6,4] + x[7,4] : 650.0 :   True\n",
            "         14 : 100.0 : x[0,5] + x[1,5] + x[2,5] + x[3,5] + x[4,5] + x[5,5] + x[6,5] + x[7,5] : 100.0 :   True\n",
            "         15 :  65.0 : x[0,6] + x[1,6] + x[2,6] + x[3,6] + x[4,6] + x[5,6] + x[6,6] + x[7,6] :  65.0 :   True\n",
            "         16 :  85.0 : x[0,7] + x[1,7] + x[2,7] + x[3,7] + x[4,7] + x[5,7] + x[6,7] + x[7,7] :  85.0 :   True\n",
            "\n",
            "7 Declarations: x_index_0 x_index_1 x_index x objective constraints_index constraints\n"
          ]
        }
      ]
    },
    {
      "cell_type": "code",
      "metadata": {
        "id": "wIJHKi_fj73e"
      },
      "source": [
        "!apt-get install -y -qq coinor-cbc"
      ],
      "execution_count": 25,
      "outputs": []
    },
    {
      "cell_type": "code",
      "metadata": {
        "id": "A1IxebOhj9Pr"
      },
      "source": [
        "opt_cbc = SolverFactory('cbc')"
      ],
      "execution_count": 26,
      "outputs": []
    },
    {
      "cell_type": "code",
      "metadata": {
        "colab": {
          "base_uri": "https://localhost:8080/"
        },
        "id": "l107jeN4j_jX",
        "outputId": "2aba0780-0801-444d-8606-a7fe2c697b7c"
      },
      "source": [
        "result = opt_cbc.solve(model_lab5_ex1)\n",
        "print('Solver status:', result.solver.status)\n",
        "print('Solver termination condition:',result.solver.termination_condition)"
      ],
      "execution_count": 27,
      "outputs": [
        {
          "output_type": "stream",
          "name": "stdout",
          "text": [
            "Solver status: ok\n",
            "Solver termination condition: optimal\n"
          ]
        }
      ]
    },
    {
      "cell_type": "code",
      "metadata": {
        "colab": {
          "base_uri": "https://localhost:8080/"
        },
        "id": "XER40P29kDdY",
        "outputId": "9a2b40ee-3b66-41bb-fa6f-fe0290ed589f"
      },
      "source": [
        "# display solution\n",
        "print('\\nObjective = ', model_lab5_ex1.objective())\n",
        "\n",
        "print('\\nDecision Variables')\n",
        "for i in row_indices:\n",
        "  for j in col_indices:\n",
        "    print('Num of WMUs between ',data_csvfile['Warehouse-Market'][i],' and ', data_csvfile.columns[j+1],':', model_lab5_ex1.x[i,j].value)\n",
        "\n",
        "print('\\nConstraints')\n",
        "model_lab5_ex1.constraints.display()"
      ],
      "execution_count": 28,
      "outputs": [
        {
          "output_type": "stream",
          "name": "stdout",
          "text": [
            "\n",
            "Objective =  1166465.0\n",
            "\n",
            "Decision Variables\n",
            "Num of WMUs between  Ahmedabad  and  Hassan : 0.0\n",
            "Num of WMUs between  Ahmedabad  and  Jodhpur : 185.0\n",
            "Num of WMUs between  Ahmedabad  and  Trichy : 0.0\n",
            "Num of WMUs between  Ahmedabad  and  Simla : 0.0\n",
            "Num of WMUs between  Ahmedabad  and  Vijaywada : 0.0\n",
            "Num of WMUs between  Ahmedabad  and  Dibrugarh : 0.0\n",
            "Num of WMUs between  Ahmedabad  and  Raipur : 0.0\n",
            "Num of WMUs between  Ahmedabad  and  Agartala : 0.0\n",
            "Num of WMUs between  Bengaluru  and  Hassan : 0.0\n",
            "Num of WMUs between  Bengaluru  and  Jodhpur : 0.0\n",
            "Num of WMUs between  Bengaluru  and  Trichy : 0.0\n",
            "Num of WMUs between  Bengaluru  and  Simla : 0.0\n",
            "Num of WMUs between  Bengaluru  and  Vijaywada : 350.0\n",
            "Num of WMUs between  Bengaluru  and  Dibrugarh : 0.0\n",
            "Num of WMUs between  Bengaluru  and  Raipur : 0.0\n",
            "Num of WMUs between  Bengaluru  and  Agartala : 0.0\n",
            "Num of WMUs between  Chennai  and  Hassan : 0.0\n",
            "Num of WMUs between  Chennai  and  Jodhpur : 0.0\n",
            "Num of WMUs between  Chennai  and  Trichy : 375.0\n",
            "Num of WMUs between  Chennai  and  Simla : 0.0\n",
            "Num of WMUs between  Chennai  and  Vijaywada : 30.0\n",
            "Num of WMUs between  Chennai  and  Dibrugarh : 0.0\n",
            "Num of WMUs between  Chennai  and  Raipur : 0.0\n",
            "Num of WMUs between  Chennai  and  Agartala : 0.0\n",
            "Num of WMUs between  Delhi  and  Hassan : 0.0\n",
            "Num of WMUs between  Delhi  and  Jodhpur : 200.0\n",
            "Num of WMUs between  Delhi  and  Trichy : 0.0\n",
            "Num of WMUs between  Delhi  and  Simla : 0.0\n",
            "Num of WMUs between  Delhi  and  Vijaywada : 0.0\n",
            "Num of WMUs between  Delhi  and  Dibrugarh : 80.0\n",
            "Num of WMUs between  Delhi  and  Raipur : 0.0\n",
            "Num of WMUs between  Delhi  and  Agartala : 0.0\n",
            "Num of WMUs between  Kolkata  and  Hassan : 0.0\n",
            "Num of WMUs between  Kolkata  and  Jodhpur : 0.0\n",
            "Num of WMUs between  Kolkata  and  Trichy : 0.0\n",
            "Num of WMUs between  Kolkata  and  Simla : 0.0\n",
            "Num of WMUs between  Kolkata  and  Vijaywada : 0.0\n",
            "Num of WMUs between  Kolkata  and  Dibrugarh : 20.0\n",
            "Num of WMUs between  Kolkata  and  Raipur : 0.0\n",
            "Num of WMUs between  Kolkata  and  Agartala : 85.0\n",
            "Num of WMUs between  Lucknow  and  Hassan : 0.0\n",
            "Num of WMUs between  Lucknow  and  Jodhpur : 0.0\n",
            "Num of WMUs between  Lucknow  and  Trichy : 0.0\n",
            "Num of WMUs between  Lucknow  and  Simla : 70.0\n",
            "Num of WMUs between  Lucknow  and  Vijaywada : 0.0\n",
            "Num of WMUs between  Lucknow  and  Dibrugarh : 0.0\n",
            "Num of WMUs between  Lucknow  and  Raipur : 5.0\n",
            "Num of WMUs between  Lucknow  and  Agartala : 0.0\n",
            "Num of WMUs between  Mumbai  and  Hassan : 175.0\n",
            "Num of WMUs between  Mumbai  and  Jodhpur : 15.0\n",
            "Num of WMUs between  Mumbai  and  Trichy : 175.0\n",
            "Num of WMUs between  Mumbai  and  Simla : 0.0\n",
            "Num of WMUs between  Mumbai  and  Vijaywada : 0.0\n",
            "Num of WMUs between  Mumbai  and  Dibrugarh : 0.0\n",
            "Num of WMUs between  Mumbai  and  Raipur : 60.0\n",
            "Num of WMUs between  Mumbai  and  Agartala : 0.0\n",
            "Num of WMUs between  Hyderabad  and  Hassan : 0.0\n",
            "Num of WMUs between  Hyderabad  and  Jodhpur : 0.0\n",
            "Num of WMUs between  Hyderabad  and  Trichy : 0.0\n",
            "Num of WMUs between  Hyderabad  and  Simla : 0.0\n",
            "Num of WMUs between  Hyderabad  and  Vijaywada : 270.0\n",
            "Num of WMUs between  Hyderabad  and  Dibrugarh : 0.0\n",
            "Num of WMUs between  Hyderabad  and  Raipur : 0.0\n",
            "Num of WMUs between  Hyderabad  and  Agartala : 0.0\n",
            "\n",
            "Constraints\n",
            "constraints : Size=16\n",
            "    Key : Lower : Body  : Upper\n",
            "      1 :  None : 185.0 : 185.0\n",
            "      2 :  None : 350.0 : 350.0\n",
            "      3 :  None : 405.0 : 405.0\n",
            "      4 :  None : 280.0 : 280.0\n",
            "      5 :  None : 105.0 : 105.0\n",
            "      6 :  None :  75.0 :  75.0\n",
            "      7 :  None : 425.0 : 425.0\n",
            "      8 :  None : 270.0 : 270.0\n",
            "      9 : 175.0 : 175.0 : 175.0\n",
            "     10 : 400.0 : 400.0 : 400.0\n",
            "     11 : 550.0 : 550.0 : 550.0\n",
            "     12 :  70.0 :  70.0 :  70.0\n",
            "     13 : 650.0 : 650.0 : 650.0\n",
            "     14 : 100.0 : 100.0 : 100.0\n",
            "     15 :  65.0 :  65.0 :  65.0\n",
            "     16 :  85.0 :  85.0 :  85.0\n"
          ]
        }
      ]
    },
    {
      "cell_type": "markdown",
      "metadata": {
        "id": "uOwOmKsHZLBl"
      },
      "source": [
        "**Ex 1 part 7**"
      ]
    },
    {
      "cell_type": "markdown",
      "metadata": {
        "id": "uzueQM5qknXB"
      },
      "source": [
        "185 WMUs are to be transported from Ahmedabad to Jodhpur \\\\\n",
        "350 WMUs are to be transported from Benguluru to Vijaywada \\\\\n",
        "375 WMUs are to be transported from Chennai to Vijaywada \\\\\n",
        "30 WMUs are to be transported from Chennai to Vijaywada \\\\\n",
        "200 WMUs are to be transported from Delhi to Jodhpur \\\\\n",
        "80 WMUs are to be transported from Delhi to Dibrugarh \\\\\n",
        "20 WMUs are to be transported from kolkata to Dibrugarh \\\\\n",
        "85 WMUs are to be transported from Kolkata to Agartala \\\\\n",
        "70 WMUs are to be transported from Lucknow to Simla \\\\\n",
        "5 WMUs are to be transported from Lucknow to Raipur \\\\\n",
        "175 WMUs are to be transported from Mumbai to Hassan \\\\\n",
        "15 WMUs are to be transported from Mumbai to Jodhpur \\\\\n",
        "175 WMUs are to be transported from Mumbai to Trichy \\\\\n",
        "60 WMUs are to be transported from Mumbai to Raipur \\\\\n",
        "270 WMUs are to be transported from Hyderabad to Vijaywada \\\\\n",
        " \\\\\n",
        "And the the cost will be 1166465"
      ]
    },
    {
      "cell_type": "markdown",
      "metadata": {
        "id": "C2J6bsKnZL45"
      },
      "source": [
        "**Ex 1 part 8**"
      ]
    },
    {
      "cell_type": "markdown",
      "metadata": {
        "id": "LM9NEqFLnqYl"
      },
      "source": [
        "We can assign a very very high transportation cost for movement from benguluru to Hassan in the csv file.\n",
        "Hence the LPP algorith will automaticaly assign 0 for that route."
      ]
    },
    {
      "cell_type": "code",
      "metadata": {
        "id": "BIJgc-8VpyvB"
      },
      "source": [
        "data_csvfile.loc[1,'Hassan']=150000"
      ],
      "execution_count": 29,
      "outputs": []
    },
    {
      "cell_type": "code",
      "metadata": {
        "colab": {
          "base_uri": "https://localhost:8080/"
        },
        "id": "fTXiq_U8qMmi",
        "outputId": "b7e38c81-6be7-46ec-b721-fa2b628f6543"
      },
      "source": [
        "print(data_csvfile)"
      ],
      "execution_count": 30,
      "outputs": [
        {
          "output_type": "stream",
          "name": "stdout",
          "text": [
            "  Warehouse-Market  Hassan  Jodhpur  ...  Raipur  Agartala  Stocks\n",
            "0        Ahmedabad     627      617  ...    1064      4265     185\n",
            "1        Bengaluru  150000     1432  ...    1456      5059     350\n",
            "2          Chennai     609     1943  ...    1484      4803     405\n",
            "3            Delhi    2143      671  ...    1682      3348     280\n",
            "4          Kolkata    2742     2089  ...     691      1128     105\n",
            "5          Lucknow    2053      860  ...     993      3342      75\n",
            "6           Mumbai     656      817  ...    1137      3887     425\n",
            "7        Hyderabad     195     1862  ...     563      4441     270\n",
            "8           Demand     175      400  ...      65        85    2095\n",
            "\n",
            "[9 rows x 10 columns]\n"
          ]
        }
      ]
    },
    {
      "cell_type": "code",
      "metadata": {
        "id": "Z2ajfzvPq8N4"
      },
      "source": [
        "model_lab5_ex1.new_objective = Objective(expr=sum(data_csvfile.iloc[i,j+1]*model_lab5_ex1.x[i,j] for i in row_indices for j in col_indices),sense=minimize)"
      ],
      "execution_count": 31,
      "outputs": []
    },
    {
      "cell_type": "code",
      "metadata": {
        "id": "Rt3DxS2DrFiz"
      },
      "source": [
        "model_lab5_ex1.objective.deactivate()"
      ],
      "execution_count": 32,
      "outputs": []
    },
    {
      "cell_type": "code",
      "metadata": {
        "colab": {
          "base_uri": "https://localhost:8080/"
        },
        "id": "DGEtsDFftMP-",
        "outputId": "6e0cb682-1aeb-4c44-d987-aef1f4e99d65"
      },
      "source": [
        "model_lab5_ex1.pprint()"
      ],
      "execution_count": 33,
      "outputs": [
        {
          "output_type": "stream",
          "name": "stdout",
          "text": [
            "4 Set Declarations\n",
            "    constraints_index : Size=1, Index=None, Ordered=Insertion\n",
            "        Key  : Dimen : Domain : Size : Members\n",
            "        None :     1 :    Any :   16 : {1, 2, 3, 4, 5, 6, 7, 8, 9, 10, 11, 12, 13, 14, 15, 16}\n",
            "    x_index : Size=1, Index=None, Ordered=False\n",
            "        Key  : Dimen : Domain              : Size : Members\n",
            "        None :     2 : x_index_0*x_index_1 :   64 : {(0, 0), (0, 1), (0, 2), (0, 3), (0, 4), (0, 5), (0, 6), (0, 7), (1, 0), (1, 1), (1, 2), (1, 3), (1, 4), (1, 5), (1, 6), (1, 7), (2, 0), (2, 1), (2, 2), (2, 3), (2, 4), (2, 5), (2, 6), (2, 7), (3, 0), (3, 1), (3, 2), (3, 3), (3, 4), (3, 5), (3, 6), (3, 7), (4, 0), (4, 1), (4, 2), (4, 3), (4, 4), (4, 5), (4, 6), (4, 7), (5, 0), (5, 1), (5, 2), (5, 3), (5, 4), (5, 5), (5, 6), (5, 7), (6, 0), (6, 1), (6, 2), (6, 3), (6, 4), (6, 5), (6, 6), (6, 7), (7, 0), (7, 1), (7, 2), (7, 3), (7, 4), (7, 5), (7, 6), (7, 7)}\n",
            "    x_index_0 : Size=1, Index=None, Ordered=False\n",
            "        Key  : Dimen : Domain : Size : Members\n",
            "        None :     1 :    Any :    8 : {0, 1, 2, 3, 4, 5, 6, 7}\n",
            "    x_index_1 : Size=1, Index=None, Ordered=False\n",
            "        Key  : Dimen : Domain : Size : Members\n",
            "        None :     1 :    Any :    8 : {0, 1, 2, 3, 4, 5, 6, 7}\n",
            "\n",
            "1 Var Declarations\n",
            "    x : Size=64, Index=x_index\n",
            "        Key    : Lower : Value : Upper : Fixed : Stale : Domain\n",
            "        (0, 0) :     0 :   0.0 :  None : False : False : NonNegativeIntegers\n",
            "        (0, 1) :     0 : 185.0 :  None : False : False : NonNegativeIntegers\n",
            "        (0, 2) :     0 :   0.0 :  None : False : False : NonNegativeIntegers\n",
            "        (0, 3) :     0 :   0.0 :  None : False : False : NonNegativeIntegers\n",
            "        (0, 4) :     0 :   0.0 :  None : False : False : NonNegativeIntegers\n",
            "        (0, 5) :     0 :   0.0 :  None : False : False : NonNegativeIntegers\n",
            "        (0, 6) :     0 :   0.0 :  None : False : False : NonNegativeIntegers\n",
            "        (0, 7) :     0 :   0.0 :  None : False : False : NonNegativeIntegers\n",
            "        (1, 0) :     0 :   0.0 :  None : False : False : NonNegativeIntegers\n",
            "        (1, 1) :     0 :   0.0 :  None : False : False : NonNegativeIntegers\n",
            "        (1, 2) :     0 :   0.0 :  None : False : False : NonNegativeIntegers\n",
            "        (1, 3) :     0 :   0.0 :  None : False : False : NonNegativeIntegers\n",
            "        (1, 4) :     0 : 350.0 :  None : False : False : NonNegativeIntegers\n",
            "        (1, 5) :     0 :   0.0 :  None : False : False : NonNegativeIntegers\n",
            "        (1, 6) :     0 :   0.0 :  None : False : False : NonNegativeIntegers\n",
            "        (1, 7) :     0 :   0.0 :  None : False : False : NonNegativeIntegers\n",
            "        (2, 0) :     0 :   0.0 :  None : False : False : NonNegativeIntegers\n",
            "        (2, 1) :     0 :   0.0 :  None : False : False : NonNegativeIntegers\n",
            "        (2, 2) :     0 : 375.0 :  None : False : False : NonNegativeIntegers\n",
            "        (2, 3) :     0 :   0.0 :  None : False : False : NonNegativeIntegers\n",
            "        (2, 4) :     0 :  30.0 :  None : False : False : NonNegativeIntegers\n",
            "        (2, 5) :     0 :   0.0 :  None : False : False : NonNegativeIntegers\n",
            "        (2, 6) :     0 :   0.0 :  None : False : False : NonNegativeIntegers\n",
            "        (2, 7) :     0 :   0.0 :  None : False : False : NonNegativeIntegers\n",
            "        (3, 0) :     0 :   0.0 :  None : False : False : NonNegativeIntegers\n",
            "        (3, 1) :     0 : 200.0 :  None : False : False : NonNegativeIntegers\n",
            "        (3, 2) :     0 :   0.0 :  None : False : False : NonNegativeIntegers\n",
            "        (3, 3) :     0 :   0.0 :  None : False : False : NonNegativeIntegers\n",
            "        (3, 4) :     0 :   0.0 :  None : False : False : NonNegativeIntegers\n",
            "        (3, 5) :     0 :  80.0 :  None : False : False : NonNegativeIntegers\n",
            "        (3, 6) :     0 :   0.0 :  None : False : False : NonNegativeIntegers\n",
            "        (3, 7) :     0 :   0.0 :  None : False : False : NonNegativeIntegers\n",
            "        (4, 0) :     0 :   0.0 :  None : False : False : NonNegativeIntegers\n",
            "        (4, 1) :     0 :   0.0 :  None : False : False : NonNegativeIntegers\n",
            "        (4, 2) :     0 :   0.0 :  None : False : False : NonNegativeIntegers\n",
            "        (4, 3) :     0 :   0.0 :  None : False : False : NonNegativeIntegers\n",
            "        (4, 4) :     0 :   0.0 :  None : False : False : NonNegativeIntegers\n",
            "        (4, 5) :     0 :  20.0 :  None : False : False : NonNegativeIntegers\n",
            "        (4, 6) :     0 :   0.0 :  None : False : False : NonNegativeIntegers\n",
            "        (4, 7) :     0 :  85.0 :  None : False : False : NonNegativeIntegers\n",
            "        (5, 0) :     0 :   0.0 :  None : False : False : NonNegativeIntegers\n",
            "        (5, 1) :     0 :   0.0 :  None : False : False : NonNegativeIntegers\n",
            "        (5, 2) :     0 :   0.0 :  None : False : False : NonNegativeIntegers\n",
            "        (5, 3) :     0 :  70.0 :  None : False : False : NonNegativeIntegers\n",
            "        (5, 4) :     0 :   0.0 :  None : False : False : NonNegativeIntegers\n",
            "        (5, 5) :     0 :   0.0 :  None : False : False : NonNegativeIntegers\n",
            "        (5, 6) :     0 :   5.0 :  None : False : False : NonNegativeIntegers\n",
            "        (5, 7) :     0 :   0.0 :  None : False : False : NonNegativeIntegers\n",
            "        (6, 0) :     0 : 175.0 :  None : False : False : NonNegativeIntegers\n",
            "        (6, 1) :     0 :  15.0 :  None : False : False : NonNegativeIntegers\n",
            "        (6, 2) :     0 : 175.0 :  None : False : False : NonNegativeIntegers\n",
            "        (6, 3) :     0 :   0.0 :  None : False : False : NonNegativeIntegers\n",
            "        (6, 4) :     0 :   0.0 :  None : False : False : NonNegativeIntegers\n",
            "        (6, 5) :     0 :   0.0 :  None : False : False : NonNegativeIntegers\n",
            "        (6, 6) :     0 :  60.0 :  None : False : False : NonNegativeIntegers\n",
            "        (6, 7) :     0 :   0.0 :  None : False : False : NonNegativeIntegers\n",
            "        (7, 0) :     0 :   0.0 :  None : False : False : NonNegativeIntegers\n",
            "        (7, 1) :     0 :   0.0 :  None : False : False : NonNegativeIntegers\n",
            "        (7, 2) :     0 :   0.0 :  None : False : False : NonNegativeIntegers\n",
            "        (7, 3) :     0 :   0.0 :  None : False : False : NonNegativeIntegers\n",
            "        (7, 4) :     0 : 270.0 :  None : False : False : NonNegativeIntegers\n",
            "        (7, 5) :     0 :   0.0 :  None : False : False : NonNegativeIntegers\n",
            "        (7, 6) :     0 :   0.0 :  None : False : False : NonNegativeIntegers\n",
            "        (7, 7) :     0 :   0.0 :  None : False : False : NonNegativeIntegers\n",
            "\n",
            "2 Objective Declarations\n",
            "    new_objective : Size=1, Index=None, Active=True\n",
            "        Key  : Active : Sense    : Expression\n",
            "        None :   True : minimize : 627*x[0,0] + 617*x[0,1] + 1270*x[0,2] + 2072*x[0,3] + 1415*x[0,4] + 2943*x[0,5] + 1064*x[0,6] + 4265*x[0,7] + 150000*x[1,0] + 1432*x[1,1] + 351*x[1,2] + 3372*x[1,3] + 237*x[1,4] + 3373*x[1,5] + 1456*x[1,6] + 5059*x[1,7] + 609*x[2,0] + 1943*x[2,1] + 77*x[2,2] + 3365*x[2,3] + 298*x[2,4] + 3021*x[2,5] + 1484*x[2,6] + 4803*x[2,7] + 2143*x[3,0] + 671*x[3,1] + 3876*x[3,2] + 537*x[3,3] + 1902*x[3,4] + 1941*x[3,5] + 1682*x[3,6] + 3348*x[3,7] + 2742*x[4,0] + 2089*x[4,1] + 1931*x[4,2] + 2199*x[4,3] + 1226*x[4,4] + 739*x[4,5] + 691*x[4,6] + 1128*x[4,7] + 2053*x[5,0] + 860*x[5,1] + 2995*x[5,2] + 68*x[5,3] + 2069*x[5,4] + 2065*x[5,5] + 993*x[5,6] + 3342*x[5,7] + 656*x[6,0] + 817*x[6,1] + 1245*x[6,2] + 2141*x[6,3] + 1534*x[6,4] + 3351*x[6,5] + 1137*x[6,6] + 3887*x[6,7] + 195*x[7,0] + 1862*x[7,1] + 1331*x[7,2] + 2921*x[7,3] + 402*x[7,4] + 2825*x[7,5] + 563*x[7,6] + 4441*x[7,7]\n",
            "    objective : Size=1, Index=None, Active=False\n",
            "        Key  : Active : Sense    : Expression\n",
            "        None :  False : minimize : 627*x[0,0] + 617*x[0,1] + 1270*x[0,2] + 2072*x[0,3] + 1415*x[0,4] + 2943*x[0,5] + 1064*x[0,6] + 4265*x[0,7] + 159*x[1,0] + 1432*x[1,1] + 351*x[1,2] + 3372*x[1,3] + 237*x[1,4] + 3373*x[1,5] + 1456*x[1,6] + 5059*x[1,7] + 609*x[2,0] + 1943*x[2,1] + 77*x[2,2] + 3365*x[2,3] + 298*x[2,4] + 3021*x[2,5] + 1484*x[2,6] + 4803*x[2,7] + 2143*x[3,0] + 671*x[3,1] + 3876*x[3,2] + 537*x[3,3] + 1902*x[3,4] + 1941*x[3,5] + 1682*x[3,6] + 3348*x[3,7] + 2742*x[4,0] + 2089*x[4,1] + 1931*x[4,2] + 2199*x[4,3] + 1226*x[4,4] + 739*x[4,5] + 691*x[4,6] + 1128*x[4,7] + 2053*x[5,0] + 860*x[5,1] + 2995*x[5,2] + 68*x[5,3] + 2069*x[5,4] + 2065*x[5,5] + 993*x[5,6] + 3342*x[5,7] + 656*x[6,0] + 817*x[6,1] + 1245*x[6,2] + 2141*x[6,3] + 1534*x[6,4] + 3351*x[6,5] + 1137*x[6,6] + 3887*x[6,7] + 195*x[7,0] + 1862*x[7,1] + 1331*x[7,2] + 2921*x[7,3] + 402*x[7,4] + 2825*x[7,5] + 563*x[7,6] + 4441*x[7,7]\n",
            "\n",
            "1 Constraint Declarations\n",
            "    constraints : Size=16, Index=constraints_index, Active=True\n",
            "        Key : Lower : Body                                                                  : Upper : Active\n",
            "          1 :  -Inf : x[0,0] + x[0,1] + x[0,2] + x[0,3] + x[0,4] + x[0,5] + x[0,6] + x[0,7] : 185.0 :   True\n",
            "          2 :  -Inf : x[1,0] + x[1,1] + x[1,2] + x[1,3] + x[1,4] + x[1,5] + x[1,6] + x[1,7] : 350.0 :   True\n",
            "          3 :  -Inf : x[2,0] + x[2,1] + x[2,2] + x[2,3] + x[2,4] + x[2,5] + x[2,6] + x[2,7] : 405.0 :   True\n",
            "          4 :  -Inf : x[3,0] + x[3,1] + x[3,2] + x[3,3] + x[3,4] + x[3,5] + x[3,6] + x[3,7] : 280.0 :   True\n",
            "          5 :  -Inf : x[4,0] + x[4,1] + x[4,2] + x[4,3] + x[4,4] + x[4,5] + x[4,6] + x[4,7] : 105.0 :   True\n",
            "          6 :  -Inf : x[5,0] + x[5,1] + x[5,2] + x[5,3] + x[5,4] + x[5,5] + x[5,6] + x[5,7] :  75.0 :   True\n",
            "          7 :  -Inf : x[6,0] + x[6,1] + x[6,2] + x[6,3] + x[6,4] + x[6,5] + x[6,6] + x[6,7] : 425.0 :   True\n",
            "          8 :  -Inf : x[7,0] + x[7,1] + x[7,2] + x[7,3] + x[7,4] + x[7,5] + x[7,6] + x[7,7] : 270.0 :   True\n",
            "          9 : 175.0 : x[0,0] + x[1,0] + x[2,0] + x[3,0] + x[4,0] + x[5,0] + x[6,0] + x[7,0] : 175.0 :   True\n",
            "         10 : 400.0 : x[0,1] + x[1,1] + x[2,1] + x[3,1] + x[4,1] + x[5,1] + x[6,1] + x[7,1] : 400.0 :   True\n",
            "         11 : 550.0 : x[0,2] + x[1,2] + x[2,2] + x[3,2] + x[4,2] + x[5,2] + x[6,2] + x[7,2] : 550.0 :   True\n",
            "         12 :  70.0 : x[0,3] + x[1,3] + x[2,3] + x[3,3] + x[4,3] + x[5,3] + x[6,3] + x[7,3] :  70.0 :   True\n",
            "         13 : 650.0 : x[0,4] + x[1,4] + x[2,4] + x[3,4] + x[4,4] + x[5,4] + x[6,4] + x[7,4] : 650.0 :   True\n",
            "         14 : 100.0 : x[0,5] + x[1,5] + x[2,5] + x[3,5] + x[4,5] + x[5,5] + x[6,5] + x[7,5] : 100.0 :   True\n",
            "         15 :  65.0 : x[0,6] + x[1,6] + x[2,6] + x[3,6] + x[4,6] + x[5,6] + x[6,6] + x[7,6] :  65.0 :   True\n",
            "         16 :  85.0 : x[0,7] + x[1,7] + x[2,7] + x[3,7] + x[4,7] + x[5,7] + x[6,7] + x[7,7] :  85.0 :   True\n",
            "\n",
            "8 Declarations: x_index_0 x_index_1 x_index x objective constraints_index constraints new_objective\n"
          ]
        }
      ]
    },
    {
      "cell_type": "code",
      "metadata": {
        "colab": {
          "base_uri": "https://localhost:8080/"
        },
        "id": "dtc3bAOCtZmn",
        "outputId": "12ae3eba-8ccc-4928-a2d3-4765b39fb24a"
      },
      "source": [
        "result = opt_cbc.solve(model_lab5_ex1)\n",
        "print('Solver status:', result.solver.status)\n",
        "print('Solver termination condition:',result.solver.termination_condition)"
      ],
      "execution_count": 34,
      "outputs": [
        {
          "output_type": "stream",
          "name": "stdout",
          "text": [
            "Solver status: ok\n",
            "Solver termination condition: optimal\n"
          ]
        }
      ]
    },
    {
      "cell_type": "code",
      "metadata": {
        "colab": {
          "base_uri": "https://localhost:8080/"
        },
        "id": "KJDB8QkUtglo",
        "outputId": "b0502c57-ba42-42e9-9fbf-4cae3139db06"
      },
      "source": [
        "# display solution\n",
        "print('\\nObjective = ', model_lab5_ex1.objective())\n",
        "\n",
        "print('\\nDecision Variables')\n",
        "for i in row_indices:\n",
        "  for j in col_indices:\n",
        "    print('Num of WMUs between ',data_csvfile['Warehouse-Market'][i],' and ', data_csvfile.columns[j+1],':', model_lab5_ex1.x[i,j].value)\n",
        "\n",
        "print('\\nConstraints')\n",
        "model_lab5_ex1.constraints.display()"
      ],
      "execution_count": 35,
      "outputs": [
        {
          "output_type": "stream",
          "name": "stdout",
          "text": [
            "\n",
            "Objective =  1166465.0\n",
            "\n",
            "Decision Variables\n",
            "Num of WMUs between  Ahmedabad  and  Hassan : 0.0\n",
            "Num of WMUs between  Ahmedabad  and  Jodhpur : 185.0\n",
            "Num of WMUs between  Ahmedabad  and  Trichy : 0.0\n",
            "Num of WMUs between  Ahmedabad  and  Simla : 0.0\n",
            "Num of WMUs between  Ahmedabad  and  Vijaywada : 0.0\n",
            "Num of WMUs between  Ahmedabad  and  Dibrugarh : 0.0\n",
            "Num of WMUs between  Ahmedabad  and  Raipur : 0.0\n",
            "Num of WMUs between  Ahmedabad  and  Agartala : 0.0\n",
            "Num of WMUs between  Bengaluru  and  Hassan : 0.0\n",
            "Num of WMUs between  Bengaluru  and  Jodhpur : 0.0\n",
            "Num of WMUs between  Bengaluru  and  Trichy : 0.0\n",
            "Num of WMUs between  Bengaluru  and  Simla : 0.0\n",
            "Num of WMUs between  Bengaluru  and  Vijaywada : 350.0\n",
            "Num of WMUs between  Bengaluru  and  Dibrugarh : 0.0\n",
            "Num of WMUs between  Bengaluru  and  Raipur : 0.0\n",
            "Num of WMUs between  Bengaluru  and  Agartala : 0.0\n",
            "Num of WMUs between  Chennai  and  Hassan : 0.0\n",
            "Num of WMUs between  Chennai  and  Jodhpur : 0.0\n",
            "Num of WMUs between  Chennai  and  Trichy : 375.0\n",
            "Num of WMUs between  Chennai  and  Simla : 0.0\n",
            "Num of WMUs between  Chennai  and  Vijaywada : 30.0\n",
            "Num of WMUs between  Chennai  and  Dibrugarh : 0.0\n",
            "Num of WMUs between  Chennai  and  Raipur : 0.0\n",
            "Num of WMUs between  Chennai  and  Agartala : 0.0\n",
            "Num of WMUs between  Delhi  and  Hassan : 0.0\n",
            "Num of WMUs between  Delhi  and  Jodhpur : 200.0\n",
            "Num of WMUs between  Delhi  and  Trichy : 0.0\n",
            "Num of WMUs between  Delhi  and  Simla : 0.0\n",
            "Num of WMUs between  Delhi  and  Vijaywada : 0.0\n",
            "Num of WMUs between  Delhi  and  Dibrugarh : 80.0\n",
            "Num of WMUs between  Delhi  and  Raipur : 0.0\n",
            "Num of WMUs between  Delhi  and  Agartala : 0.0\n",
            "Num of WMUs between  Kolkata  and  Hassan : 0.0\n",
            "Num of WMUs between  Kolkata  and  Jodhpur : 0.0\n",
            "Num of WMUs between  Kolkata  and  Trichy : 0.0\n",
            "Num of WMUs between  Kolkata  and  Simla : 0.0\n",
            "Num of WMUs between  Kolkata  and  Vijaywada : 0.0\n",
            "Num of WMUs between  Kolkata  and  Dibrugarh : 20.0\n",
            "Num of WMUs between  Kolkata  and  Raipur : 0.0\n",
            "Num of WMUs between  Kolkata  and  Agartala : 85.0\n",
            "Num of WMUs between  Lucknow  and  Hassan : 0.0\n",
            "Num of WMUs between  Lucknow  and  Jodhpur : 0.0\n",
            "Num of WMUs between  Lucknow  and  Trichy : 0.0\n",
            "Num of WMUs between  Lucknow  and  Simla : 70.0\n",
            "Num of WMUs between  Lucknow  and  Vijaywada : 0.0\n",
            "Num of WMUs between  Lucknow  and  Dibrugarh : 0.0\n",
            "Num of WMUs between  Lucknow  and  Raipur : 5.0\n",
            "Num of WMUs between  Lucknow  and  Agartala : 0.0\n",
            "Num of WMUs between  Mumbai  and  Hassan : 175.0\n",
            "Num of WMUs between  Mumbai  and  Jodhpur : 15.0\n",
            "Num of WMUs between  Mumbai  and  Trichy : 175.0\n",
            "Num of WMUs between  Mumbai  and  Simla : 0.0\n",
            "Num of WMUs between  Mumbai  and  Vijaywada : 0.0\n",
            "Num of WMUs between  Mumbai  and  Dibrugarh : 0.0\n",
            "Num of WMUs between  Mumbai  and  Raipur : 60.0\n",
            "Num of WMUs between  Mumbai  and  Agartala : 0.0\n",
            "Num of WMUs between  Hyderabad  and  Hassan : 0.0\n",
            "Num of WMUs between  Hyderabad  and  Jodhpur : 0.0\n",
            "Num of WMUs between  Hyderabad  and  Trichy : 0.0\n",
            "Num of WMUs between  Hyderabad  and  Simla : 0.0\n",
            "Num of WMUs between  Hyderabad  and  Vijaywada : 270.0\n",
            "Num of WMUs between  Hyderabad  and  Dibrugarh : 0.0\n",
            "Num of WMUs between  Hyderabad  and  Raipur : 0.0\n",
            "Num of WMUs between  Hyderabad  and  Agartala : 0.0\n",
            "\n",
            "Constraints\n",
            "constraints : Size=16\n",
            "    Key : Lower : Body  : Upper\n",
            "      1 :  None : 185.0 : 185.0\n",
            "      2 :  None : 350.0 : 350.0\n",
            "      3 :  None : 405.0 : 405.0\n",
            "      4 :  None : 280.0 : 280.0\n",
            "      5 :  None : 105.0 : 105.0\n",
            "      6 :  None :  75.0 :  75.0\n",
            "      7 :  None : 425.0 : 425.0\n",
            "      8 :  None : 270.0 : 270.0\n",
            "      9 : 175.0 : 175.0 : 175.0\n",
            "     10 : 400.0 : 400.0 : 400.0\n",
            "     11 : 550.0 : 550.0 : 550.0\n",
            "     12 :  70.0 :  70.0 :  70.0\n",
            "     13 : 650.0 : 650.0 : 650.0\n",
            "     14 : 100.0 : 100.0 : 100.0\n",
            "     15 :  65.0 :  65.0 :  65.0\n",
            "     16 :  85.0 :  85.0 :  85.0\n"
          ]
        }
      ]
    },
    {
      "cell_type": "markdown",
      "metadata": {
        "id": "__x-vFo6ZMW9"
      },
      "source": [
        "**Ex 1 part 9**"
      ]
    },
    {
      "cell_type": "markdown",
      "metadata": {
        "id": "z17DSxoutwVr"
      },
      "source": [
        "185 WMUs are to be transported from Ahmedabad to Jodhpur \\\\\n",
        "350 WMUs are to be transported from Benguluru to Vijaywada \\\\\n",
        "375 WMUs are to be transported from Chennai to Vijaywada \\\\\n",
        "30 WMUs are to be transported from Chennai to Vijaywada \\\\\n",
        "200 WMUs are to be transported from Delhi to Jodhpur \\\\\n",
        "80 WMUs are to be transported from Delhi to Dibrugarh \\\\\n",
        "20 WMUs are to be transported from kolkata to Dibrugarh \\\\\n",
        "85 WMUs are to be transported from Kolkata to Agartala \\\\\n",
        "70 WMUs are to be transported from Lucknow to Simla \\\\\n",
        "5 WMUs are to be transported from Lucknow to Raipur \\\\\n",
        "175 WMUs are to be transported from Mumbai to Hassan \\\\\n",
        "15 WMUs are to be transported from Mumbai to Jodhpur \\\\\n",
        "175 WMUs are to be transported from Mumbai to Trichy \\\\\n",
        "60 WMUs are to be transported from Mumbai to Raipur \\\\\n",
        "270 WMUs are to be transported from Hyderabad to Vijaywada \\\\\n",
        " \\\\\n",
        "And the the cost will be 1166465"
      ]
    },
    {
      "cell_type": "markdown",
      "metadata": {
        "id": "nYFUFl9ZtyDd"
      },
      "source": [
        "There is no change in the solution as the the no. of WMUs to be transported from Benguluru to Hassan was already zero."
      ]
    },
    {
      "cell_type": "markdown",
      "metadata": {
        "id": "iifQRQ-iuCnb"
      },
      "source": [
        "**Ex 1 part 10**"
      ]
    },
    {
      "cell_type": "code",
      "metadata": {
        "id": "VQGJnoSZuJQC"
      },
      "source": [
        "data_csvfile.loc[5,'Simla']=150000\n",
        "data_csvfile.loc[4,'Agartala']=150000"
      ],
      "execution_count": 36,
      "outputs": []
    },
    {
      "cell_type": "code",
      "metadata": {
        "colab": {
          "base_uri": "https://localhost:8080/"
        },
        "id": "AV0cXiQRuRDg",
        "outputId": "22c50963-2b1b-4cfa-e09c-e41cce4b980e"
      },
      "source": [
        "print(data_csvfile)"
      ],
      "execution_count": 37,
      "outputs": [
        {
          "output_type": "stream",
          "name": "stdout",
          "text": [
            "  Warehouse-Market  Hassan  Jodhpur  ...  Raipur  Agartala  Stocks\n",
            "0        Ahmedabad     627      617  ...    1064      4265     185\n",
            "1        Bengaluru  150000     1432  ...    1456      5059     350\n",
            "2          Chennai     609     1943  ...    1484      4803     405\n",
            "3            Delhi    2143      671  ...    1682      3348     280\n",
            "4          Kolkata    2742     2089  ...     691    150000     105\n",
            "5          Lucknow    2053      860  ...     993      3342      75\n",
            "6           Mumbai     656      817  ...    1137      3887     425\n",
            "7        Hyderabad     195     1862  ...     563      4441     270\n",
            "8           Demand     175      400  ...      65        85    2095\n",
            "\n",
            "[9 rows x 10 columns]\n"
          ]
        }
      ]
    },
    {
      "cell_type": "code",
      "metadata": {
        "id": "cgI7DMQcuV8k"
      },
      "source": [
        "model_lab5_ex1.objective3 = Objective(expr=sum(data_csvfile.iloc[i,j+1]*model_lab5_ex1.x[i,j] for i in row_indices for j in col_indices),sense=minimize)"
      ],
      "execution_count": 38,
      "outputs": []
    },
    {
      "cell_type": "code",
      "metadata": {
        "id": "zCReY1fauaQI"
      },
      "source": [
        "model_lab5_ex1.new_objective.deactivate()"
      ],
      "execution_count": 39,
      "outputs": []
    },
    {
      "cell_type": "code",
      "metadata": {
        "colab": {
          "base_uri": "https://localhost:8080/"
        },
        "id": "4OnhRgL7ujJe",
        "outputId": "513eba0e-c34b-4777-9d8d-4f65ddc2425a"
      },
      "source": [
        "model_lab5_ex1.pprint()"
      ],
      "execution_count": 40,
      "outputs": [
        {
          "output_type": "stream",
          "name": "stdout",
          "text": [
            "4 Set Declarations\n",
            "    constraints_index : Size=1, Index=None, Ordered=Insertion\n",
            "        Key  : Dimen : Domain : Size : Members\n",
            "        None :     1 :    Any :   16 : {1, 2, 3, 4, 5, 6, 7, 8, 9, 10, 11, 12, 13, 14, 15, 16}\n",
            "    x_index : Size=1, Index=None, Ordered=False\n",
            "        Key  : Dimen : Domain              : Size : Members\n",
            "        None :     2 : x_index_0*x_index_1 :   64 : {(0, 0), (0, 1), (0, 2), (0, 3), (0, 4), (0, 5), (0, 6), (0, 7), (1, 0), (1, 1), (1, 2), (1, 3), (1, 4), (1, 5), (1, 6), (1, 7), (2, 0), (2, 1), (2, 2), (2, 3), (2, 4), (2, 5), (2, 6), (2, 7), (3, 0), (3, 1), (3, 2), (3, 3), (3, 4), (3, 5), (3, 6), (3, 7), (4, 0), (4, 1), (4, 2), (4, 3), (4, 4), (4, 5), (4, 6), (4, 7), (5, 0), (5, 1), (5, 2), (5, 3), (5, 4), (5, 5), (5, 6), (5, 7), (6, 0), (6, 1), (6, 2), (6, 3), (6, 4), (6, 5), (6, 6), (6, 7), (7, 0), (7, 1), (7, 2), (7, 3), (7, 4), (7, 5), (7, 6), (7, 7)}\n",
            "    x_index_0 : Size=1, Index=None, Ordered=False\n",
            "        Key  : Dimen : Domain : Size : Members\n",
            "        None :     1 :    Any :    8 : {0, 1, 2, 3, 4, 5, 6, 7}\n",
            "    x_index_1 : Size=1, Index=None, Ordered=False\n",
            "        Key  : Dimen : Domain : Size : Members\n",
            "        None :     1 :    Any :    8 : {0, 1, 2, 3, 4, 5, 6, 7}\n",
            "\n",
            "1 Var Declarations\n",
            "    x : Size=64, Index=x_index\n",
            "        Key    : Lower : Value : Upper : Fixed : Stale : Domain\n",
            "        (0, 0) :     0 :   0.0 :  None : False : False : NonNegativeIntegers\n",
            "        (0, 1) :     0 : 185.0 :  None : False : False : NonNegativeIntegers\n",
            "        (0, 2) :     0 :   0.0 :  None : False : False : NonNegativeIntegers\n",
            "        (0, 3) :     0 :   0.0 :  None : False : False : NonNegativeIntegers\n",
            "        (0, 4) :     0 :   0.0 :  None : False : False : NonNegativeIntegers\n",
            "        (0, 5) :     0 :   0.0 :  None : False : False : NonNegativeIntegers\n",
            "        (0, 6) :     0 :   0.0 :  None : False : False : NonNegativeIntegers\n",
            "        (0, 7) :     0 :   0.0 :  None : False : False : NonNegativeIntegers\n",
            "        (1, 0) :     0 :   0.0 :  None : False : False : NonNegativeIntegers\n",
            "        (1, 1) :     0 :   0.0 :  None : False : False : NonNegativeIntegers\n",
            "        (1, 2) :     0 :   0.0 :  None : False : False : NonNegativeIntegers\n",
            "        (1, 3) :     0 :   0.0 :  None : False : False : NonNegativeIntegers\n",
            "        (1, 4) :     0 : 350.0 :  None : False : False : NonNegativeIntegers\n",
            "        (1, 5) :     0 :   0.0 :  None : False : False : NonNegativeIntegers\n",
            "        (1, 6) :     0 :   0.0 :  None : False : False : NonNegativeIntegers\n",
            "        (1, 7) :     0 :   0.0 :  None : False : False : NonNegativeIntegers\n",
            "        (2, 0) :     0 :   0.0 :  None : False : False : NonNegativeIntegers\n",
            "        (2, 1) :     0 :   0.0 :  None : False : False : NonNegativeIntegers\n",
            "        (2, 2) :     0 : 375.0 :  None : False : False : NonNegativeIntegers\n",
            "        (2, 3) :     0 :   0.0 :  None : False : False : NonNegativeIntegers\n",
            "        (2, 4) :     0 :  30.0 :  None : False : False : NonNegativeIntegers\n",
            "        (2, 5) :     0 :   0.0 :  None : False : False : NonNegativeIntegers\n",
            "        (2, 6) :     0 :   0.0 :  None : False : False : NonNegativeIntegers\n",
            "        (2, 7) :     0 :   0.0 :  None : False : False : NonNegativeIntegers\n",
            "        (3, 0) :     0 :   0.0 :  None : False : False : NonNegativeIntegers\n",
            "        (3, 1) :     0 : 200.0 :  None : False : False : NonNegativeIntegers\n",
            "        (3, 2) :     0 :   0.0 :  None : False : False : NonNegativeIntegers\n",
            "        (3, 3) :     0 :   0.0 :  None : False : False : NonNegativeIntegers\n",
            "        (3, 4) :     0 :   0.0 :  None : False : False : NonNegativeIntegers\n",
            "        (3, 5) :     0 :  80.0 :  None : False : False : NonNegativeIntegers\n",
            "        (3, 6) :     0 :   0.0 :  None : False : False : NonNegativeIntegers\n",
            "        (3, 7) :     0 :   0.0 :  None : False : False : NonNegativeIntegers\n",
            "        (4, 0) :     0 :   0.0 :  None : False : False : NonNegativeIntegers\n",
            "        (4, 1) :     0 :   0.0 :  None : False : False : NonNegativeIntegers\n",
            "        (4, 2) :     0 :   0.0 :  None : False : False : NonNegativeIntegers\n",
            "        (4, 3) :     0 :   0.0 :  None : False : False : NonNegativeIntegers\n",
            "        (4, 4) :     0 :   0.0 :  None : False : False : NonNegativeIntegers\n",
            "        (4, 5) :     0 :  20.0 :  None : False : False : NonNegativeIntegers\n",
            "        (4, 6) :     0 :   0.0 :  None : False : False : NonNegativeIntegers\n",
            "        (4, 7) :     0 :  85.0 :  None : False : False : NonNegativeIntegers\n",
            "        (5, 0) :     0 :   0.0 :  None : False : False : NonNegativeIntegers\n",
            "        (5, 1) :     0 :   0.0 :  None : False : False : NonNegativeIntegers\n",
            "        (5, 2) :     0 :   0.0 :  None : False : False : NonNegativeIntegers\n",
            "        (5, 3) :     0 :  70.0 :  None : False : False : NonNegativeIntegers\n",
            "        (5, 4) :     0 :   0.0 :  None : False : False : NonNegativeIntegers\n",
            "        (5, 5) :     0 :   0.0 :  None : False : False : NonNegativeIntegers\n",
            "        (5, 6) :     0 :   5.0 :  None : False : False : NonNegativeIntegers\n",
            "        (5, 7) :     0 :   0.0 :  None : False : False : NonNegativeIntegers\n",
            "        (6, 0) :     0 : 175.0 :  None : False : False : NonNegativeIntegers\n",
            "        (6, 1) :     0 :  15.0 :  None : False : False : NonNegativeIntegers\n",
            "        (6, 2) :     0 : 175.0 :  None : False : False : NonNegativeIntegers\n",
            "        (6, 3) :     0 :   0.0 :  None : False : False : NonNegativeIntegers\n",
            "        (6, 4) :     0 :   0.0 :  None : False : False : NonNegativeIntegers\n",
            "        (6, 5) :     0 :   0.0 :  None : False : False : NonNegativeIntegers\n",
            "        (6, 6) :     0 :  60.0 :  None : False : False : NonNegativeIntegers\n",
            "        (6, 7) :     0 :   0.0 :  None : False : False : NonNegativeIntegers\n",
            "        (7, 0) :     0 :   0.0 :  None : False : False : NonNegativeIntegers\n",
            "        (7, 1) :     0 :   0.0 :  None : False : False : NonNegativeIntegers\n",
            "        (7, 2) :     0 :   0.0 :  None : False : False : NonNegativeIntegers\n",
            "        (7, 3) :     0 :   0.0 :  None : False : False : NonNegativeIntegers\n",
            "        (7, 4) :     0 : 270.0 :  None : False : False : NonNegativeIntegers\n",
            "        (7, 5) :     0 :   0.0 :  None : False : False : NonNegativeIntegers\n",
            "        (7, 6) :     0 :   0.0 :  None : False : False : NonNegativeIntegers\n",
            "        (7, 7) :     0 :   0.0 :  None : False : False : NonNegativeIntegers\n",
            "\n",
            "3 Objective Declarations\n",
            "    new_objective : Size=1, Index=None, Active=False\n",
            "        Key  : Active : Sense    : Expression\n",
            "        None :  False : minimize : 627*x[0,0] + 617*x[0,1] + 1270*x[0,2] + 2072*x[0,3] + 1415*x[0,4] + 2943*x[0,5] + 1064*x[0,6] + 4265*x[0,7] + 150000*x[1,0] + 1432*x[1,1] + 351*x[1,2] + 3372*x[1,3] + 237*x[1,4] + 3373*x[1,5] + 1456*x[1,6] + 5059*x[1,7] + 609*x[2,0] + 1943*x[2,1] + 77*x[2,2] + 3365*x[2,3] + 298*x[2,4] + 3021*x[2,5] + 1484*x[2,6] + 4803*x[2,7] + 2143*x[3,0] + 671*x[3,1] + 3876*x[3,2] + 537*x[3,3] + 1902*x[3,4] + 1941*x[3,5] + 1682*x[3,6] + 3348*x[3,7] + 2742*x[4,0] + 2089*x[4,1] + 1931*x[4,2] + 2199*x[4,3] + 1226*x[4,4] + 739*x[4,5] + 691*x[4,6] + 1128*x[4,7] + 2053*x[5,0] + 860*x[5,1] + 2995*x[5,2] + 68*x[5,3] + 2069*x[5,4] + 2065*x[5,5] + 993*x[5,6] + 3342*x[5,7] + 656*x[6,0] + 817*x[6,1] + 1245*x[6,2] + 2141*x[6,3] + 1534*x[6,4] + 3351*x[6,5] + 1137*x[6,6] + 3887*x[6,7] + 195*x[7,0] + 1862*x[7,1] + 1331*x[7,2] + 2921*x[7,3] + 402*x[7,4] + 2825*x[7,5] + 563*x[7,6] + 4441*x[7,7]\n",
            "    objective : Size=1, Index=None, Active=False\n",
            "        Key  : Active : Sense    : Expression\n",
            "        None :  False : minimize : 627*x[0,0] + 617*x[0,1] + 1270*x[0,2] + 2072*x[0,3] + 1415*x[0,4] + 2943*x[0,5] + 1064*x[0,6] + 4265*x[0,7] + 159*x[1,0] + 1432*x[1,1] + 351*x[1,2] + 3372*x[1,3] + 237*x[1,4] + 3373*x[1,5] + 1456*x[1,6] + 5059*x[1,7] + 609*x[2,0] + 1943*x[2,1] + 77*x[2,2] + 3365*x[2,3] + 298*x[2,4] + 3021*x[2,5] + 1484*x[2,6] + 4803*x[2,7] + 2143*x[3,0] + 671*x[3,1] + 3876*x[3,2] + 537*x[3,3] + 1902*x[3,4] + 1941*x[3,5] + 1682*x[3,6] + 3348*x[3,7] + 2742*x[4,0] + 2089*x[4,1] + 1931*x[4,2] + 2199*x[4,3] + 1226*x[4,4] + 739*x[4,5] + 691*x[4,6] + 1128*x[4,7] + 2053*x[5,0] + 860*x[5,1] + 2995*x[5,2] + 68*x[5,3] + 2069*x[5,4] + 2065*x[5,5] + 993*x[5,6] + 3342*x[5,7] + 656*x[6,0] + 817*x[6,1] + 1245*x[6,2] + 2141*x[6,3] + 1534*x[6,4] + 3351*x[6,5] + 1137*x[6,6] + 3887*x[6,7] + 195*x[7,0] + 1862*x[7,1] + 1331*x[7,2] + 2921*x[7,3] + 402*x[7,4] + 2825*x[7,5] + 563*x[7,6] + 4441*x[7,7]\n",
            "    objective3 : Size=1, Index=None, Active=True\n",
            "        Key  : Active : Sense    : Expression\n",
            "        None :   True : minimize : 627*x[0,0] + 617*x[0,1] + 1270*x[0,2] + 2072*x[0,3] + 1415*x[0,4] + 2943*x[0,5] + 1064*x[0,6] + 4265*x[0,7] + 150000*x[1,0] + 1432*x[1,1] + 351*x[1,2] + 3372*x[1,3] + 237*x[1,4] + 3373*x[1,5] + 1456*x[1,6] + 5059*x[1,7] + 609*x[2,0] + 1943*x[2,1] + 77*x[2,2] + 3365*x[2,3] + 298*x[2,4] + 3021*x[2,5] + 1484*x[2,6] + 4803*x[2,7] + 2143*x[3,0] + 671*x[3,1] + 3876*x[3,2] + 537*x[3,3] + 1902*x[3,4] + 1941*x[3,5] + 1682*x[3,6] + 3348*x[3,7] + 2742*x[4,0] + 2089*x[4,1] + 1931*x[4,2] + 2199*x[4,3] + 1226*x[4,4] + 739*x[4,5] + 691*x[4,6] + 150000*x[4,7] + 2053*x[5,0] + 860*x[5,1] + 2995*x[5,2] + 150000*x[5,3] + 2069*x[5,4] + 2065*x[5,5] + 993*x[5,6] + 3342*x[5,7] + 656*x[6,0] + 817*x[6,1] + 1245*x[6,2] + 2141*x[6,3] + 1534*x[6,4] + 3351*x[6,5] + 1137*x[6,6] + 3887*x[6,7] + 195*x[7,0] + 1862*x[7,1] + 1331*x[7,2] + 2921*x[7,3] + 402*x[7,4] + 2825*x[7,5] + 563*x[7,6] + 4441*x[7,7]\n",
            "\n",
            "1 Constraint Declarations\n",
            "    constraints : Size=16, Index=constraints_index, Active=True\n",
            "        Key : Lower : Body                                                                  : Upper : Active\n",
            "          1 :  -Inf : x[0,0] + x[0,1] + x[0,2] + x[0,3] + x[0,4] + x[0,5] + x[0,6] + x[0,7] : 185.0 :   True\n",
            "          2 :  -Inf : x[1,0] + x[1,1] + x[1,2] + x[1,3] + x[1,4] + x[1,5] + x[1,6] + x[1,7] : 350.0 :   True\n",
            "          3 :  -Inf : x[2,0] + x[2,1] + x[2,2] + x[2,3] + x[2,4] + x[2,5] + x[2,6] + x[2,7] : 405.0 :   True\n",
            "          4 :  -Inf : x[3,0] + x[3,1] + x[3,2] + x[3,3] + x[3,4] + x[3,5] + x[3,6] + x[3,7] : 280.0 :   True\n",
            "          5 :  -Inf : x[4,0] + x[4,1] + x[4,2] + x[4,3] + x[4,4] + x[4,5] + x[4,6] + x[4,7] : 105.0 :   True\n",
            "          6 :  -Inf : x[5,0] + x[5,1] + x[5,2] + x[5,3] + x[5,4] + x[5,5] + x[5,6] + x[5,7] :  75.0 :   True\n",
            "          7 :  -Inf : x[6,0] + x[6,1] + x[6,2] + x[6,3] + x[6,4] + x[6,5] + x[6,6] + x[6,7] : 425.0 :   True\n",
            "          8 :  -Inf : x[7,0] + x[7,1] + x[7,2] + x[7,3] + x[7,4] + x[7,5] + x[7,6] + x[7,7] : 270.0 :   True\n",
            "          9 : 175.0 : x[0,0] + x[1,0] + x[2,0] + x[3,0] + x[4,0] + x[5,0] + x[6,0] + x[7,0] : 175.0 :   True\n",
            "         10 : 400.0 : x[0,1] + x[1,1] + x[2,1] + x[3,1] + x[4,1] + x[5,1] + x[6,1] + x[7,1] : 400.0 :   True\n",
            "         11 : 550.0 : x[0,2] + x[1,2] + x[2,2] + x[3,2] + x[4,2] + x[5,2] + x[6,2] + x[7,2] : 550.0 :   True\n",
            "         12 :  70.0 : x[0,3] + x[1,3] + x[2,3] + x[3,3] + x[4,3] + x[5,3] + x[6,3] + x[7,3] :  70.0 :   True\n",
            "         13 : 650.0 : x[0,4] + x[1,4] + x[2,4] + x[3,4] + x[4,4] + x[5,4] + x[6,4] + x[7,4] : 650.0 :   True\n",
            "         14 : 100.0 : x[0,5] + x[1,5] + x[2,5] + x[3,5] + x[4,5] + x[5,5] + x[6,5] + x[7,5] : 100.0 :   True\n",
            "         15 :  65.0 : x[0,6] + x[1,6] + x[2,6] + x[3,6] + x[4,6] + x[5,6] + x[6,6] + x[7,6] :  65.0 :   True\n",
            "         16 :  85.0 : x[0,7] + x[1,7] + x[2,7] + x[3,7] + x[4,7] + x[5,7] + x[6,7] + x[7,7] :  85.0 :   True\n",
            "\n",
            "9 Declarations: x_index_0 x_index_1 x_index x objective constraints_index constraints new_objective objective3\n"
          ]
        }
      ]
    },
    {
      "cell_type": "code",
      "metadata": {
        "colab": {
          "base_uri": "https://localhost:8080/"
        },
        "id": "y0gzNZcoueaB",
        "outputId": "2b1e9f37-77bc-417d-a513-d483bec9d53c"
      },
      "source": [
        "result = opt_cbc.solve(model_lab5_ex1)\n",
        "print('Solver status:', result.solver.status)\n",
        "print('Solver termination condition:',result.solver.termination_condition)"
      ],
      "execution_count": 41,
      "outputs": [
        {
          "output_type": "stream",
          "name": "stdout",
          "text": [
            "Solver status: ok\n",
            "Solver termination condition: optimal\n"
          ]
        }
      ]
    },
    {
      "cell_type": "code",
      "metadata": {
        "colab": {
          "base_uri": "https://localhost:8080/"
        },
        "id": "ayUJVrM5ui0x",
        "outputId": "e9b87dc7-c6a1-4571-a171-8637d57b2170"
      },
      "source": [
        "# display solution\n",
        "print('\\nObjective = ', model_lab5_ex1.objective())\n",
        "\n",
        "print('\\nDecision Variables')\n",
        "for i in row_indices:\n",
        "  for j in col_indices:\n",
        "    print('Num of WMUs between ',data_csvfile['Warehouse-Market'][i],' and ', data_csvfile.columns[j+1],':', model_lab5_ex1.x[i,j].value)\n",
        "\n",
        "print('\\nConstraints')\n",
        "model_lab5_ex1.constraints.display()"
      ],
      "execution_count": 42,
      "outputs": [
        {
          "output_type": "stream",
          "name": "stdout",
          "text": [
            "\n",
            "Objective =  1289875.0\n",
            "\n",
            "Decision Variables\n",
            "Num of WMUs between  Ahmedabad  and  Hassan : 0.0\n",
            "Num of WMUs between  Ahmedabad  and  Jodhpur : 185.0\n",
            "Num of WMUs between  Ahmedabad  and  Trichy : 0.0\n",
            "Num of WMUs between  Ahmedabad  and  Simla : 0.0\n",
            "Num of WMUs between  Ahmedabad  and  Vijaywada : 0.0\n",
            "Num of WMUs between  Ahmedabad  and  Dibrugarh : 0.0\n",
            "Num of WMUs between  Ahmedabad  and  Raipur : 0.0\n",
            "Num of WMUs between  Ahmedabad  and  Agartala : 0.0\n",
            "Num of WMUs between  Bengaluru  and  Hassan : 0.0\n",
            "Num of WMUs between  Bengaluru  and  Jodhpur : 0.0\n",
            "Num of WMUs between  Bengaluru  and  Trichy : 0.0\n",
            "Num of WMUs between  Bengaluru  and  Simla : 0.0\n",
            "Num of WMUs between  Bengaluru  and  Vijaywada : 350.0\n",
            "Num of WMUs between  Bengaluru  and  Dibrugarh : 0.0\n",
            "Num of WMUs between  Bengaluru  and  Raipur : 0.0\n",
            "Num of WMUs between  Bengaluru  and  Agartala : 0.0\n",
            "Num of WMUs between  Chennai  and  Hassan : 0.0\n",
            "Num of WMUs between  Chennai  and  Jodhpur : 0.0\n",
            "Num of WMUs between  Chennai  and  Trichy : 375.0\n",
            "Num of WMUs between  Chennai  and  Simla : 0.0\n",
            "Num of WMUs between  Chennai  and  Vijaywada : 30.0\n",
            "Num of WMUs between  Chennai  and  Dibrugarh : 0.0\n",
            "Num of WMUs between  Chennai  and  Raipur : 0.0\n",
            "Num of WMUs between  Chennai  and  Agartala : 0.0\n",
            "Num of WMUs between  Delhi  and  Hassan : 0.0\n",
            "Num of WMUs between  Delhi  and  Jodhpur : 200.0\n",
            "Num of WMUs between  Delhi  and  Trichy : 0.0\n",
            "Num of WMUs between  Delhi  and  Simla : 70.0\n",
            "Num of WMUs between  Delhi  and  Vijaywada : 0.0\n",
            "Num of WMUs between  Delhi  and  Dibrugarh : 0.0\n",
            "Num of WMUs between  Delhi  and  Raipur : 0.0\n",
            "Num of WMUs between  Delhi  and  Agartala : 10.0\n",
            "Num of WMUs between  Kolkata  and  Hassan : 0.0\n",
            "Num of WMUs between  Kolkata  and  Jodhpur : 0.0\n",
            "Num of WMUs between  Kolkata  and  Trichy : 0.0\n",
            "Num of WMUs between  Kolkata  and  Simla : 0.0\n",
            "Num of WMUs between  Kolkata  and  Vijaywada : 0.0\n",
            "Num of WMUs between  Kolkata  and  Dibrugarh : 100.0\n",
            "Num of WMUs between  Kolkata  and  Raipur : 5.0\n",
            "Num of WMUs between  Kolkata  and  Agartala : 0.0\n",
            "Num of WMUs between  Lucknow  and  Hassan : 0.0\n",
            "Num of WMUs between  Lucknow  and  Jodhpur : 0.0\n",
            "Num of WMUs between  Lucknow  and  Trichy : 0.0\n",
            "Num of WMUs between  Lucknow  and  Simla : 0.0\n",
            "Num of WMUs between  Lucknow  and  Vijaywada : 0.0\n",
            "Num of WMUs between  Lucknow  and  Dibrugarh : 0.0\n",
            "Num of WMUs between  Lucknow  and  Raipur : 0.0\n",
            "Num of WMUs between  Lucknow  and  Agartala : 75.0\n",
            "Num of WMUs between  Mumbai  and  Hassan : 175.0\n",
            "Num of WMUs between  Mumbai  and  Jodhpur : 15.0\n",
            "Num of WMUs between  Mumbai  and  Trichy : 175.0\n",
            "Num of WMUs between  Mumbai  and  Simla : 0.0\n",
            "Num of WMUs between  Mumbai  and  Vijaywada : 0.0\n",
            "Num of WMUs between  Mumbai  and  Dibrugarh : 0.0\n",
            "Num of WMUs between  Mumbai  and  Raipur : 60.0\n",
            "Num of WMUs between  Mumbai  and  Agartala : 0.0\n",
            "Num of WMUs between  Hyderabad  and  Hassan : 0.0\n",
            "Num of WMUs between  Hyderabad  and  Jodhpur : 0.0\n",
            "Num of WMUs between  Hyderabad  and  Trichy : 0.0\n",
            "Num of WMUs between  Hyderabad  and  Simla : 0.0\n",
            "Num of WMUs between  Hyderabad  and  Vijaywada : 270.0\n",
            "Num of WMUs between  Hyderabad  and  Dibrugarh : 0.0\n",
            "Num of WMUs between  Hyderabad  and  Raipur : 0.0\n",
            "Num of WMUs between  Hyderabad  and  Agartala : 0.0\n",
            "\n",
            "Constraints\n",
            "constraints : Size=16\n",
            "    Key : Lower : Body  : Upper\n",
            "      1 :  None : 185.0 : 185.0\n",
            "      2 :  None : 350.0 : 350.0\n",
            "      3 :  None : 405.0 : 405.0\n",
            "      4 :  None : 280.0 : 280.0\n",
            "      5 :  None : 105.0 : 105.0\n",
            "      6 :  None :  75.0 :  75.0\n",
            "      7 :  None : 425.0 : 425.0\n",
            "      8 :  None : 270.0 : 270.0\n",
            "      9 : 175.0 : 175.0 : 175.0\n",
            "     10 : 400.0 : 400.0 : 400.0\n",
            "     11 : 550.0 : 550.0 : 550.0\n",
            "     12 :  70.0 :  70.0 :  70.0\n",
            "     13 : 650.0 : 650.0 : 650.0\n",
            "     14 : 100.0 : 100.0 : 100.0\n",
            "     15 :  65.0 :  65.0 :  65.0\n",
            "     16 :  85.0 :  85.0 :  85.0\n"
          ]
        }
      ]
    },
    {
      "cell_type": "markdown",
      "metadata": {
        "id": "zseUP51NvVlx"
      },
      "source": [
        "**Ex 1 part 11**"
      ]
    },
    {
      "cell_type": "markdown",
      "metadata": {
        "id": "mT5Sq1AmvX7y"
      },
      "source": [
        "185 WMUs are to be transported from Ahmedabad to Jodhpur \\\\\n",
        "350 WMUs are to be transported from Benguluru to Vijaywada \\\\\n",
        "375 WMUs are to be transported from Chennai to Vijaywada \\\\\n",
        "30 WMUs are to be transported from Chennai to Vijaywada \\\\\n",
        "200 WMUs are to be transported from Delhi to Jodhpur \\\\\n",
        "70 WMUs are to be transported from Delhi to Simla \\\\\n",
        "10 WMUs are to be transported from Delhi to Agartala \\\\\n",
        "\n",
        "100 WMUs are to be transported from kolkata to Dibrugarh \\\\\n",
        "5 WMUs are to be transported from Kolkata to Raipur \\\\\n",
        "75 WMUs are to be transported from Lucknow to Agartala \\\\\n",
        "175 WMUs are to be transported from Mumbai to Hassan \\\\\n",
        "15 WMUs are to be transported from Mumbai to Jodhpur \\\\\n",
        "175 WMUs are to be transported from Mumbai to Trichy \\\\\n",
        "60 WMUs are to be transported from Mumbai to Raipur \\\\\n",
        "270 WMUs are to be transported from Hyderabad to Vijaywada \\\\\n",
        " \\\\\n",
        "And the the cost will be 1289875"
      ]
    },
    {
      "cell_type": "markdown",
      "metadata": {
        "id": "CUbKfHQjwXmq"
      },
      "source": [
        "Here we are getting more optimal value as we have ignored the given three routes(of which only last 2 are affecting the solution)"
      ]
    },
    {
      "cell_type": "code",
      "metadata": {
        "id": "gjT8dPT5vO-c"
      },
      "source": [
        ""
      ],
      "execution_count": 42,
      "outputs": []
    }
  ]
}