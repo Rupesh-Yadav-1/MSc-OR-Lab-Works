{
  "nbformat": 4,
  "nbformat_minor": 0,
  "metadata": {
    "colab": {
      "name": "21i190004_IE507_Lab9_Ex2.ipynb",
      "provenance": [],
      "collapsed_sections": []
    },
    "kernelspec": {
      "name": "python3",
      "display_name": "Python 3"
    },
    "language_info": {
      "name": "python"
    }
  },
  "cells": [
    {
      "cell_type": "markdown",
      "metadata": {
        "id": "3FLH1RCh7y7_"
      },
      "source": [
        "Consider that all given things are present on a 2D coordinate grids. Where the house is present at (0,0) 1st corner of farm is at (-100,-100), 2nd at (0,-200), 3rd at (150,-50) and center of lake at (200,200).\n",
        "\n",
        "By drawing a rough locational diagram it is clear that the farm end of pipeline should be on the side of farm joining house and 3rd corner, i.e (150,-50).\n",
        "\n",
        "So, we will simply minimize the distance b/w lake and farm side joining (0,0) and (150,-50). i.e. minimize distance b/w a circle centered at (200,200) of radius 50 and line joining (0,0) and (150,-50).\n",
        "\n",
        "We know minimizing  $\\sqrt x$ is same as minimizing $x$ and then taking sqrt.\n",
        "\n",
        "Which will be given by,\n",
        "\n",
        "$$ \\text{Min  } (xl-xf)^2+(yl-yf)^2 \\\\\n",
        "\\text{s.t. } \\\\\n",
        " 3yf+xf=0 \\\\\n",
        "(xl-200)^2+(yl-200)^2=2500 \\\\\n",
        "xf>=0 \\\\\n",
        "xf<=150$$"
      ]
    },
    {
      "cell_type": "code",
      "metadata": {
        "id": "mZUxSJOHB53R",
        "colab": {
          "base_uri": "https://localhost:8080/"
        },
        "outputId": "7ae0446e-9034-4975-e003-3bfacbcde82b"
      },
      "source": [
        "%%bash\n",
        "rm -fv ipopt*\n",
        "apt install -q -yy libgfortran5\n",
        "sleep 1\n",
        "wget -q https://www.ieor.iitb.ac.in/files/faculty/amahajan/ipopt\n",
        "wget -q https://www.ieor.iitb.ac.in/files/faculty/amahajan/test.nl\n",
        "chmod u+rx ipopt"
      ],
      "execution_count": null,
      "outputs": [
        {
          "output_type": "stream",
          "name": "stdout",
          "text": [
            "removed 'ipopt'\n",
            "Reading package lists...\n",
            "Building dependency tree...\n",
            "Reading state information...\n",
            "libgfortran5 is already the newest version (8.4.0-1ubuntu1~18.04).\n",
            "0 upgraded, 0 newly installed, 0 to remove and 37 not upgraded.\n"
          ]
        },
        {
          "output_type": "stream",
          "name": "stderr",
          "text": [
            "\n",
            "WARNING: apt does not have a stable CLI interface. Use with caution in scripts.\n",
            "\n"
          ]
        }
      ]
    },
    {
      "cell_type": "code",
      "metadata": {
        "id": "cjLiQWhe_rEN"
      },
      "source": [
        "!pip install -q pyomo"
      ],
      "execution_count": null,
      "outputs": []
    },
    {
      "cell_type": "code",
      "metadata": {
        "id": "X9oU96p7_vYb"
      },
      "source": [
        "import numpy as np"
      ],
      "execution_count": null,
      "outputs": []
    },
    {
      "cell_type": "code",
      "metadata": {
        "id": "qwfooA4r_xxL"
      },
      "source": [
        "from pyomo.environ import *"
      ],
      "execution_count": null,
      "outputs": []
    },
    {
      "cell_type": "code",
      "metadata": {
        "id": "VBuo2lhD_zsc"
      },
      "source": [
        "model = ConcreteModel()\n",
        "model.xf = Var()\n",
        "model.yf = Var()\n",
        "model.xl = Var()\n",
        "model.yl = Var()\n",
        "\n",
        "model.obj = Objective(expr = (model.xl-model.xf)**2 + (model.yl-model.yf)**2, sense=minimize)\n",
        "\n",
        "model.constraints = ConstraintList()\n",
        "model.constraints.add(3*model.yf + model.xf == 0)\n",
        "model.constraints.add((model.xl-200)**2 + (model.yl-200)**2 == 2500)\n",
        "\n",
        "model.xf.setlb(0)\n",
        "model.xf.setub(150)"
      ],
      "execution_count": null,
      "outputs": []
    },
    {
      "cell_type": "code",
      "metadata": {
        "colab": {
          "base_uri": "https://localhost:8080/"
        },
        "id": "O1NJ6zqMARay",
        "outputId": "b62c8c18-a3ee-48fe-8034-808245784d7b"
      },
      "source": [
        "model.pprint() "
      ],
      "execution_count": null,
      "outputs": [
        {
          "output_type": "stream",
          "name": "stdout",
          "text": [
            "1 Set Declarations\n",
            "    constraints_index : Size=1, Index=None, Ordered=Insertion\n",
            "        Key  : Dimen : Domain : Size : Members\n",
            "        None :     1 :    Any :    2 : {1, 2}\n",
            "\n",
            "4 Var Declarations\n",
            "    xf : Size=1, Index=None\n",
            "        Key  : Lower : Value : Upper : Fixed : Stale : Domain\n",
            "        None :     0 :  None :   150 : False :  True :  Reals\n",
            "    xl : Size=1, Index=None\n",
            "        Key  : Lower : Value : Upper : Fixed : Stale : Domain\n",
            "        None :  None :  None :  None : False :  True :  Reals\n",
            "    yf : Size=1, Index=None\n",
            "        Key  : Lower : Value : Upper : Fixed : Stale : Domain\n",
            "        None :  None :  None :  None : False :  True :  Reals\n",
            "    yl : Size=1, Index=None\n",
            "        Key  : Lower : Value : Upper : Fixed : Stale : Domain\n",
            "        None :  None :  None :  None : False :  True :  Reals\n",
            "\n",
            "1 Objective Declarations\n",
            "    obj : Size=1, Index=None, Active=True\n",
            "        Key  : Active : Sense    : Expression\n",
            "        None :   True : minimize : (xl - xf)**2 + (yl - yf)**2\n",
            "\n",
            "1 Constraint Declarations\n",
            "    constraints : Size=2, Index=constraints_index, Active=True\n",
            "        Key : Lower  : Body                          : Upper  : Active\n",
            "          1 :    0.0 :                     3*yf + xf :    0.0 :   True\n",
            "          2 : 2500.0 : (xl - 200)**2 + (yl - 200)**2 : 2500.0 :   True\n",
            "\n",
            "7 Declarations: xf yf xl yl obj constraints_index constraints\n"
          ]
        }
      ]
    },
    {
      "cell_type": "code",
      "metadata": {
        "id": "V6oCkcQOBm0i"
      },
      "source": [
        "opt_ipopt = SolverFactory('ipopt')"
      ],
      "execution_count": null,
      "outputs": []
    },
    {
      "cell_type": "code",
      "metadata": {
        "colab": {
          "base_uri": "https://localhost:8080/"
        },
        "id": "5YcA_5uYBPp7",
        "outputId": "1bd8052f-1ec3-40c5-b15a-cabfa32c7423"
      },
      "source": [
        "result = opt_ipopt.solve(model)\n",
        "print(result)\n",
        "\n",
        "print('Solver status:', result.solver.status)\n",
        "print('Solver termination condition:',result.solver.termination_condition)\n",
        "print('\\nObjective = ', model.obj())\n",
        "\n",
        "print('\\nDecision Variables')\n",
        "print('xl = ', model.xl.value)  \n",
        "print('yl = ', model.yl.value) \n",
        "print('xf = ', model.xf.value)  \n",
        "print('yf = ', model.yf.value) "
      ],
      "execution_count": null,
      "outputs": [
        {
          "output_type": "stream",
          "name": "stdout",
          "text": [
            "\n",
            "Problem: \n",
            "- Lower bound: -inf\n",
            "  Upper bound: inf\n",
            "  Number of objectives: 1\n",
            "  Number of constraints: 2\n",
            "  Number of variables: 4\n",
            "  Sense: unknown\n",
            "Solver: \n",
            "- Status: ok\n",
            "  Message: Ipopt 3.13.2\\x3a Optimal Solution Found\n",
            "  Termination condition: optimal\n",
            "  Id: 0\n",
            "  Error rc: 0\n",
            "  Time: 0.024911165237426758\n",
            "Solution: \n",
            "- number of solutions: 0\n",
            "  number of solutions displayed: 0\n",
            "\n",
            "Solver status: ok\n",
            "Solver termination condition: optimal\n",
            "\n",
            "Objective =  41201.77871865297\n",
            "\n",
            "Decision Variables\n",
            "xl =  184.18861169915115\n",
            "yl =  152.56583509747662\n",
            "xf =  119.99999999996487\n",
            "yf =  -39.99999999998829\n"
          ]
        }
      ]
    },
    {
      "cell_type": "code",
      "metadata": {
        "id": "k4oHZGv6Bhc2",
        "colab": {
          "base_uri": "https://localhost:8080/"
        },
        "outputId": "41b0ab51-e0b0-4c17-b35f-3f0de66cd53f"
      },
      "source": [
        "print('The location of end toward farm is ',model.xf.value,'meters east and ',-model.yf.value,'meters south of house.')\n",
        "print('The location of end toward lake is ',model.xl.value,'meters east and ',model.yl.value,'meters north of house.')"
      ],
      "execution_count": null,
      "outputs": [
        {
          "output_type": "stream",
          "name": "stdout",
          "text": [
            "The location of end toward farm is  119.99999999996487 meters east and  39.99999999998829 meters south of house.\n",
            "The location of end toward lake is  184.18861169915115 meters east and  152.56583509747662 meters north of house.\n"
          ]
        }
      ]
    },
    {
      "cell_type": "markdown",
      "metadata": {
        "id": "d9poNKt5FjHg"
      },
      "source": [
        "\n",
        "$$ \\text{Min } \\ \\ \\ 0.2*\\sqrt{(xj-15)^2+(yj-20)^2}+\\sqrt{(xl-xj)^2+(yl-yj)^2}+\\sqrt{(xj-xf)^2+(yj-yf)^2} \\\\\n",
        "\\text{s.t. } \\\\\n",
        " 3yf+xf=0 \\\\\n",
        "(xl-200)^2+(yl-200)^2=2500 \\\\\n",
        "xf>=0 \\\\\n",
        "xf<=150$$"
      ]
    },
    {
      "cell_type": "code",
      "metadata": {
        "id": "Mz2RidPm_aEy"
      },
      "source": [
        "model.xj = Var()\n",
        "model.yj = Var()\n",
        "\n",
        "model.obj2 = Objective(expr = 0.2*(((model.xj-15)**2 + (model.yj-20)**2)**0.5)+((model.xl-model.xj)**2 + (model.yl-model.yj)**2)**0.5+((model.xj-model.xf)**2 + (model.yj-model.yf)**2)**0.5, sense=minimize)\n",
        "\n",
        "model.obj.deactivate()"
      ],
      "execution_count": null,
      "outputs": []
    },
    {
      "cell_type": "code",
      "metadata": {
        "colab": {
          "base_uri": "https://localhost:8080/"
        },
        "id": "oD04dl-KCcyA",
        "outputId": "b236d4e5-cee9-4f3b-ab6b-fd37b4883f1e"
      },
      "source": [
        "model.pprint()"
      ],
      "execution_count": null,
      "outputs": [
        {
          "output_type": "stream",
          "name": "stdout",
          "text": [
            "1 Set Declarations\n",
            "    constraints_index : Size=1, Index=None, Ordered=Insertion\n",
            "        Key  : Dimen : Domain : Size : Members\n",
            "        None :     1 :    Any :    2 : {1, 2}\n",
            "\n",
            "6 Var Declarations\n",
            "    xf : Size=1, Index=None\n",
            "        Key  : Lower : Value              : Upper : Fixed : Stale : Domain\n",
            "        None :     0 : 119.99999999996487 :   150 : False : False :  Reals\n",
            "    xj : Size=1, Index=None\n",
            "        Key  : Lower : Value : Upper : Fixed : Stale : Domain\n",
            "        None :  None :  None :  None : False :  True :  Reals\n",
            "    xl : Size=1, Index=None\n",
            "        Key  : Lower : Value              : Upper : Fixed : Stale : Domain\n",
            "        None :  None : 184.18861169915115 :  None : False : False :  Reals\n",
            "    yf : Size=1, Index=None\n",
            "        Key  : Lower : Value              : Upper : Fixed : Stale : Domain\n",
            "        None :  None : -39.99999999998829 :  None : False : False :  Reals\n",
            "    yj : Size=1, Index=None\n",
            "        Key  : Lower : Value : Upper : Fixed : Stale : Domain\n",
            "        None :  None :  None :  None : False :  True :  Reals\n",
            "    yl : Size=1, Index=None\n",
            "        Key  : Lower : Value              : Upper : Fixed : Stale : Domain\n",
            "        None :  None : 152.56583509747662 :  None : False : False :  Reals\n",
            "\n",
            "2 Objective Declarations\n",
            "    obj : Size=1, Index=None, Active=False\n",
            "        Key  : Active : Sense    : Expression\n",
            "        None :  False : minimize : (xl - xf)**2 + (yl - yf)**2\n",
            "    obj2 : Size=1, Index=None, Active=True\n",
            "        Key  : Active : Sense    : Expression\n",
            "        None :   True : minimize : 0.2*((xj - 15)**2 + (yj - 20)**2)**0.5 + ((xl - xj)**2 + (yl - yj)**2)**0.5 + ((xj - xf)**2 + (yj - yf)**2)**0.5\n",
            "\n",
            "1 Constraint Declarations\n",
            "    constraints : Size=2, Index=constraints_index, Active=True\n",
            "        Key : Lower  : Body                          : Upper  : Active\n",
            "          1 :    0.0 :                     3*yf + xf :    0.0 :   True\n",
            "          2 : 2500.0 : (xl - 200)**2 + (yl - 200)**2 : 2500.0 :   True\n",
            "\n",
            "10 Declarations: xf yf xl yl obj constraints_index constraints xj yj obj2\n"
          ]
        }
      ]
    },
    {
      "cell_type": "code",
      "metadata": {
        "colab": {
          "base_uri": "https://localhost:8080/"
        },
        "id": "dIZjeVz2DDyH",
        "outputId": "0937cedc-b928-49c4-a12f-6822c55ca938"
      },
      "source": [
        "result2 = opt_ipopt.solve(model)\n",
        "print(result2)\n",
        "\n",
        "print('Solver status:', result2.solver.status)\n",
        "print('Solver termination condition:',result2.solver.termination_condition)\n",
        "print('\\nObjective = ', model.obj())\n",
        "\n",
        "print('\\nDecision Variables')\n",
        "print('xl = ', model.xl.value)  \n",
        "print('yl = ', model.yl.value) \n",
        "print('xf = ', model.xf.value)  \n",
        "print('yf = ', model.yf.value)\n",
        "print('xj = ', model.xj.value)  \n",
        "print('yj = ', model.yj.value)"
      ],
      "execution_count": null,
      "outputs": [
        {
          "output_type": "stream",
          "name": "stdout",
          "text": [
            "\n",
            "Problem: \n",
            "- Lower bound: -inf\n",
            "  Upper bound: inf\n",
            "  Number of objectives: 1\n",
            "  Number of constraints: 2\n",
            "  Number of variables: 6\n",
            "  Sense: unknown\n",
            "Solver: \n",
            "- Status: ok\n",
            "  Message: Ipopt 3.13.2\\x3a Optimal Solution Found\n",
            "  Termination condition: optimal\n",
            "  Id: 0\n",
            "  Error rc: 0\n",
            "  Time: 0.5674221515655518\n",
            "Solution: \n",
            "- number of solutions: 0\n",
            "  number of solutions displayed: 0\n",
            "\n",
            "Solver status: ok\n",
            "Solver termination condition: optimal\n",
            "\n",
            "Objective =  43056.166597439136\n",
            "\n",
            "Decision Variables\n",
            "xl =  175.06555983166308\n",
            "yl =  156.66094494002405\n",
            "xf =  74.46804648597809\n",
            "yf =  -24.822682161992695\n",
            "xj =  79.72453251489992\n",
            "yj =  -9.053224075203595\n"
          ]
        }
      ]
    },
    {
      "cell_type": "code",
      "metadata": {
        "colab": {
          "base_uri": "https://localhost:8080/"
        },
        "id": "nvo-rDyRDVWD",
        "outputId": "8cc75903-81f9-4095-d9be-abcde86aa12e"
      },
      "source": [
        "print('The location of end toward farm is ',model.xf.value,'meters east and ',-model.yf.value,'meters south of house.')\n",
        "print('The location of end toward lake is ',model.xl.value,'meters east and ',model.yl.value,'meters north of house.')\n",
        "print('The location of the junction is ',model.xj.value,'meters east and ',-model.yj.value,'meters south of house.')"
      ],
      "execution_count": null,
      "outputs": [
        {
          "output_type": "stream",
          "name": "stdout",
          "text": [
            "The location of end toward farm is  74.46804648597809 meters east and  24.822682161992695 meters south of house.\n",
            "The location of end toward lake is  175.06555983166308 meters east and  156.66094494002405 meters north of house.\n",
            "The location of the junction is  79.72453251489992 meters east and  9.053224075203595 meters south of house.\n"
          ]
        }
      ]
    },
    {
      "cell_type": "code",
      "metadata": {
        "id": "O5PNLjdtE2fe"
      },
      "source": [
        ""
      ],
      "execution_count": null,
      "outputs": []
    }
  ]
}