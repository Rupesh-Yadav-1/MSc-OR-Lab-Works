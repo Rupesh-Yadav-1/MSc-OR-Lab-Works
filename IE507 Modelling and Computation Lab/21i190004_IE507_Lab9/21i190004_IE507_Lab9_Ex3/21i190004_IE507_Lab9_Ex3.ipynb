{
  "nbformat": 4,
  "nbformat_minor": 0,
  "metadata": {
    "colab": {
      "name": "21i190004_IE507_Lab9_Ex3.ipynb",
      "provenance": [],
      "collapsed_sections": []
    },
    "kernelspec": {
      "name": "python3",
      "display_name": "Python 3"
    },
    "language_info": {
      "name": "python"
    }
  },
  "cells": [
    {
      "cell_type": "markdown",
      "metadata": {
        "id": "HAmXRXwgfz5G"
      },
      "source": [
        "The general optimization problem is \\\\\n",
        "$$\\text{min} \\ \\  \\sum_{i=1}^{6} (P_i-\\bar{P_i})^2 \\\\\n",
        "\\text{s.t.  } \\\\\n",
        "\\bar{P_i}=b_0+b_1L_i+b_2E_i \\ \\ \\forall i  \\\\\n",
        "b_0 \\geq 0$$ \\\\\n"
      ]
    },
    {
      "cell_type": "code",
      "metadata": {
        "id": "BXFo-QBXXd9L"
      },
      "source": [
        "!pip install -q pyomo\n",
        "from pyomo.environ import *\n",
        "import numpy as np\n",
        "import pandas as pd"
      ],
      "execution_count": null,
      "outputs": []
    },
    {
      "cell_type": "code",
      "metadata": {
        "id": "qnoMCNazpZDn"
      },
      "source": [
        "data_csvfile = pd.read_csv('lab6_ex3.csv')"
      ],
      "execution_count": null,
      "outputs": []
    },
    {
      "cell_type": "code",
      "metadata": {
        "colab": {
          "base_uri": "https://localhost:8080/"
        },
        "id": "ooczMcxrpiX3",
        "outputId": "95dcce84-8e5f-4408-c8a1-38624acc6caf"
      },
      "source": [
        "data_csvfile.columns"
      ],
      "execution_count": null,
      "outputs": [
        {
          "output_type": "execute_result",
          "data": {
            "text/plain": [
              "Index(['warehouse', 'seling price', 'lot size', 'elevation'], dtype='object')"
            ]
          },
          "metadata": {},
          "execution_count": 3
        }
      ]
    },
    {
      "cell_type": "code",
      "metadata": {
        "id": "uFCyzWBVpyl6"
      },
      "source": [
        "# create a model\n",
        "model = ConcreteModel()"
      ],
      "execution_count": null,
      "outputs": []
    },
    {
      "cell_type": "code",
      "metadata": {
        "id": "0i6DequIqBtC"
      },
      "source": [
        "# here N denotes no. of variables\n",
        "N = len(data_csvfile.index)\n",
        "n = 3 "
      ],
      "execution_count": null,
      "outputs": []
    },
    {
      "cell_type": "code",
      "metadata": {
        "id": "TiHe9vFIqKwU"
      },
      "source": [
        "col_indices = np.arange(N)\n",
        "b_indices = np.arange(n)"
      ],
      "execution_count": null,
      "outputs": []
    },
    {
      "cell_type": "code",
      "metadata": {
        "id": "eAQ5PDsFqLbV"
      },
      "source": [
        "#declaring the decision variables in the model\n",
        "model.P_ = Var(col_indices)   #P bar is denoted by P_\n",
        "model.b = Var(b_indices)"
      ],
      "execution_count": null,
      "outputs": []
    },
    {
      "cell_type": "code",
      "metadata": {
        "id": "N4N6JVwht3Cb"
      },
      "source": [
        "#objection function\n",
        "model.objective = Objective(expr=sum((data_csvfile['seling price'][i]-model.P_[i])**2 for i in col_indices),sense=minimize)"
      ],
      "execution_count": null,
      "outputs": []
    },
    {
      "cell_type": "code",
      "metadata": {
        "id": "pDwzVZxZqXtA"
      },
      "source": [
        "model.constraints = ConstraintList()"
      ],
      "execution_count": null,
      "outputs": []
    },
    {
      "cell_type": "code",
      "metadata": {
        "id": "Ht2AUD5eu5q-"
      },
      "source": [
        "for i in col_indices:\n",
        "  model.constraints.add(model.b[0]+model.b[1]*data_csvfile['lot size'][i]+model.b[2]*data_csvfile['elevation'][i]- model.P_[i] == 0)"
      ],
      "execution_count": null,
      "outputs": []
    },
    {
      "cell_type": "code",
      "metadata": {
        "id": "hZ9dQtH9yMCQ"
      },
      "source": [
        "model.b[0].setlb(0)"
      ],
      "execution_count": null,
      "outputs": []
    },
    {
      "cell_type": "code",
      "metadata": {
        "colab": {
          "base_uri": "https://localhost:8080/"
        },
        "id": "p3Jh0h7Sy1R_",
        "outputId": "b5af996e-a772-44de-f672-1c598b568c73"
      },
      "source": [
        "model.pprint()"
      ],
      "execution_count": null,
      "outputs": [
        {
          "output_type": "stream",
          "name": "stdout",
          "text": [
            "3 Set Declarations\n",
            "    P__index : Size=1, Index=None, Ordered=False\n",
            "        Key  : Dimen : Domain : Size : Members\n",
            "        None :     1 :    Any :    6 : {0, 1, 2, 3, 4, 5}\n",
            "    b_index : Size=1, Index=None, Ordered=False\n",
            "        Key  : Dimen : Domain : Size : Members\n",
            "        None :     1 :    Any :    3 : {0, 1, 2}\n",
            "    constraints_index : Size=1, Index=None, Ordered=Insertion\n",
            "        Key  : Dimen : Domain : Size : Members\n",
            "        None :     1 :    Any :    6 : {1, 2, 3, 4, 5, 6}\n",
            "\n",
            "2 Var Declarations\n",
            "    P_ : Size=6, Index=P__index\n",
            "        Key : Lower : Value : Upper : Fixed : Stale : Domain\n",
            "          0 :  None :  None :  None : False :  True :  Reals\n",
            "          1 :  None :  None :  None : False :  True :  Reals\n",
            "          2 :  None :  None :  None : False :  True :  Reals\n",
            "          3 :  None :  None :  None : False :  True :  Reals\n",
            "          4 :  None :  None :  None : False :  True :  Reals\n",
            "          5 :  None :  None :  None : False :  True :  Reals\n",
            "    b : Size=3, Index=b_index\n",
            "        Key : Lower : Value : Upper : Fixed : Stale : Domain\n",
            "          0 :     0 :  None :  None : False :  True :  Reals\n",
            "          1 :  None :  None :  None : False :  True :  Reals\n",
            "          2 :  None :  None :  None : False :  True :  Reals\n",
            "\n",
            "1 Objective Declarations\n",
            "    objective : Size=1, Index=None, Active=True\n",
            "        Key  : Active : Sense    : Expression\n",
            "        None :   True : minimize : (175000 - P_[0])**2 + (150000 - P_[1])**2 + (125000 - P_[2])**2 + (90000 - P_[3])**2 + (80000 - P_[4])**2 + (120000 - P_[5])**2\n",
            "\n",
            "1 Constraint Declarations\n",
            "    constraints : Size=6, Index=constraints_index, Active=True\n",
            "        Key : Lower : Body                                : Upper : Active\n",
            "          1 :   0.0 : b[0] + 1800*b[1] + 250*b[2] - P_[0] :   0.0 :   True\n",
            "          2 :   0.0 : b[0] + 2800*b[1] + 400*b[2] - P_[1] :   0.0 :   True\n",
            "          3 :   0.0 : b[0] + 3500*b[1] + 450*b[2] - P_[2] :   0.0 :   True\n",
            "          4 :   0.0 :  b[0] + 800*b[1] + 100*b[2] - P_[3] :   0.0 :   True\n",
            "          5 :   0.0 :  b[0] + 700*b[1] + 200*b[2] - P_[4] :   0.0 :   True\n",
            "          6 :   0.0 :   b[0] + 500*b[1] + 50*b[2] - P_[5] :   0.0 :   True\n",
            "\n",
            "7 Declarations: P__index P_ b_index b objective constraints_index constraints\n"
          ]
        }
      ]
    },
    {
      "cell_type": "code",
      "metadata": {
        "id": "uZvWAwcfzSjN",
        "colab": {
          "base_uri": "https://localhost:8080/"
        },
        "outputId": "cb888a4c-8116-4bcc-ba13-6e8657f417ff"
      },
      "source": [
        "%%bash\n",
        "rm -fv ipopt*\n",
        "apt install -q -yy libgfortran5\n",
        "sleep 1\n",
        "wget -q https://www.ieor.iitb.ac.in/files/faculty/amahajan/ipopt\n",
        "chmod u+rx ipopt"
      ],
      "execution_count": null,
      "outputs": [
        {
          "output_type": "stream",
          "name": "stdout",
          "text": [
            "removed 'ipopt'\n",
            "Reading package lists...\n",
            "Building dependency tree...\n",
            "Reading state information...\n",
            "libgfortran5 is already the newest version (8.4.0-1ubuntu1~18.04).\n",
            "0 upgraded, 0 newly installed, 0 to remove and 37 not upgraded.\n"
          ]
        },
        {
          "output_type": "stream",
          "name": "stderr",
          "text": [
            "\n",
            "WARNING: apt does not have a stable CLI interface. Use with caution in scripts.\n",
            "\n"
          ]
        }
      ]
    },
    {
      "cell_type": "code",
      "metadata": {
        "id": "0693-30bz70J",
        "colab": {
          "base_uri": "https://localhost:8080/"
        },
        "outputId": "cb0edb47-83fa-44bc-d359-42bf4e7b861c"
      },
      "source": [
        "opt_ipopt = SolverFactory('ipopt')\n",
        "result = opt_ipopt.solve(model)\n",
        "print(result)\n",
        "\n",
        "print('Solver status:', result.solver.status)\n",
        "print('Solver termination condition:',result.solver.termination_condition)\n",
        "print('\\nObjective = ', model.objective())\n",
        "\n",
        "print('\\nDecision Variables')\n",
        "for i in col_indices:\n",
        "  print(u'P\\u0304[',i,']=', model.P_[i].value)  \n",
        "for i in b_indices:\n",
        "  print('b[',i,']=',model.b[i].value)"
      ],
      "execution_count": null,
      "outputs": [
        {
          "output_type": "stream",
          "name": "stdout",
          "text": [
            "\n",
            "Problem: \n",
            "- Lower bound: -inf\n",
            "  Upper bound: inf\n",
            "  Number of objectives: 1\n",
            "  Number of constraints: 6\n",
            "  Number of variables: 9\n",
            "  Sense: unknown\n",
            "Solver: \n",
            "- Status: ok\n",
            "  Message: Ipopt 3.13.2\\x3a Optimal Solution Found\n",
            "  Termination condition: optimal\n",
            "  Id: 0\n",
            "  Error rc: 0\n",
            "  Time: 0.023651838302612305\n",
            "Solution: \n",
            "- number of solutions: 0\n",
            "  number of solutions displayed: 0\n",
            "\n",
            "Solver status: ok\n",
            "Solver termination condition: optimal\n",
            "\n",
            "Objective =  4291134028.8074546\n",
            "\n",
            "Decision Variables\n",
            "P̄[ 0 ]= 126237.55560262657\n",
            "P̄[ 1 ]= 135941.27303537386\n",
            "P̄[ 2 ]= 153366.60665113322\n",
            "P̄[ 3 ]= 116533.83816987927\n",
            "P̄[ 4 ]= 93331.39165431052\n",
            "P̄[ 5 ]= 114589.33488667656\n",
            "b[ 0 ]= 104904.41643719551\n",
            "b[ 1 ]= 38.70207583139166\n",
            "b[ 2 ]= -193.32238932429576\n"
          ]
        }
      ]
    },
    {
      "cell_type": "code",
      "metadata": {
        "colab": {
          "base_uri": "https://localhost:8080/"
        },
        "id": "zPn0XPSo4nq0",
        "outputId": "7153e65d-470f-4ef3-b4b8-c9d414451013"
      },
      "source": [
        "k=0\n",
        "for i in col_indices:\n",
        "  k=k+abs(data_csvfile['seling price'][i]-model.P_[i].value)\n",
        "k"
      ],
      "execution_count": null,
      "outputs": [
        {
          "output_type": "execute_result",
          "data": {
            "text/plain": [
              "136463.67295064603"
            ]
          },
          "metadata": {},
          "execution_count": 15
        }
      ]
    },
    {
      "cell_type": "code",
      "metadata": {
        "colab": {
          "base_uri": "https://localhost:8080/"
        },
        "id": "oGqqh9AB8Cgg",
        "outputId": "b0603fc8-5a95-4274-c5d7-5170050bba4e"
      },
      "source": [
        "print('For this model: ')\n",
        "for i in col_indices:\n",
        "  print('R[',i+1,']= ',abs(data_csvfile['seling price'][i]-model.P_[i].value))"
      ],
      "execution_count": null,
      "outputs": [
        {
          "output_type": "stream",
          "name": "stdout",
          "text": [
            "For this model: \n",
            "R[ 1 ]=  48762.44439737343\n",
            "R[ 2 ]=  14058.726964626141\n",
            "R[ 3 ]=  28366.606651133217\n",
            "R[ 4 ]=  26533.838169879265\n",
            "R[ 5 ]=  13331.391654310515\n",
            "R[ 6 ]=  5410.665113323441\n"
          ]
        }
      ]
    },
    {
      "cell_type": "markdown",
      "metadata": {
        "id": "T7Jb6moi81sY"
      },
      "source": [
        "So, maximum deviation in this model is 48762.4444 ."
      ]
    },
    {
      "cell_type": "markdown",
      "metadata": {
        "id": "Pv-wEyJp6vzn"
      },
      "source": [
        "From Linear model with absolute terms.\n",
        "\n",
        "Optimal sum of residuals =  125454.55\n",
        "\n",
        "R[ 1 ]= 38818.182 \\\\\n",
        "R[ 2 ]= -2.7009345e-11 \\\\\n",
        "R[ 3 ]= 54272.727 \\\\\n",
        "R[ 4 ]= 32363.636 \\\\\n",
        "R[ 5 ]= -2.7785522e-11 \\\\\n",
        "R[ 6 ]= -1.671118e-11 \\\\"
      ]
    },
    {
      "cell_type": "markdown",
      "metadata": {
        "id": "fGVkJ8Yi9Bj4"
      },
      "source": [
        "So, for Linear model with absolute terms, the maximum deviation is 54272.727 ."
      ]
    },
    {
      "cell_type": "markdown",
      "metadata": {
        "id": "EAxOdQY59WtI"
      },
      "source": [
        "The maximimum deviation is lower in non linear program because in that we are minimizing the sum of squares.Since, increase in deviation increases the objective quadraticaly. In this if we have more deviation, then due to square the objective value could not be made minimum. Or simply because $x^2+y^2 >= ((x+y)/2)^2$. Hence the optimization tried to keep deviation for all i evenly distributed resulting decrease in max deviation"
      ]
    }
  ]
}