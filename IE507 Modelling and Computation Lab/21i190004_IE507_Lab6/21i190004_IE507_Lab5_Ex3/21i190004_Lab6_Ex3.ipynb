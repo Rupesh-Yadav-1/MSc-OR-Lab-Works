{
  "nbformat": 4,
  "nbformat_minor": 0,
  "metadata": {
    "colab": {
      "name": "21i190004_Lab6_Ex3.ipynb",
      "provenance": [],
      "collapsed_sections": []
    },
    "kernelspec": {
      "name": "python3",
      "display_name": "Python 3"
    },
    "language_info": {
      "name": "python"
    }
  },
  "cells": [
    {
      "cell_type": "markdown",
      "metadata": {
        "id": "HAmXRXwgfz5G"
      },
      "source": [
        "The general optimization problem is \\\\\n",
        "$$\\text{min} \\ \\  \\sum_{i=1}^{6} |P_i-\\bar{P_i}| \\\\\n",
        "\\text{s.t.  } \\\\\n",
        "\\bar{P_i}=b_0+b_1L_i+b_2E_i \\ \\ \\forall i  \\\\\n",
        "b_0 \\geq 0$$ \\\\\n",
        "\n",
        "\\\\\n",
        "No! the optimization problem is not linear because the objective function involves absolut value function, which is not linear."
      ]
    },
    {
      "cell_type": "markdown",
      "metadata": {
        "id": "hvt9nwwMYNv_"
      },
      "source": [
        "**using approach 1** \\\\\n",
        "\n",
        "Our objective is to minimize $|R_i| \\ i.e. |P_i-\\bar{P_i}| \\ \\ \\forall i=1 \\ to \\ 6$ \\\\\n",
        "\n",
        "Here we will use the result that |x| can be written as Min z s.t. z >= x and z >= -x \\\\\n",
        "\n",
        "Hence the optimization problem becomes \\\\\n",
        "$$\\text{min} \\ \\  \\sum_{i=1}^{6} z_i \\\\\n",
        "\\text{s.t.  } \\\\\n",
        "z_i \\geq P_i-\\bar{P_i} \\ \\ \\forall i \\\\\n",
        "z_i \\geq \\bar{P_i}-P_i \\ \\ \\forall i\\\\\n",
        "\\bar{P_i}=b_0+b_1L_i+b_2E_i \\ \\ \\forall i  \\\\\n",
        "b_0 \\geq 0$$ \\\\\n",
        "\n",
        "Which can be re written as follows: \\\\\n",
        "$$\\text{min} \\ \\  \\sum_{i=1}^{6} z_i \\\\\n",
        "\\text{s.t.  } \\\\\n",
        "z_i +b_0+b_1L_i+b_2E_i\\geq  P_i \\ \\ \\ \\ \\ \\forall i \\\\\n",
        "z_i -b_0-b_1L_i-b_2E_i \\geq - P_i \\ \\ \\forall i \\\\\n",
        "b_0 \\geq 0 \\\\\n",
        "$$\n"
      ]
    },
    {
      "cell_type": "code",
      "metadata": {
        "id": "BXFo-QBXXd9L"
      },
      "source": [
        "!pip install -q pyomo"
      ],
      "execution_count": null,
      "outputs": []
    },
    {
      "cell_type": "code",
      "metadata": {
        "id": "QR-xPzmJpMdf"
      },
      "source": [
        "from pyomo.environ import *"
      ],
      "execution_count": null,
      "outputs": []
    },
    {
      "cell_type": "code",
      "metadata": {
        "id": "fWGZOHGNpQK9"
      },
      "source": [
        "import numpy as np"
      ],
      "execution_count": null,
      "outputs": []
    },
    {
      "cell_type": "code",
      "metadata": {
        "id": "oRhWH0SJpS-0"
      },
      "source": [
        "import pandas as pd"
      ],
      "execution_count": null,
      "outputs": []
    },
    {
      "cell_type": "code",
      "metadata": {
        "id": "qnoMCNazpZDn"
      },
      "source": [
        "data_csvfile = pd.read_csv('lab6_ex3.csv')"
      ],
      "execution_count": null,
      "outputs": []
    },
    {
      "cell_type": "code",
      "metadata": {
        "colab": {
          "base_uri": "https://localhost:8080/"
        },
        "id": "ooczMcxrpiX3",
        "outputId": "d2a8af7e-b90c-4bd3-ea91-f197f663d7ee"
      },
      "source": [
        "data_csvfile.columns"
      ],
      "execution_count": null,
      "outputs": [
        {
          "output_type": "execute_result",
          "data": {
            "text/plain": [
              "Index(['warehouse', 'seling price', 'lot size', 'elevation'], dtype='object')"
            ]
          },
          "metadata": {},
          "execution_count": 6
        }
      ]
    },
    {
      "cell_type": "code",
      "metadata": {
        "colab": {
          "base_uri": "https://localhost:8080/"
        },
        "id": "QYXzAo5tpmDa",
        "outputId": "044be633-cb41-4e27-f6ff-c4fd9bd16eaa"
      },
      "source": [
        "data_csvfile['warehouse']"
      ],
      "execution_count": null,
      "outputs": [
        {
          "output_type": "execute_result",
          "data": {
            "text/plain": [
              "0    1\n",
              "1    2\n",
              "2    3\n",
              "3    4\n",
              "4    5\n",
              "5    6\n",
              "Name: warehouse, dtype: int64"
            ]
          },
          "metadata": {},
          "execution_count": 7
        }
      ]
    },
    {
      "cell_type": "code",
      "metadata": {
        "colab": {
          "base_uri": "https://localhost:8080/"
        },
        "id": "RDMF2R2uprS0",
        "outputId": "1d43f5c0-33c2-49d9-ad0c-d2a6199a5347"
      },
      "source": [
        "data_csvfile.index"
      ],
      "execution_count": null,
      "outputs": [
        {
          "output_type": "execute_result",
          "data": {
            "text/plain": [
              "RangeIndex(start=0, stop=6, step=1)"
            ]
          },
          "metadata": {},
          "execution_count": 8
        }
      ]
    },
    {
      "cell_type": "code",
      "metadata": {
        "colab": {
          "base_uri": "https://localhost:8080/"
        },
        "id": "PL1AHCtJpvsd",
        "outputId": "d02aa1f7-dc00-4533-d5c1-a347a7426365"
      },
      "source": [
        "len(data_csvfile.index)"
      ],
      "execution_count": null,
      "outputs": [
        {
          "output_type": "execute_result",
          "data": {
            "text/plain": [
              "6"
            ]
          },
          "metadata": {},
          "execution_count": 9
        }
      ]
    },
    {
      "cell_type": "code",
      "metadata": {
        "id": "uFCyzWBVpyl6"
      },
      "source": [
        "# create a model\n",
        "model_lab6_ex3 = ConcreteModel()"
      ],
      "execution_count": null,
      "outputs": []
    },
    {
      "cell_type": "code",
      "metadata": {
        "id": "0i6DequIqBtC"
      },
      "source": [
        "# here N denotes no. of variables\n",
        "N = len(data_csvfile.index)\n",
        "n = 3 "
      ],
      "execution_count": null,
      "outputs": []
    },
    {
      "cell_type": "code",
      "metadata": {
        "id": "2IluBzvvqFdm"
      },
      "source": [
        "M = 2 #no of constraints"
      ],
      "execution_count": null,
      "outputs": []
    },
    {
      "cell_type": "code",
      "metadata": {
        "colab": {
          "base_uri": "https://localhost:8080/"
        },
        "id": "TiHe9vFIqKwU",
        "outputId": "f187a09a-e97f-4cb4-ddfc-ca88727870df"
      },
      "source": [
        "col_indices = np.arange(N)\n",
        "b_indices = np.arange(n)\n",
        "row_indices = np.arange(M)\n",
        "row_indices"
      ],
      "execution_count": null,
      "outputs": [
        {
          "output_type": "execute_result",
          "data": {
            "text/plain": [
              "array([0, 1])"
            ]
          },
          "metadata": {},
          "execution_count": 13
        }
      ]
    },
    {
      "cell_type": "code",
      "metadata": {
        "id": "eAQ5PDsFqLbV"
      },
      "source": [
        "#declaring the decision variables in the model\n",
        "model_lab6_ex3.z = Var(col_indices)\n",
        "model_lab6_ex3.b = Var(b_indices)"
      ],
      "execution_count": null,
      "outputs": []
    },
    {
      "cell_type": "code",
      "metadata": {
        "id": "N4N6JVwht3Cb"
      },
      "source": [
        "#objection function\n",
        "model_lab6_ex3.objective = Objective(expr=summation(model_lab6_ex3.z),sense=minimize)"
      ],
      "execution_count": null,
      "outputs": []
    },
    {
      "cell_type": "code",
      "metadata": {
        "id": "pDwzVZxZqXtA"
      },
      "source": [
        "model_lab6_ex3.constraints = ConstraintList()"
      ],
      "execution_count": null,
      "outputs": []
    },
    {
      "cell_type": "code",
      "metadata": {
        "id": "Ht2AUD5eu5q-"
      },
      "source": [
        "for i in col_indices:\n",
        "  model_lab6_ex3.constraints.add(model_lab6_ex3.z[i]+model_lab6_ex3.b[0]+model_lab6_ex3.b[1]*data_csvfile['lot size'][i]+model_lab6_ex3.b[2]*data_csvfile['elevation'][i] >= data_csvfile['seling price'][i])"
      ],
      "execution_count": null,
      "outputs": []
    },
    {
      "cell_type": "code",
      "metadata": {
        "id": "Eqi3_dE2xe59"
      },
      "source": [
        "for i in col_indices:\n",
        "  model_lab6_ex3.constraints.add(model_lab6_ex3.z[i]-model_lab6_ex3.b[0]-model_lab6_ex3.b[1]*data_csvfile['lot size'][i]-model_lab6_ex3.b[2]*data_csvfile['elevation'][i] >= -data_csvfile['seling price'][i])"
      ],
      "execution_count": null,
      "outputs": []
    },
    {
      "cell_type": "code",
      "metadata": {
        "id": "hZ9dQtH9yMCQ"
      },
      "source": [
        "model_lab6_ex3.b[0].setlb(0)"
      ],
      "execution_count": null,
      "outputs": []
    },
    {
      "cell_type": "code",
      "metadata": {
        "colab": {
          "base_uri": "https://localhost:8080/"
        },
        "id": "p3Jh0h7Sy1R_",
        "outputId": "2e12e593-6ad6-4df7-c6d5-be7f15348138"
      },
      "source": [
        "model_lab6_ex3.pprint()"
      ],
      "execution_count": null,
      "outputs": [
        {
          "output_type": "stream",
          "name": "stdout",
          "text": [
            "3 Set Declarations\n",
            "    b_index : Size=1, Index=None, Ordered=False\n",
            "        Key  : Dimen : Domain : Size : Members\n",
            "        None :     1 :    Any :    3 : {0, 1, 2}\n",
            "    constraints_index : Size=1, Index=None, Ordered=Insertion\n",
            "        Key  : Dimen : Domain : Size : Members\n",
            "        None :     1 :    Any :   12 : {1, 2, 3, 4, 5, 6, 7, 8, 9, 10, 11, 12}\n",
            "    z_index : Size=1, Index=None, Ordered=False\n",
            "        Key  : Dimen : Domain : Size : Members\n",
            "        None :     1 :    Any :    6 : {0, 1, 2, 3, 4, 5}\n",
            "\n",
            "2 Var Declarations\n",
            "    b : Size=3, Index=b_index\n",
            "        Key : Lower : Value : Upper : Fixed : Stale : Domain\n",
            "          0 :     0 :  None :  None : False :  True :  Reals\n",
            "          1 :  None :  None :  None : False :  True :  Reals\n",
            "          2 :  None :  None :  None : False :  True :  Reals\n",
            "    z : Size=6, Index=z_index\n",
            "        Key : Lower : Value : Upper : Fixed : Stale : Domain\n",
            "          0 :  None :  None :  None : False :  True :  Reals\n",
            "          1 :  None :  None :  None : False :  True :  Reals\n",
            "          2 :  None :  None :  None : False :  True :  Reals\n",
            "          3 :  None :  None :  None : False :  True :  Reals\n",
            "          4 :  None :  None :  None : False :  True :  Reals\n",
            "          5 :  None :  None :  None : False :  True :  Reals\n",
            "\n",
            "1 Objective Declarations\n",
            "    objective : Size=1, Index=None, Active=True\n",
            "        Key  : Active : Sense    : Expression\n",
            "        None :   True : minimize : z[0] + z[1] + z[2] + z[3] + z[4] + z[5]\n",
            "\n",
            "1 Constraint Declarations\n",
            "    constraints : Size=12, Index=constraints_index, Active=True\n",
            "        Key : Lower     : Body                               : Upper : Active\n",
            "          1 :  175000.0 : z[0] + b[0] + 1800*b[1] + 250*b[2] :  +Inf :   True\n",
            "          2 :  150000.0 : z[1] + b[0] + 2800*b[1] + 400*b[2] :  +Inf :   True\n",
            "          3 :  125000.0 : z[2] + b[0] + 3500*b[1] + 450*b[2] :  +Inf :   True\n",
            "          4 :   90000.0 :  z[3] + b[0] + 800*b[1] + 100*b[2] :  +Inf :   True\n",
            "          5 :   80000.0 :  z[4] + b[0] + 700*b[1] + 200*b[2] :  +Inf :   True\n",
            "          6 :  120000.0 :   z[5] + b[0] + 500*b[1] + 50*b[2] :  +Inf :   True\n",
            "          7 : -175000.0 : z[0] - b[0] - 1800*b[1] - 250*b[2] :  +Inf :   True\n",
            "          8 : -150000.0 : z[1] - b[0] - 2800*b[1] - 400*b[2] :  +Inf :   True\n",
            "          9 : -125000.0 : z[2] - b[0] - 3500*b[1] - 450*b[2] :  +Inf :   True\n",
            "         10 :  -90000.0 :  z[3] - b[0] - 800*b[1] - 100*b[2] :  +Inf :   True\n",
            "         11 :  -80000.0 :  z[4] - b[0] - 700*b[1] - 200*b[2] :  +Inf :   True\n",
            "         12 : -120000.0 :   z[5] - b[0] - 500*b[1] - 50*b[2] :  +Inf :   True\n",
            "\n",
            "7 Declarations: z_index z b_index b objective constraints_index constraints\n"
          ]
        }
      ]
    },
    {
      "cell_type": "code",
      "metadata": {
        "id": "uZvWAwcfzSjN"
      },
      "source": [
        "!apt-get install -y -qq coinor-cbc"
      ],
      "execution_count": null,
      "outputs": []
    },
    {
      "cell_type": "code",
      "metadata": {
        "id": "0693-30bz70J"
      },
      "source": [
        "opt_cbc = SolverFactory('cbc')"
      ],
      "execution_count": null,
      "outputs": []
    },
    {
      "cell_type": "code",
      "metadata": {
        "colab": {
          "base_uri": "https://localhost:8080/"
        },
        "id": "e_HEJqKHz90h",
        "outputId": "f0d94743-0603-44e7-c2d9-488d5dc695a1"
      },
      "source": [
        "result = opt_cbc.solve(model_lab6_ex3)\n",
        "print('Solver status:', result.solver.status)\n",
        "print('Solver termination condition:',result.solver.termination_condition)"
      ],
      "execution_count": null,
      "outputs": [
        {
          "output_type": "stream",
          "name": "stdout",
          "text": [
            "Solver status: ok\n",
            "Solver termination condition: optimal\n"
          ]
        }
      ]
    },
    {
      "cell_type": "code",
      "metadata": {
        "colab": {
          "base_uri": "https://localhost:8080/"
        },
        "id": "UIeuXhFK0AN_",
        "outputId": "467dd075-9cf7-425a-8c2b-19a72cafacd3"
      },
      "source": [
        "# display solution\n",
        "print('\\nOptimal sum of residuals = ', model_lab6_ex3.objective())\n",
        "\n",
        "print('\\nNew Decision Variables')\n",
        "for i in col_indices:\n",
        "  print('z[',i+1,']=', model_lab6_ex3.z[i].value)\n",
        "\n",
        "print('\\nOriginal Decision Variables')\n",
        "for i in b_indices:\n",
        "  print('b[',i,']=', model_lab6_ex3.b[i].value)\n",
        "for i in col_indices:\n",
        "  print(u'P\\u0304[',i,']=', model_lab6_ex3.b[0].value+model_lab6_ex3.b[1].value*data_csvfile['lot size'][i] +model_lab6_ex3.b[2].value*data_csvfile['elevation'][i] )\n",
        "\n",
        "print('\\nConstraints')\n",
        "model_lab6_ex3.constraints.display()"
      ],
      "execution_count": null,
      "outputs": [
        {
          "output_type": "stream",
          "name": "stdout",
          "text": [
            "\n",
            "Optimal sum of residuals =  125454.54499999993\n",
            "\n",
            "New Decision Variables\n",
            "z[ 1 ]= 38818.182\n",
            "z[ 2 ]= -2.7009345e-11\n",
            "z[ 3 ]= 54272.727\n",
            "z[ 4 ]= 32363.636\n",
            "z[ 5 ]= -2.7785522e-11\n",
            "z[ 6 ]= -1.671118e-11\n",
            "\n",
            "Original Decision Variables\n",
            "b[ 0 ]= 104181.82\n",
            "b[ 1 ]= 67.272727\n",
            "b[ 2 ]= -356.36364\n",
            "P̄[ 0 ]= 136181.81860000006\n",
            "P̄[ 1 ]= 149999.9996\n",
            "P̄[ 2 ]= 179272.72650000005\n",
            "P̄[ 3 ]= 122363.63760000002\n",
            "P̄[ 4 ]= 80000.00090000003\n",
            "P̄[ 5 ]= 120000.00150000001\n",
            "\n",
            "Constraints\n",
            "constraints : Size=12\n",
            "    Key : Lower     : Body                : Upper\n",
            "      1 :  175000.0 :  175000.00060000003 :  None\n",
            "      2 :  150000.0 :         149999.9996 :  None\n",
            "      3 :  125000.0 :  233545.45350000006 :  None\n",
            "      4 :   90000.0 :  154727.27360000001 :  None\n",
            "      5 :   80000.0 :          80000.0009 :  None\n",
            "      6 :  120000.0 :  120000.00149999998 :  None\n",
            "      7 : -175000.0 :  -97363.63660000001 :  None\n",
            "      8 : -150000.0 : -149999.99960000007 :  None\n",
            "      9 : -125000.0 : -124999.99950000003 :  None\n",
            "     10 :  -90000.0 :  -90000.00160000002 :  None\n",
            "     11 :  -80000.0 :  -80000.00090000006 :  None\n",
            "     12 : -120000.0 : -120000.00150000001 :  None\n"
          ]
        }
      ]
    },
    {
      "cell_type": "markdown",
      "metadata": {
        "id": "m1wjJ5-13YHk"
      },
      "source": [
        "**Approach 2** \\\\\n",
        "$Let \\ \\ P_i-\\bar{P_i}=u_i-v_i, \\ \\ and \\ \\ |P_i-\\bar{P_i}|=u_i+v_i ,u_i \\geq 0, v_i \\geq 0 \\ \\ \\ \\forall i=1,2,...6 \\\\\n",
        "$ \\\\\n",
        "The constraint $$\\bar{P_i}=b_0+b_1L_i+b_2E_i $$ can be written as \\\\\n",
        "$$P_i-\\bar{P_i}=P_i-b_0-b_1L_i-b_2E_i$$ \\\\\n",
        "i.e again implies $$P_i-\\bar{P_i}+b_0+b_1L_i+b_2E_i=P_i$$\n",
        "Then the optimization problem becomes \\\\\n",
        "$$\\text{Min  } \\sum_{i=1}^{6} (u_i+v_i) \\\\\n",
        "\\text{s.t.} \\\\\n",
        "u_i-v_i+b_0+b_1L_i+b_2E_i=P_i \\ \\ \\forall i \\\\\n",
        "u_i \\geq 0, v_i \\geq 0 \\ \\ \\forall i\\\\\n",
        "b_0 \\geq 0\n",
        "$$"
      ]
    },
    {
      "cell_type": "code",
      "metadata": {
        "id": "Y8wV0Hyu1GRu"
      },
      "source": [
        "model2_lab6_ex3 = ConcreteModel()"
      ],
      "execution_count": null,
      "outputs": []
    },
    {
      "cell_type": "code",
      "metadata": {
        "id": "o2714Q4N_lVL"
      },
      "source": [
        "#declaring the decision variables in the model\n",
        "model2_lab6_ex3.u = Var(col_indices)\n",
        "model2_lab6_ex3.v = Var(col_indices)\n",
        "\n",
        "model2_lab6_ex3.b = Var(b_indices)"
      ],
      "execution_count": null,
      "outputs": []
    },
    {
      "cell_type": "code",
      "metadata": {
        "id": "uzTJWkjI_505"
      },
      "source": [
        "#objection function\n",
        "model2_lab6_ex3.objective = Objective(expr=summation(model2_lab6_ex3.u)+summation(model2_lab6_ex3.v),sense=minimize)"
      ],
      "execution_count": null,
      "outputs": []
    },
    {
      "cell_type": "code",
      "metadata": {
        "id": "nGheAdbZAJmI"
      },
      "source": [
        "model2_lab6_ex3.constraints = ConstraintList()"
      ],
      "execution_count": null,
      "outputs": []
    },
    {
      "cell_type": "code",
      "metadata": {
        "colab": {
          "base_uri": "https://localhost:8080/"
        },
        "id": "q5Ryvp27EoHh",
        "outputId": "f655c9a5-f39b-400d-9175-6231ee58298e"
      },
      "source": [
        "data_csvfile['lot size'][2]"
      ],
      "execution_count": null,
      "outputs": [
        {
          "output_type": "execute_result",
          "data": {
            "text/plain": [
              "3500"
            ]
          },
          "metadata": {},
          "execution_count": 29
        }
      ]
    },
    {
      "cell_type": "code",
      "metadata": {
        "id": "s0xbK_KAAMNd"
      },
      "source": [
        "for i in col_indices:\n",
        "  model2_lab6_ex3.constraints.add(model2_lab6_ex3.u[i]-model2_lab6_ex3.v[i]+model2_lab6_ex3.b[0]+model2_lab6_ex3.b[1]*data_csvfile['lot size'][i]+model2_lab6_ex3.b[2]*data_csvfile['elevation'][i] == data_csvfile['seling price'][i])"
      ],
      "execution_count": null,
      "outputs": []
    },
    {
      "cell_type": "code",
      "metadata": {
        "id": "de52lcpEBp5w"
      },
      "source": [
        "for i in col_indices:\n",
        "  model2_lab6_ex3.u[i].setlb(0)\n",
        "  model2_lab6_ex3.v[i].setlb(0)"
      ],
      "execution_count": null,
      "outputs": []
    },
    {
      "cell_type": "code",
      "metadata": {
        "colab": {
          "base_uri": "https://localhost:8080/"
        },
        "id": "9AywUKDMB27m",
        "outputId": "5bd98d5f-3a62-434d-f663-0bb9a73ffa70"
      },
      "source": [
        "model2_lab6_ex3.pprint()"
      ],
      "execution_count": null,
      "outputs": [
        {
          "output_type": "stream",
          "name": "stdout",
          "text": [
            "4 Set Declarations\n",
            "    b_index : Size=1, Index=None, Ordered=False\n",
            "        Key  : Dimen : Domain : Size : Members\n",
            "        None :     1 :    Any :    3 : {0, 1, 2}\n",
            "    constraints_index : Size=1, Index=None, Ordered=Insertion\n",
            "        Key  : Dimen : Domain : Size : Members\n",
            "        None :     1 :    Any :    6 : {1, 2, 3, 4, 5, 6}\n",
            "    u_index : Size=1, Index=None, Ordered=False\n",
            "        Key  : Dimen : Domain : Size : Members\n",
            "        None :     1 :    Any :    6 : {0, 1, 2, 3, 4, 5}\n",
            "    v_index : Size=1, Index=None, Ordered=False\n",
            "        Key  : Dimen : Domain : Size : Members\n",
            "        None :     1 :    Any :    6 : {0, 1, 2, 3, 4, 5}\n",
            "\n",
            "3 Var Declarations\n",
            "    b : Size=3, Index=b_index\n",
            "        Key : Lower : Value : Upper : Fixed : Stale : Domain\n",
            "          0 :  None :  None :  None : False :  True :  Reals\n",
            "          1 :  None :  None :  None : False :  True :  Reals\n",
            "          2 :  None :  None :  None : False :  True :  Reals\n",
            "    u : Size=6, Index=u_index\n",
            "        Key : Lower : Value : Upper : Fixed : Stale : Domain\n",
            "          0 :     0 :  None :  None : False :  True :  Reals\n",
            "          1 :     0 :  None :  None : False :  True :  Reals\n",
            "          2 :     0 :  None :  None : False :  True :  Reals\n",
            "          3 :     0 :  None :  None : False :  True :  Reals\n",
            "          4 :     0 :  None :  None : False :  True :  Reals\n",
            "          5 :     0 :  None :  None : False :  True :  Reals\n",
            "    v : Size=6, Index=v_index\n",
            "        Key : Lower : Value : Upper : Fixed : Stale : Domain\n",
            "          0 :     0 :  None :  None : False :  True :  Reals\n",
            "          1 :     0 :  None :  None : False :  True :  Reals\n",
            "          2 :     0 :  None :  None : False :  True :  Reals\n",
            "          3 :     0 :  None :  None : False :  True :  Reals\n",
            "          4 :     0 :  None :  None : False :  True :  Reals\n",
            "          5 :     0 :  None :  None : False :  True :  Reals\n",
            "\n",
            "1 Objective Declarations\n",
            "    objective : Size=1, Index=None, Active=True\n",
            "        Key  : Active : Sense    : Expression\n",
            "        None :   True : minimize : u[0] + u[1] + u[2] + u[3] + u[4] + u[5] + (v[0] + v[1] + v[2] + v[3] + v[4] + v[5])\n",
            "\n",
            "1 Constraint Declarations\n",
            "    constraints : Size=6, Index=constraints_index, Active=True\n",
            "        Key : Lower    : Body                                      : Upper    : Active\n",
            "          1 : 175000.0 : u[0] - v[0] + b[0] + 1800*b[1] + 250*b[2] : 175000.0 :   True\n",
            "          2 : 150000.0 : u[1] - v[1] + b[0] + 2800*b[1] + 400*b[2] : 150000.0 :   True\n",
            "          3 : 125000.0 : u[2] - v[2] + b[0] + 3500*b[1] + 450*b[2] : 125000.0 :   True\n",
            "          4 :  90000.0 :  u[3] - v[3] + b[0] + 800*b[1] + 100*b[2] :  90000.0 :   True\n",
            "          5 :  80000.0 :  u[4] - v[4] + b[0] + 700*b[1] + 200*b[2] :  80000.0 :   True\n",
            "          6 : 120000.0 :   u[5] - v[5] + b[0] + 500*b[1] + 50*b[2] : 120000.0 :   True\n",
            "\n",
            "9 Declarations: u_index u v_index v b_index b objective constraints_index constraints\n"
          ]
        }
      ]
    },
    {
      "cell_type": "code",
      "metadata": {
        "colab": {
          "base_uri": "https://localhost:8080/"
        },
        "id": "okK5NeZAB7gR",
        "outputId": "ac8dbac2-4709-47b4-a578-c46238c99098"
      },
      "source": [
        "result2 = opt_cbc.solve(model2_lab6_ex3)\n",
        "print('Solver status:', result2.solver.status)\n",
        "print('Solver termination condition:',result2.solver.termination_condition)"
      ],
      "execution_count": null,
      "outputs": [
        {
          "output_type": "stream",
          "name": "stdout",
          "text": [
            "Solver status: ok\n",
            "Solver termination condition: optimal\n"
          ]
        }
      ]
    },
    {
      "cell_type": "code",
      "metadata": {
        "colab": {
          "base_uri": "https://localhost:8080/"
        },
        "id": "FeERsPyWCHv-",
        "outputId": "a1e00b5b-c247-46b5-af5a-b00c62722f19"
      },
      "source": [
        "# display solution\n",
        "print('\\nOptimal sum of residuals = ', model2_lab6_ex3.objective())\n",
        "\n",
        "print('\\nNew Decision Variables')\n",
        "for i in col_indices:\n",
        "  print('u[',i+1,']=', model2_lab6_ex3.u[i].value)\n",
        "for i in col_indices:\n",
        "  print('v[',i+1,']=', model2_lab6_ex3.v[i].value)\n",
        "\n",
        "print('\\nOriginal Decision Variables')\n",
        "for i in b_indices:\n",
        "  print('b[',i,']=', model2_lab6_ex3.b[i].value)\n",
        "for i in col_indices:\n",
        "  print(u'P\\u0304[',i,']=', model_lab6_ex3.b[0].value+model_lab6_ex3.b[1].value*data_csvfile['lot size'][i] +model_lab6_ex3.b[2].value*data_csvfile['elevation'][i] )\n",
        "\n",
        "print('\\nConstraints')\n",
        "model2_lab6_ex3.constraints.display()"
      ],
      "execution_count": null,
      "outputs": [
        {
          "output_type": "stream",
          "name": "stdout",
          "text": [
            "\n",
            "Optimal sum of residuals =  125454.545\n",
            "\n",
            "New Decision Variables\n",
            "u[ 1 ]= 38818.182\n",
            "u[ 2 ]= 0.0\n",
            "u[ 3 ]= 0.0\n",
            "u[ 4 ]= 0.0\n",
            "u[ 5 ]= 0.0\n",
            "u[ 6 ]= 0.0\n",
            "v[ 1 ]= 0.0\n",
            "v[ 2 ]= 0.0\n",
            "v[ 3 ]= 54272.727\n",
            "v[ 4 ]= 32363.636\n",
            "v[ 5 ]= 0.0\n",
            "v[ 6 ]= 0.0\n",
            "\n",
            "Original Decision Variables\n",
            "b[ 0 ]= 104181.82\n",
            "b[ 1 ]= 67.272727\n",
            "b[ 2 ]= -356.36364\n",
            "P̄[ 0 ]= 136181.81860000006\n",
            "P̄[ 1 ]= 149999.9996\n",
            "P̄[ 2 ]= 179272.72650000005\n",
            "P̄[ 3 ]= 122363.63760000002\n",
            "P̄[ 4 ]= 80000.00090000003\n",
            "P̄[ 5 ]= 120000.00150000001\n",
            "\n",
            "Constraints\n",
            "constraints : Size=6\n",
            "    Key : Lower    : Body               : Upper\n",
            "      1 : 175000.0 : 175000.00060000003 : 175000.0\n",
            "      2 : 150000.0 :        149999.9996 : 150000.0\n",
            "      3 : 125000.0 : 124999.99950000003 : 125000.0\n",
            "      4 :  90000.0 :  90000.00160000002 :  90000.0\n",
            "      5 :  80000.0 :  80000.00090000003 :  80000.0\n",
            "      6 : 120000.0 : 120000.00150000001 : 120000.0\n"
          ]
        }
      ]
    },
    {
      "cell_type": "markdown",
      "metadata": {
        "id": "LWLs3oooRb7c"
      },
      "source": [
        "In both cases we are getting the same optimal value and solutions."
      ]
    },
    {
      "cell_type": "code",
      "metadata": {
        "id": "UYL3AJqVLg8A"
      },
      "source": [
        ""
      ],
      "execution_count": null,
      "outputs": []
    }
  ]
}