{
  "nbformat": 4,
  "nbformat_minor": 0,
  "metadata": {
    "colab": {
      "name": "21i190004_Lab6_Ex2.ipynb",
      "provenance": [],
      "collapsed_sections": []
    },
    "kernelspec": {
      "name": "python3",
      "display_name": "Python 3"
    }
  },
  "cells": [
    {
      "cell_type": "markdown",
      "metadata": {
        "id": "Ai0w8UChzAbD"
      },
      "source": [
        "**Given Optimization model in Lab 4 practice 2**\n",
        "\n",
        "In the following example, we consider the optimization problem: \n",
        "\\begin{align}\n",
        "\\max \\ 35 x_1 + 57 x_2 + 48 x_3 + 20 x_4 + 15 x_5, \\\\\n",
        "{\\rm{s.t.}} \\; x_1 + x_2 + x_3 & \\leq 75, \\\\\n",
        "x_3 + x_4 + x_5 & \\leq 100, \\\\\n",
        "x_1 + x_2 & \\geq 10, \\\\ \n",
        "30000 x_1 + 95000 x_2 + 10000 x_3 + 5000 x_4 + 4000 x_5 & \\leq 1500000, \\\\\n",
        "100000 x_1 + 500000 x_2 + 200000 x_3 + 45000 x_4 + 25000 x_5 & \\geq 900000, \\\\\n",
        "x_i & \\geq 0, \\quad i \\in \\{1,2,3,4,5\\}. \\\\\n",
        "\\end{align}\n",
        "---\n",
        "\\\\\n",
        "Where $x_1, x_2, x_3, x_4, x_5$ denote the number of different types of media slots to be used for advertisement.  "
      ]
    },
    {
      "cell_type": "markdown",
      "metadata": {
        "id": "h0Q6fTB8zXZC"
      },
      "source": [
        "**Ex 2 part 1** \\\\\n",
        "given that :\n",
        "$$z_1 = x_1+x_2 \\\\\n",
        "z_2 = x_3+x_4+x_5$$\n",
        "\n",
        "With restriction that, $ |z_1-z_2| \\leq 18 $\n",
        "\n",
        "the new constraint will be: \\\\\n",
        "$$|x_1+x_2-x_3-x_4-x_5| \\leq 18$$\n"
      ]
    },
    {
      "cell_type": "markdown",
      "metadata": {
        "id": "IQqkT66nzqUm"
      },
      "source": [
        "Hence the modified Problem is\n",
        "\n",
        "\\begin{align}\n",
        "max \\ 35 x_1 + 57 x_2 + 48 x_3 + 20 x_4 + 15 x_5, \\\\\n",
        "{\\rm{s.t.}} \\; x_1 + x_2 + x_3 & \\leq 75, \\\\\n",
        "x_3 + x_4 + x_5 & \\leq 100, \\\\\n",
        "x_1 + x_2 & \\geq 10, \\\\ \n",
        "30000 x_1 + 95000 x_2 + 10000 x_3 + 5000 x_4 + 4000 x_5 & \\leq 1500000, \\\\\n",
        "100000 x_1 + 500000 x_2 + 200000 x_3 + 45000 x_4 + 25000 x_5 & \\geq 900000, \\\\\n",
        " \\ |x_1+x_2-x_3-x_4-x_5| \\leq 18 ,\\\\\n",
        "x_i & \\geq 0, \\quad i \\in \\{1,2,3,4,5\\}\n",
        "\\end{align}"
      ]
    },
    {
      "cell_type": "markdown",
      "metadata": {
        "id": "nbr31Jpgz2HT"
      },
      "source": [
        "This new model is not a linear program as the new constraint is not linear."
      ]
    },
    {
      "cell_type": "markdown",
      "metadata": {
        "id": "SQZQMzLdS0Px"
      },
      "source": [
        "**Ex 2 part 2**"
      ]
    },
    {
      "cell_type": "markdown",
      "metadata": {
        "id": "ltaoOjjT0BXV"
      },
      "source": [
        "**Approach 1** \\\\\n",
        "let\n",
        "\n",
        "Since |z|<= 18 can be written as z <= 18 and -z <=18\n",
        "\n",
        "So the Model after applying approach 1 will be: \n",
        "\n",
        "\\begin{align}\n",
        "\\max \\  \\ 35 x_1 + 57 x_2 + 48 x_3 + 20 x_4 + 15 x_5, \\\\\n",
        "\\text{s.t.} \\; x_1 + x_2 + x_3 & \\leq 75, \\\\\n",
        "x_3 + x_4 + x_5 & \\leq 100, \\\\\n",
        "x_1 + x_2 & \\geq 10, \\\\ \n",
        "30000 x_1 + 95000 x_2 + 10000 x_3 + 5000 x_4 + 4000 x_5 & \\leq 1500000, \\\\\n",
        "100000 x_1 + 500000 x_2 + 200000 x_3 + 45000 x_4 + 25000 x_5 & \\geq 900000, \\\\ -x_1-x_2+x_3+x_4+x_5 \\leq 18, \\\\\n",
        "x_1+x_2-x_3-x_4-x_5 \\leq 18,\\\\\n",
        "x_i \\geq 0, \\quad \\forall i \\in \\{1,2,3,4,5\\} \\\\\n",
        "\\end{align}\n",
        "\n",
        "Which is a linear program."
      ]
    },
    {
      "cell_type": "markdown",
      "metadata": {
        "id": "XkjP4-RR0wzY"
      },
      "source": [
        "**Approach 2**\n",
        "\n",
        "\n",
        "Let's take $x_1+x_2-x_3-x_4-x_5 = a_1-b_1$\n",
        "\n",
        "So, $|x_1+x_2-x_3-x_4-x_5|= a_1+b_1,$ \n",
        "\n",
        "where $a_1 \\ and \\ b_1 \\geq 0$\n",
        "\n",
        "\n",
        "So, the model will be:\n",
        "\\begin{align}\n",
        "\\max \\ 35 x_1 + 57 x_2 + 48 x_3 + 20 x_4 + 15 x_5, \\\\\n",
        "{\\rm{s.t.}} \\; x_1 + x_2 + x_3 & \\leq 75, \\\\\n",
        "x_3 + x_4 + x_5 & \\leq 100, \\\\\n",
        "x_1 + x_2 & \\geq 10, \\\\ \n",
        "30000 x_1 + 95000 x_2 + 10000 x_3 + 5000 x_4 + 4000 x_5 & \\leq 1500000, \\\\\n",
        "100000 x_1 + 500000 x_2 + 200000 x_3 + 45000 x_4 + 25000 x_5 & \\geq 900000, \\\\\n",
        "x_1+x_2-x_3-x_4-x_5-a_1+b_1=0\\\\\n",
        "a_1+b_1 \\leq 18,\\\\\n",
        "x_i \\geq 0, \\quad \\forall \\ i \\in \\{1,2,3,4,5\\}. \\\\ a_1,b_1 \\geq 0\n",
        "\\end{align}"
      ]
    },
    {
      "cell_type": "code",
      "metadata": {
        "id": "E6VwDP2RpVyd"
      },
      "source": [
        "!pip install -q pyomo"
      ],
      "execution_count": 1,
      "outputs": []
    },
    {
      "cell_type": "code",
      "metadata": {
        "id": "1r_yYUofSTFB"
      },
      "source": [
        "from pyomo.environ import * "
      ],
      "execution_count": 2,
      "outputs": []
    },
    {
      "cell_type": "code",
      "metadata": {
        "id": "4xu-ZbGQ61f4"
      },
      "source": [
        "import numpy as np"
      ],
      "execution_count": 3,
      "outputs": []
    },
    {
      "cell_type": "code",
      "metadata": {
        "id": "g3bUiPzkmSQP"
      },
      "source": [
        "import pandas as pd"
      ],
      "execution_count": 4,
      "outputs": []
    },
    {
      "cell_type": "code",
      "metadata": {
        "id": "Z26rYgB4m25b"
      },
      "source": [
        "data_csvfile = pd.read_csv('sample_csvfile.csv')"
      ],
      "execution_count": 5,
      "outputs": []
    },
    {
      "cell_type": "code",
      "metadata": {
        "id": "Kte6UWEjnPS7",
        "colab": {
          "base_uri": "https://localhost:8080/"
        },
        "outputId": "51ef863a-c930-48d5-81db-d027cfd95096"
      },
      "source": [
        "data_csvfile.columns"
      ],
      "execution_count": 6,
      "outputs": [
        {
          "output_type": "execute_result",
          "data": {
            "text/plain": [
              "Index(['Medium', 'Num Customers', 'Cost per advt', 'Max slots per month',\n",
              "       'Reach Quality'],\n",
              "      dtype='object')"
            ]
          },
          "metadata": {},
          "execution_count": 6
        }
      ]
    },
    {
      "cell_type": "code",
      "metadata": {
        "id": "eJ2SntTsnF2r",
        "colab": {
          "base_uri": "https://localhost:8080/"
        },
        "outputId": "904576b3-65e6-41a3-cdae-8818e5fd9fc8"
      },
      "source": [
        "data_csvfile['Medium']"
      ],
      "execution_count": 7,
      "outputs": [
        {
          "output_type": "execute_result",
          "data": {
            "text/plain": [
              "0           Websites\n",
              "1                 TV\n",
              "2     DailyNewspaper\n",
              "3     WeeklyMagazine\n",
              "4    MonthlyMagazine\n",
              "Name: Medium, dtype: object"
            ]
          },
          "metadata": {},
          "execution_count": 7
        }
      ]
    },
    {
      "cell_type": "code",
      "metadata": {
        "id": "6ZaU5gHuokbj",
        "colab": {
          "base_uri": "https://localhost:8080/"
        },
        "outputId": "4202b04d-4c6f-4a8a-dd01-94e2cdd3ca12"
      },
      "source": [
        "data_csvfile.index"
      ],
      "execution_count": 8,
      "outputs": [
        {
          "output_type": "execute_result",
          "data": {
            "text/plain": [
              "RangeIndex(start=0, stop=5, step=1)"
            ]
          },
          "metadata": {},
          "execution_count": 8
        }
      ]
    },
    {
      "cell_type": "code",
      "metadata": {
        "id": "fvV0qN91pafx",
        "colab": {
          "base_uri": "https://localhost:8080/"
        },
        "outputId": "46ee7f0a-963c-4a10-eb61-788d0948a1e8"
      },
      "source": [
        "len(data_csvfile.index)"
      ],
      "execution_count": 9,
      "outputs": [
        {
          "output_type": "execute_result",
          "data": {
            "text/plain": [
              "5"
            ]
          },
          "metadata": {},
          "execution_count": 9
        }
      ]
    },
    {
      "cell_type": "markdown",
      "metadata": {
        "id": "Bdz4CyjQTBjs"
      },
      "source": [
        "**Ex 2 part 4 and 5** \\\\"
      ]
    },
    {
      "cell_type": "code",
      "metadata": {
        "id": "HYj3zpsvSih4"
      },
      "source": [
        "# create a model\n",
        "model_lab6_ex2 = ConcreteModel()"
      ],
      "execution_count": 10,
      "outputs": []
    },
    {
      "cell_type": "code",
      "metadata": {
        "id": "XvRZqCV8d_-e"
      },
      "source": [
        "N = len(data_csvfile.index) #N denoting the number of decision variables  "
      ],
      "execution_count": 11,
      "outputs": []
    },
    {
      "cell_type": "code",
      "metadata": {
        "id": "_8CnN-2w9EMo"
      },
      "source": [
        "M = 7 #M denoting the number of constraints"
      ],
      "execution_count": 12,
      "outputs": []
    },
    {
      "cell_type": "code",
      "metadata": {
        "id": "iUToRXB7s8-R"
      },
      "source": [
        "col_indices = range(N)\n",
        "row_indices = range(M)"
      ],
      "execution_count": 13,
      "outputs": []
    },
    {
      "cell_type": "code",
      "metadata": {
        "id": "GWlyoZdzpoNT"
      },
      "source": [
        "#declare the decision variables in the model\n",
        "model_lab6_ex2.x = Var(col_indices,domain=NonNegativeReals)"
      ],
      "execution_count": 14,
      "outputs": []
    },
    {
      "cell_type": "code",
      "metadata": {
        "id": "6AUcuaeEqDUm"
      },
      "source": [
        "model_lab6_ex2.objective = Objective(expr=summation(data_csvfile['Reach Quality'], model_lab6_ex2.x),sense=maximize)"
      ],
      "execution_count": 15,
      "outputs": []
    },
    {
      "cell_type": "code",
      "metadata": {
        "id": "Mcu6irk6tQHz"
      },
      "source": [
        "model_lab6_ex2.constraints = ConstraintList()"
      ],
      "execution_count": 16,
      "outputs": []
    },
    {
      "cell_type": "code",
      "metadata": {
        "id": "8V05vmFPtWYZ",
        "colab": {
          "base_uri": "https://localhost:8080/"
        },
        "outputId": "ad7268bc-5849-4e3a-c6bf-37fc5d738acc"
      },
      "source": [
        "#We will add the first three constraints manually\n",
        "model_lab6_ex2.constraints.add(expr= model_lab6_ex2.x[0] + model_lab6_ex2.x[1] + model_lab6_ex2.x[2]<= 75  )\n",
        "model_lab6_ex2.constraints.add(expr= model_lab6_ex2.x[2] + model_lab6_ex2.x[3] + model_lab6_ex2.x[4] <= 100  )\n",
        "model_lab6_ex2.constraints.add(expr= model_lab6_ex2.x[0] + model_lab6_ex2.x[1] >= 10  )"
      ],
      "execution_count": 17,
      "outputs": [
        {
          "output_type": "execute_result",
          "data": {
            "text/plain": [
              "<pyomo.core.base.constraint._GeneralConstraintData at 0x7f855b2ee7c0>"
            ]
          },
          "metadata": {},
          "execution_count": 17
        }
      ]
    },
    {
      "cell_type": "code",
      "metadata": {
        "id": "361XIzn3t_m2",
        "colab": {
          "base_uri": "https://localhost:8080/"
        },
        "outputId": "759fb3b3-d4df-4129-cee2-ee42453eab00"
      },
      "source": [
        "model_lab6_ex2.constraints.add(summation(data_csvfile['Cost per advt'], model_lab6_ex2.x) <= 1500000)\n",
        "model_lab6_ex2.constraints.add(summation(data_csvfile['Num Customers'], model_lab6_ex2.x) >= 900000)"
      ],
      "execution_count": 18,
      "outputs": [
        {
          "output_type": "execute_result",
          "data": {
            "text/plain": [
              "<pyomo.core.base.constraint._GeneralConstraintData at 0x7f855b2eebb0>"
            ]
          },
          "metadata": {},
          "execution_count": 18
        }
      ]
    },
    {
      "cell_type": "code",
      "metadata": {
        "colab": {
          "base_uri": "https://localhost:8080/"
        },
        "id": "rWNRkt_qBVXt",
        "outputId": "e72f18a6-39de-48ac-f77a-5a56ba36da4f"
      },
      "source": [
        "model_lab6_ex2.constraints.add(expr=-model_lab6_ex2.x[0] - model_lab6_ex2.x[1]+ model_lab6_ex2.x[2] + model_lab6_ex2.x[3] + model_lab6_ex2.x[4] <= 18  )\n",
        "model_lab6_ex2.constraints.add(expr=model_lab6_ex2.x[0] + model_lab6_ex2.x[1]- model_lab6_ex2.x[2] - model_lab6_ex2.x[3] - model_lab6_ex2.x[4] <= 18  )"
      ],
      "execution_count": 19,
      "outputs": [
        {
          "output_type": "execute_result",
          "data": {
            "text/plain": [
              "<pyomo.core.base.constraint._GeneralConstraintData at 0x7f855b2eefa0>"
            ]
          },
          "metadata": {},
          "execution_count": 19
        }
      ]
    },
    {
      "cell_type": "code",
      "metadata": {
        "id": "hLjlmRD8eG_X",
        "colab": {
          "base_uri": "https://localhost:8080/"
        },
        "outputId": "bfd2d80c-3037-47fd-cd40-0983bf0e424e"
      },
      "source": [
        "model_lab6_ex2.pprint()"
      ],
      "execution_count": 20,
      "outputs": [
        {
          "output_type": "stream",
          "name": "stdout",
          "text": [
            "2 Set Declarations\n",
            "    constraints_index : Size=1, Index=None, Ordered=Insertion\n",
            "        Key  : Dimen : Domain : Size : Members\n",
            "        None :     1 :    Any :    7 : {1, 2, 3, 4, 5, 6, 7}\n",
            "    x_index : Size=1, Index=None, Ordered=False\n",
            "        Key  : Dimen : Domain : Size : Members\n",
            "        None :     1 :    Any :    5 : {0, 1, 2, 3, 4}\n",
            "\n",
            "1 Var Declarations\n",
            "    x : Size=5, Index=x_index\n",
            "        Key : Lower : Value : Upper : Fixed : Stale : Domain\n",
            "          0 :     0 :  None :  None : False :  True : NonNegativeReals\n",
            "          1 :     0 :  None :  None : False :  True : NonNegativeReals\n",
            "          2 :     0 :  None :  None : False :  True : NonNegativeReals\n",
            "          3 :     0 :  None :  None : False :  True : NonNegativeReals\n",
            "          4 :     0 :  None :  None : False :  True : NonNegativeReals\n",
            "\n",
            "1 Objective Declarations\n",
            "    objective : Size=1, Index=None, Active=True\n",
            "        Key  : Active : Sense    : Expression\n",
            "        None :   True : maximize : 35*x[0] + 57*x[1] + 48*x[2] + 20*x[3] + 15*x[4]\n",
            "\n",
            "1 Constraint Declarations\n",
            "    constraints : Size=7, Index=constraints_index, Active=True\n",
            "        Key : Lower    : Body                                                              : Upper     : Active\n",
            "          1 :     -Inf :                                                x[0] + x[1] + x[2] :      75.0 :   True\n",
            "          2 :     -Inf :                                                x[2] + x[3] + x[4] :     100.0 :   True\n",
            "          3 :     10.0 :                                                       x[0] + x[1] :      +Inf :   True\n",
            "          4 :     -Inf :      30000*x[0] + 95000*x[1] + 10000*x[2] + 5000*x[3] + 4000*x[4] : 1500000.0 :   True\n",
            "          5 : 900000.0 : 100000*x[0] + 500000*x[1] + 200000*x[2] + 45000*x[3] + 25000*x[4] :      +Inf :   True\n",
            "          6 :     -Inf :                                - x[0] - x[1] + x[2] + x[3] + x[4] :      18.0 :   True\n",
            "          7 :     -Inf :                                  x[0] + x[1] - x[2] - x[3] - x[4] :      18.0 :   True\n",
            "\n",
            "5 Declarations: x_index x objective constraints_index constraints\n"
          ]
        }
      ]
    },
    {
      "cell_type": "code",
      "metadata": {
        "id": "rhSG6IRMfclR"
      },
      "source": [
        "!apt-get install -y -qq coinor-cbc"
      ],
      "execution_count": 21,
      "outputs": []
    },
    {
      "cell_type": "code",
      "metadata": {
        "id": "Sq3CpPcCeIBC"
      },
      "source": [
        "opt_cbc = SolverFactory('cbc')"
      ],
      "execution_count": 22,
      "outputs": []
    },
    {
      "cell_type": "markdown",
      "metadata": {
        "id": "C7Akl_yqPuQk"
      },
      "source": [
        "Solution by Approach 1"
      ]
    },
    {
      "cell_type": "code",
      "metadata": {
        "id": "ANOu9qtsMgJQ",
        "colab": {
          "base_uri": "https://localhost:8080/"
        },
        "outputId": "6c81162f-eb9e-4e6e-a74f-7816fb028758"
      },
      "source": [
        "result = opt_cbc.solve(model_lab6_ex2)\n",
        "print('Solver status:', result.solver.status)\n",
        "print('Solver termination condition:',result.solver.termination_condition)"
      ],
      "execution_count": 23,
      "outputs": [
        {
          "output_type": "stream",
          "name": "stdout",
          "text": [
            "Solver status: ok\n",
            "Solver termination condition: optimal\n"
          ]
        }
      ]
    },
    {
      "cell_type": "code",
      "metadata": {
        "id": "WQZHDR3afKj5",
        "colab": {
          "base_uri": "https://localhost:8080/"
        },
        "outputId": "d4621b77-8c34-4224-bbdc-7e1f55c9a453"
      },
      "source": [
        "# display solution\n",
        "print('\\nObjective = ', model_lab6_ex2.objective())\n",
        "\n",
        "print('\\nDecision Variables')\n",
        "for i in col_indices:\n",
        "  print('Num of slots for medium ',data_csvfile['Medium'][i], model_lab6_ex2.x[i].value)\n",
        "\n",
        "print('\\nConstraints')\n",
        "model_lab6_ex2.constraints.display()"
      ],
      "execution_count": 24,
      "outputs": [
        {
          "output_type": "stream",
          "name": "stdout",
          "text": [
            "\n",
            "Objective =  3391.5\n",
            "\n",
            "Decision Variables\n",
            "Num of slots for medium  Websites 34.5\n",
            "Num of slots for medium  TV 0.0\n",
            "Num of slots for medium  DailyNewspaper 40.5\n",
            "Num of slots for medium  WeeklyMagazine 12.0\n",
            "Num of slots for medium  MonthlyMagazine 0.0\n",
            "\n",
            "Constraints\n",
            "constraints : Size=7\n",
            "    Key : Lower    : Body       : Upper\n",
            "      1 :     None :       75.0 :      75.0\n",
            "      2 :     None :       52.5 :     100.0\n",
            "      3 :     10.0 :       34.5 :      None\n",
            "      4 :     None :  1500000.0 : 1500000.0\n",
            "      5 : 900000.0 : 12090000.0 :      None\n",
            "      6 :     None :       18.0 :      18.0\n",
            "      7 :     None :      -18.0 :      18.0\n"
          ]
        }
      ]
    },
    {
      "cell_type": "markdown",
      "metadata": {
        "id": "BIlr4Oj0Rz13"
      },
      "source": [
        "constraints 1,4,6 are active in this."
      ]
    },
    {
      "cell_type": "markdown",
      "metadata": {
        "id": "oIz7YX4paonx"
      },
      "source": [
        "Solution by Approach 2"
      ]
    },
    {
      "cell_type": "code",
      "metadata": {
        "id": "PDnms4QVamFg"
      },
      "source": [
        "#defining new variables\n",
        "model_lab6_ex2.a1 = Var(domain = NonNegativeReals)\n",
        "model_lab6_ex2.b1 = Var(domain = NonNegativeReals)"
      ],
      "execution_count": 25,
      "outputs": []
    },
    {
      "cell_type": "code",
      "metadata": {
        "id": "rmBTv70ScKJq",
        "colab": {
          "base_uri": "https://localhost:8080/"
        },
        "outputId": "788b7e1e-7757-4e0e-f770-69a41ae068ae"
      },
      "source": [
        "#adding new constraints\n",
        "model_lab6_ex2.constraints.add(expr =model_lab6_ex2.x[0]+model_lab6_ex2.x[1] - model_lab6_ex2.x[2] - model_lab6_ex2.x[3] - model_lab6_ex2.x[4] - model_lab6_ex2.a1 + model_lab6_ex2.b1 ==0)\n",
        "model_lab6_ex2.constraints.add(expr =model_lab6_ex2.a1 + model_lab6_ex2.b1 <=18)"
      ],
      "execution_count": 26,
      "outputs": [
        {
          "output_type": "execute_result",
          "data": {
            "text/plain": [
              "<pyomo.core.base.constraint._GeneralConstraintData at 0x7f855b3187c0>"
            ]
          },
          "metadata": {},
          "execution_count": 26
        }
      ]
    },
    {
      "cell_type": "code",
      "metadata": {
        "id": "EddhmsJ8cHL8",
        "colab": {
          "base_uri": "https://localhost:8080/"
        },
        "outputId": "6e4dded6-db90-41dd-abc6-7ed76c1bb62f"
      },
      "source": [
        "model_lab6_ex2.pprint()"
      ],
      "execution_count": 27,
      "outputs": [
        {
          "output_type": "stream",
          "name": "stdout",
          "text": [
            "2 Set Declarations\n",
            "    constraints_index : Size=1, Index=None, Ordered=Insertion\n",
            "        Key  : Dimen : Domain : Size : Members\n",
            "        None :     1 :    Any :    9 : {1, 2, 3, 4, 5, 6, 7, 8, 9}\n",
            "    x_index : Size=1, Index=None, Ordered=False\n",
            "        Key  : Dimen : Domain : Size : Members\n",
            "        None :     1 :    Any :    5 : {0, 1, 2, 3, 4}\n",
            "\n",
            "3 Var Declarations\n",
            "    a1 : Size=1, Index=None\n",
            "        Key  : Lower : Value : Upper : Fixed : Stale : Domain\n",
            "        None :     0 :  None :  None : False :  True : NonNegativeReals\n",
            "    b1 : Size=1, Index=None\n",
            "        Key  : Lower : Value : Upper : Fixed : Stale : Domain\n",
            "        None :     0 :  None :  None : False :  True : NonNegativeReals\n",
            "    x : Size=5, Index=x_index\n",
            "        Key : Lower : Value : Upper : Fixed : Stale : Domain\n",
            "          0 :     0 :  34.5 :  None : False : False : NonNegativeReals\n",
            "          1 :     0 :   0.0 :  None : False : False : NonNegativeReals\n",
            "          2 :     0 :  40.5 :  None : False : False : NonNegativeReals\n",
            "          3 :     0 :  12.0 :  None : False : False : NonNegativeReals\n",
            "          4 :     0 :   0.0 :  None : False : False : NonNegativeReals\n",
            "\n",
            "1 Objective Declarations\n",
            "    objective : Size=1, Index=None, Active=True\n",
            "        Key  : Active : Sense    : Expression\n",
            "        None :   True : maximize : 35*x[0] + 57*x[1] + 48*x[2] + 20*x[3] + 15*x[4]\n",
            "\n",
            "1 Constraint Declarations\n",
            "    constraints : Size=9, Index=constraints_index, Active=True\n",
            "        Key : Lower    : Body                                                              : Upper     : Active\n",
            "          1 :     -Inf :                                                x[0] + x[1] + x[2] :      75.0 :   True\n",
            "          2 :     -Inf :                                                x[2] + x[3] + x[4] :     100.0 :   True\n",
            "          3 :     10.0 :                                                       x[0] + x[1] :      +Inf :   True\n",
            "          4 :     -Inf :      30000*x[0] + 95000*x[1] + 10000*x[2] + 5000*x[3] + 4000*x[4] : 1500000.0 :   True\n",
            "          5 : 900000.0 : 100000*x[0] + 500000*x[1] + 200000*x[2] + 45000*x[3] + 25000*x[4] :      +Inf :   True\n",
            "          6 :     -Inf :                                - x[0] - x[1] + x[2] + x[3] + x[4] :      18.0 :   True\n",
            "          7 :     -Inf :                                  x[0] + x[1] - x[2] - x[3] - x[4] :      18.0 :   True\n",
            "          8 :      0.0 :                        x[0] + x[1] - x[2] - x[3] - x[4] - a1 + b1 :       0.0 :   True\n",
            "          9 :     -Inf :                                                           a1 + b1 :      18.0 :   True\n",
            "\n",
            "7 Declarations: x_index x objective constraints_index constraints a1 b1\n"
          ]
        }
      ]
    },
    {
      "cell_type": "code",
      "metadata": {
        "id": "lob0My5ogEXQ",
        "colab": {
          "base_uri": "https://localhost:8080/"
        },
        "outputId": "4e60313b-af9a-4e5d-ce1e-2e953123c84c"
      },
      "source": [
        "result2 = opt_cbc.solve(model_lab6_ex2)\n",
        "print('Solver status:', result2.solver.status)\n",
        "print('Solver termination condition:',result2.solver.termination_condition)"
      ],
      "execution_count": 28,
      "outputs": [
        {
          "output_type": "stream",
          "name": "stdout",
          "text": [
            "Solver status: ok\n",
            "Solver termination condition: optimal\n"
          ]
        }
      ]
    },
    {
      "cell_type": "code",
      "metadata": {
        "id": "JyDRNCfIgS00",
        "colab": {
          "base_uri": "https://localhost:8080/"
        },
        "outputId": "3a31222a-6b9d-4bfa-e73e-6889007a20c3"
      },
      "source": [
        "# display solution by approach 1:\n",
        "print('\\nObjective = ', model_lab6_ex2.objective())\n",
        "\n",
        "print('\\n Original Decision Variables')\n",
        "for i in col_indices:\n",
        "  print('Num of slots for medium ',data_csvfile['Medium'][i], model_lab6_ex2.x[i].value)\n",
        "print('\\n New Decision Variable:')\n",
        "print('a[1]= ',model_lab6_ex2.a1.value)\n",
        "print('b[1]= ',model_lab6_ex2.b1.value)\n",
        "print('\\nConstraints')\n",
        "model_lab6_ex2.constraints.display()"
      ],
      "execution_count": 29,
      "outputs": [
        {
          "output_type": "stream",
          "name": "stdout",
          "text": [
            "\n",
            "Objective =  3391.5\n",
            "\n",
            " Original Decision Variables\n",
            "Num of slots for medium  Websites 34.5\n",
            "Num of slots for medium  TV 0.0\n",
            "Num of slots for medium  DailyNewspaper 40.5\n",
            "Num of slots for medium  WeeklyMagazine 12.0\n",
            "Num of slots for medium  MonthlyMagazine 0.0\n",
            "\n",
            " New Decision Variable:\n",
            "a[1]=  0.0\n",
            "b[1]=  18.0\n",
            "\n",
            "Constraints\n",
            "constraints : Size=9\n",
            "    Key : Lower    : Body       : Upper\n",
            "      1 :     None :       75.0 :      75.0\n",
            "      2 :     None :       52.5 :     100.0\n",
            "      3 :     10.0 :       34.5 :      None\n",
            "      4 :     None :  1500000.0 : 1500000.0\n",
            "      5 : 900000.0 : 12090000.0 :      None\n",
            "      6 :     None :       18.0 :      18.0\n",
            "      7 :     None :      -18.0 :      18.0\n",
            "      8 :      0.0 :        0.0 :       0.0\n",
            "      9 :     None :       18.0 :      18.0\n"
          ]
        }
      ]
    },
    {
      "cell_type": "markdown",
      "metadata": {
        "id": "jZytWc0IiBhZ"
      },
      "source": [
        "Yes we are getting optimal values in each case"
      ]
    },
    {
      "cell_type": "markdown",
      "metadata": {
        "id": "cpUK9VaTRkfD"
      },
      "source": [
        "constraints 1,4,6,8,9 are active in this."
      ]
    },
    {
      "cell_type": "markdown",
      "metadata": {
        "id": "VIX4h2qHif9A"
      },
      "source": [
        "**Ex 2 part 6** \\\\\n",
        "Since, both approaches are equivalent. Hence we are getting the same optimal solution to each decision variables."
      ]
    },
    {
      "cell_type": "markdown",
      "metadata": {
        "id": "o82EIS6kmzts"
      },
      "source": [
        "**Ex 2 part 7** \\\\\n",
        "given $z_3 = x_4+x_5$ \\\\\n",
        "We want to include the constraint $|z_3-x_3|\\geq 4$ \\\\\n",
        "i.e. $|x_4+x_5-x_3| \\geq 4$\n",
        "\n",
        "Now , the model is\n",
        "\\begin{align}\n",
        "\\max \\ 35 x_1 + 57 x_2 + 48 x_3 + 20 x_4 + 15 x_5, \\\\\n",
        "{\\rm{s.t.}} \\; x_1 + x_2 + x_3 & \\leq 75, \\\\\n",
        "x_3 + x_4 + x_5 & \\leq 100, \\\\\n",
        "x_1 + x_2 & \\geq 10, \\\\ \n",
        "30000 x_1 + 95000 x_2 + 10000 x_3 + 5000 x_4 + 4000 x_5 & \\leq 1500000, \\\\\n",
        "100000 x_1 + 500000 x_2 + 200000 x_3 + 45000 x_4 + 25000 x_5 & \\geq 900000, \\\\\n",
        " \\ |x_4+x_5-x_3| \\geq 4 ,\\\\\n",
        "x_i & \\geq 0, \\quad i \\in \\{1,2,3,4,5\\}. \\\\\n",
        "\\end{align}"
      ]
    },
    {
      "cell_type": "markdown",
      "metadata": {
        "id": "jknfK0k0pxCz"
      },
      "source": [
        "This model is not a linear program. Because one of the constraints is non linear. And for a optimization problem to be linear its objective as well as all constraints should be linear."
      ]
    },
    {
      "cell_type": "markdown",
      "metadata": {
        "id": "ZYYptrCixDED"
      },
      "source": [
        "**using approach 2** \\\\\n",
        "Let $-x_3+x_4+x_5 = a_1-b_1$\n",
        "\n",
        "Hence, $|-x_3+x_4+x_5| = a_1+b_1,$  \\\\\n",
        "where $a_1 , b_1 \\geq 0$ \\\\\n",
        "So the model will be \n",
        "\\begin{align}\n",
        "\\max \\ 35 x_1 + 57 x_2 + 48 x_3 + 20 x_4 + 15 x_5, \\\\\n",
        "{\\rm{s.t.}} \\; x_1 + x_2 + x_3 & \\leq 75, \\\\\n",
        "x_3 + x_4 + x_5 & \\leq 100, \\\\\n",
        "x_1 + x_2 & \\geq 10, \\\\ \n",
        "30000 x_1 + 95000 x_2 + 10000 x_3 + 5000 x_4 + 4000 x_5 & \\leq 1500000, \\\\\n",
        "100000 x_1 + 500000 x_2 + 200000 x_3 + 45000 x_4 + 25000 x_5 & \\geq 900000, \\\\\n",
        "-x_3+x_4+x_5-a_2+b_2=0\\\\\n",
        "a_1+b_1 \\geq 4,\\\\\n",
        "x_i & \\geq 0, \\quad i \\in \\{1,2,3,4,5\\}. \\\\ a_1,b_1 \\geq 0\n",
        "\\end{align}"
      ]
    },
    {
      "cell_type": "code",
      "metadata": {
        "id": "pFbuiBRUkSCS"
      },
      "source": [
        ""
      ],
      "execution_count": null,
      "outputs": []
    }
  ]
}