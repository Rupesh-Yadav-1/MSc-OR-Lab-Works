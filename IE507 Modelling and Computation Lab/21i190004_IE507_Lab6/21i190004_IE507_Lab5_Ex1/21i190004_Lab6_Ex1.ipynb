{
  "nbformat": 4,
  "nbformat_minor": 0,
  "metadata": {
    "colab": {
      "name": "21i190004_Lab6_Ex1.ipynb",
      "provenance": [],
      "collapsed_sections": []
    },
    "kernelspec": {
      "name": "python3",
      "display_name": "Python 3"
    },
    "language_info": {
      "name": "python"
    }
  },
  "cells": [
    {
      "cell_type": "code",
      "metadata": {
        "id": "B9wmFyp1pSvo"
      },
      "source": [
        "!pip install -q pyomo"
      ],
      "execution_count": null,
      "outputs": []
    },
    {
      "cell_type": "code",
      "metadata": {
        "id": "xgQAkdhPpVp_"
      },
      "source": [
        "from pyomo.environ import * "
      ],
      "execution_count": null,
      "outputs": []
    },
    {
      "cell_type": "code",
      "metadata": {
        "id": "wCLhsEoUpYiF"
      },
      "source": [
        "import numpy as np"
      ],
      "execution_count": null,
      "outputs": []
    },
    {
      "cell_type": "markdown",
      "metadata": {
        "id": "vgcdmnYAqL7_"
      },
      "source": [
        "# Ex 1"
      ]
    },
    {
      "cell_type": "markdown",
      "metadata": {
        "id": "aZRcEsO4poM0"
      },
      "source": [
        "In this lab, we will consider non-linear problems which can be converted to linear programs. One famous example is the absolute value function given as: \n",
        "\\begin{align}\n",
        "|x| = \\begin{cases}\n",
        "        x  & \\text{ if } x\\geq 0 \\\\ \n",
        "        -x & \\text{ otherwise }.\n",
        "      \\end{cases}\n",
        "\\end{align}\n",
        "\n",
        "We will now consider the absolute value function appearing in the objective function. Consider the optimization problem $\\textbf{(OP)}$:\n",
        "\\begin{align}\n",
        "\\min \\ |x_1| + |x_2| + |x_3| + |x_4| + |x_5| &  \\nonumber \\\\\n",
        "{\\rm{s.t.}} \\ 85 x_1 + 92 x_2 + 45 x_3 + 27 x_4 + 31 x_5 & \\geq 1 \\nonumber \\\\\n",
        "92 x_1 + 54 x_2 + 22 x_3 + 20 x_4 + 7 x_5 & \\geq 1 \\nonumber \\\\\n",
        "96 x_1 + 67 x_2 + 29 x_3 + 20 x_4 + 11 x_5 & \\geq 1 \\nonumber \\\\\n",
        "-91 x_1 - 57 x_2 - 33 x_3 - 23 x_4 - 12 x_5 & \\geq 1 \\nonumber \\\\\n",
        "-99 x_1 - 75 x_2 - 26 x_3 - 24 x_4 - 41 x_5 & \\geq 1 \\nonumber \\\\\n",
        "-98 x_1 - 99 x_2 - 57 x_3 - 45 x_4 - 65 x_5 & \\geq 1 \\nonumber\n",
        "\\end{align}\n",
        "\n",
        "In this optimization problem $\\textbf{(OP)}$, we wish to minimize the sum of absolute values of the decision variables. Such problems are useful when the decision variables might take both positive and negative values, and we want to optimize the magnitudes of the decision variables. \n",
        "\n",
        "We will now consider two possible ways to solve this problem. \n",
        "\n",
        "$\\textbf{Approach 1:}$ \n",
        "\n",
        "We can use a substitution of the absolute function values of the variables to new variables as $u_i = |x_i|, \\ \\forall i \\in \\{1,\\ldots,5\\}$. With this substitution, note that we have $u_i\\geq 0, \\ \\forall i \\in \\{1,\\ldots,5\\}$. Also, the following inequalities are satisfied: $x_i \\leq u_i, -x_i \\leq u_i, \\ \\forall i \\in \\{1,\\ldots,5\\}$. Thus we can transform the problem $\\textbf{(OP)}$ as the following optimization problem $\\textbf{(OP1)}$, where the absolute values of $x_i$ are replaced with $u_i$ and constraints related to the new variables $u_i$ are introduced. Thus we have the problem $\\textbf{(OP1)}$:\n",
        "\n",
        "\\begin{align}\n",
        "\\min \\ u_1 + u_2 + u_3 + u_4 + u_5 &  \\nonumber \\\\\n",
        "{\\rm{s.t.}} \\ 85 x_1 + 92 x_2 + 45 x_3 + 27 x_4 + 31 x_5 & \\geq 1 \\nonumber \\\\\n",
        "92 x_1 + 54 x_2 + 22 x_3 + 20 x_4 + 7 x_5 & \\geq 1 \\nonumber \\\\\n",
        "96 x_1 + 67 x_2 + 29 x_3 + 20 x_4 + 11 x_5 & \\geq 1 \\nonumber \\\\\n",
        "-91 x_1 - 57 x_2 - 33 x_3 - 23 x_4 - 12 x_5 & \\geq 1 \\nonumber \\\\\n",
        "-99 x_1 - 75 x_2 - 26 x_3 - 24 x_4 - 41 x_5 & \\geq 1 \\nonumber \\\\\n",
        "-98 x_1 - 99 x_2 - 57 x_3 - 45 x_4 - 65 x_5 & \\geq 1 \\nonumber \\\\\n",
        "u_i \\geq x_i, & \\  \\forall i \\in \\{1,\\ldots,5\\} \\nonumber \\\\ \n",
        "u_i \\geq -x_i, & \\  \\forall i \\in \\{1,\\ldots,5\\} \\nonumber \\\\ \n",
        "u_i \\geq 0, & \\ \\forall i \\in \\{1,\\ldots,5\\}. \n",
        "\\end{align}\n",
        "\n",
        "Note that the number of decision variables in $\\textbf{(OP1)}$ is twice the number of decision variables in $\\textbf{(OP)}$. However the objective function and the constraints in $\\textbf{(OP1)}$ are now linear, and thus $\\textbf{(OP1)}$ is a linear program. \n",
        "\n",
        "\n"
      ]
    },
    {
      "cell_type": "markdown",
      "metadata": {
        "id": "ur0XtJDFp_gc"
      },
      "source": [
        "$\\textbf{Approach 2:}$\n",
        "\n",
        "In this approach we will use some fundamental properties of real numbers. Indeed, for any real number $x$, we can write $x=a-b$ where $a\\geq 0, b\\geq 0$. \n",
        "\n",
        "Hence we can substitute $|x| = |a-b|, \\ a\\geq 0, b\\geq 0$. \n",
        "\n",
        "Now we will consider another interesting property of real numbers: \n",
        "$|u-v| = u+v \\iff u\\geq 0, v\\geq 0, uv = 0$. \n",
        "\n",
        "Using this property we can write $|x| = a+b, \\ a\\geq 0, \\ b\\geq 0$. Note that this replacement will imply that $ab=0$. \n",
        "\n",
        "Thus we can transform the optimization problem $\\textbf{(OP)}$ into a new optimization problem $\\textbf{(OP2)}$ where $x_i = a_i - b_i, \\text{ and } |x_i| = a_i + b_i, \\ \\forall i \\in \\{1,\\ldots,5\\}$ where $a_i \\geq 0, b_i \\geq 0, \\forall i \\in \\{1,\\ldots,5\\}$. Thus we have the new optimization problem $\\textbf{(OP2)}$: \n",
        "\n",
        "\\begin{align}\n",
        "\\min \\ (a_1 + b_1) +  (a_2 + b_2) + (a_3 + b_3) + (a_4 + b_4) + (a_5 + b_5) &  \\nonumber \\\\\n",
        "{\\rm{s.t.}} \\ 85 (a_1-b_1) + 92 (a_2-b_2) + 45 (a_3-b_3) + 27 (a_4-b_4) + 31 (a_5-b_5) & \\geq 1 \\nonumber \\\\\n",
        "92 (a_1-b_1) + 54 (a_2-b_2) + 22 (a_3-b_3) + 20 (a_4-b_4) + 7 (a_5-b_5) & \\geq 1 \\nonumber \\\\\n",
        "96 (a_1-b_1) + 67 (a_2-b_2) + 29 (a_3-b_3) + 20 (a_4-b_4) + 11 (a_5-b_5) & \\geq 1 \\nonumber \\\\\n",
        "-91 (a_1-b_1) - 57 (a_2-b_2) - 33 (a_3-b_3) - 23 (a_4-b_4) - 12 (a_5-b_5) & \\geq 1 \\nonumber \\\\\n",
        "-99 (a_1-b_1) - 75 (a_2-b_2) - 26 (a_3-b_3) - 24 (a_4-b_4) - 41 (a_5-b_5) & \\geq 1 \\nonumber \\\\\n",
        "-98 (a_1-b_1) - 99 (a_2-b_2) - 57 (a_3-b_3) - 45 (a_4-b_4) - 65 (a_5-b_5) & \\geq 1 \\nonumber \\\\ \n",
        "a_i \\geq 0, \\ b_i \\geq 0, & \\ \\forall i \\in \\{1,\\ldots,5\\}. \\nonumber \n",
        "\\end{align}\n"
      ]
    },
    {
      "cell_type": "code",
      "metadata": {
        "id": "vuAJMDlVqQ31"
      },
      "source": [
        "coef = np.loadtxt('lab6_practice_coef.txt', delimiter=',')"
      ],
      "execution_count": null,
      "outputs": []
    },
    {
      "cell_type": "code",
      "metadata": {
        "colab": {
          "base_uri": "https://localhost:8080/"
        },
        "id": "JQtUBTlTqS4F",
        "outputId": "8a245fda-6d1c-479a-dba1-4baa123e8728"
      },
      "source": [
        "print(coef.shape)\n",
        "print('Num rows:',coef.shape[0])\n",
        "print('Num cols:',coef.shape[1])"
      ],
      "execution_count": null,
      "outputs": [
        {
          "output_type": "stream",
          "name": "stdout",
          "text": [
            "(17, 11)\n",
            "Num rows: 17\n",
            "Num cols: 11\n"
          ]
        }
      ]
    },
    {
      "cell_type": "code",
      "metadata": {
        "colab": {
          "base_uri": "https://localhost:8080/"
        },
        "id": "vgDSGbzRqUb2",
        "outputId": "e6ab25ac-7fb7-4d32-d148-ba1a3a39a7c8"
      },
      "source": [
        "print(coef)"
      ],
      "execution_count": null,
      "outputs": [
        {
          "output_type": "stream",
          "name": "stdout",
          "text": [
            "[[  0.   0.   0.   0.   0.   1.   1.   1.   1.   1.   0.]\n",
            " [ 85.  92.  45.  27.  31.   0.   0.   0.   0.   0.   1.]\n",
            " [ 92.  54.  22.  20.   7.   0.   0.   0.   0.   0.   1.]\n",
            " [ 96.  67.  29.  20.  11.   0.   0.   0.   0.   0.   1.]\n",
            " [-91. -57. -33. -23. -12.   0.   0.   0.   0.   0.   1.]\n",
            " [-99. -75. -26. -24. -41.   0.   0.   0.   0.   0.   1.]\n",
            " [-98. -99. -57. -45. -65.   0.   0.   0.   0.   0.   1.]\n",
            " [ -1.   0.   0.   0.   0.   1.   0.   0.   0.   0.   0.]\n",
            " [  0.  -1.   0.   0.   0.   0.   1.   0.   0.   0.   0.]\n",
            " [  0.   0.  -1.   0.   0.   0.   0.   1.   0.   0.   0.]\n",
            " [  0.   0.   0.  -1.   0.   0.   0.   0.   1.   0.   0.]\n",
            " [  0.   0.   0.   0.  -1.   0.   0.   0.   0.   1.   0.]\n",
            " [  1.   0.   0.   0.   0.   1.   0.   0.   0.   0.   0.]\n",
            " [  0.   1.   0.   0.   0.   0.   1.   0.   0.   0.   0.]\n",
            " [  0.   0.   1.   0.   0.   0.   0.   1.   0.   0.   0.]\n",
            " [  0.   0.   0.   1.   0.   0.   0.   0.   1.   0.   0.]\n",
            " [  0.   0.   0.   0.   1.   0.   0.   0.   0.   1.   0.]]\n"
          ]
        }
      ]
    },
    {
      "cell_type": "code",
      "metadata": {
        "id": "H3NKUiv4qWDO"
      },
      "source": [
        "# creating a model\n",
        "model_lab6 = ConcreteModel()"
      ],
      "execution_count": null,
      "outputs": []
    },
    {
      "cell_type": "code",
      "metadata": {
        "id": "Q-ijSlvzqdYs"
      },
      "source": [
        "N = coef.shape[1]-1\n",
        "M = coef.shape[0]-1"
      ],
      "execution_count": null,
      "outputs": []
    },
    {
      "cell_type": "code",
      "metadata": {
        "colab": {
          "base_uri": "https://localhost:8080/"
        },
        "id": "Kr943KNUqkX3",
        "outputId": "27aaa343-e2bd-4d2e-a408-5b5222983368"
      },
      "source": [
        "# coefficients for objective function can be obtained by accessing the coef array\n",
        "obj_coef = coef[0,:-1]\n",
        "print(obj_coef.shape)\n",
        "print(obj_coef)"
      ],
      "execution_count": null,
      "outputs": [
        {
          "output_type": "stream",
          "name": "stdout",
          "text": [
            "(10,)\n",
            "[0. 0. 0. 0. 0. 1. 1. 1. 1. 1.]\n"
          ]
        }
      ]
    },
    {
      "cell_type": "code",
      "metadata": {
        "colab": {
          "base_uri": "https://localhost:8080/"
        },
        "id": "ZriQD02uqmrR",
        "outputId": "b1fbab21-7b93-47dc-a791-284d84f4edf2"
      },
      "source": [
        "# We can segregate the coefficients for constraints into a separate array\n",
        "constr_coef = coef[1:,:-1]\n",
        "print(constr_coef.shape)\n",
        "print(constr_coef)"
      ],
      "execution_count": null,
      "outputs": [
        {
          "output_type": "stream",
          "name": "stdout",
          "text": [
            "(16, 10)\n",
            "[[ 85.  92.  45.  27.  31.   0.   0.   0.   0.   0.]\n",
            " [ 92.  54.  22.  20.   7.   0.   0.   0.   0.   0.]\n",
            " [ 96.  67.  29.  20.  11.   0.   0.   0.   0.   0.]\n",
            " [-91. -57. -33. -23. -12.   0.   0.   0.   0.   0.]\n",
            " [-99. -75. -26. -24. -41.   0.   0.   0.   0.   0.]\n",
            " [-98. -99. -57. -45. -65.   0.   0.   0.   0.   0.]\n",
            " [ -1.   0.   0.   0.   0.   1.   0.   0.   0.   0.]\n",
            " [  0.  -1.   0.   0.   0.   0.   1.   0.   0.   0.]\n",
            " [  0.   0.  -1.   0.   0.   0.   0.   1.   0.   0.]\n",
            " [  0.   0.   0.  -1.   0.   0.   0.   0.   1.   0.]\n",
            " [  0.   0.   0.   0.  -1.   0.   0.   0.   0.   1.]\n",
            " [  1.   0.   0.   0.   0.   1.   0.   0.   0.   0.]\n",
            " [  0.   1.   0.   0.   0.   0.   1.   0.   0.   0.]\n",
            " [  0.   0.   1.   0.   0.   0.   0.   1.   0.   0.]\n",
            " [  0.   0.   0.   1.   0.   0.   0.   0.   1.   0.]\n",
            " [  0.   0.   0.   0.   1.   0.   0.   0.   0.   1.]]\n"
          ]
        }
      ]
    },
    {
      "cell_type": "code",
      "metadata": {
        "colab": {
          "base_uri": "https://localhost:8080/"
        },
        "id": "t0tVtuimqome",
        "outputId": "726a5301-2255-41ab-d245-ea5d16f536d8"
      },
      "source": [
        "# We can segregate the RHS of constraints into a separate array\n",
        "constr_rhs = coef[1:,-1]\n",
        "print(constr_rhs.shape)\n",
        "print(constr_rhs)"
      ],
      "execution_count": null,
      "outputs": [
        {
          "output_type": "stream",
          "name": "stdout",
          "text": [
            "(16,)\n",
            "[1. 1. 1. 1. 1. 1. 0. 0. 0. 0. 0. 0. 0. 0. 0. 0.]\n"
          ]
        }
      ]
    },
    {
      "cell_type": "code",
      "metadata": {
        "colab": {
          "base_uri": "https://localhost:8080/"
        },
        "id": "LDH0nGQxqpD8",
        "outputId": "afdd8c52-fcf8-433c-bc11-17ecd3ee3bfb"
      },
      "source": [
        "# set of column indices for original decision variables x: since we have N/2 variables, we can take column indices to be the list [0,1,2,...,N-1]\n",
        "col_indices_x = np.arange(int(N/2))\n",
        "print(col_indices_x)\n",
        "\n",
        "#declare the original decision variables in the model\n",
        "model_lab6.x = Var(col_indices_x)"
      ],
      "execution_count": null,
      "outputs": [
        {
          "output_type": "stream",
          "name": "stdout",
          "text": [
            "[0 1 2 3 4]\n"
          ]
        }
      ]
    },
    {
      "cell_type": "code",
      "metadata": {
        "colab": {
          "base_uri": "https://localhost:8080/"
        },
        "id": "DV2PnYgaqv6a",
        "outputId": "99c90f0e-230d-4186-8230-396f41be2c3e"
      },
      "source": [
        "col_indices_u = np.arange(int(N/2))\n",
        "print(col_indices_u)\n",
        "\n",
        "#declare the new decision variables in the model\n",
        "model_lab6.u = Var(col_indices_u, domain=NonNegativeReals)"
      ],
      "execution_count": null,
      "outputs": [
        {
          "output_type": "stream",
          "name": "stdout",
          "text": [
            "[0 1 2 3 4]\n"
          ]
        }
      ]
    },
    {
      "cell_type": "code",
      "metadata": {
        "colab": {
          "base_uri": "https://localhost:8080/"
        },
        "id": "2TlsZKASquru",
        "outputId": "28800461-666b-4852-e116-36c4a0e9d814"
      },
      "source": [
        "# set of row indices: since we have M contraints, we can take row indices to be the list [0,1,2,...,M-1]\n",
        "row_indices = np.arange(M)\n",
        "print(row_indices)"
      ],
      "execution_count": null,
      "outputs": [
        {
          "output_type": "stream",
          "name": "stdout",
          "text": [
            "[ 0  1  2  3  4  5  6  7  8  9 10 11 12 13 14 15]\n"
          ]
        }
      ]
    },
    {
      "cell_type": "code",
      "metadata": {
        "id": "2YNqjXdbq8Yy"
      },
      "source": [
        "model_lab6.constraints = ConstraintList()"
      ],
      "execution_count": null,
      "outputs": []
    },
    {
      "cell_type": "code",
      "metadata": {
        "id": "9qFjX0rlq96m"
      },
      "source": [
        "for i in row_indices:\n",
        "  model_lab6.constraints.add(summation(constr_coef[i][0:int(N/2)],model_lab6.x) + summation(constr_coef[i][int(N/2):N],model_lab6.u)  >= constr_rhs[i])"
      ],
      "execution_count": null,
      "outputs": []
    },
    {
      "cell_type": "code",
      "metadata": {
        "id": "hbUnJQHMq_iX"
      },
      "source": [
        "# add the model objective\n",
        "model_lab6.objective = Objective(expr = summation(obj_coef[0:int(N/2)],model_lab6.x) + summation(obj_coef[int(N/2):N],model_lab6.u), sense=minimize)"
      ],
      "execution_count": null,
      "outputs": []
    },
    {
      "cell_type": "code",
      "metadata": {
        "colab": {
          "base_uri": "https://localhost:8080/"
        },
        "id": "caMzwOT2rCQ6",
        "outputId": "d2437152-b22f-49d8-d1c7-b490da3e465c"
      },
      "source": [
        "model_lab6.pprint()"
      ],
      "execution_count": null,
      "outputs": [
        {
          "output_type": "stream",
          "name": "stdout",
          "text": [
            "3 Set Declarations\n",
            "    constraints_index : Size=1, Index=None, Ordered=Insertion\n",
            "        Key  : Dimen : Domain : Size : Members\n",
            "        None :     1 :    Any :   16 : {1, 2, 3, 4, 5, 6, 7, 8, 9, 10, 11, 12, 13, 14, 15, 16}\n",
            "    u_index : Size=1, Index=None, Ordered=False\n",
            "        Key  : Dimen : Domain : Size : Members\n",
            "        None :     1 :    Any :    5 : {0, 1, 2, 3, 4}\n",
            "    x_index : Size=1, Index=None, Ordered=False\n",
            "        Key  : Dimen : Domain : Size : Members\n",
            "        None :     1 :    Any :    5 : {0, 1, 2, 3, 4}\n",
            "\n",
            "2 Var Declarations\n",
            "    u : Size=5, Index=u_index\n",
            "        Key : Lower : Value : Upper : Fixed : Stale : Domain\n",
            "          0 :     0 :  None :  None : False :  True : NonNegativeReals\n",
            "          1 :     0 :  None :  None : False :  True : NonNegativeReals\n",
            "          2 :     0 :  None :  None : False :  True : NonNegativeReals\n",
            "          3 :     0 :  None :  None : False :  True : NonNegativeReals\n",
            "          4 :     0 :  None :  None : False :  True : NonNegativeReals\n",
            "    x : Size=5, Index=x_index\n",
            "        Key : Lower : Value : Upper : Fixed : Stale : Domain\n",
            "          0 :  None :  None :  None : False :  True :  Reals\n",
            "          1 :  None :  None :  None : False :  True :  Reals\n",
            "          2 :  None :  None :  None : False :  True :  Reals\n",
            "          3 :  None :  None :  None : False :  True :  Reals\n",
            "          4 :  None :  None :  None : False :  True :  Reals\n",
            "\n",
            "1 Objective Declarations\n",
            "    objective : Size=1, Index=None, Active=True\n",
            "        Key  : Active : Sense    : Expression\n",
            "        None :   True : minimize :  + (u[0] + u[1] + u[2] + u[3] + u[4])\n",
            "\n",
            "1 Constraint Declarations\n",
            "    constraints : Size=16, Index=constraints_index, Active=True\n",
            "        Key : Lower : Body                                                             : Upper : Active\n",
            "          1 :   1.0 :   85.0*x[0] + 92.0*x[1] + 45.0*x[2] + 27.0*x[3] + 31.0*x[4] + () :  +Inf :   True\n",
            "          2 :   1.0 :    92.0*x[0] + 54.0*x[1] + 22.0*x[2] + 20.0*x[3] + 7.0*x[4] + () :  +Inf :   True\n",
            "          3 :   1.0 :   96.0*x[0] + 67.0*x[1] + 29.0*x[2] + 20.0*x[3] + 11.0*x[4] + () :  +Inf :   True\n",
            "          4 :   1.0 : - 91.0*x[0] - 57.0*x[1] - 33.0*x[2] - 23.0*x[3] - 12.0*x[4] + () :  +Inf :   True\n",
            "          5 :   1.0 : - 99.0*x[0] - 75.0*x[1] - 26.0*x[2] - 24.0*x[3] - 41.0*x[4] + () :  +Inf :   True\n",
            "          6 :   1.0 : - 98.0*x[0] - 99.0*x[1] - 57.0*x[2] - 45.0*x[3] - 65.0*x[4] + () :  +Inf :   True\n",
            "          7 :   0.0 :                                                  - x[0] + (u[0]) :  +Inf :   True\n",
            "          8 :   0.0 :                                                  - x[1] + (u[1]) :  +Inf :   True\n",
            "          9 :   0.0 :                                                  - x[2] + (u[2]) :  +Inf :   True\n",
            "         10 :   0.0 :                                                  - x[3] + (u[3]) :  +Inf :   True\n",
            "         11 :   0.0 :                                                  - x[4] + (u[4]) :  +Inf :   True\n",
            "         12 :   0.0 :                                                    x[0] + (u[0]) :  +Inf :   True\n",
            "         13 :   0.0 :                                                    x[1] + (u[1]) :  +Inf :   True\n",
            "         14 :   0.0 :                                                    x[2] + (u[2]) :  +Inf :   True\n",
            "         15 :   0.0 :                                                    x[3] + (u[3]) :  +Inf :   True\n",
            "         16 :   0.0 :                                                    x[4] + (u[4]) :  +Inf :   True\n",
            "\n",
            "7 Declarations: x_index x u_index u constraints_index constraints objective\n"
          ]
        }
      ]
    },
    {
      "cell_type": "code",
      "metadata": {
        "id": "HqK0i--KrGQs"
      },
      "source": [
        "!apt-get install -y -qq coinor-cbc"
      ],
      "execution_count": null,
      "outputs": []
    },
    {
      "cell_type": "code",
      "metadata": {
        "id": "nSMOjUySrILM"
      },
      "source": [
        "opt_cbc = SolverFactory('cbc')"
      ],
      "execution_count": null,
      "outputs": []
    },
    {
      "cell_type": "markdown",
      "metadata": {
        "id": "Ui8LYE08sM03"
      },
      "source": [
        "**Ex 1 part 2**"
      ]
    },
    {
      "cell_type": "code",
      "metadata": {
        "colab": {
          "base_uri": "https://localhost:8080/"
        },
        "id": "dxihtxrTrJzj",
        "outputId": "ea28b26d-0d37-40af-efde-a89b43024192"
      },
      "source": [
        "result = opt_cbc.solve(model_lab6)\n",
        "print('Solver status:', result.solver.status)\n",
        "print('Solver termination condition:',result.solver.termination_condition)"
      ],
      "execution_count": null,
      "outputs": [
        {
          "output_type": "stream",
          "name": "stdout",
          "text": [
            "Solver status: ok\n",
            "Solver termination condition: optimal\n"
          ]
        }
      ]
    },
    {
      "cell_type": "markdown",
      "metadata": {
        "id": "_OAlVAvTsPoq"
      },
      "source": [
        "Yes the solver yields optimal solution."
      ]
    },
    {
      "cell_type": "markdown",
      "metadata": {
        "id": "1v31n-8_sEjs"
      },
      "source": [
        "**Ex 1 part 3**"
      ]
    },
    {
      "cell_type": "code",
      "metadata": {
        "colab": {
          "base_uri": "https://localhost:8080/"
        },
        "id": "VgPsHilyrLfJ",
        "outputId": "c9b86b40-feb6-406c-f704-67872d65553c"
      },
      "source": [
        "# display solution\n",
        "print('\\nObjective = ', model_lab6.objective())\n",
        "\n",
        "print('\\nDecision Variables')\n",
        "for j in col_indices_x:\n",
        "    print('x[',j,']:', model_lab6.x[j].value)\n",
        "\n",
        "for j in col_indices_u:\n",
        "    print('u[',j,']:', model_lab6.u[j].value)\n",
        "\n",
        "print('\\nConstraints')\n",
        "model_lab6.constraints.display()"
      ],
      "execution_count": null,
      "outputs": [
        {
          "output_type": "stream",
          "name": "stdout",
          "text": [
            "\n",
            "Objective =  0.547955725\n",
            "\n",
            "Decision Variables\n",
            "x[ 0 ]: -0.046448575\n",
            "x[ 1 ]: 0.18612441\n",
            "x[ 2 ]: -0.17131802\n",
            "x[ 3 ]: 0.0\n",
            "x[ 4 ]: -0.14406472\n",
            "u[ 0 ]: 0.046448575\n",
            "u[ 1 ]: 0.18612441\n",
            "u[ 2 ]: 0.17131802\n",
            "u[ 3 ]: 0.0\n",
            "u[ 4 ]: 0.14406472\n",
            "\n",
            "Constraints\n",
            "constraints : Size=16\n",
            "    Key : Lower : Body               : Upper\n",
            "      1 :   1.0 : 0.9999996250000001 :  None\n",
            "      2 :   1.0 : 0.9999997599999997 :  None\n",
            "      3 :   1.0 :  1.458337769999999 :  None\n",
            "      4 :   1.0 : 1.0000002550000002 :  None\n",
            "      5 :   1.0 :  1.000000215000001 :  None\n",
            "      6 :   1.0 : 5.2549776999999995 :  None\n",
            "      7 :   0.0 :         0.09289715 :  None\n",
            "      8 :   0.0 :                0.0 :  None\n",
            "      9 :   0.0 :         0.34263604 :  None\n",
            "     10 :   0.0 :                0.0 :  None\n",
            "     11 :   0.0 :         0.28812944 :  None\n",
            "     12 :   0.0 :                0.0 :  None\n",
            "     13 :   0.0 :         0.37224882 :  None\n",
            "     14 :   0.0 :                0.0 :  None\n",
            "     15 :   0.0 :                0.0 :  None\n",
            "     16 :   0.0 :                0.0 :  None\n"
          ]
        }
      ]
    },
    {
      "cell_type": "markdown",
      "metadata": {
        "id": "SaomsRL5sWkn"
      },
      "source": [
        "Here the original decision variables $x_i$ are taking real values(not necessarily positive) whereas $u_i$ are taking only non negative reals i.e. $u_i$=|$x_i$| and we using $u_i$ in place of |$x_i$| in objective function which results in the equivalence of both OP and OP1."
      ]
    },
    {
      "cell_type": "markdown",
      "metadata": {
        "id": "KDrJMJ_Ut4Jn"
      },
      "source": [
        "# Solving OP2"
      ]
    },
    {
      "cell_type": "code",
      "metadata": {
        "id": "8CiR-PnZt8nX"
      },
      "source": [
        "coef2=np.loadtxt('lab6_practice_coef_OP2.txt', delimiter=',')"
      ],
      "execution_count": null,
      "outputs": []
    },
    {
      "cell_type": "code",
      "metadata": {
        "colab": {
          "base_uri": "https://localhost:8080/"
        },
        "id": "-sbM_5pXv0V3",
        "outputId": "42c24df8-dcd9-4a4d-8387-7c1a5f64511e"
      },
      "source": [
        "print(coef2.shape)\n",
        "print('Num rows:',coef2.shape[0])\n",
        "print('Num cols:',coef2.shape[1])"
      ],
      "execution_count": null,
      "outputs": [
        {
          "output_type": "stream",
          "name": "stdout",
          "text": [
            "(7, 11)\n",
            "Num rows: 7\n",
            "Num cols: 11\n"
          ]
        }
      ]
    },
    {
      "cell_type": "code",
      "metadata": {
        "colab": {
          "base_uri": "https://localhost:8080/"
        },
        "id": "q_wLK8Zdv40R",
        "outputId": "a21c16f5-0e38-409a-dd09-26f4cce6c067"
      },
      "source": [
        "print(coef2)"
      ],
      "execution_count": null,
      "outputs": [
        {
          "output_type": "stream",
          "name": "stdout",
          "text": [
            "[[  1.   1.   1.   1.   1.   1.   1.   1.   1.   1.   0.]\n",
            " [ 85.  92.  45.  27.  31. -85. -92. -45. -27. -31.   1.]\n",
            " [ 92.  54.  22.  20.   7. -92. -54. -22. -20.  -7.   1.]\n",
            " [ 96.  67.  29.  20.  11. -96. -67. -29. -20. -11.   1.]\n",
            " [-91. -57. -33. -23. -12.  91.  57.  33.  23.  12.   1.]\n",
            " [-99. -75. -26. -24. -41.  99.  75.  26.  24.  41.   1.]\n",
            " [-98. -99. -57. -45. -65.  98.  99.  57.  45.  65.   1.]]\n"
          ]
        }
      ]
    },
    {
      "cell_type": "code",
      "metadata": {
        "id": "gbwNTVwRv68F"
      },
      "source": [
        "model_lab6_OP2 = ConcreteModel()"
      ],
      "execution_count": null,
      "outputs": []
    },
    {
      "cell_type": "code",
      "metadata": {
        "id": "YJWJM3nzwBD1"
      },
      "source": [
        "N2 = coef2.shape[1]-1\n",
        "M2 = coef2.shape[0]-1"
      ],
      "execution_count": null,
      "outputs": []
    },
    {
      "cell_type": "code",
      "metadata": {
        "colab": {
          "base_uri": "https://localhost:8080/"
        },
        "id": "q3ThVyJmwLbg",
        "outputId": "b0aeb513-1a2b-4e2c-a738-c564943d957c"
      },
      "source": [
        "# coefficients for objective function can be obtained by accessing the coef array\n",
        "obj_coef2 = coef2[0,:-1]\n",
        "print(obj_coef2.shape)\n",
        "print(obj_coef2)\n"
      ],
      "execution_count": null,
      "outputs": [
        {
          "output_type": "stream",
          "name": "stdout",
          "text": [
            "(10,)\n",
            "[1. 1. 1. 1. 1. 1. 1. 1. 1. 1.]\n"
          ]
        }
      ]
    },
    {
      "cell_type": "code",
      "metadata": {
        "colab": {
          "base_uri": "https://localhost:8080/"
        },
        "id": "e-8MsNKrwPpU",
        "outputId": "4d47b04e-e034-441e-ed21-3847d1af3ee7"
      },
      "source": [
        "# We can segregate the coefficients for constraints into a separate array\n",
        "constr_coef2 = coef2[1:,:-1]\n",
        "print(constr_coef2.shape)\n",
        "print(constr_coef2)"
      ],
      "execution_count": null,
      "outputs": [
        {
          "output_type": "stream",
          "name": "stdout",
          "text": [
            "(6, 10)\n",
            "[[ 85.  92.  45.  27.  31. -85. -92. -45. -27. -31.]\n",
            " [ 92.  54.  22.  20.   7. -92. -54. -22. -20.  -7.]\n",
            " [ 96.  67.  29.  20.  11. -96. -67. -29. -20. -11.]\n",
            " [-91. -57. -33. -23. -12.  91.  57.  33.  23.  12.]\n",
            " [-99. -75. -26. -24. -41.  99.  75.  26.  24.  41.]\n",
            " [-98. -99. -57. -45. -65.  98.  99.  57.  45.  65.]]\n"
          ]
        }
      ]
    },
    {
      "cell_type": "code",
      "metadata": {
        "colab": {
          "base_uri": "https://localhost:8080/"
        },
        "id": "nd6Mg25XwUpC",
        "outputId": "86b57b96-8f58-4cf7-cab6-5e6017e35868"
      },
      "source": [
        "# We can segregate the RHS of constraints into a separate array\n",
        "constr_rhs2 = coef2[1:,-1]\n",
        "print(constr_rhs2.shape)\n",
        "print(constr_rhs2)"
      ],
      "execution_count": null,
      "outputs": [
        {
          "output_type": "stream",
          "name": "stdout",
          "text": [
            "(6,)\n",
            "[1. 1. 1. 1. 1. 1.]\n"
          ]
        }
      ]
    },
    {
      "cell_type": "code",
      "metadata": {
        "colab": {
          "base_uri": "https://localhost:8080/"
        },
        "id": "j9N1jp7hw65a",
        "outputId": "ff50c0c9-5a72-4d7a-ddcf-8427a0c507d8"
      },
      "source": [
        "col_indices2_a = np.arange(int(N2/2))\n",
        "print(col_indices2_a)\n",
        "\n",
        "#declare the new decision variables ai's in the model\n",
        "model_lab6_OP2.a = Var(col_indices2_a, domain=NonNegativeReals)"
      ],
      "execution_count": null,
      "outputs": [
        {
          "output_type": "stream",
          "name": "stdout",
          "text": [
            "[0 1 2 3 4]\n"
          ]
        }
      ]
    },
    {
      "cell_type": "code",
      "metadata": {
        "colab": {
          "base_uri": "https://localhost:8080/"
        },
        "id": "MT1q4IOEw7bD",
        "outputId": "24fe6f6f-c6fa-446e-f746-af480db12ad1"
      },
      "source": [
        "col_indices2_b = np.arange(int(N2/2))\n",
        "print(col_indices2_b)\n",
        "\n",
        "#declare the new decision variables bi's in the model\n",
        "model_lab6_OP2.b = Var(col_indices2_b, domain=NonNegativeReals)"
      ],
      "execution_count": null,
      "outputs": [
        {
          "output_type": "stream",
          "name": "stdout",
          "text": [
            "[0 1 2 3 4]\n"
          ]
        }
      ]
    },
    {
      "cell_type": "code",
      "metadata": {
        "colab": {
          "base_uri": "https://localhost:8080/"
        },
        "id": "hIeWuyIPxgcR",
        "outputId": "0ec23cca-804d-49ff-f8f2-5ec126506a62"
      },
      "source": [
        "row_indices2 = np.arange(M2)\n",
        "print(row_indices2)"
      ],
      "execution_count": null,
      "outputs": [
        {
          "output_type": "stream",
          "name": "stdout",
          "text": [
            "[0 1 2 3 4 5]\n"
          ]
        }
      ]
    },
    {
      "cell_type": "code",
      "metadata": {
        "id": "6QzEBsUGxjM4"
      },
      "source": [
        "# create a ConstraintList to hold multiple constraints\n",
        "model_lab6_OP2.constraints = ConstraintList()"
      ],
      "execution_count": null,
      "outputs": []
    },
    {
      "cell_type": "code",
      "metadata": {
        "id": "Klbfs6vDxkwG"
      },
      "source": [
        "for i in row_indices2:\n",
        "  model_lab6_OP2.constraints.add(summation(constr_coef2[i][0:int(N2/2)],model_lab6_OP2.a) + summation(constr_coef2[i][int(N2/2):N2],model_lab6_OP2.b)  >= constr_rhs2[i])"
      ],
      "execution_count": null,
      "outputs": []
    },
    {
      "cell_type": "code",
      "metadata": {
        "id": "ftBGMUO6yDc7"
      },
      "source": [
        "# add the model objective\n",
        "model_lab6_OP2.objective = Objective(expr = summation(obj_coef2[0:int(N2/2)],model_lab6_OP2.a) + summation(obj_coef2[int(N2/2):N2],model_lab6_OP2.b), sense=minimize)"
      ],
      "execution_count": null,
      "outputs": []
    },
    {
      "cell_type": "code",
      "metadata": {
        "colab": {
          "base_uri": "https://localhost:8080/"
        },
        "id": "Hcdo-hhEyGjP",
        "outputId": "f23f930a-5e07-4b90-d70b-ba5c948f90cc"
      },
      "source": [
        "model_lab6_OP2.pprint()"
      ],
      "execution_count": null,
      "outputs": [
        {
          "output_type": "stream",
          "name": "stdout",
          "text": [
            "3 Set Declarations\n",
            "    a_index : Size=1, Index=None, Ordered=False\n",
            "        Key  : Dimen : Domain : Size : Members\n",
            "        None :     1 :    Any :    5 : {0, 1, 2, 3, 4}\n",
            "    b_index : Size=1, Index=None, Ordered=False\n",
            "        Key  : Dimen : Domain : Size : Members\n",
            "        None :     1 :    Any :    5 : {0, 1, 2, 3, 4}\n",
            "    constraints_index : Size=1, Index=None, Ordered=Insertion\n",
            "        Key  : Dimen : Domain : Size : Members\n",
            "        None :     1 :    Any :    6 : {1, 2, 3, 4, 5, 6}\n",
            "\n",
            "2 Var Declarations\n",
            "    a : Size=5, Index=a_index\n",
            "        Key : Lower : Value : Upper : Fixed : Stale : Domain\n",
            "          0 :     0 :  None :  None : False :  True : NonNegativeReals\n",
            "          1 :     0 :  None :  None : False :  True : NonNegativeReals\n",
            "          2 :     0 :  None :  None : False :  True : NonNegativeReals\n",
            "          3 :     0 :  None :  None : False :  True : NonNegativeReals\n",
            "          4 :     0 :  None :  None : False :  True : NonNegativeReals\n",
            "    b : Size=5, Index=b_index\n",
            "        Key : Lower : Value : Upper : Fixed : Stale : Domain\n",
            "          0 :     0 :  None :  None : False :  True : NonNegativeReals\n",
            "          1 :     0 :  None :  None : False :  True : NonNegativeReals\n",
            "          2 :     0 :  None :  None : False :  True : NonNegativeReals\n",
            "          3 :     0 :  None :  None : False :  True : NonNegativeReals\n",
            "          4 :     0 :  None :  None : False :  True : NonNegativeReals\n",
            "\n",
            "1 Objective Declarations\n",
            "    objective : Size=1, Index=None, Active=True\n",
            "        Key  : Active : Sense    : Expression\n",
            "        None :   True : minimize : a[0] + a[1] + a[2] + a[3] + a[4] + (b[0] + b[1] + b[2] + b[3] + b[4])\n",
            "\n",
            "1 Constraint Declarations\n",
            "    constraints : Size=6, Index=constraints_index, Active=True\n",
            "        Key : Lower : Body                                                                                                                      : Upper : Active\n",
            "          1 :   1.0 :     85.0*a[0] + 92.0*a[1] + 45.0*a[2] + 27.0*a[3] + 31.0*a[4] - 85.0*b[0] - 92.0*b[1] - 45.0*b[2] - 27.0*b[3] - 31.0*b[4] :  +Inf :   True\n",
            "          2 :   1.0 :       92.0*a[0] + 54.0*a[1] + 22.0*a[2] + 20.0*a[3] + 7.0*a[4] - 92.0*b[0] - 54.0*b[1] - 22.0*b[2] - 20.0*b[3] - 7.0*b[4] :  +Inf :   True\n",
            "          3 :   1.0 :     96.0*a[0] + 67.0*a[1] + 29.0*a[2] + 20.0*a[3] + 11.0*a[4] - 96.0*b[0] - 67.0*b[1] - 29.0*b[2] - 20.0*b[3] - 11.0*b[4] :  +Inf :   True\n",
            "          4 :   1.0 : - 91.0*a[0] - 57.0*a[1] - 33.0*a[2] - 23.0*a[3] - 12.0*a[4] + (91.0*b[0] + 57.0*b[1] + 33.0*b[2] + 23.0*b[3] + 12.0*b[4]) :  +Inf :   True\n",
            "          5 :   1.0 : - 99.0*a[0] - 75.0*a[1] - 26.0*a[2] - 24.0*a[3] - 41.0*a[4] + (99.0*b[0] + 75.0*b[1] + 26.0*b[2] + 24.0*b[3] + 41.0*b[4]) :  +Inf :   True\n",
            "          6 :   1.0 : - 98.0*a[0] - 99.0*a[1] - 57.0*a[2] - 45.0*a[3] - 65.0*a[4] + (98.0*b[0] + 99.0*b[1] + 57.0*b[2] + 45.0*b[3] + 65.0*b[4]) :  +Inf :   True\n",
            "\n",
            "7 Declarations: a_index a b_index b constraints_index constraints objective\n"
          ]
        }
      ]
    },
    {
      "cell_type": "markdown",
      "metadata": {
        "id": "SJusgp-M0h8q"
      },
      "source": [
        "**Ex 1 part 9**"
      ]
    },
    {
      "cell_type": "code",
      "metadata": {
        "colab": {
          "base_uri": "https://localhost:8080/"
        },
        "id": "XO45DONmzZ3F",
        "outputId": "17f1e6d5-fae0-4f44-eb34-e9251193bd75"
      },
      "source": [
        "result2 = opt_cbc.solve(model_lab6_OP2)\n",
        "print('Solver status:', result2.solver.status)\n",
        "print('Solver termination condition:',result2.solver.termination_condition)"
      ],
      "execution_count": null,
      "outputs": [
        {
          "output_type": "stream",
          "name": "stdout",
          "text": [
            "Solver status: ok\n",
            "Solver termination condition: optimal\n"
          ]
        }
      ]
    },
    {
      "cell_type": "markdown",
      "metadata": {
        "id": "YSM9qjMM0qc_"
      },
      "source": [
        "Yes the solver yields an optimal solution."
      ]
    },
    {
      "cell_type": "markdown",
      "metadata": {
        "id": "IqElR2u60rNK"
      },
      "source": [
        "**Ex 1 part 10**"
      ]
    },
    {
      "cell_type": "code",
      "metadata": {
        "colab": {
          "base_uri": "https://localhost:8080/"
        },
        "id": "cNwvOzfA0AAh",
        "outputId": "da934e10-a2c0-44db-f90e-2fdb30c777c9"
      },
      "source": [
        "# display solution\n",
        "print('\\nObjective = ', model_lab6_OP2.objective())\n",
        "\n",
        "print('\\nDecision Variables')\n",
        "for j in col_indices2_a:\n",
        "    print('a[',j,']:', model_lab6_OP2.a[j].value)\n",
        "\n",
        "for j in col_indices2_b:\n",
        "    print('b[',j,']:', model_lab6_OP2.b[j].value)\n",
        "\n",
        "print('\\nConstraints')\n",
        "model_lab6_OP2.constraints.display()"
      ],
      "execution_count": null,
      "outputs": [
        {
          "output_type": "stream",
          "name": "stdout",
          "text": [
            "\n",
            "Objective =  0.547955725\n",
            "\n",
            "Decision Variables\n",
            "a[ 0 ]: 0.0\n",
            "a[ 1 ]: 0.18612441\n",
            "a[ 2 ]: 0.0\n",
            "a[ 3 ]: 0.0\n",
            "a[ 4 ]: 0.0\n",
            "b[ 0 ]: 0.046448575\n",
            "b[ 1 ]: 0.0\n",
            "b[ 2 ]: 0.17131802\n",
            "b[ 3 ]: 0.0\n",
            "b[ 4 ]: 0.14406472\n",
            "\n",
            "Constraints\n",
            "constraints : Size=6\n",
            "    Key : Lower : Body               : Upper\n",
            "      1 :   1.0 :  0.999999625000001 :  None\n",
            "      2 :   1.0 : 0.9999997599999997 :  None\n",
            "      3 :   1.0 :         1.45833777 :  None\n",
            "      4 :   1.0 : 1.0000002549999998 :  None\n",
            "      5 :   1.0 :        1.000000215 :  None\n",
            "      6 :   1.0 :  5.254977699999998 :  None\n"
          ]
        }
      ]
    },
    {
      "cell_type": "markdown",
      "metadata": {
        "id": "mkczJbur03mO"
      },
      "source": [
        "**Ex 1 part 11**"
      ]
    },
    {
      "cell_type": "code",
      "metadata": {
        "colab": {
          "base_uri": "https://localhost:8080/"
        },
        "id": "iG9BU2CY0TJv",
        "outputId": "757cf906-a412-4767-ec89-71dc0c8da6da"
      },
      "source": [
        "for i in col_indices2_a:\n",
        "  print('x[',i,']=',model_lab6_OP2.a[i].value-model_lab6_OP2.b[i].value)"
      ],
      "execution_count": null,
      "outputs": [
        {
          "output_type": "stream",
          "name": "stdout",
          "text": [
            "x[ 0 ]= -0.046448575\n",
            "x[ 1 ]= 0.18612441\n",
            "x[ 2 ]= -0.17131802\n",
            "x[ 3 ]= 0.0\n",
            "x[ 4 ]= -0.14406472\n"
          ]
        }
      ]
    },
    {
      "cell_type": "markdown",
      "metadata": {
        "id": "5wVFPK03064s"
      },
      "source": [
        "**Ex 1 part 12**"
      ]
    },
    {
      "cell_type": "markdown",
      "metadata": {
        "id": "e8b29gT12RF2"
      },
      "source": [
        "The $x_i's$ in both OP1 and OP2 are getting exactly same values respectively with $i$ because both OP1 and OP2 are equivalent and in both cases $x_i's$ are defined to denote same quantity."
      ]
    }
  ]
}