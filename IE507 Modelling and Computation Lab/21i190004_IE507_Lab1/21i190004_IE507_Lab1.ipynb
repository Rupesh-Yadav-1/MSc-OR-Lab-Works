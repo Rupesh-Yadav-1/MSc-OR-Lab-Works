{
  "nbformat": 4,
  "nbformat_minor": 0,
  "metadata": {
    "colab": {
      "name": "21i190004_IE507_Lab1.ipynb",
      "provenance": [],
      "collapsed_sections": []
    },
    "kernelspec": {
      "name": "python3",
      "display_name": "Python 3"
    },
    "language_info": {
      "name": "python"
    }
  },
  "cells": [
    {
      "cell_type": "markdown",
      "metadata": {
        "id": "JhWAeq1qjWqS"
      },
      "source": [
        "#**Exercise 1**"
      ]
    },
    {
      "cell_type": "code",
      "metadata": {
        "id": "IvIkBtEpaEpf"
      },
      "source": [
        "!pip install -q pyomo\n",
        "from pyomo.environ import *"
      ],
      "execution_count": 1,
      "outputs": []
    },
    {
      "cell_type": "code",
      "metadata": {
        "id": "7Clap_6Qaw39"
      },
      "source": [
        "model=ConcreteModel()"
      ],
      "execution_count": 2,
      "outputs": []
    },
    {
      "cell_type": "code",
      "metadata": {
        "id": "zvvBy-DQbNRT"
      },
      "source": [
        "model.x1 = Var(domain=Reals)\n",
        "model.x2 = Var(domain=Reals)\n",
        "model.x3 = Var(domain=Reals)\n",
        "model.x4 = Var(domain=Reals)\n",
        "model.x5 = Var(domain=Reals)\n",
        "model.x6 = Var(domain=Reals)\n",
        "model.x7 = Var(domain=Reals)"
      ],
      "execution_count": 3,
      "outputs": []
    },
    {
      "cell_type": "code",
      "metadata": {
        "id": "kBjkpFjIbnsV"
      },
      "source": [
        "model.z = Objective(expr = 2*model.x1 - 5*model.x2 + 14*model.x3 + 7*model.x4 - 11*model.x5 + 0.17*model.x6 - 10.2*model.x7, sense=minimize)"
      ],
      "execution_count": 4,
      "outputs": []
    },
    {
      "cell_type": "code",
      "metadata": {
        "id": "mhESrVjZcZ_5"
      },
      "source": [
        "model.constr1 = Constraint(expr = model.x1+model.x2+model.x3+model.x4+model.x5+model.x6+model.x7==280)\n",
        "model.constr2 = Constraint(expr = model.x1-model.x2 >= 10)\n",
        "model.constr3 = Constraint(expr = model.x6-3*model.x3-3*model.x7 <= 205)\n",
        "model.constr4 = Constraint(expr = 20*model.x1+42*model.x6+model.x5 >= 35)\n",
        "model.constr5 = Constraint(expr = model.x2-model.x3+4*model.x7 >= 24)\n",
        "model.constr6 = Constraint(expr = model.x1 >= 12)\n",
        "model.constr7 = Constraint(expr = model.x2 >= 0)\n",
        "model.constr8 = Constraint(expr = model.x3 >= -5)\n",
        "model.constr9 = Constraint(expr = model.x4 >= 3)\n",
        "model.constr10= Constraint(expr = model.x5 >= 10)\n",
        "model.constr11= Constraint(expr = model.x6 >= -4)\n",
        "model.constr12= Constraint(expr = model.x7 >= 0)"
      ],
      "execution_count": 5,
      "outputs": []
    },
    {
      "cell_type": "code",
      "metadata": {
        "id": "ItPEnOAaeULb"
      },
      "source": [
        "!apt-get install -y -qq glpk-utils"
      ],
      "execution_count": 6,
      "outputs": []
    },
    {
      "cell_type": "code",
      "metadata": {
        "colab": {
          "base_uri": "https://localhost:8080/"
        },
        "id": "p1LoqIVfgtOC",
        "outputId": "dd119a35-e9b6-4396-acd9-ed9b19a81d0b"
      },
      "source": [
        "SolverFactory('glpk', executable='/usr/bin/glpsol').solve(model).write()"
      ],
      "execution_count": 7,
      "outputs": [
        {
          "output_type": "stream",
          "text": [
            "# ==========================================================\n",
            "# = Solver Results                                         =\n",
            "# ==========================================================\n",
            "# ----------------------------------------------------------\n",
            "#   Problem Information\n",
            "# ----------------------------------------------------------\n",
            "Problem: \n",
            "- Name: unknown\n",
            "  Lower bound: -3035.88\n",
            "  Upper bound: -3035.88\n",
            "  Number of objectives: 1\n",
            "  Number of constraints: 13\n",
            "  Number of variables: 8\n",
            "  Number of nonzeros: 26\n",
            "  Sense: minimize\n",
            "# ----------------------------------------------------------\n",
            "#   Solver Information\n",
            "# ----------------------------------------------------------\n",
            "Solver: \n",
            "- Status: ok\n",
            "  Termination condition: optimal\n",
            "  Statistics: \n",
            "    Branch and bound: \n",
            "      Number of bounded subproblems: 0\n",
            "      Number of created subproblems: 0\n",
            "  Error rc: 0\n",
            "  Time: 0.010447263717651367\n",
            "# ----------------------------------------------------------\n",
            "#   Solution Information\n",
            "# ----------------------------------------------------------\n",
            "Solution: \n",
            "- number of solutions: 0\n",
            "  number of solutions displayed: 0\n"
          ],
          "name": "stdout"
        }
      ]
    },
    {
      "cell_type": "code",
      "metadata": {
        "colab": {
          "base_uri": "https://localhost:8080/"
        },
        "id": "Z7MSj7jqg2WR",
        "outputId": "8045b35d-7011-4a69-e88e-ce0a4fee6476"
      },
      "source": [
        "print('\\nz = ', model.z())\n",
        "\n",
        "print('\\nDecision Variables')\n",
        "print('x1 = ', model.x1())\n",
        "print('x2 = ', model.x2())\n",
        "print('x3 = ', model.x3())\n",
        "print('x4 = ', model.x4())\n",
        "print('x5 = ', model.x5())\n",
        "print('x6 = ', model.x6())\n",
        "print('x7 = ', model.x7())\n",
        "\n",
        "print('\\nConstraints')\n",
        "print('Constraint 1  = ', model.constr1())\n",
        "print('Constraint 2  = ', model.constr2())\n",
        "print('Constraint 3  = ', model.constr3())\n",
        "print('Constraint 4  = ', model.constr4())"
      ],
      "execution_count": 8,
      "outputs": [
        {
          "output_type": "stream",
          "text": [
            "\n",
            "z =  -3035.8799999999997\n",
            "\n",
            "Decision Variables\n",
            "x1 =  12.0\n",
            "x2 =  0.0\n",
            "x3 =  -5.0\n",
            "x4 =  3.0\n",
            "x5 =  269.25\n",
            "x6 =  -4.0\n",
            "x7 =  4.75\n",
            "\n",
            "Constraints\n",
            "Constraint 1  =  280.0\n",
            "Constraint 2  =  12.0\n",
            "Constraint 3  =  -3.25\n",
            "Constraint 4  =  341.25\n"
          ],
          "name": "stdout"
        }
      ]
    },
    {
      "cell_type": "markdown",
      "metadata": {
        "id": "d62aG3rwkqHc"
      },
      "source": [
        "**Exercise 1 part 3** \\\\\n",
        "The optimal value is ** -3035.88**\n",
        "and the value of decision variables are as follows \\\\\n",
        "$x_1$ = 12, $x_2$ = 0, $x_3$ = -5, $x_4$ = 3, $x_5$ = 269.25, $x_6$ = -4, $x_7$ = 4.75"
      ]
    },
    {
      "cell_type": "markdown",
      "metadata": {
        "id": "mWMguZMKr6Xf"
      },
      "source": [
        "**Exercise 1 part 4** \\\\\n",
        "Activities of first four constraints respectively \\\\\n",
        "Value of LHS followed by whether equality holds or not.\n",
        "\n",
        "1.   280   , Equality holds\n",
        "2.   12    , Equality does not holds\n",
        "3.   -3.25 , Equality does not holds\n",
        "4.   341.25, Equality does not holds\n",
        "\n",
        "\n",
        "\n"
      ]
    },
    {
      "cell_type": "markdown",
      "metadata": {
        "id": "z1RLBIpLufvr"
      },
      "source": [
        "#**Exercise 2**"
      ]
    },
    {
      "cell_type": "markdown",
      "metadata": {
        "id": "H97s6p_TvGRW"
      },
      "source": [
        "During the construction of following linear problem i have assumed that $x_1-x_2+x_3-x_4+x_5 \\neq 0$ and also $x_1+x_2+x_3-x_5 \\neq 0$ because as if then multiplication by $x_1-x_2+x_3-x_4+x_5$ and $x_1+x_2+x_3-x_5$ in inequality 3 and 4 respectively will not be possible.\n",
        "\n",
        "So, the required linear problem is\n",
        "\n",
        "\n",
        "$\n",
        "\\max \\ 0.043x_1 + 0.027x_2 + 0.025x_3 + 0.022x_4 + 0.045x_5 - 0.0275y \\\\\n",
        "\\text{ s.t. } x_1+3x_2+x_3+7x_4+x_5-y \\ \\ \\leq 100, \\\\\n",
        "x_2+2x_3+4x_4 \\ \\ \\geq 60, \\\\ \n",
        "0.8x_1 - 4.8x_2 + 1.8x_3 - 3.8x_4 - 2.2x_5 \\geq 0, \\\\ \n",
        "x_1- 12x_2 - x_3 -3x_4 +5x_5 \\geq 0 \\\\\n",
        "y \\geq 0 \\\\\n",
        "y \\leq 2.25 \\\\\n",
        "x_1,x_2,x_3,x_4,x_5 \\geq 0\n",
        "$"
      ]
    },
    {
      "cell_type": "code",
      "metadata": {
        "id": "zekJKBdf2ck_"
      },
      "source": [
        "model2= ConcreteModel()"
      ],
      "execution_count": 9,
      "outputs": []
    },
    {
      "cell_type": "code",
      "metadata": {
        "id": "H89CxDNK2hYw"
      },
      "source": [
        "model2.x1 = Var(domain=Reals)\n",
        "model2.x2 = Var(domain=Reals)\n",
        "model2.x3 = Var(domain=Reals)\n",
        "model2.x4 = Var(domain=Reals)\n",
        "model2.x5 = Var(domain=Reals)\n",
        "model2.y  = Var(domain=Reals)"
      ],
      "execution_count": 10,
      "outputs": []
    },
    {
      "cell_type": "code",
      "metadata": {
        "id": "q0OYToDO3QQD"
      },
      "source": [
        "model2.z2 = Objective(expr = 0.043*model2.x1 + 0.027*model2.x2 + 0.025*model2.x3 + 0.022*model2.x4 + 0.045*model2.x5 - 0.0275*model2.y, sense = maximize)"
      ],
      "execution_count": 11,
      "outputs": []
    },
    {
      "cell_type": "code",
      "metadata": {
        "id": "c-rIFCT93S2c"
      },
      "source": [
        "model2.constr1 = Constraint(expr = model2.x1+3*model2.x2+model2.x3+7*model2.x4+model2.x5-model2.y <= 100)\n",
        "model2.constr2 = Constraint(expr = model2.x2+2*model2.x3+4*model2.x4 >= 60)\n",
        "model2.constr3 = Constraint(expr = 0.8*model2.x1-4.8*model2.x2+1.8*model2.x3-3.8*model2.x4-2.2*model2.x5 >= 0)\n",
        "model2.constr4 = Constraint(expr = model2.x1-12*model2.x2-model2.x3-3*model2.x4+5*model2.x5 >= 0)\n",
        "model2.constr5 = Constraint(expr = model2.y >= 0)\n",
        "model2.constr6 = Constraint(expr = model2.y <= 2.25)\n",
        "model2.constr7 = Constraint(expr = model2.x1 >= 0)\n",
        "model2.constr8 = Constraint(expr = model2.x2 >= 0)\n",
        "model2.constr9 = Constraint(expr = model2.x3 >= 0)\n",
        "model2.constr10= Constraint(expr = model2.x4 >= 0)\n",
        "model2.constr11= Constraint(expr = model2.x5 >= 0)\n"
      ],
      "execution_count": 12,
      "outputs": []
    },
    {
      "cell_type": "code",
      "metadata": {
        "id": "gzCoa82W6nin"
      },
      "source": [
        "!apt-get install -y -qq glpk-utils"
      ],
      "execution_count": 13,
      "outputs": []
    },
    {
      "cell_type": "code",
      "metadata": {
        "colab": {
          "base_uri": "https://localhost:8080/"
        },
        "id": "TkgfwbDG6h4J",
        "outputId": "519bf9ae-af68-4332-87fe-e06ee162f0db"
      },
      "source": [
        "SolverFactory('glpk', executable='/usr/bin/glpsol').solve(model2).write()"
      ],
      "execution_count": 14,
      "outputs": [
        {
          "output_type": "stream",
          "text": [
            "# ==========================================================\n",
            "# = Solver Results                                         =\n",
            "# ==========================================================\n",
            "# ----------------------------------------------------------\n",
            "#   Problem Information\n",
            "# ----------------------------------------------------------\n",
            "Problem: \n",
            "- Name: unknown\n",
            "  Lower bound: 3.86940833333333\n",
            "  Upper bound: 3.86940833333333\n",
            "  Number of objectives: 1\n",
            "  Number of constraints: 12\n",
            "  Number of variables: 7\n",
            "  Number of nonzeros: 27\n",
            "  Sense: maximize\n",
            "# ----------------------------------------------------------\n",
            "#   Solver Information\n",
            "# ----------------------------------------------------------\n",
            "Solver: \n",
            "- Status: ok\n",
            "  Termination condition: optimal\n",
            "  Statistics: \n",
            "    Branch and bound: \n",
            "      Number of bounded subproblems: 0\n",
            "      Number of created subproblems: 0\n",
            "  Error rc: 0\n",
            "  Time: 0.014746427536010742\n",
            "# ----------------------------------------------------------\n",
            "#   Solution Information\n",
            "# ----------------------------------------------------------\n",
            "Solution: \n",
            "- number of solutions: 0\n",
            "  number of solutions displayed: 0\n"
          ],
          "name": "stdout"
        }
      ]
    },
    {
      "cell_type": "code",
      "metadata": {
        "colab": {
          "base_uri": "https://localhost:8080/"
        },
        "id": "K1cODVVm6l73",
        "outputId": "ba8f043f-99ed-4923-e101-f0fb4af30031"
      },
      "source": [
        "print('\\nz2 = ', model2.z2())\n",
        "\n",
        "print('\\nDecision Variables')\n",
        "print('x1 = ', model2.x1())\n",
        "print('x2 = ', model2.x2())\n",
        "print('x3 = ', model2.x3())\n",
        "print('x4 = ', model2.x4())\n",
        "print('x5 = ', model2.x5())\n",
        "print('y = ', model2.y())\n",
        "\n",
        "print('\\nConstraints')\n",
        "print('Constraint 1  = ', model2.constr1())\n",
        "print('Constraint 2  = ', model2.constr2())\n",
        "print('Constraint 3  = ', model2.constr3())\n",
        "print('Constraint 4  = ', model2.constr4())\n",
        "print('Constraint 5  = ', model2.constr5())\n",
        "print('Constraint 6  = ', model2.constr6())\n",
        "print('Constraint 7  = ', model2.constr7())\n",
        "print('Constraint 8  = ', model2.constr8())\n",
        "print('Constraint 9  = ', model2.constr9())\n",
        "print('Constraint 10 = ', model2.constr10())\n",
        "print('Constraint 11 = ', model2.constr11())"
      ],
      "execution_count": 15,
      "outputs": [
        {
          "output_type": "stream",
          "text": [
            "\n",
            "z2 =  3.869408333333333\n",
            "\n",
            "Decision Variables\n",
            "x1 =  34.9833333333333\n",
            "x2 =  0.0\n",
            "x3 =  30.0\n",
            "x4 =  0.0\n",
            "x5 =  37.2666666666667\n",
            "y =  2.25\n",
            "\n",
            "Constraints\n",
            "Constraint 1  =  100.0\n",
            "Constraint 2  =  60.0\n",
            "Constraint 3  =  -1.1368683772161603e-13\n",
            "Constraint 4  =  191.3166666666668\n",
            "Constraint 5  =  2.25\n",
            "Constraint 6  =  2.25\n",
            "Constraint 7  =  34.9833333333333\n",
            "Constraint 8  =  0.0\n",
            "Constraint 9  =  30.0\n",
            "Constraint 10 =  0.0\n",
            "Constraint 11 =  37.2666666666667\n"
          ],
          "name": "stdout"
        }
      ]
    },
    {
      "cell_type": "markdown",
      "metadata": {
        "id": "4WMXBNdf9ajT"
      },
      "source": [
        "**Exercise 2 part 3** \\\\\n",
        "The optimal value is ** 3.87**\n",
        "and the value of decision variables are as follows \\\\\n",
        "$x_1$ = 34.983, $x_2$ = 0, $x_3$ = 30, $x_4$ = 0, $x_5$ = 37.267, $y$ = 2.25"
      ]
    },
    {
      "cell_type": "markdown",
      "metadata": {
        "id": "3D2EPskI99Ha"
      },
      "source": [
        "Activities of all constraints respectively \\\\\n",
        "Value of LHS followed by whether equality holds or not.\n",
        "\n",
        "1.   100       , Equality holds\n",
        "2.   60        , Equality holds\n",
        "3.   0 (approx), Equality holds\n",
        "4.   191.32    , Equality does not holds\n",
        "5.   2.25      , Equality does not holds\n",
        "6.   2.25      , Equality holds\n",
        "7.   34.98     , Equality does not holds\n",
        "8.   0         , Equality holds\n",
        "9.   30        , Equality does not holds\n",
        "10.  0         , Equality holds\n",
        "11.  37.27     , Equality does not holds"
      ]
    },
    {
      "cell_type": "markdown",
      "metadata": {
        "id": "hkNT1Hm2Hw5Z"
      },
      "source": [
        "**Exercise 2 part 4**\n",
        "\n"
      ]
    },
    {
      "cell_type": "markdown",
      "metadata": {
        "id": "YkgwLWa11FxH"
      },
      "source": [
        "We can introduce following few more constraints then there will be no need of assumption. Which are \\\\\n",
        "$x_1-x_2>=0$, $x_3-x_4>=0$, $x_3-x_5>=0$ \\\\\n",
        "Then the modified linear program will become \\\\\n",
        "$\n",
        "\\max \\ 0.043x_1 + 0.027x_2 + 0.025x_3 + 0.022x_4 + 0.045x_5 - 0.0275y \\\\\n",
        "\\text{ s.t. } x_1+3x_2+x_3+7x_4+x_5-y \\ \\ \\leq 100, \\\\\n",
        "x_2+2x_3+4x_4 \\ \\ \\geq 60, \\\\ \n",
        "0.8x_1 - 4.8x_2 + 1.8x_3 - 3.8x_4 - 2.2x_5 \\geq 0, \\\\ \n",
        "x_1- 12x_2 - x_3 -3x_4 +5x_5 \\geq 0 \\\\\n",
        "y \\geq 0 \\\\\n",
        "y \\leq 2.25 \\\\\n",
        "x_1-x_2>=0 \\\\\n",
        "x_3-x_4>=0 \\\\\n",
        "x_3-x_5>=0 \\\\\n",
        "x_1,x_2,x_3,x_4,x_5 \\geq 0\n",
        "$\n"
      ]
    },
    {
      "cell_type": "markdown",
      "metadata": {
        "id": "hHegW5050_1s"
      },
      "source": [
        "# **Exercise 3**"
      ]
    },
    {
      "cell_type": "markdown",
      "metadata": {
        "id": "RbOgrABc03C0"
      },
      "source": [
        "**Exercise 3 part 1**"
      ]
    },
    {
      "cell_type": "markdown",
      "metadata": {
        "id": "HUjsTHmJvOdr"
      },
      "source": [
        "Let us assume that the amount of product(in kg) P and Q going to be produced in september 2021 are x and y respectively. So, the total cost associated with the production will be $145x + 280y$. For minimizing this cost the required linear program is as follows \\\\\n",
        "$\n",
        "minimize \\ \\ 145x+280y \\\\\n",
        "sub \\ to \\ constraints \\\\\n",
        " x+y>= 110 \\ (As\\ combined\\ production\\ of\\ P\\ and\\ Q\\ should\\ be\\ at\\ least\\ 110) \\\\\n",
        " x>=84 \\ (for\\ satisfying\\ major\\ customer) \\\\\n",
        " y>=80 \\ (for\\ satisfying\\ major\\ customer) \\\\\n",
        " 1.15x+0.92y<=430 \\ (Time\\ constraint) \\\\\n",
        " x,y>=0 \\ (As\\ amount\\ of \\ items\\ produced\\ cannot\\ be\\ negative)\n",
        "$  "
      ]
    },
    {
      "cell_type": "code",
      "metadata": {
        "id": "DTz2M_JD1ZRK"
      },
      "source": [
        "model3 = ConcreteModel()\n",
        "model3.x = Var(domain=Reals)\n",
        "model3.y = Var(domain=Reals)\n",
        "model3.cost = Objective(expr = 145*model3.x + 280*model3.y, sense= minimize)"
      ],
      "execution_count": 16,
      "outputs": []
    },
    {
      "cell_type": "code",
      "metadata": {
        "id": "I_cFoTx32U8V"
      },
      "source": [
        "model3.constr1 = Constraint(expr = model3.x + model3.y >= 110)\n",
        "model3.constr2 = Constraint(expr = model3.x >= 84)\n",
        "model3.constr3 = Constraint(expr = model3.y >= 80)\n",
        "model3.constr4 = Constraint(expr = 1.15*model3.x + 0.92*model3.y <= 430)\n",
        "model3.constr5 = Constraint(expr = model3.x >= 0)\n",
        "model3.constr6 = Constraint(expr = model3.y >= 0)"
      ],
      "execution_count": 17,
      "outputs": []
    },
    {
      "cell_type": "code",
      "metadata": {
        "colab": {
          "base_uri": "https://localhost:8080/"
        },
        "id": "fRjbjM4C3OsD",
        "outputId": "55d912e8-fac2-41b5-e8a6-5515e34b8546"
      },
      "source": [
        "SolverFactory('glpk', executable='/usr/bin/glpsol').solve(model3).write()"
      ],
      "execution_count": 18,
      "outputs": [
        {
          "output_type": "stream",
          "text": [
            "# ==========================================================\n",
            "# = Solver Results                                         =\n",
            "# ==========================================================\n",
            "# ----------------------------------------------------------\n",
            "#   Problem Information\n",
            "# ----------------------------------------------------------\n",
            "Problem: \n",
            "- Name: unknown\n",
            "  Lower bound: 34580.0\n",
            "  Upper bound: 34580.0\n",
            "  Number of objectives: 1\n",
            "  Number of constraints: 7\n",
            "  Number of variables: 3\n",
            "  Number of nonzeros: 9\n",
            "  Sense: minimize\n",
            "# ----------------------------------------------------------\n",
            "#   Solver Information\n",
            "# ----------------------------------------------------------\n",
            "Solver: \n",
            "- Status: ok\n",
            "  Termination condition: optimal\n",
            "  Statistics: \n",
            "    Branch and bound: \n",
            "      Number of bounded subproblems: 0\n",
            "      Number of created subproblems: 0\n",
            "  Error rc: 0\n",
            "  Time: 0.011408329010009766\n",
            "# ----------------------------------------------------------\n",
            "#   Solution Information\n",
            "# ----------------------------------------------------------\n",
            "Solution: \n",
            "- number of solutions: 0\n",
            "  number of solutions displayed: 0\n"
          ],
          "name": "stdout"
        }
      ]
    },
    {
      "cell_type": "code",
      "metadata": {
        "colab": {
          "base_uri": "https://localhost:8080/"
        },
        "id": "v1sxRywl3YOl",
        "outputId": "75ac4f97-b7b7-4aba-8865-8034a6193336"
      },
      "source": [
        "print('\\nCost = ', model3.cost())\n",
        "\n",
        "print('\\nDecision Variables')\n",
        "print('x = ', model3.x())\n",
        "print('y = ', model3.y())\n",
        "\n",
        "print('\\nConstraints')\n",
        "print('Constraint 1  = ', model3.constr1())\n",
        "print('Constraint 2  = ', model3.constr2())\n",
        "print('Constraint 3  = ', model3.constr3())\n",
        "print('Constraint 4  = ', model3.constr4())\n",
        "print('Constraint 5  = ', model3.constr5())\n",
        "print('Constraint 6  = ', model3.constr6())"
      ],
      "execution_count": 19,
      "outputs": [
        {
          "output_type": "stream",
          "text": [
            "\n",
            "Cost =  34580.0\n",
            "\n",
            "Decision Variables\n",
            "x =  84.0\n",
            "y =  80.0\n",
            "\n",
            "Constraints\n",
            "Constraint 1  =  164.0\n",
            "Constraint 2  =  84.0\n",
            "Constraint 3  =  80.0\n",
            "Constraint 4  =  170.2\n",
            "Constraint 5  =  84.0\n",
            "Constraint 6  =  80.0\n"
          ],
          "name": "stdout"
        }
      ]
    },
    {
      "cell_type": "markdown",
      "metadata": {
        "id": "z0hYj3OR4F2w"
      },
      "source": [
        "**Exercise 3 part 3** \\\\\n",
        "The optimal value is ** 34580**\n",
        "and the value of decision variables are as follows \\\\\n",
        "$x$ = 84, $y$ =80"
      ]
    },
    {
      "cell_type": "markdown",
      "metadata": {
        "id": "9NN_qwzl4S6_"
      },
      "source": [
        "Activities of all constraints respectively \\\\\n",
        "Value of LHS followed by whether equality holds or not.\n",
        "\n",
        "1.   164       , Equality does not holds\n",
        "2.   84        , Equality holds\n",
        "3.   80, Equality holds\n",
        "4.   170.2    , Equality does not holds\n",
        "5.   84     , Equality does not holds\n",
        "6.   80      , Equality does not holds"
      ]
    },
    {
      "cell_type": "markdown",
      "metadata": {
        "id": "E_xFXQ7i5UEb"
      },
      "source": [
        "**Exercise 3 part 4** \\\\\n",
        "Due to a sudden demand of 102kg of product P and 117kg of poduct Q only constraint 2 and 3 will change. So the new problem become //\n",
        "$\n",
        "minimize \\ \\ 145x+280y \\\\\n",
        "sub \\ to \\ constraints \\\\\n",
        " x+y>= 110 \\ (As\\ combined\\ production\\ of\\ P\\ and\\ Q\\ should\\ be\\ at\\ least\\ 110) \\\\\n",
        " x>=186 \\ (for\\ satisfying\\ major\\ customer) \\\\\n",
        " y>=197 \\ (for\\ satisfying\\ major\\ customer) \\\\\n",
        " 1.15x+0.92y<=430 \\ (Time\\ constraint) \\\\\n",
        " x,y>=0 \\ (As\\ amount\\ of \\ items\\ produced\\ cannot\\ be\\ negative)\n",
        "$  "
      ]
    },
    {
      "cell_type": "code",
      "metadata": {
        "id": "R0Wp4tBB6IAT"
      },
      "source": [
        "model4 = ConcreteModel()\n",
        "model4.x = Var(domain=Reals)\n",
        "model4.y = Var(domain=Reals)\n",
        "model4.cost = Objective(expr = 145*model4.x + 280*model4.y, sense= minimize)"
      ],
      "execution_count": 20,
      "outputs": []
    },
    {
      "cell_type": "code",
      "metadata": {
        "id": "8rVb1Pzf6NcF"
      },
      "source": [
        "model4.constr1 = Constraint(expr = model4.x + model4.y >= 110)\n",
        "model4.constr2 = Constraint(expr = model4.x >= 186)\n",
        "model4.constr3 = Constraint(expr = model4.y >= 197)\n",
        "model4.constr4 = Constraint(expr = 1.15*model4.x + 0.92*model4.y <= 430)\n",
        "model4.constr5 = Constraint(expr = model4.x >= 0)\n",
        "model4.constr6 = Constraint(expr = model4.y >= 0)"
      ],
      "execution_count": 21,
      "outputs": []
    },
    {
      "cell_type": "code",
      "metadata": {
        "id": "jbVLpM3e7OXk"
      },
      "source": [
        "!apt-get install -y -qq glpk-utils"
      ],
      "execution_count": 22,
      "outputs": []
    },
    {
      "cell_type": "code",
      "metadata": {
        "colab": {
          "base_uri": "https://localhost:8080/"
        },
        "id": "k16xaNKc6N5M",
        "outputId": "824ed6bd-a264-440f-8524-8f894e195eac"
      },
      "source": [
        "SolverFactory('glpk', executable='/usr/bin/glpsol').solve(model4).write()"
      ],
      "execution_count": 23,
      "outputs": [
        {
          "output_type": "stream",
          "text": [
            "# ==========================================================\n",
            "# = Solver Results                                         =\n",
            "# ==========================================================\n",
            "# ----------------------------------------------------------\n",
            "#   Problem Information\n",
            "# ----------------------------------------------------------\n",
            "Problem: \n",
            "- Name: unknown\n",
            "  Lower bound: 82130.0\n",
            "  Upper bound: 82130.0\n",
            "  Number of objectives: 1\n",
            "  Number of constraints: 7\n",
            "  Number of variables: 3\n",
            "  Number of nonzeros: 9\n",
            "  Sense: minimize\n",
            "# ----------------------------------------------------------\n",
            "#   Solver Information\n",
            "# ----------------------------------------------------------\n",
            "Solver: \n",
            "- Status: ok\n",
            "  Termination condition: optimal\n",
            "  Statistics: \n",
            "    Branch and bound: \n",
            "      Number of bounded subproblems: 0\n",
            "      Number of created subproblems: 0\n",
            "  Error rc: 0\n",
            "  Time: 0.012555122375488281\n",
            "# ----------------------------------------------------------\n",
            "#   Solution Information\n",
            "# ----------------------------------------------------------\n",
            "Solution: \n",
            "- number of solutions: 0\n",
            "  number of solutions displayed: 0\n"
          ],
          "name": "stdout"
        }
      ]
    },
    {
      "cell_type": "code",
      "metadata": {
        "colab": {
          "base_uri": "https://localhost:8080/"
        },
        "id": "kxiciumL6Uho",
        "outputId": "1912fbd1-f506-414c-df7d-815b5fb3b62e"
      },
      "source": [
        "print('\\nCost = ', model4.cost())\n",
        "\n",
        "print('\\nDecision Variables')\n",
        "print('x = ', model4.x())\n",
        "print('y = ', model4.y())\n",
        "\n",
        "print('\\nConstraints')\n",
        "print('Constraint 1  = ', model4.constr1())\n",
        "print('Constraint 2  = ', model4.constr2())\n",
        "print('Constraint 3  = ', model4.constr3())\n",
        "print('Constraint 4  = ', model4.constr4())\n",
        "print('Constraint 5  = ', model4.constr5())\n",
        "print('Constraint 6  = ', model4.constr6())"
      ],
      "execution_count": 24,
      "outputs": [
        {
          "output_type": "stream",
          "text": [
            "\n",
            "Cost =  82130.0\n",
            "\n",
            "Decision Variables\n",
            "x =  186.0\n",
            "y =  197.0\n",
            "\n",
            "Constraints\n",
            "Constraint 1  =  383.0\n",
            "Constraint 2  =  186.0\n",
            "Constraint 3  =  197.0\n",
            "Constraint 4  =  395.14\n",
            "Constraint 5  =  186.0\n",
            "Constraint 6  =  197.0\n"
          ],
          "name": "stdout"
        }
      ]
    },
    {
      "cell_type": "markdown",
      "metadata": {
        "id": "1cPoY2n_9Ehj"
      },
      "source": [
        "**Exercise 3 part 6** \\\\\n",
        "The optimal value is ** 82130**\n",
        "and the value of decision variables are as follows \\\\\n",
        "$x$ = 186\n",
        ", $y$ =197"
      ]
    },
    {
      "cell_type": "markdown",
      "metadata": {
        "id": "4UKIv2od9RnA"
      },
      "source": [
        "Activities of all constraints respectively \\\\\n",
        "Value of LHS followed by whether equality holds or not.\n",
        "\n",
        "1.   383       , Equality does not holds\n",
        "2.   186        , Equality holds\n",
        "3.   197, Equality holds\n",
        "4.   395.14    , Equality does not holds\n",
        "5.   186     , Equality does not holds\n",
        "6.   197      , Equality does not holds"
      ]
    },
    {
      "cell_type": "markdown",
      "metadata": {
        "id": "G3qfruQq-CIA"
      },
      "source": [
        "Here the increased demand of P and Q just got added to the optimal values of P and Q obtained in part 3 and hence corrospondingly increased the optimal value of cost. \\\\\n",
        "I would tell Mapple industries that the new requirement has increased the cost linearly. And they should try to maximize the profit instead of minimizing the cost of production."
      ]
    }
  ]
}