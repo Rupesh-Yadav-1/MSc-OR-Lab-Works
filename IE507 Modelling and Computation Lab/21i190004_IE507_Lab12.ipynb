{
  "nbformat": 4,
  "nbformat_minor": 0,
  "metadata": {
    "colab": {
      "name": "21i190004_IE507_Lab12.ipynb",
      "provenance": [],
      "collapsed_sections": []
    },
    "kernelspec": {
      "name": "python3",
      "display_name": "Python 3"
    },
    "language_info": {
      "name": "python"
    }
  },
  "cells": [
    {
      "cell_type": "markdown",
      "metadata": {
        "id": "zJOeZAjY25PO"
      },
      "source": [
        "# Computing prob."
      ]
    },
    {
      "cell_type": "code",
      "metadata": {
        "id": "Wo2PXqGT2_BS"
      },
      "source": [
        "import numpy.random as rnd\n",
        "import numpy as np"
      ],
      "execution_count": 1,
      "outputs": []
    },
    {
      "cell_type": "code",
      "metadata": {
        "colab": {
          "base_uri": "https://localhost:8080/"
        },
        "id": "dN_d3SkF3eNp",
        "outputId": "e62c43a7-a486-4328-e241-a91d21063c11"
      },
      "source": [
        "count=0\n",
        "n=200000\n",
        "\n",
        "for i in range(n):\n",
        "  x=rnd.randint(1,6+1)\n",
        "  y=rnd.triangular(1,2,6)\n",
        "\n",
        "  if 2*x +y <= 10:\n",
        "    count=count+1\n",
        "\n",
        "print('Prob(2X+Y <= 10)=',count/n)"
      ],
      "execution_count": 2,
      "outputs": [
        {
          "output_type": "stream",
          "name": "stdout",
          "text": [
            "Prob(2X+Y <= 10)= 0.499835\n"
          ]
        }
      ]
    },
    {
      "cell_type": "markdown",
      "metadata": {
        "id": "CKuJWZ3U1q7X"
      },
      "source": [
        "# SimDynamicModels"
      ]
    },
    {
      "cell_type": "markdown",
      "metadata": {
        "id": "YxixoNOnVgrS"
      },
      "source": [
        "**Real Non-Linear Simple Pendulum**"
      ]
    },
    {
      "cell_type": "code",
      "metadata": {
        "id": "_4tO2FF-eSGY"
      },
      "source": [
        "import math \n",
        "import matplotlib.pyplot as plt\n",
        "from scipy.integrate import odeint"
      ],
      "execution_count": 3,
      "outputs": []
    },
    {
      "cell_type": "code",
      "metadata": {
        "colab": {
          "base_uri": "https://localhost:8080/",
          "height": 279
        },
        "id": "OvYQTQDjFtpD",
        "outputId": "74827219-1c43-41e0-c911-e3659bb2f6d0"
      },
      "source": [
        "# inputs\n",
        "g = 9.81\n",
        "L = 1\n",
        "b = 0.05\n",
        "m = 1\n",
        "\n",
        "# initial conditions in the form of vector\n",
        "Var0 = [0,3]   # (v, theta)\n",
        "\n",
        "# define the model\n",
        "def HM(Var, t, g, L, b, m):\n",
        "  v=Var[1]                         \n",
        "  theta=Var[0]\n",
        "  # enter the diff eqns:\n",
        "  dTheta_dt = v\n",
        "  dv_dt = -((b/m)*dTheta_dt) -(g*np.sin(2*np.pi*theta/360)/L)\n",
        "  return dTheta_dt, dv_dt\n",
        "\n",
        "# timespace\n",
        "t = np.linspace(0,240,200)  \n",
        "\n",
        "# simulate  \n",
        "Var = odeint(HM,Var0,t,args=(g,L,b,m))\n",
        "\n",
        "# plot the results\n",
        "plt.plot(t, Var[:,0], label='Angular velocity')\n",
        "plt.plot(t, Var[:,1], label='Angle')\n",
        "plt.legend()\n",
        "plt.xlabel('Time in seconds')\n",
        "plt.grid()"
      ],
      "execution_count": 4,
      "outputs": [
        {
          "output_type": "display_data",
          "data": {
            "image/png": "[encoded data removed]",
            "text/plain": [
              "<Figure size 432x288 with 1 Axes>"
            ]
          },
          "metadata": {
            "needs_background": "light"
          }
        }
      ]
    },
    {
      "cell_type": "markdown",
      "metadata": {
        "id": "YnSkx8Tk1XWj"
      },
      "source": [
        "**SIR EPIDEMIC MODEL(WITH LOSS OF IMMUNITY)**"
      ]
    },
    {
      "cell_type": "code",
      "metadata": {
        "colab": {
          "base_uri": "https://localhost:8080/",
          "height": 282
        },
        "id": "7oLifDM51VHF",
        "outputId": "5c44cb35-6c6a-4789-c4a1-a287b7e6e4f2"
      },
      "source": [
        "# inputs\n",
        "N=1000 # total popln\n",
        "beta, gamma, k = 0.4, 0.1, 60\n",
        "\n",
        "# initial condition (Susceptible, Infected, Recovered)\n",
        "I0,R0 = 1,0\n",
        "S0 = N - I0 - R0\n",
        "#the initial conditions as a vector\n",
        "y0 = S0, I0, R0\n",
        "\n",
        "# define the model\n",
        "def SIRmodel_modified(y, t, N, beta, gamma, k):\n",
        "  S,I,R=y\n",
        "  dS_dt=(R/k)-(beta*S*I/N)\n",
        "  dI_dt=(beta*S*I/N) - (gamma*I)\n",
        "  dR_dt=(gamma*I) - (R/k)\n",
        "  return dS_dt,dI_dt,dR_dt\n",
        "\n",
        "#timepoints\n",
        "t = np.linspace(0,160,1000)\n",
        "\n",
        "#simulate\n",
        "eqn=odeint(SIRmodel_modified, y0, t, args=(N,beta,gamma,k))\n",
        "\n",
        "S,I,R=eqn.T   #transpose to get the corresponding arrays\n",
        "\n",
        "#plot the results\n",
        "plt.plot(t,S,label='Susceptible')\n",
        "plt.plot(t,I,label='Infected')\n",
        "plt.plot(t,R,label='Recovered')\n",
        "plt.legend()\n",
        "plt.xlabel=('Days')\n",
        "plt.grid()\n",
        "print('Maximum number of infected people within this timespan: ', np.max(I))"
      ],
      "execution_count": 5,
      "outputs": [
        {
          "output_type": "stream",
          "name": "stdout",
          "text": [
            "Maximum number of infected people within this timespan:  416.1092942823787\n"
          ]
        },
        {
          "output_type": "display_data",
          "data": {
            "image/png": "[encoded data removed]",
            "text/plain": [
              "<Figure size 432x288 with 1 Axes>"
            ]
          },
          "metadata": {
            "needs_background": "light"
          }
        }
      ]
    },
    {
      "cell_type": "markdown",
      "metadata": {
        "id": "vbOURjq35sCc"
      },
      "source": [
        "# SimOptClass"
      ]
    },
    {
      "cell_type": "code",
      "metadata": {
        "id": "mZk8Xq7j5z4J"
      },
      "source": [
        "import numpy as np\n",
        "import numpy.random as rnd\n",
        "import matplotlib.pyplot as plt\n",
        "import random"
      ],
      "execution_count": 6,
      "outputs": []
    },
    {
      "cell_type": "code",
      "metadata": {
        "colab": {
          "base_uri": "https://localhost:8080/"
        },
        "id": "D7OqW1u8KQsR",
        "outputId": "8db473bc-0b64-413a-e6d3-aa0843a12b8e"
      },
      "source": [
        "# For Goldstein function\n",
        "def Goldstein(x1, x2):\n",
        "  z= (1 + (19 - 14*x1 + 3*x1**2 - 14*x2 + 6*x1*x2 + 3*x2**2)*((x1+x2+1)**2))*(30 + (18 - 32*x1 + 12*x1**2 + 48*x2 - 36*x1*x2 + 27*x2**2)*((2*x1 - 3*x2)**2))\n",
        "  return z\n",
        "\n",
        "N = 300000     # total number of points to be sampled\n",
        "D = 2          #dimension\n",
        "lb = -2\n",
        "ub = 2 \n",
        "\n",
        "X1=[rnd.uniform(lb,ub) for i in range(N)]\n",
        "X2=[rnd.uniform(lb,ub) for i in range(N)]\n",
        "Y=[Goldstein(X1[i],X2[i]) for i in range(N)]\n",
        "\n",
        "#display results\n",
        "print('Monte Carlo Simulation Optimization: ')\n",
        "print('Best Decision Variables: ', X1[np.argmin(Y)],X2[np.argmin(Y)])\n",
        "print('The best objective: ', min(Y))\n",
        "\n",
        "X_optimum = [0,-1]   #already known \n",
        "print('\\nKnown optimal decision variables:', X_optimum)\n",
        "print('Optimal objective value: ', Goldstein(X_optimum[0],X_optimum[1]))"
      ],
      "execution_count": 7,
      "outputs": [
        {
          "output_type": "stream",
          "name": "stdout",
          "text": [
            "Monte Carlo Simulation Optimization: \n",
            "Best Decision Variables:  -9.378943663351791e-05 -0.9983660971126582\n",
            "The best objective:  3.001185826923073\n",
            "\n",
            "Known optimal decision variables: [0, -1]\n",
            "Optimal objective value:  3\n"
          ]
        }
      ]
    },
    {
      "cell_type": "code",
      "metadata": {
        "colab": {
          "base_uri": "https://localhost:8080/"
        },
        "id": "EI1aGKjORT5f",
        "outputId": "18d189f2-babc-44e5-a742-0b6d35eddddc"
      },
      "source": [
        "# HIMMELBLAU FUNCTION\n",
        "def Himmelblau(x1, x2):\n",
        "  return (x1**2 + x2 - 11)**2 + (x1 + x2**2 - 7)**2\n",
        "\n",
        "R = 20       #replication number\n",
        "N = 200000   #number of points to be evaluated each time\n",
        "D = 2        #dimension\n",
        "lb = -5\n",
        "ub = 5\n",
        "Dec_Var = []\n",
        "obj = []\n",
        "for k in range(R):\n",
        "      X1 = [rnd.uniform(lb,ub) for i in range(N)]\n",
        "      X2 = [rnd.uniform(lb,ub) for i in range(N)]\n",
        "      Y = [Himmelblau(X1[i],X2[i]) for i in range(N)]\n",
        "\n",
        "      #display the results:\n",
        "      Dec_Var.append([round(X1[np.argmin(Y)],3),round(X2[np.argmin(Y)],3)])\n",
        "      obj.append(min(Y))\n",
        "for k in range(R):\n",
        "  print(str(k+1)+') Value of Decision Variables: ',Dec_Var[k],'AND  Objective Value: ',round(obj[k],4),)   \n",
        "print()\n",
        "\n",
        "#known solutions are:\n",
        "soln = [[3.0,2.0],[-2.805118,3.131312],[-3.77931,-3.28318],[3.584428,-1.848126]]\n",
        "eps = 0.05\n",
        "count = [0 for i in range(4)]\n",
        "\n",
        "# counting number of solutions close to each of the known solutions\n",
        "for k in range(R):\n",
        "  for i in range(4):\n",
        "    if Dec_Var[k][0] >= soln[i][0] - eps and Dec_Var[k][0] <= soln[i][0] + eps and Dec_Var[k][1] >= soln[i][1] - eps and Dec_Var[k][1] <= soln[i][1] + eps :\n",
        "      count[i] = count[i] + 1\n",
        "\n",
        "for i in range(4):\n",
        "  print('Number of Solutions close to ',soln[i],' is: ', count[i])"
      ],
      "execution_count": 9,
      "outputs": [
        {
          "output_type": "stream",
          "name": "stdout",
          "text": [
            "1) Value of Decision Variables:  [-2.81, 3.131] AND  Objective Value:  0.0007\n",
            "2) Value of Decision Variables:  [-3.775, -3.279] AND  Objective Value:  0.0014\n",
            "3) Value of Decision Variables:  [2.998, 1.996] AND  Objective Value:  0.0006\n",
            "4) Value of Decision Variables:  [3.005, 2.007] AND  Objective Value:  0.0023\n",
            "5) Value of Decision Variables:  [3.583, -1.851] AND  Objective Value:  0.0003\n",
            "6) Value of Decision Variables:  [-2.8, 3.134] AND  Objective Value:  0.0011\n",
            "7) Value of Decision Variables:  [3.0, 2.004] AND  Objective Value:  0.0003\n",
            "8) Value of Decision Variables:  [-3.782, -3.284] AND  Objective Value:  0.0006\n",
            "9) Value of Decision Variables:  [2.998, 1.994] AND  Objective Value:  0.0009\n",
            "10) Value of Decision Variables:  [3.583, -1.836] AND  Objective Value:  0.002\n",
            "11) Value of Decision Variables:  [2.999, 2.009] AND  Objective Value:  0.0011\n",
            "12) Value of Decision Variables:  [-2.809, 3.138] AND  Objective Value:  0.002\n",
            "13) Value of Decision Variables:  [3.0, 2.006] AND  Objective Value:  0.0006\n",
            "14) Value of Decision Variables:  [-3.775, -3.284] AND  Objective Value:  0.001\n",
            "15) Value of Decision Variables:  [-3.775, -3.286] AND  Objective Value:  0.0017\n",
            "16) Value of Decision Variables:  [3.004, 2.005] AND  Objective Value:  0.0016\n",
            "17) Value of Decision Variables:  [3.584, -1.849] AND  Objective Value:  0.0\n",
            "18) Value of Decision Variables:  [3.578, -1.842] AND  Objective Value:  0.0025\n",
            "19) Value of Decision Variables:  [3.009, 1.994] AND  Objective Value:  0.0028\n",
            "20) Value of Decision Variables:  [3.575, -1.845] AND  Objective Value:  0.005\n",
            "\n",
            "Number of Solutions close to  [3.0, 2.0]  is:  8\n",
            "Number of Solutions close to  [-2.805118, 3.131312]  is:  3\n",
            "Number of Solutions close to  [-3.77931, -3.28318]  is:  4\n",
            "Number of Solutions close to  [3.584428, -1.848126]  is:  5\n"
          ]
        }
      ]
    }
  ]
}