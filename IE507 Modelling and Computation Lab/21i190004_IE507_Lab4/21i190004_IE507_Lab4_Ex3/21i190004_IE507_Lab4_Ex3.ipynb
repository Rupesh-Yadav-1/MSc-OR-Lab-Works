{
  "nbformat": 4,
  "nbformat_minor": 0,
  "metadata": {
    "colab": {
      "name": "21i190004_IE507_Lab4_Ex3.ipynb",
      "provenance": [],
      "collapsed_sections": []
    },
    "kernelspec": {
      "name": "python3",
      "display_name": "Python 3"
    },
    "language_info": {
      "name": "python"
    }
  },
  "cells": [
    {
      "cell_type": "code",
      "metadata": {
        "id": "6eYyoFf5uhzZ"
      },
      "source": [
        "!pip install -q pyomo"
      ],
      "execution_count": 1,
      "outputs": []
    },
    {
      "cell_type": "markdown",
      "metadata": {
        "id": "jGIO7jRk4Qpr"
      },
      "source": [
        "**Ex 3 part 4** \\\\\n",
        "Let $x_i's$ be the number of drones of model i, where $i\\in \\{1,2,3,4,5\\}$ and $x_1$ is for number of drones of MANAS, $x_2$ is for JAY, $x_3$ is for VEER, $x_4$ is for SPASHT and $x_5$ is for DHAKSH. \\\\\n",
        "Now, as we want to maximize total carrying capacity. Hence, the Optimization model will be as follows \\\\\n",
        "$Maximize \\ \\  12x_1+14x_2+10x_3+15x_4+14x_5\\\\\n",
        "\\text{s.t.} \\ \\ \\ \\ \\ \\ \\ \\ \\ \\ \\ 6x_1+7.5x_2+9.5x_3+10x_4+12.5x_5 \\leq 59 \\\\\n",
        "\\ \\ \\ \\ \\ \\ 4.25x_1+3.25x_2+2.5x_3+3.45x_4+2.25x_5 \\leq 73 \\\\\n",
        "\\ \\ \\ \\ \\ \\ and\\ x_i's\\ will\\ be\\ non\\ negative\\ integers$"
      ]
    },
    {
      "cell_type": "code",
      "metadata": {
        "id": "jpEvBO-HuycU"
      },
      "source": [
        "from pyomo.environ import * "
      ],
      "execution_count": 2,
      "outputs": []
    },
    {
      "cell_type": "code",
      "metadata": {
        "id": "CI9kKB6Yu7Qp"
      },
      "source": [
        "import numpy as np"
      ],
      "execution_count": 3,
      "outputs": []
    },
    {
      "cell_type": "code",
      "metadata": {
        "id": "rw9g0OHUu9Zs"
      },
      "source": [
        "import pandas as pd"
      ],
      "execution_count": 4,
      "outputs": []
    },
    {
      "cell_type": "code",
      "metadata": {
        "id": "YaQaDA85vAhh"
      },
      "source": [
        "data_csvfile = pd.read_csv('coeff_csv.csv')"
      ],
      "execution_count": 5,
      "outputs": []
    },
    {
      "cell_type": "code",
      "metadata": {
        "colab": {
          "base_uri": "https://localhost:8080/"
        },
        "id": "aO871nCTvGnY",
        "outputId": "f7bd7241-9b74-4179-82b4-b42b774343e5"
      },
      "source": [
        "data_csvfile.columns"
      ],
      "execution_count": 6,
      "outputs": [
        {
          "output_type": "execute_result",
          "data": {
            "text/plain": [
              "Index(['model', 'capacity', 'cost', 'parkingspace'], dtype='object')"
            ]
          },
          "metadata": {},
          "execution_count": 6
        }
      ]
    },
    {
      "cell_type": "code",
      "metadata": {
        "colab": {
          "base_uri": "https://localhost:8080/"
        },
        "id": "NKs8ptR6vKVq",
        "outputId": "2ddad38f-e070-4c2a-e308-92f24fbe7638"
      },
      "source": [
        "data_csvfile['model']"
      ],
      "execution_count": 7,
      "outputs": [
        {
          "output_type": "execute_result",
          "data": {
            "text/plain": [
              "0     MANAS\n",
              "1       JAY\n",
              "2      VEER\n",
              "3    SPASHT\n",
              "4    DHAKSH\n",
              "Name: model, dtype: object"
            ]
          },
          "metadata": {},
          "execution_count": 7
        }
      ]
    },
    {
      "cell_type": "code",
      "metadata": {
        "colab": {
          "base_uri": "https://localhost:8080/"
        },
        "id": "UX1iN_sKvqGQ",
        "outputId": "724c46ff-e38f-4d49-a697-fdfd00031c70"
      },
      "source": [
        "data_csvfile.index"
      ],
      "execution_count": 8,
      "outputs": [
        {
          "output_type": "execute_result",
          "data": {
            "text/plain": [
              "RangeIndex(start=0, stop=5, step=1)"
            ]
          },
          "metadata": {},
          "execution_count": 8
        }
      ]
    },
    {
      "cell_type": "code",
      "metadata": {
        "colab": {
          "base_uri": "https://localhost:8080/"
        },
        "id": "nNxXeqFhv8Mq",
        "outputId": "80b6bd9d-face-4d34-ba76-85b55d00c057"
      },
      "source": [
        "len(data_csvfile.index)"
      ],
      "execution_count": 9,
      "outputs": [
        {
          "output_type": "execute_result",
          "data": {
            "text/plain": [
              "5"
            ]
          },
          "metadata": {},
          "execution_count": 9
        }
      ]
    },
    {
      "cell_type": "code",
      "metadata": {
        "id": "FWj9Y3uwv9Iw"
      },
      "source": [
        "# create a model\n",
        "model1_lab4_ex3 = ConcreteModel()"
      ],
      "execution_count": 10,
      "outputs": []
    },
    {
      "cell_type": "code",
      "metadata": {
        "id": "ESoMNIiNwDSw"
      },
      "source": [
        "# here N denotes no. of variables\n",
        "N = len(data_csvfile.index) "
      ],
      "execution_count": 11,
      "outputs": []
    },
    {
      "cell_type": "code",
      "metadata": {
        "id": "qhwobtirwYjc"
      },
      "source": [
        "M = 2 #no of constraints"
      ],
      "execution_count": 12,
      "outputs": []
    },
    {
      "cell_type": "code",
      "metadata": {
        "id": "XL_enMYjwhpS"
      },
      "source": [
        "col_indices = range(N)"
      ],
      "execution_count": 13,
      "outputs": []
    },
    {
      "cell_type": "code",
      "metadata": {
        "id": "U7-yDfVIwn2m"
      },
      "source": [
        "#declaring the decision variables in the model\n",
        "model1_lab4_ex3.x = Var(col_indices,domain=NonNegativeIntegers)"
      ],
      "execution_count": 14,
      "outputs": []
    },
    {
      "cell_type": "code",
      "metadata": {
        "id": "VbuulU7Mw877"
      },
      "source": [
        "#objection function\n",
        "model1_lab4_ex3.objective = Objective(expr=summation(data_csvfile['capacity'], model1_lab4_ex3.x),sense=maximize)"
      ],
      "execution_count": 15,
      "outputs": []
    },
    {
      "cell_type": "code",
      "metadata": {
        "id": "J82lROAyxSeC"
      },
      "source": [
        "model1_lab4_ex3.constraints = ConstraintList()"
      ],
      "execution_count": 16,
      "outputs": []
    },
    {
      "cell_type": "code",
      "metadata": {
        "colab": {
          "base_uri": "https://localhost:8080/"
        },
        "id": "JAAtLgMbxdqh",
        "outputId": "01083f7f-1ddd-47bc-a288-819484f03ceb"
      },
      "source": [
        "#Now we can add the cost constraint using the data obtained from the csv file\n",
        "model1_lab4_ex3.constraints.add(summation(data_csvfile['cost'], model1_lab4_ex3.x) <= 59)"
      ],
      "execution_count": 17,
      "outputs": [
        {
          "output_type": "execute_result",
          "data": {
            "text/plain": [
              "<pyomo.core.base.constraint._GeneralConstraintData at 0x7f4f8dd031a0>"
            ]
          },
          "metadata": {},
          "execution_count": 17
        }
      ]
    },
    {
      "cell_type": "code",
      "metadata": {
        "colab": {
          "base_uri": "https://localhost:8080/"
        },
        "id": "uzUNkUZpx0TR",
        "outputId": "77519759-22bd-4675-e8ce-6c61d52774b2"
      },
      "source": [
        "#Now we can add the parking space constraint using the data obtained from the csv file\n",
        "model1_lab4_ex3.constraints.add(summation(data_csvfile['parkingspace'], model1_lab4_ex3.x) <= 73)"
      ],
      "execution_count": 18,
      "outputs": [
        {
          "output_type": "execute_result",
          "data": {
            "text/plain": [
              "<pyomo.core.base.constraint._GeneralConstraintData at 0x7f4f8dd030c0>"
            ]
          },
          "metadata": {},
          "execution_count": 18
        }
      ]
    },
    {
      "cell_type": "code",
      "metadata": {
        "colab": {
          "base_uri": "https://localhost:8080/"
        },
        "id": "aSQJK5vlyEwU",
        "outputId": "46ade8dd-d4ab-44b0-a40b-66cabbc46fa8"
      },
      "source": [
        "model1_lab4_ex3.pprint()"
      ],
      "execution_count": 19,
      "outputs": [
        {
          "output_type": "stream",
          "text": [
            "2 Set Declarations\n",
            "    constraints_index : Size=1, Index=None, Ordered=Insertion\n",
            "        Key  : Dimen : Domain : Size : Members\n",
            "        None :     1 :    Any :    2 : {1, 2}\n",
            "    x_index : Size=1, Index=None, Ordered=False\n",
            "        Key  : Dimen : Domain : Size : Members\n",
            "        None :     1 :    Any :    5 : {0, 1, 2, 3, 4}\n",
            "\n",
            "1 Var Declarations\n",
            "    x : Size=5, Index=x_index\n",
            "        Key : Lower : Value : Upper : Fixed : Stale : Domain\n",
            "          0 :     0 :  None :  None : False :  True : NonNegativeIntegers\n",
            "          1 :     0 :  None :  None : False :  True : NonNegativeIntegers\n",
            "          2 :     0 :  None :  None : False :  True : NonNegativeIntegers\n",
            "          3 :     0 :  None :  None : False :  True : NonNegativeIntegers\n",
            "          4 :     0 :  None :  None : False :  True : NonNegativeIntegers\n",
            "\n",
            "1 Objective Declarations\n",
            "    objective : Size=1, Index=None, Active=True\n",
            "        Key  : Active : Sense    : Expression\n",
            "        None :   True : maximize : 12*x[0] + 14*x[1] + 10*x[2] + 15*x[3] + 14*x[4]\n",
            "\n",
            "1 Constraint Declarations\n",
            "    constraints : Size=2, Index=constraints_index, Active=True\n",
            "        Key : Lower : Body                                                     : Upper : Active\n",
            "          1 :  -Inf :   6.0*x[0] + 7.5*x[1] + 9.5*x[2] + 10.0*x[3] + 12.5*x[4] :  59.0 :   True\n",
            "          2 :  -Inf : 4.25*x[0] + 3.25*x[1] + 2.5*x[2] + 3.45*x[3] + 2.25*x[4] :  73.0 :   True\n",
            "\n",
            "5 Declarations: x_index x objective constraints_index constraints\n"
          ],
          "name": "stdout"
        }
      ]
    },
    {
      "cell_type": "code",
      "metadata": {
        "id": "IpqnTMS_ye21"
      },
      "source": [
        "!apt-get install -y -qq coinor-cbc"
      ],
      "execution_count": 20,
      "outputs": []
    },
    {
      "cell_type": "code",
      "metadata": {
        "id": "HlMc36aNyfW2"
      },
      "source": [
        "opt_cbc = SolverFactory('cbc')"
      ],
      "execution_count": 21,
      "outputs": []
    },
    {
      "cell_type": "code",
      "metadata": {
        "colab": {
          "base_uri": "https://localhost:8080/"
        },
        "id": "yrAAuEltyiDB",
        "outputId": "4ab168b0-e203-4088-8ef8-bd0990d5c72b"
      },
      "source": [
        "result = opt_cbc.solve(model1_lab4_ex3)\n",
        "print('Solver status:', result.solver.status)\n",
        "print('Solver termination condition:',result.solver.termination_condition)"
      ],
      "execution_count": 22,
      "outputs": [
        {
          "output_type": "stream",
          "text": [
            "Solver status: ok\n",
            "Solver termination condition: optimal\n"
          ],
          "name": "stdout"
        }
      ]
    },
    {
      "cell_type": "markdown",
      "metadata": {
        "id": "iZkxZOkA8tF6"
      },
      "source": [
        "**Ex 3 part 6**"
      ]
    },
    {
      "cell_type": "code",
      "metadata": {
        "colab": {
          "base_uri": "https://localhost:8080/"
        },
        "id": "s48sT-lky6mT",
        "outputId": "a9a44fbc-e04e-4812-81c0-8300948eb100"
      },
      "source": [
        "# display solution\n",
        "print('\\nObjective = ', model1_lab4_ex3.objective())\n",
        "\n",
        "print('\\nDecision Variables')\n",
        "for i in col_indices:\n",
        "  print('Num of drone ',data_csvfile['model'][i], model1_lab4_ex3.x[i].value)\n",
        "\n",
        "print('\\nConstraints')\n",
        "model1_lab4_ex3.constraints.display()"
      ],
      "execution_count": 23,
      "outputs": [
        {
          "output_type": "stream",
          "text": [
            "\n",
            "Objective =  114.0\n",
            "\n",
            "Decision Variables\n",
            "Num of drone  MANAS 6.0\n",
            "Num of drone  JAY 3.0\n",
            "Num of drone  VEER 0.0\n",
            "Num of drone  SPASHT 0.0\n",
            "Num of drone  DHAKSH 0.0\n",
            "\n",
            "Constraints\n",
            "constraints : Size=2\n",
            "    Key : Lower : Body  : Upper\n",
            "      1 :  None :  58.5 :  59.0\n",
            "      2 :  None : 35.25 :  73.0\n"
          ],
          "name": "stdout"
        }
      ]
    },
    {
      "cell_type": "code",
      "metadata": {
        "id": "yt1hu6ElzOas"
      },
      "source": [
        "for i in col_indices:\n",
        "  model1_lab4_ex3.x[i].domain=NonNegativeReals"
      ],
      "execution_count": 24,
      "outputs": []
    },
    {
      "cell_type": "code",
      "metadata": {
        "colab": {
          "base_uri": "https://localhost:8080/"
        },
        "id": "THIw7v0w0TVm",
        "outputId": "9a5ca75d-7ce0-48ba-e3a9-b11085afee10"
      },
      "source": [
        "model1_lab4_ex3.pprint()"
      ],
      "execution_count": 25,
      "outputs": [
        {
          "output_type": "stream",
          "text": [
            "2 Set Declarations\n",
            "    constraints_index : Size=1, Index=None, Ordered=Insertion\n",
            "        Key  : Dimen : Domain : Size : Members\n",
            "        None :     1 :    Any :    2 : {1, 2}\n",
            "    x_index : Size=1, Index=None, Ordered=False\n",
            "        Key  : Dimen : Domain : Size : Members\n",
            "        None :     1 :    Any :    5 : {0, 1, 2, 3, 4}\n",
            "\n",
            "1 Var Declarations\n",
            "    x : Size=5, Index=x_index\n",
            "        Key : Lower : Value : Upper : Fixed : Stale : Domain\n",
            "          0 :     0 :   6.0 :  None : False : False : NonNegativeReals\n",
            "          1 :     0 :   3.0 :  None : False : False : NonNegativeReals\n",
            "          2 :     0 :   0.0 :  None : False : False : NonNegativeReals\n",
            "          3 :     0 :   0.0 :  None : False : False : NonNegativeReals\n",
            "          4 :     0 :   0.0 :  None : False : False : NonNegativeReals\n",
            "\n",
            "1 Objective Declarations\n",
            "    objective : Size=1, Index=None, Active=True\n",
            "        Key  : Active : Sense    : Expression\n",
            "        None :   True : maximize : 12*x[0] + 14*x[1] + 10*x[2] + 15*x[3] + 14*x[4]\n",
            "\n",
            "1 Constraint Declarations\n",
            "    constraints : Size=2, Index=constraints_index, Active=True\n",
            "        Key : Lower : Body                                                     : Upper : Active\n",
            "          1 :  -Inf :   6.0*x[0] + 7.5*x[1] + 9.5*x[2] + 10.0*x[3] + 12.5*x[4] :  59.0 :   True\n",
            "          2 :  -Inf : 4.25*x[0] + 3.25*x[1] + 2.5*x[2] + 3.45*x[3] + 2.25*x[4] :  73.0 :   True\n",
            "\n",
            "5 Declarations: x_index x objective constraints_index constraints\n"
          ],
          "name": "stdout"
        }
      ]
    },
    {
      "cell_type": "code",
      "metadata": {
        "colab": {
          "base_uri": "https://localhost:8080/"
        },
        "id": "am_u14Xdz7Zy",
        "outputId": "6cba8250-fe91-4fc0-b5fc-6bb236a9ba9d"
      },
      "source": [
        "result1 = opt_cbc.solve(model1_lab4_ex3)\n",
        "print('Solver status:', result1.solver.status)\n",
        "print('Solver termination condition:',result1.solver.termination_condition)"
      ],
      "execution_count": 26,
      "outputs": [
        {
          "output_type": "stream",
          "text": [
            "Solver status: ok\n",
            "Solver termination condition: optimal\n"
          ],
          "name": "stdout"
        }
      ]
    },
    {
      "cell_type": "markdown",
      "metadata": {
        "id": "r_C5RMsn80Pj"
      },
      "source": [
        "**Ex 3 part 7**"
      ]
    },
    {
      "cell_type": "code",
      "metadata": {
        "colab": {
          "base_uri": "https://localhost:8080/"
        },
        "id": "6N66fmo-0F56",
        "outputId": "05ca6ded-fa76-4607-f22e-b2c230ca4234"
      },
      "source": [
        "# display solution\n",
        "print('\\nObjective = ', model1_lab4_ex3.objective())\n",
        "\n",
        "print('\\nDecision Variables')\n",
        "for i in col_indices:\n",
        "  print('Num of drone ',data_csvfile['model'][i], model1_lab4_ex3.x[i].value)\n",
        "\n",
        "print('\\nConstraints')\n",
        "model1_lab4_ex3.constraints.display()"
      ],
      "execution_count": 27,
      "outputs": [
        {
          "output_type": "stream",
          "text": [
            "\n",
            "Objective =  117.9999996\n",
            "\n",
            "Decision Variables\n",
            "Num of drone  MANAS 9.8333333\n",
            "Num of drone  JAY 0.0\n",
            "Num of drone  VEER 0.0\n",
            "Num of drone  SPASHT 0.0\n",
            "Num of drone  DHAKSH 0.0\n",
            "\n",
            "Constraints\n",
            "constraints : Size=2\n",
            "    Key : Lower : Body         : Upper\n",
            "      1 :  None :   58.9999998 :  59.0\n",
            "      2 :  None : 41.791666525 :  73.0\n"
          ],
          "name": "stdout"
        }
      ]
    },
    {
      "cell_type": "markdown",
      "metadata": {
        "id": "mwQ2sXsj87ca"
      },
      "source": [
        "**Ex 3 part 8**"
      ]
    },
    {
      "cell_type": "markdown",
      "metadata": {
        "id": "vcGLkwlmPrMa"
      },
      "source": [
        "No the solutions of MILP cannot be obtained by merely rounding of the solution of LP. Because the LP will try to assign max possible value(if allowed by parking constraint) to those model which has highest capacity to cost ratio and all other 0."
      ]
    },
    {
      "cell_type": "code",
      "metadata": {
        "colab": {
          "base_uri": "https://localhost:8080/"
        },
        "id": "HHy1kfDvR80C",
        "outputId": "f946bb14-8e46-4d5a-901e-023842b6d461"
      },
      "source": [
        "model1_lab4_ex3.constraints.add(summation(data_csvfile['cost'], model1_lab4_ex3.x) <= 71)\n",
        "model1_lab4_ex3.constraints.add(summation(data_csvfile['parkingspace'], model1_lab4_ex3.x) <= 87)"
      ],
      "execution_count": 28,
      "outputs": [
        {
          "output_type": "execute_result",
          "data": {
            "text/plain": [
              "<pyomo.core.base.constraint._GeneralConstraintData at 0x7f4f8dd03fa0>"
            ]
          },
          "metadata": {},
          "execution_count": 28
        }
      ]
    },
    {
      "cell_type": "code",
      "metadata": {
        "id": "vvIaGr0V0KEf"
      },
      "source": [
        "model1_lab4_ex3.constraints[1].deactivate()\n",
        "model1_lab4_ex3.constraints[2].deactivate()"
      ],
      "execution_count": 29,
      "outputs": []
    },
    {
      "cell_type": "code",
      "metadata": {
        "colab": {
          "base_uri": "https://localhost:8080/"
        },
        "id": "VnLmF7GPSMXn",
        "outputId": "e83b4a40-377a-4b61-9098-50f56052baa6"
      },
      "source": [
        "model1_lab4_ex3.pprint()"
      ],
      "execution_count": 30,
      "outputs": [
        {
          "output_type": "stream",
          "text": [
            "2 Set Declarations\n",
            "    constraints_index : Size=1, Index=None, Ordered=Insertion\n",
            "        Key  : Dimen : Domain : Size : Members\n",
            "        None :     1 :    Any :    4 : {1, 2, 3, 4}\n",
            "    x_index : Size=1, Index=None, Ordered=False\n",
            "        Key  : Dimen : Domain : Size : Members\n",
            "        None :     1 :    Any :    5 : {0, 1, 2, 3, 4}\n",
            "\n",
            "1 Var Declarations\n",
            "    x : Size=5, Index=x_index\n",
            "        Key : Lower : Value     : Upper : Fixed : Stale : Domain\n",
            "          0 :     0 : 9.8333333 :  None : False : False : NonNegativeReals\n",
            "          1 :     0 :       0.0 :  None : False : False : NonNegativeReals\n",
            "          2 :     0 :       0.0 :  None : False : False : NonNegativeReals\n",
            "          3 :     0 :       0.0 :  None : False : False : NonNegativeReals\n",
            "          4 :     0 :       0.0 :  None : False : False : NonNegativeReals\n",
            "\n",
            "1 Objective Declarations\n",
            "    objective : Size=1, Index=None, Active=True\n",
            "        Key  : Active : Sense    : Expression\n",
            "        None :   True : maximize : 12*x[0] + 14*x[1] + 10*x[2] + 15*x[3] + 14*x[4]\n",
            "\n",
            "1 Constraint Declarations\n",
            "    constraints : Size=4, Index=constraints_index, Active=True\n",
            "        Key : Lower : Body                                                     : Upper : Active\n",
            "          1 :  -Inf :   6.0*x[0] + 7.5*x[1] + 9.5*x[2] + 10.0*x[3] + 12.5*x[4] :  59.0 :  False\n",
            "          2 :  -Inf : 4.25*x[0] + 3.25*x[1] + 2.5*x[2] + 3.45*x[3] + 2.25*x[4] :  73.0 :  False\n",
            "          3 :  -Inf :   6.0*x[0] + 7.5*x[1] + 9.5*x[2] + 10.0*x[3] + 12.5*x[4] :  71.0 :   True\n",
            "          4 :  -Inf : 4.25*x[0] + 3.25*x[1] + 2.5*x[2] + 3.45*x[3] + 2.25*x[4] :  87.0 :   True\n",
            "\n",
            "5 Declarations: x_index x objective constraints_index constraints\n"
          ],
          "name": "stdout"
        }
      ]
    },
    {
      "cell_type": "markdown",
      "metadata": {
        "id": "uUDSRyvVSwG7"
      },
      "source": [
        "**Ex 3 part 9**"
      ]
    },
    {
      "cell_type": "markdown",
      "metadata": {
        "id": "6Ha_2H9qS1yS"
      },
      "source": [
        "Solving new LP"
      ]
    },
    {
      "cell_type": "code",
      "metadata": {
        "colab": {
          "base_uri": "https://localhost:8080/"
        },
        "id": "Wn8qZWQbSm2L",
        "outputId": "6c820aa4-cf06-4caa-d17e-2d3b7be3e15c"
      },
      "source": [
        "result2 = opt_cbc.solve(model1_lab4_ex3)\n",
        "print('Solver status:', result2.solver.status)\n",
        "print('Solver termination condition:',result2.solver.termination_condition)"
      ],
      "execution_count": 31,
      "outputs": [
        {
          "output_type": "stream",
          "text": [
            "Solver status: ok\n",
            "Solver termination condition: optimal\n"
          ],
          "name": "stdout"
        }
      ]
    },
    {
      "cell_type": "code",
      "metadata": {
        "colab": {
          "base_uri": "https://localhost:8080/"
        },
        "id": "24ZKg9RkS887",
        "outputId": "d96c477f-ab2c-4c6c-a6ea-efca22d6a8cf"
      },
      "source": [
        "# display solution\n",
        "print('\\nObjective = ', model1_lab4_ex3.objective())\n",
        "\n",
        "print('\\nDecision Variables')\n",
        "for i in col_indices:\n",
        "  print('Num of drone ',data_csvfile['model'][i], model1_lab4_ex3.x[i].value)\n",
        "\n",
        "print('\\nConstraints')\n",
        "model1_lab4_ex3.constraints.display()"
      ],
      "execution_count": 32,
      "outputs": [
        {
          "output_type": "stream",
          "text": [
            "\n",
            "Objective =  141.999996\n",
            "\n",
            "Decision Variables\n",
            "Num of drone  MANAS 11.833333\n",
            "Num of drone  JAY 0.0\n",
            "Num of drone  VEER 0.0\n",
            "Num of drone  SPASHT 0.0\n",
            "Num of drone  DHAKSH 0.0\n",
            "\n",
            "Constraints\n",
            "constraints : Size=4\n",
            "    Key : Lower : Body        : Upper\n",
            "      3 :  None :   70.999998 :  71.0\n",
            "      4 :  None : 50.29166525 :  87.0\n"
          ],
          "name": "stdout"
        }
      ]
    },
    {
      "cell_type": "markdown",
      "metadata": {
        "id": "iJ1z2kawUUrv"
      },
      "source": [
        "The optimal value of the new LP has increases and also the no. of drones of model which was non zero in previous LP has increased. "
      ]
    },
    {
      "cell_type": "markdown",
      "metadata": {
        "id": "FaKdy4SIS__M"
      },
      "source": [
        "Solving new MILP"
      ]
    },
    {
      "cell_type": "code",
      "metadata": {
        "id": "M6bL5bftS9fL"
      },
      "source": [
        "for i in col_indices:\n",
        "  model1_lab4_ex3.x[i].domain=NonNegativeIntegers"
      ],
      "execution_count": 33,
      "outputs": []
    },
    {
      "cell_type": "code",
      "metadata": {
        "colab": {
          "base_uri": "https://localhost:8080/"
        },
        "id": "iqwqNKP_TMw9",
        "outputId": "3d5d99f5-c820-4d52-b51e-b9f0ab39c175"
      },
      "source": [
        "model1_lab4_ex3.pprint()"
      ],
      "execution_count": 34,
      "outputs": [
        {
          "output_type": "stream",
          "text": [
            "2 Set Declarations\n",
            "    constraints_index : Size=1, Index=None, Ordered=Insertion\n",
            "        Key  : Dimen : Domain : Size : Members\n",
            "        None :     1 :    Any :    4 : {1, 2, 3, 4}\n",
            "    x_index : Size=1, Index=None, Ordered=False\n",
            "        Key  : Dimen : Domain : Size : Members\n",
            "        None :     1 :    Any :    5 : {0, 1, 2, 3, 4}\n",
            "\n",
            "1 Var Declarations\n",
            "    x : Size=5, Index=x_index\n",
            "        Key : Lower : Value     : Upper : Fixed : Stale : Domain\n",
            "          0 :     0 : 11.833333 :  None : False : False : NonNegativeIntegers\n",
            "          1 :     0 :       0.0 :  None : False : False : NonNegativeIntegers\n",
            "          2 :     0 :       0.0 :  None : False : False : NonNegativeIntegers\n",
            "          3 :     0 :       0.0 :  None : False : False : NonNegativeIntegers\n",
            "          4 :     0 :       0.0 :  None : False : False : NonNegativeIntegers\n",
            "\n",
            "1 Objective Declarations\n",
            "    objective : Size=1, Index=None, Active=True\n",
            "        Key  : Active : Sense    : Expression\n",
            "        None :   True : maximize : 12*x[0] + 14*x[1] + 10*x[2] + 15*x[3] + 14*x[4]\n",
            "\n",
            "1 Constraint Declarations\n",
            "    constraints : Size=4, Index=constraints_index, Active=True\n",
            "        Key : Lower : Body                                                     : Upper : Active\n",
            "          1 :  -Inf :   6.0*x[0] + 7.5*x[1] + 9.5*x[2] + 10.0*x[3] + 12.5*x[4] :  59.0 :  False\n",
            "          2 :  -Inf : 4.25*x[0] + 3.25*x[1] + 2.5*x[2] + 3.45*x[3] + 2.25*x[4] :  73.0 :  False\n",
            "          3 :  -Inf :   6.0*x[0] + 7.5*x[1] + 9.5*x[2] + 10.0*x[3] + 12.5*x[4] :  71.0 :   True\n",
            "          4 :  -Inf : 4.25*x[0] + 3.25*x[1] + 2.5*x[2] + 3.45*x[3] + 2.25*x[4] :  87.0 :   True\n",
            "\n",
            "5 Declarations: x_index x objective constraints_index constraints\n"
          ],
          "name": "stdout"
        }
      ]
    },
    {
      "cell_type": "code",
      "metadata": {
        "colab": {
          "base_uri": "https://localhost:8080/"
        },
        "id": "ZyDQPV1ZUGvc",
        "outputId": "e62ca6a2-4c7d-439f-be39-a14696ee326d"
      },
      "source": [
        "result3 = opt_cbc.solve(model1_lab4_ex3)\n",
        "print('Solver status:', result3.solver.status)\n",
        "print('Solver termination condition:',result3.solver.termination_condition)"
      ],
      "execution_count": 35,
      "outputs": [
        {
          "output_type": "stream",
          "text": [
            "Solver status: ok\n",
            "Solver termination condition: optimal\n"
          ],
          "name": "stdout"
        }
      ]
    },
    {
      "cell_type": "code",
      "metadata": {
        "colab": {
          "base_uri": "https://localhost:8080/"
        },
        "id": "R9vQbzDlTSwD",
        "outputId": "8b236031-f7e8-43db-b8f3-344434c8aac2"
      },
      "source": [
        "# display solution\n",
        "print('\\nObjective = ', model1_lab4_ex3.objective())\n",
        "\n",
        "print('\\nDecision Variables')\n",
        "for i in col_indices:\n",
        "  print('Num of drone ',data_csvfile['model'][i], model1_lab4_ex3.x[i].value)\n",
        "\n",
        "print('\\nConstraints')\n",
        "model1_lab4_ex3.constraints.display()"
      ],
      "execution_count": 36,
      "outputs": [
        {
          "output_type": "stream",
          "text": [
            "\n",
            "Objective =  138.0\n",
            "\n",
            "Decision Variables\n",
            "Num of drone  MANAS 8.0\n",
            "Num of drone  JAY 3.0\n",
            "Num of drone  VEER 0.0\n",
            "Num of drone  SPASHT 0.0\n",
            "Num of drone  DHAKSH 0.0\n",
            "\n",
            "Constraints\n",
            "constraints : Size=4\n",
            "    Key : Lower : Body  : Upper\n",
            "      3 :  None :  70.5 :  71.0\n",
            "      4 :  None : 43.75 :  87.0\n"
          ],
          "name": "stdout"
        }
      ]
    },
    {
      "cell_type": "markdown",
      "metadata": {
        "id": "sBWeaLNaU1hn"
      },
      "source": [
        "The optimal objective value has increased and no. of drones of MANAS has increased."
      ]
    },
    {
      "cell_type": "markdown",
      "metadata": {
        "id": "lf2n_n1yXa6j"
      },
      "source": [
        "**Ex 3 part 10**"
      ]
    },
    {
      "cell_type": "markdown",
      "metadata": {
        "id": "Qy3Rxh5YVk3_"
      },
      "source": [
        "**Solving for first given pair**"
      ]
    },
    {
      "cell_type": "code",
      "metadata": {
        "id": "Scod7XZmTXkl"
      },
      "source": [
        "model1_lab4_ex3.constraints[3].deactivate()\n",
        "model1_lab4_ex3.constraints[4].deactivate()"
      ],
      "execution_count": 37,
      "outputs": []
    },
    {
      "cell_type": "markdown",
      "metadata": {
        "id": "J_Zkce-tWVQ7"
      },
      "source": [
        "Solvng MILP"
      ]
    },
    {
      "cell_type": "code",
      "metadata": {
        "colab": {
          "base_uri": "https://localhost:8080/"
        },
        "id": "utrWAFnpVpsP",
        "outputId": "ba0111c5-2822-4525-827a-e45e6df576a9"
      },
      "source": [
        "model1_lab4_ex3.constraints.add(summation(data_csvfile['cost'], model1_lab4_ex3.x) <= 67)\n",
        "model1_lab4_ex3.constraints.add(summation(data_csvfile['parkingspace'], model1_lab4_ex3.x) <= 88)\n",
        "model1_lab4_ex3.pprint()"
      ],
      "execution_count": 38,
      "outputs": [
        {
          "output_type": "stream",
          "text": [
            "2 Set Declarations\n",
            "    constraints_index : Size=1, Index=None, Ordered=Insertion\n",
            "        Key  : Dimen : Domain : Size : Members\n",
            "        None :     1 :    Any :    6 : {1, 2, 3, 4, 5, 6}\n",
            "    x_index : Size=1, Index=None, Ordered=False\n",
            "        Key  : Dimen : Domain : Size : Members\n",
            "        None :     1 :    Any :    5 : {0, 1, 2, 3, 4}\n",
            "\n",
            "1 Var Declarations\n",
            "    x : Size=5, Index=x_index\n",
            "        Key : Lower : Value : Upper : Fixed : Stale : Domain\n",
            "          0 :     0 :   8.0 :  None : False : False : NonNegativeIntegers\n",
            "          1 :     0 :   3.0 :  None : False : False : NonNegativeIntegers\n",
            "          2 :     0 :   0.0 :  None : False : False : NonNegativeIntegers\n",
            "          3 :     0 :   0.0 :  None : False : False : NonNegativeIntegers\n",
            "          4 :     0 :   0.0 :  None : False : False : NonNegativeIntegers\n",
            "\n",
            "1 Objective Declarations\n",
            "    objective : Size=1, Index=None, Active=True\n",
            "        Key  : Active : Sense    : Expression\n",
            "        None :   True : maximize : 12*x[0] + 14*x[1] + 10*x[2] + 15*x[3] + 14*x[4]\n",
            "\n",
            "1 Constraint Declarations\n",
            "    constraints : Size=6, Index=constraints_index, Active=True\n",
            "        Key : Lower : Body                                                     : Upper : Active\n",
            "          1 :  -Inf :   6.0*x[0] + 7.5*x[1] + 9.5*x[2] + 10.0*x[3] + 12.5*x[4] :  59.0 :  False\n",
            "          2 :  -Inf : 4.25*x[0] + 3.25*x[1] + 2.5*x[2] + 3.45*x[3] + 2.25*x[4] :  73.0 :  False\n",
            "          3 :  -Inf :   6.0*x[0] + 7.5*x[1] + 9.5*x[2] + 10.0*x[3] + 12.5*x[4] :  71.0 :  False\n",
            "          4 :  -Inf : 4.25*x[0] + 3.25*x[1] + 2.5*x[2] + 3.45*x[3] + 2.25*x[4] :  87.0 :  False\n",
            "          5 :  -Inf :   6.0*x[0] + 7.5*x[1] + 9.5*x[2] + 10.0*x[3] + 12.5*x[4] :  67.0 :   True\n",
            "          6 :  -Inf : 4.25*x[0] + 3.25*x[1] + 2.5*x[2] + 3.45*x[3] + 2.25*x[4] :  88.0 :   True\n",
            "\n",
            "5 Declarations: x_index x objective constraints_index constraints\n"
          ],
          "name": "stdout"
        }
      ]
    },
    {
      "cell_type": "code",
      "metadata": {
        "colab": {
          "base_uri": "https://localhost:8080/"
        },
        "id": "hGvC5mDQXRuV",
        "outputId": "21cb739c-5459-45ab-f39d-a93dfcd20d0b"
      },
      "source": [
        "result3 = opt_cbc.solve(model1_lab4_ex3)\n",
        "print('Solver status:', result3.solver.status)\n",
        "print('Solver termination condition:',result3.solver.termination_condition)\n",
        "\n",
        "# display solution\n",
        "print('\\nObjective = ', model1_lab4_ex3.objective())\n",
        "\n",
        "print('\\nDecision Variables')\n",
        "for i in col_indices:\n",
        "  print('Num of drone ',data_csvfile['model'][i], model1_lab4_ex3.x[i].value)\n",
        "\n",
        "print('\\nConstraints')\n",
        "model1_lab4_ex3.constraints.display()"
      ],
      "execution_count": 39,
      "outputs": [
        {
          "output_type": "stream",
          "text": [
            "Solver status: ok\n",
            "Solver termination condition: optimal\n",
            "\n",
            "Objective =  132.0\n",
            "\n",
            "Decision Variables\n",
            "Num of drone  MANAS 11.0\n",
            "Num of drone  JAY 0.0\n",
            "Num of drone  VEER 0.0\n",
            "Num of drone  SPASHT 0.0\n",
            "Num of drone  DHAKSH 0.0\n",
            "\n",
            "Constraints\n",
            "constraints : Size=6\n",
            "    Key : Lower : Body  : Upper\n",
            "      5 :  None :  66.0 :  67.0\n",
            "      6 :  None : 46.75 :  88.0\n"
          ],
          "name": "stdout"
        }
      ]
    },
    {
      "cell_type": "markdown",
      "metadata": {
        "id": "BUkH189ZXCvl"
      },
      "source": [
        "Solving LP"
      ]
    },
    {
      "cell_type": "code",
      "metadata": {
        "id": "i2qvZ1x-XFNK"
      },
      "source": [
        "for i in col_indices:\n",
        "  model1_lab4_ex3.x[i].domain=NonNegativeReals"
      ],
      "execution_count": 40,
      "outputs": []
    },
    {
      "cell_type": "code",
      "metadata": {
        "colab": {
          "base_uri": "https://localhost:8080/"
        },
        "id": "u7xglm-jXGpt",
        "outputId": "d7611284-adf5-4e79-95c3-5dcff8b2af02"
      },
      "source": [
        "model1_lab4_ex3.pprint()"
      ],
      "execution_count": 41,
      "outputs": [
        {
          "output_type": "stream",
          "text": [
            "2 Set Declarations\n",
            "    constraints_index : Size=1, Index=None, Ordered=Insertion\n",
            "        Key  : Dimen : Domain : Size : Members\n",
            "        None :     1 :    Any :    6 : {1, 2, 3, 4, 5, 6}\n",
            "    x_index : Size=1, Index=None, Ordered=False\n",
            "        Key  : Dimen : Domain : Size : Members\n",
            "        None :     1 :    Any :    5 : {0, 1, 2, 3, 4}\n",
            "\n",
            "1 Var Declarations\n",
            "    x : Size=5, Index=x_index\n",
            "        Key : Lower : Value : Upper : Fixed : Stale : Domain\n",
            "          0 :     0 :  11.0 :  None : False : False : NonNegativeReals\n",
            "          1 :     0 :   0.0 :  None : False : False : NonNegativeReals\n",
            "          2 :     0 :   0.0 :  None : False : False : NonNegativeReals\n",
            "          3 :     0 :   0.0 :  None : False : False : NonNegativeReals\n",
            "          4 :     0 :   0.0 :  None : False : False : NonNegativeReals\n",
            "\n",
            "1 Objective Declarations\n",
            "    objective : Size=1, Index=None, Active=True\n",
            "        Key  : Active : Sense    : Expression\n",
            "        None :   True : maximize : 12*x[0] + 14*x[1] + 10*x[2] + 15*x[3] + 14*x[4]\n",
            "\n",
            "1 Constraint Declarations\n",
            "    constraints : Size=6, Index=constraints_index, Active=True\n",
            "        Key : Lower : Body                                                     : Upper : Active\n",
            "          1 :  -Inf :   6.0*x[0] + 7.5*x[1] + 9.5*x[2] + 10.0*x[3] + 12.5*x[4] :  59.0 :  False\n",
            "          2 :  -Inf : 4.25*x[0] + 3.25*x[1] + 2.5*x[2] + 3.45*x[3] + 2.25*x[4] :  73.0 :  False\n",
            "          3 :  -Inf :   6.0*x[0] + 7.5*x[1] + 9.5*x[2] + 10.0*x[3] + 12.5*x[4] :  71.0 :  False\n",
            "          4 :  -Inf : 4.25*x[0] + 3.25*x[1] + 2.5*x[2] + 3.45*x[3] + 2.25*x[4] :  87.0 :  False\n",
            "          5 :  -Inf :   6.0*x[0] + 7.5*x[1] + 9.5*x[2] + 10.0*x[3] + 12.5*x[4] :  67.0 :   True\n",
            "          6 :  -Inf : 4.25*x[0] + 3.25*x[1] + 2.5*x[2] + 3.45*x[3] + 2.25*x[4] :  88.0 :   True\n",
            "\n",
            "5 Declarations: x_index x objective constraints_index constraints\n"
          ],
          "name": "stdout"
        }
      ]
    },
    {
      "cell_type": "code",
      "metadata": {
        "colab": {
          "base_uri": "https://localhost:8080/"
        },
        "id": "qlxOcCA2Xo9_",
        "outputId": "1364e3ee-581e-45e9-d15e-09d4aee7e866"
      },
      "source": [
        "result3 = opt_cbc.solve(model1_lab4_ex3)\n",
        "print('Solver status:', result3.solver.status)\n",
        "print('Solver termination condition:',result3.solver.termination_condition)\n",
        "\n",
        "# display solution\n",
        "print('\\nObjective = ', model1_lab4_ex3.objective())\n",
        "\n",
        "print('\\nDecision Variables')\n",
        "for i in col_indices:\n",
        "  print('Num of drone ',data_csvfile['model'][i], model1_lab4_ex3.x[i].value)\n",
        "\n",
        "print('\\nConstraints')\n",
        "model1_lab4_ex3.constraints.display()"
      ],
      "execution_count": 42,
      "outputs": [
        {
          "output_type": "stream",
          "text": [
            "Solver status: ok\n",
            "Solver termination condition: optimal\n",
            "\n",
            "Objective =  134.000004\n",
            "\n",
            "Decision Variables\n",
            "Num of drone  MANAS 11.166667\n",
            "Num of drone  JAY 0.0\n",
            "Num of drone  VEER 0.0\n",
            "Num of drone  SPASHT 0.0\n",
            "Num of drone  DHAKSH 0.0\n",
            "\n",
            "Constraints\n",
            "constraints : Size=6\n",
            "    Key : Lower : Body        : Upper\n",
            "      5 :  None :   67.000002 :  67.0\n",
            "      6 :  None : 47.45833475 :  88.0\n"
          ],
          "name": "stdout"
        }
      ]
    },
    {
      "cell_type": "markdown",
      "metadata": {
        "id": "TIqP6EItYJbi"
      },
      "source": [
        "**Solving for second given pair.**"
      ]
    },
    {
      "cell_type": "markdown",
      "metadata": {
        "id": "EQD8hVDSaXd9"
      },
      "source": [
        "Solving LP"
      ]
    },
    {
      "cell_type": "code",
      "metadata": {
        "colab": {
          "base_uri": "https://localhost:8080/"
        },
        "id": "OC3nIq0HYKVG",
        "outputId": "84cce443-d38d-47c1-af56-8ae3ac4907af"
      },
      "source": [
        "model1_lab4_ex3.constraints[5].deactivate()\n",
        "model1_lab4_ex3.constraints[6].deactivate()\n",
        "model1_lab4_ex3.constraints.add(summation(data_csvfile['cost'], model1_lab4_ex3.x) <= 65)\n",
        "model1_lab4_ex3.constraints.add(summation(data_csvfile['parkingspace'], model1_lab4_ex3.x) <= 89)\n",
        "model1_lab4_ex3.pprint()"
      ],
      "execution_count": 43,
      "outputs": [
        {
          "output_type": "stream",
          "text": [
            "2 Set Declarations\n",
            "    constraints_index : Size=1, Index=None, Ordered=Insertion\n",
            "        Key  : Dimen : Domain : Size : Members\n",
            "        None :     1 :    Any :    8 : {1, 2, 3, 4, 5, 6, 7, 8}\n",
            "    x_index : Size=1, Index=None, Ordered=False\n",
            "        Key  : Dimen : Domain : Size : Members\n",
            "        None :     1 :    Any :    5 : {0, 1, 2, 3, 4}\n",
            "\n",
            "1 Var Declarations\n",
            "    x : Size=5, Index=x_index\n",
            "        Key : Lower : Value     : Upper : Fixed : Stale : Domain\n",
            "          0 :     0 : 11.166667 :  None : False : False : NonNegativeReals\n",
            "          1 :     0 :       0.0 :  None : False : False : NonNegativeReals\n",
            "          2 :     0 :       0.0 :  None : False : False : NonNegativeReals\n",
            "          3 :     0 :       0.0 :  None : False : False : NonNegativeReals\n",
            "          4 :     0 :       0.0 :  None : False : False : NonNegativeReals\n",
            "\n",
            "1 Objective Declarations\n",
            "    objective : Size=1, Index=None, Active=True\n",
            "        Key  : Active : Sense    : Expression\n",
            "        None :   True : maximize : 12*x[0] + 14*x[1] + 10*x[2] + 15*x[3] + 14*x[4]\n",
            "\n",
            "1 Constraint Declarations\n",
            "    constraints : Size=8, Index=constraints_index, Active=True\n",
            "        Key : Lower : Body                                                     : Upper : Active\n",
            "          1 :  -Inf :   6.0*x[0] + 7.5*x[1] + 9.5*x[2] + 10.0*x[3] + 12.5*x[4] :  59.0 :  False\n",
            "          2 :  -Inf : 4.25*x[0] + 3.25*x[1] + 2.5*x[2] + 3.45*x[3] + 2.25*x[4] :  73.0 :  False\n",
            "          3 :  -Inf :   6.0*x[0] + 7.5*x[1] + 9.5*x[2] + 10.0*x[3] + 12.5*x[4] :  71.0 :  False\n",
            "          4 :  -Inf : 4.25*x[0] + 3.25*x[1] + 2.5*x[2] + 3.45*x[3] + 2.25*x[4] :  87.0 :  False\n",
            "          5 :  -Inf :   6.0*x[0] + 7.5*x[1] + 9.5*x[2] + 10.0*x[3] + 12.5*x[4] :  67.0 :  False\n",
            "          6 :  -Inf : 4.25*x[0] + 3.25*x[1] + 2.5*x[2] + 3.45*x[3] + 2.25*x[4] :  88.0 :  False\n",
            "          7 :  -Inf :   6.0*x[0] + 7.5*x[1] + 9.5*x[2] + 10.0*x[3] + 12.5*x[4] :  65.0 :   True\n",
            "          8 :  -Inf : 4.25*x[0] + 3.25*x[1] + 2.5*x[2] + 3.45*x[3] + 2.25*x[4] :  89.0 :   True\n",
            "\n",
            "5 Declarations: x_index x objective constraints_index constraints\n"
          ],
          "name": "stdout"
        }
      ]
    },
    {
      "cell_type": "code",
      "metadata": {
        "colab": {
          "base_uri": "https://localhost:8080/"
        },
        "id": "og9cJmL7ahGi",
        "outputId": "49f85b65-21e1-40f3-8285-1d01225796a2"
      },
      "source": [
        "result3 = opt_cbc.solve(model1_lab4_ex3)\n",
        "print('Solver status:', result3.solver.status)\n",
        "print('Solver termination condition:',result3.solver.termination_condition)\n",
        "\n",
        "# display solution\n",
        "print('\\nObjective = ', model1_lab4_ex3.objective())\n",
        "\n",
        "print('\\nDecision Variables')\n",
        "for i in col_indices:\n",
        "  print('Num of drone ',data_csvfile['model'][i], model1_lab4_ex3.x[i].value)\n",
        "\n",
        "print('\\nConstraints')\n",
        "model1_lab4_ex3.constraints.display()"
      ],
      "execution_count": 44,
      "outputs": [
        {
          "output_type": "stream",
          "text": [
            "Solver status: ok\n",
            "Solver termination condition: optimal\n",
            "\n",
            "Objective =  129.999996\n",
            "\n",
            "Decision Variables\n",
            "Num of drone  MANAS 10.833333\n",
            "Num of drone  JAY 0.0\n",
            "Num of drone  VEER 0.0\n",
            "Num of drone  SPASHT 0.0\n",
            "Num of drone  DHAKSH 0.0\n",
            "\n",
            "Constraints\n",
            "constraints : Size=8\n",
            "    Key : Lower : Body        : Upper\n",
            "      7 :  None :   64.999998 :  65.0\n",
            "      8 :  None : 46.04166525 :  89.0\n"
          ],
          "name": "stdout"
        }
      ]
    },
    {
      "cell_type": "markdown",
      "metadata": {
        "id": "IHKrZFV6ar9e"
      },
      "source": [
        "Solving MILP"
      ]
    },
    {
      "cell_type": "code",
      "metadata": {
        "colab": {
          "base_uri": "https://localhost:8080/"
        },
        "id": "Asf0ifJWap_I",
        "outputId": "74cc1a1d-dd6e-46c0-fb42-932352275b8f"
      },
      "source": [
        "for i in col_indices:\n",
        "  model1_lab4_ex3.x[i].domain=NonNegativeIntegers\n",
        "\n",
        "model1_lab4_ex3.pprint()"
      ],
      "execution_count": 45,
      "outputs": [
        {
          "output_type": "stream",
          "text": [
            "2 Set Declarations\n",
            "    constraints_index : Size=1, Index=None, Ordered=Insertion\n",
            "        Key  : Dimen : Domain : Size : Members\n",
            "        None :     1 :    Any :    8 : {1, 2, 3, 4, 5, 6, 7, 8}\n",
            "    x_index : Size=1, Index=None, Ordered=False\n",
            "        Key  : Dimen : Domain : Size : Members\n",
            "        None :     1 :    Any :    5 : {0, 1, 2, 3, 4}\n",
            "\n",
            "1 Var Declarations\n",
            "    x : Size=5, Index=x_index\n",
            "        Key : Lower : Value     : Upper : Fixed : Stale : Domain\n",
            "          0 :     0 : 10.833333 :  None : False : False : NonNegativeIntegers\n",
            "          1 :     0 :       0.0 :  None : False : False : NonNegativeIntegers\n",
            "          2 :     0 :       0.0 :  None : False : False : NonNegativeIntegers\n",
            "          3 :     0 :       0.0 :  None : False : False : NonNegativeIntegers\n",
            "          4 :     0 :       0.0 :  None : False : False : NonNegativeIntegers\n",
            "\n",
            "1 Objective Declarations\n",
            "    objective : Size=1, Index=None, Active=True\n",
            "        Key  : Active : Sense    : Expression\n",
            "        None :   True : maximize : 12*x[0] + 14*x[1] + 10*x[2] + 15*x[3] + 14*x[4]\n",
            "\n",
            "1 Constraint Declarations\n",
            "    constraints : Size=8, Index=constraints_index, Active=True\n",
            "        Key : Lower : Body                                                     : Upper : Active\n",
            "          1 :  -Inf :   6.0*x[0] + 7.5*x[1] + 9.5*x[2] + 10.0*x[3] + 12.5*x[4] :  59.0 :  False\n",
            "          2 :  -Inf : 4.25*x[0] + 3.25*x[1] + 2.5*x[2] + 3.45*x[3] + 2.25*x[4] :  73.0 :  False\n",
            "          3 :  -Inf :   6.0*x[0] + 7.5*x[1] + 9.5*x[2] + 10.0*x[3] + 12.5*x[4] :  71.0 :  False\n",
            "          4 :  -Inf : 4.25*x[0] + 3.25*x[1] + 2.5*x[2] + 3.45*x[3] + 2.25*x[4] :  87.0 :  False\n",
            "          5 :  -Inf :   6.0*x[0] + 7.5*x[1] + 9.5*x[2] + 10.0*x[3] + 12.5*x[4] :  67.0 :  False\n",
            "          6 :  -Inf : 4.25*x[0] + 3.25*x[1] + 2.5*x[2] + 3.45*x[3] + 2.25*x[4] :  88.0 :  False\n",
            "          7 :  -Inf :   6.0*x[0] + 7.5*x[1] + 9.5*x[2] + 10.0*x[3] + 12.5*x[4] :  65.0 :   True\n",
            "          8 :  -Inf : 4.25*x[0] + 3.25*x[1] + 2.5*x[2] + 3.45*x[3] + 2.25*x[4] :  89.0 :   True\n",
            "\n",
            "5 Declarations: x_index x objective constraints_index constraints\n"
          ],
          "name": "stdout"
        }
      ]
    },
    {
      "cell_type": "code",
      "metadata": {
        "colab": {
          "base_uri": "https://localhost:8080/"
        },
        "id": "YJZMJMeJa6sW",
        "outputId": "f034a5cb-a14f-471f-92fc-49fcb895bcd3"
      },
      "source": [
        "result3 = opt_cbc.solve(model1_lab4_ex3)\n",
        "print('Solver status:', result3.solver.status)\n",
        "print('Solver termination condition:',result3.solver.termination_condition)\n",
        "\n",
        "# display solution\n",
        "print('\\nObjective = ', model1_lab4_ex3.objective())\n",
        "\n",
        "print('\\nDecision Variables')\n",
        "for i in col_indices:\n",
        "  print('Num of drone ',data_csvfile['model'][i], model1_lab4_ex3.x[i].value)\n",
        "\n",
        "print('\\nConstraints')\n",
        "model1_lab4_ex3.constraints.display()"
      ],
      "execution_count": 46,
      "outputs": [
        {
          "output_type": "stream",
          "text": [
            "Solver status: ok\n",
            "Solver termination condition: optimal\n",
            "\n",
            "Objective =  126.0\n",
            "\n",
            "Decision Variables\n",
            "Num of drone  MANAS 7.0\n",
            "Num of drone  JAY 3.0\n",
            "Num of drone  VEER 0.0\n",
            "Num of drone  SPASHT 0.0\n",
            "Num of drone  DHAKSH 0.0\n",
            "\n",
            "Constraints\n",
            "constraints : Size=8\n",
            "    Key : Lower : Body : Upper\n",
            "      7 :  None : 64.5 :  65.0\n",
            "      8 :  None : 39.5 :  89.0\n"
          ],
          "name": "stdout"
        }
      ]
    },
    {
      "cell_type": "markdown",
      "metadata": {
        "id": "B7gTC2gsbAAc"
      },
      "source": [
        "**Solving for 3rd given pair.**"
      ]
    },
    {
      "cell_type": "markdown",
      "metadata": {
        "id": "MO59XTiAbFvU"
      },
      "source": [
        "Solving MILP"
      ]
    },
    {
      "cell_type": "code",
      "metadata": {
        "colab": {
          "base_uri": "https://localhost:8080/"
        },
        "id": "B0GeMNuja-0Y",
        "outputId": "361d2a84-1259-4470-befc-c0baafe51a28"
      },
      "source": [
        "model1_lab4_ex3.constraints[7].deactivate()\n",
        "model1_lab4_ex3.constraints[8].deactivate()\n",
        "model1_lab4_ex3.constraints.add(summation(data_csvfile['cost'], model1_lab4_ex3.x) <= 63)\n",
        "model1_lab4_ex3.constraints.add(summation(data_csvfile['parkingspace'], model1_lab4_ex3.x) <= 90)\n",
        "model1_lab4_ex3.pprint()"
      ],
      "execution_count": 47,
      "outputs": [
        {
          "output_type": "stream",
          "text": [
            "2 Set Declarations\n",
            "    constraints_index : Size=1, Index=None, Ordered=Insertion\n",
            "        Key  : Dimen : Domain : Size : Members\n",
            "        None :     1 :    Any :   10 : {1, 2, 3, 4, 5, 6, 7, 8, 9, 10}\n",
            "    x_index : Size=1, Index=None, Ordered=False\n",
            "        Key  : Dimen : Domain : Size : Members\n",
            "        None :     1 :    Any :    5 : {0, 1, 2, 3, 4}\n",
            "\n",
            "1 Var Declarations\n",
            "    x : Size=5, Index=x_index\n",
            "        Key : Lower : Value : Upper : Fixed : Stale : Domain\n",
            "          0 :     0 :   7.0 :  None : False : False : NonNegativeIntegers\n",
            "          1 :     0 :   3.0 :  None : False : False : NonNegativeIntegers\n",
            "          2 :     0 :   0.0 :  None : False : False : NonNegativeIntegers\n",
            "          3 :     0 :   0.0 :  None : False : False : NonNegativeIntegers\n",
            "          4 :     0 :   0.0 :  None : False : False : NonNegativeIntegers\n",
            "\n",
            "1 Objective Declarations\n",
            "    objective : Size=1, Index=None, Active=True\n",
            "        Key  : Active : Sense    : Expression\n",
            "        None :   True : maximize : 12*x[0] + 14*x[1] + 10*x[2] + 15*x[3] + 14*x[4]\n",
            "\n",
            "1 Constraint Declarations\n",
            "    constraints : Size=10, Index=constraints_index, Active=True\n",
            "        Key : Lower : Body                                                     : Upper : Active\n",
            "          1 :  -Inf :   6.0*x[0] + 7.5*x[1] + 9.5*x[2] + 10.0*x[3] + 12.5*x[4] :  59.0 :  False\n",
            "          2 :  -Inf : 4.25*x[0] + 3.25*x[1] + 2.5*x[2] + 3.45*x[3] + 2.25*x[4] :  73.0 :  False\n",
            "          3 :  -Inf :   6.0*x[0] + 7.5*x[1] + 9.5*x[2] + 10.0*x[3] + 12.5*x[4] :  71.0 :  False\n",
            "          4 :  -Inf : 4.25*x[0] + 3.25*x[1] + 2.5*x[2] + 3.45*x[3] + 2.25*x[4] :  87.0 :  False\n",
            "          5 :  -Inf :   6.0*x[0] + 7.5*x[1] + 9.5*x[2] + 10.0*x[3] + 12.5*x[4] :  67.0 :  False\n",
            "          6 :  -Inf : 4.25*x[0] + 3.25*x[1] + 2.5*x[2] + 3.45*x[3] + 2.25*x[4] :  88.0 :  False\n",
            "          7 :  -Inf :   6.0*x[0] + 7.5*x[1] + 9.5*x[2] + 10.0*x[3] + 12.5*x[4] :  65.0 :  False\n",
            "          8 :  -Inf : 4.25*x[0] + 3.25*x[1] + 2.5*x[2] + 3.45*x[3] + 2.25*x[4] :  89.0 :  False\n",
            "          9 :  -Inf :   6.0*x[0] + 7.5*x[1] + 9.5*x[2] + 10.0*x[3] + 12.5*x[4] :  63.0 :   True\n",
            "         10 :  -Inf : 4.25*x[0] + 3.25*x[1] + 2.5*x[2] + 3.45*x[3] + 2.25*x[4] :  90.0 :   True\n",
            "\n",
            "5 Declarations: x_index x objective constraints_index constraints\n"
          ],
          "name": "stdout"
        }
      ]
    },
    {
      "cell_type": "code",
      "metadata": {
        "colab": {
          "base_uri": "https://localhost:8080/"
        },
        "id": "k9MZ3XwsbMus",
        "outputId": "719cf0d1-d7d3-436b-b084-0400626eda66"
      },
      "source": [
        "result3 = opt_cbc.solve(model1_lab4_ex3)\n",
        "print('Solver status:', result3.solver.status)\n",
        "print('Solver termination condition:',result3.solver.termination_condition)\n",
        "\n",
        "# display solution\n",
        "print('\\nObjective = ', model1_lab4_ex3.objective())\n",
        "\n",
        "print('\\nDecision Variables')\n",
        "for i in col_indices:\n",
        "  print('Num of drone ',data_csvfile['model'][i], model1_lab4_ex3.x[i].value)\n",
        "\n",
        "print('\\nConstraints')\n",
        "model1_lab4_ex3.constraints.display()"
      ],
      "execution_count": 48,
      "outputs": [
        {
          "output_type": "stream",
          "text": [
            "Solver status: ok\n",
            "Solver termination condition: optimal\n",
            "\n",
            "Objective =  124.0\n",
            "\n",
            "Decision Variables\n",
            "Num of drone  MANAS 8.0\n",
            "Num of drone  JAY 2.0\n",
            "Num of drone  VEER 0.0\n",
            "Num of drone  SPASHT 0.0\n",
            "Num of drone  DHAKSH 0.0\n",
            "\n",
            "Constraints\n",
            "constraints : Size=10\n",
            "    Key : Lower : Body : Upper\n",
            "      9 :  None : 63.0 :  63.0\n",
            "     10 :  None : 40.5 :  90.0\n"
          ],
          "name": "stdout"
        }
      ]
    },
    {
      "cell_type": "markdown",
      "metadata": {
        "id": "lSAbcjGpbY2r"
      },
      "source": [
        "Solving LP"
      ]
    },
    {
      "cell_type": "code",
      "metadata": {
        "colab": {
          "base_uri": "https://localhost:8080/"
        },
        "id": "tccT6CZ9bW_h",
        "outputId": "53b195d7-ba73-42f3-bd06-05a952fe92cf"
      },
      "source": [
        "for i in col_indices:\n",
        "  model1_lab4_ex3.x[i].domain=NonNegativeReals\n",
        "\n",
        "model1_lab4_ex3.pprint()"
      ],
      "execution_count": 49,
      "outputs": [
        {
          "output_type": "stream",
          "text": [
            "2 Set Declarations\n",
            "    constraints_index : Size=1, Index=None, Ordered=Insertion\n",
            "        Key  : Dimen : Domain : Size : Members\n",
            "        None :     1 :    Any :   10 : {1, 2, 3, 4, 5, 6, 7, 8, 9, 10}\n",
            "    x_index : Size=1, Index=None, Ordered=False\n",
            "        Key  : Dimen : Domain : Size : Members\n",
            "        None :     1 :    Any :    5 : {0, 1, 2, 3, 4}\n",
            "\n",
            "1 Var Declarations\n",
            "    x : Size=5, Index=x_index\n",
            "        Key : Lower : Value : Upper : Fixed : Stale : Domain\n",
            "          0 :     0 :   8.0 :  None : False : False : NonNegativeReals\n",
            "          1 :     0 :   2.0 :  None : False : False : NonNegativeReals\n",
            "          2 :     0 :   0.0 :  None : False : False : NonNegativeReals\n",
            "          3 :     0 :   0.0 :  None : False : False : NonNegativeReals\n",
            "          4 :     0 :   0.0 :  None : False : False : NonNegativeReals\n",
            "\n",
            "1 Objective Declarations\n",
            "    objective : Size=1, Index=None, Active=True\n",
            "        Key  : Active : Sense    : Expression\n",
            "        None :   True : maximize : 12*x[0] + 14*x[1] + 10*x[2] + 15*x[3] + 14*x[4]\n",
            "\n",
            "1 Constraint Declarations\n",
            "    constraints : Size=10, Index=constraints_index, Active=True\n",
            "        Key : Lower : Body                                                     : Upper : Active\n",
            "          1 :  -Inf :   6.0*x[0] + 7.5*x[1] + 9.5*x[2] + 10.0*x[3] + 12.5*x[4] :  59.0 :  False\n",
            "          2 :  -Inf : 4.25*x[0] + 3.25*x[1] + 2.5*x[2] + 3.45*x[3] + 2.25*x[4] :  73.0 :  False\n",
            "          3 :  -Inf :   6.0*x[0] + 7.5*x[1] + 9.5*x[2] + 10.0*x[3] + 12.5*x[4] :  71.0 :  False\n",
            "          4 :  -Inf : 4.25*x[0] + 3.25*x[1] + 2.5*x[2] + 3.45*x[3] + 2.25*x[4] :  87.0 :  False\n",
            "          5 :  -Inf :   6.0*x[0] + 7.5*x[1] + 9.5*x[2] + 10.0*x[3] + 12.5*x[4] :  67.0 :  False\n",
            "          6 :  -Inf : 4.25*x[0] + 3.25*x[1] + 2.5*x[2] + 3.45*x[3] + 2.25*x[4] :  88.0 :  False\n",
            "          7 :  -Inf :   6.0*x[0] + 7.5*x[1] + 9.5*x[2] + 10.0*x[3] + 12.5*x[4] :  65.0 :  False\n",
            "          8 :  -Inf : 4.25*x[0] + 3.25*x[1] + 2.5*x[2] + 3.45*x[3] + 2.25*x[4] :  89.0 :  False\n",
            "          9 :  -Inf :   6.0*x[0] + 7.5*x[1] + 9.5*x[2] + 10.0*x[3] + 12.5*x[4] :  63.0 :   True\n",
            "         10 :  -Inf : 4.25*x[0] + 3.25*x[1] + 2.5*x[2] + 3.45*x[3] + 2.25*x[4] :  90.0 :   True\n",
            "\n",
            "5 Declarations: x_index x objective constraints_index constraints\n"
          ],
          "name": "stdout"
        }
      ]
    },
    {
      "cell_type": "code",
      "metadata": {
        "colab": {
          "base_uri": "https://localhost:8080/"
        },
        "id": "_846rZvwbg_N",
        "outputId": "775b0c3e-3edc-4623-efb7-8b9df14e1fab"
      },
      "source": [
        "result3 = opt_cbc.solve(model1_lab4_ex3)\n",
        "print('Solver status:', result3.solver.status)\n",
        "print('Solver termination condition:',result3.solver.termination_condition)\n",
        "\n",
        "# display solution\n",
        "print('\\nObjective = ', model1_lab4_ex3.objective())\n",
        "\n",
        "print('\\nDecision Variables')\n",
        "for i in col_indices:\n",
        "  print('Num of drone ',data_csvfile['model'][i], model1_lab4_ex3.x[i].value)\n",
        "\n",
        "print('\\nConstraints')\n",
        "model1_lab4_ex3.constraints.display()"
      ],
      "execution_count": 50,
      "outputs": [
        {
          "output_type": "stream",
          "text": [
            "Solver status: ok\n",
            "Solver termination condition: optimal\n",
            "\n",
            "Objective =  126.0\n",
            "\n",
            "Decision Variables\n",
            "Num of drone  MANAS 10.5\n",
            "Num of drone  JAY 0.0\n",
            "Num of drone  VEER 0.0\n",
            "Num of drone  SPASHT 0.0\n",
            "Num of drone  DHAKSH 0.0\n",
            "\n",
            "Constraints\n",
            "constraints : Size=10\n",
            "    Key : Lower : Body   : Upper\n",
            "      9 :  None :   63.0 :  63.0\n",
            "     10 :  None : 44.625 :  90.0\n"
          ],
          "name": "stdout"
        }
      ]
    },
    {
      "cell_type": "markdown",
      "metadata": {
        "id": "exjlc2PfbxKH"
      },
      "source": [
        "**Solving for 4th given pair**"
      ]
    },
    {
      "cell_type": "markdown",
      "metadata": {
        "id": "baKXgUQsb09N"
      },
      "source": [
        "Solving LP"
      ]
    },
    {
      "cell_type": "code",
      "metadata": {
        "colab": {
          "base_uri": "https://localhost:8080/"
        },
        "id": "o3n00t4mbiA6",
        "outputId": "8b16b415-7a40-4727-a41c-5a268953c00b"
      },
      "source": [
        "model1_lab4_ex3.constraints[9].deactivate()\n",
        "model1_lab4_ex3.constraints[10].deactivate()\n",
        "model1_lab4_ex3.constraints.add(summation(data_csvfile['cost'], model1_lab4_ex3.x) <= 61)\n",
        "model1_lab4_ex3.constraints.add(summation(data_csvfile['parkingspace'], model1_lab4_ex3.x) <= 91)\n",
        "model1_lab4_ex3.pprint()"
      ],
      "execution_count": 51,
      "outputs": [
        {
          "output_type": "stream",
          "text": [
            "2 Set Declarations\n",
            "    constraints_index : Size=1, Index=None, Ordered=Insertion\n",
            "        Key  : Dimen : Domain : Size : Members\n",
            "        None :     1 :    Any :   12 : {1, 2, 3, 4, 5, 6, 7, 8, 9, 10, 11, 12}\n",
            "    x_index : Size=1, Index=None, Ordered=False\n",
            "        Key  : Dimen : Domain : Size : Members\n",
            "        None :     1 :    Any :    5 : {0, 1, 2, 3, 4}\n",
            "\n",
            "1 Var Declarations\n",
            "    x : Size=5, Index=x_index\n",
            "        Key : Lower : Value : Upper : Fixed : Stale : Domain\n",
            "          0 :     0 :  10.5 :  None : False : False : NonNegativeReals\n",
            "          1 :     0 :   0.0 :  None : False : False : NonNegativeReals\n",
            "          2 :     0 :   0.0 :  None : False : False : NonNegativeReals\n",
            "          3 :     0 :   0.0 :  None : False : False : NonNegativeReals\n",
            "          4 :     0 :   0.0 :  None : False : False : NonNegativeReals\n",
            "\n",
            "1 Objective Declarations\n",
            "    objective : Size=1, Index=None, Active=True\n",
            "        Key  : Active : Sense    : Expression\n",
            "        None :   True : maximize : 12*x[0] + 14*x[1] + 10*x[2] + 15*x[3] + 14*x[4]\n",
            "\n",
            "1 Constraint Declarations\n",
            "    constraints : Size=12, Index=constraints_index, Active=True\n",
            "        Key : Lower : Body                                                     : Upper : Active\n",
            "          1 :  -Inf :   6.0*x[0] + 7.5*x[1] + 9.5*x[2] + 10.0*x[3] + 12.5*x[4] :  59.0 :  False\n",
            "          2 :  -Inf : 4.25*x[0] + 3.25*x[1] + 2.5*x[2] + 3.45*x[3] + 2.25*x[4] :  73.0 :  False\n",
            "          3 :  -Inf :   6.0*x[0] + 7.5*x[1] + 9.5*x[2] + 10.0*x[3] + 12.5*x[4] :  71.0 :  False\n",
            "          4 :  -Inf : 4.25*x[0] + 3.25*x[1] + 2.5*x[2] + 3.45*x[3] + 2.25*x[4] :  87.0 :  False\n",
            "          5 :  -Inf :   6.0*x[0] + 7.5*x[1] + 9.5*x[2] + 10.0*x[3] + 12.5*x[4] :  67.0 :  False\n",
            "          6 :  -Inf : 4.25*x[0] + 3.25*x[1] + 2.5*x[2] + 3.45*x[3] + 2.25*x[4] :  88.0 :  False\n",
            "          7 :  -Inf :   6.0*x[0] + 7.5*x[1] + 9.5*x[2] + 10.0*x[3] + 12.5*x[4] :  65.0 :  False\n",
            "          8 :  -Inf : 4.25*x[0] + 3.25*x[1] + 2.5*x[2] + 3.45*x[3] + 2.25*x[4] :  89.0 :  False\n",
            "          9 :  -Inf :   6.0*x[0] + 7.5*x[1] + 9.5*x[2] + 10.0*x[3] + 12.5*x[4] :  63.0 :  False\n",
            "         10 :  -Inf : 4.25*x[0] + 3.25*x[1] + 2.5*x[2] + 3.45*x[3] + 2.25*x[4] :  90.0 :  False\n",
            "         11 :  -Inf :   6.0*x[0] + 7.5*x[1] + 9.5*x[2] + 10.0*x[3] + 12.5*x[4] :  61.0 :   True\n",
            "         12 :  -Inf : 4.25*x[0] + 3.25*x[1] + 2.5*x[2] + 3.45*x[3] + 2.25*x[4] :  91.0 :   True\n",
            "\n",
            "5 Declarations: x_index x objective constraints_index constraints\n"
          ],
          "name": "stdout"
        }
      ]
    },
    {
      "cell_type": "code",
      "metadata": {
        "colab": {
          "base_uri": "https://localhost:8080/"
        },
        "id": "RK7IT0awbpSk",
        "outputId": "d773de07-a962-41b8-e24c-2c5f4cdb3120"
      },
      "source": [
        "result3 = opt_cbc.solve(model1_lab4_ex3)\n",
        "print('Solver status:', result3.solver.status)\n",
        "print('Solver termination condition:',result3.solver.termination_condition)\n",
        "\n",
        "# display solution\n",
        "print('\\nObjective = ', model1_lab4_ex3.objective())\n",
        "\n",
        "print('\\nDecision Variables')\n",
        "for i in col_indices:\n",
        "  print('Num of drone ',data_csvfile['model'][i], model1_lab4_ex3.x[i].value)\n",
        "\n",
        "print('\\nConstraints')\n",
        "model1_lab4_ex3.constraints.display()"
      ],
      "execution_count": 52,
      "outputs": [
        {
          "output_type": "stream",
          "text": [
            "Solver status: ok\n",
            "Solver termination condition: optimal\n",
            "\n",
            "Objective =  122.000004\n",
            "\n",
            "Decision Variables\n",
            "Num of drone  MANAS 10.166667\n",
            "Num of drone  JAY 0.0\n",
            "Num of drone  VEER 0.0\n",
            "Num of drone  SPASHT 0.0\n",
            "Num of drone  DHAKSH 0.0\n",
            "\n",
            "Constraints\n",
            "constraints : Size=12\n",
            "    Key : Lower : Body        : Upper\n",
            "     11 :  None :   61.000002 :  61.0\n",
            "     12 :  None : 43.20833475 :  91.0\n"
          ],
          "name": "stdout"
        }
      ]
    },
    {
      "cell_type": "markdown",
      "metadata": {
        "id": "3Zjiiyfsb_8W"
      },
      "source": [
        "Solving MILP"
      ]
    },
    {
      "cell_type": "code",
      "metadata": {
        "colab": {
          "base_uri": "https://localhost:8080/"
        },
        "id": "p4QaOxbobgp1",
        "outputId": "f657e310-bc0a-4aa8-8b39-857a2c3a790f"
      },
      "source": [
        "for i in col_indices:\n",
        "  model1_lab4_ex3.x[i].domain=NonNegativeIntegers\n",
        "\n",
        "model1_lab4_ex3.pprint()"
      ],
      "execution_count": 53,
      "outputs": [
        {
          "output_type": "stream",
          "text": [
            "2 Set Declarations\n",
            "    constraints_index : Size=1, Index=None, Ordered=Insertion\n",
            "        Key  : Dimen : Domain : Size : Members\n",
            "        None :     1 :    Any :   12 : {1, 2, 3, 4, 5, 6, 7, 8, 9, 10, 11, 12}\n",
            "    x_index : Size=1, Index=None, Ordered=False\n",
            "        Key  : Dimen : Domain : Size : Members\n",
            "        None :     1 :    Any :    5 : {0, 1, 2, 3, 4}\n",
            "\n",
            "1 Var Declarations\n",
            "    x : Size=5, Index=x_index\n",
            "        Key : Lower : Value     : Upper : Fixed : Stale : Domain\n",
            "          0 :     0 : 10.166667 :  None : False : False : NonNegativeIntegers\n",
            "          1 :     0 :       0.0 :  None : False : False : NonNegativeIntegers\n",
            "          2 :     0 :       0.0 :  None : False : False : NonNegativeIntegers\n",
            "          3 :     0 :       0.0 :  None : False : False : NonNegativeIntegers\n",
            "          4 :     0 :       0.0 :  None : False : False : NonNegativeIntegers\n",
            "\n",
            "1 Objective Declarations\n",
            "    objective : Size=1, Index=None, Active=True\n",
            "        Key  : Active : Sense    : Expression\n",
            "        None :   True : maximize : 12*x[0] + 14*x[1] + 10*x[2] + 15*x[3] + 14*x[4]\n",
            "\n",
            "1 Constraint Declarations\n",
            "    constraints : Size=12, Index=constraints_index, Active=True\n",
            "        Key : Lower : Body                                                     : Upper : Active\n",
            "          1 :  -Inf :   6.0*x[0] + 7.5*x[1] + 9.5*x[2] + 10.0*x[3] + 12.5*x[4] :  59.0 :  False\n",
            "          2 :  -Inf : 4.25*x[0] + 3.25*x[1] + 2.5*x[2] + 3.45*x[3] + 2.25*x[4] :  73.0 :  False\n",
            "          3 :  -Inf :   6.0*x[0] + 7.5*x[1] + 9.5*x[2] + 10.0*x[3] + 12.5*x[4] :  71.0 :  False\n",
            "          4 :  -Inf : 4.25*x[0] + 3.25*x[1] + 2.5*x[2] + 3.45*x[3] + 2.25*x[4] :  87.0 :  False\n",
            "          5 :  -Inf :   6.0*x[0] + 7.5*x[1] + 9.5*x[2] + 10.0*x[3] + 12.5*x[4] :  67.0 :  False\n",
            "          6 :  -Inf : 4.25*x[0] + 3.25*x[1] + 2.5*x[2] + 3.45*x[3] + 2.25*x[4] :  88.0 :  False\n",
            "          7 :  -Inf :   6.0*x[0] + 7.5*x[1] + 9.5*x[2] + 10.0*x[3] + 12.5*x[4] :  65.0 :  False\n",
            "          8 :  -Inf : 4.25*x[0] + 3.25*x[1] + 2.5*x[2] + 3.45*x[3] + 2.25*x[4] :  89.0 :  False\n",
            "          9 :  -Inf :   6.0*x[0] + 7.5*x[1] + 9.5*x[2] + 10.0*x[3] + 12.5*x[4] :  63.0 :  False\n",
            "         10 :  -Inf : 4.25*x[0] + 3.25*x[1] + 2.5*x[2] + 3.45*x[3] + 2.25*x[4] :  90.0 :  False\n",
            "         11 :  -Inf :   6.0*x[0] + 7.5*x[1] + 9.5*x[2] + 10.0*x[3] + 12.5*x[4] :  61.0 :   True\n",
            "         12 :  -Inf : 4.25*x[0] + 3.25*x[1] + 2.5*x[2] + 3.45*x[3] + 2.25*x[4] :  91.0 :   True\n",
            "\n",
            "5 Declarations: x_index x objective constraints_index constraints\n"
          ],
          "name": "stdout"
        }
      ]
    },
    {
      "cell_type": "code",
      "metadata": {
        "colab": {
          "base_uri": "https://localhost:8080/"
        },
        "id": "3_AAUHwpcUbg",
        "outputId": "a8fa3368-930d-4325-c723-e727675b2222"
      },
      "source": [
        "result3 = opt_cbc.solve(model1_lab4_ex3)\n",
        "print('Solver status:', result3.solver.status)\n",
        "print('Solver termination condition:',result3.solver.termination_condition)\n",
        "\n",
        "# display solution\n",
        "print('\\nObjective = ', model1_lab4_ex3.objective())\n",
        "\n",
        "print('\\nDecision Variables')\n",
        "for i in col_indices:\n",
        "  print('Num of drone ',data_csvfile['model'][i], model1_lab4_ex3.x[i].value)\n",
        "\n",
        "print('\\nConstraints')\n",
        "model1_lab4_ex3.constraints.display()"
      ],
      "execution_count": 54,
      "outputs": [
        {
          "output_type": "stream",
          "text": [
            "Solver status: ok\n",
            "Solver termination condition: optimal\n",
            "\n",
            "Objective =  120.0\n",
            "\n",
            "Decision Variables\n",
            "Num of drone  MANAS 10.0\n",
            "Num of drone  JAY 0.0\n",
            "Num of drone  VEER 0.0\n",
            "Num of drone  SPASHT 0.0\n",
            "Num of drone  DHAKSH 0.0\n",
            "\n",
            "Constraints\n",
            "constraints : Size=12\n",
            "    Key : Lower : Body : Upper\n",
            "     11 :  None : 60.0 :  61.0\n",
            "     12 :  None : 42.5 :  91.0\n"
          ],
          "name": "stdout"
        }
      ]
    },
    {
      "cell_type": "markdown",
      "metadata": {
        "id": "hdwZuy8Mcv0-"
      },
      "source": [
        "The optimal value decreases as we move from pair 1 to pair 4, because we are decreasing the budget. And as we can see that the parking space constraint is not active any case. So, the decrease in parking space is not of concern.\n",
        "hence the decrease in budget is causing decrease in optimal value."
      ]
    }
  ]
}