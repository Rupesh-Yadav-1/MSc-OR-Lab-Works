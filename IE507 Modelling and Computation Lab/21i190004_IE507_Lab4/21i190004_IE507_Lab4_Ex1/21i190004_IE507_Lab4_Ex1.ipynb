{
  "nbformat": 4,
  "nbformat_minor": 0,
  "metadata": {
    "colab": {
      "name": "21i190004_IE507_Lab4_Ex1.ipynb",
      "provenance": [],
      "collapsed_sections": []
    },
    "kernelspec": {
      "name": "python3",
      "display_name": "Python 3"
    },
    "language_info": {
      "name": "python"
    }
  },
  "cells": [
    {
      "cell_type": "markdown",
      "metadata": {
        "id": "8L_GXz0ifpt1"
      },
      "source": [
        "**Ex 1:**"
      ]
    },
    {
      "cell_type": "code",
      "metadata": {
        "id": "_m3snJf6fRkT",
        "colab": {
          "base_uri": "https://localhost:8080/"
        },
        "outputId": "4b9ebf3b-37da-4a37-9cea-f4928ae119a7"
      },
      "source": [
        "!pip install -q pyomo"
      ],
      "execution_count": 1,
      "outputs": [
        {
          "output_type": "stream",
          "text": [
            "\u001b[K     |████████████████████████████████| 9.1 MB 5.2 MB/s \n",
            "\u001b[K     |████████████████████████████████| 49 kB 5.6 MB/s \n",
            "\u001b[?25h"
          ],
          "name": "stdout"
        }
      ]
    },
    {
      "cell_type": "code",
      "metadata": {
        "id": "mbfLVLS6fuBt"
      },
      "source": [
        "from pyomo.environ import *"
      ],
      "execution_count": 2,
      "outputs": []
    },
    {
      "cell_type": "code",
      "metadata": {
        "id": "8NOeKr0hfycP"
      },
      "source": [
        "import numpy as np"
      ],
      "execution_count": 3,
      "outputs": []
    },
    {
      "cell_type": "code",
      "metadata": {
        "id": "Y-jAgWVZf2G6"
      },
      "source": [
        "coef = np.loadtxt('lab4ex1_coef.txt', delimiter = ',')"
      ],
      "execution_count": 4,
      "outputs": []
    },
    {
      "cell_type": "code",
      "metadata": {
        "colab": {
          "base_uri": "https://localhost:8080/"
        },
        "id": "UFnIRUZTgZqK",
        "outputId": "90d3b1a7-d957-4c1d-ce91-e3b6136095b5"
      },
      "source": [
        "print(coef.shape)\n",
        "print('Number of rows=', coef.shape[0])\n",
        "print('Number of columns=', coef.shape[1])"
      ],
      "execution_count": 5,
      "outputs": [
        {
          "output_type": "stream",
          "text": [
            "(6, 7)\n",
            "Number of rows= 6\n",
            "Number of columns= 7\n"
          ],
          "name": "stdout"
        }
      ]
    },
    {
      "cell_type": "code",
      "metadata": {
        "colab": {
          "base_uri": "https://localhost:8080/"
        },
        "id": "9CQfkw6lhYB9",
        "outputId": "823d6a4b-a2e6-4d1d-ef9f-657cd7b3a152"
      },
      "source": [
        "print(coef)"
      ],
      "execution_count": 6,
      "outputs": [
        {
          "output_type": "stream",
          "text": [
            "[[  0.85   3.75  -8.75  -3.45 -22.38  20.     0.  ]\n",
            " [ -0.7   -3.9   -1.     0.     1.     0.    14.9 ]\n",
            " [  1.     0.     0.    -1.     0.    -1.     0.9 ]\n",
            " [  0.    -3.    -2.     0.     0.    -1.   -51.7 ]\n",
            " [  0.     0.     0.     4.8    9.12   7.2   75.  ]\n",
            " [ -0.8   -1.5    8.    -2.     1.     0.   -27.  ]]\n"
          ],
          "name": "stdout"
        }
      ]
    },
    {
      "cell_type": "code",
      "metadata": {
        "id": "naGjv5Y9hZgb"
      },
      "source": [
        "\n",
        "model = ConcreteModel()"
      ],
      "execution_count": 7,
      "outputs": []
    },
    {
      "cell_type": "code",
      "metadata": {
        "id": "c6z-e8xghkAV"
      },
      "source": [
        "M = coef.shape[0] - 1 \n",
        "N = coef.shape[1] - 1 "
      ],
      "execution_count": 8,
      "outputs": []
    },
    {
      "cell_type": "code",
      "metadata": {
        "colab": {
          "base_uri": "https://localhost:8080/"
        },
        "id": "D09WUcgkqOtR",
        "outputId": "9452f633-4c55-43a1-f8d7-ce325eb5a0da"
      },
      "source": [
        "print(M)\n",
        "print(N)"
      ],
      "execution_count": 9,
      "outputs": [
        {
          "output_type": "stream",
          "text": [
            "5\n",
            "6\n"
          ],
          "name": "stdout"
        }
      ]
    },
    {
      "cell_type": "code",
      "metadata": {
        "id": "viO8fcbwiXyU"
      },
      "source": [
        "#coefficients of the objective function\n",
        "obj_coef = coef[0,:-1]\n"
      ],
      "execution_count": 10,
      "outputs": []
    },
    {
      "cell_type": "code",
      "metadata": {
        "id": "4p2P8TVrix2c"
      },
      "source": [
        "#coefficients of the constraints\n",
        "constr_coef = coef[1:,:-1]\n"
      ],
      "execution_count": 11,
      "outputs": []
    },
    {
      "cell_type": "code",
      "metadata": {
        "id": "CHzxbM25jfPu"
      },
      "source": [
        "#rhs\n",
        "constr_rhs = coef[1:,-1]\n"
      ],
      "execution_count": 12,
      "outputs": []
    },
    {
      "cell_type": "code",
      "metadata": {
        "id": "KCTZJDjKkDin"
      },
      "source": [
        "l_bound = 0\n",
        "u_bound = np.inf"
      ],
      "execution_count": 13,
      "outputs": []
    },
    {
      "cell_type": "code",
      "metadata": {
        "id": "4eqRb2x2kMMR"
      },
      "source": [
        "row_indices = np.arange(M)\n",
        "col_indices = np.arange(N)"
      ],
      "execution_count": 14,
      "outputs": []
    },
    {
      "cell_type": "code",
      "metadata": {
        "colab": {
          "base_uri": "https://localhost:8080/"
        },
        "id": "uNZ84dJbp_za",
        "outputId": "55052d6e-a7c2-4bb4-d2dc-699efa78aa37"
      },
      "source": [
        "print(col_indices)\n",
        "print(row_indices)"
      ],
      "execution_count": 15,
      "outputs": [
        {
          "output_type": "stream",
          "text": [
            "[0 1 2 3 4 5]\n",
            "[0 1 2 3 4]\n"
          ],
          "name": "stdout"
        }
      ]
    },
    {
      "cell_type": "code",
      "metadata": {
        "id": "o3zCIM_ZljsN"
      },
      "source": [
        "# declare the decision variables in the model\n",
        "model.x = Var(col_indices)"
      ],
      "execution_count": 16,
      "outputs": []
    },
    {
      "cell_type": "code",
      "metadata": {
        "id": "FNARaN5Clspy"
      },
      "source": [
        "model.constraints = ConstraintList()"
      ],
      "execution_count": 17,
      "outputs": []
    },
    {
      "cell_type": "code",
      "metadata": {
        "id": "hyPEuQyDl66m"
      },
      "source": [
        "for i in row_indices:\n",
        "      model.constraints.add(sum(constr_coef[i][j]*model.x[j] for j in col_indices)<= constr_rhs[i])"
      ],
      "execution_count": 18,
      "outputs": []
    },
    {
      "cell_type": "code",
      "metadata": {
        "id": "KUKoxdYpoW9S"
      },
      "source": [
        "# setting upper and lower bounds\n",
        "for j in col_indices:\n",
        "  model.x[j].setlb(l_bound)\n",
        "  model.x[j].setub(u_bound)"
      ],
      "execution_count": 20,
      "outputs": []
    },
    {
      "cell_type": "code",
      "metadata": {
        "id": "SHgVFj4ErKfV"
      },
      "source": [
        "model.objective = Objective(expr = summation(obj_coef, model.x), sense = maximize)"
      ],
      "execution_count": 21,
      "outputs": []
    },
    {
      "cell_type": "code",
      "metadata": {
        "colab": {
          "base_uri": "https://localhost:8080/"
        },
        "id": "mWCaTeGLrmbB",
        "outputId": "f7010ea6-bc32-4aa4-d19c-0607675988f0"
      },
      "source": [
        "model.pprint()"
      ],
      "execution_count": 22,
      "outputs": [
        {
          "output_type": "stream",
          "text": [
            "2 Set Declarations\n",
            "    constraints_index : Size=1, Index=None, Ordered=Insertion\n",
            "        Key  : Dimen : Domain : Size : Members\n",
            "        None :     1 :    Any :    5 : {1, 2, 3, 4, 5}\n",
            "    x_index : Size=1, Index=None, Ordered=False\n",
            "        Key  : Dimen : Domain : Size : Members\n",
            "        None :     1 :    Any :    6 : {0, 1, 2, 3, 4, 5}\n",
            "\n",
            "1 Var Declarations\n",
            "    x : Size=6, Index=x_index\n",
            "        Key : Lower : Value : Upper : Fixed : Stale : Domain\n",
            "          0 :     0 :  None :   inf : False :  True :  Reals\n",
            "          1 :     0 :  None :   inf : False :  True :  Reals\n",
            "          2 :     0 :  None :   inf : False :  True :  Reals\n",
            "          3 :     0 :  None :   inf : False :  True :  Reals\n",
            "          4 :     0 :  None :   inf : False :  True :  Reals\n",
            "          5 :     0 :  None :   inf : False :  True :  Reals\n",
            "\n",
            "1 Objective Declarations\n",
            "    objective : Size=1, Index=None, Active=True\n",
            "        Key  : Active : Sense    : Expression\n",
            "        None :   True : maximize : 0.85*x[0] + 3.75*x[1] - 8.75*x[2] - 3.45*x[3] - 22.38*x[4] + 20.0*x[5]\n",
            "\n",
            "1 Constraint Declarations\n",
            "    constraints : Size=5, Index=constraints_index, Active=True\n",
            "        Key : Lower : Body                                              : Upper : Active\n",
            "          1 :  -Inf :                -0.7*x[0] - 3.9*x[1] - x[2] + x[4] :  14.9 :   True\n",
            "          2 :  -Inf :                                x[0] - x[3] - x[5] :   0.9 :   True\n",
            "          3 :  -Inf :                       -3.0*x[1] - 2.0*x[2] - x[5] : -51.7 :   True\n",
            "          4 :  -Inf :                   4.8*x[3] + 9.12*x[4] + 7.2*x[5] :  75.0 :   True\n",
            "          5 :  -Inf : -0.8*x[0] - 1.5*x[1] + 8.0*x[2] - 2.0*x[3] + x[4] : -27.0 :   True\n",
            "\n",
            "5 Declarations: x_index x constraints_index constraints objective\n"
          ],
          "name": "stdout"
        }
      ]
    },
    {
      "cell_type": "code",
      "metadata": {
        "colab": {
          "base_uri": "https://localhost:8080/"
        },
        "id": "aVolWJ55rpbk",
        "outputId": "b81aa9ff-d213-48d0-8f9e-9d076f96311f"
      },
      "source": [
        "!apt-get install -y -qq coinor-cbc"
      ],
      "execution_count": 23,
      "outputs": [
        {
          "output_type": "stream",
          "text": [
            "Selecting previously unselected package coinor-libcoinutils3v5.\n",
            "(Reading database ... 148486 files and directories currently installed.)\n",
            "Preparing to unpack .../0-coinor-libcoinutils3v5_2.10.14+repack1-1_amd64.deb ...\n",
            "Unpacking coinor-libcoinutils3v5 (2.10.14+repack1-1) ...\n",
            "Selecting previously unselected package coinor-libosi1v5.\n",
            "Preparing to unpack .../1-coinor-libosi1v5_0.107.9+repack1-1_amd64.deb ...\n",
            "Unpacking coinor-libosi1v5 (0.107.9+repack1-1) ...\n",
            "Selecting previously unselected package coinor-libclp1.\n",
            "Preparing to unpack .../2-coinor-libclp1_1.16.11+repack1-1_amd64.deb ...\n",
            "Unpacking coinor-libclp1 (1.16.11+repack1-1) ...\n",
            "Selecting previously unselected package coinor-libcgl1.\n",
            "Preparing to unpack .../3-coinor-libcgl1_0.59.10+repack1-1_amd64.deb ...\n",
            "Unpacking coinor-libcgl1 (0.59.10+repack1-1) ...\n",
            "Selecting previously unselected package coinor-libcbc3.\n",
            "Preparing to unpack .../4-coinor-libcbc3_2.9.9+repack1-1_amd64.deb ...\n",
            "Unpacking coinor-libcbc3 (2.9.9+repack1-1) ...\n",
            "Selecting previously unselected package coinor-cbc.\n",
            "Preparing to unpack .../5-coinor-cbc_2.9.9+repack1-1_amd64.deb ...\n",
            "Unpacking coinor-cbc (2.9.9+repack1-1) ...\n",
            "Setting up coinor-libcoinutils3v5 (2.10.14+repack1-1) ...\n",
            "Setting up coinor-libosi1v5 (0.107.9+repack1-1) ...\n",
            "Setting up coinor-libclp1 (1.16.11+repack1-1) ...\n",
            "Setting up coinor-libcgl1 (0.59.10+repack1-1) ...\n",
            "Setting up coinor-libcbc3 (2.9.9+repack1-1) ...\n",
            "Setting up coinor-cbc (2.9.9+repack1-1) ...\n",
            "Processing triggers for man-db (2.8.3-2ubuntu0.1) ...\n",
            "Processing triggers for libc-bin (2.27-3ubuntu1.2) ...\n",
            "/sbin/ldconfig.real: /usr/local/lib/python3.7/dist-packages/ideep4py/lib/libmkldnn.so.0 is not a symbolic link\n",
            "\n"
          ],
          "name": "stdout"
        }
      ]
    },
    {
      "cell_type": "code",
      "metadata": {
        "id": "AMSMK_yMr1qG"
      },
      "source": [
        "opt_cbc = SolverFactory('cbc')"
      ],
      "execution_count": 24,
      "outputs": []
    },
    {
      "cell_type": "code",
      "metadata": {
        "colab": {
          "base_uri": "https://localhost:8080/"
        },
        "id": "UxsozmcBsChN",
        "outputId": "171b75b8-49a6-485d-b2e8-3ca1c2434fdb"
      },
      "source": [
        "result = opt_cbc.solve(model)\n",
        "print('Solver status:', result.solver.status)\n",
        "print('Solver termination condition:',result.solver.termination_condition)"
      ],
      "execution_count": 25,
      "outputs": [
        {
          "output_type": "stream",
          "text": [
            "WARNING: Loading a SolverResults object with a warning status into\n",
            "    model.name=\"unknown\";\n",
            "      - termination condition: unbounded\n",
            "      - message from solver: <undefined>\n",
            "Solver status: warning\n",
            "Solver termination condition: unbounded\n"
          ],
          "name": "stdout"
        }
      ]
    },
    {
      "cell_type": "markdown",
      "metadata": {
        "id": "aQbxaKbTz9EB"
      },
      "source": [
        "**Ex 1 part 7**\n",
        "\n",
        "The termination condition is unbounded as in this problem we can maximize the objective function indefinitely while satisfying the constraints.\n",
        "\n",
        "The solver status shows that we cannot find an optimal solution, as the feasible region is unbounded.\n",
        "\n",
        "We were solving the problem in the wrong sense, so the feasible region is unbounded and we are getting unbounded solution."
      ]
    },
    {
      "cell_type": "code",
      "metadata": {
        "colab": {
          "base_uri": "https://localhost:8080/"
        },
        "id": "hlnfXTzzsKJu",
        "outputId": "57eb3a31-eb68-4dbb-b10c-a07b47860eae"
      },
      "source": [
        "# resetting the sense to minimize\n",
        "model.objective.set_sense(minimize)\n",
        "model.pprint()\n"
      ],
      "execution_count": 26,
      "outputs": [
        {
          "output_type": "stream",
          "text": [
            "2 Set Declarations\n",
            "    constraints_index : Size=1, Index=None, Ordered=Insertion\n",
            "        Key  : Dimen : Domain : Size : Members\n",
            "        None :     1 :    Any :    5 : {1, 2, 3, 4, 5}\n",
            "    x_index : Size=1, Index=None, Ordered=False\n",
            "        Key  : Dimen : Domain : Size : Members\n",
            "        None :     1 :    Any :    6 : {0, 1, 2, 3, 4, 5}\n",
            "\n",
            "1 Var Declarations\n",
            "    x : Size=6, Index=x_index\n",
            "        Key : Lower : Value : Upper : Fixed : Stale : Domain\n",
            "          0 :     0 :  None :   inf : False :  True :  Reals\n",
            "          1 :     0 :  None :   inf : False :  True :  Reals\n",
            "          2 :     0 :  None :   inf : False :  True :  Reals\n",
            "          3 :     0 :  None :   inf : False :  True :  Reals\n",
            "          4 :     0 :  None :   inf : False :  True :  Reals\n",
            "          5 :     0 :  None :   inf : False :  True :  Reals\n",
            "\n",
            "1 Objective Declarations\n",
            "    objective : Size=1, Index=None, Active=True\n",
            "        Key  : Active : Sense    : Expression\n",
            "        None :   True : minimize : 0.85*x[0] + 3.75*x[1] - 8.75*x[2] - 3.45*x[3] - 22.38*x[4] + 20.0*x[5]\n",
            "\n",
            "1 Constraint Declarations\n",
            "    constraints : Size=5, Index=constraints_index, Active=True\n",
            "        Key : Lower : Body                                              : Upper : Active\n",
            "          1 :  -Inf :                -0.7*x[0] - 3.9*x[1] - x[2] + x[4] :  14.9 :   True\n",
            "          2 :  -Inf :                                x[0] - x[3] - x[5] :   0.9 :   True\n",
            "          3 :  -Inf :                       -3.0*x[1] - 2.0*x[2] - x[5] : -51.7 :   True\n",
            "          4 :  -Inf :                   4.8*x[3] + 9.12*x[4] + 7.2*x[5] :  75.0 :   True\n",
            "          5 :  -Inf : -0.8*x[0] - 1.5*x[1] + 8.0*x[2] - 2.0*x[3] + x[4] : -27.0 :   True\n",
            "\n",
            "5 Declarations: x_index x constraints_index constraints objective\n"
          ],
          "name": "stdout"
        }
      ]
    },
    {
      "cell_type": "code",
      "metadata": {
        "colab": {
          "base_uri": "https://localhost:8080/"
        },
        "id": "tK77xc7GsvIY",
        "outputId": "ce43f81e-96cd-47fe-afa4-e5f1395159dc"
      },
      "source": [
        "result = opt_cbc.solve(model)\n",
        "print(result)\n",
        "print('SolverStatus:', result.solver.status)\n",
        "print('Termination Condition:', result.solver.termination_condition)"
      ],
      "execution_count": 27,
      "outputs": [
        {
          "output_type": "stream",
          "text": [
            "\n",
            "Problem: \n",
            "- Name: unknown\n",
            "  Lower bound: -97.02184211\n",
            "  Upper bound: -97.02184211\n",
            "  Number of objectives: 1\n",
            "  Number of constraints: 6\n",
            "  Number of variables: 7\n",
            "  Number of nonzeros: 6\n",
            "  Sense: minimize\n",
            "Solver: \n",
            "- Status: ok\n",
            "  User time: -1.0\n",
            "  System time: 0.0\n",
            "  Wallclock time: 0.0\n",
            "  Termination condition: optimal\n",
            "  Termination message: Model was solved to optimality (subject to tolerances), and an optimal solution is available.\n",
            "  Statistics: \n",
            "    Branch and bound: \n",
            "      Number of bounded subproblems: None\n",
            "      Number of created subproblems: None\n",
            "    Black box: \n",
            "      Number of iterations: 6\n",
            "  Error rc: 0\n",
            "  Time: 0.022484540939331055\n",
            "Solution: \n",
            "- number of solutions: 0\n",
            "  number of solutions displayed: 0\n",
            "\n",
            "SolverStatus: ok\n",
            "Termination Condition: optimal\n"
          ],
          "name": "stdout"
        }
      ]
    },
    {
      "cell_type": "code",
      "metadata": {
        "colab": {
          "base_uri": "https://localhost:8080/"
        },
        "id": "-SCfbsgWtD48",
        "outputId": "ed9b6252-86cf-40d1-8350-23107edc2c7b"
      },
      "source": [
        "# display results\n",
        "print('Objective Function:', model.objective())\n",
        "print('\\nDecision Variables: ')\n",
        "for j in col_indices:\n",
        "      print('x[',j,']= ', model.x[j].value)\n",
        "print('\\nConstraints:')\n",
        "model.constraints.display()      "
      ],
      "execution_count": 28,
      "outputs": [
        {
          "output_type": "stream",
          "text": [
            "Objective Function: -97.02184239599997\n",
            "\n",
            "Decision Variables: \n",
            "x[ 0 ]=  0.9\n",
            "x[ 1 ]=  23.002456\n",
            "x[ 2 ]=  0.0\n",
            "x[ 3 ]=  0.0\n",
            "x[ 4 ]=  8.2236842\n",
            "x[ 5 ]=  0.0\n",
            "\n",
            "Constraints:\n",
            "constraints : Size=5\n",
            "    Key : Lower : Body                : Upper\n",
            "      1 :  None :         -82.1158942 :  14.9\n",
            "      2 :  None :                 0.9 :   0.9\n",
            "      3 :  None :          -69.007368 : -51.7\n",
            "      4 :  None :   74.99999990399999 :  75.0\n",
            "      5 :  None : -26.999999799999998 : -27.0\n"
          ],
          "name": "stdout"
        }
      ]
    },
    {
      "cell_type": "markdown",
      "metadata": {
        "id": "3rmDYYkP6fhw"
      },
      "source": [
        "PART 9)\n",
        "\n",
        "After changing the sense from maximize to minimize, we are now getting an optimal solution. The previous termination condition(unbounded) was due to wrong sense.\n",
        "\n",
        "Optimal Objective Value= -97.022\n",
        "\n",
        "optimal solution is: x1 = 0.9 ; x2 = 23.0024 ; x3 = 0 ; x4 = 0; x5 = 8.2236842 ; x6 = 0\n",
        "\n",
        "Constraint 2, 4 and 5 are active since they attain equality."
      ]
    },
    {
      "cell_type": "code",
      "metadata": {
        "id": "FRZ1kYtCtqvc"
      },
      "source": [
        ""
      ],
      "execution_count": 28,
      "outputs": []
    }
  ]
}