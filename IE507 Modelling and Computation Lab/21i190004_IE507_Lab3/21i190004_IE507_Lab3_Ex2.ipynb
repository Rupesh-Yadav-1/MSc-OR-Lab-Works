{
  "nbformat": 4,
  "nbformat_minor": 0,
  "metadata": {
    "colab": {
      "name": "21i190004_IE507_Lab3_Ex2.ipynb",
      "provenance": [],
      "collapsed_sections": []
    },
    "kernelspec": {
      "name": "python3",
      "display_name": "Python 3"
    },
    "language_info": {
      "name": "python"
    }
  },
  "cells": [
    {
      "cell_type": "code",
      "metadata": {
        "id": "kdrM0dj-CkvX",
        "colab": {
          "base_uri": "https://localhost:8080/"
        },
        "outputId": "e1eea910-5cf6-443a-8169-cb1b8d98785c"
      },
      "source": [
        "!pip install -q pyomo"
      ],
      "execution_count": 1,
      "outputs": [
        {
          "output_type": "stream",
          "text": [
            "\u001b[K     |████████████████████████████████| 9.1 MB 6.6 MB/s \n",
            "\u001b[K     |████████████████████████████████| 49 kB 5.3 MB/s \n",
            "\u001b[?25h"
          ],
          "name": "stdout"
        }
      ]
    },
    {
      "cell_type": "code",
      "metadata": {
        "id": "v0-xE7xeG-zD"
      },
      "source": [
        "from pyomo.environ import *"
      ],
      "execution_count": 2,
      "outputs": []
    },
    {
      "cell_type": "code",
      "metadata": {
        "id": "fNEZyjyTHCgw"
      },
      "source": [
        "import numpy as np"
      ],
      "execution_count": 3,
      "outputs": []
    },
    {
      "cell_type": "markdown",
      "metadata": {
        "id": "vS0A8qF9HFY-"
      },
      "source": [
        "# Exercise 2 part 1"
      ]
    },
    {
      "cell_type": "markdown",
      "metadata": {
        "id": "DYufCBR-RuM9"
      },
      "source": [
        "We will model this problem in following way \\\\\n",
        "let us consider $x_i's$ as binary variables. Where $x_i=1,$ if course Ci is taken and $x_i=0$ if not, where $i \\in \\{ 0,1,2,3,4,5,6,7,8,9,10 \\}$. \\\\\n",
        "The objective function for our problem will be \\\\\n",
        "$\\text{Maximize }\\sum_{i=0}^{10} a_i*x_i  $, Where $a_i$ is the given credit for course Ci \\\\\n",
        "Subject to \\\\\n",
        "$-\\sum_{i=0}^{10} x_i \\leq -5, \\\\\n",
        " \\sum_{i=0}^{10} x_i \\leq 9, \\\\\n",
        "x_2+x_7 \\leq 1,\\\\\n",
        "x_4+x_9 \\leq 1, \\\\\n",
        "x_2+x_8 \\leq 1, \\\\\n",
        "x_{10}-x_0 \\leq 0, \\\\\n",
        "-x_0-x_1-x_2 \\leq -1, \\\\\n",
        "x_0+x_1+x_2 \\leq 2, \\\\\n",
        "x_5+x_6 \\leq 1, \\\\\n",
        "x_3+x_6+x_9 \\leq 2$"
      ]
    },
    {
      "cell_type": "markdown",
      "metadata": {
        "id": "84k103EWXlgR"
      },
      "source": [
        "# Exercise 2 part 3"
      ]
    },
    {
      "cell_type": "code",
      "metadata": {
        "id": "0R7JLCciHGC0"
      },
      "source": [
        "model_lab3_milp = ConcreteModel()"
      ],
      "execution_count": 4,
      "outputs": []
    },
    {
      "cell_type": "code",
      "metadata": {
        "colab": {
          "base_uri": "https://localhost:8080/"
        },
        "id": "HbIWvbeMHR4c",
        "outputId": "556ebf31-3d1a-452b-a31a-a24e6615b172"
      },
      "source": [
        "N = 11\n",
        "M=10\n",
        "col_indices = np.arange(N)\n",
        "print(col_indices)\n",
        "row_indices = np.arange(M)\n",
        "print(row_indices)"
      ],
      "execution_count": 5,
      "outputs": [
        {
          "output_type": "stream",
          "text": [
            "[ 0  1  2  3  4  5  6  7  8  9 10]\n",
            "[0 1 2 3 4 5 6 7 8 9]\n"
          ],
          "name": "stdout"
        }
      ]
    },
    {
      "cell_type": "code",
      "metadata": {
        "id": "npFZlsNvHcqm"
      },
      "source": [
        "obj_coef_c = np.array([3,2,6,5,5,4,6,8,8,5,4]) \n"
      ],
      "execution_count": 6,
      "outputs": []
    },
    {
      "cell_type": "code",
      "metadata": {
        "id": "U3z5iJvbHwpe"
      },
      "source": [
        "constr_coef_A=np.array([[-1,-1,-1,-1,-1,-1,-1,-1,-1,-1,-1],[1,1,1,1,1,1,1,1,1,1,1],[0,0,1,0,0,0,0,1,0,0,0],[0,0,0,0,1,0,0,0,0,1,0],[0,0,1,0,0,0,0,0,1,0,0],[-1,0,0,0,0,0,0,0,0,0,1],[-1,-1,-1,0,0,0,0,0,0,0,0],[1,1,1,0,0,0,0,0,0,0,0],[0,0,0,0,0,1,1,0,0,0,0],[0,0,0,1,0,0,1,0,0,1,0]])\n",
        "constr_rhs_b=np.array([-5,9,1,1,1,0,-1,2,1,2])\n"
      ],
      "execution_count": 7,
      "outputs": []
    },
    {
      "cell_type": "code",
      "metadata": {
        "id": "pxWdBxkSKkAv"
      },
      "source": [
        "model_lab3_milp.x = Var(col_indices,domain=Binary)"
      ],
      "execution_count": 8,
      "outputs": []
    },
    {
      "cell_type": "code",
      "metadata": {
        "id": "Xr6h9mAWLXHh"
      },
      "source": [
        "model_lab3_milp.constraints = ConstraintList()"
      ],
      "execution_count": 9,
      "outputs": []
    },
    {
      "cell_type": "code",
      "metadata": {
        "id": "omiCRJaMK79c"
      },
      "source": [
        "for i in row_indices:\n",
        "  model_lab3_milp.constraints.add(sum(constr_coef_A[i][j]*model_lab3_milp.x[j] for j in col_indices) <= constr_rhs_b[i])"
      ],
      "execution_count": 10,
      "outputs": []
    },
    {
      "cell_type": "code",
      "metadata": {
        "colab": {
          "base_uri": "https://localhost:8080/"
        },
        "id": "iso5bWhaLi92",
        "outputId": "4b43b53c-510c-4d34-a18e-0ca5d3bfa575"
      },
      "source": [
        "model_lab3_milp.objective = Objective(expr =summation(obj_coef_c,model_lab3_milp.x), sense=maximize)\n",
        "\n",
        "model_lab3_milp.pprint() "
      ],
      "execution_count": 11,
      "outputs": [
        {
          "output_type": "stream",
          "text": [
            "2 Set Declarations\n",
            "    constraints_index : Size=1, Index=None, Ordered=Insertion\n",
            "        Key  : Dimen : Domain : Size : Members\n",
            "        None :     1 :    Any :   10 : {1, 2, 3, 4, 5, 6, 7, 8, 9, 10}\n",
            "    x_index : Size=1, Index=None, Ordered=False\n",
            "        Key  : Dimen : Domain : Size : Members\n",
            "        None :     1 :    Any :   11 : {0, 1, 2, 3, 4, 5, 6, 7, 8, 9, 10}\n",
            "\n",
            "1 Var Declarations\n",
            "    x : Size=11, Index=x_index\n",
            "        Key : Lower : Value : Upper : Fixed : Stale : Domain\n",
            "          0 :     0 :  None :     1 : False :  True : Binary\n",
            "          1 :     0 :  None :     1 : False :  True : Binary\n",
            "          2 :     0 :  None :     1 : False :  True : Binary\n",
            "          3 :     0 :  None :     1 : False :  True : Binary\n",
            "          4 :     0 :  None :     1 : False :  True : Binary\n",
            "          5 :     0 :  None :     1 : False :  True : Binary\n",
            "          6 :     0 :  None :     1 : False :  True : Binary\n",
            "          7 :     0 :  None :     1 : False :  True : Binary\n",
            "          8 :     0 :  None :     1 : False :  True : Binary\n",
            "          9 :     0 :  None :     1 : False :  True : Binary\n",
            "         10 :     0 :  None :     1 : False :  True : Binary\n",
            "\n",
            "1 Objective Declarations\n",
            "    objective : Size=1, Index=None, Active=True\n",
            "        Key  : Active : Sense    : Expression\n",
            "        None :   True : maximize : 3*x[0] + 2*x[1] + 6*x[2] + 5*x[3] + 5*x[4] + 4*x[5] + 6*x[6] + 8*x[7] + 8*x[8] + 5*x[9] + 4*x[10]\n",
            "\n",
            "1 Constraint Declarations\n",
            "    constraints : Size=10, Index=constraints_index, Active=True\n",
            "        Key : Lower : Body                                                                          : Upper : Active\n",
            "          1 :  -Inf : - x[0] - x[1] - x[2] - x[3] - x[4] - x[5] - x[6] - x[7] - x[8] - x[9] - x[10] :  -5.0 :   True\n",
            "          2 :  -Inf :   x[0] + x[1] + x[2] + x[3] + x[4] + x[5] + x[6] + x[7] + x[8] + x[9] + x[10] :   9.0 :   True\n",
            "          3 :  -Inf :                                                                   x[2] + x[7] :   1.0 :   True\n",
            "          4 :  -Inf :                                                                   x[4] + x[9] :   1.0 :   True\n",
            "          5 :  -Inf :                                                                   x[2] + x[8] :   1.0 :   True\n",
            "          6 :  -Inf :                                                                - x[0] + x[10] :   0.0 :   True\n",
            "          7 :  -Inf :                                                          - x[0] - x[1] - x[2] :  -1.0 :   True\n",
            "          8 :  -Inf :                                                            x[0] + x[1] + x[2] :   2.0 :   True\n",
            "          9 :  -Inf :                                                                   x[5] + x[6] :   1.0 :   True\n",
            "         10 :  -Inf :                                                            x[3] + x[6] + x[9] :   2.0 :   True\n",
            "\n",
            "5 Declarations: x_index x constraints_index constraints objective\n"
          ],
          "name": "stdout"
        }
      ]
    },
    {
      "cell_type": "code",
      "metadata": {
        "id": "BN4cIt80MCwH",
        "colab": {
          "base_uri": "https://localhost:8080/"
        },
        "outputId": "47a44c36-eb9b-4950-f6c6-54ad113412fe"
      },
      "source": [
        "!apt-get install -y -qq coinor-cbc"
      ],
      "execution_count": 12,
      "outputs": [
        {
          "output_type": "stream",
          "text": [
            "Selecting previously unselected package coinor-libcoinutils3v5.\n",
            "(Reading database ... 148486 files and directories currently installed.)\n",
            "Preparing to unpack .../0-coinor-libcoinutils3v5_2.10.14+repack1-1_amd64.deb ...\n",
            "Unpacking coinor-libcoinutils3v5 (2.10.14+repack1-1) ...\n",
            "Selecting previously unselected package coinor-libosi1v5.\n",
            "Preparing to unpack .../1-coinor-libosi1v5_0.107.9+repack1-1_amd64.deb ...\n",
            "Unpacking coinor-libosi1v5 (0.107.9+repack1-1) ...\n",
            "Selecting previously unselected package coinor-libclp1.\n",
            "Preparing to unpack .../2-coinor-libclp1_1.16.11+repack1-1_amd64.deb ...\n",
            "Unpacking coinor-libclp1 (1.16.11+repack1-1) ...\n",
            "Selecting previously unselected package coinor-libcgl1.\n",
            "Preparing to unpack .../3-coinor-libcgl1_0.59.10+repack1-1_amd64.deb ...\n",
            "Unpacking coinor-libcgl1 (0.59.10+repack1-1) ...\n",
            "Selecting previously unselected package coinor-libcbc3.\n",
            "Preparing to unpack .../4-coinor-libcbc3_2.9.9+repack1-1_amd64.deb ...\n",
            "Unpacking coinor-libcbc3 (2.9.9+repack1-1) ...\n",
            "Selecting previously unselected package coinor-cbc.\n",
            "Preparing to unpack .../5-coinor-cbc_2.9.9+repack1-1_amd64.deb ...\n",
            "Unpacking coinor-cbc (2.9.9+repack1-1) ...\n",
            "Setting up coinor-libcoinutils3v5 (2.10.14+repack1-1) ...\n",
            "Setting up coinor-libosi1v5 (0.107.9+repack1-1) ...\n",
            "Setting up coinor-libclp1 (1.16.11+repack1-1) ...\n",
            "Setting up coinor-libcgl1 (0.59.10+repack1-1) ...\n",
            "Setting up coinor-libcbc3 (2.9.9+repack1-1) ...\n",
            "Setting up coinor-cbc (2.9.9+repack1-1) ...\n",
            "Processing triggers for man-db (2.8.3-2ubuntu0.1) ...\n",
            "Processing triggers for libc-bin (2.27-3ubuntu1.2) ...\n",
            "/sbin/ldconfig.real: /usr/local/lib/python3.7/dist-packages/ideep4py/lib/libmkldnn.so.0 is not a symbolic link\n",
            "\n"
          ],
          "name": "stdout"
        }
      ]
    },
    {
      "cell_type": "code",
      "metadata": {
        "id": "zVgnUrHMMF92"
      },
      "source": [
        "opt_cbc = SolverFactory('cbc')"
      ],
      "execution_count": 13,
      "outputs": []
    },
    {
      "cell_type": "code",
      "metadata": {
        "colab": {
          "base_uri": "https://localhost:8080/"
        },
        "id": "t78zp-gJMKmK",
        "outputId": "8ef1c04a-0d67-4b74-b7e3-6a3749c88067"
      },
      "source": [
        "result = opt_cbc.solve(model_lab3_milp)\n",
        "print(result)\n",
        "\n",
        "print('Solver status:', result.solver.status)\n",
        "print('Solver termination condition:',result.solver.termination_condition)"
      ],
      "execution_count": 14,
      "outputs": [
        {
          "output_type": "stream",
          "text": [
            "\n",
            "Problem: \n",
            "- Name: unknown\n",
            "  Lower bound: 41.0\n",
            "  Upper bound: 41.0\n",
            "  Number of objectives: 1\n",
            "  Number of constraints: 10\n",
            "  Number of variables: 11\n",
            "  Number of binary variables: 11\n",
            "  Number of integer variables: 11\n",
            "  Number of nonzeros: 11\n",
            "  Sense: maximize\n",
            "Solver: \n",
            "- Status: ok\n",
            "  User time: -1.0\n",
            "  System time: 0.0\n",
            "  Wallclock time: 0.0\n",
            "  Termination condition: optimal\n",
            "  Termination message: Model was solved to optimality (subject to tolerances), and an optimal solution is available.\n",
            "  Statistics: \n",
            "    Branch and bound: \n",
            "      Number of bounded subproblems: 0\n",
            "      Number of created subproblems: 0\n",
            "    Black box: \n",
            "      Number of iterations: 0\n",
            "  Error rc: 0\n",
            "  Time: 0.0174863338470459\n",
            "Solution: \n",
            "- number of solutions: 0\n",
            "  number of solutions displayed: 0\n",
            "\n",
            "Solver status: ok\n",
            "Solver termination condition: optimal\n"
          ],
          "name": "stdout"
        }
      ]
    },
    {
      "cell_type": "markdown",
      "metadata": {
        "id": "0tnlHMkzfeHf"
      },
      "source": [
        "optimal values of objective and variables are as follows,"
      ]
    },
    {
      "cell_type": "code",
      "metadata": {
        "colab": {
          "base_uri": "https://localhost:8080/"
        },
        "id": "QnIKxIO5MP92",
        "outputId": "0ae95133-110f-4a47-a044-3823d93b7d81"
      },
      "source": [
        "# display solution\n",
        "print('\\nObjective = ', model_lab3_milp.objective())\n",
        "\n",
        "print('\\nDecision Variables')\n",
        "for i in col_indices:\n",
        "  print('x['+str(i)+']= ', model_lab3_milp.x[i].value)\n",
        " \n",
        "print('\\nConstraints')\n",
        "model_lab3_milp.constraints.display()"
      ],
      "execution_count": 15,
      "outputs": [
        {
          "output_type": "stream",
          "text": [
            "\n",
            "Objective =  41.0\n",
            "\n",
            "Decision Variables\n",
            "x[0]=  1.0\n",
            "x[1]=  1.0\n",
            "x[2]=  0.0\n",
            "x[3]=  1.0\n",
            "x[4]=  1.0\n",
            "x[5]=  0.0\n",
            "x[6]=  1.0\n",
            "x[7]=  1.0\n",
            "x[8]=  1.0\n",
            "x[9]=  0.0\n",
            "x[10]=  1.0\n",
            "\n",
            "Constraints\n",
            "constraints : Size=10\n",
            "    Key : Lower : Body : Upper\n",
            "      1 :  None : -8.0 :  -5.0\n",
            "      2 :  None :  8.0 :   9.0\n",
            "      3 :  None :  1.0 :   1.0\n",
            "      4 :  None :  1.0 :   1.0\n",
            "      5 :  None :  1.0 :   1.0\n",
            "      6 :  None :  0.0 :   0.0\n",
            "      7 :  None : -2.0 :  -1.0\n",
            "      8 :  None :  2.0 :   2.0\n",
            "      9 :  None :  1.0 :   1.0\n",
            "     10 :  None :  2.0 :   2.0\n"
          ],
          "name": "stdout"
        }
      ]
    },
    {
      "cell_type": "markdown",
      "metadata": {
        "id": "TL3SjC2eNOb5"
      },
      "source": [
        "# Exercise 2 part 4\n",
        "Here we are going to drop the integer constraints(i.e. $x_i's$ are binary) and will solve it as a linear program where $x_i's$ can be real."
      ]
    },
    {
      "cell_type": "code",
      "metadata": {
        "id": "YlKFe-EIMfZU"
      },
      "source": [
        "model_lab3 = ConcreteModel()"
      ],
      "execution_count": 16,
      "outputs": []
    },
    {
      "cell_type": "code",
      "metadata": {
        "id": "b-MVdioyNeMe"
      },
      "source": [
        "model_lab3.x = Var(col_indices)"
      ],
      "execution_count": 17,
      "outputs": []
    },
    {
      "cell_type": "code",
      "metadata": {
        "id": "bUA3Mye9OcWN"
      },
      "source": [
        "lb=np.array([0,0,0,0,0,0,0,0,0,0,0])\n",
        "ub=np.array([1,1,1,1,1,1,1,1,1,1,1]) "
      ],
      "execution_count": 18,
      "outputs": []
    },
    {
      "cell_type": "code",
      "metadata": {
        "id": "QL1lr-7FOl6c"
      },
      "source": [
        "for i in col_indices:\n",
        "  model_lab3.x[i].setlb(lb[i])\n",
        "  model_lab3.x[i].setub(ub[i])\n"
      ],
      "execution_count": 19,
      "outputs": []
    },
    {
      "cell_type": "code",
      "metadata": {
        "id": "7xHOPTqoNhxH"
      },
      "source": [
        "model_lab3.constraints = ConstraintList()"
      ],
      "execution_count": 20,
      "outputs": []
    },
    {
      "cell_type": "code",
      "metadata": {
        "id": "XBnblcLCNu4D"
      },
      "source": [
        "for i in row_indices:\n",
        "  model_lab3.constraints.add(sum(constr_coef_A[i][j]*model_lab3.x[j] for j in col_indices) <= constr_rhs_b[i])"
      ],
      "execution_count": 21,
      "outputs": []
    },
    {
      "cell_type": "code",
      "metadata": {
        "colab": {
          "base_uri": "https://localhost:8080/"
        },
        "id": "-TJ2J99xNy4c",
        "outputId": "44ebe873-cb2a-45e7-8ee3-e86ba6166253"
      },
      "source": [
        "model_lab3.objective = Objective(expr =summation(obj_coef_c,model_lab3.x), sense=maximize)\n",
        "\n",
        "model_lab3.pprint() "
      ],
      "execution_count": 22,
      "outputs": [
        {
          "output_type": "stream",
          "text": [
            "2 Set Declarations\n",
            "    constraints_index : Size=1, Index=None, Ordered=Insertion\n",
            "        Key  : Dimen : Domain : Size : Members\n",
            "        None :     1 :    Any :   10 : {1, 2, 3, 4, 5, 6, 7, 8, 9, 10}\n",
            "    x_index : Size=1, Index=None, Ordered=False\n",
            "        Key  : Dimen : Domain : Size : Members\n",
            "        None :     1 :    Any :   11 : {0, 1, 2, 3, 4, 5, 6, 7, 8, 9, 10}\n",
            "\n",
            "1 Var Declarations\n",
            "    x : Size=11, Index=x_index\n",
            "        Key : Lower : Value : Upper : Fixed : Stale : Domain\n",
            "          0 :     0 :  None :     1 : False :  True :  Reals\n",
            "          1 :     0 :  None :     1 : False :  True :  Reals\n",
            "          2 :     0 :  None :     1 : False :  True :  Reals\n",
            "          3 :     0 :  None :     1 : False :  True :  Reals\n",
            "          4 :     0 :  None :     1 : False :  True :  Reals\n",
            "          5 :     0 :  None :     1 : False :  True :  Reals\n",
            "          6 :     0 :  None :     1 : False :  True :  Reals\n",
            "          7 :     0 :  None :     1 : False :  True :  Reals\n",
            "          8 :     0 :  None :     1 : False :  True :  Reals\n",
            "          9 :     0 :  None :     1 : False :  True :  Reals\n",
            "         10 :     0 :  None :     1 : False :  True :  Reals\n",
            "\n",
            "1 Objective Declarations\n",
            "    objective : Size=1, Index=None, Active=True\n",
            "        Key  : Active : Sense    : Expression\n",
            "        None :   True : maximize : 3*x[0] + 2*x[1] + 6*x[2] + 5*x[3] + 5*x[4] + 4*x[5] + 6*x[6] + 8*x[7] + 8*x[8] + 5*x[9] + 4*x[10]\n",
            "\n",
            "1 Constraint Declarations\n",
            "    constraints : Size=10, Index=constraints_index, Active=True\n",
            "        Key : Lower : Body                                                                          : Upper : Active\n",
            "          1 :  -Inf : - x[0] - x[1] - x[2] - x[3] - x[4] - x[5] - x[6] - x[7] - x[8] - x[9] - x[10] :  -5.0 :   True\n",
            "          2 :  -Inf :   x[0] + x[1] + x[2] + x[3] + x[4] + x[5] + x[6] + x[7] + x[8] + x[9] + x[10] :   9.0 :   True\n",
            "          3 :  -Inf :                                                                   x[2] + x[7] :   1.0 :   True\n",
            "          4 :  -Inf :                                                                   x[4] + x[9] :   1.0 :   True\n",
            "          5 :  -Inf :                                                                   x[2] + x[8] :   1.0 :   True\n",
            "          6 :  -Inf :                                                                - x[0] + x[10] :   0.0 :   True\n",
            "          7 :  -Inf :                                                          - x[0] - x[1] - x[2] :  -1.0 :   True\n",
            "          8 :  -Inf :                                                            x[0] + x[1] + x[2] :   2.0 :   True\n",
            "          9 :  -Inf :                                                                   x[5] + x[6] :   1.0 :   True\n",
            "         10 :  -Inf :                                                            x[3] + x[6] + x[9] :   2.0 :   True\n",
            "\n",
            "5 Declarations: x_index x constraints_index constraints objective\n"
          ],
          "name": "stdout"
        }
      ]
    },
    {
      "cell_type": "code",
      "metadata": {
        "colab": {
          "base_uri": "https://localhost:8080/"
        },
        "id": "8ziTiC9BOFHz",
        "outputId": "eac60e20-256b-4e4c-ec21-40176f8fe50a"
      },
      "source": [
        "result2 = opt_cbc.solve(model_lab3)\n",
        "print(result2)\n",
        "\n",
        "print('Solver status:', result2.solver.status)\n",
        "print('Solver termination condition:',result2.solver.termination_condition)"
      ],
      "execution_count": 23,
      "outputs": [
        {
          "output_type": "stream",
          "text": [
            "\n",
            "Problem: \n",
            "- Name: unknown\n",
            "  Lower bound: 41.0\n",
            "  Upper bound: 41.0\n",
            "  Number of objectives: 1\n",
            "  Number of constraints: 11\n",
            "  Number of variables: 12\n",
            "  Number of nonzeros: 11\n",
            "  Sense: maximize\n",
            "Solver: \n",
            "- Status: ok\n",
            "  User time: -1.0\n",
            "  System time: 0.0\n",
            "  Wallclock time: 0.0\n",
            "  Termination condition: optimal\n",
            "  Termination message: Model was solved to optimality (subject to tolerances), and an optimal solution is available.\n",
            "  Statistics: \n",
            "    Branch and bound: \n",
            "      Number of bounded subproblems: None\n",
            "      Number of created subproblems: None\n",
            "    Black box: \n",
            "      Number of iterations: 5\n",
            "  Error rc: 0\n",
            "  Time: 0.015538215637207031\n",
            "Solution: \n",
            "- number of solutions: 0\n",
            "  number of solutions displayed: 0\n",
            "\n",
            "Solver status: ok\n",
            "Solver termination condition: optimal\n"
          ],
          "name": "stdout"
        }
      ]
    },
    {
      "cell_type": "markdown",
      "metadata": {
        "id": "NCe2YEZTfKOp"
      },
      "source": [
        "optimal values of objective and variables are as follows,"
      ]
    },
    {
      "cell_type": "code",
      "metadata": {
        "colab": {
          "base_uri": "https://localhost:8080/"
        },
        "id": "bOholJO4OKr1",
        "outputId": "97efe893-f80d-44a4-8a23-b77865e63aea"
      },
      "source": [
        "# display solution\n",
        "print('\\nObjective = ', model_lab3.objective())\n",
        "\n",
        "print('\\nDecision Variables')\n",
        "for i in col_indices:\n",
        "  print('x['+str(i)+']= ', model_lab3.x[i].value)\n",
        " \n",
        "print('\\nConstraints')\n",
        "model_lab3.constraints.display()"
      ],
      "execution_count": 24,
      "outputs": [
        {
          "output_type": "stream",
          "text": [
            "\n",
            "Objective =  41.0\n",
            "\n",
            "Decision Variables\n",
            "x[0]=  1.0\n",
            "x[1]=  1.0\n",
            "x[2]=  0.0\n",
            "x[3]=  1.0\n",
            "x[4]=  1.0\n",
            "x[5]=  0.0\n",
            "x[6]=  1.0\n",
            "x[7]=  1.0\n",
            "x[8]=  1.0\n",
            "x[9]=  0.0\n",
            "x[10]=  1.0\n",
            "\n",
            "Constraints\n",
            "constraints : Size=10\n",
            "    Key : Lower : Body : Upper\n",
            "      1 :  None : -8.0 :  -5.0\n",
            "      2 :  None :  8.0 :   9.0\n",
            "      3 :  None :  1.0 :   1.0\n",
            "      4 :  None :  1.0 :   1.0\n",
            "      5 :  None :  1.0 :   1.0\n",
            "      6 :  None :  0.0 :   0.0\n",
            "      7 :  None : -2.0 :  -1.0\n",
            "      8 :  None :  2.0 :   2.0\n",
            "      9 :  None :  1.0 :   1.0\n",
            "     10 :  None :  2.0 :   2.0\n"
          ],
          "name": "stdout"
        }
      ]
    },
    {
      "cell_type": "markdown",
      "metadata": {
        "id": "-ClMrxiJYUcp"
      },
      "source": [
        "# Exercise 2 part 5"
      ]
    },
    {
      "cell_type": "markdown",
      "metadata": {
        "id": "ZeRMwsi35cUD"
      },
      "source": [
        "If we had got decimal optimal values then merely rounding off will not give solution as after rounding off they need not satisfying the constraints. \\\\\n",
        "\n",
        "Even in the relaxed linear program we are getting the same optimal solutions as in milp because in order to maximize the objective, which has all positive weights to x[i], all the constraints will try to reach their upper bound at optimal position. And also since all the courses have different weights the course with more weight will try to get alloted in order to maximize the objective(for example assume if possible that x[2]=0.2 and x[7]=0.8 then it will give lesser objective value then the case when x[7] =1 and x[2]=0). Hence some x[i] will end up getting 1 and some 0. \\\\\n"
      ]
    },
    {
      "cell_type": "markdown",
      "metadata": {
        "id": "8IIzKiNQ5crB"
      },
      "source": [
        "# Exercise 2 part 6"
      ]
    },
    {
      "cell_type": "code",
      "metadata": {
        "id": "kxdduAH55-YA"
      },
      "source": [
        "model_lab3_milp.x11 = Var(domain=Binary)"
      ],
      "execution_count": 25,
      "outputs": []
    },
    {
      "cell_type": "code",
      "metadata": {
        "colab": {
          "base_uri": "https://localhost:8080/"
        },
        "id": "9fDVNRUZ6pMf",
        "outputId": "0b792ec5-aa75-4309-f25b-1647b86fc940"
      },
      "source": [
        "#to add the new constraint we do the following\n",
        "model_lab3_milp.constraints.add(expr = model_lab3_milp.x[7]+model_lab3_milp.x11 <= 1)\n",
        "model_lab3_milp.constraints.add(expr = model_lab3_milp.x[8]+model_lab3_milp.x11 <= 1)\n",
        "model_lab3_milp.constraints.add(expr = model_lab3_milp.x[9]+model_lab3_milp.x11 <= 1)"
      ],
      "execution_count": 26,
      "outputs": [
        {
          "output_type": "execute_result",
          "data": {
            "text/plain": [
              "<pyomo.core.base.constraint._GeneralConstraintData at 0x7fc18c265ec0>"
            ]
          },
          "metadata": {},
          "execution_count": 26
        }
      ]
    },
    {
      "cell_type": "code",
      "metadata": {
        "id": "WpW1HM_87Mug"
      },
      "source": [
        "model_lab3_milp.new_objective = Objective(expr = 9*model_lab3_milp.x11 + summation(obj_coef_c,model_lab3_milp.x),sense=maximize )"
      ],
      "execution_count": 27,
      "outputs": []
    },
    {
      "cell_type": "code",
      "metadata": {
        "colab": {
          "base_uri": "https://localhost:8080/"
        },
        "id": "Q82mjWn68UKi",
        "outputId": "03e3a381-9bc9-4a57-f459-946a556d1294"
      },
      "source": [
        "model_lab3_milp.pprint()"
      ],
      "execution_count": 28,
      "outputs": [
        {
          "output_type": "stream",
          "text": [
            "2 Set Declarations\n",
            "    constraints_index : Size=1, Index=None, Ordered=Insertion\n",
            "        Key  : Dimen : Domain : Size : Members\n",
            "        None :     1 :    Any :   13 : {1, 2, 3, 4, 5, 6, 7, 8, 9, 10, 11, 12, 13}\n",
            "    x_index : Size=1, Index=None, Ordered=False\n",
            "        Key  : Dimen : Domain : Size : Members\n",
            "        None :     1 :    Any :   11 : {0, 1, 2, 3, 4, 5, 6, 7, 8, 9, 10}\n",
            "\n",
            "2 Var Declarations\n",
            "    x : Size=11, Index=x_index\n",
            "        Key : Lower : Value : Upper : Fixed : Stale : Domain\n",
            "          0 :     0 :   1.0 :     1 : False : False : Binary\n",
            "          1 :     0 :   1.0 :     1 : False : False : Binary\n",
            "          2 :     0 :   0.0 :     1 : False : False : Binary\n",
            "          3 :     0 :   1.0 :     1 : False : False : Binary\n",
            "          4 :     0 :   1.0 :     1 : False : False : Binary\n",
            "          5 :     0 :   0.0 :     1 : False : False : Binary\n",
            "          6 :     0 :   1.0 :     1 : False : False : Binary\n",
            "          7 :     0 :   1.0 :     1 : False : False : Binary\n",
            "          8 :     0 :   1.0 :     1 : False : False : Binary\n",
            "          9 :     0 :   0.0 :     1 : False : False : Binary\n",
            "         10 :     0 :   1.0 :     1 : False : False : Binary\n",
            "    x11 : Size=1, Index=None\n",
            "        Key  : Lower : Value : Upper : Fixed : Stale : Domain\n",
            "        None :     0 :  None :     1 : False :  True : Binary\n",
            "\n",
            "2 Objective Declarations\n",
            "    new_objective : Size=1, Index=None, Active=True\n",
            "        Key  : Active : Sense    : Expression\n",
            "        None :   True : maximize : 9*x11 + (3*x[0] + 2*x[1] + 6*x[2] + 5*x[3] + 5*x[4] + 4*x[5] + 6*x[6] + 8*x[7] + 8*x[8] + 5*x[9] + 4*x[10])\n",
            "    objective : Size=1, Index=None, Active=True\n",
            "        Key  : Active : Sense    : Expression\n",
            "        None :   True : maximize : 3*x[0] + 2*x[1] + 6*x[2] + 5*x[3] + 5*x[4] + 4*x[5] + 6*x[6] + 8*x[7] + 8*x[8] + 5*x[9] + 4*x[10]\n",
            "\n",
            "1 Constraint Declarations\n",
            "    constraints : Size=13, Index=constraints_index, Active=True\n",
            "        Key : Lower : Body                                                                          : Upper : Active\n",
            "          1 :  -Inf : - x[0] - x[1] - x[2] - x[3] - x[4] - x[5] - x[6] - x[7] - x[8] - x[9] - x[10] :  -5.0 :   True\n",
            "          2 :  -Inf :   x[0] + x[1] + x[2] + x[3] + x[4] + x[5] + x[6] + x[7] + x[8] + x[9] + x[10] :   9.0 :   True\n",
            "          3 :  -Inf :                                                                   x[2] + x[7] :   1.0 :   True\n",
            "          4 :  -Inf :                                                                   x[4] + x[9] :   1.0 :   True\n",
            "          5 :  -Inf :                                                                   x[2] + x[8] :   1.0 :   True\n",
            "          6 :  -Inf :                                                                - x[0] + x[10] :   0.0 :   True\n",
            "          7 :  -Inf :                                                          - x[0] - x[1] - x[2] :  -1.0 :   True\n",
            "          8 :  -Inf :                                                            x[0] + x[1] + x[2] :   2.0 :   True\n",
            "          9 :  -Inf :                                                                   x[5] + x[6] :   1.0 :   True\n",
            "         10 :  -Inf :                                                            x[3] + x[6] + x[9] :   2.0 :   True\n",
            "         11 :  -Inf :                                                                    x[7] + x11 :   1.0 :   True\n",
            "         12 :  -Inf :                                                                    x[8] + x11 :   1.0 :   True\n",
            "         13 :  -Inf :                                                                    x[9] + x11 :   1.0 :   True\n",
            "\n",
            "7 Declarations: x_index x constraints_index constraints objective x11 new_objective\n"
          ],
          "name": "stdout"
        }
      ]
    },
    {
      "cell_type": "code",
      "metadata": {
        "id": "inRu6ets8Znb"
      },
      "source": [
        "model_lab3_milp.objective.deactivate()"
      ],
      "execution_count": 29,
      "outputs": []
    },
    {
      "cell_type": "code",
      "metadata": {
        "colab": {
          "base_uri": "https://localhost:8080/"
        },
        "id": "D55f8ELhGbis",
        "outputId": "faed0377-43e8-41b1-83bb-40b1cf37f241"
      },
      "source": [
        "model_lab3_milp.pprint()"
      ],
      "execution_count": 30,
      "outputs": [
        {
          "output_type": "stream",
          "text": [
            "2 Set Declarations\n",
            "    constraints_index : Size=1, Index=None, Ordered=Insertion\n",
            "        Key  : Dimen : Domain : Size : Members\n",
            "        None :     1 :    Any :   13 : {1, 2, 3, 4, 5, 6, 7, 8, 9, 10, 11, 12, 13}\n",
            "    x_index : Size=1, Index=None, Ordered=False\n",
            "        Key  : Dimen : Domain : Size : Members\n",
            "        None :     1 :    Any :   11 : {0, 1, 2, 3, 4, 5, 6, 7, 8, 9, 10}\n",
            "\n",
            "2 Var Declarations\n",
            "    x : Size=11, Index=x_index\n",
            "        Key : Lower : Value : Upper : Fixed : Stale : Domain\n",
            "          0 :     0 :   1.0 :     1 : False : False : Binary\n",
            "          1 :     0 :   1.0 :     1 : False : False : Binary\n",
            "          2 :     0 :   0.0 :     1 : False : False : Binary\n",
            "          3 :     0 :   1.0 :     1 : False : False : Binary\n",
            "          4 :     0 :   1.0 :     1 : False : False : Binary\n",
            "          5 :     0 :   0.0 :     1 : False : False : Binary\n",
            "          6 :     0 :   1.0 :     1 : False : False : Binary\n",
            "          7 :     0 :   1.0 :     1 : False : False : Binary\n",
            "          8 :     0 :   1.0 :     1 : False : False : Binary\n",
            "          9 :     0 :   0.0 :     1 : False : False : Binary\n",
            "         10 :     0 :   1.0 :     1 : False : False : Binary\n",
            "    x11 : Size=1, Index=None\n",
            "        Key  : Lower : Value : Upper : Fixed : Stale : Domain\n",
            "        None :     0 :  None :     1 : False :  True : Binary\n",
            "\n",
            "2 Objective Declarations\n",
            "    new_objective : Size=1, Index=None, Active=True\n",
            "        Key  : Active : Sense    : Expression\n",
            "        None :   True : maximize : 9*x11 + (3*x[0] + 2*x[1] + 6*x[2] + 5*x[3] + 5*x[4] + 4*x[5] + 6*x[6] + 8*x[7] + 8*x[8] + 5*x[9] + 4*x[10])\n",
            "    objective : Size=1, Index=None, Active=False\n",
            "        Key  : Active : Sense    : Expression\n",
            "        None :  False : maximize : 3*x[0] + 2*x[1] + 6*x[2] + 5*x[3] + 5*x[4] + 4*x[5] + 6*x[6] + 8*x[7] + 8*x[8] + 5*x[9] + 4*x[10]\n",
            "\n",
            "1 Constraint Declarations\n",
            "    constraints : Size=13, Index=constraints_index, Active=True\n",
            "        Key : Lower : Body                                                                          : Upper : Active\n",
            "          1 :  -Inf : - x[0] - x[1] - x[2] - x[3] - x[4] - x[5] - x[6] - x[7] - x[8] - x[9] - x[10] :  -5.0 :   True\n",
            "          2 :  -Inf :   x[0] + x[1] + x[2] + x[3] + x[4] + x[5] + x[6] + x[7] + x[8] + x[9] + x[10] :   9.0 :   True\n",
            "          3 :  -Inf :                                                                   x[2] + x[7] :   1.0 :   True\n",
            "          4 :  -Inf :                                                                   x[4] + x[9] :   1.0 :   True\n",
            "          5 :  -Inf :                                                                   x[2] + x[8] :   1.0 :   True\n",
            "          6 :  -Inf :                                                                - x[0] + x[10] :   0.0 :   True\n",
            "          7 :  -Inf :                                                          - x[0] - x[1] - x[2] :  -1.0 :   True\n",
            "          8 :  -Inf :                                                            x[0] + x[1] + x[2] :   2.0 :   True\n",
            "          9 :  -Inf :                                                                   x[5] + x[6] :   1.0 :   True\n",
            "         10 :  -Inf :                                                            x[3] + x[6] + x[9] :   2.0 :   True\n",
            "         11 :  -Inf :                                                                    x[7] + x11 :   1.0 :   True\n",
            "         12 :  -Inf :                                                                    x[8] + x11 :   1.0 :   True\n",
            "         13 :  -Inf :                                                                    x[9] + x11 :   1.0 :   True\n",
            "\n",
            "7 Declarations: x_index x constraints_index constraints objective x11 new_objective\n"
          ],
          "name": "stdout"
        }
      ]
    },
    {
      "cell_type": "code",
      "metadata": {
        "colab": {
          "base_uri": "https://localhost:8080/"
        },
        "id": "aKDCzKIg8zoq",
        "outputId": "8221ed27-68b2-43a5-cf8a-06d3f9e12925"
      },
      "source": [
        "result3 = opt_cbc.solve(model_lab3_milp)\n",
        "print(result3)\n",
        "\n",
        "print('Solver status:', result3.solver.status)\n",
        "print('Solver termination condition:',result3.solver.termination_condition)"
      ],
      "execution_count": 31,
      "outputs": [
        {
          "output_type": "stream",
          "text": [
            "\n",
            "Problem: \n",
            "- Name: unknown\n",
            "  Lower bound: 41.0\n",
            "  Upper bound: 41.0\n",
            "  Number of objectives: 1\n",
            "  Number of constraints: 13\n",
            "  Number of variables: 12\n",
            "  Number of binary variables: 12\n",
            "  Number of integer variables: 12\n",
            "  Number of nonzeros: 12\n",
            "  Sense: maximize\n",
            "Solver: \n",
            "- Status: ok\n",
            "  User time: -1.0\n",
            "  System time: 0.0\n",
            "  Wallclock time: 0.0\n",
            "  Termination condition: optimal\n",
            "  Termination message: Model was solved to optimality (subject to tolerances), and an optimal solution is available.\n",
            "  Statistics: \n",
            "    Branch and bound: \n",
            "      Number of bounded subproblems: 0\n",
            "      Number of created subproblems: 0\n",
            "    Black box: \n",
            "      Number of iterations: 0\n",
            "  Error rc: 0\n",
            "  Time: 0.026279926300048828\n",
            "Solution: \n",
            "- number of solutions: 0\n",
            "  number of solutions displayed: 0\n",
            "\n",
            "Solver status: ok\n",
            "Solver termination condition: optimal\n"
          ],
          "name": "stdout"
        }
      ]
    },
    {
      "cell_type": "markdown",
      "metadata": {
        "id": "3Nm8fwJoC6Hu"
      },
      "source": [
        "# Exercise 2 part 7"
      ]
    },
    {
      "cell_type": "code",
      "metadata": {
        "colab": {
          "base_uri": "https://localhost:8080/"
        },
        "id": "93R8k_Lw8_OV",
        "outputId": "521a0138-7106-4b8a-9dda-50cbd21ada9d"
      },
      "source": [
        "# display solution\n",
        "print('\\nObjective = ', model_lab3_milp.new_objective())\n",
        "\n",
        "print('\\nDecision Variables')\n",
        "for i in col_indices:\n",
        "  print('x['+str(i)+']= ', model_lab3_milp.x[i].value)\n",
        "print('x11=',model_lab3_milp.x11.value) \n",
        "print('\\nConstraints')\n",
        "model_lab3_milp.constraints.display()"
      ],
      "execution_count": 32,
      "outputs": [
        {
          "output_type": "stream",
          "text": [
            "\n",
            "Objective =  41.0\n",
            "\n",
            "Decision Variables\n",
            "x[0]=  1.0\n",
            "x[1]=  1.0\n",
            "x[2]=  0.0\n",
            "x[3]=  1.0\n",
            "x[4]=  1.0\n",
            "x[5]=  0.0\n",
            "x[6]=  1.0\n",
            "x[7]=  1.0\n",
            "x[8]=  1.0\n",
            "x[9]=  0.0\n",
            "x[10]=  1.0\n",
            "x11= 0.0\n",
            "\n",
            "Constraints\n",
            "constraints : Size=13\n",
            "    Key : Lower : Body : Upper\n",
            "      1 :  None : -8.0 :  -5.0\n",
            "      2 :  None :  8.0 :   9.0\n",
            "      3 :  None :  1.0 :   1.0\n",
            "      4 :  None :  1.0 :   1.0\n",
            "      5 :  None :  1.0 :   1.0\n",
            "      6 :  None :  0.0 :   0.0\n",
            "      7 :  None : -2.0 :  -1.0\n",
            "      8 :  None :  2.0 :   2.0\n",
            "      9 :  None :  1.0 :   1.0\n",
            "     10 :  None :  2.0 :   2.0\n",
            "     11 :  None :  1.0 :   1.0\n",
            "     12 :  None :  1.0 :   1.0\n",
            "     13 :  None :  0.0 :   1.0\n"
          ],
          "name": "stdout"
        }
      ]
    },
    {
      "cell_type": "code",
      "metadata": {
        "id": "JEVvlzhy9OeV"
      },
      "source": [
        ""
      ],
      "execution_count": 32,
      "outputs": []
    },
    {
      "cell_type": "markdown",
      "metadata": {
        "id": "eGfIu0T-AU8o"
      },
      "source": [
        "# Exercise 2 part 8"
      ]
    },
    {
      "cell_type": "markdown",
      "metadata": {
        "id": "ZQxwTIBiAVoD"
      },
      "source": [
        ""
      ]
    },
    {
      "cell_type": "code",
      "metadata": {
        "id": "PAwX7n5IAWL5"
      },
      "source": [
        "model_lab3.x11 = Var()"
      ],
      "execution_count": 33,
      "outputs": []
    },
    {
      "cell_type": "code",
      "metadata": {
        "colab": {
          "base_uri": "https://localhost:8080/"
        },
        "id": "1SjY-ndvAkTE",
        "outputId": "e7f648b9-c6d5-49ed-84a9-eb34550c5aa1"
      },
      "source": [
        "#to add the new constraint we do the following\n",
        "model_lab3.constraints.add(expr = model_lab3.x[7]+model_lab3.x11 <= 1)\n",
        "model_lab3.constraints.add(expr = model_lab3.x[8]+model_lab3.x11 <= 1)\n",
        "model_lab3.constraints.add(expr = model_lab3.x[9]+model_lab3.x11 <= 1)"
      ],
      "execution_count": 34,
      "outputs": [
        {
          "output_type": "execute_result",
          "data": {
            "text/plain": [
              "<pyomo.core.base.constraint._GeneralConstraintData at 0x7fc18c204d70>"
            ]
          },
          "metadata": {},
          "execution_count": 34
        }
      ]
    },
    {
      "cell_type": "code",
      "metadata": {
        "id": "MgI8K7XnAk-K"
      },
      "source": [
        "model_lab3.new_objective = Objective(expr = 9*model_lab3.x11 + summation(obj_coef_c,model_lab3.x),sense=maximize )"
      ],
      "execution_count": 35,
      "outputs": []
    },
    {
      "cell_type": "code",
      "metadata": {
        "id": "3bvPNugeA0E0"
      },
      "source": [
        "model_lab3.objective.deactivate()"
      ],
      "execution_count": 36,
      "outputs": []
    },
    {
      "cell_type": "code",
      "metadata": {
        "colab": {
          "base_uri": "https://localhost:8080/"
        },
        "id": "SlR3LHvlAolB",
        "outputId": "cf743f8a-60cf-476c-9c17-856b3b12413c"
      },
      "source": [
        "model_lab3.pprint()"
      ],
      "execution_count": 37,
      "outputs": [
        {
          "output_type": "stream",
          "text": [
            "2 Set Declarations\n",
            "    constraints_index : Size=1, Index=None, Ordered=Insertion\n",
            "        Key  : Dimen : Domain : Size : Members\n",
            "        None :     1 :    Any :   13 : {1, 2, 3, 4, 5, 6, 7, 8, 9, 10, 11, 12, 13}\n",
            "    x_index : Size=1, Index=None, Ordered=False\n",
            "        Key  : Dimen : Domain : Size : Members\n",
            "        None :     1 :    Any :   11 : {0, 1, 2, 3, 4, 5, 6, 7, 8, 9, 10}\n",
            "\n",
            "2 Var Declarations\n",
            "    x : Size=11, Index=x_index\n",
            "        Key : Lower : Value : Upper : Fixed : Stale : Domain\n",
            "          0 :     0 :   1.0 :     1 : False : False :  Reals\n",
            "          1 :     0 :   1.0 :     1 : False : False :  Reals\n",
            "          2 :     0 :   0.0 :     1 : False : False :  Reals\n",
            "          3 :     0 :   1.0 :     1 : False : False :  Reals\n",
            "          4 :     0 :   1.0 :     1 : False : False :  Reals\n",
            "          5 :     0 :   0.0 :     1 : False : False :  Reals\n",
            "          6 :     0 :   1.0 :     1 : False : False :  Reals\n",
            "          7 :     0 :   1.0 :     1 : False : False :  Reals\n",
            "          8 :     0 :   1.0 :     1 : False : False :  Reals\n",
            "          9 :     0 :   0.0 :     1 : False : False :  Reals\n",
            "         10 :     0 :   1.0 :     1 : False : False :  Reals\n",
            "    x11 : Size=1, Index=None\n",
            "        Key  : Lower : Value : Upper : Fixed : Stale : Domain\n",
            "        None :  None :  None :  None : False :  True :  Reals\n",
            "\n",
            "2 Objective Declarations\n",
            "    new_objective : Size=1, Index=None, Active=True\n",
            "        Key  : Active : Sense    : Expression\n",
            "        None :   True : maximize : 9*x11 + (3*x[0] + 2*x[1] + 6*x[2] + 5*x[3] + 5*x[4] + 4*x[5] + 6*x[6] + 8*x[7] + 8*x[8] + 5*x[9] + 4*x[10])\n",
            "    objective : Size=1, Index=None, Active=False\n",
            "        Key  : Active : Sense    : Expression\n",
            "        None :  False : maximize : 3*x[0] + 2*x[1] + 6*x[2] + 5*x[3] + 5*x[4] + 4*x[5] + 6*x[6] + 8*x[7] + 8*x[8] + 5*x[9] + 4*x[10]\n",
            "\n",
            "1 Constraint Declarations\n",
            "    constraints : Size=13, Index=constraints_index, Active=True\n",
            "        Key : Lower : Body                                                                          : Upper : Active\n",
            "          1 :  -Inf : - x[0] - x[1] - x[2] - x[3] - x[4] - x[5] - x[6] - x[7] - x[8] - x[9] - x[10] :  -5.0 :   True\n",
            "          2 :  -Inf :   x[0] + x[1] + x[2] + x[3] + x[4] + x[5] + x[6] + x[7] + x[8] + x[9] + x[10] :   9.0 :   True\n",
            "          3 :  -Inf :                                                                   x[2] + x[7] :   1.0 :   True\n",
            "          4 :  -Inf :                                                                   x[4] + x[9] :   1.0 :   True\n",
            "          5 :  -Inf :                                                                   x[2] + x[8] :   1.0 :   True\n",
            "          6 :  -Inf :                                                                - x[0] + x[10] :   0.0 :   True\n",
            "          7 :  -Inf :                                                          - x[0] - x[1] - x[2] :  -1.0 :   True\n",
            "          8 :  -Inf :                                                            x[0] + x[1] + x[2] :   2.0 :   True\n",
            "          9 :  -Inf :                                                                   x[5] + x[6] :   1.0 :   True\n",
            "         10 :  -Inf :                                                            x[3] + x[6] + x[9] :   2.0 :   True\n",
            "         11 :  -Inf :                                                                    x[7] + x11 :   1.0 :   True\n",
            "         12 :  -Inf :                                                                    x[8] + x11 :   1.0 :   True\n",
            "         13 :  -Inf :                                                                    x[9] + x11 :   1.0 :   True\n",
            "\n",
            "7 Declarations: x_index x constraints_index constraints objective x11 new_objective\n"
          ],
          "name": "stdout"
        }
      ]
    },
    {
      "cell_type": "code",
      "metadata": {
        "colab": {
          "base_uri": "https://localhost:8080/"
        },
        "id": "GwvumviEA8VY",
        "outputId": "351f4f45-8b3c-4466-c2bb-b00c1ea2e86f"
      },
      "source": [
        "result4 = opt_cbc.solve(model_lab3)\n",
        "print(result4)\n",
        "\n",
        "print('Solver status:', result4.solver.status)\n",
        "print('Solver termination condition:',result4.solver.termination_condition)"
      ],
      "execution_count": 38,
      "outputs": [
        {
          "output_type": "stream",
          "text": [
            "\n",
            "Problem: \n",
            "- Name: unknown\n",
            "  Lower bound: 41.0\n",
            "  Upper bound: 41.0\n",
            "  Number of objectives: 1\n",
            "  Number of constraints: 14\n",
            "  Number of variables: 13\n",
            "  Number of nonzeros: 12\n",
            "  Sense: maximize\n",
            "Solver: \n",
            "- Status: ok\n",
            "  User time: -1.0\n",
            "  System time: 0.0\n",
            "  Wallclock time: 0.0\n",
            "  Termination condition: optimal\n",
            "  Termination message: Model was solved to optimality (subject to tolerances), and an optimal solution is available.\n",
            "  Statistics: \n",
            "    Branch and bound: \n",
            "      Number of bounded subproblems: None\n",
            "      Number of created subproblems: None\n",
            "    Black box: \n",
            "      Number of iterations: 7\n",
            "  Error rc: 0\n",
            "  Time: 0.021273136138916016\n",
            "Solution: \n",
            "- number of solutions: 0\n",
            "  number of solutions displayed: 0\n",
            "\n",
            "Solver status: ok\n",
            "Solver termination condition: optimal\n"
          ],
          "name": "stdout"
        }
      ]
    },
    {
      "cell_type": "code",
      "metadata": {
        "colab": {
          "base_uri": "https://localhost:8080/"
        },
        "id": "uWqHUA9wA_TR",
        "outputId": "3ef39657-556d-4440-b92a-258653ea34d5"
      },
      "source": [
        "# display solution\n",
        "print('\\nObjective = ', model_lab3.new_objective())\n",
        "\n",
        "print('\\nDecision Variables')\n",
        "for i in col_indices:\n",
        "  print('x['+str(i)+']= ', model_lab3.x[i].value)\n",
        "print('x[11]=',model_lab3.x11.value) \n",
        "print('\\nConstraints')\n",
        "model_lab3.constraints.display()"
      ],
      "execution_count": 41,
      "outputs": [
        {
          "output_type": "stream",
          "text": [
            "\n",
            "Objective =  41.0\n",
            "\n",
            "Decision Variables\n",
            "x[0]=  1.0\n",
            "x[1]=  1.0\n",
            "x[2]=  0.0\n",
            "x[3]=  1.0\n",
            "x[4]=  1.0\n",
            "x[5]=  0.0\n",
            "x[6]=  1.0\n",
            "x[7]=  1.0\n",
            "x[8]=  1.0\n",
            "x[9]=  0.0\n",
            "x[10]=  1.0\n",
            "x[11]= 0.0\n",
            "\n",
            "Constraints\n",
            "constraints : Size=13\n",
            "    Key : Lower : Body : Upper\n",
            "      1 :  None : -8.0 :  -5.0\n",
            "      2 :  None :  8.0 :   9.0\n",
            "      3 :  None :  1.0 :   1.0\n",
            "      4 :  None :  1.0 :   1.0\n",
            "      5 :  None :  1.0 :   1.0\n",
            "      6 :  None :  0.0 :   0.0\n",
            "      7 :  None : -2.0 :  -1.0\n",
            "      8 :  None :  2.0 :   2.0\n",
            "      9 :  None :  1.0 :   1.0\n",
            "     10 :  None :  2.0 :   2.0\n",
            "     11 :  None :  1.0 :   1.0\n",
            "     12 :  None :  1.0 :   1.0\n",
            "     13 :  None :  0.0 :   1.0\n"
          ],
          "name": "stdout"
        }
      ]
    },
    {
      "cell_type": "markdown",
      "metadata": {
        "id": "TUd-dNqQFrSs"
      },
      "source": [
        "No, If we had got decimal optimal values then merely rounding off will not give solution as after rounding off they need not satisfying the constraints. \\\\\n",
        "First of all in lpp with new constraints we are getting x[11]=0 as if x[11] would have 1 then it forces x[7], x[8] and x[9] to be 0. So, x[11]=0 even after having high 9 credits. \\\\\n",
        "Now we are getting same solutions as in milp due to the same reason stated in part 5.  "
      ]
    }
  ]
}