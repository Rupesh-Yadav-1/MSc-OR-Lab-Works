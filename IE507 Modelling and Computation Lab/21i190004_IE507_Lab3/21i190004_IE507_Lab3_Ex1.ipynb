{
  "nbformat": 4,
  "nbformat_minor": 0,
  "metadata": {
    "colab": {
      "name": "21i190004_IE507_Lab3_Ex1.ipynb",
      "provenance": [],
      "collapsed_sections": []
    },
    "kernelspec": {
      "name": "python3",
      "display_name": "Python 3"
    },
    "language_info": {
      "name": "python"
    }
  },
  "cells": [
    {
      "cell_type": "code",
      "metadata": {
        "id": "0xWobpkpUvWt"
      },
      "source": [
        "!pip install -q pyomo"
      ],
      "execution_count": 1,
      "outputs": []
    },
    {
      "cell_type": "code",
      "metadata": {
        "id": "0fI_-Op8qRJh"
      },
      "source": [
        "from pyomo.environ import *"
      ],
      "execution_count": 2,
      "outputs": []
    },
    {
      "cell_type": "code",
      "metadata": {
        "id": "KkmMFsHOqUFL"
      },
      "source": [
        "import numpy as np"
      ],
      "execution_count": 3,
      "outputs": []
    },
    {
      "cell_type": "markdown",
      "metadata": {
        "id": "FntvFIelqpB4"
      },
      "source": [
        "$\\min \\ x_1 - 2x_2 + 3x_3\\\\ \\text{ s.t.  } x_1\\geq 1, x_2 \\geq 2, x_3 \\geq 1,\\\\  2x_1 + x_2 + 2x_3 \\leq 10, \\\\\n",
        " -x_1+ x_2 + 2x_3 \\leq -3, \\\\\n",
        " 2x_1 - 3x_2 + x_3 \\leq -6$."
      ]
    },
    {
      "cell_type": "markdown",
      "metadata": {
        "id": "BI4EtP4szc4P"
      },
      "source": [
        "# Exercise 1 part 1"
      ]
    },
    {
      "cell_type": "code",
      "metadata": {
        "id": "NLXWzkPFrq9w"
      },
      "source": [
        "model_lab3 = ConcreteModel()"
      ],
      "execution_count": 4,
      "outputs": []
    },
    {
      "cell_type": "code",
      "metadata": {
        "colab": {
          "base_uri": "https://localhost:8080/"
        },
        "id": "U9zkFGRZruKA",
        "outputId": "02bea85d-0981-4bce-93e2-eebdbc593ad6"
      },
      "source": [
        "N = 3 #number of decision variables \n",
        "M = 3 #number of constraints without considering the bound constraints  \n",
        "lb=np.array([1,2,1])\n",
        "ub=np.array([np.inf,np.inf,np.inf]) \n",
        "obj_coef_c = np.array([1,-2,3]) \n",
        "constr_coef_A=np.array([[2,1,2],[-1,1,2],[2,-3,1]])\n",
        "constr_rhs_b=np.array([10,-3,-6])\n",
        "row_indices=np.arange(M)\n",
        "print(row_indices)\n",
        "col_indices = np.arange(N)\n",
        "print(col_indices)"
      ],
      "execution_count": 5,
      "outputs": [
        {
          "output_type": "stream",
          "text": [
            "[0 1 2]\n",
            "[0 1 2]\n"
          ],
          "name": "stdout"
        }
      ]
    },
    {
      "cell_type": "code",
      "metadata": {
        "id": "aK8hjxn8sbdX"
      },
      "source": [
        "model_lab3.x=Var(col_indices)\n",
        "model_lab3.constraints = ConstraintList()"
      ],
      "execution_count": 6,
      "outputs": []
    },
    {
      "cell_type": "code",
      "metadata": {
        "id": "M6_IQOy_sf0Q"
      },
      "source": [
        "for i in col_indices:\n",
        "  model_lab3.x[i].setlb(lb[i])\n",
        "  model_lab3.x[i].setub(ub[i])\n"
      ],
      "execution_count": 7,
      "outputs": []
    },
    {
      "cell_type": "code",
      "metadata": {
        "id": "h2t4w5OCskHI"
      },
      "source": [
        "for i in row_indices:\n",
        "  model_lab3.constraints.add(sum(constr_coef_A[i][j]*model_lab3.x[j] for j in col_indices) <= constr_rhs_b[i])"
      ],
      "execution_count": 8,
      "outputs": []
    },
    {
      "cell_type": "code",
      "metadata": {
        "colab": {
          "base_uri": "https://localhost:8080/"
        },
        "id": "QBXEVtmasutE",
        "outputId": "42079ce1-b133-45f2-e580-fb3281393911"
      },
      "source": [
        "model_lab3.objective = Objective(expr =summation(obj_coef_c,model_lab3.x), sense=minimize)\n",
        "model_lab3.pprint() "
      ],
      "execution_count": 9,
      "outputs": [
        {
          "output_type": "stream",
          "text": [
            "2 Set Declarations\n",
            "    constraints_index : Size=1, Index=None, Ordered=Insertion\n",
            "        Key  : Dimen : Domain : Size : Members\n",
            "        None :     1 :    Any :    3 : {1, 2, 3}\n",
            "    x_index : Size=1, Index=None, Ordered=False\n",
            "        Key  : Dimen : Domain : Size : Members\n",
            "        None :     1 :    Any :    3 : {0, 1, 2}\n",
            "\n",
            "1 Var Declarations\n",
            "    x : Size=3, Index=x_index\n",
            "        Key : Lower : Value : Upper : Fixed : Stale : Domain\n",
            "          0 :     1 :  None :   inf : False :  True :  Reals\n",
            "          1 :     2 :  None :   inf : False :  True :  Reals\n",
            "          2 :     1 :  None :   inf : False :  True :  Reals\n",
            "\n",
            "1 Objective Declarations\n",
            "    objective : Size=1, Index=None, Active=True\n",
            "        Key  : Active : Sense    : Expression\n",
            "        None :   True : minimize : x[0] - 2.0*x[1] + 3*x[2]\n",
            "\n",
            "1 Constraint Declarations\n",
            "    constraints : Size=3, Index=constraints_index, Active=True\n",
            "        Key : Lower : Body                   : Upper : Active\n",
            "          1 :  -Inf : 2*x[0] + x[1] + 2*x[2] :  10.0 :   True\n",
            "          2 :  -Inf : - x[0] + x[1] + 2*x[2] :  -3.0 :   True\n",
            "          3 :  -Inf : 2*x[0] - 3*x[1] + x[2] :  -6.0 :   True\n",
            "\n",
            "5 Declarations: x_index x constraints_index constraints objective\n"
          ],
          "name": "stdout"
        }
      ]
    },
    {
      "cell_type": "markdown",
      "metadata": {
        "id": "qo9QLropt-4k"
      },
      "source": [
        "**Solving using glpk solver**"
      ]
    },
    {
      "cell_type": "code",
      "metadata": {
        "id": "CAFgJXTXtfJq"
      },
      "source": [
        "!apt-get install -y -qq glpk-utils"
      ],
      "execution_count": 10,
      "outputs": []
    },
    {
      "cell_type": "code",
      "metadata": {
        "colab": {
          "base_uri": "https://localhost:8080/"
        },
        "id": "1xG75uUrtulR",
        "outputId": "4c146c91-408d-46af-ad6e-86aa0d3c2ed6"
      },
      "source": [
        "opt = SolverFactory('glpk', executable='/usr/bin/glpsol')\n",
        "#.solve(model1).write()\n",
        "result = opt.solve(model_lab3)\n",
        "print(result)\n",
        "\n",
        "print('Solver status:', result.solver.status)\n",
        "print('Solver termination condition:',result.solver.termination_condition)"
      ],
      "execution_count": 11,
      "outputs": [
        {
          "output_type": "stream",
          "text": [
            "\n",
            "Problem: \n",
            "- Name: unknown\n",
            "  Lower bound: -inf\n",
            "  Upper bound: inf\n",
            "  Number of objectives: 1\n",
            "  Number of constraints: 4\n",
            "  Number of variables: 4\n",
            "  Number of nonzeros: 10\n",
            "  Sense: minimize\n",
            "Solver: \n",
            "- Status: ok\n",
            "  Termination condition: other\n",
            "  Statistics: \n",
            "    Branch and bound: \n",
            "      Number of bounded subproblems: 0\n",
            "      Number of created subproblems: 0\n",
            "  Error rc: 0\n",
            "  Time: 0.011321544647216797\n",
            "\n",
            "Solver status: ok\n",
            "Solver termination condition: other\n"
          ],
          "name": "stdout"
        }
      ]
    },
    {
      "cell_type": "markdown",
      "metadata": {
        "id": "UOvhtLxgvHKC"
      },
      "source": [
        "Solving with glpk we are getting status as ok and trmination criterion as other. \\\\\n",
        "Here the termination condition is not meaningfull, as from this we cannot say wheather our problem has a solution, it is unfeasible or it has unbounded solutions."
      ]
    },
    {
      "cell_type": "code",
      "metadata": {
        "id": "_67YtBIZuUfX"
      },
      "source": [
        "!apt-get install -y -qq coinor-cbc"
      ],
      "execution_count": 12,
      "outputs": []
    },
    {
      "cell_type": "markdown",
      "metadata": {
        "id": "iwhH0t1Ru486"
      },
      "source": [
        "**Solving using cbc solver**"
      ]
    },
    {
      "cell_type": "code",
      "metadata": {
        "id": "Jz7W_Gs-uXWZ"
      },
      "source": [
        "opt_cbc = SolverFactory('cbc')"
      ],
      "execution_count": 13,
      "outputs": []
    },
    {
      "cell_type": "code",
      "metadata": {
        "colab": {
          "base_uri": "https://localhost:8080/"
        },
        "id": "BQRHzzqVuegb",
        "outputId": "785523b7-aba7-4e8b-a0fc-e643473fbf33"
      },
      "source": [
        "result2 = opt_cbc.solve(model_lab3)\n",
        "print(result2)\n",
        "\n",
        "print('Solver status:', result2.solver.status)\n",
        "print('Solver termination condition:',result2.solver.termination_condition)"
      ],
      "execution_count": 14,
      "outputs": [
        {
          "output_type": "stream",
          "text": [
            "WARNING: Loading a SolverResults object with a warning status into\n",
            "    model.name=\"unknown\";\n",
            "      - termination condition: infeasible\n",
            "      - message from solver: <undefined>\n",
            "\n",
            "Problem: \n",
            "- Name: unknown\n",
            "  Lower bound: None\n",
            "  Upper bound: inf\n",
            "  Number of objectives: 1\n",
            "  Number of constraints: 4\n",
            "  Number of variables: 4\n",
            "  Number of nonzeros: 3\n",
            "  Sense: minimize\n",
            "Solver: \n",
            "- Status: warning\n",
            "  User time: -1.0\n",
            "  System time: 0.0\n",
            "  Wallclock time: 0.0\n",
            "  Termination condition: infeasible\n",
            "  Termination message: Model was proven to be infeasible.\n",
            "  Statistics: \n",
            "    Branch and bound: \n",
            "      Number of bounded subproblems: 0\n",
            "      Number of created subproblems: 0\n",
            "    Black box: \n",
            "      Number of iterations: 0\n",
            "  Error rc: 0\n",
            "  Time: 0.01545262336730957\n",
            "\n",
            "Solver status: warning\n",
            "Solver termination condition: infeasible\n"
          ],
          "name": "stdout"
        }
      ]
    },
    {
      "cell_type": "markdown",
      "metadata": {
        "id": "OLRVK973wEet"
      },
      "source": [
        "Solving with cbc we are getting status as warning and trmination criterion as infeasible. \\\\\n",
        "Here the termination condition is meaningfull, as from this we can say that our problem is infeasible."
      ]
    },
    {
      "cell_type": "markdown",
      "metadata": {
        "id": "nYeFZ00KxuzM"
      },
      "source": [
        "The reason for the infeasibility is as follows, \\\\\n",
        "if we add the constraint 1 and 2 times of constraint 2, we gets $3x_2 + 6x_3 \\leq 4$ and then if we add this obtained inequality to the constraint 3, we gets  $2x_1 + 7x_3 \\leq -2$ \\\\\n",
        "But as $x_1,x_2 \\text{ and } x_3 $ are non negative. So, we cannot have any set of values for $x_1,x_2 \\text{ and } x_3 $ satisfying the last obtained inequality. \\\\\n",
        "Hence, the problem is infeasible."
      ]
    },
    {
      "cell_type": "markdown",
      "metadata": {
        "id": "AVRxVa-CzlZv"
      },
      "source": [
        "# Exercise 1 part 2"
      ]
    },
    {
      "cell_type": "markdown",
      "metadata": {
        "id": "0gh2Y4kDzuXx"
      },
      "source": [
        "**(a)**"
      ]
    },
    {
      "cell_type": "code",
      "metadata": {
        "id": "5_vIdlh8z5WH"
      },
      "source": [
        "model_lab3.objective.set_sense(maximize)"
      ],
      "execution_count": 15,
      "outputs": []
    },
    {
      "cell_type": "code",
      "metadata": {
        "colab": {
          "base_uri": "https://localhost:8080/"
        },
        "id": "km-U_CTx0N4D",
        "outputId": "4beeb627-9300-4656-fd73-811ac8e662ee"
      },
      "source": [
        "model_lab3.pprint()"
      ],
      "execution_count": 16,
      "outputs": [
        {
          "output_type": "stream",
          "text": [
            "2 Set Declarations\n",
            "    constraints_index : Size=1, Index=None, Ordered=Insertion\n",
            "        Key  : Dimen : Domain : Size : Members\n",
            "        None :     1 :    Any :    3 : {1, 2, 3}\n",
            "    x_index : Size=1, Index=None, Ordered=False\n",
            "        Key  : Dimen : Domain : Size : Members\n",
            "        None :     1 :    Any :    3 : {0, 1, 2}\n",
            "\n",
            "1 Var Declarations\n",
            "    x : Size=3, Index=x_index\n",
            "        Key : Lower : Value : Upper : Fixed : Stale : Domain\n",
            "          0 :     1 :  None :   inf : False :  True :  Reals\n",
            "          1 :     2 :  None :   inf : False :  True :  Reals\n",
            "          2 :     1 :  None :   inf : False :  True :  Reals\n",
            "\n",
            "1 Objective Declarations\n",
            "    objective : Size=1, Index=None, Active=True\n",
            "        Key  : Active : Sense    : Expression\n",
            "        None :   True : maximize : x[0] - 2.0*x[1] + 3*x[2]\n",
            "\n",
            "1 Constraint Declarations\n",
            "    constraints : Size=3, Index=constraints_index, Active=True\n",
            "        Key : Lower : Body                   : Upper : Active\n",
            "          1 :  -Inf : 2*x[0] + x[1] + 2*x[2] :  10.0 :   True\n",
            "          2 :  -Inf : - x[0] + x[1] + 2*x[2] :  -3.0 :   True\n",
            "          3 :  -Inf : 2*x[0] - 3*x[1] + x[2] :  -6.0 :   True\n",
            "\n",
            "5 Declarations: x_index x constraints_index constraints objective\n"
          ],
          "name": "stdout"
        }
      ]
    },
    {
      "cell_type": "code",
      "metadata": {
        "colab": {
          "base_uri": "https://localhost:8080/"
        },
        "id": "ubDrByW40yNS",
        "outputId": "be19b21a-9d6a-4163-fa3a-5ede13e2e893"
      },
      "source": [
        "result3 = opt_cbc.solve(model_lab3)\n",
        "print(result3)\n",
        "\n",
        "print('Solver status:', result3.solver.status)\n",
        "print('Solver termination condition:',result3.solver.termination_condition)"
      ],
      "execution_count": 17,
      "outputs": [
        {
          "output_type": "stream",
          "text": [
            "WARNING: Loading a SolverResults object with a warning status into\n",
            "    model.name=\"unknown\";\n",
            "      - termination condition: infeasible\n",
            "      - message from solver: <undefined>\n",
            "\n",
            "Problem: \n",
            "- Name: unknown\n",
            "  Lower bound: -inf\n",
            "  Upper bound: None\n",
            "  Number of objectives: 1\n",
            "  Number of constraints: 4\n",
            "  Number of variables: 4\n",
            "  Number of nonzeros: 3\n",
            "  Sense: maximize\n",
            "Solver: \n",
            "- Status: warning\n",
            "  User time: -1.0\n",
            "  System time: 0.0\n",
            "  Wallclock time: 0.0\n",
            "  Termination condition: infeasible\n",
            "  Termination message: Model was proven to be infeasible.\n",
            "  Statistics: \n",
            "    Branch and bound: \n",
            "      Number of bounded subproblems: 0\n",
            "      Number of created subproblems: 0\n",
            "    Black box: \n",
            "      Number of iterations: 0\n",
            "  Error rc: 0\n",
            "  Time: 0.021813631057739258\n",
            "\n",
            "Solver status: warning\n",
            "Solver termination condition: infeasible\n"
          ],
          "name": "stdout"
        }
      ]
    },
    {
      "cell_type": "markdown",
      "metadata": {
        "id": "r5KQx0VH1BSW"
      },
      "source": [
        "Solver status: warning \\\\\n",
        "Solver termination condition: infeasible \\\\\n",
        "Again here also the constraints are all same as before. So, due to the same reason, as explained in Part 1, the problem is infeasible"
      ]
    },
    {
      "cell_type": "markdown",
      "metadata": {
        "id": "EsPkGjB81j3-"
      },
      "source": [
        "**(b)**"
      ]
    },
    {
      "cell_type": "code",
      "metadata": {
        "colab": {
          "base_uri": "https://localhost:8080/"
        },
        "id": "cgcgeFpd03Zm",
        "outputId": "95d0aeb8-e09a-40a0-a62c-932b6289d966"
      },
      "source": [
        "#returning to original problem\n",
        "model_lab3.objective.set_sense(minimize)\n",
        "#setting upper bound\n",
        "model_lab3.x[1].setub(8)\n",
        "\n",
        "model_lab3.pprint()"
      ],
      "execution_count": 18,
      "outputs": [
        {
          "output_type": "stream",
          "text": [
            "2 Set Declarations\n",
            "    constraints_index : Size=1, Index=None, Ordered=Insertion\n",
            "        Key  : Dimen : Domain : Size : Members\n",
            "        None :     1 :    Any :    3 : {1, 2, 3}\n",
            "    x_index : Size=1, Index=None, Ordered=False\n",
            "        Key  : Dimen : Domain : Size : Members\n",
            "        None :     1 :    Any :    3 : {0, 1, 2}\n",
            "\n",
            "1 Var Declarations\n",
            "    x : Size=3, Index=x_index\n",
            "        Key : Lower : Value : Upper : Fixed : Stale : Domain\n",
            "          0 :     1 :  None :   inf : False :  True :  Reals\n",
            "          1 :     2 :  None :     8 : False :  True :  Reals\n",
            "          2 :     1 :  None :   inf : False :  True :  Reals\n",
            "\n",
            "1 Objective Declarations\n",
            "    objective : Size=1, Index=None, Active=True\n",
            "        Key  : Active : Sense    : Expression\n",
            "        None :   True : minimize : x[0] - 2.0*x[1] + 3*x[2]\n",
            "\n",
            "1 Constraint Declarations\n",
            "    constraints : Size=3, Index=constraints_index, Active=True\n",
            "        Key : Lower : Body                   : Upper : Active\n",
            "          1 :  -Inf : 2*x[0] + x[1] + 2*x[2] :  10.0 :   True\n",
            "          2 :  -Inf : - x[0] + x[1] + 2*x[2] :  -3.0 :   True\n",
            "          3 :  -Inf : 2*x[0] - 3*x[1] + x[2] :  -6.0 :   True\n",
            "\n",
            "5 Declarations: x_index x constraints_index constraints objective\n"
          ],
          "name": "stdout"
        }
      ]
    },
    {
      "cell_type": "code",
      "metadata": {
        "colab": {
          "base_uri": "https://localhost:8080/"
        },
        "id": "buZNA7kA2YUc",
        "outputId": "8ae79934-c08c-46cd-a0c9-7019f6d65f40"
      },
      "source": [
        "result4 = opt_cbc.solve(model_lab3)\n",
        "print(result4)\n",
        "\n",
        "print('Solver status:', result4.solver.status)\n",
        "print('Solver termination condition:',result4.solver.termination_condition)"
      ],
      "execution_count": 19,
      "outputs": [
        {
          "output_type": "stream",
          "text": [
            "WARNING: Loading a SolverResults object with a warning status into\n",
            "    model.name=\"unknown\";\n",
            "      - termination condition: infeasible\n",
            "      - message from solver: <undefined>\n",
            "\n",
            "Problem: \n",
            "- Name: unknown\n",
            "  Lower bound: None\n",
            "  Upper bound: inf\n",
            "  Number of objectives: 1\n",
            "  Number of constraints: 4\n",
            "  Number of variables: 4\n",
            "  Number of nonzeros: 3\n",
            "  Sense: minimize\n",
            "Solver: \n",
            "- Status: warning\n",
            "  User time: -1.0\n",
            "  System time: 0.0\n",
            "  Wallclock time: 0.01\n",
            "  Termination condition: infeasible\n",
            "  Termination message: Model was proven to be infeasible.\n",
            "  Statistics: \n",
            "    Branch and bound: \n",
            "      Number of bounded subproblems: 0\n",
            "      Number of created subproblems: 0\n",
            "    Black box: \n",
            "      Number of iterations: 0\n",
            "  Error rc: 0\n",
            "  Time: 0.026656389236450195\n",
            "\n",
            "Solver status: warning\n",
            "Solver termination condition: infeasible\n"
          ],
          "name": "stdout"
        }
      ]
    },
    {
      "cell_type": "markdown",
      "metadata": {
        "id": "zPNdTJB_31hx"
      },
      "source": [
        "Solver status: warning \\\\\n",
        "Solver termination condition: infeasible  \\\\\n",
        "\n",
        "Here a new constraint is introduced as upper bound, which do not have any influence on the conclusion we obtained in part 1. So, due to the same reason, as explained in Part 1, the problem is infeasible."
      ]
    },
    {
      "cell_type": "markdown",
      "metadata": {
        "id": "-ewcWJ1F4ea8"
      },
      "source": [
        "**(c)**"
      ]
    },
    {
      "cell_type": "code",
      "metadata": {
        "colab": {
          "base_uri": "https://localhost:8080/"
        },
        "id": "tyCbpbWH2bMD",
        "outputId": "cbf7e5a6-a474-4c85-91cd-90c9d36b2724"
      },
      "source": [
        "#returning to original problem\n",
        "model_lab3.x[1].setub(np.inf)\n",
        "#adding new constraint\n",
        "new_constr_coef = [0,-1,1]\n",
        "new_constr_rhs = 9\n",
        "model_lab3.constraints.add(sum(new_constr_coef[j]*model_lab3.x[j] for j in col_indices) <= new_constr_rhs)\n",
        "\n",
        "model_lab3.pprint()"
      ],
      "execution_count": 20,
      "outputs": [
        {
          "output_type": "stream",
          "text": [
            "2 Set Declarations\n",
            "    constraints_index : Size=1, Index=None, Ordered=Insertion\n",
            "        Key  : Dimen : Domain : Size : Members\n",
            "        None :     1 :    Any :    4 : {1, 2, 3, 4}\n",
            "    x_index : Size=1, Index=None, Ordered=False\n",
            "        Key  : Dimen : Domain : Size : Members\n",
            "        None :     1 :    Any :    3 : {0, 1, 2}\n",
            "\n",
            "1 Var Declarations\n",
            "    x : Size=3, Index=x_index\n",
            "        Key : Lower : Value : Upper : Fixed : Stale : Domain\n",
            "          0 :     1 :  None :   inf : False :  True :  Reals\n",
            "          1 :     2 :  None :   inf : False :  True :  Reals\n",
            "          2 :     1 :  None :   inf : False :  True :  Reals\n",
            "\n",
            "1 Objective Declarations\n",
            "    objective : Size=1, Index=None, Active=True\n",
            "        Key  : Active : Sense    : Expression\n",
            "        None :   True : minimize : x[0] - 2.0*x[1] + 3*x[2]\n",
            "\n",
            "1 Constraint Declarations\n",
            "    constraints : Size=4, Index=constraints_index, Active=True\n",
            "        Key : Lower : Body                   : Upper : Active\n",
            "          1 :  -Inf : 2*x[0] + x[1] + 2*x[2] :  10.0 :   True\n",
            "          2 :  -Inf : - x[0] + x[1] + 2*x[2] :  -3.0 :   True\n",
            "          3 :  -Inf : 2*x[0] - 3*x[1] + x[2] :  -6.0 :   True\n",
            "          4 :  -Inf :          - x[1] + x[2] :   9.0 :   True\n",
            "\n",
            "5 Declarations: x_index x constraints_index constraints objective\n"
          ],
          "name": "stdout"
        }
      ]
    },
    {
      "cell_type": "code",
      "metadata": {
        "colab": {
          "base_uri": "https://localhost:8080/"
        },
        "id": "BKcFuUx52bAP",
        "outputId": "eba1b9a9-744f-4005-c583-83253e0db674"
      },
      "source": [
        "result5 = opt_cbc.solve(model_lab3)\n",
        "print(result5)\n",
        "\n",
        "print('Solver status:', result5.solver.status)\n",
        "print('Solver termination condition:',result5.solver.termination_condition)"
      ],
      "execution_count": 21,
      "outputs": [
        {
          "output_type": "stream",
          "text": [
            "WARNING: Loading a SolverResults object with a warning status into\n",
            "    model.name=\"unknown\";\n",
            "      - termination condition: infeasible\n",
            "      - message from solver: <undefined>\n",
            "\n",
            "Problem: \n",
            "- Name: unknown\n",
            "  Lower bound: None\n",
            "  Upper bound: inf\n",
            "  Number of objectives: 1\n",
            "  Number of constraints: 5\n",
            "  Number of variables: 4\n",
            "  Number of nonzeros: 3\n",
            "  Sense: minimize\n",
            "Solver: \n",
            "- Status: warning\n",
            "  User time: -1.0\n",
            "  System time: 0.0\n",
            "  Wallclock time: 0.0\n",
            "  Termination condition: infeasible\n",
            "  Termination message: Model was proven to be infeasible.\n",
            "  Statistics: \n",
            "    Branch and bound: \n",
            "      Number of bounded subproblems: 0\n",
            "      Number of created subproblems: 0\n",
            "    Black box: \n",
            "      Number of iterations: 0\n",
            "  Error rc: 0\n",
            "  Time: 0.026578426361083984\n",
            "\n",
            "Solver status: warning\n",
            "Solver termination condition: infeasible\n"
          ],
          "name": "stdout"
        }
      ]
    },
    {
      "cell_type": "markdown",
      "metadata": {
        "id": "cLnYYwYy6bpe"
      },
      "source": [
        "Solver status: warning \\\\\n",
        "Solver termination condition: infeasible  \\\\\n",
        "\n",
        "Since before introducing the new constraint, 3 constraints did not had any feasible solution then also after adding a new constraint the set of 4 constraints will not have feasible solution."
      ]
    },
    {
      "cell_type": "markdown",
      "metadata": {
        "id": "3UI4CwJs80SQ"
      },
      "source": [
        "**(d)**"
      ]
    },
    {
      "cell_type": "code",
      "metadata": {
        "id": "rXLiAdHZ2a1N"
      },
      "source": [
        "#returning to original problem by deactivating the constraint introduced in (c)\n",
        "model_lab3.constraints[4].deactivate()"
      ],
      "execution_count": 22,
      "outputs": []
    },
    {
      "cell_type": "code",
      "metadata": {
        "colab": {
          "base_uri": "https://localhost:8080/"
        },
        "id": "vRQfOAsw85PN",
        "outputId": "e609ab39-f3ef-4938-e160-5d6bc0e0aa02"
      },
      "source": [
        "#to deactivate constraint 1 and add the new constraint we do the following\n",
        "model_lab3.constraints[1].deactivate()\n",
        "model_lab3.constraints.add(expr = model_lab3.x[0]+ model_lab3.x[1] >= 45)"
      ],
      "execution_count": 23,
      "outputs": [
        {
          "output_type": "execute_result",
          "data": {
            "text/plain": [
              "<pyomo.core.base.constraint._GeneralConstraintData at 0x7ff784fd3e50>"
            ]
          },
          "metadata": {
            "tags": []
          },
          "execution_count": 23
        }
      ]
    },
    {
      "cell_type": "code",
      "metadata": {
        "id": "x6psJBYg9q0p"
      },
      "source": [
        "#constructing new objective function\n",
        "model_lab3.new_objective = Objective(expr = model_lab3.x[0] + model_lab3.x[1]+model_lab3.x[2])"
      ],
      "execution_count": 24,
      "outputs": []
    },
    {
      "cell_type": "code",
      "metadata": {
        "colab": {
          "base_uri": "https://localhost:8080/"
        },
        "id": "3gHMj7HH9cA5",
        "outputId": "eb1a43a1-8ecf-4d7f-cfd0-52cac9733dc3"
      },
      "source": [
        "#deactivate the old objective\n",
        "model_lab3.objective.deactivate()\n",
        "\n",
        "model_lab3.pprint()"
      ],
      "execution_count": 25,
      "outputs": [
        {
          "output_type": "stream",
          "text": [
            "2 Set Declarations\n",
            "    constraints_index : Size=1, Index=None, Ordered=Insertion\n",
            "        Key  : Dimen : Domain : Size : Members\n",
            "        None :     1 :    Any :    5 : {1, 2, 3, 4, 5}\n",
            "    x_index : Size=1, Index=None, Ordered=False\n",
            "        Key  : Dimen : Domain : Size : Members\n",
            "        None :     1 :    Any :    3 : {0, 1, 2}\n",
            "\n",
            "1 Var Declarations\n",
            "    x : Size=3, Index=x_index\n",
            "        Key : Lower : Value : Upper : Fixed : Stale : Domain\n",
            "          0 :     1 :  None :   inf : False :  True :  Reals\n",
            "          1 :     2 :  None :   inf : False :  True :  Reals\n",
            "          2 :     1 :  None :   inf : False :  True :  Reals\n",
            "\n",
            "2 Objective Declarations\n",
            "    new_objective : Size=1, Index=None, Active=True\n",
            "        Key  : Active : Sense    : Expression\n",
            "        None :   True : minimize : x[0] + x[1] + x[2]\n",
            "    objective : Size=1, Index=None, Active=False\n",
            "        Key  : Active : Sense    : Expression\n",
            "        None :  False : minimize : x[0] - 2.0*x[1] + 3*x[2]\n",
            "\n",
            "1 Constraint Declarations\n",
            "    constraints : Size=5, Index=constraints_index, Active=True\n",
            "        Key : Lower : Body                   : Upper : Active\n",
            "          1 :  -Inf : 2*x[0] + x[1] + 2*x[2] :  10.0 :  False\n",
            "          2 :  -Inf : - x[0] + x[1] + 2*x[2] :  -3.0 :   True\n",
            "          3 :  -Inf : 2*x[0] - 3*x[1] + x[2] :  -6.0 :   True\n",
            "          4 :  -Inf :          - x[1] + x[2] :   9.0 :  False\n",
            "          5 :  45.0 :            x[0] + x[1] :  +Inf :   True\n",
            "\n",
            "6 Declarations: x_index x constraints_index constraints objective new_objective\n"
          ],
          "name": "stdout"
        }
      ]
    },
    {
      "cell_type": "code",
      "metadata": {
        "colab": {
          "base_uri": "https://localhost:8080/"
        },
        "id": "S6RWOeO_2Zx3",
        "outputId": "82e18774-4abf-4647-dd03-474fdb15a2f3"
      },
      "source": [
        "result6 = opt_cbc.solve(model_lab3)\n",
        "print(result6)\n",
        "\n",
        "print('Solver status:', result6.solver.status)\n",
        "print('Solver termination condition:',result6.solver.termination_condition)"
      ],
      "execution_count": 26,
      "outputs": [
        {
          "output_type": "stream",
          "text": [
            "\n",
            "Problem: \n",
            "- Name: unknown\n",
            "  Lower bound: 46.0\n",
            "  Upper bound: 46.0\n",
            "  Number of objectives: 1\n",
            "  Number of constraints: 4\n",
            "  Number of variables: 4\n",
            "  Number of nonzeros: 2\n",
            "  Sense: minimize\n",
            "Solver: \n",
            "- Status: ok\n",
            "  User time: -1.0\n",
            "  System time: 0.0\n",
            "  Wallclock time: 0.0\n",
            "  Termination condition: optimal\n",
            "  Termination message: Model was solved to optimality (subject to tolerances), and an optimal solution is available.\n",
            "  Statistics: \n",
            "    Branch and bound: \n",
            "      Number of bounded subproblems: None\n",
            "      Number of created subproblems: None\n",
            "    Black box: \n",
            "      Number of iterations: 2\n",
            "  Error rc: 0\n",
            "  Time: 0.020568132400512695\n",
            "Solution: \n",
            "- number of solutions: 0\n",
            "  number of solutions displayed: 0\n",
            "\n",
            "Solver status: ok\n",
            "Solver termination condition: optimal\n"
          ],
          "name": "stdout"
        }
      ]
    },
    {
      "cell_type": "markdown",
      "metadata": {
        "id": "95Kj-R62_Vjp"
      },
      "source": [
        "Solver status: ok \\\\\n",
        "Solver termination condition: optimal \\\\\n",
        "\n",
        "Since, when the initial 3 constraints were included together they were causing problem, as we have seen in all above parts.\n",
        "\n",
        "Here we replaced the 1st constraint with a new one. And the new set of 3 constraints gives feasible solution. hence we are getting optimal solution."
      ]
    },
    {
      "cell_type": "code",
      "metadata": {
        "colab": {
          "base_uri": "https://localhost:8080/"
        },
        "id": "1eaNdf0P_GPu",
        "outputId": "2321788e-a9ab-4522-e833-ebbaf9f215e6"
      },
      "source": [
        "# display solution\n",
        "print('\\nObjective = ', model_lab3.new_objective())\n",
        "\n",
        "print('\\nDecision Variables')\n",
        "for i in col_indices:\n",
        "  print('x[',i,'] = ', model_lab3.x[i].value)\n",
        "print('\\nConstraints')\n",
        "model_lab3.constraints.display()"
      ],
      "execution_count": 27,
      "outputs": [
        {
          "output_type": "stream",
          "text": [
            "\n",
            "Objective =  46.0\n",
            "\n",
            "Decision Variables\n",
            "x[ 0 ] =  25.6\n",
            "x[ 1 ] =  19.4\n",
            "x[ 2 ] =  1.0\n",
            "\n",
            "Constraints\n",
            "constraints : Size=5\n",
            "    Key : Lower : Body               : Upper\n",
            "      2 :  None : -4.200000000000003 :  -3.0\n",
            "      3 :  None : -5.999999999999993 :  -6.0\n",
            "      5 :  45.0 :               45.0 :  None\n"
          ],
          "name": "stdout"
        }
      ]
    },
    {
      "cell_type": "markdown",
      "metadata": {
        "id": "wuXtBgWoA4hk"
      },
      "source": [
        "Here constraints $ 2x_1-3x_2+x_3 \\leq -6 \\text{ and } x_1+x_2 \\geq 45 $  are active"
      ]
    },
    {
      "cell_type": "code",
      "metadata": {
        "id": "Gn9ILAM-AlPf"
      },
      "source": [
        ""
      ],
      "execution_count": 27,
      "outputs": []
    }
  ]
}