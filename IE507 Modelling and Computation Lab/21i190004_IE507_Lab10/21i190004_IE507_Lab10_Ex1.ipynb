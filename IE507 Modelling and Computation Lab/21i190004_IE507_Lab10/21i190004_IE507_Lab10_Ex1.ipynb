{
  "nbformat": 4,
  "nbformat_minor": 0,
  "metadata": {
    "colab": {
      "name": "21i190004_IE507_Lab10_Ex1.ipynb",
      "provenance": [],
      "collapsed_sections": []
    },
    "kernelspec": {
      "name": "python3",
      "display_name": "Python 3"
    },
    "language_info": {
      "name": "python"
    }
  },
  "cells": [
    {
      "cell_type": "markdown",
      "metadata": {
        "id": "cjAOGOHIVdtp"
      },
      "source": [
        "The provided file has been slightly changed by me as per requirement. \\\\\n",
        "new file has been attached"
      ]
    },
    {
      "cell_type": "code",
      "metadata": {
        "id": "1jmv7zqSGsy_"
      },
      "source": [
        "#installing required packages\n",
        "!pip install -q pyomo\n",
        "from pyomo.environ import *\n",
        "import numpy as np\n",
        "import pandas as pd\n",
        "\n",
        "#importing data\n",
        "data = pd.read_csv('pq.csv')\n",
        "data_main=data.copy()\n",
        "\n",
        "#creating a list of route names\n",
        "listm=[list(data.columns).copy()]\n",
        "del listm[0][0]\n",
        "\n",
        "#creating another list of route names\n",
        "h_list=list(data_main.columns)\n",
        "h_list.remove('route')"
      ],
      "execution_count": null,
      "outputs": []
    },
    {
      "cell_type": "code",
      "metadata": {
        "id": "vwuK-F2OG08A"
      },
      "source": [
        "#a function is defined, it makes two groups one of the routes which intersect with route in 1st row and other of those who do not.\n",
        "#it also make the diagonal entries 1, for convinience.\n",
        "#for example when it is used once it, removes the rows and columns of those routes which do not intersect with route in 1st row.\n",
        "#So, using it multiple time we can group those routes which intersect with M1 in min. no. of groups as required.\n",
        "\n",
        "def min_colour_fn(df):\n",
        "  h_list=list(df.columns)\n",
        "  i=1\n",
        "  while i < len(h_list):\n",
        "    df.loc[i-1, h_list[i]] = 0\n",
        "    i=i+1\n",
        "\n",
        "  list1=[]\n",
        "  dlist=[]\n",
        "  global listm\n",
        "  for i in df.columns:\n",
        "    if df[i][0]==1:\n",
        "      list1.append(h_list.index(i))\n",
        "      for lst in listm:\n",
        "        if i in lst:\n",
        "          lst.remove(i)\n",
        "      dlist.append(i)\n",
        "  listm.append(dlist)\n",
        "\n",
        "  list2=[]\n",
        "  for i in df.columns:\n",
        "    if h_list.index(i)!=0:\n",
        "      if df[i][0]!=1:\n",
        "        list2.append(i)\n",
        "\n",
        "  if len(list1)>=1:\n",
        "    i1=1\n",
        "    df.drop(list2,axis=1,inplace=True)\n",
        "    row_drop_list=[x for x in range(len(h_list)-1) if x+1 not in list1]\n",
        "    df=df.drop(row_drop_list,inplace=True)\n",
        "  else:\n",
        "    i1=0\n",
        "    df.drop(list2[1],axis=1,inplace=True)\n",
        "    df.drop(0,axis=0,inplace=True)\n",
        "\n",
        "  return df,i1"
      ],
      "execution_count": null,
      "outputs": []
    },
    {
      "cell_type": "code",
      "metadata": {
        "id": "2EgpgRSLG3t0"
      },
      "source": [
        "#we are using above function multiple times so as to get optimal number of groups for routes with which M1 intersects\n",
        "#after using this the routes(including M1) with which M1 do not intersects are still grouped together. They will be dealt by next function.\n",
        "k=1\n",
        "while data.shape[0]>1:\n",
        "  if min_colour_fn(data)[1]==1:\n",
        "    k=k+1\n",
        "  else:\n",
        "    k=k\n",
        "  data.to_csv('data.csv')\n",
        "  data=pd.read_csv('data.csv').drop('Unnamed: 0',axis=1)"
      ],
      "execution_count": null,
      "outputs": []
    },
    {
      "cell_type": "code",
      "metadata": {
        "id": "syspn38jRdQ7"
      },
      "source": [
        "#this function takes those elements which cannot be present in group of non intersecting routes(with M1) and tries to accomodate in already present groups\n",
        "#in listm(with the help of given intersection data). If a route from group of non intersecting routes(with M1) caannot be accomodated with any of already \n",
        "#present groups than another group is formed.\n",
        "def fn():\n",
        "  global listm\n",
        "  for i in listm[0]:\n",
        "    for j in listm[0]:\n",
        "      if h_list.index(i)<h_list.index(j):\n",
        "        if data_main[j][h_list.index(i)]==1:\n",
        "          listm[0].remove(j)\n",
        "          i2=1\n",
        "          for k in listm[1:]:\n",
        "            if i2==1:\n",
        "              i1=1\n",
        "              for p in k:\n",
        "                if h_list.index(j)<h_list.index(p):\n",
        "                  if data_main[p][h_list.index(j)]==1:\n",
        "                    i1=0\n",
        "                elif h_list.index(j)>h_list.index(p):\n",
        "                  if data_main[j][h_list.index(p)]==1:\n",
        "                    i1=0\n",
        "              if i1==1:\n",
        "                k.append(j)\n",
        "                i2=0\n",
        "          if i2==1:\n",
        "            listm.append([j])\n",
        "  return listm"
      ],
      "execution_count": null,
      "outputs": []
    },
    {
      "cell_type": "code",
      "metadata": {
        "id": "lmkPiIJVSgl8"
      },
      "source": [
        "#We will stop using just above function when their is no change in 'listm'\n",
        "#and the routes within a list in listm can be colored with same colour\n",
        "#minimum no. of colour which can be used will be the length of listm after this code\n",
        "listM=listm.copy()\n",
        "while listM != fn():\n",
        "  listM=listm.copy()\n",
        "  fn()"
      ],
      "execution_count": null,
      "outputs": []
    },
    {
      "cell_type": "code",
      "metadata": {
        "colab": {
          "base_uri": "https://localhost:8080/"
        },
        "id": "12DWS-F9THdt",
        "outputId": "bb272dc0-0fac-4907-91e4-e5fe0685d455"
      },
      "source": [
        "listm"
      ],
      "execution_count": null,
      "outputs": [
        {
          "output_type": "execute_result",
          "data": {
            "text/plain": [
              "[['M1', 'M2', 'M17', '61'],\n",
              " ['M5', '12', '50', '18', '21', '62'],\n",
              " ['M8', '60'],\n",
              " ['M10', '16', '67'],\n",
              " ['M13', '27', '68'],\n",
              " ['M4', '37', '63'],\n",
              " ['M6']]"
            ]
          },
          "metadata": {},
          "execution_count": 6
        }
      ]
    },
    {
      "cell_type": "code",
      "metadata": {
        "colab": {
          "base_uri": "https://localhost:8080/"
        },
        "id": "E_RSJv7pIa5V",
        "outputId": "5e41bea6-ecd5-4741-e433-dd8451415a14"
      },
      "source": [
        "len(listm)"
      ],
      "execution_count": null,
      "outputs": [
        {
          "output_type": "execute_result",
          "data": {
            "text/plain": [
              "7"
            ]
          },
          "metadata": {},
          "execution_count": 7
        }
      ]
    },
    {
      "cell_type": "code",
      "metadata": {
        "colab": {
          "base_uri": "https://localhost:8080/"
        },
        "id": "SdxT2taVUcVH",
        "outputId": "7d21b9f0-00a9-463f-95eb-6fb242cf92ca"
      },
      "source": [
        "for i in listm:\n",
        "  print(i)"
      ],
      "execution_count": null,
      "outputs": [
        {
          "output_type": "stream",
          "name": "stdout",
          "text": [
            "['M1', 'M2', 'M17', '61']\n",
            "['M5', '12', '50', '18', '21', '62']\n",
            "['M8', '60']\n",
            "['M10', '16', '67']\n",
            "['M13', '27', '68']\n",
            "['M4', '37', '63']\n",
            "['M6']\n"
          ]
        }
      ]
    },
    {
      "cell_type": "markdown",
      "metadata": {
        "id": "xEycUX3-cd6s"
      },
      "source": [
        "The above result show that The routes in a group can be coloured same and a group should have different colour than other groups.\n",
        "\n",
        "Hence, 7 is the possible minimum number of colours which can be used."
      ]
    }
  ]
}